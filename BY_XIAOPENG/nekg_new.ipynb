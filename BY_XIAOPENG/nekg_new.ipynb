{
 "cells": [
  {
   "cell_type": "code",
   "execution_count": 1,
   "id": "61aea872",
   "metadata": {},
   "outputs": [],
   "source": [
    "import logging\n",
    "logging.basicConfig(format='%(asctime)s : %(levelname)s : %(message)s', level=logging.INFO) \n",
    "import matplotlib.pyplot as plt\n",
    "from sklearn.manifold import TSNE"
   ]
  },
  {
   "cell_type": "code",
   "execution_count": 2,
   "id": "a935739c",
   "metadata": {},
   "outputs": [
    {
     "name": "stderr",
     "output_type": "stream",
     "text": [
      "INFO: Successfully saved requirements file in ./requirements.txt\n"
     ]
    }
   ],
   "source": [
    "!pipreqs ./"
   ]
  },
  {
   "cell_type": "code",
   "execution_count": 2,
   "id": "b477c7fb",
   "metadata": {},
   "outputs": [],
   "source": [
    "import pandas as pd\n",
    "import numpy as np"
   ]
  },
  {
   "cell_type": "code",
   "execution_count": 3,
   "id": "d149e415",
   "metadata": {},
   "outputs": [],
   "source": [
    "import tensorflow as tf"
   ]
  },
  {
   "cell_type": "code",
   "execution_count": 4,
   "id": "df9836a3",
   "metadata": {},
   "outputs": [],
   "source": [
    "import ampligraph\n",
    "from ampligraph.latent_features import TransE,RandomBaseline,DistMult,ComplEx,HolE,ConvE,ConvKB\n"
   ]
  },
  {
   "cell_type": "code",
   "execution_count": 5,
   "id": "f0d138a9",
   "metadata": {},
   "outputs": [],
   "source": [
    "# Knowledge Graph Construction.\n",
    "def graph_construction(start, stop, step):\n",
    "    kg = pd.DataFrame()\n",
    "    kg['h'] = [i for i in np.arange(start, stop, step)]\n",
    "    kg['r'] = ['isLessThan'] * int((stop-start) / step)\n",
    "    kg['t'] = [i for i in np.arange(step, stop+1, step)]\n",
    "    kg[\"h\"] = kg.h.values.astype(str)\n",
    "    kg[\"t\"] = kg.t.values.astype(str)\n",
    "    return kg"
   ]
  },
  {
   "cell_type": "code",
   "execution_count": 6,
   "id": "0c864d9b",
   "metadata": {},
   "outputs": [
    {
     "data": {
      "text/html": [
       "<div>\n",
       "<style scoped>\n",
       "    .dataframe tbody tr th:only-of-type {\n",
       "        vertical-align: middle;\n",
       "    }\n",
       "\n",
       "    .dataframe tbody tr th {\n",
       "        vertical-align: top;\n",
       "    }\n",
       "\n",
       "    .dataframe thead th {\n",
       "        text-align: right;\n",
       "    }\n",
       "</style>\n",
       "<table border=\"1\" class=\"dataframe\">\n",
       "  <thead>\n",
       "    <tr style=\"text-align: right;\">\n",
       "      <th></th>\n",
       "      <th>h</th>\n",
       "      <th>r</th>\n",
       "      <th>t</th>\n",
       "    </tr>\n",
       "  </thead>\n",
       "  <tbody>\n",
       "    <tr>\n",
       "      <th>0</th>\n",
       "      <td>0</td>\n",
       "      <td>isLessThan</td>\n",
       "      <td>5</td>\n",
       "    </tr>\n",
       "    <tr>\n",
       "      <th>1</th>\n",
       "      <td>5</td>\n",
       "      <td>isLessThan</td>\n",
       "      <td>10</td>\n",
       "    </tr>\n",
       "    <tr>\n",
       "      <th>2</th>\n",
       "      <td>10</td>\n",
       "      <td>isLessThan</td>\n",
       "      <td>15</td>\n",
       "    </tr>\n",
       "    <tr>\n",
       "      <th>3</th>\n",
       "      <td>15</td>\n",
       "      <td>isLessThan</td>\n",
       "      <td>20</td>\n",
       "    </tr>\n",
       "    <tr>\n",
       "      <th>4</th>\n",
       "      <td>20</td>\n",
       "      <td>isLessThan</td>\n",
       "      <td>25</td>\n",
       "    </tr>\n",
       "  </tbody>\n",
       "</table>\n",
       "</div>"
      ],
      "text/plain": [
       "    h           r   t\n",
       "0   0  isLessThan   5\n",
       "1   5  isLessThan  10\n",
       "2  10  isLessThan  15\n",
       "3  15  isLessThan  20\n",
       "4  20  isLessThan  25"
      ]
     },
     "execution_count": 6,
     "metadata": {},
     "output_type": "execute_result"
    }
   ],
   "source": [
    "start = 0\n",
    "stop = 1000\n",
    "step = 5\n",
    "kg_df = graph_construction(start, stop, step)\n",
    "kg_df.head()"
   ]
  },
  {
   "cell_type": "code",
   "execution_count": 7,
   "id": "963702a7",
   "metadata": {},
   "outputs": [
    {
     "name": "stdout",
     "output_type": "stream",
     "text": [
      "WARNING - All triples will be processed in the same batch (batches_count=1). When processing large graphs it is recommended to batch the input knowledge graph instead.\n"
     ]
    }
   ],
   "source": [
    "#-RandomBaseline\n",
    "kg_array = kg_df.to_numpy().astype(str)\n",
    "model = RandomBaseline()\n",
    "model.fit(kg_array)"
   ]
  },
  {
   "cell_type": "code",
   "execution_count": 8,
   "id": "92788c57",
   "metadata": {},
   "outputs": [
    {
     "name": "stderr",
     "output_type": "stream",
     "text": [
      "Average TransE Loss:   1.715053: 100%|████████████████████████████████████████████| 200/200 [00:12<00:00, 15.44epoch/s]\n"
     ]
    }
   ],
   "source": [
    "##kg embedding-TransE\n",
    "kg_array = kg_df.to_numpy().astype(str)\n",
    "model = TransE(epochs=200, k=300, verbose=True)\n",
    "model.fit(kg_array)"
   ]
  },
  {
   "cell_type": "code",
   "execution_count": 34,
   "id": "08a18435",
   "metadata": {},
   "outputs": [
    {
     "name": "stderr",
     "output_type": "stream",
     "text": [
      "Average DistMult Loss:   0.056055: 100%|██████████████████████████████████████████| 200/200 [00:12<00:00, 15.70epoch/s]\n"
     ]
    }
   ],
   "source": [
    "#-DistMult\n",
    "kg_array = kg_df.to_numpy().astype(str)\n",
    "model = DistMult(epochs=200, k=300, verbose=True)\n",
    "model.fit(kg_array)"
   ]
  },
  {
   "cell_type": "code",
   "execution_count": 43,
   "id": "b9b6e446",
   "metadata": {},
   "outputs": [
    {
     "name": "stderr",
     "output_type": "stream",
     "text": [
      "Average ComplEx Loss:   0.025238: 100%|███████████████████████████████████████████| 200/200 [00:18<00:00, 10.62epoch/s]\n"
     ]
    }
   ],
   "source": [
    "#-ComplEx\n",
    "kg_array = kg_df.to_numpy().astype(str)\n",
    "model = ComplEx(epochs=200, k=300, verbose=True)\n",
    "model.fit(kg_array)"
   ]
  },
  {
   "cell_type": "code",
   "execution_count": 52,
   "id": "0e48c3b0",
   "metadata": {},
   "outputs": [
    {
     "name": "stderr",
     "output_type": "stream",
     "text": [
      "Average HolE Loss:   0.662338: 100%|██████████████████████████████████████████████| 200/200 [00:19<00:00, 10.06epoch/s]\n"
     ]
    }
   ],
   "source": [
    "#-HolE\n",
    "kg_array = kg_df.to_numpy().astype(str)\n",
    "model = HolE(epochs=200, k=300, verbose=True)\n",
    "model.fit(kg_array)"
   ]
  },
  {
   "cell_type": "code",
   "execution_count": 61,
   "id": "3516ad37",
   "metadata": {},
   "outputs": [
    {
     "name": "stderr",
     "output_type": "stream",
     "text": [
      "Average Loss:   1.245033: 100%|███████████████████████████████████████████████████| 200/200 [03:25<00:00,  1.03s/epoch]\n"
     ]
    }
   ],
   "source": [
    "#-ConvE\n",
    "kg_array = kg_df.to_numpy().astype(str)\n",
    "model = ConvE(epochs=200, k=300, verbose=True)\n",
    "model.fit(kg_array)"
   ]
  },
  {
   "cell_type": "code",
   "execution_count": 70,
   "id": "5969dcec",
   "metadata": {},
   "outputs": [
    {
     "name": "stderr",
     "output_type": "stream",
     "text": [
      "Average ConvKB Loss:   0.035850: 100%|████████████████████████████████████████████| 200/200 [00:26<00:00,  7.50epoch/s]\n"
     ]
    }
   ],
   "source": [
    "#-ConvKB\n",
    "kg_array = kg_df.to_numpy().astype(str)\n",
    "model = ConvKB(epochs=200, k=300, verbose=True)\n",
    "model.fit(kg_array)"
   ]
  },
  {
   "cell_type": "code",
   "execution_count": 71,
   "id": "5a5a0275",
   "metadata": {},
   "outputs": [
    {
     "data": {
      "text/html": [
       "<div>\n",
       "<style scoped>\n",
       "    .dataframe tbody tr th:only-of-type {\n",
       "        vertical-align: middle;\n",
       "    }\n",
       "\n",
       "    .dataframe tbody tr th {\n",
       "        vertical-align: top;\n",
       "    }\n",
       "\n",
       "    .dataframe thead th {\n",
       "        text-align: right;\n",
       "    }\n",
       "</style>\n",
       "<table border=\"1\" class=\"dataframe\">\n",
       "  <thead>\n",
       "    <tr style=\"text-align: right;\">\n",
       "      <th></th>\n",
       "      <th>tSNE_1</th>\n",
       "      <th>tSNE_2</th>\n",
       "      <th>magnitude</th>\n",
       "    </tr>\n",
       "  </thead>\n",
       "  <tbody>\n",
       "    <tr>\n",
       "      <th>0</th>\n",
       "      <td>4.657066</td>\n",
       "      <td>0.191267</td>\n",
       "      <td>0</td>\n",
       "    </tr>\n",
       "    <tr>\n",
       "      <th>1</th>\n",
       "      <td>-5.533893</td>\n",
       "      <td>-0.457811</td>\n",
       "      <td>5</td>\n",
       "    </tr>\n",
       "    <tr>\n",
       "      <th>2</th>\n",
       "      <td>5.019544</td>\n",
       "      <td>-0.176834</td>\n",
       "      <td>10</td>\n",
       "    </tr>\n",
       "    <tr>\n",
       "      <th>3</th>\n",
       "      <td>-5.099383</td>\n",
       "      <td>-0.539453</td>\n",
       "      <td>15</td>\n",
       "    </tr>\n",
       "    <tr>\n",
       "      <th>4</th>\n",
       "      <td>5.202123</td>\n",
       "      <td>-1.956354</td>\n",
       "      <td>20</td>\n",
       "    </tr>\n",
       "  </tbody>\n",
       "</table>\n",
       "</div>"
      ],
      "text/plain": [
       "     tSNE_1    tSNE_2  magnitude\n",
       "0  4.657066  0.191267          0\n",
       "1 -5.533893 -0.457811          5\n",
       "2  5.019544 -0.176834         10\n",
       "3 -5.099383 -0.539453         15\n",
       "4  5.202123 -1.956354         20"
      ]
     },
     "execution_count": 71,
     "metadata": {},
     "output_type": "execute_result"
    }
   ],
   "source": [
    "# Dimensionality reduction using t-SNE---visualize the embedding\n",
    "embeddings = model.get_embeddings(entities=[str(j) for j in np.arange(start, stop+1, step)], embedding_type='entity')\n",
    "embeddings = np.asarray(embeddings, dtype='float64')\n",
    "embeddings_tSNE = TSNE(n_components=2).fit_transform(embeddings)\n",
    "embeddings_tSNE = pd.DataFrame(embeddings_tSNE, columns=['tSNE_1', 'tSNE_2'])\n",
    "embeddings_tSNE['magnitude'] = [i for i in range(start, stop+1, step)]\n",
    "embeddings_tSNE.head()"
   ]
  },
  {
   "cell_type": "code",
   "execution_count": 72,
   "id": "5a44a6e8",
   "metadata": {},
   "outputs": [
    {
     "data": {
      "image/png": "[encoded data removed]",
      "text/plain": [
       "<Figure size 432x288 with 1 Axes>"
      ]
     },
     "metadata": {
      "needs_background": "light"
     },
     "output_type": "display_data"
    }
   ],
   "source": [
    "# Visualize the embedding vectors in 2-D space.\n",
    "plt.scatter(embeddings_tSNE.tSNE_1, embeddings_tSNE.tSNE_2, c=embeddings_tSNE.magnitude, s=10)\n",
    "plt.title('2-D t-SNE Visualization of 200 Integers’ Embedding Vectors')\n",
    "plt.xlabel('tSNE_1')\n",
    "plt.ylabel('tSNE_2')\n",
    "plt.show()"
   ]
  },
  {
   "cell_type": "code",
   "execution_count": 73,
   "id": "461b5855",
   "metadata": {},
   "outputs": [],
   "source": [
    "# Measure the similarity between numbers--处理oov number\n",
    "def cal_sim(x1, x2, x3):\n",
    "    return (x2-x1)/(x3-x1)"
   ]
  },
  {
   "cell_type": "code",
   "execution_count": 74,
   "id": "eb3c0917",
   "metadata": {},
   "outputs": [],
   "source": [
    "# Obtain embedding vectors for OOVs.\n",
    "OOVs = range(0, 1000)\n",
    "OOV_embeddings = []\n",
    "for i in OOVs:\n",
    "    for j in np.arange(start, stop+1, step):\n",
    "        if i < j:\n",
    "            upper = j\n",
    "            lower = j-step\n",
    "            e1 = model.get_embeddings(str(lower), embedding_type='entity')\n",
    "            e2 = model.get_embeddings(str(upper), embedding_type='entity')\n",
    "            s2 = cal_sim(lower, i, upper)\n",
    "            s1 = 1-s2            \n",
    "            OOV_embeddings.append(e1 * s1 + e2 * s2)\n",
    "            break"
   ]
  },
  {
   "cell_type": "code",
   "execution_count": 75,
   "id": "769b9d46",
   "metadata": {},
   "outputs": [
    {
     "data": {
      "text/html": [
       "<div>\n",
       "<style scoped>\n",
       "    .dataframe tbody tr th:only-of-type {\n",
       "        vertical-align: middle;\n",
       "    }\n",
       "\n",
       "    .dataframe tbody tr th {\n",
       "        vertical-align: top;\n",
       "    }\n",
       "\n",
       "    .dataframe thead th {\n",
       "        text-align: right;\n",
       "    }\n",
       "</style>\n",
       "<table border=\"1\" class=\"dataframe\">\n",
       "  <thead>\n",
       "    <tr style=\"text-align: right;\">\n",
       "      <th></th>\n",
       "      <th>tSNE_1</th>\n",
       "      <th>tSNE_2</th>\n",
       "      <th>magnitude</th>\n",
       "    </tr>\n",
       "  </thead>\n",
       "  <tbody>\n",
       "    <tr>\n",
       "      <th>0</th>\n",
       "      <td>11.002681</td>\n",
       "      <td>17.660982</td>\n",
       "      <td>0</td>\n",
       "    </tr>\n",
       "    <tr>\n",
       "      <th>1</th>\n",
       "      <td>11.414953</td>\n",
       "      <td>17.419996</td>\n",
       "      <td>1</td>\n",
       "    </tr>\n",
       "    <tr>\n",
       "      <th>2</th>\n",
       "      <td>12.152664</td>\n",
       "      <td>16.916800</td>\n",
       "      <td>2</td>\n",
       "    </tr>\n",
       "    <tr>\n",
       "      <th>3</th>\n",
       "      <td>13.209444</td>\n",
       "      <td>16.621037</td>\n",
       "      <td>3</td>\n",
       "    </tr>\n",
       "    <tr>\n",
       "      <th>4</th>\n",
       "      <td>14.162666</td>\n",
       "      <td>16.316187</td>\n",
       "      <td>4</td>\n",
       "    </tr>\n",
       "  </tbody>\n",
       "</table>\n",
       "</div>"
      ],
      "text/plain": [
       "      tSNE_1     tSNE_2  magnitude\n",
       "0  11.002681  17.660982          0\n",
       "1  11.414953  17.419996          1\n",
       "2  12.152664  16.916800          2\n",
       "3  13.209444  16.621037          3\n",
       "4  14.162666  16.316187          4"
      ]
     },
     "execution_count": 75,
     "metadata": {},
     "output_type": "execute_result"
    }
   ],
   "source": [
    "# Dimensionality reduction using t-SNE.\n",
    "OOV_embeddings = np.asarray(OOV_embeddings, dtype='float64')\n",
    "OOV_embeddings_tSNE = TSNE(n_components=2).fit_transform(OOV_embeddings)\n",
    "OOV_embeddings_tSNE = pd.DataFrame(OOV_embeddings_tSNE, columns=['tSNE_1', 'tSNE_2'])\n",
    "OOV_embeddings_tSNE['magnitude'] = OOVs\n",
    "OOV_embeddings_tSNE.head()"
   ]
  },
  {
   "cell_type": "code",
   "execution_count": 76,
   "id": "a1f4352f",
   "metadata": {},
   "outputs": [
    {
     "data": {
      "image/png": "[encoded data removed]",
      "text/plain": [
       "<Figure size 432x288 with 1 Axes>"
      ]
     },
     "metadata": {
      "needs_background": "light"
     },
     "output_type": "display_data"
    }
   ],
   "source": [
    "# Visualize the embedding vectors of OOVs in 2-D space.\n",
    "plt.scatter(OOV_embeddings_tSNE.tSNE_1, OOV_embeddings_tSNE.tSNE_2, c=OOV_embeddings_tSNE.magnitude, s=5)\n",
    "plt.title('2-D t-SNE Visualization of OOVs\\' Embedding Vectors')\n",
    "plt.xlabel('tSNE_1')\n",
    "plt.ylabel('tSNE_2')\n",
    "plt.show()"
   ]
  },
  {
   "cell_type": "code",
   "execution_count": 77,
   "id": "16c86c52",
   "metadata": {},
   "outputs": [
    {
     "data": {
      "text/plain": [
       "(1000, 300)"
      ]
     },
     "execution_count": 77,
     "metadata": {},
     "output_type": "execute_result"
    }
   ],
   "source": [
    "OOV_embeddings.shape"
   ]
  },
  {
   "cell_type": "code",
   "execution_count": 78,
   "id": "a2c16912",
   "metadata": {},
   "outputs": [],
   "source": [
    "np.save(\"covkb 1-999 300d.npy\",OOV_embeddings)"
   ]
  },
  {
   "cell_type": "code",
   "execution_count": null,
   "id": "69e32218",
   "metadata": {},
   "outputs": [],
   "source": []
  },
  {
   "cell_type": "code",
   "execution_count": null,
   "id": "b22268aa",
   "metadata": {},
   "outputs": [],
   "source": []
  }
 ],
 "metadata": {
  "kernelspec": {
   "display_name": "Python 3.10.6 64-bit",
   "language": "python",
   "name": "python3"
  },
  "language_info": {
   "codemirror_mode": {
    "name": "ipython",
    "version": 3
   },
   "file_extension": ".py",
   "mimetype": "text/x-python",
   "name": "python",
   "nbconvert_exporter": "python",
   "pygments_lexer": "ipython3",
   "version": "3.10.6"
  },
  "vscode": {
   "interpreter": {
    "hash": "e7370f93d1d0cde622a1f8e1c04877d8463912d04d973331ad4851f04de6915a"
   }
  }
 },
 "nbformat": 4,
 "nbformat_minor": 5
}
