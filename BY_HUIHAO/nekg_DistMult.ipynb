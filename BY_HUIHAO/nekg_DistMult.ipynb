{
 "cells": [
  {
   "cell_type": "markdown",
   "metadata": {},
   "source": [
    "### This notebook presents how to obtain number embeddings with NEKG."
   ]
  },
  {
   "cell_type": "markdown",
   "metadata": {},
   "source": [
    "<ul>\n",
    "    <li> In <b>Section 3.1</b>, we construct the knowledge, generating 200 triples (e.g., ['0','isLessThan', '50'], ['100','isLessThan', '150'], etc.).</li><br>\n",
    "    <li>In <b>Section 3.2</b>, we embed the graph in a 100-D vector space using a standard graph embedding method TransE. We visualize the embedding vectors using t-SNE in a 2-D space.</li><br>\n",
    "    <li>In <b>Section 3.3</b>, we embed the integers from 500 to 1000 (i.e., [500, 1000)) using the interpolation method and visualize the embedding vectors using t-SNE in a 2-D space.</li>\n",
    "</ul>\n",
    "\n",
    "\n"
   ]
  },
  {
   "cell_type": "code",
   "execution_count": 45,
   "metadata": {},
   "outputs": [],
   "source": [
    "%matplotlib inline\n",
    "import os\n",
    "import numpy as np\n",
    "import pandas as pd\n",
    "import ampligraph\n",
    "import ampligraph.latent_features as AL\n",
    "\n",
    "import matplotlib.pyplot as plt\n",
    "from sklearn.manifold import TSNE\n",
    "os.environ[\"CUDA_VISIBLE_DEVICES\"] = \"0\""
   ]
  },
  {
   "cell_type": "markdown",
   "metadata": {},
   "source": [
    "<b>VERSION:</b>\n",
    "<ul>\n",
    "    <li>python 3.7.3</li>\n",
    "    <li>tensorflow 1.15.0</li>\n",
    "    <li>numpy 1.19.5</li>\n",
    "    <li>ampligraph 1.3.2</li>\n",
    "    <li>pandas 0.24.1</li>\n",
    "    <li>sklearn 0.21.2</li>\n",
    "    <li>matplotlib 3.4.2</li>\n",
    "</ul>"
   ]
  },
  {
   "cell_type": "markdown",
   "metadata": {},
   "source": [
    "### 3.1 Knowledge Graph Construction"
   ]
  },
  {
   "cell_type": "code",
   "execution_count": 46,
   "metadata": {},
   "outputs": [],
   "source": [
    "# Knowledge Graph Construction.\n",
    "def graph_construction(start, stop, step):\n",
    "    kg = pd.DataFrame()\n",
    "    kg['h'] = [i for i in np.arange(start, stop, step)]\n",
    "    kg['r'] = ['isLessThan'] * int((stop-start) / step)\n",
    "    kg['t'] = [i for i in np.arange(step, stop+1, step)]\n",
    "    kg[\"h\"] = kg.h.values.astype(str)\n",
    "    kg[\"t\"] = kg.t.values.astype(str)\n",
    "    return kg"
   ]
  },
  {
   "cell_type": "code",
   "execution_count": 47,
   "metadata": {},
   "outputs": [
    {
     "data": {
      "text/html": [
       "<div>\n",
       "<style scoped>\n",
       "    .dataframe tbody tr th:only-of-type {\n",
       "        vertical-align: middle;\n",
       "    }\n",
       "\n",
       "    .dataframe tbody tr th {\n",
       "        vertical-align: top;\n",
       "    }\n",
       "\n",
       "    .dataframe thead th {\n",
       "        text-align: right;\n",
       "    }\n",
       "</style>\n",
       "<table border=\"1\" class=\"dataframe\">\n",
       "  <thead>\n",
       "    <tr style=\"text-align: right;\">\n",
       "      <th></th>\n",
       "      <th>h</th>\n",
       "      <th>r</th>\n",
       "      <th>t</th>\n",
       "    </tr>\n",
       "  </thead>\n",
       "  <tbody>\n",
       "    <tr>\n",
       "      <th>0</th>\n",
       "      <td>0</td>\n",
       "      <td>isLessThan</td>\n",
       "      <td>50</td>\n",
       "    </tr>\n",
       "    <tr>\n",
       "      <th>1</th>\n",
       "      <td>50</td>\n",
       "      <td>isLessThan</td>\n",
       "      <td>100</td>\n",
       "    </tr>\n",
       "    <tr>\n",
       "      <th>2</th>\n",
       "      <td>100</td>\n",
       "      <td>isLessThan</td>\n",
       "      <td>150</td>\n",
       "    </tr>\n",
       "    <tr>\n",
       "      <th>3</th>\n",
       "      <td>150</td>\n",
       "      <td>isLessThan</td>\n",
       "      <td>200</td>\n",
       "    </tr>\n",
       "    <tr>\n",
       "      <th>4</th>\n",
       "      <td>200</td>\n",
       "      <td>isLessThan</td>\n",
       "      <td>250</td>\n",
       "    </tr>\n",
       "  </tbody>\n",
       "</table>\n",
       "</div>"
      ],
      "text/plain": [
       "     h           r    t\n",
       "0    0  isLessThan   50\n",
       "1   50  isLessThan  100\n",
       "2  100  isLessThan  150\n",
       "3  150  isLessThan  200\n",
       "4  200  isLessThan  250"
      ]
     },
     "execution_count": 47,
     "metadata": {},
     "output_type": "execute_result"
    }
   ],
   "source": [
    "start = 0\n",
    "stop = 10000\n",
    "step = 50\n",
    "kg_df = graph_construction(start, stop, step)\n",
    "kg_df.head()"
   ]
  },
  {
   "cell_type": "markdown",
   "metadata": {},
   "source": [
    "### 3.2 Knowledge Graph Embedding"
   ]
  },
  {
   "cell_type": "code",
   "execution_count": 48,
   "metadata": {},
   "outputs": [
    {
     "name": "stdout",
     "output_type": "stream",
     "text": [
      "WARNING - All triples will be processed in the same batch (batches_count=1). When processing large graphs it is recommended to batch the input knowledge graph instead.\n"
     ]
    },
    {
     "name": "stderr",
     "output_type": "stream",
     "text": [
      "2022-11-08 20:01:34.894781: E tensorflow/stream_executor/cuda/cuda_gpu_executor.cc:969] could not open file to read NUMA node: /sys/bus/pci/devices/0000:01:00.0/numa_node\n",
      "Your kernel may have been built without NUMA support.\n",
      "2022-11-08 20:01:34.894843: I tensorflow/core/common_runtime/gpu/gpu_device.cc:1618] Found device 0 with properties: \n",
      "name: NVIDIA GeForce GTX 1660 Ti major: 7 minor: 5 memoryClockRate(GHz): 1.59\n",
      "pciBusID: 0000:01:00.0\n",
      "2022-11-08 20:01:34.895029: W tensorflow/stream_executor/platform/default/dso_loader.cc:55] Could not load dynamic library 'libcudart.so.10.0'; dlerror: libcudart.so.10.0: cannot open shared object file: No such file or directory; LD_LIBRARY_PATH: :/usr/local/cuda-11.8/lib64\n",
      "2022-11-08 20:01:34.895229: W tensorflow/stream_executor/platform/default/dso_loader.cc:55] Could not load dynamic library 'libcublas.so.10.0'; dlerror: libcublas.so.10.0: cannot open shared object file: No such file or directory; LD_LIBRARY_PATH: :/usr/local/cuda-11.8/lib64\n",
      "2022-11-08 20:01:34.895363: W tensorflow/stream_executor/platform/default/dso_loader.cc:55] Could not load dynamic library 'libcufft.so.10.0'; dlerror: libcufft.so.10.0: cannot open shared object file: No such file or directory; LD_LIBRARY_PATH: :/usr/local/cuda-11.8/lib64\n",
      "2022-11-08 20:01:34.895554: W tensorflow/stream_executor/platform/default/dso_loader.cc:55] Could not load dynamic library 'libcurand.so.10.0'; dlerror: libcurand.so.10.0: cannot open shared object file: No such file or directory; LD_LIBRARY_PATH: :/usr/local/cuda-11.8/lib64\n",
      "2022-11-08 20:01:34.895732: W tensorflow/stream_executor/platform/default/dso_loader.cc:55] Could not load dynamic library 'libcusolver.so.10.0'; dlerror: libcusolver.so.10.0: cannot open shared object file: No such file or directory; LD_LIBRARY_PATH: :/usr/local/cuda-11.8/lib64\n",
      "2022-11-08 20:01:34.895938: W tensorflow/stream_executor/platform/default/dso_loader.cc:55] Could not load dynamic library 'libcusparse.so.10.0'; dlerror: libcusparse.so.10.0: cannot open shared object file: No such file or directory; LD_LIBRARY_PATH: :/usr/local/cuda-11.8/lib64\n",
      "2022-11-08 20:01:34.896208: W tensorflow/stream_executor/platform/default/dso_loader.cc:55] Could not load dynamic library 'libcudnn.so.7'; dlerror: libcudnn.so.7: cannot open shared object file: No such file or directory; LD_LIBRARY_PATH: :/usr/local/cuda-11.8/lib64\n",
      "2022-11-08 20:01:34.896308: W tensorflow/core/common_runtime/gpu/gpu_device.cc:1641] Cannot dlopen some GPU libraries. Please make sure the missing libraries mentioned above are installed properly if you would like to use GPU. Follow the guide at https://www.tensorflow.org/install/gpu for how to download and setup the required libraries for your platform.\n",
      "Skipping registering GPU devices...\n",
      "2022-11-08 20:01:34.896342: I tensorflow/core/common_runtime/gpu/gpu_device.cc:1159] Device interconnect StreamExecutor with strength 1 edge matrix:\n",
      "2022-11-08 20:01:34.896385: I tensorflow/core/common_runtime/gpu/gpu_device.cc:1165]      0 \n",
      "2022-11-08 20:01:34.896437: I tensorflow/core/common_runtime/gpu/gpu_device.cc:1178] 0:   N \n"
     ]
    }
   ],
   "source": [
    "# Embedding Model.\n",
    "kg_array = kg_df.to_numpy().astype(str)\n",
    "model = AL.DistMult(batches_count=1, seed=555, epochs=200,\n",
    "                 k=1000, loss='pairwise',\n",
    "                 loss_params={'margin':10})# the k = 100 is the dimension of the embedding space.\n",
    "model.fit(kg_array)"
   ]
  },
  {
   "cell_type": "code",
   "execution_count": 49,
   "metadata": {},
   "outputs": [
    {
     "data": {
      "text/plain": [
       "array([-0.05642011, -0.16947362,  0.06610308,  0.10913206,  0.1509012 ,\n",
       "       -0.10180005,  0.11684676, -0.02847663,  0.16462128,  0.07399635,\n",
       "        0.10015559, -0.1755665 , -0.20165595,  0.16870742, -0.0815049 ,\n",
       "       -0.03935723, -0.19431132, -0.18415041, -0.07190295,  0.19246548,\n",
       "        0.12828182, -0.19156367,  0.07964071,  0.12270948, -0.09301005,\n",
       "        0.18740246, -0.2052386 ,  0.20816235,  0.09727126,  0.1559445 ,\n",
       "       -0.13479637,  0.08473536, -0.10402268, -0.09737743,  0.19835238,\n",
       "       -0.19538182, -0.22773075, -0.10913353, -0.07358215, -0.1382846 ,\n",
       "       -0.21958338,  0.15052256,  0.145475  ,  0.15145141,  0.13399395,\n",
       "        0.11867698, -0.17874336,  0.01978884,  0.03018567, -0.16355588,\n",
       "       -0.10937149,  0.09622508,  0.0229409 ,  0.15283294,  0.13400345,\n",
       "       -0.01672452,  0.13740298,  0.11280531, -0.11759415, -0.1048321 ,\n",
       "       -0.14225644,  0.05367604,  0.09794185,  0.09847533,  0.10364325,\n",
       "        0.13937138, -0.1481229 ,  0.14823689, -0.19482408, -0.15569167,\n",
       "       -0.10734119, -0.22511765,  0.14863384,  0.03525757,  0.14755134,\n",
       "       -0.1500818 , -0.16264124,  0.16646598,  0.04688911, -0.10558131,\n",
       "       -0.07170301,  0.02062477, -0.03282181, -0.08630832, -0.20308417,\n",
       "        0.11673383, -0.18461521, -0.00607878, -0.02562129,  0.12671785,\n",
       "        0.07601335, -0.1908151 ,  0.12722737, -0.16641264,  0.16409682,\n",
       "       -0.11516083,  0.06881727,  0.16619083, -0.14416121, -0.20068462,\n",
       "        0.07352103,  0.12777212, -0.05823475,  0.13726117,  0.18588316,\n",
       "        0.16921996, -0.1490213 , -0.14675039, -0.10742473,  0.16384915,\n",
       "       -0.13330676,  0.15583543,  0.17085937,  0.14639886, -0.23234485,\n",
       "       -0.0722618 ,  0.1745901 , -0.1443574 , -0.18471324,  0.19625443,\n",
       "       -0.20007269,  0.1566528 ,  0.15489322,  0.17972548, -0.16737711,\n",
       "       -0.01926981,  0.04405858, -0.11482081,  0.01603683, -0.17489515,\n",
       "        0.1654165 , -0.11248878,  0.14835116, -0.16007935, -0.17017546,\n",
       "       -0.15039265, -0.19859241,  0.08267332, -0.0362481 ,  0.22531119,\n",
       "        0.09002947, -0.12110449,  0.12318381,  0.14132628, -0.07061873,\n",
       "        0.11828186,  0.131206  , -0.0482097 , -0.10556268, -0.1832108 ,\n",
       "       -0.07193682, -0.16249417,  0.21859984, -0.05698485,  0.12717524,\n",
       "        0.15999286, -0.05396682, -0.11821633,  0.14251736,  0.14898229,\n",
       "       -0.04629303,  0.04436498,  0.15118688, -0.1407185 , -0.1219703 ,\n",
       "        0.12150345, -0.12527238, -0.11067202,  0.19761276, -0.1027092 ,\n",
       "        0.16090633,  0.13139069,  0.03059359, -0.08820955, -0.15614523,\n",
       "       -0.15666564, -0.04112257,  0.15844159, -0.14260134,  0.10687011,\n",
       "       -0.10534965, -0.12102065, -0.21187273, -0.16272503,  0.14097854,\n",
       "       -0.07109226, -0.17229106, -0.1596021 , -0.16223964, -0.1649408 ,\n",
       "        0.19317521,  0.1657233 , -0.13894923,  0.19110507,  0.13381337,\n",
       "       -0.1900451 ,  0.11288839, -0.0589124 ,  0.19934386, -0.17299321,\n",
       "        0.09937019,  0.10590806, -0.12233683, -0.20041208, -0.15443388,\n",
       "       -0.01623268,  0.16636537,  0.17830843, -0.12701397,  0.09333258,\n",
       "        0.05741663,  0.07018633,  0.12935059, -0.15646604,  0.16198409,\n",
       "        0.14271489,  0.19384629,  0.13144542,  0.1306587 , -0.17181173,\n",
       "        0.19594295,  0.11992181,  0.1322049 ,  0.19557105,  0.16145976,\n",
       "       -0.13969375, -0.05649435,  0.08648065, -0.00900897, -0.12274528,\n",
       "        0.13192135,  0.16081758,  0.18404172, -0.07778559,  0.07552712,\n",
       "       -0.1784847 , -0.09240454,  0.13591962,  0.09463844,  0.16462629,\n",
       "       -0.12302669, -0.164521  ,  0.13416997,  0.14511912,  0.20700768,\n",
       "       -0.04045449, -0.10617515,  0.16697305, -0.20861055, -0.00891809,\n",
       "       -0.16806264,  0.15675387, -0.01334369, -0.13113385,  0.17701143,\n",
       "        0.06539065, -0.07153849, -0.1596967 , -0.08678231, -0.06828323,\n",
       "       -0.17473735,  0.1992424 , -0.11787618, -0.11245169, -0.04589101,\n",
       "        0.1261363 , -0.14361289,  0.15986988, -0.19674179,  0.17686898,\n",
       "       -0.04809556,  0.13449365,  0.22591059, -0.15342154,  0.0668515 ,\n",
       "        0.03335754, -0.1665266 ,  0.12457828,  0.03918578, -0.13382298,\n",
       "       -0.16882004, -0.01019446,  0.05449329,  0.19975436,  0.00848062,\n",
       "        0.18846427,  0.19852662,  0.1356316 , -0.1562889 ,  0.17071038,\n",
       "        0.19642334,  0.13265021,  0.11053617,  0.16466221,  0.19346008,\n",
       "        0.08228161, -0.11168475, -0.00665163,  0.09592353,  0.14901856,\n",
       "       -0.12389003,  0.04832357, -0.10417107,  0.23261216,  0.04587854,\n",
       "        0.08955994,  0.14869118, -0.13281944,  0.09760294, -0.17746909,\n",
       "        0.21965961,  0.10741102, -0.12422303, -0.19490348, -0.14716229,\n",
       "        0.14776757, -0.1084168 ,  0.14275835,  0.13071741,  0.16597338,\n",
       "        0.2055984 ,  0.21098544,  0.13280198,  0.11837327,  0.06658062,\n",
       "       -0.13456051, -0.22020556, -0.20538123, -0.07097424, -0.12571484,\n",
       "       -0.08547861, -0.15486619, -0.18477942, -0.169644  , -0.11449616,\n",
       "        0.15412593, -0.02345589,  0.1389329 ,  0.15490174,  0.18290742,\n",
       "        0.19712609, -0.03202021, -0.01173774, -0.20697758,  0.13680047,\n",
       "        0.05926893,  0.15201955, -0.08218747, -0.13000195, -0.12212319,\n",
       "        0.21583852, -0.12403593,  0.02929276, -0.14125843,  0.14311595,\n",
       "       -0.00149182, -0.05888257, -0.1061858 ,  0.13941255, -0.04860966,\n",
       "        0.17330182,  0.04742713, -0.12112443, -0.00322089,  0.13080765,\n",
       "        0.09078811,  0.193455  , -0.09731086,  0.09745661, -0.05863298,\n",
       "        0.01609361,  0.08438441, -0.17237201, -0.06947049, -0.10309823,\n",
       "        0.10300273,  0.11078157, -0.12827837,  0.19242908, -0.1932147 ,\n",
       "       -0.15968464,  0.02712284, -0.11929324, -0.19762975, -0.17959023,\n",
       "        0.10923292,  0.06720492,  0.03178268, -0.01732662,  0.17494488,\n",
       "        0.08057832,  0.01884112,  0.05296636,  0.0982256 , -0.05760883,\n",
       "       -0.09858242,  0.14716539, -0.07124043,  0.13817443,  0.16659948,\n",
       "        0.19442557,  0.08398061, -0.00456301,  0.0277444 , -0.19264203,\n",
       "       -0.14686747,  0.01776453,  0.16868044, -0.14335643, -0.06285026,\n",
       "        0.10913509,  0.04663964,  0.17874382, -0.14996977, -0.16403331,\n",
       "       -0.11934026, -0.03979399,  0.14742683, -0.11743859, -0.15049782,\n",
       "       -0.13057883,  0.13061312, -0.14758419, -0.18117426, -0.00130067,\n",
       "        0.17005284, -0.14181754, -0.15560554, -0.1901022 , -0.13256766,\n",
       "       -0.09560991, -0.10586092,  0.07404155,  0.08664926, -0.07921681,\n",
       "        0.15614542,  0.13505663,  0.14154713, -0.07029893,  0.14345406,\n",
       "       -0.19107838, -0.06183481,  0.11023952, -0.14860065,  0.08922732,\n",
       "       -0.21853982,  0.19682488,  0.14213854,  0.2098162 , -0.1624529 ,\n",
       "        0.13762674, -0.14019662,  0.14638084, -0.11134891, -0.0024141 ,\n",
       "       -0.16674073,  0.12828682,  0.16463181, -0.02100751, -0.15242454,\n",
       "        0.22533819, -0.08515646,  0.20591553,  0.05520671,  0.21881941,\n",
       "       -0.02578178,  0.20123899,  0.05212361, -0.18644994,  0.06921485,\n",
       "       -0.19346143, -0.18795103,  0.10797076, -0.16441858,  0.2038613 ,\n",
       "        0.20687604,  0.12190485, -0.07538824, -0.0616304 , -0.06778853,\n",
       "        0.10063838, -0.04155913,  0.15973957,  0.03550046,  0.22958986,\n",
       "        0.13667068, -0.03413846, -0.15195434,  0.0203128 , -0.05288703,\n",
       "        0.06247163,  0.0724383 ,  0.19643678,  0.10990906,  0.03427687,\n",
       "       -0.11179429,  0.14144121,  0.15352279, -0.03188569,  0.18755816,\n",
       "        0.19536825, -0.15132074, -0.1489245 ,  0.12078939,  0.1220322 ,\n",
       "        0.16672827, -0.16624476,  0.14123368,  0.00971811,  0.17228246,\n",
       "       -0.1168201 , -0.17591964, -0.1866249 , -0.235976  , -0.06189799,\n",
       "        0.14881894,  0.20072459, -0.20252149, -0.21631543, -0.08471679,\n",
       "       -0.17074133,  0.11751425,  0.10349791,  0.12067476,  0.11701973,\n",
       "        0.03320935,  0.05367739, -0.12571868, -0.01422045, -0.15436538,\n",
       "       -0.0910211 , -0.16381328, -0.21156481,  0.17992103, -0.23818173,\n",
       "        0.0805015 ,  0.00689825, -0.13867758, -0.20392233,  0.1407049 ,\n",
       "        0.16851231,  0.18465996,  0.21341208, -0.11140409,  0.19036233,\n",
       "        0.19234678, -0.18155624, -0.09979909, -0.06378498, -0.18823805,\n",
       "        0.01598224,  0.18384175,  0.00956684,  0.19189972,  0.01468356,\n",
       "       -0.13149604, -0.0360475 , -0.16546728,  0.11956673,  0.08144861,\n",
       "       -0.10227137,  0.07177334, -0.17590617, -0.14111722,  0.10879003,\n",
       "       -0.09258741, -0.1354913 ,  0.07774552, -0.10160992, -0.21471694,\n",
       "        0.16493158, -0.17929369, -0.08255833,  0.10560475, -0.11244019,\n",
       "        0.18884297,  0.14829524,  0.13350849, -0.19928335, -0.15813431,\n",
       "        0.132385  , -0.09775156, -0.03048852, -0.12920038,  0.04642219,\n",
       "       -0.08146971, -0.2044183 ,  0.21666361, -0.10051323, -0.16588016,\n",
       "       -0.08213165,  0.08528503,  0.14539072,  0.18236291, -0.17950758,\n",
       "       -0.17729211, -0.07315247,  0.16111837, -0.15419136, -0.13081749,\n",
       "       -0.04913603,  0.19009829,  0.0820475 ,  0.19498585, -0.0490789 ,\n",
       "        0.07556805, -0.20832275, -0.00516469, -0.07581732, -0.21877752,\n",
       "       -0.17315044, -0.17840698,  0.22812352, -0.12217712, -0.17509243,\n",
       "        0.17413355, -0.16821581, -0.11946642, -0.18694532,  0.04048703,\n",
       "       -0.08920821, -0.11033354,  0.15423688,  0.13813314,  0.18884285,\n",
       "       -0.06657313, -0.00592484, -0.15736979, -0.14193349, -0.12615575,\n",
       "       -0.14714296, -0.17772081,  0.1807587 , -0.18348968,  0.17090723,\n",
       "        0.08405977,  0.15274751,  0.18474025,  0.08758307, -0.17824243,\n",
       "        0.11015821, -0.16796187,  0.05348084,  0.16185127, -0.01445653,\n",
       "       -0.09151081,  0.07884694,  0.09277752,  0.10883021, -0.18886834,\n",
       "        0.18930231, -0.1586051 , -0.01894671, -0.08733196, -0.17708187,\n",
       "        0.10091142, -0.06620623, -0.17129037,  0.11735213, -0.21474804,\n",
       "       -0.00559589, -0.19337428,  0.13844532,  0.19584939,  0.1594701 ,\n",
       "        0.14409973, -0.0439896 ,  0.16378795, -0.12428428,  0.12778926,\n",
       "       -0.17122003,  0.10700076, -0.12397674,  0.03985403,  0.15280516,\n",
       "       -0.12235752, -0.16565469,  0.12731978, -0.18887563, -0.0882388 ,\n",
       "        0.09758051,  0.00260174,  0.11769538, -0.02091954,  0.08640371,\n",
       "        0.14623247, -0.01021806,  0.10628755,  0.17691737,  0.03957338,\n",
       "       -0.11039749, -0.05872986,  0.07812296, -0.1813304 , -0.21764296,\n",
       "       -0.17432776, -0.1560757 ,  0.10317596, -0.04417029,  0.17320643,\n",
       "        0.09293661, -0.19206059,  0.15360942,  0.06050863, -0.1917909 ,\n",
       "       -0.11235256,  0.13945971, -0.13718641, -0.10512973,  0.15238565,\n",
       "       -0.02738228, -0.05530876, -0.00839984,  0.16093513,  0.19545975,\n",
       "        0.1695667 ,  0.10639192, -0.01216422,  0.14578943, -0.20998333,\n",
       "       -0.11902981,  0.07805218, -0.07906223, -0.13107795,  0.12639485,\n",
       "        0.15799595,  0.19062468, -0.16703524,  0.03876588,  0.04560857,\n",
       "        0.15787052,  0.10641474, -0.15885258, -0.1822771 , -0.11358516,\n",
       "       -0.16308546, -0.02524751,  0.13198277, -0.16586265,  0.19255866,\n",
       "        0.19094722,  0.08110534, -0.15686229,  0.15775903,  0.14132051,\n",
       "       -0.15751807,  0.07479407, -0.13209969, -0.0577006 , -0.08406334,\n",
       "        0.09405819, -0.17435302,  0.11701024, -0.0588128 , -0.15278825,\n",
       "        0.04613693,  0.13199593, -0.17002991, -0.06446062, -0.06085427,\n",
       "       -0.13044666, -0.19710447,  0.11266385, -0.20391153, -0.15165928,\n",
       "       -0.04283241,  0.01733415, -0.13631715,  0.01375875, -0.17821428,\n",
       "        0.13941646, -0.14608206, -0.15866703, -0.04043077,  0.019278  ,\n",
       "        0.13473308, -0.08583039,  0.19471633, -0.15770082, -0.16131778,\n",
       "        0.10114379, -0.0073378 ,  0.13186954,  0.17990135, -0.00621746,\n",
       "       -0.10514019, -0.07564556,  0.21406224, -0.14471059,  0.15202175,\n",
       "        0.14466947, -0.19325823,  0.14199305, -0.04299153, -0.18830857,\n",
       "       -0.01896257,  0.13202684, -0.03365833, -0.05865455,  0.2256011 ,\n",
       "       -0.07788955, -0.1100788 , -0.11347042, -0.11980907, -0.17395566,\n",
       "       -0.1450788 ,  0.16027789,  0.07488497,  0.08944767, -0.00212266,\n",
       "       -0.07940184,  0.16344568,  0.07138592,  0.16275169,  0.16732353,\n",
       "       -0.15842374,  0.2107595 , -0.1447004 , -0.10589428, -0.09305619,\n",
       "       -0.05081257,  0.20075037, -0.12454905, -0.13323328, -0.18058945,\n",
       "       -0.05668809, -0.18527241, -0.18723701,  0.1272369 , -0.21135263,\n",
       "       -0.17506959, -0.04094399,  0.11972979,  0.11810912, -0.03096222,\n",
       "       -0.12017528, -0.14556246, -0.1415545 ,  0.04801331, -0.15469511,\n",
       "        0.13744399, -0.12033983, -0.0544608 , -0.18357961, -0.13696451,\n",
       "        0.18048468, -0.09997172,  0.14182855,  0.05750163,  0.08477414,\n",
       "       -0.06922509,  0.14464626, -0.0179478 ,  0.22832969, -0.21812072,\n",
       "        0.1862641 , -0.008955  , -0.1559371 , -0.02091262, -0.07422435,\n",
       "       -0.21739174, -0.14932589, -0.06832445, -0.01253428, -0.20489226,\n",
       "       -0.2288426 ,  0.14792778, -0.17954433, -0.16074963, -0.222899  ,\n",
       "       -0.17427155, -0.23880355, -0.1925387 , -0.16922662, -0.16095579,\n",
       "        0.19972035,  0.23105142,  0.14586543, -0.17546505,  0.19474058,\n",
       "        0.1779192 , -0.18671404,  0.19275433,  0.14178008,  0.17053187,\n",
       "        0.06475877,  0.18404345,  0.04264759, -0.1966502 ,  0.09697858,\n",
       "        0.19437353,  0.14169064,  0.01627505, -0.13393117, -0.13793787,\n",
       "       -0.03870613,  0.18923311, -0.02949345, -0.12209069, -0.04259713,\n",
       "       -0.17782125,  0.12764941, -0.03727847, -0.01787131,  0.14145328,\n",
       "       -0.18156278,  0.1179598 , -0.11084521,  0.16787809, -0.15734108,\n",
       "        0.15378334, -0.07269132,  0.21676563, -0.19793539,  0.15082794,\n",
       "       -0.17672563,  0.10972686,  0.09176367, -0.00317787, -0.11213303,\n",
       "       -0.11370342,  0.17060459, -0.12606338,  0.00033412, -0.08802322,\n",
       "        0.06596423,  0.03732755, -0.01844617, -0.14705625, -0.1633444 ,\n",
       "        0.10727369,  0.05793638,  0.01443007,  0.15688936, -0.09700935,\n",
       "       -0.14192954, -0.13692103,  0.06148485,  0.11585603, -0.07701468,\n",
       "       -0.00404757,  0.12694283, -0.16607766,  0.07233202,  0.03444188,\n",
       "        0.13514736, -0.1516751 , -0.1710889 ,  0.24606797, -0.12238967,\n",
       "       -0.12134696,  0.16118932, -0.21806964,  0.12025604,  0.12100187,\n",
       "       -0.09334455, -0.13219239,  0.21108483, -0.02732505,  0.12786196,\n",
       "        0.15557714,  0.11886483, -0.16088401,  0.2070508 , -0.18017827,\n",
       "        0.05961707, -0.16498768,  0.1487054 , -0.1543869 ,  0.14640197,\n",
       "        0.20192848, -0.22397403,  0.07977696, -0.00987073,  0.14934033,\n",
       "        0.03448448,  0.10231495, -0.1602244 ,  0.01318351,  0.00206316,\n",
       "       -0.09832241,  0.08825488, -0.17348516,  0.02534766, -0.16368389,\n",
       "        0.13988304,  0.16718352,  0.09170589, -0.10842694, -0.13734807,\n",
       "       -0.14859112, -0.1396009 , -0.04097718, -0.20443049,  0.1763521 ,\n",
       "       -0.11886427, -0.06881656,  0.19807546, -0.08031975,  0.12935187],\n",
       "      dtype=float32)"
      ]
     },
     "execution_count": 49,
     "metadata": {},
     "output_type": "execute_result"
    }
   ],
   "source": [
    "# Obtain the embedding vector of 100.\n",
    "embedding = model.get_embeddings(entities='100', embedding_type='entity')\n",
    "embedding"
   ]
  },
  {
   "cell_type": "code",
   "execution_count": 50,
   "metadata": {},
   "outputs": [
    {
     "name": "stderr",
     "output_type": "stream",
     "text": [
      "/home/egbert_jing/anaconda3/envs/4222G18/lib/python3.7/site-packages/sklearn/neighbors/base.py:441: DeprecationWarning: distutils Version classes are deprecated. Use packaging.version instead.\n",
      "  old_joblib = LooseVersion(joblib_version) < LooseVersion('0.12')\n",
      "/home/egbert_jing/anaconda3/envs/4222G18/lib/python3.7/site-packages/sklearn/neighbors/base.py:441: DeprecationWarning: distutils Version classes are deprecated. Use packaging.version instead.\n",
      "  old_joblib = LooseVersion(joblib_version) < LooseVersion('0.12')\n"
     ]
    },
    {
     "data": {
      "text/html": [
       "<div>\n",
       "<style scoped>\n",
       "    .dataframe tbody tr th:only-of-type {\n",
       "        vertical-align: middle;\n",
       "    }\n",
       "\n",
       "    .dataframe tbody tr th {\n",
       "        vertical-align: top;\n",
       "    }\n",
       "\n",
       "    .dataframe thead th {\n",
       "        text-align: right;\n",
       "    }\n",
       "</style>\n",
       "<table border=\"1\" class=\"dataframe\">\n",
       "  <thead>\n",
       "    <tr style=\"text-align: right;\">\n",
       "      <th></th>\n",
       "      <th>tSNE_1</th>\n",
       "      <th>tSNE_2</th>\n",
       "      <th>magnitude</th>\n",
       "    </tr>\n",
       "  </thead>\n",
       "  <tbody>\n",
       "    <tr>\n",
       "      <th>0</th>\n",
       "      <td>-11.913840</td>\n",
       "      <td>-16.233442</td>\n",
       "      <td>0</td>\n",
       "    </tr>\n",
       "    <tr>\n",
       "      <th>1</th>\n",
       "      <td>-30.191641</td>\n",
       "      <td>-13.085645</td>\n",
       "      <td>50</td>\n",
       "    </tr>\n",
       "    <tr>\n",
       "      <th>2</th>\n",
       "      <td>-12.355590</td>\n",
       "      <td>-17.640932</td>\n",
       "      <td>100</td>\n",
       "    </tr>\n",
       "    <tr>\n",
       "      <th>3</th>\n",
       "      <td>-29.086576</td>\n",
       "      <td>-14.329232</td>\n",
       "      <td>150</td>\n",
       "    </tr>\n",
       "    <tr>\n",
       "      <th>4</th>\n",
       "      <td>-12.404329</td>\n",
       "      <td>-20.460142</td>\n",
       "      <td>200</td>\n",
       "    </tr>\n",
       "  </tbody>\n",
       "</table>\n",
       "</div>"
      ],
      "text/plain": [
       "      tSNE_1     tSNE_2  magnitude\n",
       "0 -11.913840 -16.233442          0\n",
       "1 -30.191641 -13.085645         50\n",
       "2 -12.355590 -17.640932        100\n",
       "3 -29.086576 -14.329232        150\n",
       "4 -12.404329 -20.460142        200"
      ]
     },
     "execution_count": 50,
     "metadata": {},
     "output_type": "execute_result"
    }
   ],
   "source": [
    "# Dimensionality reduction using t-SNE.\n",
    "embeddings = model.get_embeddings(entities=[str(j) for j in np.arange(start, stop+1, step)], embedding_type='entity')\n",
    "embeddings = np.asarray(embeddings, dtype='float64')\n",
    "embeddings_tSNE = TSNE(n_components=2).fit_transform(embeddings)\n",
    "embeddings_tSNE = pd.DataFrame(embeddings_tSNE, columns=['tSNE_1', 'tSNE_2'])\n",
    "embeddings_tSNE['magnitude'] = [i for i in range(start, stop+1, step)]\n",
    "embeddings_tSNE.head()"
   ]
  },
  {
   "cell_type": "code",
   "execution_count": 51,
   "metadata": {},
   "outputs": [
    {
     "data": {
      "image/png": "[encoded data removed]",
      "text/plain": [
       "<Figure size 640x480 with 1 Axes>"
      ]
     },
     "metadata": {},
     "output_type": "display_data"
    }
   ],
   "source": [
    "# Visualize the embedding vectors in 2-D space.\n",
    "plt.scatter(embeddings_tSNE.tSNE_1, embeddings_tSNE.tSNE_2, c=embeddings_tSNE.magnitude, s=10)\n",
    "plt.title('2-D t-SNE Visualization of 200 Integers’ Embedding Vectors')\n",
    "plt.xlabel('tSNE_1')\n",
    "plt.ylabel('tSNE_2')\n",
    "plt.show()"
   ]
  },
  {
   "cell_type": "markdown",
   "metadata": {},
   "source": [
    "### 3.3 Interpolation Method"
   ]
  },
  {
   "cell_type": "code",
   "execution_count": 52,
   "metadata": {},
   "outputs": [],
   "source": [
    "# Measure the similarity between numbers.\n",
    "def cal_sim(x1, x2, x3):\n",
    "    return (x2-x1)/(x3-x1)"
   ]
  },
  {
   "cell_type": "code",
   "execution_count": 53,
   "metadata": {},
   "outputs": [],
   "source": [
    "# Obtain embedding vectors for OOVs.\n",
    "OOVs = range(500, 1000)\n",
    "OOV_embeddings = []\n",
    "for i in OOVs:\n",
    "    for j in np.arange(start, stop+1, step):\n",
    "        if i < j:\n",
    "            upper = j\n",
    "            lower = j-step\n",
    "            e1 = model.get_embeddings(str(lower), embedding_type='entity')\n",
    "            e2 = model.get_embeddings(str(upper), embedding_type='entity')\n",
    "            s2 = cal_sim(lower, i, upper)\n",
    "            s1 = 1-s2            \n",
    "            OOV_embeddings.append(e1 * s1 + e2 * s2)\n",
    "            break"
   ]
  },
  {
   "cell_type": "code",
   "execution_count": 54,
   "metadata": {},
   "outputs": [
    {
     "name": "stderr",
     "output_type": "stream",
     "text": [
      "/home/egbert_jing/anaconda3/envs/4222G18/lib/python3.7/site-packages/sklearn/neighbors/base.py:441: DeprecationWarning: distutils Version classes are deprecated. Use packaging.version instead.\n",
      "  old_joblib = LooseVersion(joblib_version) < LooseVersion('0.12')\n",
      "/home/egbert_jing/anaconda3/envs/4222G18/lib/python3.7/site-packages/sklearn/neighbors/base.py:441: DeprecationWarning: distutils Version classes are deprecated. Use packaging.version instead.\n",
      "  old_joblib = LooseVersion(joblib_version) < LooseVersion('0.12')\n"
     ]
    },
    {
     "data": {
      "text/html": [
       "<div>\n",
       "<style scoped>\n",
       "    .dataframe tbody tr th:only-of-type {\n",
       "        vertical-align: middle;\n",
       "    }\n",
       "\n",
       "    .dataframe tbody tr th {\n",
       "        vertical-align: top;\n",
       "    }\n",
       "\n",
       "    .dataframe thead th {\n",
       "        text-align: right;\n",
       "    }\n",
       "</style>\n",
       "<table border=\"1\" class=\"dataframe\">\n",
       "  <thead>\n",
       "    <tr style=\"text-align: right;\">\n",
       "      <th></th>\n",
       "      <th>tSNE_1</th>\n",
       "      <th>tSNE_2</th>\n",
       "      <th>magnitude</th>\n",
       "    </tr>\n",
       "  </thead>\n",
       "  <tbody>\n",
       "    <tr>\n",
       "      <th>0</th>\n",
       "      <td>-15.373684</td>\n",
       "      <td>22.491953</td>\n",
       "      <td>500</td>\n",
       "    </tr>\n",
       "    <tr>\n",
       "      <th>1</th>\n",
       "      <td>-15.436673</td>\n",
       "      <td>22.450186</td>\n",
       "      <td>501</td>\n",
       "    </tr>\n",
       "    <tr>\n",
       "      <th>2</th>\n",
       "      <td>-15.256385</td>\n",
       "      <td>22.287676</td>\n",
       "      <td>502</td>\n",
       "    </tr>\n",
       "    <tr>\n",
       "      <th>3</th>\n",
       "      <td>-15.696467</td>\n",
       "      <td>22.327051</td>\n",
       "      <td>503</td>\n",
       "    </tr>\n",
       "    <tr>\n",
       "      <th>4</th>\n",
       "      <td>-15.248575</td>\n",
       "      <td>22.057583</td>\n",
       "      <td>504</td>\n",
       "    </tr>\n",
       "  </tbody>\n",
       "</table>\n",
       "</div>"
      ],
      "text/plain": [
       "      tSNE_1     tSNE_2  magnitude\n",
       "0 -15.373684  22.491953        500\n",
       "1 -15.436673  22.450186        501\n",
       "2 -15.256385  22.287676        502\n",
       "3 -15.696467  22.327051        503\n",
       "4 -15.248575  22.057583        504"
      ]
     },
     "execution_count": 54,
     "metadata": {},
     "output_type": "execute_result"
    }
   ],
   "source": [
    "# Dimensionality reduction using t-SNE.\n",
    "OOV_embeddings = np.asarray(OOV_embeddings, dtype='float64')\n",
    "OOV_embeddings_tSNE = TSNE(n_components=2).fit_transform(OOV_embeddings)\n",
    "OOV_embeddings_tSNE = pd.DataFrame(OOV_embeddings_tSNE, columns=['tSNE_1', 'tSNE_2'])\n",
    "OOV_embeddings_tSNE['magnitude'] = OOVs\n",
    "OOV_embeddings_tSNE.head()"
   ]
  },
  {
   "cell_type": "code",
   "execution_count": 55,
   "metadata": {},
   "outputs": [
    {
     "data": {
      "image/png": "[encoded data removed]",
      "text/plain": [
       "<Figure size 640x480 with 1 Axes>"
      ]
     },
     "metadata": {},
     "output_type": "display_data"
    }
   ],
   "source": [
    "# Visualize the embedding vectors of OOVs in 2-D space.\n",
    "plt.scatter(OOV_embeddings_tSNE.tSNE_1, OOV_embeddings_tSNE.tSNE_2, c=OOV_embeddings_tSNE.magnitude, s=5)\n",
    "plt.title('2-D t-SNE Visualization of OOVs\\' Embedding Vectors')\n",
    "plt.xlabel('tSNE_1')\n",
    "plt.ylabel('tSNE_2')\n",
    "plt.show()"
   ]
  }
 ],
 "metadata": {
  "kernelspec": {
   "display_name": "Python 3.7.3 ('4222G18')",
   "language": "python",
   "name": "python3"
  },
  "language_info": {
   "codemirror_mode": {
    "name": "ipython",
    "version": 3
   },
   "file_extension": ".py",
   "mimetype": "text/x-python",
   "name": "python",
   "nbconvert_exporter": "python",
   "pygments_lexer": "ipython3",
   "version": "3.7.3"
  },
  "vscode": {
   "interpreter": {
    "hash": "7e1fb3ba83006f1cb45b39d6187e98516fc498271af873551d97b45d9cc23f87"
   }
  }
 },
 "nbformat": 4,
 "nbformat_minor": 4
}
