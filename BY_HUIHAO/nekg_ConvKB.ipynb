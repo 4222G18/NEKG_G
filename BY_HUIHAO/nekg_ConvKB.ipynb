{
 "cells": [
  {
   "cell_type": "markdown",
   "metadata": {},
   "source": [
    "### This notebook presents how to obtain number embeddings with NEKG."
   ]
  },
  {
   "cell_type": "markdown",
   "metadata": {},
   "source": [
    "<ul>\n",
    "    <li> In <b>Section 3.1</b>, we construct the knowledge, generating 200 triples (e.g., ['0','isLessThan', '50'], ['100','isLessThan', '150'], etc.).</li><br>\n",
    "    <li>In <b>Section 3.2</b>, we embed the graph in a 100-D vector space using a standard graph embedding method TransE. We visualize the embedding vectors using t-SNE in a 2-D space.</li><br>\n",
    "    <li>In <b>Section 3.3</b>, we embed the integers from 500 to 1000 (i.e., [500, 1000)) using the interpolation method and visualize the embedding vectors using t-SNE in a 2-D space.</li>\n",
    "</ul>\n",
    "\n",
    "\n"
   ]
  },
  {
   "cell_type": "code",
   "execution_count": 56,
   "metadata": {},
   "outputs": [],
   "source": [
    "%matplotlib inline\n",
    "import os\n",
    "import numpy as np\n",
    "import pandas as pd\n",
    "import ampligraph\n",
    "import ampligraph.latent_features as AL\n",
    "\n",
    "import matplotlib.pyplot as plt\n",
    "from sklearn.manifold import TSNE\n",
    "os.environ[\"CUDA_VISIBLE_DEVICES\"] = \"0\""
   ]
  },
  {
   "cell_type": "markdown",
   "metadata": {},
   "source": [
    "<b>VERSION:</b>\n",
    "<ul>\n",
    "    <li>python 3.7.3</li>\n",
    "    <li>tensorflow 1.15.0</li>\n",
    "    <li>numpy 1.19.5</li>\n",
    "    <li>ampligraph 1.3.2</li>\n",
    "    <li>pandas 0.24.1</li>\n",
    "    <li>sklearn 0.21.2</li>\n",
    "    <li>matplotlib 3.4.2</li>\n",
    "</ul>"
   ]
  },
  {
   "cell_type": "markdown",
   "metadata": {},
   "source": [
    "### 3.1 Knowledge Graph Construction"
   ]
  },
  {
   "cell_type": "code",
   "execution_count": 57,
   "metadata": {},
   "outputs": [],
   "source": [
    "# Knowledge Graph Construction.\n",
    "def graph_construction(start, stop, step):\n",
    "    kg = pd.DataFrame()\n",
    "    kg['h'] = [i for i in np.arange(start, stop, step)]\n",
    "    kg['r'] = ['isLessThan'] * int((stop-start) / step)\n",
    "    kg['t'] = [i for i in np.arange(step, stop+1, step)]\n",
    "    kg[\"h\"] = kg.h.values.astype(str)\n",
    "    kg[\"t\"] = kg.t.values.astype(str)\n",
    "    return kg"
   ]
  },
  {
   "cell_type": "code",
   "execution_count": 58,
   "metadata": {},
   "outputs": [
    {
     "data": {
      "text/html": [
       "<div>\n",
       "<style scoped>\n",
       "    .dataframe tbody tr th:only-of-type {\n",
       "        vertical-align: middle;\n",
       "    }\n",
       "\n",
       "    .dataframe tbody tr th {\n",
       "        vertical-align: top;\n",
       "    }\n",
       "\n",
       "    .dataframe thead th {\n",
       "        text-align: right;\n",
       "    }\n",
       "</style>\n",
       "<table border=\"1\" class=\"dataframe\">\n",
       "  <thead>\n",
       "    <tr style=\"text-align: right;\">\n",
       "      <th></th>\n",
       "      <th>h</th>\n",
       "      <th>r</th>\n",
       "      <th>t</th>\n",
       "    </tr>\n",
       "  </thead>\n",
       "  <tbody>\n",
       "    <tr>\n",
       "      <th>0</th>\n",
       "      <td>0</td>\n",
       "      <td>isLessThan</td>\n",
       "      <td>50</td>\n",
       "    </tr>\n",
       "    <tr>\n",
       "      <th>1</th>\n",
       "      <td>50</td>\n",
       "      <td>isLessThan</td>\n",
       "      <td>100</td>\n",
       "    </tr>\n",
       "    <tr>\n",
       "      <th>2</th>\n",
       "      <td>100</td>\n",
       "      <td>isLessThan</td>\n",
       "      <td>150</td>\n",
       "    </tr>\n",
       "    <tr>\n",
       "      <th>3</th>\n",
       "      <td>150</td>\n",
       "      <td>isLessThan</td>\n",
       "      <td>200</td>\n",
       "    </tr>\n",
       "    <tr>\n",
       "      <th>4</th>\n",
       "      <td>200</td>\n",
       "      <td>isLessThan</td>\n",
       "      <td>250</td>\n",
       "    </tr>\n",
       "  </tbody>\n",
       "</table>\n",
       "</div>"
      ],
      "text/plain": [
       "     h           r    t\n",
       "0    0  isLessThan   50\n",
       "1   50  isLessThan  100\n",
       "2  100  isLessThan  150\n",
       "3  150  isLessThan  200\n",
       "4  200  isLessThan  250"
      ]
     },
     "execution_count": 58,
     "metadata": {},
     "output_type": "execute_result"
    }
   ],
   "source": [
    "start = 0\n",
    "stop = 10000\n",
    "step = 50\n",
    "kg_df = graph_construction(start, stop, step)\n",
    "kg_df.head()"
   ]
  },
  {
   "cell_type": "markdown",
   "metadata": {},
   "source": [
    "### 3.2 Knowledge Graph Embedding"
   ]
  },
  {
   "cell_type": "code",
   "execution_count": 59,
   "metadata": {},
   "outputs": [
    {
     "name": "stderr",
     "output_type": "stream",
     "text": [
      "2022-11-07 22:00:21.089948: E tensorflow/stream_executor/cuda/cuda_gpu_executor.cc:969] could not open file to read NUMA node: /sys/bus/pci/devices/0000:01:00.0/numa_node\n",
      "Your kernel may have been built without NUMA support.\n",
      "2022-11-07 22:00:21.090025: I tensorflow/core/common_runtime/gpu/gpu_device.cc:1618] Found device 0 with properties: \n",
      "name: NVIDIA GeForce GTX 1660 Ti major: 7 minor: 5 memoryClockRate(GHz): 1.59\n",
      "pciBusID: 0000:01:00.0\n",
      "2022-11-07 22:00:21.090669: W tensorflow/stream_executor/platform/default/dso_loader.cc:55] Could not load dynamic library 'libcudart.so.10.0'; dlerror: libcudart.so.10.0: cannot open shared object file: No such file or directory; LD_LIBRARY_PATH: :/usr/local/cuda-11.8/lib64\n",
      "2022-11-07 22:00:21.090757: W tensorflow/stream_executor/platform/default/dso_loader.cc:55] Could not load dynamic library 'libcublas.so.10.0'; dlerror: libcublas.so.10.0: cannot open shared object file: No such file or directory; LD_LIBRARY_PATH: :/usr/local/cuda-11.8/lib64\n",
      "2022-11-07 22:00:21.090815: W tensorflow/stream_executor/platform/default/dso_loader.cc:55] Could not load dynamic library 'libcufft.so.10.0'; dlerror: libcufft.so.10.0: cannot open shared object file: No such file or directory; LD_LIBRARY_PATH: :/usr/local/cuda-11.8/lib64\n",
      "2022-11-07 22:00:21.090922: W tensorflow/stream_executor/platform/default/dso_loader.cc:55] Could not load dynamic library 'libcurand.so.10.0'; dlerror: libcurand.so.10.0: cannot open shared object file: No such file or directory; LD_LIBRARY_PATH: :/usr/local/cuda-11.8/lib64\n",
      "2022-11-07 22:00:21.091025: W tensorflow/stream_executor/platform/default/dso_loader.cc:55] Could not load dynamic library 'libcusolver.so.10.0'; dlerror: libcusolver.so.10.0: cannot open shared object file: No such file or directory; LD_LIBRARY_PATH: :/usr/local/cuda-11.8/lib64\n",
      "2022-11-07 22:00:21.091109: W tensorflow/stream_executor/platform/default/dso_loader.cc:55] Could not load dynamic library 'libcusparse.so.10.0'; dlerror: libcusparse.so.10.0: cannot open shared object file: No such file or directory; LD_LIBRARY_PATH: :/usr/local/cuda-11.8/lib64\n",
      "2022-11-07 22:00:21.091195: W tensorflow/stream_executor/platform/default/dso_loader.cc:55] Could not load dynamic library 'libcudnn.so.7'; dlerror: libcudnn.so.7: cannot open shared object file: No such file or directory; LD_LIBRARY_PATH: :/usr/local/cuda-11.8/lib64\n",
      "2022-11-07 22:00:21.091224: W tensorflow/core/common_runtime/gpu/gpu_device.cc:1641] Cannot dlopen some GPU libraries. Please make sure the missing libraries mentioned above are installed properly if you would like to use GPU. Follow the guide at https://www.tensorflow.org/install/gpu for how to download and setup the required libraries for your platform.\n",
      "Skipping registering GPU devices...\n",
      "2022-11-07 22:00:21.091303: I tensorflow/core/common_runtime/gpu/gpu_device.cc:1159] Device interconnect StreamExecutor with strength 1 edge matrix:\n",
      "2022-11-07 22:00:21.091329: I tensorflow/core/common_runtime/gpu/gpu_device.cc:1165]      0 \n",
      "2022-11-07 22:00:21.091354: I tensorflow/core/common_runtime/gpu/gpu_device.cc:1178] 0:   N \n",
      "Average Loss:   0.028809: 100%|██████████| 200/200 [00:48<00:00,  4.12epoch/s]\n"
     ]
    }
   ],
   "source": [
    "# Embedding Model.\n",
    "kg_array = kg_df.to_numpy().astype(str)\n",
    "model = AL.ConvKB(epochs=200, k=600, verbose=True)# the k = 100 is the dimension of the embedding space.\n",
    "model.fit(kg_array)"
   ]
  },
  {
   "cell_type": "code",
   "execution_count": 60,
   "metadata": {},
   "outputs": [
    {
     "data": {
      "text/plain": [
       "array([ 7.46786371e-02, -1.68059662e-01,  9.59167406e-02, -1.15346094e-03,\n",
       "       -1.49744153e-01,  5.41219972e-02, -1.09914489e-01,  2.42283307e-02,\n",
       "        1.28387704e-01, -6.73170909e-02, -1.23266794e-01, -1.30122870e-01,\n",
       "        9.48354304e-02, -7.10054580e-03, -1.26978830e-01, -1.45535991e-02,\n",
       "        4.91423011e-02, -9.05250292e-03, -9.35416818e-02, -1.32193223e-01,\n",
       "       -1.68151334e-01,  3.99107412e-02, -8.39191154e-02,  5.23526371e-02,\n",
       "        1.07582077e-01,  1.80909112e-02, -3.36779319e-02,  1.90483760e-02,\n",
       "       -9.45370421e-02, -9.19059217e-02,  9.77652445e-02,  5.65713551e-03,\n",
       "        1.20841376e-01,  1.52575791e-01, -1.20015275e-02, -6.84019476e-02,\n",
       "       -9.22610313e-02, -2.36860551e-02, -1.63568482e-01, -8.14816728e-02,\n",
       "       -1.42556671e-02, -9.99593884e-02,  5.01531884e-02, -8.09434056e-03,\n",
       "       -4.16882709e-02,  9.91231054e-02,  8.39778557e-02, -2.80972403e-02,\n",
       "        1.41219214e-01, -1.54592365e-03,  3.83270495e-02,  3.27622667e-02,\n",
       "       -8.32770392e-02,  7.87547380e-02, -6.70960173e-02,  6.52786493e-02,\n",
       "       -8.75622630e-02,  7.37960637e-02, -1.82896957e-01, -6.92086248e-03,\n",
       "       -1.23268388e-01,  1.30813658e-01, -2.71197706e-02,  7.95277506e-02,\n",
       "        1.39189854e-01,  1.25085503e-01, -1.12690344e-01, -6.66613206e-02,\n",
       "        6.76637143e-02,  1.34542525e-01, -1.31734863e-01, -1.63031638e-01,\n",
       "        6.04093820e-02,  3.06065697e-02,  1.75847545e-01,  1.11894555e-01,\n",
       "        1.70820981e-01, -9.09055173e-02, -4.03856151e-02, -6.09716065e-02,\n",
       "        1.66361518e-02, -1.13893628e-01, -4.51979786e-03, -1.08107328e-02,\n",
       "        4.97520342e-03, -2.26537250e-02,  1.94368847e-02,  1.45978019e-01,\n",
       "        1.67573709e-02,  2.88678166e-02,  8.90707504e-03, -7.73539245e-02,\n",
       "        4.28700782e-02, -7.41185769e-02, -9.15017948e-02, -4.54741530e-02,\n",
       "       -7.74906483e-03, -7.09172636e-02,  7.02280924e-02,  7.71148689e-03,\n",
       "        2.32547652e-02,  2.14320906e-02, -9.09088105e-02, -1.27121821e-01,\n",
       "        1.94493011e-02,  1.20993704e-01, -1.14819273e-01,  1.22603461e-01,\n",
       "        4.95898426e-02,  1.56135503e-02,  1.27983287e-01, -1.02292456e-01,\n",
       "       -1.29364312e-01,  3.63731943e-02, -1.46387056e-01,  5.64421527e-02,\n",
       "       -1.77664775e-02,  7.96316043e-02, -3.07337064e-02, -6.83187991e-02,\n",
       "        7.89674968e-02, -1.13218009e-01, -1.08796179e-01,  1.18184201e-01,\n",
       "        1.13595940e-01, -1.62453607e-01,  8.46176744e-02, -3.24281678e-02,\n",
       "       -5.47028743e-02,  9.60715860e-02,  1.37868617e-02, -1.28034398e-01,\n",
       "        6.92110807e-02, -5.17391562e-02, -8.28197896e-02, -7.02490434e-02,\n",
       "       -8.32155868e-02,  1.45354286e-01,  2.01183669e-02,  8.14481080e-02,\n",
       "        2.58073001e-03, -9.16606337e-02, -1.04143448e-01,  3.06036640e-02,\n",
       "       -6.12843595e-02,  2.48061512e-02,  2.19855327e-02,  5.90151995e-02,\n",
       "        8.86090007e-03, -1.44344434e-01, -6.06983192e-02, -1.07523389e-01,\n",
       "        1.14328191e-01, -7.39876777e-02,  1.32350579e-01, -6.74661994e-02,\n",
       "       -6.02935962e-02, -1.12497568e-01,  2.12527569e-02,  9.60092694e-02,\n",
       "        1.12723403e-01,  1.19986892e-01,  1.41739011e-01,  1.25061676e-01,\n",
       "        1.07023083e-02,  3.76602374e-02, -7.52264932e-02, -1.29405215e-01,\n",
       "       -5.30627407e-02, -1.43067926e-01,  9.73388925e-02, -9.70642269e-02,\n",
       "        3.90838571e-02,  1.21316992e-01, -6.75846860e-02, -1.45848542e-01,\n",
       "        7.41662383e-02, -1.16456933e-02,  1.10981893e-03, -3.15350406e-02,\n",
       "       -1.68635502e-01, -5.84379062e-02,  7.01340660e-02,  1.30282700e-01,\n",
       "       -1.01101428e-01, -1.36355720e-02, -1.12212161e-02,  1.21896990e-01,\n",
       "       -1.03864104e-01,  6.70272112e-02,  1.86705083e-01, -7.12682307e-02,\n",
       "        2.46662390e-03,  4.62612063e-02, -1.12876117e-01, -1.05050556e-01,\n",
       "       -8.57784748e-02, -1.11868583e-01, -1.22429663e-03,  9.47485790e-02,\n",
       "        6.61593750e-02,  8.46679434e-02,  3.09239086e-02,  1.50502056e-01,\n",
       "        1.02012269e-01, -8.21827278e-02, -9.21124592e-03,  3.11948936e-02,\n",
       "        1.65365264e-02, -6.90540150e-02, -3.61636095e-02,  4.91315611e-02,\n",
       "       -1.13847822e-01, -2.99663078e-02, -1.34547278e-01,  6.58658966e-02,\n",
       "       -9.86603871e-02,  2.26133652e-02, -4.60237190e-02, -4.69554849e-02,\n",
       "       -1.29464895e-01,  7.88948238e-02, -7.91577399e-02, -6.27772585e-02,\n",
       "       -1.34126112e-01,  1.35673031e-01,  6.31514639e-02, -6.98008314e-02,\n",
       "       -1.24795318e-01, -1.13159148e-02,  1.07046820e-01, -9.99099687e-02,\n",
       "        1.01420760e-01,  1.07282020e-01,  8.84836260e-03, -5.55962883e-02,\n",
       "        8.41997564e-02, -7.18954504e-02, -1.84008107e-01,  5.37359864e-02,\n",
       "        4.60741483e-03, -1.45842746e-01, -1.04014270e-01,  4.35342127e-03,\n",
       "       -1.26991034e-01,  9.67072174e-02,  1.67655870e-02,  1.24431364e-01,\n",
       "        8.40392634e-02, -2.00557988e-02, -1.42192058e-02,  1.08614363e-01,\n",
       "        6.28724024e-02,  8.16960856e-02, -1.43019333e-01,  1.06282711e-01,\n",
       "       -9.93934646e-02, -1.27797142e-01, -2.50395853e-03, -8.17037839e-03,\n",
       "        4.11421666e-03, -5.95954545e-02, -2.26916879e-01,  3.93202193e-02,\n",
       "        3.95678356e-03,  1.46202922e-01, -1.21530741e-01,  1.24171697e-01,\n",
       "       -1.23580128e-01, -5.52274752e-03, -1.00052103e-01,  7.35603943e-02,\n",
       "        7.56623177e-03, -1.04648404e-01,  8.76850560e-02, -4.46745194e-02,\n",
       "       -1.85941756e-02, -4.47693318e-02,  4.64239158e-02,  5.44873513e-02,\n",
       "       -1.27861695e-02, -1.10807858e-01,  7.79657289e-02,  1.25306189e-01,\n",
       "        6.10387847e-02,  5.03125861e-02,  9.45066735e-02,  9.27969292e-02,\n",
       "        1.35456935e-01,  1.78946331e-02,  1.78516936e-02, -1.35651425e-01,\n",
       "        1.33337704e-02,  1.54761851e-01, -1.19784929e-01,  4.12269160e-02,\n",
       "       -7.33201718e-03, -5.39151914e-02, -3.94146629e-02,  1.66845590e-01,\n",
       "       -3.55693623e-02, -1.13882318e-01, -9.12850872e-02, -8.63004625e-02,\n",
       "       -4.04006764e-02,  2.73613203e-02,  9.81407613e-02,  1.50913879e-01,\n",
       "        7.48625621e-02,  1.70898791e-02,  2.30692737e-02,  7.17747360e-02,\n",
       "        4.49531041e-02,  5.12433909e-02,  6.05658032e-02,  2.28551980e-02,\n",
       "        2.86389459e-02,  3.28226089e-02,  1.28342491e-02, -8.80477652e-02,\n",
       "       -3.13002430e-02,  3.04830000e-02,  4.39474620e-02,  3.88759598e-02,\n",
       "        3.27391960e-02, -1.80076715e-02, -1.87029749e-01, -1.71915114e-01,\n",
       "       -1.44163817e-02, -8.06933418e-02,  1.53108776e-01, -1.30651174e-02,\n",
       "       -8.67061540e-02, -5.72549477e-02, -7.02159330e-02,  1.40521020e-01,\n",
       "       -8.54293257e-02,  2.10576430e-02, -1.62117347e-01,  1.19188257e-01,\n",
       "        8.33054930e-02,  2.54774932e-02,  9.63873938e-02,  1.07813157e-01,\n",
       "        4.90430510e-03, -6.41735867e-02, -8.12887102e-02, -8.66272897e-02,\n",
       "        8.34067240e-02, -1.54538274e-01,  4.08199318e-02,  4.73132022e-02,\n",
       "       -1.26704767e-01,  6.71783537e-02, -7.74031579e-02,  1.40340656e-01,\n",
       "        6.62090033e-02, -6.09385548e-03,  1.53301328e-01, -1.78772539e-01,\n",
       "        7.07918825e-03, -8.23679864e-02, -1.85593888e-01,  2.37557292e-01,\n",
       "       -3.05823125e-02,  2.54348759e-02, -6.46294728e-02, -1.23654202e-01,\n",
       "       -7.48815611e-02, -7.08486587e-02, -1.47013113e-01, -1.16386071e-01,\n",
       "       -1.16276175e-01,  4.97393869e-02, -5.24094589e-02,  2.47180369e-02,\n",
       "       -1.91409394e-01, -5.57456464e-02,  8.79452452e-02, -6.57668570e-03,\n",
       "       -9.09313038e-02,  1.43253773e-01,  1.38238251e-01,  1.46695107e-01,\n",
       "        1.76208676e-03, -3.81000414e-02, -8.08790624e-02,  2.33601802e-03,\n",
       "       -1.56757265e-01, -9.22242403e-02, -8.15758258e-02,  7.49786291e-03,\n",
       "       -1.28601983e-01,  1.37590870e-01,  1.98832586e-01,  6.80333152e-02,\n",
       "       -1.15883820e-01, -8.79732966e-02,  8.00866783e-02, -8.79032612e-02,\n",
       "        1.58744901e-01,  8.30926448e-02, -3.41204256e-02, -2.98541151e-02,\n",
       "        1.23897083e-01,  6.09952025e-03,  1.53139783e-02,  3.90101522e-02,\n",
       "       -1.36753006e-04, -1.29991677e-02, -4.41447739e-03,  1.81178659e-01,\n",
       "        5.30828796e-02, -4.16703671e-02, -1.20579690e-01, -2.91890129e-02,\n",
       "       -7.29513243e-02,  9.72467512e-02, -2.01053973e-02,  3.12138312e-02,\n",
       "        1.37309745e-01,  1.24442931e-02,  1.18798651e-01, -1.22585103e-01,\n",
       "       -7.56448973e-03,  1.45480514e-01, -6.11188971e-02,  3.16776261e-02,\n",
       "       -7.17273653e-02,  1.18751459e-01,  9.86776426e-02, -1.14581008e-02,\n",
       "        3.29540740e-03,  5.98087832e-02, -2.58249845e-02,  1.62443429e-01,\n",
       "        2.00224504e-01, -1.23005234e-01,  3.73875052e-02,  8.13693404e-02,\n",
       "        5.74930981e-02, -9.92636532e-02,  2.28080541e-01, -8.43854621e-02,\n",
       "       -1.49108814e-02,  1.35982946e-01, -5.34340888e-02,  1.98515616e-02,\n",
       "       -6.46909773e-02, -6.69766515e-02, -1.57832161e-01,  4.63400735e-03,\n",
       "       -6.83041587e-02,  1.12734891e-01, -4.13525850e-02, -9.00820717e-02,\n",
       "       -3.38527858e-02,  1.72150170e-03, -1.26971692e-01,  5.77314943e-02,\n",
       "        7.65305907e-02,  5.81680052e-02, -1.44123077e-01, -1.20390132e-01,\n",
       "        8.10727030e-02,  8.25631246e-02,  3.72103415e-02, -4.80435826e-02,\n",
       "       -1.08465143e-01,  1.61860675e-01, -1.07071057e-01, -1.41294897e-01,\n",
       "       -1.32558793e-01, -8.94736424e-02, -7.10871816e-02, -4.21119891e-02,\n",
       "       -1.14852682e-01, -1.06800698e-01,  1.78204462e-01, -8.53644535e-02,\n",
       "       -3.74498181e-02, -6.10932559e-02,  9.36615765e-02,  4.33591828e-02,\n",
       "        1.62048638e-01,  1.75292894e-01, -8.61114189e-02,  1.69898003e-01,\n",
       "       -1.49148837e-01,  4.49440256e-02,  2.50095129e-02,  1.34511083e-01,\n",
       "       -1.44582748e-01,  1.19439244e-01,  5.11233415e-03,  9.60007831e-02,\n",
       "        1.37556240e-01,  9.96070541e-03, -5.07200435e-02,  7.65877515e-02,\n",
       "       -1.42999351e-01,  9.87826958e-02, -5.22959642e-02, -1.76311880e-01,\n",
       "       -1.51897490e-01,  3.94394957e-02,  6.32109568e-02, -2.83639748e-02,\n",
       "       -1.05544277e-01, -1.53681368e-01,  1.49952844e-01, -2.11474719e-03,\n",
       "       -1.27245769e-01,  4.33475450e-02, -1.24763250e-01,  7.47832507e-02,\n",
       "        1.25738397e-01, -2.28162427e-02,  1.76443890e-01, -1.66018456e-01,\n",
       "       -6.68240190e-02, -1.08099110e-01, -9.83688682e-02,  5.38198315e-02,\n",
       "        1.19144484e-01, -1.35036364e-01,  1.43706203e-01, -7.73747712e-02,\n",
       "        2.48187017e-02, -5.29874489e-02,  1.50242850e-01,  1.20404288e-01,\n",
       "       -6.67268932e-02, -6.75361231e-02,  4.85043302e-02,  2.55339239e-02,\n",
       "        9.33895707e-02, -9.85177755e-02, -6.46779463e-02, -1.91940442e-02,\n",
       "        1.22602895e-01, -1.32903948e-01, -9.22132581e-02,  8.38318691e-02,\n",
       "        8.27457160e-02,  1.77089557e-01, -8.25649202e-02, -9.17347744e-02,\n",
       "        4.70693596e-03,  3.06088757e-02,  7.00351298e-02,  7.65808672e-03,\n",
       "       -6.95335567e-02, -1.83849856e-01, -1.00243073e-02,  1.00303628e-01,\n",
       "       -6.97989687e-02, -5.02370745e-02, -1.55101838e-02,  1.49555638e-01,\n",
       "       -2.09506508e-02, -5.69583029e-02, -1.61494147e-02, -3.48633826e-02,\n",
       "       -1.42653093e-01, -1.50200859e-01,  2.16016561e-01,  1.24960439e-02,\n",
       "        4.18005548e-02, -1.16859451e-02,  3.01111136e-02,  1.59315214e-01,\n",
       "       -2.80641112e-02,  6.22162186e-02, -1.43683692e-02,  1.62416622e-01,\n",
       "        8.34029540e-03, -6.32482916e-02,  8.87678340e-02, -1.59362510e-01,\n",
       "       -2.00975351e-02,  1.32549241e-01, -3.37173827e-02, -7.02988133e-02,\n",
       "        1.39033020e-01,  7.55697116e-02, -3.06060128e-02, -6.65417910e-02,\n",
       "        1.83117688e-02, -1.08249322e-01,  5.47312014e-02, -1.15848623e-01,\n",
       "        8.83599892e-02, -8.38359520e-02,  4.61108126e-02, -7.22480146e-03,\n",
       "        8.31802413e-02, -4.36669542e-03, -8.81151408e-02, -1.09778836e-01],\n",
       "      dtype=float32)"
      ]
     },
     "execution_count": 60,
     "metadata": {},
     "output_type": "execute_result"
    }
   ],
   "source": [
    "# Obtain the embedding vector of 100.\n",
    "embedding = model.get_embeddings(entities='100', embedding_type='entity')\n",
    "embedding"
   ]
  },
  {
   "cell_type": "code",
   "execution_count": 61,
   "metadata": {},
   "outputs": [
    {
     "name": "stderr",
     "output_type": "stream",
     "text": [
      "/home/egbert_jing/anaconda3/envs/4222G18/lib/python3.7/site-packages/sklearn/neighbors/base.py:441: DeprecationWarning: distutils Version classes are deprecated. Use packaging.version instead.\n",
      "  old_joblib = LooseVersion(joblib_version) < LooseVersion('0.12')\n",
      "/home/egbert_jing/anaconda3/envs/4222G18/lib/python3.7/site-packages/sklearn/neighbors/base.py:441: DeprecationWarning: distutils Version classes are deprecated. Use packaging.version instead.\n",
      "  old_joblib = LooseVersion(joblib_version) < LooseVersion('0.12')\n"
     ]
    },
    {
     "data": {
      "text/html": [
       "<div>\n",
       "<style scoped>\n",
       "    .dataframe tbody tr th:only-of-type {\n",
       "        vertical-align: middle;\n",
       "    }\n",
       "\n",
       "    .dataframe tbody tr th {\n",
       "        vertical-align: top;\n",
       "    }\n",
       "\n",
       "    .dataframe thead th {\n",
       "        text-align: right;\n",
       "    }\n",
       "</style>\n",
       "<table border=\"1\" class=\"dataframe\">\n",
       "  <thead>\n",
       "    <tr style=\"text-align: right;\">\n",
       "      <th></th>\n",
       "      <th>tSNE_1</th>\n",
       "      <th>tSNE_2</th>\n",
       "      <th>magnitude</th>\n",
       "    </tr>\n",
       "  </thead>\n",
       "  <tbody>\n",
       "    <tr>\n",
       "      <th>0</th>\n",
       "      <td>5.354232</td>\n",
       "      <td>-4.735608</td>\n",
       "      <td>0</td>\n",
       "    </tr>\n",
       "    <tr>\n",
       "      <th>1</th>\n",
       "      <td>0.669932</td>\n",
       "      <td>2.867385</td>\n",
       "      <td>50</td>\n",
       "    </tr>\n",
       "    <tr>\n",
       "      <th>2</th>\n",
       "      <td>4.867461</td>\n",
       "      <td>-5.141603</td>\n",
       "      <td>100</td>\n",
       "    </tr>\n",
       "    <tr>\n",
       "      <th>3</th>\n",
       "      <td>1.376482</td>\n",
       "      <td>3.645080</td>\n",
       "      <td>150</td>\n",
       "    </tr>\n",
       "    <tr>\n",
       "      <th>4</th>\n",
       "      <td>2.941760</td>\n",
       "      <td>-5.944343</td>\n",
       "      <td>200</td>\n",
       "    </tr>\n",
       "  </tbody>\n",
       "</table>\n",
       "</div>"
      ],
      "text/plain": [
       "     tSNE_1    tSNE_2  magnitude\n",
       "0  5.354232 -4.735608          0\n",
       "1  0.669932  2.867385         50\n",
       "2  4.867461 -5.141603        100\n",
       "3  1.376482  3.645080        150\n",
       "4  2.941760 -5.944343        200"
      ]
     },
     "execution_count": 61,
     "metadata": {},
     "output_type": "execute_result"
    }
   ],
   "source": [
    "# Dimensionality reduction using t-SNE.\n",
    "embeddings = model.get_embeddings(entities=[str(j) for j in np.arange(start, stop+1, step)], embedding_type='entity')\n",
    "embeddings = np.asarray(embeddings, dtype='float64')\n",
    "embeddings_tSNE = TSNE(n_components=2).fit_transform(embeddings)\n",
    "embeddings_tSNE = pd.DataFrame(embeddings_tSNE, columns=['tSNE_1', 'tSNE_2'])\n",
    "embeddings_tSNE['magnitude'] = [i for i in range(start, stop+1, step)]\n",
    "embeddings_tSNE.head()"
   ]
  },
  {
   "cell_type": "code",
   "execution_count": 62,
   "metadata": {},
   "outputs": [
    {
     "data": {
      "image/png": "[encoded data removed]",
      "text/plain": [
       "<Figure size 640x480 with 1 Axes>"
      ]
     },
     "metadata": {},
     "output_type": "display_data"
    }
   ],
   "source": [
    "# Visualize the embedding vectors in 2-D space.\n",
    "plt.scatter(embeddings_tSNE.tSNE_1, embeddings_tSNE.tSNE_2, c=embeddings_tSNE.magnitude, s=10)\n",
    "plt.title('2-D t-SNE Visualization of 200 Integers’ Embedding Vectors')\n",
    "plt.xlabel('tSNE_1')\n",
    "plt.ylabel('tSNE_2')\n",
    "plt.show()"
   ]
  },
  {
   "cell_type": "markdown",
   "metadata": {},
   "source": [
    "### 3.3 Interpolation Method"
   ]
  },
  {
   "cell_type": "code",
   "execution_count": 63,
   "metadata": {},
   "outputs": [],
   "source": [
    "# Measure the similarity between numbers.\n",
    "def cal_sim(x1, x2, x3):\n",
    "    return (x2-x1)/(x3-x1)"
   ]
  },
  {
   "cell_type": "code",
   "execution_count": 64,
   "metadata": {},
   "outputs": [],
   "source": [
    "# Obtain embedding vectors for OOVs.\n",
    "OOVs = range(500, 1000)\n",
    "OOV_embeddings = []\n",
    "for i in OOVs:\n",
    "    for j in np.arange(start, stop+1, step):\n",
    "        if i < j:\n",
    "            upper = j\n",
    "            lower = j-step\n",
    "            e1 = model.get_embeddings(str(lower), embedding_type='entity')\n",
    "            e2 = model.get_embeddings(str(upper), embedding_type='entity')\n",
    "            s2 = cal_sim(lower, i, upper)\n",
    "            s1 = 1-s2            \n",
    "            OOV_embeddings.append(e1 * s1 + e2 * s2)\n",
    "            break"
   ]
  },
  {
   "cell_type": "code",
   "execution_count": 65,
   "metadata": {},
   "outputs": [
    {
     "name": "stderr",
     "output_type": "stream",
     "text": [
      "/home/egbert_jing/anaconda3/envs/4222G18/lib/python3.7/site-packages/sklearn/neighbors/base.py:441: DeprecationWarning: distutils Version classes are deprecated. Use packaging.version instead.\n",
      "  old_joblib = LooseVersion(joblib_version) < LooseVersion('0.12')\n",
      "/home/egbert_jing/anaconda3/envs/4222G18/lib/python3.7/site-packages/sklearn/neighbors/base.py:441: DeprecationWarning: distutils Version classes are deprecated. Use packaging.version instead.\n",
      "  old_joblib = LooseVersion(joblib_version) < LooseVersion('0.12')\n"
     ]
    },
    {
     "data": {
      "text/html": [
       "<div>\n",
       "<style scoped>\n",
       "    .dataframe tbody tr th:only-of-type {\n",
       "        vertical-align: middle;\n",
       "    }\n",
       "\n",
       "    .dataframe tbody tr th {\n",
       "        vertical-align: top;\n",
       "    }\n",
       "\n",
       "    .dataframe thead th {\n",
       "        text-align: right;\n",
       "    }\n",
       "</style>\n",
       "<table border=\"1\" class=\"dataframe\">\n",
       "  <thead>\n",
       "    <tr style=\"text-align: right;\">\n",
       "      <th></th>\n",
       "      <th>tSNE_1</th>\n",
       "      <th>tSNE_2</th>\n",
       "      <th>magnitude</th>\n",
       "    </tr>\n",
       "  </thead>\n",
       "  <tbody>\n",
       "    <tr>\n",
       "      <th>0</th>\n",
       "      <td>-18.915951</td>\n",
       "      <td>-21.914635</td>\n",
       "      <td>500</td>\n",
       "    </tr>\n",
       "    <tr>\n",
       "      <th>1</th>\n",
       "      <td>-18.855444</td>\n",
       "      <td>-21.976385</td>\n",
       "      <td>501</td>\n",
       "    </tr>\n",
       "    <tr>\n",
       "      <th>2</th>\n",
       "      <td>-18.774731</td>\n",
       "      <td>-22.179054</td>\n",
       "      <td>502</td>\n",
       "    </tr>\n",
       "    <tr>\n",
       "      <th>3</th>\n",
       "      <td>-18.668875</td>\n",
       "      <td>-21.770889</td>\n",
       "      <td>503</td>\n",
       "    </tr>\n",
       "    <tr>\n",
       "      <th>4</th>\n",
       "      <td>-18.582254</td>\n",
       "      <td>-22.301695</td>\n",
       "      <td>504</td>\n",
       "    </tr>\n",
       "  </tbody>\n",
       "</table>\n",
       "</div>"
      ],
      "text/plain": [
       "      tSNE_1     tSNE_2  magnitude\n",
       "0 -18.915951 -21.914635        500\n",
       "1 -18.855444 -21.976385        501\n",
       "2 -18.774731 -22.179054        502\n",
       "3 -18.668875 -21.770889        503\n",
       "4 -18.582254 -22.301695        504"
      ]
     },
     "execution_count": 65,
     "metadata": {},
     "output_type": "execute_result"
    }
   ],
   "source": [
    "# Dimensionality reduction using t-SNE.\n",
    "OOV_embeddings = np.asarray(OOV_embeddings, dtype='float64')\n",
    "OOV_embeddings_tSNE = TSNE(n_components=2).fit_transform(OOV_embeddings)\n",
    "OOV_embeddings_tSNE = pd.DataFrame(OOV_embeddings_tSNE, columns=['tSNE_1', 'tSNE_2'])\n",
    "OOV_embeddings_tSNE['magnitude'] = OOVs\n",
    "OOV_embeddings_tSNE.head()"
   ]
  },
  {
   "cell_type": "code",
   "execution_count": 66,
   "metadata": {},
   "outputs": [
    {
     "data": {
      "image/png": "[encoded data removed]",
      "text/plain": [
       "<Figure size 640x480 with 1 Axes>"
      ]
     },
     "metadata": {},
     "output_type": "display_data"
    }
   ],
   "source": [
    "# Visualize the embedding vectors of OOVs in 2-D space.\n",
    "plt.scatter(OOV_embeddings_tSNE.tSNE_1, OOV_embeddings_tSNE.tSNE_2, c=OOV_embeddings_tSNE.magnitude, s=5)\n",
    "plt.title('2-D t-SNE Visualization of OOVs\\' Embedding Vectors')\n",
    "plt.xlabel('tSNE_1')\n",
    "plt.ylabel('tSNE_2')\n",
    "plt.show()"
   ]
  }
 ],
 "metadata": {
  "kernelspec": {
   "display_name": "Python 3.7.3 ('4222G18')",
   "language": "python",
   "name": "python3"
  },
  "language_info": {
   "codemirror_mode": {
    "name": "ipython",
    "version": 3
   },
   "file_extension": ".py",
   "mimetype": "text/x-python",
   "name": "python",
   "nbconvert_exporter": "python",
   "pygments_lexer": "ipython3",
   "version": "3.7.3"
  },
  "vscode": {
   "interpreter": {
    "hash": "7e1fb3ba83006f1cb45b39d6187e98516fc498271af873551d97b45d9cc23f87"
   }
  }
 },
 "nbformat": 4,
 "nbformat_minor": 4
}
