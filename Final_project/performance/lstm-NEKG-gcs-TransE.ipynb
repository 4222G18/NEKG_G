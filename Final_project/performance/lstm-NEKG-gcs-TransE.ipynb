{
 "cells": [
  {
   "cell_type": "code",
   "execution_count": 26,
   "id": "7a8df98f",
   "metadata": {},
   "outputs": [
    {
     "data": {
      "text/plain": [
       "'/home/egbert_jing/github/NEKG_G/Final_project'"
      ]
     },
     "execution_count": 26,
     "metadata": {},
     "output_type": "execute_result"
    }
   ],
   "source": [
    "import sys\n",
    "import os\n",
    "path_father = os.path.abspath(r'..')\n",
    "path_father\n",
    "# sys.path.append(path_father)"
   ]
  },
  {
   "cell_type": "code",
   "execution_count": 27,
   "id": "fce28d96",
   "metadata": {},
   "outputs": [],
   "source": [
    "import pandas as pd\n",
    "import numpy as np\n",
    "import matplotlib.pyplot as plt\n",
    "import seaborn as sns\n",
    "from sklearn import metrics\n",
    "from sklearn.preprocessing import LabelEncoder,OneHotEncoder\n",
    "from keras.models import Model\n",
    "from keras.layers import LSTM, Activation, Dense, Dropout, Input, Embedding\n",
    "from keras.optimizers import RMSprop\n",
    "from keras.preprocessing.text import Tokenizer\n",
    "from keras.preprocessing import sequence\n",
    "from keras.callbacks import EarlyStopping\n",
    "from keras_preprocessing.sequence import pad_sequences\n",
    "from keras.utils.np_utils import to_categorical\n",
    "from keras.models import Sequential\n",
    "from keras.callbacks import ReduceLROnPlateau\n",
    "from keras.models import load_model\n",
    "%matplotlib inline"
   ]
  },
  {
   "cell_type": "code",
   "execution_count": 28,
   "id": "c268b59b",
   "metadata": {},
   "outputs": [],
   "source": [
    "df = pd.read_csv(path_father + \"/df_with_gcs.txt\",sep=',',header=0)"
   ]
  },
  {
   "cell_type": "code",
   "execution_count": 29,
   "id": "e9e0ee5c",
   "metadata": {},
   "outputs": [],
   "source": [
    "#划分训练测试集\n",
    "from sklearn.model_selection import train_test_split\n",
    "\n",
    "train_set, test_set = train_test_split(df, test_size=0.1, random_state=42)"
   ]
  },
  {
   "cell_type": "markdown",
   "id": "59d7c98f",
   "metadata": {},
   "source": [
    "处理词向量"
   ]
  },
  {
   "cell_type": "code",
   "execution_count": 30,
   "id": "12c63f87",
   "metadata": {},
   "outputs": [],
   "source": [
    "from gensim.models import word2vec\n",
    "import logging\n",
    "logging.basicConfig(format='%(asctime)s : %(levelname)s : %(message)s', level=logging.INFO) "
   ]
  },
  {
   "cell_type": "code",
   "execution_count": 31,
   "id": "f13dfd1d",
   "metadata": {},
   "outputs": [],
   "source": [
    "# 切分词汇\n",
    "def cut(data):\n",
    "    cut= [s.split() for s in data['TriageNote'].astype(str)]\n",
    "    return cut"
   ]
  },
  {
   "cell_type": "code",
   "execution_count": 32,
   "id": "94dd810e",
   "metadata": {},
   "outputs": [],
   "source": [
    "train_text=cut(train_set)\n",
    "test_text=cut(test_set)\n",
    "sentences=train_text+test_text"
   ]
  },
  {
   "cell_type": "code",
   "execution_count": 33,
   "id": "2b4b566b",
   "metadata": {},
   "outputs": [
    {
     "data": {
      "text/plain": [
       "57"
      ]
     },
     "execution_count": 33,
     "metadata": {},
     "output_type": "execute_result"
    }
   ],
   "source": [
    "#得到最大句子长度\n",
    "num_list=[len(one) for one in sentences]\n",
    "max(num_list)"
   ]
  },
  {
   "cell_type": "code",
   "execution_count": 34,
   "id": "25aa3ce1",
   "metadata": {},
   "outputs": [],
   "source": [
    "maxLen=64"
   ]
  },
  {
   "cell_type": "code",
   "execution_count": 35,
   "id": "cad599c7",
   "metadata": {},
   "outputs": [],
   "source": [
    "#处理label->one_hot\n",
    "from sklearn.preprocessing import LabelEncoder\n",
    "\n",
    "def encodelabel(data):\n",
    "    le = LabelEncoder()\n",
    "    resultLable=le.fit_transform(data['DISPOSITION'])\n",
    "    return resultLable\n"
   ]
  },
  {
   "cell_type": "code",
   "execution_count": 36,
   "id": "b3dcf8dc",
   "metadata": {},
   "outputs": [],
   "source": [
    "train_lable=encodelabel(train_set)\n",
    "test_lable=encodelabel(test_set)"
   ]
  },
  {
   "cell_type": "code",
   "execution_count": 37,
   "id": "1f35b5d9",
   "metadata": {},
   "outputs": [
    {
     "name": "stderr",
     "output_type": "stream",
     "text": [
      "2022-11-10 22:52:51,976 : INFO : loading Word2Vec object from ./word2vec_all.model\n",
      "2022-11-10 22:52:51,991 : INFO : loading wv recursively from ./word2vec_all.model.wv.* with mmap=None\n",
      "2022-11-10 22:52:51,992 : INFO : setting ignored attribute cum_table to None\n",
      "2022-11-10 22:52:52,106 : INFO : Word2Vec lifecycle event {'fname': './word2vec_all.model', 'datetime': '2022-11-10T22:52:52.106446', 'gensim': '4.2.0', 'python': '3.10.6 (main, Oct 24 2022, 16:07:47) [GCC 11.2.0]', 'platform': 'Linux-5.15.68.1-microsoft-standard-WSL2-x86_64-with-glibc2.35', 'event': 'loaded'}\n"
     ]
    }
   ],
   "source": [
    "wvmodel = word2vec.Word2Vec.load(\"./word2vec_all.model\")"
   ]
  },
  {
   "cell_type": "code",
   "execution_count": 38,
   "id": "9cc89146",
   "metadata": {},
   "outputs": [],
   "source": [
    "import json\n",
    "f = open(path_father + \"/embedding/TransE_SGD.json\")\n",
    "nekg = json.load(f)"
   ]
  },
  {
   "cell_type": "code",
   "execution_count": 39,
   "id": "26830919",
   "metadata": {},
   "outputs": [],
   "source": [
    "tokenizer=Tokenizer()\n",
    "tokenizer.fit_on_texts(sentences)\n",
    "vocab = tokenizer.word_index "
   ]
  },
  {
   "cell_type": "code",
   "execution_count": 40,
   "id": "d6b9da6f",
   "metadata": {},
   "outputs": [],
   "source": [
    "#特征数字编号，不足的话会在前面补充0\n",
    "trainID = tokenizer.texts_to_sequences(train_text)\n",
    "# print(trainID)\n",
    "testID = tokenizer.texts_to_sequences(test_text)\n",
    "trainSeq=pad_sequences(trainID,maxlen=maxLen)\n",
    "#print(trainSeq)\n",
    "testSeq=pad_sequences(testID,maxlen=maxLen)\n",
    "\n",
    "#标签的独热编码\n",
    "trainCate = to_categorical(train_lable, num_classes=2)  # 将标签转换为one-hot编码\n",
    "#print(trainCate)\n",
    "testCate= to_categorical(test_lable, num_classes=2)  # 将标签转换为one-hot编码"
   ]
  },
  {
   "cell_type": "code",
   "execution_count": 41,
   "id": "cc516388",
   "metadata": {},
   "outputs": [],
   "source": [
    "def nekg_embed(n0):\n",
    "    n1=int(n0)\n",
    "    n2=int(n0)+1\n",
    "    s1=(n2-n0)/(n2-n1)\n",
    "    s2=(n0-n1)/(n2-n1)\n",
    "    return s1*nekg[n1]+s2*nekg[n2]"
   ]
  },
  {
   "cell_type": "code",
   "execution_count": 42,
   "id": "88a8378f",
   "metadata": {},
   "outputs": [],
   "source": [
    "#利用训练后的word2vec自定义Embedding的训练矩阵，每行代表一个词（结合独热码和矩阵乘法理解）\n",
    "embedding_matrix = np.zeros((len(vocab) + 1, 100))\n",
    "for word, i in vocab.items():\n",
    "    try:\n",
    "        if(word.isdigit()==False):#对word用word2vec\n",
    "            embedding_vector = wvmodel.wv[str(word)]\n",
    "        else:#对number用nekg\n",
    "            if (int(float(word))<=998):\n",
    "                embedding_vector =  nekg_embed(float(word))\n",
    "            else:\n",
    "                embedding_vector = wvmodel.wv[str(word)]\n",
    "        embedding_matrix[i] = embedding_vector    \n",
    "    except KeyError:\n",
    "        continue"
   ]
  },
  {
   "cell_type": "code",
   "execution_count": 43,
   "id": "1fa9c8f0",
   "metadata": {},
   "outputs": [
    {
     "name": "stdout",
     "output_type": "stream",
     "text": [
      "Model: \"sequential_11\"\n",
      "_________________________________________________________________\n",
      " Layer (type)                Output Shape              Param #   \n",
      "=================================================================\n",
      " embedding_11 (Embedding)    (None, 64, 100)           806300    \n",
      "                                                                 \n",
      " lstm_11 (LSTM)              (None, 64)                42240     \n",
      "                                                                 \n",
      " FC1 (Dense)                 (None, 64)                4160      \n",
      "                                                                 \n",
      " dropout_11 (Dropout)        (None, 64)                0         \n",
      "                                                                 \n",
      " FC2 (Dense)                 (None, 2)                 130       \n",
      "                                                                 \n",
      "=================================================================\n",
      "Total params: 852,830\n",
      "Trainable params: 852,830\n",
      "Non-trainable params: 0\n",
      "_________________________________________________________________\n",
      "Epoch 1/30\n",
      "154/154 [==============================] - 10s 54ms/step - loss: 0.7111 - accuracy: 0.5443 - val_loss: 0.6975 - val_accuracy: 0.5812\n",
      "Epoch 2/30\n",
      "154/154 [==============================] - 8s 54ms/step - loss: 0.6178 - accuracy: 0.6832 - val_loss: 0.5395 - val_accuracy: 0.7532\n",
      "Epoch 3/30\n",
      "154/154 [==============================] - 8s 51ms/step - loss: 0.5370 - accuracy: 0.7628 - val_loss: 0.5147 - val_accuracy: 0.7565\n",
      "Epoch 4/30\n",
      "154/154 [==============================] - 8s 52ms/step - loss: 0.4632 - accuracy: 0.7961 - val_loss: 0.5115 - val_accuracy: 0.7760\n",
      "Epoch 5/30\n",
      "154/154 [==============================] - 8s 50ms/step - loss: 0.3873 - accuracy: 0.8383 - val_loss: 0.5510 - val_accuracy: 0.7760\n",
      "Epoch 6/30\n",
      "154/154 [==============================] - 8s 51ms/step - loss: 0.3263 - accuracy: 0.8741 - val_loss: 0.7028 - val_accuracy: 0.7468\n",
      "Epoch 7/30\n",
      "154/154 [==============================] - 8s 49ms/step - loss: 0.2444 - accuracy: 0.9050 - val_loss: 0.6265 - val_accuracy: 0.7597\n",
      "Epoch 8/30\n",
      "154/154 [==============================] - 8s 50ms/step - loss: 0.2022 - accuracy: 0.9326 - val_loss: 0.6435 - val_accuracy: 0.7468\n",
      "Epoch 9/30\n",
      "154/154 [==============================] - 7s 46ms/step - loss: 0.1395 - accuracy: 0.9545 - val_loss: 0.8641 - val_accuracy: 0.7338\n"
     ]
    },
    {
     "name": "stderr",
     "output_type": "stream",
     "text": [
      "2022-11-10 22:54:08,493 : WARNING : Found untraced functions such as lstm_cell_12_layer_call_fn, lstm_cell_12_layer_call_and_return_conditional_losses while saving (showing 2 of 2). These functions will not be directly callable after loading.\n"
     ]
    },
    {
     "name": "stdout",
     "output_type": "stream",
     "text": [
      "INFO:tensorflow:Assets written to: LSTM/assets\n"
     ]
    },
    {
     "name": "stderr",
     "output_type": "stream",
     "text": [
      "2022-11-10 22:54:09,053 : INFO : Assets written to: LSTM/assets\n"
     ]
    }
   ],
   "source": [
    "## 定义LSTM模型\n",
    "batch_size = 8\n",
    "inputs = Input(name='inputs',shape=[maxLen])\n",
    "embedder = Embedding(len(vocab) + 1, 100, input_length=maxLen, weights=[embedding_matrix], trainable=True)\n",
    "model=Sequential()\n",
    "model.add(embedder)\n",
    "model.add(LSTM(64))\n",
    "model.add(Dense(64,activation=\"sigmoid\",name=\"FC1\"))\n",
    "model.add(Dropout(0.4))\n",
    "model.add(Dense(2,activation=\"softmax\",name=\"FC2\"))\n",
    "model.summary()\n",
    "model.compile(loss=\"categorical_crossentropy\",optimizer=RMSprop(),metrics=[\"accuracy\"])\n",
    "#reduce_lr = ReduceLROnPlateau(monitor='val_loss',factor=0.1 ,patience=3, mode='auto')\n",
    "history=model.fit(trainSeq, trainCate, batch_size, epochs=30,validation_split=0.2, callbacks=[EarlyStopping(monitor='val_loss',patience=5)])\n",
    "model.save(\"LSTM\")"
   ]
  },
  {
   "cell_type": "code",
   "execution_count": 44,
   "id": "f6b394d2",
   "metadata": {},
   "outputs": [
    {
     "name": "stdout",
     "output_type": "stream",
     "text": [
      "6/6 [==============================] - 0s 11ms/step\n",
      "6/6 [==============================] - 1s 16ms/step - loss: 1.0764 - accuracy: 0.6608\n",
      "[1.0763626098632812, 0.6608186960220337]\n"
     ]
    }
   ],
   "source": [
    "#预测与评估\n",
    "mainModel = load_model('LSTM')\n",
    "result = mainModel.predict(testSeq)  # 预测样本属于每个类别的概率\n",
    "score = mainModel.evaluate(testSeq,\n",
    "                           testCate,\n",
    "                           batch_size=32)\n",
    "print(score)"
   ]
  },
  {
   "cell_type": "code",
   "execution_count": 45,
   "id": "5cd82ded",
   "metadata": {},
   "outputs": [
    {
     "data": {
      "image/png": "[encoded data removed]",
      "text/plain": [
       "<Figure size 640x480 with 1 Axes>"
      ]
     },
     "metadata": {},
     "output_type": "display_data"
    },
    {
     "data": {
      "image/png": "[encoded data removed]",
      "text/plain": [
       "<Figure size 640x480 with 1 Axes>"
      ]
     },
     "metadata": {},
     "output_type": "display_data"
    }
   ],
   "source": [
    "plt.plot(history.history['accuracy'])\n",
    "plt.plot(history.history['val_accuracy'])\n",
    "plt.title('Model accuracy')\n",
    "plt.ylabel('Accuracy')\n",
    "plt.xlabel('Epoch')\n",
    "plt.legend(['Train','Valid'],loc='upper left')\n",
    "plt.show()\n",
    "\n",
    "plt.plot(history.history['loss'])\n",
    "plt.plot(history.history['val_loss'])\n",
    "plt.title('Model loss')\n",
    "plt.ylabel('Loss')\n",
    "plt.xlabel('Epoch')\n",
    "plt.legend(['Train','Valid'],loc='upper left')\n",
    "plt.show()"
   ]
  },
  {
   "cell_type": "code",
   "execution_count": 46,
   "id": "5450d945",
   "metadata": {},
   "outputs": [
    {
     "name": "stdout",
     "output_type": "stream",
     "text": [
      "Model: \"sequential_12\"\n",
      "_________________________________________________________________\n",
      " Layer (type)                Output Shape              Param #   \n",
      "=================================================================\n",
      " embedding_12 (Embedding)    (None, 64, 100)           806300    \n",
      "                                                                 \n",
      " lstm_12 (LSTM)              (None, 64)                42240     \n",
      "                                                                 \n",
      " FC1 (Dense)                 (None, 64)                4160      \n",
      "                                                                 \n",
      " dropout_12 (Dropout)        (None, 64)                0         \n",
      "                                                                 \n",
      " FC2 (Dense)                 (None, 2)                 130       \n",
      "                                                                 \n",
      "=================================================================\n",
      "Total params: 852,830\n",
      "Trainable params: 852,830\n",
      "Non-trainable params: 0\n",
      "_________________________________________________________________\n",
      "Epoch 1/30\n",
      "154/154 [==============================] - 10s 52ms/step - loss: 0.6705 - accuracy: 0.6101 - val_loss: 0.5672 - val_accuracy: 0.7305\n",
      "Epoch 2/30\n",
      "154/154 [==============================] - 8s 55ms/step - loss: 0.5904 - accuracy: 0.7067 - val_loss: 0.6083 - val_accuracy: 0.6948\n",
      "Epoch 3/30\n",
      "154/154 [==============================] - 8s 54ms/step - loss: 0.5284 - accuracy: 0.7514 - val_loss: 0.6084 - val_accuracy: 0.6688\n",
      "Epoch 4/30\n",
      "154/154 [==============================] - 8s 50ms/step - loss: 0.4809 - accuracy: 0.7880 - val_loss: 0.5679 - val_accuracy: 0.7175\n",
      "Epoch 5/30\n",
      "154/154 [==============================] - 8s 50ms/step - loss: 0.3979 - accuracy: 0.8383 - val_loss: 0.5848 - val_accuracy: 0.7532\n",
      "Epoch 6/30\n",
      "154/154 [==============================] - 8s 50ms/step - loss: 0.3063 - accuracy: 0.8920 - val_loss: 0.5879 - val_accuracy: 0.7500\n",
      "6/6 [==============================] - 1s 14ms/step\n",
      "6/6 [==============================] - 0s 14ms/step - loss: 0.6350 - accuracy: 0.7018\n",
      "Model: \"sequential_13\"\n",
      "_________________________________________________________________\n",
      " Layer (type)                Output Shape              Param #   \n",
      "=================================================================\n",
      " embedding_13 (Embedding)    (None, 64, 100)           806300    \n",
      "                                                                 \n",
      " lstm_13 (LSTM)              (None, 64)                42240     \n",
      "                                                                 \n",
      " FC1 (Dense)                 (None, 64)                4160      \n",
      "                                                                 \n",
      " dropout_13 (Dropout)        (None, 64)                0         \n",
      "                                                                 \n",
      " FC2 (Dense)                 (None, 2)                 130       \n",
      "                                                                 \n",
      "=================================================================\n",
      "Total params: 852,830\n",
      "Trainable params: 852,830\n",
      "Non-trainable params: 0\n",
      "_________________________________________________________________\n",
      "Epoch 1/30\n",
      "154/154 [==============================] - 12s 55ms/step - loss: 0.6953 - accuracy: 0.5808 - val_loss: 0.5732 - val_accuracy: 0.7338\n",
      "Epoch 2/30\n",
      "154/154 [==============================] - 8s 54ms/step - loss: 0.5863 - accuracy: 0.7149 - val_loss: 0.5730 - val_accuracy: 0.7403\n",
      "Epoch 3/30\n",
      "154/154 [==============================] - 11s 70ms/step - loss: 0.5124 - accuracy: 0.7660 - val_loss: 0.5353 - val_accuracy: 0.7370\n",
      "Epoch 4/30\n",
      "154/154 [==============================] - 10s 66ms/step - loss: 0.4554 - accuracy: 0.8026 - val_loss: 0.5209 - val_accuracy: 0.7695\n",
      "Epoch 5/30\n",
      "154/154 [==============================] - 8s 54ms/step - loss: 0.3728 - accuracy: 0.8530 - val_loss: 0.5940 - val_accuracy: 0.7662\n",
      "Epoch 6/30\n",
      "154/154 [==============================] - 8s 51ms/step - loss: 0.3243 - accuracy: 0.8814 - val_loss: 0.6373 - val_accuracy: 0.7500\n",
      "Epoch 7/30\n",
      "154/154 [==============================] - 8s 51ms/step - loss: 0.2191 - accuracy: 0.9204 - val_loss: 0.7702 - val_accuracy: 0.7468\n",
      "Epoch 8/30\n",
      "154/154 [==============================] - 8s 52ms/step - loss: 0.1826 - accuracy: 0.9326 - val_loss: 0.8343 - val_accuracy: 0.7532\n",
      "Epoch 9/30\n",
      "154/154 [==============================] - 8s 54ms/step - loss: 0.1215 - accuracy: 0.9578 - val_loss: 0.7416 - val_accuracy: 0.7532\n",
      "6/6 [==============================] - 1s 17ms/step\n",
      "6/6 [==============================] - 0s 16ms/step - loss: 0.8770 - accuracy: 0.6608\n",
      "Model: \"sequential_14\"\n",
      "_________________________________________________________________\n",
      " Layer (type)                Output Shape              Param #   \n",
      "=================================================================\n",
      " embedding_14 (Embedding)    (None, 64, 100)           806300    \n",
      "                                                                 \n",
      " lstm_14 (LSTM)              (None, 64)                42240     \n",
      "                                                                 \n",
      " FC1 (Dense)                 (None, 64)                4160      \n",
      "                                                                 \n",
      " dropout_14 (Dropout)        (None, 64)                0         \n",
      "                                                                 \n",
      " FC2 (Dense)                 (None, 2)                 130       \n",
      "                                                                 \n",
      "=================================================================\n",
      "Total params: 852,830\n",
      "Trainable params: 852,830\n",
      "Non-trainable params: 0\n",
      "_________________________________________________________________\n",
      "Epoch 1/30\n",
      "154/154 [==============================] - 11s 56ms/step - loss: 0.7156 - accuracy: 0.5605 - val_loss: 0.6017 - val_accuracy: 0.6981\n",
      "Epoch 2/30\n",
      "154/154 [==============================] - 8s 55ms/step - loss: 0.6079 - accuracy: 0.6881 - val_loss: 0.6131 - val_accuracy: 0.6883\n",
      "Epoch 3/30\n",
      "154/154 [==============================] - 8s 55ms/step - loss: 0.5451 - accuracy: 0.7530 - val_loss: 0.5618 - val_accuracy: 0.7370\n",
      "Epoch 4/30\n",
      "154/154 [==============================] - 8s 51ms/step - loss: 0.4805 - accuracy: 0.7872 - val_loss: 0.5731 - val_accuracy: 0.7435\n",
      "Epoch 5/30\n",
      "154/154 [==============================] - 8s 51ms/step - loss: 0.4278 - accuracy: 0.8221 - val_loss: 0.5954 - val_accuracy: 0.7273\n",
      "Epoch 6/30\n",
      "154/154 [==============================] - 8s 50ms/step - loss: 0.3259 - accuracy: 0.8790 - val_loss: 0.6251 - val_accuracy: 0.6948\n",
      "Epoch 7/30\n",
      "154/154 [==============================] - 8s 51ms/step - loss: 0.2777 - accuracy: 0.9066 - val_loss: 0.6193 - val_accuracy: 0.7792\n",
      "Epoch 8/30\n",
      "154/154 [==============================] - 8s 51ms/step - loss: 0.2137 - accuracy: 0.9253 - val_loss: 0.6175 - val_accuracy: 0.7662\n",
      "6/6 [==============================] - 1s 17ms/step\n",
      "6/6 [==============================] - 0s 14ms/step - loss: 0.6617 - accuracy: 0.7018\n",
      "Model: \"sequential_15\"\n",
      "_________________________________________________________________\n",
      " Layer (type)                Output Shape              Param #   \n",
      "=================================================================\n",
      " embedding_15 (Embedding)    (None, 64, 100)           806300    \n",
      "                                                                 \n",
      " lstm_15 (LSTM)              (None, 64)                42240     \n",
      "                                                                 \n",
      " FC1 (Dense)                 (None, 64)                4160      \n",
      "                                                                 \n",
      " dropout_15 (Dropout)        (None, 64)                0         \n",
      "                                                                 \n",
      " FC2 (Dense)                 (None, 2)                 130       \n",
      "                                                                 \n",
      "=================================================================\n",
      "Total params: 852,830\n",
      "Trainable params: 852,830\n",
      "Non-trainable params: 0\n",
      "_________________________________________________________________\n",
      "Epoch 1/30\n",
      "154/154 [==============================] - 10s 50ms/step - loss: 0.7233 - accuracy: 0.5540 - val_loss: 0.5814 - val_accuracy: 0.7435\n",
      "Epoch 2/30\n",
      "154/154 [==============================] - 8s 51ms/step - loss: 0.6107 - accuracy: 0.6872 - val_loss: 0.5475 - val_accuracy: 0.7403\n",
      "Epoch 3/30\n",
      "154/154 [==============================] - 8s 52ms/step - loss: 0.5253 - accuracy: 0.7669 - val_loss: 0.5350 - val_accuracy: 0.7468\n",
      "Epoch 4/30\n",
      "154/154 [==============================] - 8s 52ms/step - loss: 0.4866 - accuracy: 0.7815 - val_loss: 0.5201 - val_accuracy: 0.7597\n",
      "Epoch 5/30\n",
      "154/154 [==============================] - 8s 53ms/step - loss: 0.4226 - accuracy: 0.8294 - val_loss: 0.5632 - val_accuracy: 0.7435\n",
      "Epoch 6/30\n",
      "154/154 [==============================] - 8s 53ms/step - loss: 0.3438 - accuracy: 0.8627 - val_loss: 0.5596 - val_accuracy: 0.7662\n",
      "Epoch 7/30\n",
      "154/154 [==============================] - 8s 52ms/step - loss: 0.2857 - accuracy: 0.8863 - val_loss: 0.6025 - val_accuracy: 0.7532\n",
      "Epoch 8/30\n",
      "154/154 [==============================] - 8s 52ms/step - loss: 0.2156 - accuracy: 0.9236 - val_loss: 0.6435 - val_accuracy: 0.7695\n",
      "Epoch 9/30\n",
      "154/154 [==============================] - 7s 48ms/step - loss: 0.1595 - accuracy: 0.9456 - val_loss: 0.7222 - val_accuracy: 0.7403\n",
      "6/6 [==============================] - 0s 13ms/step\n",
      "6/6 [==============================] - 0s 15ms/step - loss: 0.7256 - accuracy: 0.7544\n",
      "Model: \"sequential_16\"\n",
      "_________________________________________________________________\n",
      " Layer (type)                Output Shape              Param #   \n",
      "=================================================================\n",
      " embedding_16 (Embedding)    (None, 64, 100)           806300    \n",
      "                                                                 \n",
      " lstm_16 (LSTM)              (None, 64)                42240     \n",
      "                                                                 \n",
      " FC1 (Dense)                 (None, 64)                4160      \n",
      "                                                                 \n",
      " dropout_16 (Dropout)        (None, 64)                0         \n",
      "                                                                 \n",
      " FC2 (Dense)                 (None, 2)                 130       \n",
      "                                                                 \n",
      "=================================================================\n",
      "Total params: 852,830\n",
      "Trainable params: 852,830\n",
      "Non-trainable params: 0\n",
      "_________________________________________________________________\n",
      "Epoch 1/30\n",
      "154/154 [==============================] - 11s 58ms/step - loss: 0.7091 - accuracy: 0.5906 - val_loss: 0.5815 - val_accuracy: 0.7468\n",
      "Epoch 2/30\n",
      "154/154 [==============================] - 8s 51ms/step - loss: 0.5957 - accuracy: 0.6946 - val_loss: 0.5419 - val_accuracy: 0.7565\n",
      "Epoch 3/30\n",
      "154/154 [==============================] - 8s 52ms/step - loss: 0.5373 - accuracy: 0.7400 - val_loss: 0.5644 - val_accuracy: 0.7273\n",
      "Epoch 4/30\n",
      "154/154 [==============================] - 8s 51ms/step - loss: 0.4687 - accuracy: 0.7969 - val_loss: 0.5141 - val_accuracy: 0.7760\n",
      "Epoch 5/30\n",
      "154/154 [==============================] - 8s 52ms/step - loss: 0.3956 - accuracy: 0.8481 - val_loss: 0.5916 - val_accuracy: 0.7468\n",
      "Epoch 6/30\n",
      "154/154 [==============================] - 8s 52ms/step - loss: 0.3063 - accuracy: 0.8911 - val_loss: 0.5429 - val_accuracy: 0.7695\n",
      "Epoch 7/30\n",
      "154/154 [==============================] - 8s 52ms/step - loss: 0.2544 - accuracy: 0.9017 - val_loss: 0.7304 - val_accuracy: 0.7500\n",
      "Epoch 8/30\n",
      "154/154 [==============================] - 9s 60ms/step - loss: 0.1904 - accuracy: 0.9366 - val_loss: 0.8262 - val_accuracy: 0.7370\n",
      "Epoch 9/30\n",
      "154/154 [==============================] - 8s 51ms/step - loss: 0.1176 - accuracy: 0.9618 - val_loss: 0.9797 - val_accuracy: 0.7240\n",
      "6/6 [==============================] - 1s 21ms/step\n",
      "6/6 [==============================] - 0s 22ms/step - loss: 0.8908 - accuracy: 0.7251\n",
      "Model: \"sequential_17\"\n",
      "_________________________________________________________________\n",
      " Layer (type)                Output Shape              Param #   \n",
      "=================================================================\n",
      " embedding_17 (Embedding)    (None, 64, 100)           806300    \n",
      "                                                                 \n",
      " lstm_17 (LSTM)              (None, 64)                42240     \n",
      "                                                                 \n",
      " FC1 (Dense)                 (None, 64)                4160      \n",
      "                                                                 \n",
      " dropout_17 (Dropout)        (None, 64)                0         \n",
      "                                                                 \n",
      " FC2 (Dense)                 (None, 2)                 130       \n",
      "                                                                 \n",
      "=================================================================\n",
      "Total params: 852,830\n",
      "Trainable params: 852,830\n",
      "Non-trainable params: 0\n",
      "_________________________________________________________________\n",
      "Epoch 1/30\n",
      "154/154 [==============================] - 12s 59ms/step - loss: 0.7064 - accuracy: 0.5548 - val_loss: 0.5619 - val_accuracy: 0.7305\n",
      "Epoch 2/30\n",
      "154/154 [==============================] - 9s 61ms/step - loss: 0.6053 - accuracy: 0.7011 - val_loss: 0.5401 - val_accuracy: 0.7435\n",
      "Epoch 3/30\n",
      "154/154 [==============================] - 9s 60ms/step - loss: 0.5363 - accuracy: 0.7498 - val_loss: 0.5246 - val_accuracy: 0.7597\n",
      "Epoch 4/30\n",
      "154/154 [==============================] - 9s 60ms/step - loss: 0.4675 - accuracy: 0.8058 - val_loss: 0.5258 - val_accuracy: 0.7435\n",
      "Epoch 5/30\n",
      "154/154 [==============================] - 9s 56ms/step - loss: 0.3914 - accuracy: 0.8432 - val_loss: 0.6608 - val_accuracy: 0.6948\n",
      "Epoch 6/30\n",
      "154/154 [==============================] - 9s 56ms/step - loss: 0.3204 - accuracy: 0.8757 - val_loss: 0.6597 - val_accuracy: 0.7500\n",
      "Epoch 7/30\n",
      "154/154 [==============================] - 9s 59ms/step - loss: 0.2594 - accuracy: 0.9058 - val_loss: 0.7234 - val_accuracy: 0.7305\n",
      "Epoch 8/30\n",
      "154/154 [==============================] - 8s 51ms/step - loss: 0.1915 - accuracy: 0.9374 - val_loss: 0.6866 - val_accuracy: 0.7338\n",
      "6/6 [==============================] - 1s 24ms/step\n",
      "6/6 [==============================] - 0s 19ms/step - loss: 0.6979 - accuracy: 0.7251\n",
      "Model: \"sequential_18\"\n",
      "_________________________________________________________________\n",
      " Layer (type)                Output Shape              Param #   \n",
      "=================================================================\n",
      " embedding_18 (Embedding)    (None, 64, 100)           806300    \n",
      "                                                                 \n",
      " lstm_18 (LSTM)              (None, 64)                42240     \n",
      "                                                                 \n",
      " FC1 (Dense)                 (None, 64)                4160      \n",
      "                                                                 \n",
      " dropout_18 (Dropout)        (None, 64)                0         \n",
      "                                                                 \n",
      " FC2 (Dense)                 (None, 2)                 130       \n",
      "                                                                 \n",
      "=================================================================\n",
      "Total params: 852,830\n",
      "Trainable params: 852,830\n",
      "Non-trainable params: 0\n",
      "_________________________________________________________________\n",
      "Epoch 1/30\n",
      "154/154 [==============================] - 11s 59ms/step - loss: 0.6936 - accuracy: 0.5808 - val_loss: 0.6415 - val_accuracy: 0.6623\n",
      "Epoch 2/30\n",
      "154/154 [==============================] - 9s 60ms/step - loss: 0.6104 - accuracy: 0.6994 - val_loss: 0.6537 - val_accuracy: 0.6364\n",
      "Epoch 3/30\n",
      "154/154 [==============================] - 9s 59ms/step - loss: 0.5362 - accuracy: 0.7530 - val_loss: 0.5458 - val_accuracy: 0.7240\n",
      "Epoch 4/30\n",
      "154/154 [==============================] - 9s 57ms/step - loss: 0.4671 - accuracy: 0.7904 - val_loss: 0.5639 - val_accuracy: 0.7662\n",
      "Epoch 5/30\n",
      "154/154 [==============================] - 8s 54ms/step - loss: 0.4150 - accuracy: 0.8318 - val_loss: 0.6312 - val_accuracy: 0.7857\n",
      "Epoch 6/30\n",
      "154/154 [==============================] - 8s 53ms/step - loss: 0.3322 - accuracy: 0.8578 - val_loss: 0.6881 - val_accuracy: 0.6721\n",
      "Epoch 7/30\n",
      "154/154 [==============================] - 8s 50ms/step - loss: 0.2654 - accuracy: 0.8993 - val_loss: 0.6719 - val_accuracy: 0.7403\n",
      "Epoch 8/30\n",
      "154/154 [==============================] - 8s 50ms/step - loss: 0.2049 - accuracy: 0.9228 - val_loss: 0.7015 - val_accuracy: 0.7273\n",
      "6/6 [==============================] - 1s 15ms/step\n",
      "6/6 [==============================] - 0s 15ms/step - loss: 0.6493 - accuracy: 0.7368\n",
      "Model: \"sequential_19\"\n",
      "_________________________________________________________________\n",
      " Layer (type)                Output Shape              Param #   \n",
      "=================================================================\n",
      " embedding_19 (Embedding)    (None, 64, 100)           806300    \n",
      "                                                                 \n",
      " lstm_19 (LSTM)              (None, 64)                42240     \n",
      "                                                                 \n",
      " FC1 (Dense)                 (None, 64)                4160      \n",
      "                                                                 \n",
      " dropout_19 (Dropout)        (None, 64)                0         \n",
      "                                                                 \n",
      " FC2 (Dense)                 (None, 2)                 130       \n",
      "                                                                 \n",
      "=================================================================\n",
      "Total params: 852,830\n",
      "Trainable params: 852,830\n",
      "Non-trainable params: 0\n",
      "_________________________________________________________________\n",
      "Epoch 1/30\n",
      "154/154 [==============================] - 11s 57ms/step - loss: 0.7251 - accuracy: 0.5435 - val_loss: 0.6503 - val_accuracy: 0.6006\n",
      "Epoch 2/30\n",
      "154/154 [==============================] - 9s 56ms/step - loss: 0.6320 - accuracy: 0.6556 - val_loss: 0.5796 - val_accuracy: 0.7045\n",
      "Epoch 3/30\n",
      "154/154 [==============================] - 9s 56ms/step - loss: 0.5526 - accuracy: 0.7327 - val_loss: 0.7364 - val_accuracy: 0.6558\n",
      "Epoch 4/30\n",
      "154/154 [==============================] - 8s 54ms/step - loss: 0.4821 - accuracy: 0.7904 - val_loss: 0.5542 - val_accuracy: 0.7468\n",
      "Epoch 5/30\n",
      "154/154 [==============================] - 8s 53ms/step - loss: 0.4351 - accuracy: 0.8067 - val_loss: 0.6000 - val_accuracy: 0.7273\n",
      "Epoch 6/30\n",
      "154/154 [==============================] - 8s 52ms/step - loss: 0.3589 - accuracy: 0.8530 - val_loss: 0.5702 - val_accuracy: 0.7565\n",
      "Epoch 7/30\n",
      "154/154 [==============================] - 8s 52ms/step - loss: 0.2943 - accuracy: 0.8887 - val_loss: 0.6148 - val_accuracy: 0.7500\n",
      "Epoch 8/30\n",
      "154/154 [==============================] - 7s 47ms/step - loss: 0.2163 - accuracy: 0.9212 - val_loss: 0.6396 - val_accuracy: 0.7468\n",
      "Epoch 9/30\n",
      "154/154 [==============================] - 8s 53ms/step - loss: 0.1488 - accuracy: 0.9521 - val_loss: 0.7313 - val_accuracy: 0.7565\n",
      "6/6 [==============================] - 0s 11ms/step\n",
      "6/6 [==============================] - 0s 11ms/step - loss: 0.7566 - accuracy: 0.7251\n",
      "Model: \"sequential_20\"\n",
      "_________________________________________________________________\n",
      " Layer (type)                Output Shape              Param #   \n",
      "=================================================================\n",
      " embedding_20 (Embedding)    (None, 64, 100)           806300    \n",
      "                                                                 \n",
      " lstm_20 (LSTM)              (None, 64)                42240     \n",
      "                                                                 \n",
      " FC1 (Dense)                 (None, 64)                4160      \n",
      "                                                                 \n",
      " dropout_20 (Dropout)        (None, 64)                0         \n",
      "                                                                 \n",
      " FC2 (Dense)                 (None, 2)                 130       \n",
      "                                                                 \n",
      "=================================================================\n",
      "Total params: 852,830\n",
      "Trainable params: 852,830\n",
      "Non-trainable params: 0\n",
      "_________________________________________________________________\n",
      "Epoch 1/30\n",
      "154/154 [==============================] - 12s 60ms/step - loss: 0.7193 - accuracy: 0.5573 - val_loss: 0.6958 - val_accuracy: 0.5065\n",
      "Epoch 2/30\n",
      "154/154 [==============================] - 9s 57ms/step - loss: 0.6355 - accuracy: 0.6621 - val_loss: 0.6438 - val_accuracy: 0.6104\n",
      "Epoch 3/30\n",
      "154/154 [==============================] - 9s 56ms/step - loss: 0.5615 - accuracy: 0.7352 - val_loss: 0.5575 - val_accuracy: 0.7305\n",
      "Epoch 4/30\n",
      "154/154 [==============================] - 8s 55ms/step - loss: 0.5010 - accuracy: 0.7734 - val_loss: 0.5729 - val_accuracy: 0.7370\n",
      "Epoch 5/30\n",
      "154/154 [==============================] - 8s 53ms/step - loss: 0.4354 - accuracy: 0.8123 - val_loss: 0.5606 - val_accuracy: 0.7532\n",
      "Epoch 6/30\n",
      "154/154 [==============================] - 8s 52ms/step - loss: 0.3638 - accuracy: 0.8505 - val_loss: 0.5583 - val_accuracy: 0.7500\n",
      "Epoch 7/30\n",
      "154/154 [==============================] - 8s 52ms/step - loss: 0.2873 - accuracy: 0.8855 - val_loss: 0.6348 - val_accuracy: 0.7630\n",
      "Epoch 8/30\n",
      "154/154 [==============================] - 8s 53ms/step - loss: 0.2202 - accuracy: 0.9115 - val_loss: 0.8720 - val_accuracy: 0.7175\n",
      "6/6 [==============================] - 1s 17ms/step\n",
      "6/6 [==============================] - 0s 17ms/step - loss: 0.8059 - accuracy: 0.6901\n",
      "Model: \"sequential_21\"\n",
      "_________________________________________________________________\n",
      " Layer (type)                Output Shape              Param #   \n",
      "=================================================================\n",
      " embedding_21 (Embedding)    (None, 64, 100)           806300    \n",
      "                                                                 \n",
      " lstm_21 (LSTM)              (None, 64)                42240     \n",
      "                                                                 \n",
      " FC1 (Dense)                 (None, 64)                4160      \n",
      "                                                                 \n",
      " dropout_21 (Dropout)        (None, 64)                0         \n",
      "                                                                 \n",
      " FC2 (Dense)                 (None, 2)                 130       \n",
      "                                                                 \n",
      "=================================================================\n",
      "Total params: 852,830\n",
      "Trainable params: 852,830\n",
      "Non-trainable params: 0\n",
      "_________________________________________________________________\n",
      "Epoch 1/30\n",
      "154/154 [==============================] - 10s 56ms/step - loss: 0.7062 - accuracy: 0.5613 - val_loss: 0.5768 - val_accuracy: 0.7240\n",
      "Epoch 2/30\n",
      "154/154 [==============================] - 8s 53ms/step - loss: 0.6100 - accuracy: 0.6954 - val_loss: 0.5672 - val_accuracy: 0.7273\n",
      "Epoch 3/30\n",
      "154/154 [==============================] - 11s 72ms/step - loss: 0.5348 - accuracy: 0.7514 - val_loss: 0.6405 - val_accuracy: 0.7143\n",
      "Epoch 4/30\n",
      "154/154 [==============================] - 10s 63ms/step - loss: 0.4784 - accuracy: 0.7888 - val_loss: 0.5539 - val_accuracy: 0.7695\n",
      "Epoch 5/30\n",
      "154/154 [==============================] - 9s 60ms/step - loss: 0.4103 - accuracy: 0.8318 - val_loss: 0.5091 - val_accuracy: 0.7727\n",
      "Epoch 6/30\n",
      "154/154 [==============================] - 10s 63ms/step - loss: 0.3358 - accuracy: 0.8668 - val_loss: 0.7524 - val_accuracy: 0.7403\n",
      "Epoch 7/30\n",
      "154/154 [==============================] - 9s 56ms/step - loss: 0.2854 - accuracy: 0.8895 - val_loss: 0.5473 - val_accuracy: 0.7695\n",
      "Epoch 8/30\n",
      "154/154 [==============================] - 9s 57ms/step - loss: 0.2099 - accuracy: 0.9277 - val_loss: 0.7073 - val_accuracy: 0.7695\n",
      "Epoch 9/30\n",
      "154/154 [==============================] - 9s 57ms/step - loss: 0.1672 - accuracy: 0.9383 - val_loss: 0.6706 - val_accuracy: 0.7630\n",
      "Epoch 10/30\n",
      "154/154 [==============================] - 6s 40ms/step - loss: 0.1101 - accuracy: 0.9594 - val_loss: 0.7350 - val_accuracy: 0.7597\n",
      "6/6 [==============================] - 0s 9ms/step\n",
      "6/6 [==============================] - 0s 8ms/step - loss: 0.8104 - accuracy: 0.7018\n"
     ]
    }
   ],
   "source": [
    "score_list=[]\n",
    "for i in range(10):\n",
    "    ## 定义LSTM模型\n",
    "    batch_size = 8\n",
    "    inputs = Input(name='inputs',shape=[maxLen])\n",
    "    embedder = Embedding(len(vocab) + 1, 100, input_length=maxLen, weights=[embedding_matrix], trainable=True)\n",
    "    model=Sequential()\n",
    "    model.add(embedder)\n",
    "    model.add(LSTM(64))\n",
    "    model.add(Dense(64,activation=\"sigmoid\",name=\"FC1\"))\n",
    "    model.add(Dropout(0.4,seed=12))\n",
    "    model.add(Dense(2,activation=\"softmax\",name=\"FC2\"))\n",
    "    model.summary()\n",
    "    model.compile(loss=\"categorical_crossentropy\",optimizer=RMSprop(),metrics=[\"accuracy\"])\n",
    "    #reduce_lr = ReduceLROnPlateau(monitor='val_loss',factor=0.1 ,patience=3, mode='auto')\n",
    "    history=model.fit(trainSeq, trainCate, batch_size, epochs=30,validation_split=0.2, callbacks=[EarlyStopping(monitor='val_loss',patience=5)])\n",
    "    result = model.predict(testSeq)  # 预测样本属于每个类别的概率\n",
    "    score = model.evaluate(testSeq,\n",
    "                               testCate,\n",
    "                               batch_size=32)\n",
    "    score_list.append(score[1])"
   ]
  },
  {
   "cell_type": "code",
   "execution_count": 47,
   "id": "7a7fbe16",
   "metadata": {},
   "outputs": [
    {
     "name": "stdout",
     "output_type": "stream",
     "text": [
      "accuracy:0.7122806906700134\n"
     ]
    }
   ],
   "source": [
    "print('accuracy:'+str(sum(score_list)/len(score_list)))"
   ]
  },
  {
   "cell_type": "code",
   "execution_count": 48,
   "id": "c717fe6f",
   "metadata": {},
   "outputs": [],
   "source": [
    "score_list.sort()"
   ]
  },
  {
   "cell_type": "code",
   "execution_count": 49,
   "id": "205e3cfa",
   "metadata": {},
   "outputs": [
    {
     "data": {
      "text/plain": [
       "[0.6608186960220337,\n",
       " 0.6900584697723389,\n",
       " 0.7017543911933899,\n",
       " 0.7017543911933899,\n",
       " 0.7017543911933899,\n",
       " 0.7251461744308472,\n",
       " 0.7251461744308472,\n",
       " 0.7251461744308472,\n",
       " 0.7368420958518982,\n",
       " 0.7543859481811523]"
      ]
     },
     "execution_count": 49,
     "metadata": {},
     "output_type": "execute_result"
    }
   ],
   "source": [
    "score_list"
   ]
  },
  {
   "cell_type": "code",
   "execution_count": 50,
   "id": "f7c4ddf9",
   "metadata": {},
   "outputs": [
    {
     "data": {
      "text/plain": [
       "0.7179986900753446"
      ]
     },
     "execution_count": 50,
     "metadata": {},
     "output_type": "execute_result"
    }
   ],
   "source": [
    "sum(score_list[1:])/len(score_list[1:])"
   ]
  }
 ],
 "metadata": {
  "kernelspec": {
   "display_name": "Python 3.10.6 ('4222G18_backup')",
   "language": "python",
   "name": "python3"
  },
  "language_info": {
   "codemirror_mode": {
    "name": "ipython",
    "version": 3
   },
   "file_extension": ".py",
   "mimetype": "text/x-python",
   "name": "python",
   "nbconvert_exporter": "python",
   "pygments_lexer": "ipython3",
   "version": "3.10.6"
  },
  "vscode": {
   "interpreter": {
    "hash": "64fb50f4500008f9f404f170e716523d28225753a93c94be3d36e645dbfada09"
   }
  }
 },
 "nbformat": 4,
 "nbformat_minor": 5
}
