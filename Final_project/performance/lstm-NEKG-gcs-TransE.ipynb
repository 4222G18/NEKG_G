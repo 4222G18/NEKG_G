{
 "cells": [
  {
   "cell_type": "code",
   "execution_count": 52,
   "id": "7a8df98f",
   "metadata": {},
   "outputs": [
    {
     "data": {
      "text/plain": [
       "'/home/egbert_jing/github/NEKG_G/Final_project'"
      ]
     },
     "execution_count": 52,
     "metadata": {},
     "output_type": "execute_result"
    }
   ],
   "source": [
    "import sys\n",
    "import os\n",
    "path_father = os.path.abspath(r'..')\n",
    "path_father\n",
    "# sys.path.append(path_father)"
   ]
  },
  {
   "cell_type": "code",
   "execution_count": 53,
   "id": "fce28d96",
   "metadata": {},
   "outputs": [],
   "source": [
    "import pandas as pd\n",
    "import numpy as np\n",
    "import matplotlib.pyplot as plt\n",
    "import seaborn as sns\n",
    "from sklearn import metrics\n",
    "from sklearn.preprocessing import LabelEncoder,OneHotEncoder\n",
    "from keras.models import Model\n",
    "from keras.layers import LSTM, Activation, Dense, Dropout, Input, Embedding\n",
    "from keras.optimizers import RMSprop\n",
    "from keras.preprocessing.text import Tokenizer\n",
    "from keras.preprocessing import sequence\n",
    "from keras.callbacks import EarlyStopping\n",
    "from keras_preprocessing.sequence import pad_sequences\n",
    "from keras.utils.np_utils import to_categorical\n",
    "from keras.models import Sequential\n",
    "from keras.callbacks import ReduceLROnPlateau\n",
    "from keras.models import load_model\n",
    "%matplotlib inline"
   ]
  },
  {
   "cell_type": "code",
   "execution_count": 54,
   "id": "c268b59b",
   "metadata": {},
   "outputs": [],
   "source": [
    "df = pd.read_csv(path_father + \"/df_with_gcs.txt\",sep=',',header=0)"
   ]
  },
  {
   "cell_type": "code",
   "execution_count": 55,
   "id": "e9e0ee5c",
   "metadata": {},
   "outputs": [],
   "source": [
    "#划分训练测试集\n",
    "from sklearn.model_selection import train_test_split\n",
    "\n",
    "train_set, test_set = train_test_split(df, test_size=0.1, random_state=42)"
   ]
  },
  {
   "cell_type": "markdown",
   "id": "59d7c98f",
   "metadata": {},
   "source": [
    "处理词向量"
   ]
  },
  {
   "cell_type": "code",
   "execution_count": 56,
   "id": "12c63f87",
   "metadata": {},
   "outputs": [],
   "source": [
    "from gensim.models import word2vec\n",
    "import logging\n",
    "logging.basicConfig(format='%(asctime)s : %(levelname)s : %(message)s', level=logging.INFO) "
   ]
  },
  {
   "cell_type": "code",
   "execution_count": 57,
   "id": "f13dfd1d",
   "metadata": {},
   "outputs": [],
   "source": [
    "# 切分词汇\n",
    "def cut(data):\n",
    "    cut= [s.split() for s in data['TriageNote'].astype(str)]\n",
    "    return cut"
   ]
  },
  {
   "cell_type": "code",
   "execution_count": 58,
   "id": "94dd810e",
   "metadata": {},
   "outputs": [],
   "source": [
    "train_text=cut(train_set)\n",
    "test_text=cut(test_set)\n",
    "sentences=train_text+test_text"
   ]
  },
  {
   "cell_type": "code",
   "execution_count": 59,
   "id": "2b4b566b",
   "metadata": {},
   "outputs": [
    {
     "data": {
      "text/plain": [
       "57"
      ]
     },
     "execution_count": 59,
     "metadata": {},
     "output_type": "execute_result"
    }
   ],
   "source": [
    "#得到最大句子长度\n",
    "num_list=[len(one) for one in sentences]\n",
    "max(num_list)"
   ]
  },
  {
   "cell_type": "code",
   "execution_count": 60,
   "id": "25aa3ce1",
   "metadata": {},
   "outputs": [],
   "source": [
    "maxLen=64"
   ]
  },
  {
   "cell_type": "code",
   "execution_count": 61,
   "id": "cad599c7",
   "metadata": {},
   "outputs": [],
   "source": [
    "#处理label->one_hot\n",
    "from sklearn.preprocessing import LabelEncoder\n",
    "\n",
    "def encodelabel(data):\n",
    "    le = LabelEncoder()\n",
    "    resultLable=le.fit_transform(data['DISPOSITION'])\n",
    "    return resultLable\n"
   ]
  },
  {
   "cell_type": "code",
   "execution_count": 62,
   "id": "b3dcf8dc",
   "metadata": {},
   "outputs": [],
   "source": [
    "train_lable=encodelabel(train_set)\n",
    "test_lable=encodelabel(test_set)"
   ]
  },
  {
   "cell_type": "code",
   "execution_count": 63,
   "id": "1f35b5d9",
   "metadata": {},
   "outputs": [
    {
     "name": "stderr",
     "output_type": "stream",
     "text": [
      "2022-11-27 17:18:03,219 : INFO : loading Word2Vec object from ./word2vec_all.model\n",
      "2022-11-27 17:18:03,242 : INFO : loading wv recursively from ./word2vec_all.model.wv.* with mmap=None\n",
      "2022-11-27 17:18:03,243 : INFO : setting ignored attribute cum_table to None\n",
      "2022-11-27 17:18:03,364 : INFO : Word2Vec lifecycle event {'fname': './word2vec_all.model', 'datetime': '2022-11-27T17:18:03.364797', 'gensim': '4.2.0', 'python': '3.10.6 (main, Oct 24 2022, 16:07:47) [GCC 11.2.0]', 'platform': 'Linux-5.15.74.2-microsoft-standard-WSL2-x86_64-with-glibc2.35', 'event': 'loaded'}\n"
     ]
    }
   ],
   "source": [
    "wvmodel = word2vec.Word2Vec.load(\"./word2vec_all.model\")"
   ]
  },
  {
   "cell_type": "code",
   "execution_count": 64,
   "id": "9cc89146",
   "metadata": {},
   "outputs": [
    {
     "data": {
      "text/plain": [
       "array([[ 0.0233697 , -0.06033021,  0.12181298, ...,  0.02453081,\n",
       "         0.08270947, -0.13521565],\n",
       "       [ 0.00831057, -0.16622369,  0.03909841, ..., -0.12107956,\n",
       "         0.16347505, -0.18603498],\n",
       "       [-0.00831859,  0.11891805, -0.18753122, ..., -0.08947816,\n",
       "         0.09050062,  0.17655872],\n",
       "       ...,\n",
       "       [-0.12894101,  0.09724578,  0.1814782 , ..., -0.13313262,\n",
       "         0.07277485,  0.13928799],\n",
       "       [-0.1486426 , -0.03789555, -0.08317744, ..., -0.12301476,\n",
       "         0.05882372,  0.09281635],\n",
       "       [-0.12585522, -0.17712761,  0.04526599, ..., -0.14120999,\n",
       "        -0.05112083,  0.03739389]])"
      ]
     },
     "execution_count": 64,
     "metadata": {},
     "output_type": "execute_result"
    }
   ],
   "source": [
    "# import json\n",
    "# f = open(path_father + \"/embedding/TransE_99.json\")\n",
    "# nekg = json.load(f)\n",
    "nekg=np.load(path_father + '/embedding/TransE_99.npy')\n",
    "nekg"
   ]
  },
  {
   "cell_type": "code",
   "execution_count": 65,
   "id": "26830919",
   "metadata": {},
   "outputs": [],
   "source": [
    "tokenizer=Tokenizer()\n",
    "tokenizer.fit_on_texts(sentences)\n",
    "vocab = tokenizer.word_index "
   ]
  },
  {
   "cell_type": "code",
   "execution_count": 66,
   "id": "d6b9da6f",
   "metadata": {},
   "outputs": [],
   "source": [
    "#特征数字编号，不足的话会在前面补充0\n",
    "trainID = tokenizer.texts_to_sequences(train_text)\n",
    "# print(trainID)\n",
    "testID = tokenizer.texts_to_sequences(test_text)\n",
    "trainSeq=pad_sequences(trainID,maxlen=maxLen)\n",
    "#print(trainSeq)\n",
    "testSeq=pad_sequences(testID,maxlen=maxLen)\n",
    "\n",
    "#标签的独热编码\n",
    "trainCate = to_categorical(train_lable, num_classes=2)  # 将标签转换为one-hot编码\n",
    "#print(trainCate)\n",
    "testCate= to_categorical(test_lable, num_classes=2)  # 将标签转换为one-hot编码"
   ]
  },
  {
   "cell_type": "code",
   "execution_count": 67,
   "id": "cc516388",
   "metadata": {},
   "outputs": [],
   "source": [
    "def nekg_embed(n0):\n",
    "    n1=int(n0)\n",
    "    n2=int(n0)+1\n",
    "    s1=(n2-n0)/(n2-n1)\n",
    "    s2=(n0-n1)/(n2-n1)\n",
    "    return s1*nekg[n1]+s2*nekg[n2]"
   ]
  },
  {
   "cell_type": "code",
   "execution_count": 68,
   "id": "88a8378f",
   "metadata": {},
   "outputs": [],
   "source": [
    "#利用训练后的word2vec自定义Embedding的训练矩阵，每行代表一个词（结合独热码和矩阵乘法理解）\n",
    "embedding_matrix = np.zeros((len(vocab) + 1, 100))\n",
    "for word, i in vocab.items():\n",
    "    try:\n",
    "        if(word.isdigit()==False):#对word用word2vec\n",
    "            embedding_vector = wvmodel.wv[str(word)]\n",
    "        else:#对number用nekg\n",
    "            if (int(float(word))<=98):\n",
    "                embedding_vector =  nekg_embed(float(word))\n",
    "            else:\n",
    "                embedding_vector = wvmodel.wv[str(word)]\n",
    "        embedding_matrix[i] = embedding_vector    \n",
    "    except KeyError:\n",
    "        continue"
   ]
  },
  {
   "cell_type": "code",
   "execution_count": 69,
   "id": "1fa9c8f0",
   "metadata": {},
   "outputs": [
    {
     "name": "stdout",
     "output_type": "stream",
     "text": [
      "Model: \"sequential_4\"\n",
      "_________________________________________________________________\n",
      " Layer (type)                Output Shape              Param #   \n",
      "=================================================================\n",
      " embedding_4 (Embedding)     (None, 64, 100)           806300    \n",
      "                                                                 \n",
      " lstm_4 (LSTM)               (None, 64)                42240     \n",
      "                                                                 \n",
      " FC1 (Dense)                 (None, 64)                4160      \n",
      "                                                                 \n",
      " dropout_4 (Dropout)         (None, 64)                0         \n",
      "                                                                 \n",
      " FC2 (Dense)                 (None, 2)                 130       \n",
      "                                                                 \n",
      "=================================================================\n",
      "Total params: 852,830\n",
      "Trainable params: 852,830\n",
      "Non-trainable params: 0\n",
      "_________________________________________________________________\n",
      "Epoch 1/30\n",
      "154/154 [==============================] - 11s 54ms/step - loss: 0.7087 - accuracy: 0.5751 - val_loss: 0.5884 - val_accuracy: 0.6818\n",
      "Epoch 2/30\n",
      "154/154 [==============================] - 8s 53ms/step - loss: 0.5977 - accuracy: 0.7084 - val_loss: 0.5399 - val_accuracy: 0.7435\n",
      "Epoch 3/30\n",
      "154/154 [==============================] - 7s 48ms/step - loss: 0.5198 - accuracy: 0.7547 - val_loss: 0.5661 - val_accuracy: 0.7208\n",
      "Epoch 4/30\n",
      "154/154 [==============================] - 7s 46ms/step - loss: 0.4516 - accuracy: 0.8058 - val_loss: 0.5245 - val_accuracy: 0.7597\n",
      "Epoch 5/30\n",
      "154/154 [==============================] - 7s 46ms/step - loss: 0.3890 - accuracy: 0.8408 - val_loss: 0.5360 - val_accuracy: 0.7597\n",
      "Epoch 6/30\n",
      "154/154 [==============================] - 6s 41ms/step - loss: 0.3067 - accuracy: 0.8806 - val_loss: 0.7591 - val_accuracy: 0.7208\n",
      "Epoch 7/30\n",
      "154/154 [==============================] - 6s 36ms/step - loss: 0.2487 - accuracy: 0.9171 - val_loss: 0.7977 - val_accuracy: 0.7175\n",
      "Epoch 8/30\n",
      "154/154 [==============================] - 7s 48ms/step - loss: 0.1764 - accuracy: 0.9350 - val_loss: 0.7013 - val_accuracy: 0.7370\n",
      "Epoch 9/30\n",
      "154/154 [==============================] - 8s 50ms/step - loss: 0.1137 - accuracy: 0.9634 - val_loss: 0.7928 - val_accuracy: 0.7662\n"
     ]
    },
    {
     "name": "stderr",
     "output_type": "stream",
     "text": [
      "2022-11-27 17:19:15,028 : WARNING : Found untraced functions such as lstm_cell_5_layer_call_fn, lstm_cell_5_layer_call_and_return_conditional_losses while saving (showing 2 of 2). These functions will not be directly callable after loading.\n"
     ]
    },
    {
     "name": "stdout",
     "output_type": "stream",
     "text": [
      "INFO:tensorflow:Assets written to: LSTM/assets\n"
     ]
    },
    {
     "name": "stderr",
     "output_type": "stream",
     "text": [
      "2022-11-27 17:19:15,642 : INFO : Assets written to: LSTM/assets\n"
     ]
    }
   ],
   "source": [
    "## 定义LSTM模型\n",
    "batch_size=8\n",
    "inputs = Input(name='inputs',shape=[maxLen])\n",
    "embedder = Embedding(len(vocab) + 1, 100, input_length=maxLen, weights=[embedding_matrix], trainable=True)\n",
    "model=Sequential()\n",
    "model.add(embedder)\n",
    "model.add(LSTM(64))\n",
    "model.add(Dense(64,activation=\"sigmoid\",name=\"FC1\"))\n",
    "model.add(Dropout(0.4))\n",
    "model.add(Dense(2,activation=\"softmax\",name=\"FC2\"))\n",
    "model.summary()\n",
    "model.compile(loss=\"categorical_crossentropy\",optimizer=RMSprop(),metrics=[\"accuracy\"])\n",
    "#reduce_lr = ReduceLROnPlateau(monitor='val_loss',factor=0.1 ,patience=3, mode='auto')\n",
    "history=model.fit(trainSeq, trainCate, batch_size, epochs=30,validation_split=0.2, callbacks=[EarlyStopping(monitor='val_loss',patience=5)])\n",
    "model.save(\"LSTM\")"
   ]
  },
  {
   "cell_type": "code",
   "execution_count": 70,
   "id": "f6b394d2",
   "metadata": {},
   "outputs": [
    {
     "name": "stdout",
     "output_type": "stream",
     "text": [
      "6/6 [==============================] - 0s 13ms/step\n",
      "6/6 [==============================] - 1s 14ms/step - loss: 0.9160 - accuracy: 0.7018\n",
      "[0.9159598350524902, 0.7017543911933899]\n"
     ]
    }
   ],
   "source": [
    "#预测与评估\n",
    "mainModel = load_model('LSTM')\n",
    "result = mainModel.predict(testSeq)  # 预测样本属于每个类别的概率\n",
    "score = mainModel.evaluate(testSeq,\n",
    "                           testCate,\n",
    "                           batch_size=32)\n",
    "print(score)"
   ]
  },
  {
   "cell_type": "code",
   "execution_count": 71,
   "id": "5cd82ded",
   "metadata": {},
   "outputs": [
    {
     "data": {
      "image/png": "[encoded data removed]",
      "text/plain": [
       "<Figure size 640x480 with 1 Axes>"
      ]
     },
     "metadata": {},
     "output_type": "display_data"
    },
    {
     "data": {
      "image/png": "[encoded data removed]",
      "text/plain": [
       "<Figure size 640x480 with 1 Axes>"
      ]
     },
     "metadata": {},
     "output_type": "display_data"
    }
   ],
   "source": [
    "plt.plot(history.history['accuracy'])\n",
    "plt.plot(history.history['val_accuracy'])\n",
    "plt.title('Model accuracy')\n",
    "plt.ylabel('Accuracy')\n",
    "plt.xlabel('Epoch')\n",
    "plt.legend(['Train','Valid'],loc='upper left')\n",
    "plt.show()\n",
    "\n",
    "plt.plot(history.history['loss'])\n",
    "plt.plot(history.history['val_loss'])\n",
    "plt.title('Model loss')\n",
    "plt.ylabel('Loss')\n",
    "plt.xlabel('Epoch')\n",
    "plt.legend(['Train','Valid'],loc='upper left')\n",
    "plt.show()"
   ]
  },
  {
   "cell_type": "code",
   "execution_count": 72,
   "id": "5450d945",
   "metadata": {},
   "outputs": [
    {
     "name": "stdout",
     "output_type": "stream",
     "text": [
      "Model: \"sequential_5\"\n",
      "_________________________________________________________________\n",
      " Layer (type)                Output Shape              Param #   \n",
      "=================================================================\n",
      " embedding_5 (Embedding)     (None, 64, 100)           806300    \n",
      "                                                                 \n",
      " lstm_5 (LSTM)               (None, 64)                42240     \n",
      "                                                                 \n",
      " FC1 (Dense)                 (None, 64)                4160      \n",
      "                                                                 \n",
      " dropout_5 (Dropout)         (None, 64)                0         \n",
      "                                                                 \n",
      " FC2 (Dense)                 (None, 2)                 130       \n",
      "                                                                 \n",
      "=================================================================\n",
      "Total params: 852,830\n",
      "Trainable params: 852,830\n",
      "Non-trainable params: 0\n",
      "_________________________________________________________________\n",
      "Epoch 1/30\n",
      "154/154 [==============================] - 10s 50ms/step - loss: 0.7045 - accuracy: 0.6101 - val_loss: 0.7466 - val_accuracy: 0.5812\n",
      "Epoch 2/30\n",
      "154/154 [==============================] - 8s 51ms/step - loss: 0.6005 - accuracy: 0.6889 - val_loss: 0.5525 - val_accuracy: 0.7403\n",
      "Epoch 3/30\n",
      "154/154 [==============================] - 7s 48ms/step - loss: 0.5333 - accuracy: 0.7547 - val_loss: 0.5706 - val_accuracy: 0.6948\n",
      "Epoch 4/30\n",
      "154/154 [==============================] - 7s 46ms/step - loss: 0.4674 - accuracy: 0.7953 - val_loss: 0.5489 - val_accuracy: 0.7597\n",
      "Epoch 5/30\n",
      "154/154 [==============================] - 7s 46ms/step - loss: 0.3938 - accuracy: 0.8457 - val_loss: 0.5462 - val_accuracy: 0.7630\n",
      "Epoch 6/30\n",
      "154/154 [==============================] - 7s 45ms/step - loss: 0.3350 - accuracy: 0.8652 - val_loss: 0.5959 - val_accuracy: 0.7338\n",
      "Epoch 7/30\n",
      "154/154 [==============================] - 7s 48ms/step - loss: 0.2511 - accuracy: 0.9115 - val_loss: 0.9378 - val_accuracy: 0.7143\n",
      "Epoch 8/30\n",
      "154/154 [==============================] - 7s 47ms/step - loss: 0.1820 - accuracy: 0.9318 - val_loss: 0.7749 - val_accuracy: 0.6721\n",
      "Epoch 9/30\n",
      "154/154 [==============================] - 7s 47ms/step - loss: 0.1148 - accuracy: 0.9643 - val_loss: 1.0988 - val_accuracy: 0.7013\n",
      "Epoch 10/30\n",
      "154/154 [==============================] - 8s 55ms/step - loss: 0.0726 - accuracy: 0.9764 - val_loss: 1.0682 - val_accuracy: 0.7468\n",
      "6/6 [==============================] - 1s 16ms/step\n",
      "6/6 [==============================] - 0s 15ms/step - loss: 1.1179 - accuracy: 0.7310\n",
      "Model: \"sequential_6\"\n",
      "_________________________________________________________________\n",
      " Layer (type)                Output Shape              Param #   \n",
      "=================================================================\n",
      " embedding_6 (Embedding)     (None, 64, 100)           806300    \n",
      "                                                                 \n",
      " lstm_6 (LSTM)               (None, 64)                42240     \n",
      "                                                                 \n",
      " FC1 (Dense)                 (None, 64)                4160      \n",
      "                                                                 \n",
      " dropout_6 (Dropout)         (None, 64)                0         \n",
      "                                                                 \n",
      " FC2 (Dense)                 (None, 2)                 130       \n",
      "                                                                 \n",
      "=================================================================\n",
      "Total params: 852,830\n",
      "Trainable params: 852,830\n",
      "Non-trainable params: 0\n",
      "_________________________________________________________________\n",
      "Epoch 1/30\n",
      "154/154 [==============================] - 10s 51ms/step - loss: 0.7228 - accuracy: 0.5524 - val_loss: 0.6225 - val_accuracy: 0.6364\n",
      "Epoch 2/30\n",
      "154/154 [==============================] - 7s 47ms/step - loss: 0.6022 - accuracy: 0.6986 - val_loss: 0.6829 - val_accuracy: 0.6299\n",
      "Epoch 3/30\n",
      "154/154 [==============================] - 7s 45ms/step - loss: 0.5506 - accuracy: 0.7465 - val_loss: 0.5479 - val_accuracy: 0.7305\n",
      "Epoch 4/30\n",
      "154/154 [==============================] - 8s 49ms/step - loss: 0.4679 - accuracy: 0.7872 - val_loss: 0.6088 - val_accuracy: 0.7370\n",
      "Epoch 5/30\n",
      "154/154 [==============================] - 7s 46ms/step - loss: 0.3908 - accuracy: 0.8294 - val_loss: 0.7125 - val_accuracy: 0.7110\n",
      "Epoch 6/30\n",
      "154/154 [==============================] - 9s 58ms/step - loss: 0.3349 - accuracy: 0.8676 - val_loss: 0.5838 - val_accuracy: 0.7597\n",
      "Epoch 7/30\n",
      "154/154 [==============================] - 9s 58ms/step - loss: 0.2700 - accuracy: 0.9001 - val_loss: 0.7649 - val_accuracy: 0.7338\n",
      "Epoch 8/30\n",
      "154/154 [==============================] - 8s 50ms/step - loss: 0.1898 - accuracy: 0.9374 - val_loss: 0.6802 - val_accuracy: 0.7630\n",
      "6/6 [==============================] - 1s 14ms/step\n",
      "6/6 [==============================] - 0s 14ms/step - loss: 0.7388 - accuracy: 0.7193\n",
      "Model: \"sequential_7\"\n",
      "_________________________________________________________________\n",
      " Layer (type)                Output Shape              Param #   \n",
      "=================================================================\n",
      " embedding_7 (Embedding)     (None, 64, 100)           806300    \n",
      "                                                                 \n",
      " lstm_7 (LSTM)               (None, 64)                42240     \n",
      "                                                                 \n",
      " FC1 (Dense)                 (None, 64)                4160      \n",
      "                                                                 \n",
      " dropout_7 (Dropout)         (None, 64)                0         \n",
      "                                                                 \n",
      " FC2 (Dense)                 (None, 2)                 130       \n",
      "                                                                 \n",
      "=================================================================\n",
      "Total params: 852,830\n",
      "Trainable params: 852,830\n",
      "Non-trainable params: 0\n",
      "_________________________________________________________________\n",
      "Epoch 1/30\n",
      "154/154 [==============================] - 10s 52ms/step - loss: 0.6942 - accuracy: 0.5898 - val_loss: 0.5723 - val_accuracy: 0.7175\n",
      "Epoch 2/30\n",
      "154/154 [==============================] - 7s 44ms/step - loss: 0.5989 - accuracy: 0.6994 - val_loss: 0.5868 - val_accuracy: 0.6948\n",
      "Epoch 3/30\n",
      "154/154 [==============================] - 7s 48ms/step - loss: 0.5447 - accuracy: 0.7490 - val_loss: 0.5463 - val_accuracy: 0.7240\n",
      "Epoch 4/30\n",
      "154/154 [==============================] - 7s 46ms/step - loss: 0.4670 - accuracy: 0.7953 - val_loss: 0.5130 - val_accuracy: 0.7565\n",
      "Epoch 5/30\n",
      "154/154 [==============================] - 7s 47ms/step - loss: 0.3790 - accuracy: 0.8570 - val_loss: 0.5738 - val_accuracy: 0.7370\n",
      "Epoch 6/30\n",
      "154/154 [==============================] - 7s 47ms/step - loss: 0.3204 - accuracy: 0.8830 - val_loss: 0.6180 - val_accuracy: 0.7792\n",
      "Epoch 7/30\n",
      "154/154 [==============================] - 7s 47ms/step - loss: 0.2515 - accuracy: 0.9009 - val_loss: 0.6662 - val_accuracy: 0.7500\n",
      "Epoch 8/30\n",
      "154/154 [==============================] - 7s 47ms/step - loss: 0.2160 - accuracy: 0.9310 - val_loss: 0.6874 - val_accuracy: 0.7500\n",
      "Epoch 9/30\n",
      "154/154 [==============================] - 7s 47ms/step - loss: 0.1308 - accuracy: 0.9496 - val_loss: 0.8894 - val_accuracy: 0.7500\n",
      "6/6 [==============================] - 1s 19ms/step\n",
      "6/6 [==============================] - 0s 14ms/step - loss: 0.9701 - accuracy: 0.7544\n",
      "Model: \"sequential_8\"\n",
      "_________________________________________________________________\n",
      " Layer (type)                Output Shape              Param #   \n",
      "=================================================================\n",
      " embedding_8 (Embedding)     (None, 64, 100)           806300    \n",
      "                                                                 \n",
      " lstm_8 (LSTM)               (None, 64)                42240     \n",
      "                                                                 \n",
      " FC1 (Dense)                 (None, 64)                4160      \n",
      "                                                                 \n",
      " dropout_8 (Dropout)         (None, 64)                0         \n",
      "                                                                 \n",
      " FC2 (Dense)                 (None, 2)                 130       \n",
      "                                                                 \n",
      "=================================================================\n",
      "Total params: 852,830\n",
      "Trainable params: 852,830\n",
      "Non-trainable params: 0\n",
      "_________________________________________________________________\n",
      "Epoch 1/30\n",
      "154/154 [==============================] - 10s 53ms/step - loss: 0.7066 - accuracy: 0.5565 - val_loss: 0.5790 - val_accuracy: 0.7305\n",
      "Epoch 2/30\n",
      "154/154 [==============================] - 7s 46ms/step - loss: 0.6155 - accuracy: 0.6864 - val_loss: 0.5528 - val_accuracy: 0.7370\n",
      "Epoch 3/30\n",
      "154/154 [==============================] - 8s 49ms/step - loss: 0.5531 - accuracy: 0.7457 - val_loss: 0.5253 - val_accuracy: 0.7565\n",
      "Epoch 4/30\n",
      "154/154 [==============================] - 8s 50ms/step - loss: 0.4690 - accuracy: 0.7847 - val_loss: 0.5350 - val_accuracy: 0.7597\n",
      "Epoch 5/30\n",
      "154/154 [==============================] - 7s 48ms/step - loss: 0.3925 - accuracy: 0.8327 - val_loss: 0.5522 - val_accuracy: 0.7565\n",
      "Epoch 6/30\n",
      "154/154 [==============================] - 8s 50ms/step - loss: 0.3346 - accuracy: 0.8643 - val_loss: 0.6271 - val_accuracy: 0.7468\n",
      "Epoch 7/30\n",
      "154/154 [==============================] - 8s 52ms/step - loss: 0.2740 - accuracy: 0.8944 - val_loss: 0.6541 - val_accuracy: 0.7597\n",
      "Epoch 8/30\n",
      "154/154 [==============================] - 8s 50ms/step - loss: 0.1983 - accuracy: 0.9269 - val_loss: 0.7132 - val_accuracy: 0.7500\n",
      "6/6 [==============================] - 0s 13ms/step\n",
      "6/6 [==============================] - 0s 11ms/step - loss: 0.6970 - accuracy: 0.7427\n",
      "Model: \"sequential_9\"\n",
      "_________________________________________________________________\n",
      " Layer (type)                Output Shape              Param #   \n",
      "=================================================================\n",
      " embedding_9 (Embedding)     (None, 64, 100)           806300    \n",
      "                                                                 \n",
      " lstm_9 (LSTM)               (None, 64)                42240     \n",
      "                                                                 \n",
      " FC1 (Dense)                 (None, 64)                4160      \n",
      "                                                                 \n",
      " dropout_9 (Dropout)         (None, 64)                0         \n",
      "                                                                 \n",
      " FC2 (Dense)                 (None, 2)                 130       \n",
      "                                                                 \n",
      "=================================================================\n",
      "Total params: 852,830\n",
      "Trainable params: 852,830\n",
      "Non-trainable params: 0\n",
      "_________________________________________________________________\n",
      "Epoch 1/30\n",
      "154/154 [==============================] - 10s 51ms/step - loss: 0.6963 - accuracy: 0.5914 - val_loss: 0.6144 - val_accuracy: 0.7143\n",
      "Epoch 2/30\n",
      "154/154 [==============================] - 7s 48ms/step - loss: 0.5905 - accuracy: 0.7124 - val_loss: 0.5332 - val_accuracy: 0.7500\n",
      "Epoch 3/30\n",
      "154/154 [==============================] - 8s 51ms/step - loss: 0.4960 - accuracy: 0.7701 - val_loss: 0.5826 - val_accuracy: 0.7662\n",
      "Epoch 4/30\n",
      "154/154 [==============================] - 7s 48ms/step - loss: 0.4556 - accuracy: 0.7961 - val_loss: 0.7212 - val_accuracy: 0.6948\n",
      "Epoch 5/30\n",
      "154/154 [==============================] - 7s 48ms/step - loss: 0.3862 - accuracy: 0.8457 - val_loss: 0.5888 - val_accuracy: 0.7890\n",
      "Epoch 6/30\n",
      "154/154 [==============================] - 8s 49ms/step - loss: 0.3165 - accuracy: 0.8716 - val_loss: 0.7688 - val_accuracy: 0.7305\n",
      "Epoch 7/30\n",
      "154/154 [==============================] - 7s 47ms/step - loss: 0.2510 - accuracy: 0.9074 - val_loss: 0.6883 - val_accuracy: 0.7597\n",
      "6/6 [==============================] - 0s 14ms/step\n",
      "6/6 [==============================] - 0s 13ms/step - loss: 0.7737 - accuracy: 0.7368\n",
      "Model: \"sequential_10\"\n",
      "_________________________________________________________________\n",
      " Layer (type)                Output Shape              Param #   \n",
      "=================================================================\n",
      " embedding_10 (Embedding)    (None, 64, 100)           806300    \n",
      "                                                                 \n",
      " lstm_10 (LSTM)              (None, 64)                42240     \n",
      "                                                                 \n",
      " FC1 (Dense)                 (None, 64)                4160      \n",
      "                                                                 \n",
      " dropout_10 (Dropout)        (None, 64)                0         \n",
      "                                                                 \n",
      " FC2 (Dense)                 (None, 2)                 130       \n",
      "                                                                 \n",
      "=================================================================\n",
      "Total params: 852,830\n",
      "Trainable params: 852,830\n",
      "Non-trainable params: 0\n",
      "_________________________________________________________________\n",
      "Epoch 1/30\n",
      "154/154 [==============================] - 10s 53ms/step - loss: 0.7343 - accuracy: 0.5459 - val_loss: 0.6196 - val_accuracy: 0.7208\n",
      "Epoch 2/30\n",
      "154/154 [==============================] - 7s 48ms/step - loss: 0.6415 - accuracy: 0.6442 - val_loss: 0.6451 - val_accuracy: 0.6396\n",
      "Epoch 3/30\n",
      "154/154 [==============================] - 8s 50ms/step - loss: 0.5631 - accuracy: 0.7376 - val_loss: 0.5394 - val_accuracy: 0.7500\n",
      "Epoch 4/30\n",
      "154/154 [==============================] - 8s 49ms/step - loss: 0.4968 - accuracy: 0.7685 - val_loss: 0.6018 - val_accuracy: 0.6883\n",
      "Epoch 5/30\n",
      "154/154 [==============================] - 8s 49ms/step - loss: 0.4393 - accuracy: 0.8067 - val_loss: 0.5624 - val_accuracy: 0.7727\n",
      "Epoch 6/30\n",
      "154/154 [==============================] - 7s 44ms/step - loss: 0.3716 - accuracy: 0.8465 - val_loss: 0.5493 - val_accuracy: 0.7500\n",
      "Epoch 7/30\n",
      "154/154 [==============================] - 7s 48ms/step - loss: 0.3056 - accuracy: 0.8863 - val_loss: 0.5827 - val_accuracy: 0.7630\n",
      "Epoch 8/30\n",
      "154/154 [==============================] - 7s 49ms/step - loss: 0.2124 - accuracy: 0.9245 - val_loss: 0.6346 - val_accuracy: 0.7435\n",
      "6/6 [==============================] - 1s 15ms/step\n",
      "6/6 [==============================] - 0s 14ms/step - loss: 0.6896 - accuracy: 0.7251\n",
      "Model: \"sequential_11\"\n",
      "_________________________________________________________________\n",
      " Layer (type)                Output Shape              Param #   \n",
      "=================================================================\n",
      " embedding_11 (Embedding)    (None, 64, 100)           806300    \n",
      "                                                                 \n",
      " lstm_11 (LSTM)              (None, 64)                42240     \n",
      "                                                                 \n",
      " FC1 (Dense)                 (None, 64)                4160      \n",
      "                                                                 \n",
      " dropout_11 (Dropout)        (None, 64)                0         \n",
      "                                                                 \n",
      " FC2 (Dense)                 (None, 2)                 130       \n",
      "                                                                 \n",
      "=================================================================\n",
      "Total params: 852,830\n",
      "Trainable params: 852,830\n",
      "Non-trainable params: 0\n",
      "_________________________________________________________________\n",
      "Epoch 1/30\n",
      "154/154 [==============================] - 10s 51ms/step - loss: 0.7086 - accuracy: 0.5751 - val_loss: 0.5542 - val_accuracy: 0.7338\n",
      "Epoch 2/30\n",
      "154/154 [==============================] - 7s 48ms/step - loss: 0.6158 - accuracy: 0.6848 - val_loss: 0.5329 - val_accuracy: 0.7532\n",
      "Epoch 3/30\n",
      "154/154 [==============================] - 7s 48ms/step - loss: 0.5397 - accuracy: 0.7376 - val_loss: 0.6523 - val_accuracy: 0.7110\n",
      "Epoch 4/30\n",
      "154/154 [==============================] - 7s 43ms/step - loss: 0.4668 - accuracy: 0.7953 - val_loss: 0.5394 - val_accuracy: 0.7955\n",
      "Epoch 5/30\n",
      "154/154 [==============================] - 7s 47ms/step - loss: 0.4057 - accuracy: 0.8343 - val_loss: 0.5831 - val_accuracy: 0.7565\n",
      "Epoch 6/30\n",
      "154/154 [==============================] - 7s 48ms/step - loss: 0.3130 - accuracy: 0.8790 - val_loss: 0.6523 - val_accuracy: 0.7890\n",
      "Epoch 7/30\n",
      "154/154 [==============================] - 7s 48ms/step - loss: 0.2614 - accuracy: 0.8976 - val_loss: 0.6149 - val_accuracy: 0.7922\n",
      "6/6 [==============================] - 1s 15ms/step\n",
      "6/6 [==============================] - 0s 14ms/step - loss: 0.8051 - accuracy: 0.7135\n",
      "Model: \"sequential_12\"\n",
      "_________________________________________________________________\n",
      " Layer (type)                Output Shape              Param #   \n",
      "=================================================================\n",
      " embedding_12 (Embedding)    (None, 64, 100)           806300    \n",
      "                                                                 \n",
      " lstm_12 (LSTM)              (None, 64)                42240     \n",
      "                                                                 \n",
      " FC1 (Dense)                 (None, 64)                4160      \n",
      "                                                                 \n",
      " dropout_12 (Dropout)        (None, 64)                0         \n",
      "                                                                 \n",
      " FC2 (Dense)                 (None, 2)                 130       \n",
      "                                                                 \n",
      "=================================================================\n",
      "Total params: 852,830\n",
      "Trainable params: 852,830\n",
      "Non-trainable params: 0\n",
      "_________________________________________________________________\n",
      "Epoch 1/30\n",
      "154/154 [==============================] - 10s 52ms/step - loss: 0.7262 - accuracy: 0.5597 - val_loss: 0.5884 - val_accuracy: 0.7110\n",
      "Epoch 2/30\n",
      "154/154 [==============================] - 8s 49ms/step - loss: 0.6181 - accuracy: 0.6832 - val_loss: 0.5857 - val_accuracy: 0.6786\n",
      "Epoch 3/30\n",
      "154/154 [==============================] - 7s 48ms/step - loss: 0.5532 - accuracy: 0.7352 - val_loss: 0.5486 - val_accuracy: 0.7240\n",
      "Epoch 4/30\n",
      "154/154 [==============================] - 7s 48ms/step - loss: 0.4560 - accuracy: 0.7994 - val_loss: 0.5555 - val_accuracy: 0.7727\n",
      "Epoch 5/30\n",
      "154/154 [==============================] - 7s 48ms/step - loss: 0.3725 - accuracy: 0.8448 - val_loss: 0.5397 - val_accuracy: 0.7760\n",
      "Epoch 6/30\n",
      "154/154 [==============================] - 7s 48ms/step - loss: 0.3088 - accuracy: 0.8822 - val_loss: 0.5597 - val_accuracy: 0.7727\n",
      "Epoch 7/30\n",
      "154/154 [==============================] - 7s 43ms/step - loss: 0.2379 - accuracy: 0.9115 - val_loss: 0.6498 - val_accuracy: 0.7630\n",
      "Epoch 8/30\n",
      "154/154 [==============================] - 7s 47ms/step - loss: 0.1744 - accuracy: 0.9423 - val_loss: 0.6633 - val_accuracy: 0.7500\n",
      "Epoch 9/30\n",
      "154/154 [==============================] - 8s 51ms/step - loss: 0.1208 - accuracy: 0.9529 - val_loss: 0.8197 - val_accuracy: 0.7468\n",
      "Epoch 10/30\n",
      "154/154 [==============================] - 8s 51ms/step - loss: 0.0784 - accuracy: 0.9756 - val_loss: 1.8157 - val_accuracy: 0.6753\n",
      "6/6 [==============================] - 1s 15ms/step\n",
      "6/6 [==============================] - 0s 15ms/step - loss: 2.1123 - accuracy: 0.6316\n",
      "Model: \"sequential_13\"\n",
      "_________________________________________________________________\n",
      " Layer (type)                Output Shape              Param #   \n",
      "=================================================================\n",
      " embedding_13 (Embedding)    (None, 64, 100)           806300    \n",
      "                                                                 \n",
      " lstm_13 (LSTM)              (None, 64)                42240     \n",
      "                                                                 \n",
      " FC1 (Dense)                 (None, 64)                4160      \n",
      "                                                                 \n",
      " dropout_13 (Dropout)        (None, 64)                0         \n",
      "                                                                 \n",
      " FC2 (Dense)                 (None, 2)                 130       \n",
      "                                                                 \n",
      "=================================================================\n",
      "Total params: 852,830\n",
      "Trainable params: 852,830\n",
      "Non-trainable params: 0\n",
      "_________________________________________________________________\n",
      "Epoch 1/30\n",
      "154/154 [==============================] - 13s 59ms/step - loss: 0.7089 - accuracy: 0.5825 - val_loss: 0.6709 - val_accuracy: 0.6396\n",
      "Epoch 2/30\n",
      "154/154 [==============================] - 10s 67ms/step - loss: 0.6005 - accuracy: 0.6946 - val_loss: 0.5516 - val_accuracy: 0.7240\n",
      "Epoch 3/30\n",
      "154/154 [==============================] - 9s 57ms/step - loss: 0.5276 - accuracy: 0.7604 - val_loss: 0.6453 - val_accuracy: 0.7110\n",
      "Epoch 4/30\n",
      "154/154 [==============================] - 8s 53ms/step - loss: 0.4556 - accuracy: 0.8002 - val_loss: 0.5280 - val_accuracy: 0.7662\n",
      "Epoch 5/30\n",
      "154/154 [==============================] - 5s 32ms/step - loss: 0.3919 - accuracy: 0.8416 - val_loss: 0.5483 - val_accuracy: 0.7825\n",
      "Epoch 6/30\n",
      "154/154 [==============================] - 4s 28ms/step - loss: 0.3199 - accuracy: 0.8798 - val_loss: 0.5339 - val_accuracy: 0.7630\n",
      "Epoch 7/30\n",
      "154/154 [==============================] - 4s 29ms/step - loss: 0.2582 - accuracy: 0.9050 - val_loss: 0.6036 - val_accuracy: 0.7630\n",
      "Epoch 8/30\n",
      "154/154 [==============================] - 4s 28ms/step - loss: 0.1959 - accuracy: 0.9277 - val_loss: 0.7921 - val_accuracy: 0.7500\n",
      "Epoch 9/30\n",
      "154/154 [==============================] - 5s 31ms/step - loss: 0.1362 - accuracy: 0.9529 - val_loss: 0.7089 - val_accuracy: 0.7500\n",
      "6/6 [==============================] - 0s 9ms/step\n",
      "6/6 [==============================] - 0s 9ms/step - loss: 0.7918 - accuracy: 0.6725\n",
      "Model: \"sequential_14\"\n",
      "_________________________________________________________________\n",
      " Layer (type)                Output Shape              Param #   \n",
      "=================================================================\n",
      " embedding_14 (Embedding)    (None, 64, 100)           806300    \n",
      "                                                                 \n",
      " lstm_14 (LSTM)              (None, 64)                42240     \n",
      "                                                                 \n",
      " FC1 (Dense)                 (None, 64)                4160      \n",
      "                                                                 \n",
      " dropout_14 (Dropout)        (None, 64)                0         \n",
      "                                                                 \n",
      " FC2 (Dense)                 (None, 2)                 130       \n",
      "                                                                 \n",
      "=================================================================\n",
      "Total params: 852,830\n",
      "Trainable params: 852,830\n",
      "Non-trainable params: 0\n",
      "_________________________________________________________________\n",
      "Epoch 1/30\n",
      "154/154 [==============================] - 6s 30ms/step - loss: 0.7100 - accuracy: 0.5825 - val_loss: 0.6324 - val_accuracy: 0.6786\n",
      "Epoch 2/30\n",
      "154/154 [==============================] - 5s 30ms/step - loss: 0.5961 - accuracy: 0.6946 - val_loss: 0.5968 - val_accuracy: 0.6948\n",
      "Epoch 3/30\n",
      "154/154 [==============================] - 4s 29ms/step - loss: 0.5350 - accuracy: 0.7522 - val_loss: 0.5470 - val_accuracy: 0.7630\n",
      "Epoch 4/30\n",
      "154/154 [==============================] - 4s 28ms/step - loss: 0.4660 - accuracy: 0.8075 - val_loss: 0.5334 - val_accuracy: 0.7857\n",
      "Epoch 5/30\n",
      "154/154 [==============================] - 4s 28ms/step - loss: 0.4050 - accuracy: 0.8278 - val_loss: 0.5705 - val_accuracy: 0.7857\n",
      "Epoch 6/30\n",
      "154/154 [==============================] - 4s 29ms/step - loss: 0.3264 - accuracy: 0.8773 - val_loss: 0.5682 - val_accuracy: 0.7760\n",
      "Epoch 7/30\n",
      "154/154 [==============================] - 5s 30ms/step - loss: 0.2425 - accuracy: 0.9090 - val_loss: 0.6770 - val_accuracy: 0.7532\n",
      "Epoch 8/30\n",
      "154/154 [==============================] - 5s 31ms/step - loss: 0.1851 - accuracy: 0.9326 - val_loss: 0.7980 - val_accuracy: 0.7305\n",
      "Epoch 9/30\n",
      "154/154 [==============================] - 4s 29ms/step - loss: 0.1324 - accuracy: 0.9521 - val_loss: 0.9335 - val_accuracy: 0.7208\n",
      "6/6 [==============================] - 0s 9ms/step\n",
      "6/6 [==============================] - 0s 9ms/step - loss: 0.8281 - accuracy: 0.7368\n"
     ]
    }
   ],
   "source": [
    "score_list=[]\n",
    "for i in range(10):\n",
    "    ## 定义LSTM模型\n",
    "    batch_size=8\n",
    "    inputs = Input(name='inputs',shape=[maxLen])\n",
    "    embedder = Embedding(len(vocab) + 1, 100, input_length=maxLen, weights=[embedding_matrix], trainable=True)\n",
    "    model=Sequential()\n",
    "    model.add(embedder)\n",
    "    model.add(LSTM(64))\n",
    "    model.add(Dense(64,activation=\"sigmoid\",name=\"FC1\"))\n",
    "    model.add(Dropout(0.4,seed=12))\n",
    "    model.add(Dense(2,activation=\"softmax\",name=\"FC2\"))\n",
    "    model.summary()\n",
    "    model.compile(loss=\"categorical_crossentropy\",optimizer=RMSprop(),metrics=[\"accuracy\"])\n",
    "    #reduce_lr = ReduceLROnPlateau(monitor='val_loss',factor=0.1 ,patience=3, mode='auto')\n",
    "    history=model.fit(trainSeq, trainCate, batch_size, epochs=30,validation_split=0.2, callbacks=[EarlyStopping(monitor='val_loss',patience=5)])\n",
    "    result = model.predict(testSeq)  # 预测样本属于每个类别的概率\n",
    "    score = model.evaluate(testSeq,\n",
    "                               testCate,\n",
    "                               batch_size=32)\n",
    "    score_list.append(score[1])"
   ]
  },
  {
   "cell_type": "code",
   "execution_count": 73,
   "id": "7a7fbe16",
   "metadata": {},
   "outputs": [
    {
     "name": "stdout",
     "output_type": "stream",
     "text": [
      "accuracy:0.7163742661476136\n"
     ]
    }
   ],
   "source": [
    "print('accuracy:'+str(sum(score_list)/len(score_list)))"
   ]
  },
  {
   "cell_type": "code",
   "execution_count": 74,
   "id": "c717fe6f",
   "metadata": {},
   "outputs": [],
   "source": [
    "score_list.sort()"
   ]
  },
  {
   "cell_type": "code",
   "execution_count": 75,
   "id": "205e3cfa",
   "metadata": {},
   "outputs": [
    {
     "data": {
      "text/plain": [
       "[0.6315789222717285,\n",
       " 0.6725146174430847,\n",
       " 0.7134503126144409,\n",
       " 0.719298243522644,\n",
       " 0.7251461744308472,\n",
       " 0.7309941649436951,\n",
       " 0.7368420958518982,\n",
       " 0.7368420958518982,\n",
       " 0.7426900863647461,\n",
       " 0.7543859481811523]"
      ]
     },
     "execution_count": 75,
     "metadata": {},
     "output_type": "execute_result"
    }
   ],
   "source": [
    "score_list"
   ]
  },
  {
   "cell_type": "code",
   "execution_count": 76,
   "id": "3e6ce28d",
   "metadata": {},
   "outputs": [
    {
     "data": {
      "text/plain": [
       "0.7257959710227119"
      ]
     },
     "execution_count": 76,
     "metadata": {},
     "output_type": "execute_result"
    },
    {
     "ename": "",
     "evalue": "",
     "output_type": "error",
     "traceback": [
      "\u001b[1;31mThe Kernel crashed while executing code in the the current cell or a previous cell. Please review the code in the cell(s) to identify a possible cause of the failure. Click <a href='https://aka.ms/vscodeJupyterKernelCrash'>here</a> for more info. View Jupyter <a href='command:jupyter.viewOutput'>log</a> for further details."
     ]
    }
   ],
   "source": [
    "sum(score_list[1:])/9"
   ]
  },
  {
   "cell_type": "code",
   "execution_count": null,
   "id": "0e17ac87",
   "metadata": {},
   "outputs": [],
   "source": []
  }
 ],
 "metadata": {
  "kernelspec": {
   "display_name": "Python 3.10.6 ('4222G18_backup')",
   "language": "python",
   "name": "python3"
  },
  "language_info": {
   "codemirror_mode": {
    "name": "ipython",
    "version": 3
   },
   "file_extension": ".py",
   "mimetype": "text/x-python",
   "name": "python",
   "nbconvert_exporter": "python",
   "pygments_lexer": "ipython3",
   "version": "3.10.6"
  },
  "vscode": {
   "interpreter": {
    "hash": "64fb50f4500008f9f404f170e716523d28225753a93c94be3d36e645dbfada09"
   }
  }
 },
 "nbformat": 4,
 "nbformat_minor": 5
}
