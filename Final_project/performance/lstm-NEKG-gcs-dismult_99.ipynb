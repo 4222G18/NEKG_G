{
 "cells": [
  {
   "cell_type": "code",
   "execution_count": 1,
   "id": "7a8df98f",
   "metadata": {},
   "outputs": [
    {
     "data": {
      "text/plain": [
       "'/home/egbert_jing/github/NEKG_G/Final_project'"
      ]
     },
     "execution_count": 1,
     "metadata": {},
     "output_type": "execute_result"
    }
   ],
   "source": [
    "import sys\n",
    "import os\n",
    "path_father = os.path.abspath(r'..')\n",
    "path_father\n",
    "# sys.path.append(path_father)"
   ]
  },
  {
   "cell_type": "code",
   "execution_count": 2,
   "id": "fce28d96",
   "metadata": {},
   "outputs": [
    {
     "name": "stderr",
     "output_type": "stream",
     "text": [
      "2022-11-27 19:47:57.111298: I tensorflow/core/platform/cpu_feature_guard.cc:193] This TensorFlow binary is optimized with oneAPI Deep Neural Network Library (oneDNN) to use the following CPU instructions in performance-critical operations:  AVX2 FMA\n",
      "To enable them in other operations, rebuild TensorFlow with the appropriate compiler flags.\n",
      "2022-11-27 19:47:57.302788: E tensorflow/stream_executor/cuda/cuda_blas.cc:2981] Unable to register cuBLAS factory: Attempting to register factory for plugin cuBLAS when one has already been registered\n",
      "2022-11-27 19:47:57.913828: W tensorflow/stream_executor/platform/default/dso_loader.cc:64] Could not load dynamic library 'libnvinfer.so.7'; dlerror: libnvinfer.so.7: cannot open shared object file: No such file or directory; LD_LIBRARY_PATH: :/usr/local/cuda-11.8/lib64\n",
      "2022-11-27 19:47:57.913987: W tensorflow/stream_executor/platform/default/dso_loader.cc:64] Could not load dynamic library 'libnvinfer_plugin.so.7'; dlerror: libnvinfer_plugin.so.7: cannot open shared object file: No such file or directory; LD_LIBRARY_PATH: :/usr/local/cuda-11.8/lib64\n",
      "2022-11-27 19:47:57.914032: W tensorflow/compiler/tf2tensorrt/utils/py_utils.cc:38] TF-TRT Warning: Cannot dlopen some TensorRT libraries. If you would like to use Nvidia GPU with TensorRT, please make sure the missing libraries mentioned above are installed properly.\n"
     ]
    }
   ],
   "source": [
    "import pandas as pd\n",
    "import numpy as np\n",
    "import matplotlib.pyplot as plt\n",
    "import seaborn as sns\n",
    "from sklearn import metrics\n",
    "from sklearn.preprocessing import LabelEncoder,OneHotEncoder\n",
    "from keras.models import Model\n",
    "from keras.layers import LSTM, Activation, Dense, Dropout, Input, Embedding\n",
    "from keras.optimizers import RMSprop\n",
    "from keras.preprocessing.text import Tokenizer\n",
    "from keras.preprocessing import sequence\n",
    "from keras.callbacks import EarlyStopping\n",
    "from keras_preprocessing.sequence import pad_sequences\n",
    "from keras.utils.np_utils import to_categorical\n",
    "from keras.models import Sequential\n",
    "from keras.callbacks import ReduceLROnPlateau\n",
    "from keras.models import load_model\n",
    "%matplotlib inline"
   ]
  },
  {
   "cell_type": "code",
   "execution_count": 3,
   "id": "c268b59b",
   "metadata": {},
   "outputs": [],
   "source": [
    "df = pd.read_csv(path_father + \"/df_with_gcs.txt\",sep=',',header=0)"
   ]
  },
  {
   "cell_type": "code",
   "execution_count": 4,
   "id": "e9e0ee5c",
   "metadata": {},
   "outputs": [],
   "source": [
    "#划分训练测试集\n",
    "from sklearn.model_selection import train_test_split\n",
    "\n",
    "train_set, test_set = train_test_split(df, test_size=0.1, random_state=42)"
   ]
  },
  {
   "cell_type": "markdown",
   "id": "59d7c98f",
   "metadata": {},
   "source": [
    "处理词向量"
   ]
  },
  {
   "cell_type": "code",
   "execution_count": 5,
   "id": "12c63f87",
   "metadata": {},
   "outputs": [],
   "source": [
    "from gensim.models import word2vec\n",
    "import logging\n",
    "logging.basicConfig(format='%(asctime)s : %(levelname)s : %(message)s', level=logging.INFO) "
   ]
  },
  {
   "cell_type": "code",
   "execution_count": 6,
   "id": "f13dfd1d",
   "metadata": {},
   "outputs": [],
   "source": [
    "# 切分词汇\n",
    "def cut(data):\n",
    "    cut= [s.split() for s in data['TriageNote'].astype(str)]\n",
    "    return cut"
   ]
  },
  {
   "cell_type": "code",
   "execution_count": 7,
   "id": "94dd810e",
   "metadata": {},
   "outputs": [],
   "source": [
    "train_text=cut(train_set)\n",
    "test_text=cut(test_set)\n",
    "sentences=train_text+test_text"
   ]
  },
  {
   "cell_type": "code",
   "execution_count": 8,
   "id": "2b4b566b",
   "metadata": {},
   "outputs": [
    {
     "data": {
      "text/plain": [
       "57"
      ]
     },
     "execution_count": 8,
     "metadata": {},
     "output_type": "execute_result"
    }
   ],
   "source": [
    "#得到最大句子长度\n",
    "num_list=[len(one) for one in sentences]\n",
    "max(num_list)"
   ]
  },
  {
   "cell_type": "code",
   "execution_count": 9,
   "id": "25aa3ce1",
   "metadata": {},
   "outputs": [],
   "source": [
    "maxLen=64"
   ]
  },
  {
   "cell_type": "code",
   "execution_count": 10,
   "id": "cad599c7",
   "metadata": {},
   "outputs": [],
   "source": [
    "#处理label->one_hot\n",
    "from sklearn.preprocessing import LabelEncoder\n",
    "\n",
    "def encodelabel(data):\n",
    "    le = LabelEncoder()\n",
    "    resultLable=le.fit_transform(data['DISPOSITION'])\n",
    "    return resultLable\n"
   ]
  },
  {
   "cell_type": "code",
   "execution_count": 11,
   "id": "b3dcf8dc",
   "metadata": {},
   "outputs": [],
   "source": [
    "train_lable=encodelabel(train_set)\n",
    "test_lable=encodelabel(test_set)"
   ]
  },
  {
   "cell_type": "code",
   "execution_count": 12,
   "id": "1f35b5d9",
   "metadata": {},
   "outputs": [
    {
     "name": "stderr",
     "output_type": "stream",
     "text": [
      "2022-11-27 19:47:58,924 : INFO : loading Word2Vec object from ./word2vec_all.model\n",
      "2022-11-27 19:47:58,942 : INFO : loading wv recursively from ./word2vec_all.model.wv.* with mmap=None\n",
      "2022-11-27 19:47:58,943 : INFO : setting ignored attribute cum_table to None\n",
      "2022-11-27 19:47:59,035 : INFO : Word2Vec lifecycle event {'fname': './word2vec_all.model', 'datetime': '2022-11-27T19:47:59.035723', 'gensim': '4.2.0', 'python': '3.10.6 (main, Oct 24 2022, 16:07:47) [GCC 11.2.0]', 'platform': 'Linux-5.15.74.2-microsoft-standard-WSL2-x86_64-with-glibc2.35', 'event': 'loaded'}\n"
     ]
    }
   ],
   "source": [
    "wvmodel = word2vec.Word2Vec.load(\"./word2vec_all.model\")"
   ]
  },
  {
   "cell_type": "code",
   "execution_count": 13,
   "id": "9cc89146",
   "metadata": {},
   "outputs": [
    {
     "data": {
      "text/plain": [
       "(99, 100)"
      ]
     },
     "execution_count": 13,
     "metadata": {},
     "output_type": "execute_result"
    }
   ],
   "source": [
    "# import json\n",
    "# f = open(path_father + \"/embedding/conve_99.json\")\n",
    "# nekg = json.load(f)\n",
    "nekg=np.load(path_father + '/embedding/dismult_99.npy')\n",
    "nekg.shape"
   ]
  },
  {
   "cell_type": "code",
   "execution_count": 14,
   "id": "26830919",
   "metadata": {},
   "outputs": [],
   "source": [
    "tokenizer=Tokenizer()\n",
    "tokenizer.fit_on_texts(sentences)\n",
    "vocab = tokenizer.word_index "
   ]
  },
  {
   "cell_type": "code",
   "execution_count": 15,
   "id": "d6b9da6f",
   "metadata": {},
   "outputs": [],
   "source": [
    "#特征数字编号，不足的话会在前面补充0\n",
    "trainID = tokenizer.texts_to_sequences(train_text)\n",
    "# print(trainID)\n",
    "testID = tokenizer.texts_to_sequences(test_text)\n",
    "trainSeq=pad_sequences(trainID,maxlen=maxLen)\n",
    "#print(trainSeq)\n",
    "testSeq=pad_sequences(testID,maxlen=maxLen)\n",
    "\n",
    "#标签的独热编码\n",
    "trainCate = to_categorical(train_lable, num_classes=2)  # 将标签转换为one-hot编码\n",
    "#print(trainCate)\n",
    "testCate= to_categorical(test_lable, num_classes=2)  # 将标签转换为one-hot编码"
   ]
  },
  {
   "cell_type": "code",
   "execution_count": 16,
   "id": "cc516388",
   "metadata": {},
   "outputs": [],
   "source": [
    "def nekg_embed(n0):\n",
    "    n1=int(n0)\n",
    "    n2=int(n0)+1\n",
    "    s1=(n2-n0)/(n2-n1)\n",
    "    s2=(n0-n1)/(n2-n1)\n",
    "    return s1*nekg[n1]+s2*nekg[n2]"
   ]
  },
  {
   "cell_type": "code",
   "execution_count": 17,
   "id": "88a8378f",
   "metadata": {},
   "outputs": [],
   "source": [
    "#利用训练后的word2vec自定义Embedding的训练矩阵，每行代表一个词（结合独热码和矩阵乘法理解）\n",
    "embedding_matrix = np.zeros((len(vocab) + 1, 100))\n",
    "for word, i in vocab.items():\n",
    "    try:\n",
    "        if(word.isdigit()==False):#对word用word2vec\n",
    "            embedding_vector = wvmodel.wv[str(word)]\n",
    "        else:#对number用nekg\n",
    "            if (int(float(word))<=98):\n",
    "                embedding_vector =  nekg_embed(float(word))\n",
    "            else:\n",
    "                embedding_vector = wvmodel.wv[str(word)]\n",
    "        embedding_matrix[i] = embedding_vector    \n",
    "    except KeyError:\n",
    "        continue"
   ]
  },
  {
   "cell_type": "code",
   "execution_count": 18,
   "id": "1fa9c8f0",
   "metadata": {},
   "outputs": [
    {
     "name": "stderr",
     "output_type": "stream",
     "text": [
      "2022-11-27 19:47:59.679138: I tensorflow/stream_executor/cuda/cuda_gpu_executor.cc:966] could not open file to read NUMA node: /sys/bus/pci/devices/0000:01:00.0/numa_node\n",
      "Your kernel may have been built without NUMA support.\n",
      "2022-11-27 19:47:59.823355: W tensorflow/stream_executor/platform/default/dso_loader.cc:64] Could not load dynamic library 'libcudnn.so.8'; dlerror: libcudnn.so.8: cannot open shared object file: No such file or directory; LD_LIBRARY_PATH: :/usr/local/cuda-11.8/lib64\n",
      "2022-11-27 19:47:59.823453: W tensorflow/core/common_runtime/gpu/gpu_device.cc:1934] Cannot dlopen some GPU libraries. Please make sure the missing libraries mentioned above are installed properly if you would like to use GPU. Follow the guide at https://www.tensorflow.org/install/gpu for how to download and setup the required libraries for your platform.\n",
      "Skipping registering GPU devices...\n",
      "2022-11-27 19:47:59.825723: I tensorflow/core/platform/cpu_feature_guard.cc:193] This TensorFlow binary is optimized with oneAPI Deep Neural Network Library (oneDNN) to use the following CPU instructions in performance-critical operations:  AVX2 FMA\n",
      "To enable them in other operations, rebuild TensorFlow with the appropriate compiler flags.\n"
     ]
    },
    {
     "name": "stdout",
     "output_type": "stream",
     "text": [
      "Model: \"sequential\"\n",
      "_________________________________________________________________\n",
      " Layer (type)                Output Shape              Param #   \n",
      "=================================================================\n",
      " embedding (Embedding)       (None, 64, 100)           806300    \n",
      "                                                                 \n",
      " lstm (LSTM)                 (None, 64)                42240     \n",
      "                                                                 \n",
      " FC1 (Dense)                 (None, 64)                4160      \n",
      "                                                                 \n",
      " dropout (Dropout)           (None, 64)                0         \n",
      "                                                                 \n",
      " FC2 (Dense)                 (None, 2)                 130       \n",
      "                                                                 \n",
      "=================================================================\n",
      "Total params: 852,830\n",
      "Trainable params: 852,830\n",
      "Non-trainable params: 0\n",
      "_________________________________________________________________\n",
      "Epoch 1/30\n",
      "154/154 [==============================] - 6s 30ms/step - loss: 0.6972 - accuracy: 0.5711 - val_loss: 0.6336 - val_accuracy: 0.6526\n",
      "Epoch 2/30\n",
      "154/154 [==============================] - 4s 28ms/step - loss: 0.5844 - accuracy: 0.7027 - val_loss: 0.5470 - val_accuracy: 0.7338\n",
      "Epoch 3/30\n",
      "154/154 [==============================] - 4s 25ms/step - loss: 0.5244 - accuracy: 0.7612 - val_loss: 0.5250 - val_accuracy: 0.7727\n",
      "Epoch 4/30\n",
      "154/154 [==============================] - 4s 26ms/step - loss: 0.4545 - accuracy: 0.8034 - val_loss: 0.5290 - val_accuracy: 0.7597\n",
      "Epoch 5/30\n",
      "154/154 [==============================] - 4s 25ms/step - loss: 0.3746 - accuracy: 0.8554 - val_loss: 0.7070 - val_accuracy: 0.7143\n",
      "Epoch 6/30\n",
      "154/154 [==============================] - 4s 29ms/step - loss: 0.2956 - accuracy: 0.8928 - val_loss: 0.5901 - val_accuracy: 0.7630\n",
      "Epoch 7/30\n",
      "154/154 [==============================] - 4s 27ms/step - loss: 0.2178 - accuracy: 0.9139 - val_loss: 0.6369 - val_accuracy: 0.7662\n",
      "Epoch 8/30\n",
      "154/154 [==============================] - 4s 29ms/step - loss: 0.1586 - accuracy: 0.9399 - val_loss: 0.7273 - val_accuracy: 0.7435\n"
     ]
    },
    {
     "name": "stderr",
     "output_type": "stream",
     "text": [
      "2022-11-27 19:48:38,196 : WARNING : Found untraced functions such as lstm_cell_layer_call_fn, lstm_cell_layer_call_and_return_conditional_losses while saving (showing 2 of 2). These functions will not be directly callable after loading.\n"
     ]
    },
    {
     "name": "stdout",
     "output_type": "stream",
     "text": [
      "INFO:tensorflow:Assets written to: LSTM/assets\n"
     ]
    },
    {
     "name": "stderr",
     "output_type": "stream",
     "text": [
      "2022-11-27 19:48:38,695 : INFO : Assets written to: LSTM/assets\n"
     ]
    }
   ],
   "source": [
    "## 定义LSTM模型\n",
    "batch_size=8\n",
    "inputs = Input(name='inputs',shape=[maxLen])\n",
    "embedder = Embedding(len(vocab) + 1, 100, input_length=maxLen, weights=[embedding_matrix], trainable=True)\n",
    "model=Sequential()\n",
    "model.add(embedder)\n",
    "model.add(LSTM(64))\n",
    "model.add(Dense(64,activation=\"sigmoid\",name=\"FC1\"))\n",
    "model.add(Dropout(0.4))\n",
    "model.add(Dense(2,activation=\"softmax\",name=\"FC2\"))\n",
    "model.summary()\n",
    "model.compile(loss=\"categorical_crossentropy\",optimizer=RMSprop(),metrics=[\"accuracy\"])\n",
    "#reduce_lr = ReduceLROnPlateau(monitor='val_loss',factor=0.1 ,patience=3, mode='auto')\n",
    "history=model.fit(trainSeq, trainCate, batch_size, epochs=30,validation_split=0.2, callbacks=[EarlyStopping(monitor='val_loss',patience=5)])\n",
    "model.save(\"LSTM\")"
   ]
  },
  {
   "cell_type": "code",
   "execution_count": 19,
   "id": "f6b394d2",
   "metadata": {},
   "outputs": [
    {
     "name": "stdout",
     "output_type": "stream",
     "text": [
      "6/6 [==============================] - 0s 9ms/step\n",
      "6/6 [==============================] - 0s 10ms/step - loss: 0.7355 - accuracy: 0.7076\n",
      "[0.7355406284332275, 0.707602322101593]\n"
     ]
    }
   ],
   "source": [
    "#预测与评估\n",
    "mainModel = load_model('LSTM')\n",
    "result = mainModel.predict(testSeq)  # 预测样本属于每个类别的概率\n",
    "score = mainModel.evaluate(testSeq,\n",
    "                           testCate,\n",
    "                           batch_size=32)\n",
    "print(score)"
   ]
  },
  {
   "cell_type": "code",
   "execution_count": 20,
   "id": "5cd82ded",
   "metadata": {},
   "outputs": [
    {
     "data": {
      "image/png": "[encoded data removed]",
      "text/plain": [
       "<Figure size 640x480 with 1 Axes>"
      ]
     },
     "metadata": {},
     "output_type": "display_data"
    },
    {
     "data": {
      "image/png": "[encoded data removed]",
      "text/plain": [
       "<Figure size 640x480 with 1 Axes>"
      ]
     },
     "metadata": {},
     "output_type": "display_data"
    }
   ],
   "source": [
    "plt.plot(history.history['accuracy'])\n",
    "plt.plot(history.history['val_accuracy'])\n",
    "plt.title('Model accuracy')\n",
    "plt.ylabel('Accuracy')\n",
    "plt.xlabel('Epoch')\n",
    "plt.legend(['Train','Valid'],loc='upper left')\n",
    "plt.show()\n",
    "\n",
    "plt.plot(history.history['loss'])\n",
    "plt.plot(history.history['val_loss'])\n",
    "plt.title('Model loss')\n",
    "plt.ylabel('Loss')\n",
    "plt.xlabel('Epoch')\n",
    "plt.legend(['Train','Valid'],loc='upper left')\n",
    "plt.show()"
   ]
  },
  {
   "cell_type": "code",
   "execution_count": 21,
   "id": "5450d945",
   "metadata": {},
   "outputs": [
    {
     "name": "stdout",
     "output_type": "stream",
     "text": [
      "Model: \"sequential_1\"\n",
      "_________________________________________________________________\n",
      " Layer (type)                Output Shape              Param #   \n",
      "=================================================================\n",
      " embedding_1 (Embedding)     (None, 64, 100)           806300    \n",
      "                                                                 \n",
      " lstm_1 (LSTM)               (None, 64)                42240     \n",
      "                                                                 \n",
      " FC1 (Dense)                 (None, 64)                4160      \n",
      "                                                                 \n",
      " dropout_1 (Dropout)         (None, 64)                0         \n",
      "                                                                 \n",
      " FC2 (Dense)                 (None, 2)                 130       \n",
      "                                                                 \n",
      "=================================================================\n",
      "Total params: 852,830\n",
      "Trainable params: 852,830\n",
      "Non-trainable params: 0\n",
      "_________________________________________________________________\n",
      "Epoch 1/30\n",
      "154/154 [==============================] - 7s 33ms/step - loss: 0.6863 - accuracy: 0.5914 - val_loss: 0.5828 - val_accuracy: 0.6883\n",
      "Epoch 2/30\n",
      "154/154 [==============================] - 4s 25ms/step - loss: 0.6166 - accuracy: 0.6807 - val_loss: 0.5853 - val_accuracy: 0.6851\n",
      "Epoch 3/30\n",
      "154/154 [==============================] - 4s 27ms/step - loss: 0.5287 - accuracy: 0.7490 - val_loss: 0.5631 - val_accuracy: 0.7338\n",
      "Epoch 4/30\n",
      "154/154 [==============================] - 4s 28ms/step - loss: 0.4577 - accuracy: 0.7880 - val_loss: 0.5718 - val_accuracy: 0.7403\n",
      "Epoch 5/30\n",
      "154/154 [==============================] - 4s 28ms/step - loss: 0.3938 - accuracy: 0.8343 - val_loss: 0.5748 - val_accuracy: 0.7695\n",
      "Epoch 6/30\n",
      "154/154 [==============================] - 5s 29ms/step - loss: 0.3188 - accuracy: 0.8822 - val_loss: 0.6071 - val_accuracy: 0.7825\n",
      "Epoch 7/30\n",
      "154/154 [==============================] - 4s 27ms/step - loss: 0.2619 - accuracy: 0.9041 - val_loss: 0.6182 - val_accuracy: 0.7890\n",
      "Epoch 8/30\n",
      "154/154 [==============================] - 4s 26ms/step - loss: 0.1957 - accuracy: 0.9253 - val_loss: 0.6993 - val_accuracy: 0.7825\n",
      "6/6 [==============================] - 0s 9ms/step\n",
      "6/6 [==============================] - 0s 8ms/step - loss: 0.8041 - accuracy: 0.7251\n",
      "Model: \"sequential_2\"\n",
      "_________________________________________________________________\n",
      " Layer (type)                Output Shape              Param #   \n",
      "=================================================================\n",
      " embedding_2 (Embedding)     (None, 64, 100)           806300    \n",
      "                                                                 \n",
      " lstm_2 (LSTM)               (None, 64)                42240     \n",
      "                                                                 \n",
      " FC1 (Dense)                 (None, 64)                4160      \n",
      "                                                                 \n",
      " dropout_2 (Dropout)         (None, 64)                0         \n",
      "                                                                 \n",
      " FC2 (Dense)                 (None, 2)                 130       \n",
      "                                                                 \n",
      "=================================================================\n",
      "Total params: 852,830\n",
      "Trainable params: 852,830\n",
      "Non-trainable params: 0\n",
      "_________________________________________________________________\n",
      "Epoch 1/30\n",
      "154/154 [==============================] - 6s 31ms/step - loss: 0.7215 - accuracy: 0.5321 - val_loss: 0.5896 - val_accuracy: 0.7208\n",
      "Epoch 2/30\n",
      "154/154 [==============================] - 4s 29ms/step - loss: 0.6151 - accuracy: 0.6759 - val_loss: 0.5932 - val_accuracy: 0.7110\n",
      "Epoch 3/30\n",
      "154/154 [==============================] - 4s 28ms/step - loss: 0.5332 - accuracy: 0.7571 - val_loss: 0.5462 - val_accuracy: 0.7370\n",
      "Epoch 4/30\n",
      "154/154 [==============================] - 5s 29ms/step - loss: 0.4789 - accuracy: 0.7961 - val_loss: 0.5399 - val_accuracy: 0.7468\n",
      "Epoch 5/30\n",
      "154/154 [==============================] - 4s 29ms/step - loss: 0.4032 - accuracy: 0.8294 - val_loss: 0.9012 - val_accuracy: 0.5877\n",
      "Epoch 6/30\n",
      "154/154 [==============================] - 4s 28ms/step - loss: 0.3415 - accuracy: 0.8554 - val_loss: 0.5367 - val_accuracy: 0.7403\n",
      "Epoch 7/30\n",
      "154/154 [==============================] - 5s 30ms/step - loss: 0.2756 - accuracy: 0.8928 - val_loss: 0.5705 - val_accuracy: 0.7370\n",
      "Epoch 8/30\n",
      "154/154 [==============================] - 5s 30ms/step - loss: 0.1879 - accuracy: 0.9310 - val_loss: 0.7549 - val_accuracy: 0.7532\n",
      "Epoch 9/30\n",
      "154/154 [==============================] - 4s 29ms/step - loss: 0.1413 - accuracy: 0.9448 - val_loss: 0.6891 - val_accuracy: 0.7403\n",
      "Epoch 10/30\n",
      "154/154 [==============================] - 4s 28ms/step - loss: 0.0917 - accuracy: 0.9643 - val_loss: 0.7558 - val_accuracy: 0.7565\n",
      "Epoch 11/30\n",
      "154/154 [==============================] - 5s 29ms/step - loss: 0.0588 - accuracy: 0.9813 - val_loss: 0.9751 - val_accuracy: 0.7760\n",
      "6/6 [==============================] - 1s 9ms/step\n",
      "6/6 [==============================] - 0s 9ms/step - loss: 1.2467 - accuracy: 0.6842\n",
      "Model: \"sequential_3\"\n",
      "_________________________________________________________________\n",
      " Layer (type)                Output Shape              Param #   \n",
      "=================================================================\n",
      " embedding_3 (Embedding)     (None, 64, 100)           806300    \n",
      "                                                                 \n",
      " lstm_3 (LSTM)               (None, 64)                42240     \n",
      "                                                                 \n",
      " FC1 (Dense)                 (None, 64)                4160      \n",
      "                                                                 \n",
      " dropout_3 (Dropout)         (None, 64)                0         \n",
      "                                                                 \n",
      " FC2 (Dense)                 (None, 2)                 130       \n",
      "                                                                 \n",
      "=================================================================\n",
      "Total params: 852,830\n",
      "Trainable params: 852,830\n",
      "Non-trainable params: 0\n",
      "_________________________________________________________________\n",
      "Epoch 1/30\n",
      "154/154 [==============================] - 6s 32ms/step - loss: 0.7080 - accuracy: 0.5662 - val_loss: 0.5900 - val_accuracy: 0.7338\n",
      "Epoch 2/30\n",
      "154/154 [==============================] - 4s 26ms/step - loss: 0.6001 - accuracy: 0.6881 - val_loss: 0.5623 - val_accuracy: 0.7338\n",
      "Epoch 3/30\n",
      "154/154 [==============================] - 4s 26ms/step - loss: 0.5158 - accuracy: 0.7660 - val_loss: 0.5259 - val_accuracy: 0.7662\n",
      "Epoch 4/30\n",
      "154/154 [==============================] - 4s 27ms/step - loss: 0.4826 - accuracy: 0.7847 - val_loss: 0.5773 - val_accuracy: 0.7143\n",
      "Epoch 5/30\n",
      "154/154 [==============================] - 4s 27ms/step - loss: 0.3716 - accuracy: 0.8497 - val_loss: 0.5791 - val_accuracy: 0.7468\n",
      "Epoch 6/30\n",
      "154/154 [==============================] - 4s 26ms/step - loss: 0.3045 - accuracy: 0.8790 - val_loss: 0.5738 - val_accuracy: 0.7565\n",
      "Epoch 7/30\n",
      "154/154 [==============================] - 4s 26ms/step - loss: 0.2375 - accuracy: 0.9106 - val_loss: 0.6537 - val_accuracy: 0.7500\n",
      "Epoch 8/30\n",
      "154/154 [==============================] - 4s 28ms/step - loss: 0.1715 - accuracy: 0.9366 - val_loss: 0.7378 - val_accuracy: 0.7630\n",
      "6/6 [==============================] - 0s 10ms/step\n",
      "6/6 [==============================] - 0s 10ms/step - loss: 0.9188 - accuracy: 0.7251\n",
      "Model: \"sequential_4\"\n",
      "_________________________________________________________________\n",
      " Layer (type)                Output Shape              Param #   \n",
      "=================================================================\n",
      " embedding_4 (Embedding)     (None, 64, 100)           806300    \n",
      "                                                                 \n",
      " lstm_4 (LSTM)               (None, 64)                42240     \n",
      "                                                                 \n",
      " FC1 (Dense)                 (None, 64)                4160      \n",
      "                                                                 \n",
      " dropout_4 (Dropout)         (None, 64)                0         \n",
      "                                                                 \n",
      " FC2 (Dense)                 (None, 2)                 130       \n",
      "                                                                 \n",
      "=================================================================\n",
      "Total params: 852,830\n",
      "Trainable params: 852,830\n",
      "Non-trainable params: 0\n",
      "_________________________________________________________________\n",
      "Epoch 1/30\n",
      "154/154 [==============================] - 6s 32ms/step - loss: 0.6848 - accuracy: 0.6076 - val_loss: 0.5501 - val_accuracy: 0.7468\n",
      "Epoch 2/30\n",
      "154/154 [==============================] - 4s 29ms/step - loss: 0.5933 - accuracy: 0.6929 - val_loss: 0.5662 - val_accuracy: 0.7078\n",
      "Epoch 3/30\n",
      "154/154 [==============================] - 5s 33ms/step - loss: 0.5434 - accuracy: 0.7417 - val_loss: 0.5478 - val_accuracy: 0.7435\n",
      "Epoch 4/30\n",
      "154/154 [==============================] - 4s 28ms/step - loss: 0.4583 - accuracy: 0.7961 - val_loss: 0.5461 - val_accuracy: 0.7597\n",
      "Epoch 5/30\n",
      "154/154 [==============================] - 5s 31ms/step - loss: 0.3812 - accuracy: 0.8375 - val_loss: 0.5897 - val_accuracy: 0.7305\n",
      "Epoch 6/30\n",
      "154/154 [==============================] - 4s 27ms/step - loss: 0.3067 - accuracy: 0.8725 - val_loss: 0.6319 - val_accuracy: 0.7727\n",
      "Epoch 7/30\n",
      "154/154 [==============================] - 4s 28ms/step - loss: 0.2424 - accuracy: 0.9082 - val_loss: 0.7038 - val_accuracy: 0.7305\n",
      "Epoch 8/30\n",
      "154/154 [==============================] - 4s 27ms/step - loss: 0.1739 - accuracy: 0.9391 - val_loss: 0.7854 - val_accuracy: 0.7240\n",
      "Epoch 9/30\n",
      "154/154 [==============================] - 4s 27ms/step - loss: 0.1213 - accuracy: 0.9569 - val_loss: 0.7888 - val_accuracy: 0.7240\n",
      "6/6 [==============================] - 0s 10ms/step\n",
      "6/6 [==============================] - 0s 9ms/step - loss: 0.6958 - accuracy: 0.7544\n",
      "Model: \"sequential_5\"\n",
      "_________________________________________________________________\n",
      " Layer (type)                Output Shape              Param #   \n",
      "=================================================================\n",
      " embedding_5 (Embedding)     (None, 64, 100)           806300    \n",
      "                                                                 \n",
      " lstm_5 (LSTM)               (None, 64)                42240     \n",
      "                                                                 \n",
      " FC1 (Dense)                 (None, 64)                4160      \n",
      "                                                                 \n",
      " dropout_5 (Dropout)         (None, 64)                0         \n",
      "                                                                 \n",
      " FC2 (Dense)                 (None, 2)                 130       \n",
      "                                                                 \n",
      "=================================================================\n",
      "Total params: 852,830\n",
      "Trainable params: 852,830\n",
      "Non-trainable params: 0\n",
      "_________________________________________________________________\n",
      "Epoch 1/30\n",
      "154/154 [==============================] - 6s 33ms/step - loss: 0.7123 - accuracy: 0.5727 - val_loss: 0.6221 - val_accuracy: 0.6591\n",
      "Epoch 2/30\n",
      "154/154 [==============================] - 4s 29ms/step - loss: 0.6141 - accuracy: 0.7067 - val_loss: 0.6505 - val_accuracy: 0.6786\n",
      "Epoch 3/30\n",
      "154/154 [==============================] - 4s 27ms/step - loss: 0.5429 - accuracy: 0.7441 - val_loss: 0.5361 - val_accuracy: 0.7630\n",
      "Epoch 4/30\n",
      "154/154 [==============================] - 4s 29ms/step - loss: 0.4640 - accuracy: 0.7880 - val_loss: 0.5946 - val_accuracy: 0.7695\n",
      "Epoch 5/30\n",
      "154/154 [==============================] - 4s 27ms/step - loss: 0.3882 - accuracy: 0.8408 - val_loss: 0.7359 - val_accuracy: 0.7370\n",
      "Epoch 6/30\n",
      "154/154 [==============================] - 5s 30ms/step - loss: 0.3260 - accuracy: 0.8757 - val_loss: 0.5751 - val_accuracy: 0.7468\n",
      "Epoch 7/30\n",
      "154/154 [==============================] - 5s 30ms/step - loss: 0.2537 - accuracy: 0.9001 - val_loss: 0.7981 - val_accuracy: 0.7532\n",
      "Epoch 8/30\n",
      "154/154 [==============================] - 5s 32ms/step - loss: 0.2098 - accuracy: 0.9220 - val_loss: 0.7334 - val_accuracy: 0.7662\n",
      "6/6 [==============================] - 0s 9ms/step\n",
      "6/6 [==============================] - 0s 8ms/step - loss: 0.8080 - accuracy: 0.7485\n",
      "Model: \"sequential_6\"\n",
      "_________________________________________________________________\n",
      " Layer (type)                Output Shape              Param #   \n",
      "=================================================================\n",
      " embedding_6 (Embedding)     (None, 64, 100)           806300    \n",
      "                                                                 \n",
      " lstm_6 (LSTM)               (None, 64)                42240     \n",
      "                                                                 \n",
      " FC1 (Dense)                 (None, 64)                4160      \n",
      "                                                                 \n",
      " dropout_6 (Dropout)         (None, 64)                0         \n",
      "                                                                 \n",
      " FC2 (Dense)                 (None, 2)                 130       \n",
      "                                                                 \n",
      "=================================================================\n",
      "Total params: 852,830\n",
      "Trainable params: 852,830\n",
      "Non-trainable params: 0\n",
      "_________________________________________________________________\n",
      "Epoch 1/30\n",
      "154/154 [==============================] - 7s 32ms/step - loss: 0.7181 - accuracy: 0.5491 - val_loss: 0.5555 - val_accuracy: 0.7500\n",
      "Epoch 2/30\n",
      "154/154 [==============================] - 4s 27ms/step - loss: 0.6278 - accuracy: 0.6775 - val_loss: 0.5502 - val_accuracy: 0.7208\n",
      "Epoch 3/30\n",
      "154/154 [==============================] - 5s 29ms/step - loss: 0.5399 - accuracy: 0.7352 - val_loss: 0.5392 - val_accuracy: 0.7500\n",
      "Epoch 4/30\n",
      "154/154 [==============================] - 5s 29ms/step - loss: 0.4784 - accuracy: 0.7815 - val_loss: 0.5188 - val_accuracy: 0.7630\n",
      "Epoch 5/30\n",
      "154/154 [==============================] - 4s 28ms/step - loss: 0.4071 - accuracy: 0.8400 - val_loss: 0.5747 - val_accuracy: 0.7045\n",
      "Epoch 6/30\n",
      "154/154 [==============================] - 4s 28ms/step - loss: 0.3445 - accuracy: 0.8668 - val_loss: 0.6227 - val_accuracy: 0.7565\n",
      "Epoch 7/30\n",
      "154/154 [==============================] - 4s 29ms/step - loss: 0.2710 - accuracy: 0.8911 - val_loss: 0.6782 - val_accuracy: 0.7403\n",
      "Epoch 8/30\n",
      "154/154 [==============================] - 4s 27ms/step - loss: 0.2044 - accuracy: 0.9269 - val_loss: 0.6853 - val_accuracy: 0.7403\n",
      "Epoch 9/30\n",
      "154/154 [==============================] - 4s 28ms/step - loss: 0.1663 - accuracy: 0.9431 - val_loss: 0.6772 - val_accuracy: 0.7435\n",
      "6/6 [==============================] - 0s 9ms/step\n",
      "6/6 [==============================] - 0s 9ms/step - loss: 0.7695 - accuracy: 0.7018\n",
      "Model: \"sequential_7\"\n",
      "_________________________________________________________________\n",
      " Layer (type)                Output Shape              Param #   \n",
      "=================================================================\n",
      " embedding_7 (Embedding)     (None, 64, 100)           806300    \n",
      "                                                                 \n",
      " lstm_7 (LSTM)               (None, 64)                42240     \n",
      "                                                                 \n",
      " FC1 (Dense)                 (None, 64)                4160      \n",
      "                                                                 \n",
      " dropout_7 (Dropout)         (None, 64)                0         \n",
      "                                                                 \n",
      " FC2 (Dense)                 (None, 2)                 130       \n",
      "                                                                 \n",
      "=================================================================\n",
      "Total params: 852,830\n",
      "Trainable params: 852,830\n",
      "Non-trainable params: 0\n",
      "_________________________________________________________________\n",
      "Epoch 1/30\n",
      "154/154 [==============================] - 7s 33ms/step - loss: 0.7366 - accuracy: 0.5345 - val_loss: 0.6067 - val_accuracy: 0.6883\n",
      "Epoch 2/30\n",
      "154/154 [==============================] - 5s 30ms/step - loss: 0.6055 - accuracy: 0.6929 - val_loss: 0.5613 - val_accuracy: 0.7240\n",
      "Epoch 3/30\n",
      "154/154 [==============================] - 4s 28ms/step - loss: 0.5617 - accuracy: 0.7360 - val_loss: 0.6623 - val_accuracy: 0.6753\n",
      "Epoch 4/30\n",
      "154/154 [==============================] - 5s 30ms/step - loss: 0.4904 - accuracy: 0.7782 - val_loss: 0.5474 - val_accuracy: 0.7468\n",
      "Epoch 5/30\n",
      "154/154 [==============================] - 4s 29ms/step - loss: 0.4188 - accuracy: 0.8229 - val_loss: 0.5860 - val_accuracy: 0.7240\n",
      "Epoch 6/30\n",
      "154/154 [==============================] - 4s 27ms/step - loss: 0.3463 - accuracy: 0.8546 - val_loss: 0.6189 - val_accuracy: 0.6883\n",
      "Epoch 7/30\n",
      "154/154 [==============================] - 5s 30ms/step - loss: 0.2843 - accuracy: 0.9041 - val_loss: 0.5660 - val_accuracy: 0.7565\n",
      "Epoch 8/30\n",
      "154/154 [==============================] - 4s 29ms/step - loss: 0.2255 - accuracy: 0.9220 - val_loss: 0.6646 - val_accuracy: 0.7630\n",
      "Epoch 9/30\n",
      "154/154 [==============================] - 5s 29ms/step - loss: 0.1628 - accuracy: 0.9383 - val_loss: 0.7520 - val_accuracy: 0.7403\n",
      "6/6 [==============================] - 0s 10ms/step\n",
      "6/6 [==============================] - 0s 7ms/step - loss: 0.8717 - accuracy: 0.6901\n",
      "Model: \"sequential_8\"\n",
      "_________________________________________________________________\n",
      " Layer (type)                Output Shape              Param #   \n",
      "=================================================================\n",
      " embedding_8 (Embedding)     (None, 64, 100)           806300    \n",
      "                                                                 \n",
      " lstm_8 (LSTM)               (None, 64)                42240     \n",
      "                                                                 \n",
      " FC1 (Dense)                 (None, 64)                4160      \n",
      "                                                                 \n",
      " dropout_8 (Dropout)         (None, 64)                0         \n",
      "                                                                 \n",
      " FC2 (Dense)                 (None, 2)                 130       \n",
      "                                                                 \n",
      "=================================================================\n",
      "Total params: 852,830\n",
      "Trainable params: 852,830\n",
      "Non-trainable params: 0\n",
      "_________________________________________________________________\n",
      "Epoch 1/30\n",
      "154/154 [==============================] - 6s 31ms/step - loss: 0.7144 - accuracy: 0.5686 - val_loss: 0.5649 - val_accuracy: 0.7305\n",
      "Epoch 2/30\n",
      "154/154 [==============================] - 5s 30ms/step - loss: 0.6088 - accuracy: 0.6986 - val_loss: 0.5490 - val_accuracy: 0.7468\n",
      "Epoch 3/30\n",
      "154/154 [==============================] - 5s 32ms/step - loss: 0.5308 - accuracy: 0.7595 - val_loss: 0.5594 - val_accuracy: 0.6948\n",
      "Epoch 4/30\n",
      "154/154 [==============================] - 5s 31ms/step - loss: 0.4604 - accuracy: 0.7969 - val_loss: 0.6576 - val_accuracy: 0.6786\n",
      "Epoch 5/30\n",
      "154/154 [==============================] - 5s 29ms/step - loss: 0.3957 - accuracy: 0.8416 - val_loss: 0.5606 - val_accuracy: 0.7890\n",
      "Epoch 6/30\n",
      "154/154 [==============================] - 4s 28ms/step - loss: 0.3099 - accuracy: 0.8749 - val_loss: 0.5594 - val_accuracy: 0.7532\n",
      "Epoch 7/30\n",
      "154/154 [==============================] - 5s 30ms/step - loss: 0.2496 - accuracy: 0.9090 - val_loss: 0.5995 - val_accuracy: 0.7662\n",
      "6/6 [==============================] - 0s 10ms/step\n",
      "6/6 [==============================] - 0s 10ms/step - loss: 0.6618 - accuracy: 0.7135\n",
      "Model: \"sequential_9\"\n",
      "_________________________________________________________________\n",
      " Layer (type)                Output Shape              Param #   \n",
      "=================================================================\n",
      " embedding_9 (Embedding)     (None, 64, 100)           806300    \n",
      "                                                                 \n",
      " lstm_9 (LSTM)               (None, 64)                42240     \n",
      "                                                                 \n",
      " FC1 (Dense)                 (None, 64)                4160      \n",
      "                                                                 \n",
      " dropout_9 (Dropout)         (None, 64)                0         \n",
      "                                                                 \n",
      " FC2 (Dense)                 (None, 2)                 130       \n",
      "                                                                 \n",
      "=================================================================\n",
      "Total params: 852,830\n",
      "Trainable params: 852,830\n",
      "Non-trainable params: 0\n",
      "_________________________________________________________________\n",
      "Epoch 1/30\n",
      "154/154 [==============================] - 8s 37ms/step - loss: 0.6984 - accuracy: 0.5914 - val_loss: 0.6005 - val_accuracy: 0.6526\n",
      "Epoch 2/30\n",
      "154/154 [==============================] - 5s 31ms/step - loss: 0.6053 - accuracy: 0.7011 - val_loss: 0.6597 - val_accuracy: 0.6266\n",
      "Epoch 3/30\n",
      "154/154 [==============================] - 5s 29ms/step - loss: 0.5498 - accuracy: 0.7368 - val_loss: 0.5391 - val_accuracy: 0.7500\n",
      "Epoch 4/30\n",
      "154/154 [==============================] - 5s 31ms/step - loss: 0.4641 - accuracy: 0.7969 - val_loss: 0.5188 - val_accuracy: 0.7565\n",
      "Epoch 5/30\n",
      "154/154 [==============================] - 6s 38ms/step - loss: 0.3799 - accuracy: 0.8440 - val_loss: 0.5567 - val_accuracy: 0.7727\n",
      "Epoch 6/30\n",
      "154/154 [==============================] - 5s 30ms/step - loss: 0.3121 - accuracy: 0.8749 - val_loss: 0.6172 - val_accuracy: 0.7857\n",
      "Epoch 7/30\n",
      "154/154 [==============================] - 4s 29ms/step - loss: 0.2485 - accuracy: 0.9106 - val_loss: 0.5856 - val_accuracy: 0.7532\n",
      "Epoch 8/30\n",
      "154/154 [==============================] - 4s 29ms/step - loss: 0.1799 - accuracy: 0.9334 - val_loss: 0.6310 - val_accuracy: 0.7565\n",
      "Epoch 9/30\n",
      "154/154 [==============================] - 5s 30ms/step - loss: 0.1528 - accuracy: 0.9472 - val_loss: 0.7321 - val_accuracy: 0.7435\n",
      "6/6 [==============================] - 0s 10ms/step\n",
      "6/6 [==============================] - 0s 9ms/step - loss: 0.8036 - accuracy: 0.7368\n",
      "Model: \"sequential_10\"\n",
      "_________________________________________________________________\n",
      " Layer (type)                Output Shape              Param #   \n",
      "=================================================================\n",
      " embedding_10 (Embedding)    (None, 64, 100)           806300    \n",
      "                                                                 \n",
      " lstm_10 (LSTM)              (None, 64)                42240     \n",
      "                                                                 \n",
      " FC1 (Dense)                 (None, 64)                4160      \n",
      "                                                                 \n",
      " dropout_10 (Dropout)        (None, 64)                0         \n",
      "                                                                 \n",
      " FC2 (Dense)                 (None, 2)                 130       \n",
      "                                                                 \n",
      "=================================================================\n",
      "Total params: 852,830\n",
      "Trainable params: 852,830\n",
      "Non-trainable params: 0\n",
      "_________________________________________________________________\n",
      "Epoch 1/30\n",
      "154/154 [==============================] - 6s 31ms/step - loss: 0.7174 - accuracy: 0.5435 - val_loss: 0.5621 - val_accuracy: 0.7500\n",
      "Epoch 2/30\n",
      "154/154 [==============================] - 5s 31ms/step - loss: 0.6036 - accuracy: 0.7051 - val_loss: 0.6034 - val_accuracy: 0.6494\n",
      "Epoch 3/30\n",
      "154/154 [==============================] - 6s 36ms/step - loss: 0.5406 - accuracy: 0.7547 - val_loss: 0.5305 - val_accuracy: 0.7500\n",
      "Epoch 4/30\n",
      "154/154 [==============================] - 5s 35ms/step - loss: 0.4779 - accuracy: 0.7994 - val_loss: 0.5380 - val_accuracy: 0.7468\n",
      "Epoch 5/30\n",
      "154/154 [==============================] - 5s 32ms/step - loss: 0.4059 - accuracy: 0.8392 - val_loss: 0.5363 - val_accuracy: 0.7597\n",
      "Epoch 6/30\n",
      "154/154 [==============================] - 5s 32ms/step - loss: 0.3395 - accuracy: 0.8700 - val_loss: 0.5763 - val_accuracy: 0.7987\n",
      "Epoch 7/30\n",
      "154/154 [==============================] - 5s 34ms/step - loss: 0.2768 - accuracy: 0.8976 - val_loss: 0.6796 - val_accuracy: 0.7825\n",
      "Epoch 8/30\n",
      "154/154 [==============================] - 5s 34ms/step - loss: 0.1917 - accuracy: 0.9358 - val_loss: 0.9391 - val_accuracy: 0.6851\n",
      "6/6 [==============================] - 0s 10ms/step\n",
      "6/6 [==============================] - 0s 9ms/step - loss: 0.7930 - accuracy: 0.7310\n"
     ]
    }
   ],
   "source": [
    "score_list=[]\n",
    "for i in range(10):\n",
    "    ## 定义LSTM模型\n",
    "    batch_size=8\n",
    "    inputs = Input(name='inputs',shape=[maxLen])\n",
    "    embedder = Embedding(len(vocab) + 1, 100, input_length=maxLen, weights=[embedding_matrix], trainable=True)\n",
    "    model=Sequential()\n",
    "    model.add(embedder)\n",
    "    model.add(LSTM(64))\n",
    "    model.add(Dense(64,activation=\"sigmoid\",name=\"FC1\"))\n",
    "    model.add(Dropout(0.4,seed=12))\n",
    "    model.add(Dense(2,activation=\"softmax\",name=\"FC2\"))\n",
    "    model.summary()\n",
    "    model.compile(loss=\"categorical_crossentropy\",optimizer=RMSprop(),metrics=[\"accuracy\"])\n",
    "    #reduce_lr = ReduceLROnPlateau(monitor='val_loss',factor=0.1 ,patience=3, mode='auto')\n",
    "    history=model.fit(trainSeq, trainCate, batch_size, epochs=30,validation_split=0.2, callbacks=[EarlyStopping(monitor='val_loss',patience=5)])\n",
    "    result = model.predict(testSeq)  # 预测样本属于每个类别的概率\n",
    "    score = model.evaluate(testSeq,\n",
    "                               testCate,\n",
    "                               batch_size=32)\n",
    "    score_list.append(score[1])"
   ]
  },
  {
   "cell_type": "code",
   "execution_count": 22,
   "id": "7a7fbe16",
   "metadata": {},
   "outputs": [
    {
     "name": "stdout",
     "output_type": "stream",
     "text": [
      "accuracy:0.7210526287555694\n"
     ]
    }
   ],
   "source": [
    "print('accuracy:'+str(sum(score_list)/len(score_list)))"
   ]
  },
  {
   "cell_type": "code",
   "execution_count": 23,
   "id": "c717fe6f",
   "metadata": {},
   "outputs": [],
   "source": [
    "score_list.sort()"
   ]
  },
  {
   "cell_type": "code",
   "execution_count": 24,
   "id": "205e3cfa",
   "metadata": {},
   "outputs": [
    {
     "data": {
      "text/plain": [
       "[0.6842105388641357,\n",
       " 0.6900584697723389,\n",
       " 0.7017543911933899,\n",
       " 0.7134503126144409,\n",
       " 0.7251461744308472,\n",
       " 0.7251461744308472,\n",
       " 0.7309941649436951,\n",
       " 0.7368420958518982,\n",
       " 0.7485380172729492,\n",
       " 0.7543859481811523]"
      ]
     },
     "execution_count": 24,
     "metadata": {},
     "output_type": "execute_result"
    }
   ],
   "source": [
    "score_list"
   ]
  },
  {
   "cell_type": "code",
   "execution_count": 25,
   "id": "79f62c6c",
   "metadata": {},
   "outputs": [
    {
     "data": {
      "text/plain": [
       "0.7251461942990621"
      ]
     },
     "execution_count": 25,
     "metadata": {},
     "output_type": "execute_result"
    }
   ],
   "source": [
    "sum(score_list[1:])/9"
   ]
  }
 ],
 "metadata": {
  "kernelspec": {
   "display_name": "Python 3.10.6 ('4222G18_backup')",
   "language": "python",
   "name": "python3"
  },
  "language_info": {
   "codemirror_mode": {
    "name": "ipython",
    "version": 3
   },
   "file_extension": ".py",
   "mimetype": "text/x-python",
   "name": "python",
   "nbconvert_exporter": "python",
   "pygments_lexer": "ipython3",
   "version": "3.10.6"
  },
  "vscode": {
   "interpreter": {
    "hash": "64fb50f4500008f9f404f170e716523d28225753a93c94be3d36e645dbfada09"
   }
  }
 },
 "nbformat": 4,
 "nbformat_minor": 5
}
