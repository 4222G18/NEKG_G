{
 "cells": [
  {
   "cell_type": "code",
   "execution_count": 26,
   "id": "0eb9ba7f",
   "metadata": {},
   "outputs": [
    {
     "data": {
      "text/plain": [
       "'/home/egbert_jing/github/NEKG_G/Final_project'"
      ]
     },
     "execution_count": 26,
     "metadata": {},
     "output_type": "execute_result"
    }
   ],
   "source": [
    "import sys\n",
    "import os\n",
    "path_father = os.path.abspath(r'..')\n",
    "path_father\n",
    "# sys.path.append(path_father)"
   ]
  },
  {
   "cell_type": "code",
   "execution_count": 27,
   "id": "fce28d96",
   "metadata": {},
   "outputs": [],
   "source": [
    "import pandas as pd\n",
    "import numpy as np\n",
    "import matplotlib.pyplot as plt\n",
    "import seaborn as sns\n",
    "from sklearn import metrics\n",
    "from sklearn.preprocessing import LabelEncoder,OneHotEncoder\n",
    "from keras.models import Model\n",
    "from keras.layers import LSTM, Activation, Dense, Dropout, Input, Embedding\n",
    "from keras.optimizers import RMSprop\n",
    "from keras.preprocessing.text import Tokenizer\n",
    "from keras.preprocessing import sequence\n",
    "from keras.callbacks import EarlyStopping\n",
    "from keras_preprocessing.sequence import pad_sequences\n",
    "from keras.utils.np_utils import to_categorical\n",
    "from keras.models import Sequential\n",
    "from keras.callbacks import ReduceLROnPlateau\n",
    "from keras.models import load_model\n",
    "%matplotlib inline"
   ]
  },
  {
   "cell_type": "code",
   "execution_count": 28,
   "id": "c268b59b",
   "metadata": {},
   "outputs": [],
   "source": [
    "df = pd.read_csv(path_father + \"/df_with_gcs.txt\",sep=',',header=0)"
   ]
  },
  {
   "cell_type": "code",
   "execution_count": 29,
   "id": "e9e0ee5c",
   "metadata": {},
   "outputs": [],
   "source": [
    "#划分训练测试集\n",
    "from sklearn.model_selection import train_test_split\n",
    "\n",
    "train_set, test_set = train_test_split(df, test_size=0.1, random_state=42)"
   ]
  },
  {
   "cell_type": "markdown",
   "id": "59d7c98f",
   "metadata": {},
   "source": [
    "处理词向量"
   ]
  },
  {
   "cell_type": "code",
   "execution_count": 30,
   "id": "12c63f87",
   "metadata": {},
   "outputs": [],
   "source": [
    "from gensim.models import word2vec\n",
    "import logging\n",
    "logging.basicConfig(format='%(asctime)s : %(levelname)s : %(message)s', level=logging.INFO) "
   ]
  },
  {
   "cell_type": "code",
   "execution_count": 31,
   "id": "f13dfd1d",
   "metadata": {},
   "outputs": [],
   "source": [
    "# 切分词汇\n",
    "def cut(data):\n",
    "    cut= [s.split() for s in data['TriageNote'].astype(str)]\n",
    "    return cut"
   ]
  },
  {
   "cell_type": "code",
   "execution_count": 32,
   "id": "94dd810e",
   "metadata": {},
   "outputs": [],
   "source": [
    "train_text=cut(train_set)\n",
    "test_text=cut(test_set)\n",
    "sentences=train_text+test_text"
   ]
  },
  {
   "cell_type": "code",
   "execution_count": 33,
   "id": "2b4b566b",
   "metadata": {},
   "outputs": [
    {
     "data": {
      "text/plain": [
       "57"
      ]
     },
     "execution_count": 33,
     "metadata": {},
     "output_type": "execute_result"
    }
   ],
   "source": [
    "#得到最大句子长度\n",
    "num_list=[len(one) for one in sentences]\n",
    "max(num_list)"
   ]
  },
  {
   "cell_type": "code",
   "execution_count": 34,
   "id": "25aa3ce1",
   "metadata": {},
   "outputs": [],
   "source": [
    "maxLen=64"
   ]
  },
  {
   "cell_type": "code",
   "execution_count": 35,
   "id": "cad599c7",
   "metadata": {},
   "outputs": [],
   "source": [
    "#处理label->one_hot\n",
    "from sklearn.preprocessing import LabelEncoder\n",
    "\n",
    "def encodelabel(data):\n",
    "    le = LabelEncoder()\n",
    "    resultLable=le.fit_transform(data['DISPOSITION'])\n",
    "    return resultLable\n"
   ]
  },
  {
   "cell_type": "code",
   "execution_count": 36,
   "id": "b3dcf8dc",
   "metadata": {},
   "outputs": [],
   "source": [
    "train_lable=encodelabel(train_set)\n",
    "test_lable=encodelabel(test_set)"
   ]
  },
  {
   "cell_type": "code",
   "execution_count": 37,
   "id": "1f35b5d9",
   "metadata": {},
   "outputs": [
    {
     "name": "stderr",
     "output_type": "stream",
     "text": [
      "2022-11-10 22:31:21,301 : INFO : loading Word2Vec object from ./word2vec_all.model\n",
      "2022-11-10 22:31:21,322 : INFO : loading wv recursively from ./word2vec_all.model.wv.* with mmap=None\n",
      "2022-11-10 22:31:21,324 : INFO : setting ignored attribute cum_table to None\n",
      "2022-11-10 22:31:21,534 : INFO : Word2Vec lifecycle event {'fname': './word2vec_all.model', 'datetime': '2022-11-10T22:31:21.534498', 'gensim': '4.2.0', 'python': '3.10.6 (main, Oct 24 2022, 16:07:47) [GCC 11.2.0]', 'platform': 'Linux-5.15.68.1-microsoft-standard-WSL2-x86_64-with-glibc2.35', 'event': 'loaded'}\n"
     ]
    }
   ],
   "source": [
    "wvmodel = word2vec.Word2Vec.load(\"./word2vec_all.model\")"
   ]
  },
  {
   "cell_type": "code",
   "execution_count": 38,
   "id": "9cc89146",
   "metadata": {},
   "outputs": [],
   "source": [
    "import json\n",
    "f = open(path_father + \"/embedding/SimplE_SGD.json\")\n",
    "nekg = json.load(f)\n",
    "# nekg=np.load('./embedding/transe 0-999 100d.npy')\n",
    "# nekg"
   ]
  },
  {
   "cell_type": "code",
   "execution_count": 39,
   "id": "26830919",
   "metadata": {},
   "outputs": [],
   "source": [
    "tokenizer=Tokenizer()\n",
    "tokenizer.fit_on_texts(sentences)\n",
    "vocab = tokenizer.word_index "
   ]
  },
  {
   "cell_type": "code",
   "execution_count": 40,
   "id": "d6b9da6f",
   "metadata": {},
   "outputs": [],
   "source": [
    "#特征数字编号，不足的话会在前面补充0\n",
    "trainID = tokenizer.texts_to_sequences(train_text)\n",
    "# print(trainID)\n",
    "testID = tokenizer.texts_to_sequences(test_text)\n",
    "trainSeq=pad_sequences(trainID,maxlen=maxLen)\n",
    "#print(trainSeq)\n",
    "testSeq=pad_sequences(testID,maxlen=maxLen)\n",
    "\n",
    "#标签的独热编码\n",
    "trainCate = to_categorical(train_lable, num_classes=2)  # 将标签转换为one-hot编码\n",
    "#print(trainCate)\n",
    "testCate= to_categorical(test_lable, num_classes=2)  # 将标签转换为one-hot编码"
   ]
  },
  {
   "cell_type": "code",
   "execution_count": 41,
   "id": "cc516388",
   "metadata": {},
   "outputs": [],
   "source": [
    "def nekg_embed(n0):\n",
    "    n1=int(n0)\n",
    "    n2=int(n0)+1\n",
    "    s1=(n2-n0)/(n2-n1)\n",
    "    s2=(n0-n1)/(n2-n1)\n",
    "    return s1*nekg[n1]+s2*nekg[n2]"
   ]
  },
  {
   "cell_type": "code",
   "execution_count": 42,
   "id": "88a8378f",
   "metadata": {},
   "outputs": [],
   "source": [
    "#利用训练后的word2vec自定义Embedding的训练矩阵，每行代表一个词（结合独热码和矩阵乘法理解）\n",
    "embedding_matrix = np.zeros((len(vocab) + 1, 100))\n",
    "for word, i in vocab.items():\n",
    "    try:\n",
    "        if(word.isdigit()==False):#对word用word2vec\n",
    "            embedding_vector = wvmodel.wv[str(word)]\n",
    "        else:#对number用nekg\n",
    "            if (int(float(word))<=998):\n",
    "                embedding_vector =  nekg_embed(float(word))\n",
    "            else:\n",
    "                embedding_vector = wvmodel.wv[str(word)]\n",
    "        embedding_matrix[i] = embedding_vector    \n",
    "    except KeyError:\n",
    "        continue"
   ]
  },
  {
   "cell_type": "code",
   "execution_count": 43,
   "id": "1fa9c8f0",
   "metadata": {},
   "outputs": [
    {
     "name": "stdout",
     "output_type": "stream",
     "text": [
      "Model: \"sequential_11\"\n",
      "_________________________________________________________________\n",
      " Layer (type)                Output Shape              Param #   \n",
      "=================================================================\n",
      " embedding_11 (Embedding)    (None, 64, 100)           806300    \n",
      "                                                                 \n",
      " lstm_11 (LSTM)              (None, 64)                42240     \n",
      "                                                                 \n",
      " FC1 (Dense)                 (None, 64)                4160      \n",
      "                                                                 \n",
      " dropout_11 (Dropout)        (None, 64)                0         \n",
      "                                                                 \n",
      " FC2 (Dense)                 (None, 2)                 130       \n",
      "                                                                 \n",
      "=================================================================\n",
      "Total params: 852,830\n",
      "Trainable params: 852,830\n",
      "Non-trainable params: 0\n",
      "_________________________________________________________________\n",
      "Epoch 1/30\n",
      "154/154 [==============================] - 11s 58ms/step - loss: 0.7191 - accuracy: 0.5646 - val_loss: 0.5738 - val_accuracy: 0.7110\n",
      "Epoch 2/30\n",
      "154/154 [==============================] - 8s 54ms/step - loss: 0.6064 - accuracy: 0.7141 - val_loss: 0.6189 - val_accuracy: 0.7078\n",
      "Epoch 3/30\n",
      "154/154 [==============================] - 7s 44ms/step - loss: 0.5488 - accuracy: 0.7506 - val_loss: 0.5273 - val_accuracy: 0.7662\n",
      "Epoch 4/30\n",
      "154/154 [==============================] - 5s 33ms/step - loss: 0.4773 - accuracy: 0.7969 - val_loss: 0.5630 - val_accuracy: 0.7338\n",
      "Epoch 5/30\n",
      "154/154 [==============================] - 5s 33ms/step - loss: 0.3932 - accuracy: 0.8359 - val_loss: 0.5091 - val_accuracy: 0.7630\n",
      "Epoch 6/30\n",
      "154/154 [==============================] - 6s 37ms/step - loss: 0.3458 - accuracy: 0.8627 - val_loss: 0.5913 - val_accuracy: 0.7630\n",
      "Epoch 7/30\n",
      "154/154 [==============================] - 8s 54ms/step - loss: 0.2319 - accuracy: 0.9163 - val_loss: 0.6483 - val_accuracy: 0.7630\n",
      "Epoch 8/30\n",
      "154/154 [==============================] - 8s 53ms/step - loss: 0.1799 - accuracy: 0.9399 - val_loss: 0.8495 - val_accuracy: 0.7305\n",
      "Epoch 9/30\n",
      "154/154 [==============================] - 8s 54ms/step - loss: 0.1320 - accuracy: 0.9553 - val_loss: 0.7977 - val_accuracy: 0.7305\n",
      "Epoch 10/30\n",
      "154/154 [==============================] - 8s 54ms/step - loss: 0.0936 - accuracy: 0.9716 - val_loss: 1.3037 - val_accuracy: 0.6948\n"
     ]
    },
    {
     "name": "stderr",
     "output_type": "stream",
     "text": [
      "2022-11-10 22:32:42,382 : WARNING : Found untraced functions such as lstm_cell_12_layer_call_fn, lstm_cell_12_layer_call_and_return_conditional_losses while saving (showing 2 of 2). These functions will not be directly callable after loading.\n"
     ]
    },
    {
     "name": "stdout",
     "output_type": "stream",
     "text": [
      "INFO:tensorflow:Assets written to: LSTM/assets\n"
     ]
    },
    {
     "name": "stderr",
     "output_type": "stream",
     "text": [
      "2022-11-10 22:32:43,102 : INFO : Assets written to: LSTM/assets\n"
     ]
    }
   ],
   "source": [
    "## 定义LSTM模型\n",
    "batch_size = 8\n",
    "inputs = Input(name='inputs',shape=[maxLen])\n",
    "embedder = Embedding(len(vocab) + 1, 100, input_length=maxLen, weights=[embedding_matrix], trainable=True)\n",
    "model=Sequential()\n",
    "model.add(embedder)\n",
    "model.add(LSTM(64))\n",
    "model.add(Dense(64,activation=\"sigmoid\",name=\"FC1\"))\n",
    "model.add(Dropout(0.4))\n",
    "model.add(Dense(2,activation=\"softmax\",name=\"FC2\"))\n",
    "model.summary()\n",
    "model.compile(loss=\"categorical_crossentropy\",optimizer=RMSprop(),metrics=[\"accuracy\"])\n",
    "#reduce_lr = ReduceLROnPlateau(monitor='val_loss',factor=0.1 ,patience=3, mode='auto')\n",
    "history=model.fit(trainSeq, trainCate, batch_size, epochs=30,validation_split=0.2, callbacks=[EarlyStopping(monitor='val_loss',patience=5)])\n",
    "model.save(\"LSTM\")"
   ]
  },
  {
   "cell_type": "code",
   "execution_count": 44,
   "id": "f6b394d2",
   "metadata": {},
   "outputs": [
    {
     "name": "stdout",
     "output_type": "stream",
     "text": [
      "6/6 [==============================] - 1s 15ms/step\n",
      "6/6 [==============================] - 1s 16ms/step - loss: 1.5006 - accuracy: 0.6316\n",
      "[1.5006422996520996, 0.6315789222717285]\n"
     ]
    }
   ],
   "source": [
    "#预测与评估\n",
    "mainModel = load_model('LSTM')\n",
    "result = mainModel.predict(testSeq)  # 预测样本属于每个类别的概率\n",
    "score = mainModel.evaluate(testSeq,\n",
    "                           testCate,\n",
    "                           batch_size=32)\n",
    "print(score)"
   ]
  },
  {
   "cell_type": "code",
   "execution_count": 45,
   "id": "5cd82ded",
   "metadata": {},
   "outputs": [
    {
     "data": {
      "image/png": "[encoded data removed]",
      "text/plain": [
       "<Figure size 640x480 with 1 Axes>"
      ]
     },
     "metadata": {},
     "output_type": "display_data"
    },
    {
     "data": {
      "image/png": "[encoded data removed]",
      "text/plain": [
       "<Figure size 640x480 with 1 Axes>"
      ]
     },
     "metadata": {},
     "output_type": "display_data"
    }
   ],
   "source": [
    "plt.plot(history.history['accuracy'])\n",
    "plt.plot(history.history['val_accuracy'])\n",
    "plt.title('Model accuracy')\n",
    "plt.ylabel('Accuracy')\n",
    "plt.xlabel('Epoch')\n",
    "plt.legend(['Train','Valid'],loc='upper left')\n",
    "plt.show()\n",
    "\n",
    "plt.plot(history.history['loss'])\n",
    "plt.plot(history.history['val_loss'])\n",
    "plt.title('Model loss')\n",
    "plt.ylabel('Loss')\n",
    "plt.xlabel('Epoch')\n",
    "plt.legend(['Train','Valid'],loc='upper left')\n",
    "plt.show()"
   ]
  },
  {
   "cell_type": "code",
   "execution_count": 46,
   "id": "5450d945",
   "metadata": {},
   "outputs": [
    {
     "name": "stdout",
     "output_type": "stream",
     "text": [
      "Model: \"sequential_12\"\n",
      "_________________________________________________________________\n",
      " Layer (type)                Output Shape              Param #   \n",
      "=================================================================\n",
      " embedding_12 (Embedding)    (None, 64, 100)           806300    \n",
      "                                                                 \n",
      " lstm_12 (LSTM)              (None, 64)                42240     \n",
      "                                                                 \n",
      " FC1 (Dense)                 (None, 64)                4160      \n",
      "                                                                 \n",
      " dropout_12 (Dropout)        (None, 64)                0         \n",
      "                                                                 \n",
      " FC2 (Dense)                 (None, 2)                 130       \n",
      "                                                                 \n",
      "=================================================================\n",
      "Total params: 852,830\n",
      "Trainable params: 852,830\n",
      "Non-trainable params: 0\n",
      "_________________________________________________________________\n",
      "Epoch 1/30\n",
      "154/154 [==============================] - 12s 62ms/step - loss: 0.6927 - accuracy: 0.5703 - val_loss: 0.5659 - val_accuracy: 0.7338\n",
      "Epoch 2/30\n",
      "154/154 [==============================] - 8s 55ms/step - loss: 0.6063 - accuracy: 0.7011 - val_loss: 0.5687 - val_accuracy: 0.7240\n",
      "Epoch 3/30\n",
      "154/154 [==============================] - 7s 49ms/step - loss: 0.5262 - accuracy: 0.7677 - val_loss: 0.5331 - val_accuracy: 0.7662\n",
      "Epoch 4/30\n",
      "154/154 [==============================] - 8s 51ms/step - loss: 0.4687 - accuracy: 0.7985 - val_loss: 0.6182 - val_accuracy: 0.7110\n",
      "Epoch 5/30\n",
      "154/154 [==============================] - 8s 50ms/step - loss: 0.4101 - accuracy: 0.8270 - val_loss: 0.6509 - val_accuracy: 0.7240\n",
      "Epoch 6/30\n",
      "154/154 [==============================] - 8s 52ms/step - loss: 0.3087 - accuracy: 0.8830 - val_loss: 0.5524 - val_accuracy: 0.7760\n",
      "Epoch 7/30\n",
      "154/154 [==============================] - 9s 56ms/step - loss: 0.2432 - accuracy: 0.9131 - val_loss: 0.5904 - val_accuracy: 0.7825\n",
      "Epoch 8/30\n",
      "154/154 [==============================] - 9s 57ms/step - loss: 0.1798 - accuracy: 0.9366 - val_loss: 0.7542 - val_accuracy: 0.7630\n",
      "6/6 [==============================] - 1s 16ms/step\n",
      "6/6 [==============================] - 0s 16ms/step - loss: 0.8696 - accuracy: 0.7251\n",
      "Model: \"sequential_13\"\n",
      "_________________________________________________________________\n",
      " Layer (type)                Output Shape              Param #   \n",
      "=================================================================\n",
      " embedding_13 (Embedding)    (None, 64, 100)           806300    \n",
      "                                                                 \n",
      " lstm_13 (LSTM)              (None, 64)                42240     \n",
      "                                                                 \n",
      " FC1 (Dense)                 (None, 64)                4160      \n",
      "                                                                 \n",
      " dropout_13 (Dropout)        (None, 64)                0         \n",
      "                                                                 \n",
      " FC2 (Dense)                 (None, 2)                 130       \n",
      "                                                                 \n",
      "=================================================================\n",
      "Total params: 852,830\n",
      "Trainable params: 852,830\n",
      "Non-trainable params: 0\n",
      "_________________________________________________________________\n",
      "Epoch 1/30\n",
      "154/154 [==============================] - 11s 59ms/step - loss: 0.7163 - accuracy: 0.5613 - val_loss: 0.5798 - val_accuracy: 0.7338\n",
      "Epoch 2/30\n",
      "154/154 [==============================] - 8s 51ms/step - loss: 0.6060 - accuracy: 0.6921 - val_loss: 0.7344 - val_accuracy: 0.6883\n",
      "Epoch 3/30\n",
      "154/154 [==============================] - 5s 33ms/step - loss: 0.5510 - accuracy: 0.7335 - val_loss: 0.5526 - val_accuracy: 0.7208\n",
      "Epoch 4/30\n",
      "154/154 [==============================] - 5s 30ms/step - loss: 0.4663 - accuracy: 0.7929 - val_loss: 0.5420 - val_accuracy: 0.7727\n",
      "Epoch 5/30\n",
      "154/154 [==============================] - 5s 31ms/step - loss: 0.3990 - accuracy: 0.8400 - val_loss: 0.6233 - val_accuracy: 0.6948\n",
      "Epoch 6/30\n",
      "154/154 [==============================] - 5s 30ms/step - loss: 0.3236 - accuracy: 0.8781 - val_loss: 0.5975 - val_accuracy: 0.7630\n",
      "Epoch 7/30\n",
      "154/154 [==============================] - 5s 31ms/step - loss: 0.2667 - accuracy: 0.9009 - val_loss: 0.5918 - val_accuracy: 0.7532\n",
      "Epoch 8/30\n",
      "154/154 [==============================] - 5s 29ms/step - loss: 0.1960 - accuracy: 0.9310 - val_loss: 0.8698 - val_accuracy: 0.7045\n",
      "Epoch 9/30\n",
      "154/154 [==============================] - 5s 30ms/step - loss: 0.1614 - accuracy: 0.9448 - val_loss: 0.7243 - val_accuracy: 0.7500\n",
      "6/6 [==============================] - 0s 10ms/step\n",
      "6/6 [==============================] - 0s 9ms/step - loss: 0.7925 - accuracy: 0.6550\n",
      "Model: \"sequential_14\"\n",
      "_________________________________________________________________\n",
      " Layer (type)                Output Shape              Param #   \n",
      "=================================================================\n",
      " embedding_14 (Embedding)    (None, 64, 100)           806300    \n",
      "                                                                 \n",
      " lstm_14 (LSTM)              (None, 64)                42240     \n",
      "                                                                 \n",
      " FC1 (Dense)                 (None, 64)                4160      \n",
      "                                                                 \n",
      " dropout_14 (Dropout)        (None, 64)                0         \n",
      "                                                                 \n",
      " FC2 (Dense)                 (None, 2)                 130       \n",
      "                                                                 \n",
      "=================================================================\n",
      "Total params: 852,830\n",
      "Trainable params: 852,830\n",
      "Non-trainable params: 0\n",
      "_________________________________________________________________\n",
      "Epoch 1/30\n",
      "154/154 [==============================] - 7s 35ms/step - loss: 0.7145 - accuracy: 0.5605 - val_loss: 0.7911 - val_accuracy: 0.5877\n",
      "Epoch 2/30\n",
      "154/154 [==============================] - 5s 29ms/step - loss: 0.5976 - accuracy: 0.7002 - val_loss: 0.5539 - val_accuracy: 0.7305\n",
      "Epoch 3/30\n",
      "154/154 [==============================] - 5s 33ms/step - loss: 0.5493 - accuracy: 0.7392 - val_loss: 0.5761 - val_accuracy: 0.7435\n",
      "Epoch 4/30\n",
      "154/154 [==============================] - 5s 33ms/step - loss: 0.4712 - accuracy: 0.7985 - val_loss: 0.5424 - val_accuracy: 0.7727\n",
      "Epoch 5/30\n",
      "154/154 [==============================] - 5s 30ms/step - loss: 0.3709 - accuracy: 0.8400 - val_loss: 0.5713 - val_accuracy: 0.7695\n",
      "Epoch 6/30\n",
      "154/154 [==============================] - 5s 30ms/step - loss: 0.3009 - accuracy: 0.8814 - val_loss: 0.6670 - val_accuracy: 0.7760\n",
      "Epoch 7/30\n",
      "154/154 [==============================] - 5s 29ms/step - loss: 0.2538 - accuracy: 0.8993 - val_loss: 0.6211 - val_accuracy: 0.7500\n",
      "Epoch 8/30\n",
      "154/154 [==============================] - 4s 28ms/step - loss: 0.1866 - accuracy: 0.9310 - val_loss: 0.7638 - val_accuracy: 0.7662\n",
      "Epoch 9/30\n",
      "154/154 [==============================] - 5s 29ms/step - loss: 0.1331 - accuracy: 0.9504 - val_loss: 0.8751 - val_accuracy: 0.7370\n",
      "6/6 [==============================] - 0s 10ms/step\n",
      "6/6 [==============================] - 0s 10ms/step - loss: 0.9305 - accuracy: 0.7310\n",
      "Model: \"sequential_15\"\n",
      "_________________________________________________________________\n",
      " Layer (type)                Output Shape              Param #   \n",
      "=================================================================\n",
      " embedding_15 (Embedding)    (None, 64, 100)           806300    \n",
      "                                                                 \n",
      " lstm_15 (LSTM)              (None, 64)                42240     \n",
      "                                                                 \n",
      " FC1 (Dense)                 (None, 64)                4160      \n",
      "                                                                 \n",
      " dropout_15 (Dropout)        (None, 64)                0         \n",
      "                                                                 \n",
      " FC2 (Dense)                 (None, 2)                 130       \n",
      "                                                                 \n",
      "=================================================================\n",
      "Total params: 852,830\n",
      "Trainable params: 852,830\n",
      "Non-trainable params: 0\n",
      "_________________________________________________________________\n",
      "Epoch 1/30\n",
      "154/154 [==============================] - 7s 37ms/step - loss: 0.6907 - accuracy: 0.5881 - val_loss: 0.8123 - val_accuracy: 0.6071\n",
      "Epoch 2/30\n",
      "154/154 [==============================] - 5s 35ms/step - loss: 0.5930 - accuracy: 0.7051 - val_loss: 0.5585 - val_accuracy: 0.7273\n",
      "Epoch 3/30\n",
      "154/154 [==============================] - 5s 30ms/step - loss: 0.5414 - accuracy: 0.7392 - val_loss: 0.5297 - val_accuracy: 0.7532\n",
      "Epoch 4/30\n",
      "154/154 [==============================] - 5s 31ms/step - loss: 0.4714 - accuracy: 0.8002 - val_loss: 0.5652 - val_accuracy: 0.7045\n",
      "Epoch 5/30\n",
      "154/154 [==============================] - 5s 31ms/step - loss: 0.4051 - accuracy: 0.8253 - val_loss: 0.5778 - val_accuracy: 0.7695\n",
      "Epoch 6/30\n",
      "154/154 [==============================] - 5s 31ms/step - loss: 0.3169 - accuracy: 0.8814 - val_loss: 0.5756 - val_accuracy: 0.7662\n",
      "Epoch 7/30\n",
      "154/154 [==============================] - 5s 34ms/step - loss: 0.2453 - accuracy: 0.9123 - val_loss: 0.5794 - val_accuracy: 0.7630\n",
      "Epoch 8/30\n",
      "154/154 [==============================] - 5s 36ms/step - loss: 0.1783 - accuracy: 0.9366 - val_loss: 0.6695 - val_accuracy: 0.7695\n",
      "6/6 [==============================] - 0s 10ms/step\n",
      "6/6 [==============================] - 0s 10ms/step - loss: 0.8001 - accuracy: 0.6959\n",
      "Model: \"sequential_16\"\n",
      "_________________________________________________________________\n",
      " Layer (type)                Output Shape              Param #   \n",
      "=================================================================\n",
      " embedding_16 (Embedding)    (None, 64, 100)           806300    \n",
      "                                                                 \n",
      " lstm_16 (LSTM)              (None, 64)                42240     \n",
      "                                                                 \n",
      " FC1 (Dense)                 (None, 64)                4160      \n",
      "                                                                 \n",
      " dropout_16 (Dropout)        (None, 64)                0         \n",
      "                                                                 \n",
      " FC2 (Dense)                 (None, 2)                 130       \n",
      "                                                                 \n",
      "=================================================================\n",
      "Total params: 852,830\n",
      "Trainable params: 852,830\n",
      "Non-trainable params: 0\n",
      "_________________________________________________________________\n",
      "Epoch 1/30\n",
      "154/154 [==============================] - 8s 36ms/step - loss: 0.6919 - accuracy: 0.5760 - val_loss: 0.7142 - val_accuracy: 0.6526\n",
      "Epoch 2/30\n",
      "154/154 [==============================] - 5s 29ms/step - loss: 0.6160 - accuracy: 0.6937 - val_loss: 0.5626 - val_accuracy: 0.7305\n",
      "Epoch 3/30\n",
      "154/154 [==============================] - 5s 30ms/step - loss: 0.5342 - accuracy: 0.7498 - val_loss: 0.5463 - val_accuracy: 0.7370\n",
      "Epoch 4/30\n",
      "154/154 [==============================] - 5s 30ms/step - loss: 0.4753 - accuracy: 0.7985 - val_loss: 0.6158 - val_accuracy: 0.7208\n",
      "Epoch 5/30\n",
      "154/154 [==============================] - 5s 32ms/step - loss: 0.4195 - accuracy: 0.8262 - val_loss: 0.5436 - val_accuracy: 0.7630\n",
      "Epoch 6/30\n",
      "154/154 [==============================] - 5s 33ms/step - loss: 0.3350 - accuracy: 0.8700 - val_loss: 0.5453 - val_accuracy: 0.7792\n",
      "Epoch 7/30\n",
      "154/154 [==============================] - 5s 31ms/step - loss: 0.2415 - accuracy: 0.9033 - val_loss: 0.5459 - val_accuracy: 0.7532\n",
      "Epoch 8/30\n",
      "154/154 [==============================] - 5s 32ms/step - loss: 0.1918 - accuracy: 0.9301 - val_loss: 0.6364 - val_accuracy: 0.7662\n",
      "Epoch 9/30\n",
      "154/154 [==============================] - 5s 33ms/step - loss: 0.1216 - accuracy: 0.9594 - val_loss: 0.7852 - val_accuracy: 0.7500\n",
      "Epoch 10/30\n",
      "154/154 [==============================] - 5s 30ms/step - loss: 0.0795 - accuracy: 0.9748 - val_loss: 1.0570 - val_accuracy: 0.7565\n",
      "6/6 [==============================] - 0s 10ms/step\n",
      "6/6 [==============================] - 0s 9ms/step - loss: 1.1526 - accuracy: 0.7193\n",
      "Model: \"sequential_17\"\n",
      "_________________________________________________________________\n",
      " Layer (type)                Output Shape              Param #   \n",
      "=================================================================\n",
      " embedding_17 (Embedding)    (None, 64, 100)           806300    \n",
      "                                                                 \n",
      " lstm_17 (LSTM)              (None, 64)                42240     \n",
      "                                                                 \n",
      " FC1 (Dense)                 (None, 64)                4160      \n",
      "                                                                 \n",
      " dropout_17 (Dropout)        (None, 64)                0         \n",
      "                                                                 \n",
      " FC2 (Dense)                 (None, 2)                 130       \n",
      "                                                                 \n",
      "=================================================================\n",
      "Total params: 852,830\n",
      "Trainable params: 852,830\n",
      "Non-trainable params: 0\n",
      "_________________________________________________________________\n",
      "Epoch 1/30\n",
      "154/154 [==============================] - 7s 38ms/step - loss: 0.6925 - accuracy: 0.5825 - val_loss: 0.5739 - val_accuracy: 0.7338\n",
      "Epoch 2/30\n",
      "154/154 [==============================] - 5s 33ms/step - loss: 0.5969 - accuracy: 0.7149 - val_loss: 0.5616 - val_accuracy: 0.7403\n",
      "Epoch 3/30\n",
      "154/154 [==============================] - 5s 31ms/step - loss: 0.5339 - accuracy: 0.7327 - val_loss: 0.5510 - val_accuracy: 0.7435\n",
      "Epoch 4/30\n",
      "154/154 [==============================] - 5s 31ms/step - loss: 0.4857 - accuracy: 0.7953 - val_loss: 0.5388 - val_accuracy: 0.7435\n",
      "Epoch 5/30\n",
      "154/154 [==============================] - 5s 33ms/step - loss: 0.4074 - accuracy: 0.8253 - val_loss: 0.5740 - val_accuracy: 0.7662\n",
      "Epoch 6/30\n",
      "154/154 [==============================] - 5s 33ms/step - loss: 0.3525 - accuracy: 0.8546 - val_loss: 0.5200 - val_accuracy: 0.7792\n",
      "Epoch 7/30\n",
      "154/154 [==============================] - 5s 33ms/step - loss: 0.2789 - accuracy: 0.8985 - val_loss: 0.7330 - val_accuracy: 0.7695\n",
      "Epoch 8/30\n",
      "154/154 [==============================] - 6s 36ms/step - loss: 0.2412 - accuracy: 0.9115 - val_loss: 0.7055 - val_accuracy: 0.7597\n",
      "Epoch 9/30\n",
      "154/154 [==============================] - 5s 36ms/step - loss: 0.1710 - accuracy: 0.9391 - val_loss: 0.6977 - val_accuracy: 0.7403\n",
      "Epoch 10/30\n",
      "154/154 [==============================] - 5s 33ms/step - loss: 0.1213 - accuracy: 0.9610 - val_loss: 0.7182 - val_accuracy: 0.7403\n",
      "Epoch 11/30\n",
      "154/154 [==============================] - 5s 33ms/step - loss: 0.0822 - accuracy: 0.9699 - val_loss: 0.9080 - val_accuracy: 0.7500\n",
      "6/6 [==============================] - 0s 10ms/step\n",
      "6/6 [==============================] - 0s 9ms/step - loss: 0.9879 - accuracy: 0.7310\n",
      "Model: \"sequential_18\"\n",
      "_________________________________________________________________\n",
      " Layer (type)                Output Shape              Param #   \n",
      "=================================================================\n",
      " embedding_18 (Embedding)    (None, 64, 100)           806300    \n",
      "                                                                 \n",
      " lstm_18 (LSTM)              (None, 64)                42240     \n",
      "                                                                 \n",
      " FC1 (Dense)                 (None, 64)                4160      \n",
      "                                                                 \n",
      " dropout_18 (Dropout)        (None, 64)                0         \n",
      "                                                                 \n",
      " FC2 (Dense)                 (None, 2)                 130       \n",
      "                                                                 \n",
      "=================================================================\n",
      "Total params: 852,830\n",
      "Trainable params: 852,830\n",
      "Non-trainable params: 0\n",
      "_________________________________________________________________\n",
      "Epoch 1/30\n",
      "154/154 [==============================] - 8s 40ms/step - loss: 0.7019 - accuracy: 0.5662 - val_loss: 0.5506 - val_accuracy: 0.7532\n",
      "Epoch 2/30\n",
      "154/154 [==============================] - 6s 38ms/step - loss: 0.6221 - accuracy: 0.6726 - val_loss: 0.6809 - val_accuracy: 0.6234\n",
      "Epoch 3/30\n",
      "154/154 [==============================] - 6s 37ms/step - loss: 0.5501 - accuracy: 0.7173 - val_loss: 0.5549 - val_accuracy: 0.7695\n",
      "Epoch 4/30\n",
      "154/154 [==============================] - 6s 37ms/step - loss: 0.4532 - accuracy: 0.8123 - val_loss: 0.5263 - val_accuracy: 0.7630\n",
      "Epoch 5/30\n",
      "154/154 [==============================] - 6s 39ms/step - loss: 0.4014 - accuracy: 0.8286 - val_loss: 0.6080 - val_accuracy: 0.7662\n",
      "Epoch 6/30\n",
      "154/154 [==============================] - 6s 37ms/step - loss: 0.3331 - accuracy: 0.8716 - val_loss: 0.5714 - val_accuracy: 0.7890\n",
      "Epoch 7/30\n",
      "154/154 [==============================] - 6s 37ms/step - loss: 0.2503 - accuracy: 0.9098 - val_loss: 0.6921 - val_accuracy: 0.7435\n",
      "Epoch 8/30\n",
      "154/154 [==============================] - 5s 33ms/step - loss: 0.1812 - accuracy: 0.9310 - val_loss: 0.6684 - val_accuracy: 0.7630\n",
      "Epoch 9/30\n",
      "154/154 [==============================] - 6s 37ms/step - loss: 0.1177 - accuracy: 0.9578 - val_loss: 0.7834 - val_accuracy: 0.7273\n",
      "6/6 [==============================] - 0s 10ms/step\n",
      "6/6 [==============================] - 0s 8ms/step - loss: 0.8324 - accuracy: 0.6784\n",
      "Model: \"sequential_19\"\n",
      "_________________________________________________________________\n",
      " Layer (type)                Output Shape              Param #   \n",
      "=================================================================\n",
      " embedding_19 (Embedding)    (None, 64, 100)           806300    \n",
      "                                                                 \n",
      " lstm_19 (LSTM)              (None, 64)                42240     \n",
      "                                                                 \n",
      " FC1 (Dense)                 (None, 64)                4160      \n",
      "                                                                 \n",
      " dropout_19 (Dropout)        (None, 64)                0         \n",
      "                                                                 \n",
      " FC2 (Dense)                 (None, 2)                 130       \n",
      "                                                                 \n",
      "=================================================================\n",
      "Total params: 852,830\n",
      "Trainable params: 852,830\n",
      "Non-trainable params: 0\n",
      "_________________________________________________________________\n",
      "Epoch 1/30\n",
      "154/154 [==============================] - 8s 37ms/step - loss: 0.6976 - accuracy: 0.5662 - val_loss: 0.6351 - val_accuracy: 0.6623\n",
      "Epoch 2/30\n",
      "154/154 [==============================] - 5s 29ms/step - loss: 0.5957 - accuracy: 0.7084 - val_loss: 0.5461 - val_accuracy: 0.7468\n",
      "Epoch 3/30\n",
      "154/154 [==============================] - 5s 29ms/step - loss: 0.5314 - accuracy: 0.7530 - val_loss: 0.5405 - val_accuracy: 0.7468\n",
      "Epoch 4/30\n",
      "154/154 [==============================] - 5s 29ms/step - loss: 0.4523 - accuracy: 0.8107 - val_loss: 0.5815 - val_accuracy: 0.7792\n",
      "Epoch 5/30\n",
      "154/154 [==============================] - 5s 30ms/step - loss: 0.4075 - accuracy: 0.8335 - val_loss: 0.5172 - val_accuracy: 0.7890\n",
      "Epoch 6/30\n",
      "154/154 [==============================] - 5s 31ms/step - loss: 0.3489 - accuracy: 0.8668 - val_loss: 0.5541 - val_accuracy: 0.7468\n",
      "Epoch 7/30\n",
      "154/154 [==============================] - 6s 36ms/step - loss: 0.2627 - accuracy: 0.8985 - val_loss: 0.5898 - val_accuracy: 0.7727\n",
      "Epoch 8/30\n",
      "154/154 [==============================] - 6s 36ms/step - loss: 0.1943 - accuracy: 0.9310 - val_loss: 0.7034 - val_accuracy: 0.7760\n",
      "Epoch 9/30\n",
      "154/154 [==============================] - 6s 36ms/step - loss: 0.1598 - accuracy: 0.9448 - val_loss: 0.8147 - val_accuracy: 0.7240\n",
      "Epoch 10/30\n",
      "154/154 [==============================] - 6s 36ms/step - loss: 0.1035 - accuracy: 0.9659 - val_loss: 0.7519 - val_accuracy: 0.7403\n",
      "6/6 [==============================] - 0s 10ms/step\n",
      "6/6 [==============================] - 0s 9ms/step - loss: 0.7343 - accuracy: 0.7310\n",
      "Model: \"sequential_20\"\n",
      "_________________________________________________________________\n",
      " Layer (type)                Output Shape              Param #   \n",
      "=================================================================\n",
      " embedding_20 (Embedding)    (None, 64, 100)           806300    \n",
      "                                                                 \n",
      " lstm_20 (LSTM)              (None, 64)                42240     \n",
      "                                                                 \n",
      " FC1 (Dense)                 (None, 64)                4160      \n",
      "                                                                 \n",
      " dropout_20 (Dropout)        (None, 64)                0         \n",
      "                                                                 \n",
      " FC2 (Dense)                 (None, 2)                 130       \n",
      "                                                                 \n",
      "=================================================================\n",
      "Total params: 852,830\n",
      "Trainable params: 852,830\n",
      "Non-trainable params: 0\n",
      "_________________________________________________________________\n",
      "Epoch 1/30\n",
      "154/154 [==============================] - 8s 40ms/step - loss: 0.7257 - accuracy: 0.5565 - val_loss: 0.5714 - val_accuracy: 0.7143\n",
      "Epoch 2/30\n",
      "154/154 [==============================] - 6s 36ms/step - loss: 0.6195 - accuracy: 0.6751 - val_loss: 0.5459 - val_accuracy: 0.7468\n",
      "Epoch 3/30\n",
      "154/154 [==============================] - 6s 37ms/step - loss: 0.5257 - accuracy: 0.7587 - val_loss: 0.5751 - val_accuracy: 0.7468\n",
      "Epoch 4/30\n",
      "154/154 [==============================] - 6s 36ms/step - loss: 0.4714 - accuracy: 0.8107 - val_loss: 0.5397 - val_accuracy: 0.7500\n",
      "Epoch 5/30\n",
      "154/154 [==============================] - 6s 37ms/step - loss: 0.3843 - accuracy: 0.8367 - val_loss: 0.5839 - val_accuracy: 0.7825\n",
      "Epoch 6/30\n",
      "154/154 [==============================] - 6s 38ms/step - loss: 0.3177 - accuracy: 0.8830 - val_loss: 0.6303 - val_accuracy: 0.7630\n",
      "Epoch 7/30\n",
      "154/154 [==============================] - 6s 38ms/step - loss: 0.2410 - accuracy: 0.9188 - val_loss: 0.7140 - val_accuracy: 0.7338\n",
      "Epoch 8/30\n",
      "154/154 [==============================] - 6s 39ms/step - loss: 0.1728 - accuracy: 0.9358 - val_loss: 0.7252 - val_accuracy: 0.7338\n",
      "Epoch 9/30\n",
      "154/154 [==============================] - 6s 37ms/step - loss: 0.1213 - accuracy: 0.9537 - val_loss: 1.0086 - val_accuracy: 0.7370\n",
      "6/6 [==============================] - 0s 10ms/step\n",
      "6/6 [==============================] - 0s 9ms/step - loss: 1.0759 - accuracy: 0.7135\n",
      "Model: \"sequential_21\"\n",
      "_________________________________________________________________\n",
      " Layer (type)                Output Shape              Param #   \n",
      "=================================================================\n",
      " embedding_21 (Embedding)    (None, 64, 100)           806300    \n",
      "                                                                 \n",
      " lstm_21 (LSTM)              (None, 64)                42240     \n",
      "                                                                 \n",
      " FC1 (Dense)                 (None, 64)                4160      \n",
      "                                                                 \n",
      " dropout_21 (Dropout)        (None, 64)                0         \n",
      "                                                                 \n",
      " FC2 (Dense)                 (None, 2)                 130       \n",
      "                                                                 \n",
      "=================================================================\n",
      "Total params: 852,830\n",
      "Trainable params: 852,830\n",
      "Non-trainable params: 0\n",
      "_________________________________________________________________\n",
      "Epoch 1/30\n",
      "154/154 [==============================] - 8s 39ms/step - loss: 0.7223 - accuracy: 0.5483 - val_loss: 0.6209 - val_accuracy: 0.6494\n",
      "Epoch 2/30\n",
      "154/154 [==============================] - 6s 38ms/step - loss: 0.6017 - accuracy: 0.6913 - val_loss: 0.5368 - val_accuracy: 0.7532\n",
      "Epoch 3/30\n",
      "154/154 [==============================] - 5s 33ms/step - loss: 0.5274 - accuracy: 0.7555 - val_loss: 0.5475 - val_accuracy: 0.7435\n",
      "Epoch 4/30\n",
      "154/154 [==============================] - 5s 35ms/step - loss: 0.4886 - accuracy: 0.7766 - val_loss: 0.5426 - val_accuracy: 0.7695\n",
      "Epoch 5/30\n",
      "154/154 [==============================] - 6s 37ms/step - loss: 0.4139 - accuracy: 0.8180 - val_loss: 0.5409 - val_accuracy: 0.7857\n",
      "Epoch 6/30\n",
      "154/154 [==============================] - 6s 37ms/step - loss: 0.3585 - accuracy: 0.8578 - val_loss: 0.6022 - val_accuracy: 0.7597\n",
      "Epoch 7/30\n",
      "154/154 [==============================] - 5s 32ms/step - loss: 0.2754 - accuracy: 0.8944 - val_loss: 0.6205 - val_accuracy: 0.7500\n",
      "6/6 [==============================] - 0s 10ms/step\n",
      "6/6 [==============================] - 0s 8ms/step - loss: 0.6942 - accuracy: 0.6959\n"
     ]
    }
   ],
   "source": [
    "score_list=[]\n",
    "for i in range(10):\n",
    "    ## 定义LSTM模型\n",
    "    batch_size = 8\n",
    "    inputs = Input(name='inputs',shape=[maxLen])\n",
    "    embedder = Embedding(len(vocab) + 1, 100, input_length=maxLen, weights=[embedding_matrix], trainable=True)\n",
    "    model=Sequential()\n",
    "    model.add(embedder)\n",
    "    model.add(LSTM(64))\n",
    "    model.add(Dense(64,activation=\"sigmoid\",name=\"FC1\"))\n",
    "    model.add(Dropout(0.4,seed=12))\n",
    "    model.add(Dense(2,activation=\"softmax\",name=\"FC2\"))\n",
    "    model.summary()\n",
    "    model.compile(loss=\"categorical_crossentropy\",optimizer=RMSprop(),metrics=[\"accuracy\"])\n",
    "    #reduce_lr = ReduceLROnPlateau(monitor='val_loss',factor=0.1 ,patience=3, mode='auto')\n",
    "    history=model.fit(trainSeq, trainCate, batch_size, epochs=30,validation_split=0.2, callbacks=[EarlyStopping(monitor='val_loss',patience=5)])\n",
    "    result = model.predict(testSeq)  # 预测样本属于每个类别的概率\n",
    "    score = model.evaluate(testSeq,\n",
    "                               testCate,\n",
    "                               batch_size=32)\n",
    "    score_list.append(score[1])"
   ]
  },
  {
   "cell_type": "code",
   "execution_count": 47,
   "id": "7a7fbe16",
   "metadata": {},
   "outputs": [
    {
     "name": "stdout",
     "output_type": "stream",
     "text": [
      "accuracy:0.707602345943451\n"
     ]
    }
   ],
   "source": [
    "print('accuracy:'+str(sum(score_list)/len(score_list)))"
   ]
  },
  {
   "cell_type": "code",
   "execution_count": 48,
   "id": "c717fe6f",
   "metadata": {},
   "outputs": [],
   "source": [
    "score_list.sort()"
   ]
  },
  {
   "cell_type": "code",
   "execution_count": 49,
   "id": "205e3cfa",
   "metadata": {},
   "outputs": [
    {
     "data": {
      "text/plain": [
       "[0.6549707651138306,\n",
       " 0.6783625483512878,\n",
       " 0.6959064602851868,\n",
       " 0.6959064602851868,\n",
       " 0.7134503126144409,\n",
       " 0.719298243522644,\n",
       " 0.7251461744308472,\n",
       " 0.7309941649436951,\n",
       " 0.7309941649436951,\n",
       " 0.7309941649436951]"
      ]
     },
     "execution_count": 49,
     "metadata": {},
     "output_type": "execute_result"
    }
   ],
   "source": [
    "score_list"
   ]
  },
  {
   "cell_type": "code",
   "execution_count": 50,
   "id": "9409d9ad",
   "metadata": {},
   "outputs": [
    {
     "data": {
      "text/plain": [
       "0.7134502993689643"
      ]
     },
     "execution_count": 50,
     "metadata": {},
     "output_type": "execute_result"
    },
    {
     "ename": "",
     "evalue": "",
     "output_type": "error",
     "traceback": [
      "\u001b[1;31mThe Kernel crashed while executing code in the the current cell or a previous cell. Please review the code in the cell(s) to identify a possible cause of the failure. Click <a href='https://aka.ms/vscodeJupyterKernelCrash'>here</a> for more info. View Jupyter <a href='command:jupyter.viewOutput'>log</a> for further details."
     ]
    }
   ],
   "source": [
    "sum(score_list[1:])/len(score_list[1:])"
   ]
  }
 ],
 "metadata": {
  "kernelspec": {
   "display_name": "Python 3.10.6 ('4222G18_backup')",
   "language": "python",
   "name": "python3"
  },
  "language_info": {
   "codemirror_mode": {
    "name": "ipython",
    "version": 3
   },
   "file_extension": ".py",
   "mimetype": "text/x-python",
   "name": "python",
   "nbconvert_exporter": "python",
   "pygments_lexer": "ipython3",
   "version": "3.10.6"
  },
  "vscode": {
   "interpreter": {
    "hash": "64fb50f4500008f9f404f170e716523d28225753a93c94be3d36e645dbfada09"
   }
  }
 },
 "nbformat": 4,
 "nbformat_minor": 5
}
