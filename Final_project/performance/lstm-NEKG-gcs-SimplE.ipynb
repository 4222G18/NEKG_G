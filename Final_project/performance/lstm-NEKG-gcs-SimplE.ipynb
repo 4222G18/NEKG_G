{
 "cells": [
  {
   "cell_type": "code",
   "execution_count": 14,
   "id": "0eb9ba7f",
   "metadata": {},
   "outputs": [
    {
     "data": {
      "text/plain": [
       "'/home/egbert_jing/github/NEKG_G/Final_project'"
      ]
     },
     "execution_count": 14,
     "metadata": {},
     "output_type": "execute_result"
    }
   ],
   "source": [
    "import sys\n",
    "import os\n",
    "path_father = os.path.abspath(r'..')\n",
    "path_father\n",
    "# sys.path.append(path_father)"
   ]
  },
  {
   "cell_type": "code",
   "execution_count": 15,
   "id": "fce28d96",
   "metadata": {},
   "outputs": [],
   "source": [
    "import pandas as pd\n",
    "import numpy as np\n",
    "import matplotlib.pyplot as plt\n",
    "import seaborn as sns\n",
    "from sklearn import metrics\n",
    "from sklearn.preprocessing import LabelEncoder,OneHotEncoder\n",
    "from keras.models import Model\n",
    "from keras.layers import LSTM, Activation, Dense, Dropout, Input, Embedding\n",
    "from keras.optimizers import RMSprop\n",
    "from keras.preprocessing.text import Tokenizer\n",
    "from keras.preprocessing import sequence\n",
    "from keras.callbacks import EarlyStopping\n",
    "from keras_preprocessing.sequence import pad_sequences\n",
    "from keras.utils.np_utils import to_categorical\n",
    "from keras.models import Sequential\n",
    "from keras.callbacks import ReduceLROnPlateau\n",
    "from keras.models import load_model\n",
    "%matplotlib inline"
   ]
  },
  {
   "cell_type": "code",
   "execution_count": 16,
   "id": "c268b59b",
   "metadata": {},
   "outputs": [],
   "source": [
    "df = pd.read_csv(path_father + \"/df_with_gcs.txt\",sep=',',header=0)"
   ]
  },
  {
   "cell_type": "code",
   "execution_count": 17,
   "id": "e9e0ee5c",
   "metadata": {},
   "outputs": [],
   "source": [
    "#划分训练测试集\n",
    "from sklearn.model_selection import train_test_split\n",
    "\n",
    "train_set, test_set = train_test_split(df, test_size=0.1, random_state=42)"
   ]
  },
  {
   "cell_type": "markdown",
   "id": "59d7c98f",
   "metadata": {},
   "source": [
    "处理词向量"
   ]
  },
  {
   "cell_type": "code",
   "execution_count": 18,
   "id": "12c63f87",
   "metadata": {},
   "outputs": [],
   "source": [
    "from gensim.models import word2vec\n",
    "import logging\n",
    "logging.basicConfig(format='%(asctime)s : %(levelname)s : %(message)s', level=logging.INFO) "
   ]
  },
  {
   "cell_type": "code",
   "execution_count": 19,
   "id": "f13dfd1d",
   "metadata": {},
   "outputs": [],
   "source": [
    "# 切分词汇\n",
    "def cut(data):\n",
    "    cut= [s.split() for s in data['TriageNote'].astype(str)]\n",
    "    return cut"
   ]
  },
  {
   "cell_type": "code",
   "execution_count": 20,
   "id": "94dd810e",
   "metadata": {},
   "outputs": [],
   "source": [
    "train_text=cut(train_set)\n",
    "test_text=cut(test_set)\n",
    "sentences=train_text+test_text"
   ]
  },
  {
   "cell_type": "code",
   "execution_count": 21,
   "id": "2b4b566b",
   "metadata": {},
   "outputs": [
    {
     "data": {
      "text/plain": [
       "57"
      ]
     },
     "execution_count": 21,
     "metadata": {},
     "output_type": "execute_result"
    }
   ],
   "source": [
    "#得到最大句子长度\n",
    "num_list=[len(one) for one in sentences]\n",
    "max(num_list)"
   ]
  },
  {
   "cell_type": "code",
   "execution_count": 22,
   "id": "25aa3ce1",
   "metadata": {},
   "outputs": [],
   "source": [
    "maxLen=64"
   ]
  },
  {
   "cell_type": "code",
   "execution_count": 23,
   "id": "cad599c7",
   "metadata": {},
   "outputs": [],
   "source": [
    "#处理label->one_hot\n",
    "from sklearn.preprocessing import LabelEncoder\n",
    "\n",
    "def encodelabel(data):\n",
    "    le = LabelEncoder()\n",
    "    resultLable=le.fit_transform(data['DISPOSITION'])\n",
    "    return resultLable\n"
   ]
  },
  {
   "cell_type": "code",
   "execution_count": 24,
   "id": "b3dcf8dc",
   "metadata": {},
   "outputs": [],
   "source": [
    "train_lable=encodelabel(train_set)\n",
    "test_lable=encodelabel(test_set)"
   ]
  },
  {
   "cell_type": "code",
   "execution_count": 25,
   "id": "1f35b5d9",
   "metadata": {},
   "outputs": [
    {
     "name": "stderr",
     "output_type": "stream",
     "text": [
      "2022-11-27 18:49:17,994 : INFO : loading Word2Vec object from ./word2vec_all.model\n",
      "2022-11-27 18:49:18,022 : INFO : loading wv recursively from ./word2vec_all.model.wv.* with mmap=None\n",
      "2022-11-27 18:49:18,023 : INFO : setting ignored attribute cum_table to None\n",
      "2022-11-27 18:49:18,131 : INFO : Word2Vec lifecycle event {'fname': './word2vec_all.model', 'datetime': '2022-11-27T18:49:18.131678', 'gensim': '4.2.0', 'python': '3.10.6 (main, Oct 24 2022, 16:07:47) [GCC 11.2.0]', 'platform': 'Linux-5.15.74.2-microsoft-standard-WSL2-x86_64-with-glibc2.35', 'event': 'loaded'}\n"
     ]
    }
   ],
   "source": [
    "wvmodel = word2vec.Word2Vec.load(\"./word2vec_all.model\")"
   ]
  },
  {
   "cell_type": "code",
   "execution_count": 26,
   "id": "9cc89146",
   "metadata": {},
   "outputs": [
    {
     "data": {
      "text/plain": [
       "array([[-0.0006103 , -0.10625637, -0.11594064, ..., -0.02730929,\n",
       "         0.04679082, -0.00219495],\n",
       "       [-0.00042301,  0.04741067,  0.08968659, ..., -0.08999185,\n",
       "        -0.0760429 ,  0.04039025],\n",
       "       [-0.09140122,  0.01742757, -0.13062397, ...,  0.05289584,\n",
       "         0.02787041,  0.04220181],\n",
       "       ...,\n",
       "       [-0.164501  , -0.05175587,  0.13073641, ..., -0.12716919,\n",
       "         0.0735118 ,  0.09494656],\n",
       "       [-0.06749469,  0.15717888,  0.02084818, ...,  0.03895013,\n",
       "         0.07439564,  0.05369212],\n",
       "       [ 0.01871831,  0.00738813, -0.03190186, ...,  0.15956557,\n",
       "        -0.14481969,  0.1521219 ]])"
      ]
     },
     "execution_count": 26,
     "metadata": {},
     "output_type": "execute_result"
    }
   ],
   "source": [
    "# import json\n",
    "# f = open(path_father + \"/embedding/SimplE_SGD.json\")\n",
    "# nekg = json.load(f)\n",
    "nekg=np.load(path_father + '/embedding/SimplE_99.npy')\n",
    "nekg"
   ]
  },
  {
   "cell_type": "code",
   "execution_count": 27,
   "id": "26830919",
   "metadata": {},
   "outputs": [],
   "source": [
    "tokenizer=Tokenizer()\n",
    "tokenizer.fit_on_texts(sentences)\n",
    "vocab = tokenizer.word_index "
   ]
  },
  {
   "cell_type": "code",
   "execution_count": 28,
   "id": "d6b9da6f",
   "metadata": {},
   "outputs": [],
   "source": [
    "#特征数字编号，不足的话会在前面补充0\n",
    "trainID = tokenizer.texts_to_sequences(train_text)\n",
    "# print(trainID)\n",
    "testID = tokenizer.texts_to_sequences(test_text)\n",
    "trainSeq=pad_sequences(trainID,maxlen=maxLen)\n",
    "#print(trainSeq)\n",
    "testSeq=pad_sequences(testID,maxlen=maxLen)\n",
    "\n",
    "#标签的独热编码\n",
    "trainCate = to_categorical(train_lable, num_classes=2)  # 将标签转换为one-hot编码\n",
    "#print(trainCate)\n",
    "testCate= to_categorical(test_lable, num_classes=2)  # 将标签转换为one-hot编码"
   ]
  },
  {
   "cell_type": "code",
   "execution_count": 29,
   "id": "cc516388",
   "metadata": {},
   "outputs": [],
   "source": [
    "def nekg_embed(n0):\n",
    "    n1=int(n0)\n",
    "    n2=int(n0)+1\n",
    "    s1=(n2-n0)/(n2-n1)\n",
    "    s2=(n0-n1)/(n2-n1)\n",
    "    return s1*nekg[n1]+s2*nekg[n2]"
   ]
  },
  {
   "cell_type": "code",
   "execution_count": 30,
   "id": "88a8378f",
   "metadata": {},
   "outputs": [],
   "source": [
    "#利用训练后的word2vec自定义Embedding的训练矩阵，每行代表一个词（结合独热码和矩阵乘法理解）\n",
    "embedding_matrix = np.zeros((len(vocab) + 1, 100))\n",
    "for word, i in vocab.items():\n",
    "    try:\n",
    "        if(word.isdigit()==False):#对word用word2vec\n",
    "            embedding_vector = wvmodel.wv[str(word)]\n",
    "        else:#对number用nekg\n",
    "            if (int(float(word))<=98):\n",
    "                embedding_vector =  nekg_embed(float(word))\n",
    "            else:\n",
    "                embedding_vector = wvmodel.wv[str(word)]\n",
    "        embedding_matrix[i] = embedding_vector    \n",
    "    except KeyError:\n",
    "        continue"
   ]
  },
  {
   "cell_type": "code",
   "execution_count": 31,
   "id": "1fa9c8f0",
   "metadata": {},
   "outputs": [
    {
     "name": "stderr",
     "output_type": "stream",
     "text": [
      "2022-11-27 18:49:19.016213: I tensorflow/stream_executor/cuda/cuda_gpu_executor.cc:966] could not open file to read NUMA node: /sys/bus/pci/devices/0000:01:00.0/numa_node\n",
      "Your kernel may have been built without NUMA support.\n",
      "2022-11-27 18:49:19.249632: W tensorflow/stream_executor/platform/default/dso_loader.cc:64] Could not load dynamic library 'libcudnn.so.8'; dlerror: libcudnn.so.8: cannot open shared object file: No such file or directory; LD_LIBRARY_PATH: :/usr/local/cuda-11.8/lib64\n",
      "2022-11-27 18:49:19.249658: W tensorflow/core/common_runtime/gpu/gpu_device.cc:1934] Cannot dlopen some GPU libraries. Please make sure the missing libraries mentioned above are installed properly if you would like to use GPU. Follow the guide at https://www.tensorflow.org/install/gpu for how to download and setup the required libraries for your platform.\n",
      "Skipping registering GPU devices...\n",
      "2022-11-27 18:49:19.253189: I tensorflow/core/platform/cpu_feature_guard.cc:193] This TensorFlow binary is optimized with oneAPI Deep Neural Network Library (oneDNN) to use the following CPU instructions in performance-critical operations:  AVX2 FMA\n",
      "To enable them in other operations, rebuild TensorFlow with the appropriate compiler flags.\n"
     ]
    },
    {
     "name": "stdout",
     "output_type": "stream",
     "text": [
      "Model: \"sequential\"\n",
      "_________________________________________________________________\n",
      " Layer (type)                Output Shape              Param #   \n",
      "=================================================================\n",
      " embedding (Embedding)       (None, 64, 100)           806300    \n",
      "                                                                 \n",
      " lstm (LSTM)                 (None, 64)                42240     \n",
      "                                                                 \n",
      " FC1 (Dense)                 (None, 64)                4160      \n",
      "                                                                 \n",
      " dropout (Dropout)           (None, 64)                0         \n",
      "                                                                 \n",
      " FC2 (Dense)                 (None, 2)                 130       \n",
      "                                                                 \n",
      "=================================================================\n",
      "Total params: 852,830\n",
      "Trainable params: 852,830\n",
      "Non-trainable params: 0\n",
      "_________________________________________________________________\n",
      "Epoch 1/30\n",
      "154/154 [==============================] - 7s 32ms/step - loss: 0.7109 - accuracy: 0.5800 - val_loss: 0.5655 - val_accuracy: 0.7143\n",
      "Epoch 2/30\n",
      "154/154 [==============================] - 4s 28ms/step - loss: 0.6182 - accuracy: 0.6905 - val_loss: 0.5542 - val_accuracy: 0.7338\n",
      "Epoch 3/30\n",
      "154/154 [==============================] - 4s 28ms/step - loss: 0.5452 - accuracy: 0.7587 - val_loss: 0.5645 - val_accuracy: 0.6916\n",
      "Epoch 4/30\n",
      "154/154 [==============================] - 5s 32ms/step - loss: 0.4588 - accuracy: 0.8026 - val_loss: 0.5504 - val_accuracy: 0.7468\n",
      "Epoch 5/30\n",
      "154/154 [==============================] - 5s 35ms/step - loss: 0.3953 - accuracy: 0.8408 - val_loss: 0.5462 - val_accuracy: 0.7760\n",
      "Epoch 6/30\n",
      "154/154 [==============================] - 4s 29ms/step - loss: 0.3275 - accuracy: 0.8838 - val_loss: 0.5975 - val_accuracy: 0.7727\n",
      "Epoch 7/30\n",
      "154/154 [==============================] - 5s 32ms/step - loss: 0.2573 - accuracy: 0.9041 - val_loss: 0.6961 - val_accuracy: 0.7565\n",
      "Epoch 8/30\n",
      "154/154 [==============================] - 5s 34ms/step - loss: 0.1863 - accuracy: 0.9415 - val_loss: 0.6882 - val_accuracy: 0.7435\n",
      "Epoch 9/30\n",
      "154/154 [==============================] - 5s 31ms/step - loss: 0.1165 - accuracy: 0.9586 - val_loss: 0.7821 - val_accuracy: 0.7305\n",
      "Epoch 10/30\n",
      "154/154 [==============================] - 5s 30ms/step - loss: 0.0813 - accuracy: 0.9740 - val_loss: 1.0897 - val_accuracy: 0.7240\n"
     ]
    },
    {
     "name": "stderr",
     "output_type": "stream",
     "text": [
      "2022-11-27 18:50:13,001 : WARNING : Found untraced functions such as lstm_cell_layer_call_fn, lstm_cell_layer_call_and_return_conditional_losses while saving (showing 2 of 2). These functions will not be directly callable after loading.\n"
     ]
    },
    {
     "name": "stdout",
     "output_type": "stream",
     "text": [
      "INFO:tensorflow:Assets written to: LSTM/assets\n"
     ]
    },
    {
     "name": "stderr",
     "output_type": "stream",
     "text": [
      "2022-11-27 18:50:13,730 : INFO : Assets written to: LSTM/assets\n"
     ]
    }
   ],
   "source": [
    "## 定义LSTM模型\n",
    "batch_size=8\n",
    "inputs = Input(name='inputs',shape=[maxLen])\n",
    "embedder = Embedding(len(vocab) + 1, 100, input_length=maxLen, weights=[embedding_matrix], trainable=True)\n",
    "model=Sequential()\n",
    "model.add(embedder)\n",
    "model.add(LSTM(64))\n",
    "model.add(Dense(64,activation=\"sigmoid\",name=\"FC1\"))\n",
    "model.add(Dropout(0.4))\n",
    "model.add(Dense(2,activation=\"softmax\",name=\"FC2\"))\n",
    "model.summary()\n",
    "model.compile(loss=\"categorical_crossentropy\",optimizer=RMSprop(),metrics=[\"accuracy\"])\n",
    "#reduce_lr = ReduceLROnPlateau(monitor='val_loss',factor=0.1 ,patience=3, mode='auto')\n",
    "history=model.fit(trainSeq, trainCate, batch_size, epochs=30,validation_split=0.2, callbacks=[EarlyStopping(monitor='val_loss',patience=5)])\n",
    "model.save(\"LSTM\")"
   ]
  },
  {
   "cell_type": "code",
   "execution_count": 32,
   "id": "f6b394d2",
   "metadata": {},
   "outputs": [
    {
     "name": "stdout",
     "output_type": "stream",
     "text": [
      "6/6 [==============================] - 1s 11ms/step\n",
      "6/6 [==============================] - 1s 11ms/step - loss: 0.9736 - accuracy: 0.7076\n",
      "[0.9735602736473083, 0.707602322101593]\n"
     ]
    }
   ],
   "source": [
    "#预测与评估\n",
    "mainModel = load_model('LSTM')\n",
    "result = mainModel.predict(testSeq)  # 预测样本属于每个类别的概率\n",
    "score = mainModel.evaluate(testSeq,\n",
    "                           testCate,\n",
    "                           batch_size=32)\n",
    "print(score)"
   ]
  },
  {
   "cell_type": "code",
   "execution_count": 33,
   "id": "5cd82ded",
   "metadata": {},
   "outputs": [
    {
     "data": {
      "image/png": "[encoded data removed]",
      "text/plain": [
       "<Figure size 640x480 with 1 Axes>"
      ]
     },
     "metadata": {},
     "output_type": "display_data"
    },
    {
     "data": {
      "image/png": "[encoded data removed]",
      "text/plain": [
       "<Figure size 640x480 with 1 Axes>"
      ]
     },
     "metadata": {},
     "output_type": "display_data"
    }
   ],
   "source": [
    "plt.plot(history.history['accuracy'])\n",
    "plt.plot(history.history['val_accuracy'])\n",
    "plt.title('Model accuracy')\n",
    "plt.ylabel('Accuracy')\n",
    "plt.xlabel('Epoch')\n",
    "plt.legend(['Train','Valid'],loc='upper left')\n",
    "plt.show()\n",
    "\n",
    "plt.plot(history.history['loss'])\n",
    "plt.plot(history.history['val_loss'])\n",
    "plt.title('Model loss')\n",
    "plt.ylabel('Loss')\n",
    "plt.xlabel('Epoch')\n",
    "plt.legend(['Train','Valid'],loc='upper left')\n",
    "plt.show()"
   ]
  },
  {
   "cell_type": "code",
   "execution_count": 34,
   "id": "5450d945",
   "metadata": {},
   "outputs": [
    {
     "name": "stdout",
     "output_type": "stream",
     "text": [
      "Model: \"sequential_1\"\n",
      "_________________________________________________________________\n",
      " Layer (type)                Output Shape              Param #   \n",
      "=================================================================\n",
      " embedding_1 (Embedding)     (None, 64, 100)           806300    \n",
      "                                                                 \n",
      " lstm_1 (LSTM)               (None, 64)                42240     \n",
      "                                                                 \n",
      " FC1 (Dense)                 (None, 64)                4160      \n",
      "                                                                 \n",
      " dropout_1 (Dropout)         (None, 64)                0         \n",
      "                                                                 \n",
      " FC2 (Dense)                 (None, 2)                 130       \n",
      "                                                                 \n",
      "=================================================================\n",
      "Total params: 852,830\n",
      "Trainable params: 852,830\n",
      "Non-trainable params: 0\n",
      "_________________________________________________________________\n",
      "Epoch 1/30\n",
      "154/154 [==============================] - 25s 145ms/step - loss: 0.6846 - accuracy: 0.5792 - val_loss: 0.5468 - val_accuracy: 0.7468\n",
      "Epoch 2/30\n",
      "154/154 [==============================] - 8s 51ms/step - loss: 0.5792 - accuracy: 0.7124 - val_loss: 0.5880 - val_accuracy: 0.7305\n",
      "Epoch 3/30\n",
      "154/154 [==============================] - 5s 36ms/step - loss: 0.5342 - accuracy: 0.7539 - val_loss: 0.5155 - val_accuracy: 0.7727\n",
      "Epoch 4/30\n",
      "154/154 [==============================] - 7s 48ms/step - loss: 0.4631 - accuracy: 0.8018 - val_loss: 0.5102 - val_accuracy: 0.7727\n",
      "Epoch 5/30\n",
      "154/154 [==============================] - 5s 34ms/step - loss: 0.3737 - accuracy: 0.8497 - val_loss: 0.5450 - val_accuracy: 0.7662\n",
      "Epoch 6/30\n",
      "154/154 [==============================] - 5s 32ms/step - loss: 0.3173 - accuracy: 0.8773 - val_loss: 0.6746 - val_accuracy: 0.7532\n",
      "Epoch 7/30\n",
      "154/154 [==============================] - 8s 53ms/step - loss: 0.2367 - accuracy: 0.9171 - val_loss: 0.5709 - val_accuracy: 0.7727\n",
      "Epoch 8/30\n",
      "154/154 [==============================] - 16s 105ms/step - loss: 0.1801 - accuracy: 0.9334 - val_loss: 0.5985 - val_accuracy: 0.7500\n",
      "Epoch 9/30\n",
      "154/154 [==============================] - 18s 116ms/step - loss: 0.1209 - accuracy: 0.9610 - val_loss: 0.9341 - val_accuracy: 0.7662\n",
      "6/6 [==============================] - 2s 114ms/step\n",
      "6/6 [==============================] - 1s 77ms/step - loss: 1.1078 - accuracy: 0.7193\n",
      "Model: \"sequential_2\"\n",
      "_________________________________________________________________\n",
      " Layer (type)                Output Shape              Param #   \n",
      "=================================================================\n",
      " embedding_2 (Embedding)     (None, 64, 100)           806300    \n",
      "                                                                 \n",
      " lstm_2 (LSTM)               (None, 64)                42240     \n",
      "                                                                 \n",
      " FC1 (Dense)                 (None, 64)                4160      \n",
      "                                                                 \n",
      " dropout_2 (Dropout)         (None, 64)                0         \n",
      "                                                                 \n",
      " FC2 (Dense)                 (None, 2)                 130       \n",
      "                                                                 \n",
      "=================================================================\n",
      "Total params: 852,830\n",
      "Trainable params: 852,830\n",
      "Non-trainable params: 0\n",
      "_________________________________________________________________\n",
      "Epoch 1/30\n",
      "154/154 [==============================] - 60s 363ms/step - loss: 0.7027 - accuracy: 0.5613 - val_loss: 0.6892 - val_accuracy: 0.5422\n",
      "Epoch 2/30\n",
      "154/154 [==============================] - 39s 251ms/step - loss: 0.5766 - accuracy: 0.7076 - val_loss: 0.5740 - val_accuracy: 0.7110\n",
      "Epoch 3/30\n",
      "154/154 [==============================] - 37s 244ms/step - loss: 0.5484 - accuracy: 0.7352 - val_loss: 0.5273 - val_accuracy: 0.7532\n",
      "Epoch 4/30\n",
      "154/154 [==============================] - 37s 242ms/step - loss: 0.4659 - accuracy: 0.7912 - val_loss: 0.5625 - val_accuracy: 0.7630\n",
      "Epoch 5/30\n",
      "154/154 [==============================] - 40s 263ms/step - loss: 0.3976 - accuracy: 0.8294 - val_loss: 0.5460 - val_accuracy: 0.7662\n",
      "Epoch 6/30\n",
      "154/154 [==============================] - 52s 337ms/step - loss: 0.3169 - accuracy: 0.8781 - val_loss: 0.5836 - val_accuracy: 0.7922\n",
      "Epoch 7/30\n",
      "154/154 [==============================] - 5s 34ms/step - loss: 0.2695 - accuracy: 0.9033 - val_loss: 0.6762 - val_accuracy: 0.7597\n",
      "Epoch 8/30\n",
      "154/154 [==============================] - 7s 44ms/step - loss: 0.2006 - accuracy: 0.9326 - val_loss: 0.6793 - val_accuracy: 0.7630\n",
      "6/6 [==============================] - 78s 18ms/step\n",
      "6/6 [==============================] - 1s 108ms/step - loss: 0.7321 - accuracy: 0.7135\n",
      "Model: \"sequential_3\"\n",
      "_________________________________________________________________\n",
      " Layer (type)                Output Shape              Param #   \n",
      "=================================================================\n",
      " embedding_3 (Embedding)     (None, 64, 100)           806300    \n",
      "                                                                 \n",
      " lstm_3 (LSTM)               (None, 64)                42240     \n",
      "                                                                 \n",
      " FC1 (Dense)                 (None, 64)                4160      \n",
      "                                                                 \n",
      " dropout_3 (Dropout)         (None, 64)                0         \n",
      "                                                                 \n",
      " FC2 (Dense)                 (None, 2)                 130       \n",
      "                                                                 \n",
      "=================================================================\n",
      "Total params: 852,830\n",
      "Trainable params: 852,830\n",
      "Non-trainable params: 0\n",
      "_________________________________________________________________\n",
      "Epoch 1/30\n",
      "154/154 [==============================] - 6s 30ms/step - loss: 0.6837 - accuracy: 0.6125 - val_loss: 0.5598 - val_accuracy: 0.7305\n",
      "Epoch 2/30\n",
      "154/154 [==============================] - 4s 29ms/step - loss: 0.6202 - accuracy: 0.6807 - val_loss: 0.5788 - val_accuracy: 0.7045\n",
      "Epoch 3/30\n",
      "154/154 [==============================] - 5s 30ms/step - loss: 0.5364 - accuracy: 0.7547 - val_loss: 0.5474 - val_accuracy: 0.7175\n",
      "Epoch 4/30\n",
      "154/154 [==============================] - 4s 28ms/step - loss: 0.4973 - accuracy: 0.7831 - val_loss: 0.5078 - val_accuracy: 0.7760\n",
      "Epoch 5/30\n",
      "154/154 [==============================] - 5s 31ms/step - loss: 0.3938 - accuracy: 0.8375 - val_loss: 0.6583 - val_accuracy: 0.7597\n",
      "Epoch 6/30\n",
      "154/154 [==============================] - 5s 33ms/step - loss: 0.3242 - accuracy: 0.8668 - val_loss: 0.6111 - val_accuracy: 0.7890\n",
      "Epoch 7/30\n",
      "154/154 [==============================] - 4s 29ms/step - loss: 0.2599 - accuracy: 0.9082 - val_loss: 0.6526 - val_accuracy: 0.7370\n",
      "Epoch 8/30\n",
      "154/154 [==============================] - 5s 29ms/step - loss: 0.2101 - accuracy: 0.9301 - val_loss: 0.7845 - val_accuracy: 0.7500\n",
      "Epoch 9/30\n",
      "154/154 [==============================] - 4s 29ms/step - loss: 0.1478 - accuracy: 0.9513 - val_loss: 0.7292 - val_accuracy: 0.7468\n",
      "6/6 [==============================] - 0s 9ms/step\n",
      "6/6 [==============================] - 0s 9ms/step - loss: 0.6747 - accuracy: 0.7661\n",
      "Model: \"sequential_4\"\n",
      "_________________________________________________________________\n",
      " Layer (type)                Output Shape              Param #   \n",
      "=================================================================\n",
      " embedding_4 (Embedding)     (None, 64, 100)           806300    \n",
      "                                                                 \n",
      " lstm_4 (LSTM)               (None, 64)                42240     \n",
      "                                                                 \n",
      " FC1 (Dense)                 (None, 64)                4160      \n",
      "                                                                 \n",
      " dropout_4 (Dropout)         (None, 64)                0         \n",
      "                                                                 \n",
      " FC2 (Dense)                 (None, 2)                 130       \n",
      "                                                                 \n",
      "=================================================================\n",
      "Total params: 852,830\n",
      "Trainable params: 852,830\n",
      "Non-trainable params: 0\n",
      "_________________________________________________________________\n",
      "Epoch 1/30\n",
      "154/154 [==============================] - 6s 30ms/step - loss: 0.7051 - accuracy: 0.5955 - val_loss: 0.5937 - val_accuracy: 0.6948\n",
      "Epoch 2/30\n",
      "154/154 [==============================] - 4s 29ms/step - loss: 0.6014 - accuracy: 0.6832 - val_loss: 0.5314 - val_accuracy: 0.7565\n",
      "Epoch 3/30\n",
      "154/154 [==============================] - 5s 30ms/step - loss: 0.5313 - accuracy: 0.7514 - val_loss: 0.5701 - val_accuracy: 0.7435\n",
      "Epoch 4/30\n",
      "154/154 [==============================] - 5s 30ms/step - loss: 0.4615 - accuracy: 0.7994 - val_loss: 0.5639 - val_accuracy: 0.7532\n",
      "Epoch 5/30\n",
      "154/154 [==============================] - 5s 30ms/step - loss: 0.3976 - accuracy: 0.8375 - val_loss: 0.5411 - val_accuracy: 0.7857\n",
      "Epoch 6/30\n",
      "154/154 [==============================] - 5s 29ms/step - loss: 0.3293 - accuracy: 0.8668 - val_loss: 0.6364 - val_accuracy: 0.7630\n",
      "Epoch 7/30\n",
      "154/154 [==============================] - 4s 29ms/step - loss: 0.2429 - accuracy: 0.9115 - val_loss: 0.6392 - val_accuracy: 0.7565\n",
      "6/6 [==============================] - 0s 9ms/step\n",
      "6/6 [==============================] - 0s 9ms/step - loss: 0.7365 - accuracy: 0.7018\n",
      "Model: \"sequential_5\"\n",
      "_________________________________________________________________\n",
      " Layer (type)                Output Shape              Param #   \n",
      "=================================================================\n",
      " embedding_5 (Embedding)     (None, 64, 100)           806300    \n",
      "                                                                 \n",
      " lstm_5 (LSTM)               (None, 64)                42240     \n",
      "                                                                 \n",
      " FC1 (Dense)                 (None, 64)                4160      \n",
      "                                                                 \n",
      " dropout_5 (Dropout)         (None, 64)                0         \n",
      "                                                                 \n",
      " FC2 (Dense)                 (None, 2)                 130       \n",
      "                                                                 \n",
      "=================================================================\n",
      "Total params: 852,830\n",
      "Trainable params: 852,830\n",
      "Non-trainable params: 0\n",
      "_________________________________________________________________\n",
      "Epoch 1/30\n",
      "154/154 [==============================] - 7s 31ms/step - loss: 0.7059 - accuracy: 0.5719 - val_loss: 0.6274 - val_accuracy: 0.6266\n",
      "Epoch 2/30\n",
      "154/154 [==============================] - 4s 28ms/step - loss: 0.5976 - accuracy: 0.7067 - val_loss: 0.5897 - val_accuracy: 0.7013\n",
      "Epoch 3/30\n",
      "154/154 [==============================] - 4s 29ms/step - loss: 0.5390 - accuracy: 0.7433 - val_loss: 0.6890 - val_accuracy: 0.6558\n",
      "Epoch 4/30\n",
      "154/154 [==============================] - 4s 28ms/step - loss: 0.4650 - accuracy: 0.8010 - val_loss: 0.5287 - val_accuracy: 0.7695\n",
      "Epoch 5/30\n",
      "154/154 [==============================] - 4s 28ms/step - loss: 0.3914 - accuracy: 0.8416 - val_loss: 0.5549 - val_accuracy: 0.7662\n",
      "Epoch 6/30\n",
      "154/154 [==============================] - 4s 28ms/step - loss: 0.3226 - accuracy: 0.8781 - val_loss: 0.6175 - val_accuracy: 0.7305\n",
      "Epoch 7/30\n",
      "154/154 [==============================] - 5s 30ms/step - loss: 0.2551 - accuracy: 0.9082 - val_loss: 0.6169 - val_accuracy: 0.7435\n",
      "Epoch 8/30\n",
      "154/154 [==============================] - 4s 29ms/step - loss: 0.1858 - accuracy: 0.9318 - val_loss: 0.8635 - val_accuracy: 0.7468\n",
      "Epoch 9/30\n",
      "154/154 [==============================] - 4s 29ms/step - loss: 0.1411 - accuracy: 0.9488 - val_loss: 0.7013 - val_accuracy: 0.7532\n",
      "6/6 [==============================] - 0s 13ms/step\n",
      "6/6 [==============================] - 0s 8ms/step - loss: 0.8311 - accuracy: 0.6667\n",
      "Model: \"sequential_6\"\n",
      "_________________________________________________________________\n",
      " Layer (type)                Output Shape              Param #   \n",
      "=================================================================\n",
      " embedding_6 (Embedding)     (None, 64, 100)           806300    \n",
      "                                                                 \n",
      " lstm_6 (LSTM)               (None, 64)                42240     \n",
      "                                                                 \n",
      " FC1 (Dense)                 (None, 64)                4160      \n",
      "                                                                 \n",
      " dropout_6 (Dropout)         (None, 64)                0         \n",
      "                                                                 \n",
      " FC2 (Dense)                 (None, 2)                 130       \n",
      "                                                                 \n",
      "=================================================================\n",
      "Total params: 852,830\n",
      "Trainable params: 852,830\n",
      "Non-trainable params: 0\n",
      "_________________________________________________________________\n",
      "Epoch 1/30\n",
      "154/154 [==============================] - 6s 31ms/step - loss: 0.7431 - accuracy: 0.5167 - val_loss: 0.6372 - val_accuracy: 0.6266\n",
      "Epoch 2/30\n",
      "154/154 [==============================] - 4s 29ms/step - loss: 0.6289 - accuracy: 0.6629 - val_loss: 0.5568 - val_accuracy: 0.7305\n",
      "Epoch 3/30\n",
      "154/154 [==============================] - 4s 29ms/step - loss: 0.5478 - accuracy: 0.7409 - val_loss: 0.6032 - val_accuracy: 0.7013\n",
      "Epoch 4/30\n",
      "154/154 [==============================] - 4s 29ms/step - loss: 0.5054 - accuracy: 0.7571 - val_loss: 0.5377 - val_accuracy: 0.7597\n",
      "Epoch 5/30\n",
      "154/154 [==============================] - 4s 29ms/step - loss: 0.4314 - accuracy: 0.8180 - val_loss: 0.5807 - val_accuracy: 0.7403\n",
      "Epoch 6/30\n",
      "154/154 [==============================] - 4s 29ms/step - loss: 0.3507 - accuracy: 0.8603 - val_loss: 0.5871 - val_accuracy: 0.7597\n",
      "Epoch 7/30\n",
      "154/154 [==============================] - 4s 28ms/step - loss: 0.2897 - accuracy: 0.8952 - val_loss: 0.6782 - val_accuracy: 0.7468\n",
      "Epoch 8/30\n",
      "154/154 [==============================] - 5s 30ms/step - loss: 0.2140 - accuracy: 0.9196 - val_loss: 0.6208 - val_accuracy: 0.7305\n",
      "Epoch 9/30\n",
      "154/154 [==============================] - 4s 28ms/step - loss: 0.1572 - accuracy: 0.9439 - val_loss: 0.8370 - val_accuracy: 0.7370\n",
      "6/6 [==============================] - 0s 9ms/step\n",
      "6/6 [==============================] - 0s 8ms/step - loss: 0.9781 - accuracy: 0.7018\n",
      "Model: \"sequential_7\"\n",
      "_________________________________________________________________\n",
      " Layer (type)                Output Shape              Param #   \n",
      "=================================================================\n",
      " embedding_7 (Embedding)     (None, 64, 100)           806300    \n",
      "                                                                 \n",
      " lstm_7 (LSTM)               (None, 64)                42240     \n",
      "                                                                 \n",
      " FC1 (Dense)                 (None, 64)                4160      \n",
      "                                                                 \n",
      " dropout_7 (Dropout)         (None, 64)                0         \n",
      "                                                                 \n",
      " FC2 (Dense)                 (None, 2)                 130       \n",
      "                                                                 \n",
      "=================================================================\n",
      "Total params: 852,830\n",
      "Trainable params: 852,830\n",
      "Non-trainable params: 0\n",
      "_________________________________________________________________\n",
      "Epoch 1/30\n",
      "154/154 [==============================] - 7s 33ms/step - loss: 0.6809 - accuracy: 0.6003 - val_loss: 0.5492 - val_accuracy: 0.7403\n",
      "Epoch 2/30\n",
      "154/154 [==============================] - 5s 29ms/step - loss: 0.6043 - accuracy: 0.6986 - val_loss: 0.6405 - val_accuracy: 0.6883\n",
      "Epoch 3/30\n",
      "154/154 [==============================] - 5s 30ms/step - loss: 0.5661 - accuracy: 0.7311 - val_loss: 0.5439 - val_accuracy: 0.7597\n",
      "Epoch 4/30\n",
      "154/154 [==============================] - 4s 29ms/step - loss: 0.4810 - accuracy: 0.7774 - val_loss: 0.5292 - val_accuracy: 0.7662\n",
      "Epoch 5/30\n",
      "154/154 [==============================] - 5s 30ms/step - loss: 0.4052 - accuracy: 0.8302 - val_loss: 0.5577 - val_accuracy: 0.7662\n",
      "Epoch 6/30\n",
      "154/154 [==============================] - 5s 30ms/step - loss: 0.3326 - accuracy: 0.8668 - val_loss: 0.6448 - val_accuracy: 0.7532\n",
      "Epoch 7/30\n",
      "154/154 [==============================] - 5s 30ms/step - loss: 0.2600 - accuracy: 0.9033 - val_loss: 0.6051 - val_accuracy: 0.7565\n",
      "Epoch 8/30\n",
      "154/154 [==============================] - 5s 29ms/step - loss: 0.1926 - accuracy: 0.9358 - val_loss: 0.7134 - val_accuracy: 0.7597\n",
      "Epoch 9/30\n",
      "154/154 [==============================] - 5s 30ms/step - loss: 0.1451 - accuracy: 0.9496 - val_loss: 0.7303 - val_accuracy: 0.7273\n",
      "6/6 [==============================] - 0s 9ms/step\n",
      "6/6 [==============================] - 0s 9ms/step - loss: 0.7459 - accuracy: 0.7135\n",
      "Model: \"sequential_8\"\n",
      "_________________________________________________________________\n",
      " Layer (type)                Output Shape              Param #   \n",
      "=================================================================\n",
      " embedding_8 (Embedding)     (None, 64, 100)           806300    \n",
      "                                                                 \n",
      " lstm_8 (LSTM)               (None, 64)                42240     \n",
      "                                                                 \n",
      " FC1 (Dense)                 (None, 64)                4160      \n",
      "                                                                 \n",
      " dropout_8 (Dropout)         (None, 64)                0         \n",
      "                                                                 \n",
      " FC2 (Dense)                 (None, 2)                 130       \n",
      "                                                                 \n",
      "=================================================================\n",
      "Total params: 852,830\n",
      "Trainable params: 852,830\n",
      "Non-trainable params: 0\n",
      "_________________________________________________________________\n",
      "Epoch 1/30\n",
      "154/154 [==============================] - 6s 30ms/step - loss: 0.7079 - accuracy: 0.5800 - val_loss: 0.5809 - val_accuracy: 0.7078\n",
      "Epoch 2/30\n",
      "154/154 [==============================] - 5s 30ms/step - loss: 0.6124 - accuracy: 0.6864 - val_loss: 0.5969 - val_accuracy: 0.6916\n",
      "Epoch 3/30\n",
      "154/154 [==============================] - 5s 30ms/step - loss: 0.5294 - accuracy: 0.7482 - val_loss: 0.5453 - val_accuracy: 0.7435\n",
      "Epoch 4/30\n",
      "154/154 [==============================] - 5s 30ms/step - loss: 0.4598 - accuracy: 0.8010 - val_loss: 0.5482 - val_accuracy: 0.7695\n",
      "Epoch 5/30\n",
      "154/154 [==============================] - 4s 29ms/step - loss: 0.3917 - accuracy: 0.8310 - val_loss: 0.5637 - val_accuracy: 0.7792\n",
      "Epoch 6/30\n",
      "154/154 [==============================] - 5s 30ms/step - loss: 0.3224 - accuracy: 0.8765 - val_loss: 0.5934 - val_accuracy: 0.7825\n",
      "Epoch 7/30\n",
      "154/154 [==============================] - 5s 31ms/step - loss: 0.2657 - accuracy: 0.9009 - val_loss: 0.6767 - val_accuracy: 0.7597\n",
      "Epoch 8/30\n",
      "154/154 [==============================] - 5s 31ms/step - loss: 0.1924 - accuracy: 0.9285 - val_loss: 0.7052 - val_accuracy: 0.7532\n",
      "6/6 [==============================] - 0s 10ms/step\n",
      "6/6 [==============================] - 0s 9ms/step - loss: 0.7601 - accuracy: 0.7076\n",
      "Model: \"sequential_9\"\n",
      "_________________________________________________________________\n",
      " Layer (type)                Output Shape              Param #   \n",
      "=================================================================\n",
      " embedding_9 (Embedding)     (None, 64, 100)           806300    \n",
      "                                                                 \n",
      " lstm_9 (LSTM)               (None, 64)                42240     \n",
      "                                                                 \n",
      " FC1 (Dense)                 (None, 64)                4160      \n",
      "                                                                 \n",
      " dropout_9 (Dropout)         (None, 64)                0         \n",
      "                                                                 \n",
      " FC2 (Dense)                 (None, 2)                 130       \n",
      "                                                                 \n",
      "=================================================================\n",
      "Total params: 852,830\n",
      "Trainable params: 852,830\n",
      "Non-trainable params: 0\n",
      "_________________________________________________________________\n",
      "Epoch 1/30\n",
      "154/154 [==============================] - 7s 31ms/step - loss: 0.6956 - accuracy: 0.5881 - val_loss: 0.6507 - val_accuracy: 0.6201\n",
      "Epoch 2/30\n",
      "154/154 [==============================] - 4s 29ms/step - loss: 0.5971 - accuracy: 0.7092 - val_loss: 0.5404 - val_accuracy: 0.7532\n",
      "Epoch 3/30\n",
      "154/154 [==============================] - 5s 30ms/step - loss: 0.5313 - accuracy: 0.7506 - val_loss: 0.6159 - val_accuracy: 0.6948\n",
      "Epoch 4/30\n",
      "154/154 [==============================] - 4s 29ms/step - loss: 0.4683 - accuracy: 0.7994 - val_loss: 0.5428 - val_accuracy: 0.7792\n",
      "Epoch 5/30\n",
      "154/154 [==============================] - 4s 29ms/step - loss: 0.3879 - accuracy: 0.8432 - val_loss: 0.5541 - val_accuracy: 0.7500\n",
      "Epoch 6/30\n",
      "154/154 [==============================] - 5s 32ms/step - loss: 0.2986 - accuracy: 0.8846 - val_loss: 0.5780 - val_accuracy: 0.7662\n",
      "Epoch 7/30\n",
      "154/154 [==============================] - 5s 30ms/step - loss: 0.2459 - accuracy: 0.9115 - val_loss: 0.7462 - val_accuracy: 0.7565\n",
      "6/6 [==============================] - 0s 10ms/step\n",
      "6/6 [==============================] - 0s 9ms/step - loss: 0.8309 - accuracy: 0.7368\n",
      "Model: \"sequential_10\"\n",
      "_________________________________________________________________\n",
      " Layer (type)                Output Shape              Param #   \n",
      "=================================================================\n",
      " embedding_10 (Embedding)    (None, 64, 100)           806300    \n",
      "                                                                 \n",
      " lstm_10 (LSTM)              (None, 64)                42240     \n",
      "                                                                 \n",
      " FC1 (Dense)                 (None, 64)                4160      \n",
      "                                                                 \n",
      " dropout_10 (Dropout)        (None, 64)                0         \n",
      "                                                                 \n",
      " FC2 (Dense)                 (None, 2)                 130       \n",
      "                                                                 \n",
      "=================================================================\n",
      "Total params: 852,830\n",
      "Trainable params: 852,830\n",
      "Non-trainable params: 0\n",
      "_________________________________________________________________\n",
      "Epoch 1/30\n",
      "154/154 [==============================] - 6s 31ms/step - loss: 0.7055 - accuracy: 0.5654 - val_loss: 0.5328 - val_accuracy: 0.7403\n",
      "Epoch 2/30\n",
      "154/154 [==============================] - 5s 30ms/step - loss: 0.5690 - accuracy: 0.7254 - val_loss: 0.5353 - val_accuracy: 0.7630\n",
      "Epoch 3/30\n",
      "154/154 [==============================] - 5s 31ms/step - loss: 0.5327 - accuracy: 0.7644 - val_loss: 0.5452 - val_accuracy: 0.7338\n",
      "Epoch 4/30\n",
      "154/154 [==============================] - 4s 29ms/step - loss: 0.4308 - accuracy: 0.8327 - val_loss: 0.5345 - val_accuracy: 0.7662\n",
      "Epoch 5/30\n",
      "154/154 [==============================] - 5s 30ms/step - loss: 0.3796 - accuracy: 0.8416 - val_loss: 0.5715 - val_accuracy: 0.7500\n",
      "Epoch 6/30\n",
      "154/154 [==============================] - 5s 30ms/step - loss: 0.3135 - accuracy: 0.8871 - val_loss: 0.6699 - val_accuracy: 0.7078\n",
      "6/6 [==============================] - 0s 10ms/step\n",
      "6/6 [==============================] - 0s 10ms/step - loss: 0.6672 - accuracy: 0.7135\n"
     ]
    }
   ],
   "source": [
    "score_list=[]\n",
    "for i in range(10):\n",
    "    ## 定义LSTM模型\n",
    "    batch_size=8\n",
    "    inputs = Input(name='inputs',shape=[maxLen])\n",
    "    embedder = Embedding(len(vocab) + 1, 100, input_length=maxLen, weights=[embedding_matrix], trainable=True)\n",
    "    model=Sequential()\n",
    "    model.add(embedder)\n",
    "    model.add(LSTM(64))\n",
    "    model.add(Dense(64,activation=\"sigmoid\",name=\"FC1\"))\n",
    "    model.add(Dropout(0.4,seed=12))\n",
    "    model.add(Dense(2,activation=\"softmax\",name=\"FC2\"))\n",
    "    model.summary()\n",
    "    model.compile(loss=\"categorical_crossentropy\",optimizer=RMSprop(),metrics=[\"accuracy\"])\n",
    "    #reduce_lr = ReduceLROnPlateau(monitor='val_loss',factor=0.1 ,patience=3, mode='auto')\n",
    "    history=model.fit(trainSeq, trainCate, batch_size, epochs=30,validation_split=0.2, callbacks=[EarlyStopping(monitor='val_loss',patience=5)])\n",
    "    result = model.predict(testSeq)  # 预测样本属于每个类别的概率\n",
    "    score = model.evaluate(testSeq,\n",
    "                               testCate,\n",
    "                               batch_size=32)\n",
    "    score_list.append(score[1])"
   ]
  },
  {
   "cell_type": "code",
   "execution_count": 35,
   "id": "7a7fbe16",
   "metadata": {},
   "outputs": [
    {
     "name": "stdout",
     "output_type": "stream",
     "text": [
      "accuracy:0.7140350937843323\n"
     ]
    }
   ],
   "source": [
    "print('accuracy:'+str(sum(score_list)/len(score_list)))"
   ]
  },
  {
   "cell_type": "code",
   "execution_count": 36,
   "id": "c717fe6f",
   "metadata": {},
   "outputs": [],
   "source": [
    "score_list.sort()"
   ]
  },
  {
   "cell_type": "code",
   "execution_count": 37,
   "id": "205e3cfa",
   "metadata": {},
   "outputs": [
    {
     "data": {
      "text/plain": [
       "[0.6666666865348816,\n",
       " 0.7017543911933899,\n",
       " 0.7017543911933899,\n",
       " 0.707602322101593,\n",
       " 0.7134503126144409,\n",
       " 0.7134503126144409,\n",
       " 0.7134503126144409,\n",
       " 0.719298243522644,\n",
       " 0.7368420958518982,\n",
       " 0.7660818696022034]"
      ]
     },
     "execution_count": 37,
     "metadata": {},
     "output_type": "execute_result"
    }
   ],
   "source": [
    "score_list"
   ]
  },
  {
   "cell_type": "code",
   "execution_count": 38,
   "id": "0ab31738",
   "metadata": {},
   "outputs": [
    {
     "data": {
      "text/plain": [
       "0.7192982501453824"
      ]
     },
     "execution_count": 38,
     "metadata": {},
     "output_type": "execute_result"
    }
   ],
   "source": [
    "sum(score_list[1:])/9"
   ]
  }
 ],
 "metadata": {
  "kernelspec": {
   "display_name": "Python 3.10.6 ('4222G18_backup')",
   "language": "python",
   "name": "python3"
  },
  "language_info": {
   "codemirror_mode": {
    "name": "ipython",
    "version": 3
   },
   "file_extension": ".py",
   "mimetype": "text/x-python",
   "name": "python",
   "nbconvert_exporter": "python",
   "pygments_lexer": "ipython3",
   "version": "3.10.6"
  },
  "vscode": {
   "interpreter": {
    "hash": "64fb50f4500008f9f404f170e716523d28225753a93c94be3d36e645dbfada09"
   }
  }
 },
 "nbformat": 4,
 "nbformat_minor": 5
}
