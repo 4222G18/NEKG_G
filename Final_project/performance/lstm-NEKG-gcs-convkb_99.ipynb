{
 "cells": [
  {
   "cell_type": "code",
   "execution_count": 21,
   "id": "7a8df98f",
   "metadata": {},
   "outputs": [
    {
     "data": {
      "text/plain": [
       "'/home/egbert_jing/github/NEKG_G/Final_project'"
      ]
     },
     "execution_count": 21,
     "metadata": {},
     "output_type": "execute_result"
    }
   ],
   "source": [
    "import sys\n",
    "import os\n",
    "path_father = os.path.abspath(r'..')\n",
    "path_father\n",
    "# sys.path.append(path_father)"
   ]
  },
  {
   "cell_type": "code",
   "execution_count": 22,
   "id": "fce28d96",
   "metadata": {},
   "outputs": [],
   "source": [
    "import pandas as pd\n",
    "import numpy as np\n",
    "import matplotlib.pyplot as plt\n",
    "import seaborn as sns\n",
    "from sklearn import metrics\n",
    "from sklearn.preprocessing import LabelEncoder,OneHotEncoder\n",
    "from keras.models import Model\n",
    "from keras.layers import LSTM, Activation, Dense, Dropout, Input, Embedding\n",
    "from keras.optimizers import RMSprop\n",
    "from keras.preprocessing.text import Tokenizer\n",
    "from keras.preprocessing import sequence\n",
    "from keras.callbacks import EarlyStopping\n",
    "from keras_preprocessing.sequence import pad_sequences\n",
    "from keras.utils.np_utils import to_categorical\n",
    "from keras.models import Sequential\n",
    "from keras.callbacks import ReduceLROnPlateau\n",
    "from keras.models import load_model\n",
    "%matplotlib inline"
   ]
  },
  {
   "cell_type": "code",
   "execution_count": 23,
   "id": "c268b59b",
   "metadata": {},
   "outputs": [],
   "source": [
    "df = pd.read_csv(path_father + \"/df_with_gcs.txt\",sep=',',header=0)"
   ]
  },
  {
   "cell_type": "code",
   "execution_count": 24,
   "id": "e9e0ee5c",
   "metadata": {},
   "outputs": [],
   "source": [
    "#划分训练测试集\n",
    "from sklearn.model_selection import train_test_split\n",
    "\n",
    "train_set, test_set = train_test_split(df, test_size=0.1, random_state=42)"
   ]
  },
  {
   "cell_type": "markdown",
   "id": "59d7c98f",
   "metadata": {},
   "source": [
    "处理词向量"
   ]
  },
  {
   "cell_type": "code",
   "execution_count": 25,
   "id": "12c63f87",
   "metadata": {},
   "outputs": [],
   "source": [
    "from gensim.models import word2vec\n",
    "import logging\n",
    "logging.basicConfig(format='%(asctime)s : %(levelname)s : %(message)s', level=logging.INFO) "
   ]
  },
  {
   "cell_type": "code",
   "execution_count": 26,
   "id": "f13dfd1d",
   "metadata": {},
   "outputs": [],
   "source": [
    "# 切分词汇\n",
    "def cut(data):\n",
    "    cut= [s.split() for s in data['TriageNote'].astype(str)]\n",
    "    return cut"
   ]
  },
  {
   "cell_type": "code",
   "execution_count": 27,
   "id": "94dd810e",
   "metadata": {},
   "outputs": [],
   "source": [
    "train_text=cut(train_set)\n",
    "test_text=cut(test_set)\n",
    "sentences=train_text+test_text"
   ]
  },
  {
   "cell_type": "code",
   "execution_count": 28,
   "id": "2b4b566b",
   "metadata": {},
   "outputs": [
    {
     "data": {
      "text/plain": [
       "57"
      ]
     },
     "execution_count": 28,
     "metadata": {},
     "output_type": "execute_result"
    }
   ],
   "source": [
    "#得到最大句子长度\n",
    "num_list=[len(one) for one in sentences]\n",
    "max(num_list)"
   ]
  },
  {
   "cell_type": "code",
   "execution_count": 29,
   "id": "25aa3ce1",
   "metadata": {},
   "outputs": [],
   "source": [
    "maxLen=64"
   ]
  },
  {
   "cell_type": "code",
   "execution_count": 30,
   "id": "cad599c7",
   "metadata": {},
   "outputs": [],
   "source": [
    "#处理label->one_hot\n",
    "from sklearn.preprocessing import LabelEncoder\n",
    "\n",
    "def encodelabel(data):\n",
    "    le = LabelEncoder()\n",
    "    resultLable=le.fit_transform(data['DISPOSITION'])\n",
    "    return resultLable\n"
   ]
  },
  {
   "cell_type": "code",
   "execution_count": 31,
   "id": "b3dcf8dc",
   "metadata": {},
   "outputs": [],
   "source": [
    "train_lable=encodelabel(train_set)\n",
    "test_lable=encodelabel(test_set)"
   ]
  },
  {
   "cell_type": "code",
   "execution_count": 32,
   "id": "1f35b5d9",
   "metadata": {},
   "outputs": [
    {
     "name": "stderr",
     "output_type": "stream",
     "text": [
      "2022-11-27 20:42:43,951 : INFO : loading Word2Vec object from ./word2vec_all.model\n",
      "2022-11-27 20:42:43,961 : INFO : loading wv recursively from ./word2vec_all.model.wv.* with mmap=None\n",
      "2022-11-27 20:42:43,962 : INFO : setting ignored attribute cum_table to None\n",
      "2022-11-27 20:42:44,079 : INFO : Word2Vec lifecycle event {'fname': './word2vec_all.model', 'datetime': '2022-11-27T20:42:44.079415', 'gensim': '4.2.0', 'python': '3.10.6 (main, Oct 24 2022, 16:07:47) [GCC 11.2.0]', 'platform': 'Linux-5.15.74.2-microsoft-standard-WSL2-x86_64-with-glibc2.35', 'event': 'loaded'}\n"
     ]
    }
   ],
   "source": [
    "wvmodel = word2vec.Word2Vec.load(\"./word2vec_all.model\")"
   ]
  },
  {
   "cell_type": "code",
   "execution_count": 33,
   "id": "9cc89146",
   "metadata": {},
   "outputs": [
    {
     "data": {
      "text/plain": [
       "(99, 100)"
      ]
     },
     "execution_count": 33,
     "metadata": {},
     "output_type": "execute_result"
    }
   ],
   "source": [
    "nekg=np.load(path_father + \"/embedding/conkb_99.npy\",allow_pickle=True)\n",
    "nekg=np.concatenate((nekg,nekg),axis=1)\n",
    "nekg.shape"
   ]
  },
  {
   "cell_type": "code",
   "execution_count": 34,
   "id": "26830919",
   "metadata": {},
   "outputs": [],
   "source": [
    "tokenizer=Tokenizer()\n",
    "tokenizer.fit_on_texts(sentences)\n",
    "vocab = tokenizer.word_index "
   ]
  },
  {
   "cell_type": "code",
   "execution_count": 35,
   "id": "d6b9da6f",
   "metadata": {},
   "outputs": [],
   "source": [
    "#特征数字编号，不足的话会在前面补充0\n",
    "trainID = tokenizer.texts_to_sequences(train_text)\n",
    "# print(trainID)\n",
    "testID = tokenizer.texts_to_sequences(test_text)\n",
    "trainSeq=pad_sequences(trainID,maxlen=maxLen)\n",
    "#print(trainSeq)\n",
    "testSeq=pad_sequences(testID,maxlen=maxLen)\n",
    "\n",
    "#标签的独热编码\n",
    "trainCate = to_categorical(train_lable, num_classes=2)  # 将标签转换为one-hot编码\n",
    "#print(trainCate)\n",
    "testCate= to_categorical(test_lable, num_classes=2)  # 将标签转换为one-hot编码"
   ]
  },
  {
   "cell_type": "code",
   "execution_count": 36,
   "id": "cc516388",
   "metadata": {},
   "outputs": [],
   "source": [
    "def nekg_embed(n0):\n",
    "    n1=int(n0)\n",
    "    n2=int(n0)+1\n",
    "    s1=(n2-n0)/(n2-n1)\n",
    "    s2=(n0-n1)/(n2-n1)\n",
    "    return s1*nekg[n1]+s2*nekg[n2]"
   ]
  },
  {
   "cell_type": "code",
   "execution_count": 37,
   "id": "88a8378f",
   "metadata": {},
   "outputs": [],
   "source": [
    "#利用训练后的word2vec自定义Embedding的训练矩阵，每行代表一个词（结合独热码和矩阵乘法理解）\n",
    "embedding_matrix = np.zeros((len(vocab) + 1, 100))\n",
    "for word, i in vocab.items():\n",
    "    try:\n",
    "        if(word.isdigit()==False):#对word用word2vec\n",
    "            embedding_vector = wvmodel.wv[str(word)]\n",
    "        else:#对number用nekg\n",
    "            if (int(float(word))<=98):\n",
    "                embedding_vector =  nekg_embed(float(word))\n",
    "            else:\n",
    "                embedding_vector = wvmodel.wv[str(word)]\n",
    "        embedding_matrix[i] = embedding_vector    \n",
    "    except KeyError:\n",
    "        continue"
   ]
  },
  {
   "cell_type": "code",
   "execution_count": 38,
   "id": "1fa9c8f0",
   "metadata": {},
   "outputs": [
    {
     "name": "stderr",
     "output_type": "stream",
     "text": [
      "2022-11-27 20:42:44.575870: I tensorflow/stream_executor/cuda/cuda_gpu_executor.cc:966] could not open file to read NUMA node: /sys/bus/pci/devices/0000:01:00.0/numa_node\n",
      "Your kernel may have been built without NUMA support.\n",
      "2022-11-27 20:42:45.903194: W tensorflow/stream_executor/platform/default/dso_loader.cc:64] Could not load dynamic library 'libcudnn.so.8'; dlerror: libcudnn.so.8: cannot open shared object file: No such file or directory; LD_LIBRARY_PATH: :/usr/local/cuda-11.8/lib64\n",
      "2022-11-27 20:42:45.903237: W tensorflow/core/common_runtime/gpu/gpu_device.cc:1934] Cannot dlopen some GPU libraries. Please make sure the missing libraries mentioned above are installed properly if you would like to use GPU. Follow the guide at https://www.tensorflow.org/install/gpu for how to download and setup the required libraries for your platform.\n",
      "Skipping registering GPU devices...\n",
      "2022-11-27 20:42:45.906298: I tensorflow/core/platform/cpu_feature_guard.cc:193] This TensorFlow binary is optimized with oneAPI Deep Neural Network Library (oneDNN) to use the following CPU instructions in performance-critical operations:  AVX2 FMA\n",
      "To enable them in other operations, rebuild TensorFlow with the appropriate compiler flags.\n"
     ]
    },
    {
     "name": "stdout",
     "output_type": "stream",
     "text": [
      "Model: \"sequential\"\n",
      "_________________________________________________________________\n",
      " Layer (type)                Output Shape              Param #   \n",
      "=================================================================\n",
      " embedding (Embedding)       (None, 64, 100)           806300    \n",
      "                                                                 \n",
      " lstm (LSTM)                 (None, 64)                42240     \n",
      "                                                                 \n",
      " FC1 (Dense)                 (None, 64)                4160      \n",
      "                                                                 \n",
      " dropout (Dropout)           (None, 64)                0         \n",
      "                                                                 \n",
      " FC2 (Dense)                 (None, 2)                 130       \n",
      "                                                                 \n",
      "=================================================================\n",
      "Total params: 852,830\n",
      "Trainable params: 852,830\n",
      "Non-trainable params: 0\n",
      "_________________________________________________________________\n",
      "Epoch 1/30\n",
      "154/154 [==============================] - 7s 32ms/step - loss: 0.7117 - accuracy: 0.5711 - val_loss: 0.5780 - val_accuracy: 0.7045\n",
      "Epoch 2/30\n",
      "154/154 [==============================] - 4s 26ms/step - loss: 0.6079 - accuracy: 0.6832 - val_loss: 0.5257 - val_accuracy: 0.7500\n",
      "Epoch 3/30\n",
      "154/154 [==============================] - 4s 26ms/step - loss: 0.5430 - accuracy: 0.7311 - val_loss: 0.5243 - val_accuracy: 0.7532\n",
      "Epoch 4/30\n",
      "154/154 [==============================] - 4s 25ms/step - loss: 0.4603 - accuracy: 0.7920 - val_loss: 0.5258 - val_accuracy: 0.7760\n",
      "Epoch 5/30\n",
      "154/154 [==============================] - 4s 28ms/step - loss: 0.3861 - accuracy: 0.8432 - val_loss: 0.5554 - val_accuracy: 0.7370\n",
      "Epoch 6/30\n",
      "154/154 [==============================] - 4s 28ms/step - loss: 0.3248 - accuracy: 0.8741 - val_loss: 0.6397 - val_accuracy: 0.7662\n",
      "Epoch 7/30\n",
      "154/154 [==============================] - 4s 27ms/step - loss: 0.2403 - accuracy: 0.9131 - val_loss: 0.6360 - val_accuracy: 0.7662\n",
      "Epoch 8/30\n",
      "154/154 [==============================] - 4s 27ms/step - loss: 0.1959 - accuracy: 0.9310 - val_loss: 0.6931 - val_accuracy: 0.7500\n"
     ]
    },
    {
     "name": "stderr",
     "output_type": "stream",
     "text": [
      "2022-11-27 20:43:24,885 : WARNING : Found untraced functions such as lstm_cell_layer_call_fn, lstm_cell_layer_call_and_return_conditional_losses while saving (showing 2 of 2). These functions will not be directly callable after loading.\n"
     ]
    },
    {
     "name": "stdout",
     "output_type": "stream",
     "text": [
      "INFO:tensorflow:Assets written to: LSTM/assets\n"
     ]
    },
    {
     "name": "stderr",
     "output_type": "stream",
     "text": [
      "2022-11-27 20:43:25,428 : INFO : Assets written to: LSTM/assets\n"
     ]
    }
   ],
   "source": [
    "## 定义LSTM模型\n",
    "batch_size=8\n",
    "inputs = Input(name='inputs',shape=[maxLen])\n",
    "embedder = Embedding(len(vocab) + 1, 100, input_length=maxLen, weights=[embedding_matrix], trainable=True)\n",
    "model=Sequential()\n",
    "model.add(embedder)\n",
    "model.add(LSTM(64))\n",
    "model.add(Dense(64,activation=\"sigmoid\",name=\"FC1\"))\n",
    "model.add(Dropout(0.4))\n",
    "model.add(Dense(2,activation=\"softmax\",name=\"FC2\"))\n",
    "model.summary()\n",
    "model.compile(loss=\"categorical_crossentropy\",optimizer=RMSprop(),metrics=[\"accuracy\"])\n",
    "#reduce_lr = ReduceLROnPlateau(monitor='val_loss',factor=0.1 ,patience=3, mode='auto')\n",
    "history=model.fit(trainSeq, trainCate, batch_size, epochs=30,validation_split=0.2, callbacks=[EarlyStopping(monitor='val_loss',patience=5)])\n",
    "model.save(\"LSTM\")"
   ]
  },
  {
   "cell_type": "code",
   "execution_count": 39,
   "id": "f6b394d2",
   "metadata": {},
   "outputs": [
    {
     "name": "stdout",
     "output_type": "stream",
     "text": [
      "6/6 [==============================] - 0s 9ms/step\n",
      "6/6 [==============================] - 0s 9ms/step - loss: 0.7508 - accuracy: 0.7076\n",
      "[0.7507864832878113, 0.707602322101593]\n"
     ]
    }
   ],
   "source": [
    "#预测与评估\n",
    "mainModel = load_model('LSTM')\n",
    "result = mainModel.predict(testSeq)  # 预测样本属于每个类别的概率\n",
    "score = mainModel.evaluate(testSeq,\n",
    "                           testCate,\n",
    "                           batch_size=32)\n",
    "print(score)"
   ]
  },
  {
   "cell_type": "code",
   "execution_count": 40,
   "id": "5cd82ded",
   "metadata": {},
   "outputs": [
    {
     "data": {
      "image/png": "[encoded data removed]",
      "text/plain": [
       "<Figure size 640x480 with 1 Axes>"
      ]
     },
     "metadata": {},
     "output_type": "display_data"
    },
    {
     "data": {
      "image/png": "[encoded data removed]",
      "text/plain": [
       "<Figure size 640x480 with 1 Axes>"
      ]
     },
     "metadata": {},
     "output_type": "display_data"
    }
   ],
   "source": [
    "plt.plot(history.history['accuracy'])\n",
    "plt.plot(history.history['val_accuracy'])\n",
    "plt.title('Model accuracy')\n",
    "plt.ylabel('Accuracy')\n",
    "plt.xlabel('Epoch')\n",
    "plt.legend(['Train','Valid'],loc='upper left')\n",
    "plt.show()\n",
    "\n",
    "plt.plot(history.history['loss'])\n",
    "plt.plot(history.history['val_loss'])\n",
    "plt.title('Model loss')\n",
    "plt.ylabel('Loss')\n",
    "plt.xlabel('Epoch')\n",
    "plt.legend(['Train','Valid'],loc='upper left')\n",
    "plt.show()"
   ]
  },
  {
   "cell_type": "code",
   "execution_count": 41,
   "id": "5450d945",
   "metadata": {},
   "outputs": [
    {
     "name": "stdout",
     "output_type": "stream",
     "text": [
      "Model: \"sequential_1\"\n",
      "_________________________________________________________________\n",
      " Layer (type)                Output Shape              Param #   \n",
      "=================================================================\n",
      " embedding_1 (Embedding)     (None, 64, 100)           806300    \n",
      "                                                                 \n",
      " lstm_1 (LSTM)               (None, 64)                42240     \n",
      "                                                                 \n",
      " FC1 (Dense)                 (None, 64)                4160      \n",
      "                                                                 \n",
      " dropout_1 (Dropout)         (None, 64)                0         \n",
      "                                                                 \n",
      " FC2 (Dense)                 (None, 2)                 130       \n",
      "                                                                 \n",
      "=================================================================\n",
      "Total params: 852,830\n",
      "Trainable params: 852,830\n",
      "Non-trainable params: 0\n",
      "_________________________________________________________________\n",
      "Epoch 1/30\n",
      "154/154 [==============================] - 6s 30ms/step - loss: 0.7326 - accuracy: 0.5540 - val_loss: 0.5885 - val_accuracy: 0.6948\n",
      "Epoch 2/30\n",
      "154/154 [==============================] - 4s 25ms/step - loss: 0.6091 - accuracy: 0.6978 - val_loss: 0.5431 - val_accuracy: 0.7403\n",
      "Epoch 3/30\n",
      "154/154 [==============================] - 4s 27ms/step - loss: 0.5169 - accuracy: 0.7612 - val_loss: 0.5450 - val_accuracy: 0.7597\n",
      "Epoch 4/30\n",
      "154/154 [==============================] - 4s 25ms/step - loss: 0.4682 - accuracy: 0.7985 - val_loss: 0.5241 - val_accuracy: 0.7532\n",
      "Epoch 5/30\n",
      "154/154 [==============================] - 4s 26ms/step - loss: 0.3787 - accuracy: 0.8481 - val_loss: 0.5508 - val_accuracy: 0.7955\n",
      "Epoch 6/30\n",
      "154/154 [==============================] - 4s 26ms/step - loss: 0.3084 - accuracy: 0.8846 - val_loss: 0.7273 - val_accuracy: 0.7208\n",
      "Epoch 7/30\n",
      "154/154 [==============================] - 4s 25ms/step - loss: 0.2513 - accuracy: 0.9098 - val_loss: 0.6440 - val_accuracy: 0.7435\n",
      "Epoch 8/30\n",
      "154/154 [==============================] - 4s 27ms/step - loss: 0.1774 - accuracy: 0.9342 - val_loss: 0.7930 - val_accuracy: 0.7338\n",
      "Epoch 9/30\n",
      "154/154 [==============================] - 4s 26ms/step - loss: 0.1233 - accuracy: 0.9569 - val_loss: 0.7354 - val_accuracy: 0.7435\n",
      "6/6 [==============================] - 0s 10ms/step\n",
      "6/6 [==============================] - 0s 9ms/step - loss: 0.7667 - accuracy: 0.7076\n",
      "Model: \"sequential_2\"\n",
      "_________________________________________________________________\n",
      " Layer (type)                Output Shape              Param #   \n",
      "=================================================================\n",
      " embedding_2 (Embedding)     (None, 64, 100)           806300    \n",
      "                                                                 \n",
      " lstm_2 (LSTM)               (None, 64)                42240     \n",
      "                                                                 \n",
      " FC1 (Dense)                 (None, 64)                4160      \n",
      "                                                                 \n",
      " dropout_2 (Dropout)         (None, 64)                0         \n",
      "                                                                 \n",
      " FC2 (Dense)                 (None, 2)                 130       \n",
      "                                                                 \n",
      "=================================================================\n",
      "Total params: 852,830\n",
      "Trainable params: 852,830\n",
      "Non-trainable params: 0\n",
      "_________________________________________________________________\n",
      "Epoch 1/30\n",
      "154/154 [==============================] - 6s 32ms/step - loss: 0.7123 - accuracy: 0.5849 - val_loss: 0.6495 - val_accuracy: 0.6753\n",
      "Epoch 2/30\n",
      "154/154 [==============================] - 4s 27ms/step - loss: 0.6017 - accuracy: 0.7067 - val_loss: 0.5357 - val_accuracy: 0.7500\n",
      "Epoch 3/30\n",
      "154/154 [==============================] - 4s 28ms/step - loss: 0.5341 - accuracy: 0.7465 - val_loss: 0.5360 - val_accuracy: 0.7727\n",
      "Epoch 4/30\n",
      "154/154 [==============================] - 4s 26ms/step - loss: 0.4646 - accuracy: 0.8002 - val_loss: 0.5563 - val_accuracy: 0.7565\n",
      "Epoch 5/30\n",
      "154/154 [==============================] - 4s 28ms/step - loss: 0.3842 - accuracy: 0.8424 - val_loss: 0.5382 - val_accuracy: 0.7727\n",
      "Epoch 6/30\n",
      "154/154 [==============================] - 4s 28ms/step - loss: 0.3024 - accuracy: 0.8790 - val_loss: 0.6168 - val_accuracy: 0.7662\n",
      "Epoch 7/30\n",
      "154/154 [==============================] - 4s 28ms/step - loss: 0.2370 - accuracy: 0.9098 - val_loss: 0.8775 - val_accuracy: 0.6818\n",
      "6/6 [==============================] - 0s 9ms/step\n",
      "6/6 [==============================] - 0s 8ms/step - loss: 1.0602 - accuracy: 0.6608\n",
      "Model: \"sequential_3\"\n",
      "_________________________________________________________________\n",
      " Layer (type)                Output Shape              Param #   \n",
      "=================================================================\n",
      " embedding_3 (Embedding)     (None, 64, 100)           806300    \n",
      "                                                                 \n",
      " lstm_3 (LSTM)               (None, 64)                42240     \n",
      "                                                                 \n",
      " FC1 (Dense)                 (None, 64)                4160      \n",
      "                                                                 \n",
      " dropout_3 (Dropout)         (None, 64)                0         \n",
      "                                                                 \n",
      " FC2 (Dense)                 (None, 2)                 130       \n",
      "                                                                 \n",
      "=================================================================\n",
      "Total params: 852,830\n",
      "Trainable params: 852,830\n",
      "Non-trainable params: 0\n",
      "_________________________________________________________________\n",
      "Epoch 1/30\n",
      "154/154 [==============================] - 6s 31ms/step - loss: 0.7134 - accuracy: 0.5849 - val_loss: 0.5743 - val_accuracy: 0.7175\n",
      "Epoch 2/30\n",
      "154/154 [==============================] - 4s 28ms/step - loss: 0.6071 - accuracy: 0.6872 - val_loss: 0.5656 - val_accuracy: 0.7240\n",
      "Epoch 3/30\n",
      "154/154 [==============================] - 4s 28ms/step - loss: 0.5383 - accuracy: 0.7522 - val_loss: 0.5192 - val_accuracy: 0.7662\n",
      "Epoch 4/30\n",
      "154/154 [==============================] - 4s 28ms/step - loss: 0.4672 - accuracy: 0.8091 - val_loss: 0.5098 - val_accuracy: 0.7597\n",
      "Epoch 5/30\n",
      "154/154 [==============================] - 4s 27ms/step - loss: 0.3917 - accuracy: 0.8448 - val_loss: 0.5285 - val_accuracy: 0.7792\n",
      "Epoch 6/30\n",
      "154/154 [==============================] - 4s 27ms/step - loss: 0.3282 - accuracy: 0.8749 - val_loss: 0.5473 - val_accuracy: 0.7727\n",
      "Epoch 7/30\n",
      "154/154 [==============================] - 4s 28ms/step - loss: 0.2536 - accuracy: 0.9041 - val_loss: 0.6323 - val_accuracy: 0.7792\n",
      "Epoch 8/30\n",
      "154/154 [==============================] - 4s 28ms/step - loss: 0.1875 - accuracy: 0.9334 - val_loss: 0.6603 - val_accuracy: 0.7305\n",
      "Epoch 9/30\n",
      "154/154 [==============================] - 4s 28ms/step - loss: 0.1403 - accuracy: 0.9504 - val_loss: 0.7804 - val_accuracy: 0.7468\n",
      "6/6 [==============================] - 0s 9ms/step\n",
      "6/6 [==============================] - 0s 9ms/step - loss: 0.8384 - accuracy: 0.7076\n",
      "Model: \"sequential_4\"\n",
      "_________________________________________________________________\n",
      " Layer (type)                Output Shape              Param #   \n",
      "=================================================================\n",
      " embedding_4 (Embedding)     (None, 64, 100)           806300    \n",
      "                                                                 \n",
      " lstm_4 (LSTM)               (None, 64)                42240     \n",
      "                                                                 \n",
      " FC1 (Dense)                 (None, 64)                4160      \n",
      "                                                                 \n",
      " dropout_4 (Dropout)         (None, 64)                0         \n",
      "                                                                 \n",
      " FC2 (Dense)                 (None, 2)                 130       \n",
      "                                                                 \n",
      "=================================================================\n",
      "Total params: 852,830\n",
      "Trainable params: 852,830\n",
      "Non-trainable params: 0\n",
      "_________________________________________________________________\n",
      "Epoch 1/30\n",
      "154/154 [==============================] - 6s 32ms/step - loss: 0.7062 - accuracy: 0.5678 - val_loss: 0.5907 - val_accuracy: 0.6623\n",
      "Epoch 2/30\n",
      "154/154 [==============================] - 4s 27ms/step - loss: 0.6046 - accuracy: 0.6954 - val_loss: 0.5631 - val_accuracy: 0.7338\n",
      "Epoch 3/30\n",
      "154/154 [==============================] - 5s 30ms/step - loss: 0.5281 - accuracy: 0.7571 - val_loss: 0.5792 - val_accuracy: 0.7110\n",
      "Epoch 4/30\n",
      "154/154 [==============================] - 5s 31ms/step - loss: 0.4545 - accuracy: 0.7961 - val_loss: 0.5413 - val_accuracy: 0.7630\n",
      "Epoch 5/30\n",
      "154/154 [==============================] - 4s 29ms/step - loss: 0.3791 - accuracy: 0.8400 - val_loss: 0.5682 - val_accuracy: 0.7532\n",
      "Epoch 6/30\n",
      "154/154 [==============================] - 4s 28ms/step - loss: 0.2964 - accuracy: 0.8863 - val_loss: 0.6399 - val_accuracy: 0.7532\n",
      "Epoch 7/30\n",
      "154/154 [==============================] - 4s 27ms/step - loss: 0.2335 - accuracy: 0.9180 - val_loss: 0.6749 - val_accuracy: 0.7013\n",
      "Epoch 8/30\n",
      "154/154 [==============================] - 5s 30ms/step - loss: 0.1675 - accuracy: 0.9472 - val_loss: 0.7545 - val_accuracy: 0.7760\n",
      "Epoch 9/30\n",
      "154/154 [==============================] - 5s 29ms/step - loss: 0.1121 - accuracy: 0.9618 - val_loss: 0.9101 - val_accuracy: 0.7403\n",
      "6/6 [==============================] - 0s 10ms/step\n",
      "6/6 [==============================] - 0s 9ms/step - loss: 0.9977 - accuracy: 0.7193\n",
      "Model: \"sequential_5\"\n",
      "_________________________________________________________________\n",
      " Layer (type)                Output Shape              Param #   \n",
      "=================================================================\n",
      " embedding_5 (Embedding)     (None, 64, 100)           806300    \n",
      "                                                                 \n",
      " lstm_5 (LSTM)               (None, 64)                42240     \n",
      "                                                                 \n",
      " FC1 (Dense)                 (None, 64)                4160      \n",
      "                                                                 \n",
      " dropout_5 (Dropout)         (None, 64)                0         \n",
      "                                                                 \n",
      " FC2 (Dense)                 (None, 2)                 130       \n",
      "                                                                 \n",
      "=================================================================\n",
      "Total params: 852,830\n",
      "Trainable params: 852,830\n",
      "Non-trainable params: 0\n",
      "_________________________________________________________________\n",
      "Epoch 1/30\n",
      "154/154 [==============================] - 7s 33ms/step - loss: 0.7169 - accuracy: 0.5825 - val_loss: 0.5505 - val_accuracy: 0.7338\n",
      "Epoch 2/30\n",
      "154/154 [==============================] - 5s 31ms/step - loss: 0.5808 - accuracy: 0.7132 - val_loss: 0.5451 - val_accuracy: 0.7403\n",
      "Epoch 3/30\n",
      "154/154 [==============================] - 5s 32ms/step - loss: 0.5324 - accuracy: 0.7555 - val_loss: 0.5435 - val_accuracy: 0.7727\n",
      "Epoch 4/30\n",
      "154/154 [==============================] - 5s 30ms/step - loss: 0.4588 - accuracy: 0.8075 - val_loss: 0.6995 - val_accuracy: 0.6883\n",
      "Epoch 5/30\n",
      "154/154 [==============================] - 4s 29ms/step - loss: 0.3898 - accuracy: 0.8383 - val_loss: 0.5615 - val_accuracy: 0.7338\n",
      "Epoch 6/30\n",
      "154/154 [==============================] - 5s 32ms/step - loss: 0.3351 - accuracy: 0.8733 - val_loss: 0.5568 - val_accuracy: 0.7825\n",
      "Epoch 7/30\n",
      "154/154 [==============================] - 5s 30ms/step - loss: 0.2540 - accuracy: 0.9066 - val_loss: 0.6983 - val_accuracy: 0.7500\n",
      "Epoch 8/30\n",
      "154/154 [==============================] - 5s 30ms/step - loss: 0.2011 - accuracy: 0.9342 - val_loss: 0.5986 - val_accuracy: 0.7500\n",
      "6/6 [==============================] - 0s 9ms/step\n",
      "6/6 [==============================] - 0s 9ms/step - loss: 0.6596 - accuracy: 0.7076\n",
      "Model: \"sequential_6\"\n",
      "_________________________________________________________________\n",
      " Layer (type)                Output Shape              Param #   \n",
      "=================================================================\n",
      " embedding_6 (Embedding)     (None, 64, 100)           806300    \n",
      "                                                                 \n",
      " lstm_6 (LSTM)               (None, 64)                42240     \n",
      "                                                                 \n",
      " FC1 (Dense)                 (None, 64)                4160      \n",
      "                                                                 \n",
      " dropout_6 (Dropout)         (None, 64)                0         \n",
      "                                                                 \n",
      " FC2 (Dense)                 (None, 2)                 130       \n",
      "                                                                 \n",
      "=================================================================\n",
      "Total params: 852,830\n",
      "Trainable params: 852,830\n",
      "Non-trainable params: 0\n",
      "_________________________________________________________________\n",
      "Epoch 1/30\n",
      "154/154 [==============================] - 6s 32ms/step - loss: 0.7100 - accuracy: 0.5751 - val_loss: 0.5811 - val_accuracy: 0.7208\n",
      "Epoch 2/30\n",
      "154/154 [==============================] - 4s 28ms/step - loss: 0.6181 - accuracy: 0.6840 - val_loss: 0.5596 - val_accuracy: 0.7435\n",
      "Epoch 3/30\n",
      "154/154 [==============================] - 5s 29ms/step - loss: 0.5434 - accuracy: 0.7409 - val_loss: 0.5833 - val_accuracy: 0.7273\n",
      "Epoch 4/30\n",
      "154/154 [==============================] - 5s 30ms/step - loss: 0.4824 - accuracy: 0.7896 - val_loss: 0.5212 - val_accuracy: 0.7662\n",
      "Epoch 5/30\n",
      "154/154 [==============================] - 5s 29ms/step - loss: 0.3864 - accuracy: 0.8505 - val_loss: 0.5587 - val_accuracy: 0.7857\n",
      "Epoch 6/30\n",
      "154/154 [==============================] - 5s 30ms/step - loss: 0.3122 - accuracy: 0.8846 - val_loss: 0.6428 - val_accuracy: 0.7760\n",
      "Epoch 7/30\n",
      "154/154 [==============================] - 5s 34ms/step - loss: 0.2440 - accuracy: 0.9147 - val_loss: 0.6087 - val_accuracy: 0.7825\n",
      "Epoch 8/30\n",
      "154/154 [==============================] - 5s 30ms/step - loss: 0.1907 - accuracy: 0.9334 - val_loss: 0.7078 - val_accuracy: 0.7532\n",
      "Epoch 9/30\n",
      "154/154 [==============================] - 4s 28ms/step - loss: 0.1271 - accuracy: 0.9537 - val_loss: 0.7382 - val_accuracy: 0.7110\n",
      "6/6 [==============================] - 0s 11ms/step\n",
      "6/6 [==============================] - 0s 12ms/step - loss: 0.7113 - accuracy: 0.7368\n",
      "Model: \"sequential_7\"\n",
      "_________________________________________________________________\n",
      " Layer (type)                Output Shape              Param #   \n",
      "=================================================================\n",
      " embedding_7 (Embedding)     (None, 64, 100)           806300    \n",
      "                                                                 \n",
      " lstm_7 (LSTM)               (None, 64)                42240     \n",
      "                                                                 \n",
      " FC1 (Dense)                 (None, 64)                4160      \n",
      "                                                                 \n",
      " dropout_7 (Dropout)         (None, 64)                0         \n",
      "                                                                 \n",
      " FC2 (Dense)                 (None, 2)                 130       \n",
      "                                                                 \n",
      "=================================================================\n",
      "Total params: 852,830\n",
      "Trainable params: 852,830\n",
      "Non-trainable params: 0\n",
      "_________________________________________________________________\n",
      "Epoch 1/30\n",
      "154/154 [==============================] - 6s 32ms/step - loss: 0.6918 - accuracy: 0.5865 - val_loss: 0.6697 - val_accuracy: 0.6071\n",
      "Epoch 2/30\n",
      "154/154 [==============================] - 4s 28ms/step - loss: 0.5786 - accuracy: 0.7076 - val_loss: 0.5643 - val_accuracy: 0.7240\n",
      "Epoch 3/30\n",
      "154/154 [==============================] - 5s 29ms/step - loss: 0.5317 - accuracy: 0.7490 - val_loss: 0.5301 - val_accuracy: 0.7727\n",
      "Epoch 4/30\n",
      "154/154 [==============================] - 4s 29ms/step - loss: 0.4684 - accuracy: 0.8091 - val_loss: 0.5551 - val_accuracy: 0.7630\n",
      "Epoch 5/30\n",
      "154/154 [==============================] - 5s 30ms/step - loss: 0.3914 - accuracy: 0.8383 - val_loss: 0.7425 - val_accuracy: 0.6688\n",
      "Epoch 6/30\n",
      "154/154 [==============================] - 5s 34ms/step - loss: 0.3511 - accuracy: 0.8692 - val_loss: 0.5783 - val_accuracy: 0.7468\n",
      "Epoch 7/30\n",
      "154/154 [==============================] - 5s 32ms/step - loss: 0.2642 - accuracy: 0.9041 - val_loss: 0.6292 - val_accuracy: 0.7403\n",
      "Epoch 8/30\n",
      "154/154 [==============================] - 5s 31ms/step - loss: 0.2059 - accuracy: 0.9220 - val_loss: 0.6601 - val_accuracy: 0.7468\n",
      "6/6 [==============================] - 0s 10ms/step\n",
      "6/6 [==============================] - 0s 9ms/step - loss: 0.6740 - accuracy: 0.7193\n",
      "Model: \"sequential_8\"\n",
      "_________________________________________________________________\n",
      " Layer (type)                Output Shape              Param #   \n",
      "=================================================================\n",
      " embedding_8 (Embedding)     (None, 64, 100)           806300    \n",
      "                                                                 \n",
      " lstm_8 (LSTM)               (None, 64)                42240     \n",
      "                                                                 \n",
      " FC1 (Dense)                 (None, 64)                4160      \n",
      "                                                                 \n",
      " dropout_8 (Dropout)         (None, 64)                0         \n",
      "                                                                 \n",
      " FC2 (Dense)                 (None, 2)                 130       \n",
      "                                                                 \n",
      "=================================================================\n",
      "Total params: 852,830\n",
      "Trainable params: 852,830\n",
      "Non-trainable params: 0\n",
      "_________________________________________________________________\n",
      "Epoch 1/30\n",
      "154/154 [==============================] - 7s 35ms/step - loss: 0.7358 - accuracy: 0.5613 - val_loss: 0.5936 - val_accuracy: 0.6883\n",
      "Epoch 2/30\n",
      "154/154 [==============================] - 5s 31ms/step - loss: 0.5964 - accuracy: 0.7051 - val_loss: 0.6160 - val_accuracy: 0.7143\n",
      "Epoch 3/30\n",
      "154/154 [==============================] - 5s 31ms/step - loss: 0.5296 - accuracy: 0.7474 - val_loss: 0.5215 - val_accuracy: 0.7695\n",
      "Epoch 4/30\n",
      "154/154 [==============================] - 5s 34ms/step - loss: 0.4610 - accuracy: 0.7961 - val_loss: 0.5405 - val_accuracy: 0.7695\n",
      "Epoch 5/30\n",
      "154/154 [==============================] - 5s 33ms/step - loss: 0.3878 - accuracy: 0.8416 - val_loss: 0.6782 - val_accuracy: 0.7208\n",
      "Epoch 6/30\n",
      "154/154 [==============================] - 6s 36ms/step - loss: 0.3132 - accuracy: 0.8757 - val_loss: 0.5528 - val_accuracy: 0.7727\n",
      "Epoch 7/30\n",
      "154/154 [==============================] - 6s 39ms/step - loss: 0.2334 - accuracy: 0.9066 - val_loss: 0.6176 - val_accuracy: 0.7630\n",
      "Epoch 8/30\n",
      "154/154 [==============================] - 5s 34ms/step - loss: 0.1701 - accuracy: 0.9407 - val_loss: 0.6719 - val_accuracy: 0.7208\n",
      "6/6 [==============================] - 0s 9ms/step\n",
      "6/6 [==============================] - 0s 9ms/step - loss: 0.6781 - accuracy: 0.7076\n",
      "Model: \"sequential_9\"\n",
      "_________________________________________________________________\n",
      " Layer (type)                Output Shape              Param #   \n",
      "=================================================================\n",
      " embedding_9 (Embedding)     (None, 64, 100)           806300    \n",
      "                                                                 \n",
      " lstm_9 (LSTM)               (None, 64)                42240     \n",
      "                                                                 \n",
      " FC1 (Dense)                 (None, 64)                4160      \n",
      "                                                                 \n",
      " dropout_9 (Dropout)         (None, 64)                0         \n",
      "                                                                 \n",
      " FC2 (Dense)                 (None, 2)                 130       \n",
      "                                                                 \n",
      "=================================================================\n",
      "Total params: 852,830\n",
      "Trainable params: 852,830\n",
      "Non-trainable params: 0\n",
      "_________________________________________________________________\n",
      "Epoch 1/30\n",
      "154/154 [==============================] - 7s 32ms/step - loss: 0.7310 - accuracy: 0.5508 - val_loss: 0.7713 - val_accuracy: 0.5455\n",
      "Epoch 2/30\n",
      "154/154 [==============================] - 5s 31ms/step - loss: 0.6377 - accuracy: 0.6677 - val_loss: 0.5778 - val_accuracy: 0.7273\n",
      "Epoch 3/30\n",
      "154/154 [==============================] - 5s 31ms/step - loss: 0.5533 - accuracy: 0.7376 - val_loss: 0.5489 - val_accuracy: 0.7305\n",
      "Epoch 4/30\n",
      "154/154 [==============================] - 5s 31ms/step - loss: 0.4858 - accuracy: 0.7880 - val_loss: 0.5071 - val_accuracy: 0.7695\n",
      "Epoch 5/30\n",
      "154/154 [==============================] - 5s 31ms/step - loss: 0.4114 - accuracy: 0.8318 - val_loss: 0.5464 - val_accuracy: 0.7565\n",
      "Epoch 6/30\n",
      "154/154 [==============================] - 5s 30ms/step - loss: 0.3319 - accuracy: 0.8733 - val_loss: 0.5497 - val_accuracy: 0.7695\n",
      "Epoch 7/30\n",
      "154/154 [==============================] - 5s 31ms/step - loss: 0.2466 - accuracy: 0.9041 - val_loss: 0.7401 - val_accuracy: 0.7045\n",
      "Epoch 8/30\n",
      "154/154 [==============================] - 5s 34ms/step - loss: 0.1899 - accuracy: 0.9310 - val_loss: 0.8062 - val_accuracy: 0.7500\n",
      "Epoch 9/30\n",
      "154/154 [==============================] - 6s 37ms/step - loss: 0.1296 - accuracy: 0.9545 - val_loss: 0.7424 - val_accuracy: 0.7273\n",
      "6/6 [==============================] - 0s 10ms/step\n",
      "6/6 [==============================] - 0s 10ms/step - loss: 0.6739 - accuracy: 0.7193\n",
      "Model: \"sequential_10\"\n",
      "_________________________________________________________________\n",
      " Layer (type)                Output Shape              Param #   \n",
      "=================================================================\n",
      " embedding_10 (Embedding)    (None, 64, 100)           806300    \n",
      "                                                                 \n",
      " lstm_10 (LSTM)              (None, 64)                42240     \n",
      "                                                                 \n",
      " FC1 (Dense)                 (None, 64)                4160      \n",
      "                                                                 \n",
      " dropout_10 (Dropout)        (None, 64)                0         \n",
      "                                                                 \n",
      " FC2 (Dense)                 (None, 2)                 130       \n",
      "                                                                 \n",
      "=================================================================\n",
      "Total params: 852,830\n",
      "Trainable params: 852,830\n",
      "Non-trainable params: 0\n",
      "_________________________________________________________________\n",
      "Epoch 1/30\n",
      "154/154 [==============================] - 6s 31ms/step - loss: 0.7013 - accuracy: 0.5963 - val_loss: 0.5512 - val_accuracy: 0.7370\n",
      "Epoch 2/30\n",
      "154/154 [==============================] - 5s 32ms/step - loss: 0.6117 - accuracy: 0.6905 - val_loss: 0.5309 - val_accuracy: 0.7468\n",
      "Epoch 3/30\n",
      "154/154 [==============================] - 5s 31ms/step - loss: 0.5462 - accuracy: 0.7271 - val_loss: 0.5302 - val_accuracy: 0.7532\n",
      "Epoch 4/30\n",
      "154/154 [==============================] - 5s 36ms/step - loss: 0.4650 - accuracy: 0.8099 - val_loss: 0.5302 - val_accuracy: 0.7662\n",
      "Epoch 5/30\n",
      "154/154 [==============================] - 6s 36ms/step - loss: 0.3937 - accuracy: 0.8392 - val_loss: 0.6569 - val_accuracy: 0.7435\n",
      "Epoch 6/30\n",
      "154/154 [==============================] - 5s 34ms/step - loss: 0.3338 - accuracy: 0.8708 - val_loss: 0.5665 - val_accuracy: 0.7857\n",
      "Epoch 7/30\n",
      "154/154 [==============================] - 5s 33ms/step - loss: 0.2609 - accuracy: 0.8985 - val_loss: 0.5777 - val_accuracy: 0.7403\n",
      "Epoch 8/30\n",
      "154/154 [==============================] - 5s 35ms/step - loss: 0.1899 - accuracy: 0.9301 - val_loss: 0.7973 - val_accuracy: 0.7500\n",
      "6/6 [==============================] - 0s 12ms/step\n",
      "6/6 [==============================] - 0s 9ms/step - loss: 0.8936 - accuracy: 0.7193\n"
     ]
    }
   ],
   "source": [
    "score_list=[]\n",
    "for i in range(10):\n",
    "    ## 定义LSTM模型\n",
    "    batch_size=8\n",
    "    inputs = Input(name='inputs',shape=[maxLen])\n",
    "    embedder = Embedding(len(vocab) + 1, 100, input_length=maxLen, weights=[embedding_matrix], trainable=True)\n",
    "    model=Sequential()\n",
    "    model.add(embedder)\n",
    "    model.add(LSTM(64))\n",
    "    model.add(Dense(64,activation=\"sigmoid\",name=\"FC1\"))\n",
    "    model.add(Dropout(0.4,seed=12))\n",
    "    model.add(Dense(2,activation=\"softmax\",name=\"FC2\"))\n",
    "    model.summary()\n",
    "    model.compile(loss=\"categorical_crossentropy\",optimizer=RMSprop(),metrics=[\"accuracy\"])\n",
    "    #reduce_lr = ReduceLROnPlateau(monitor='val_loss',factor=0.1 ,patience=3, mode='auto')\n",
    "    history=model.fit(trainSeq, trainCate, batch_size, epochs=30,validation_split=0.2, callbacks=[EarlyStopping(monitor='val_loss',patience=5)])\n",
    "    result = model.predict(testSeq)  # 预测样本属于每个类别的概率\n",
    "    score = model.evaluate(testSeq,\n",
    "                               testCate,\n",
    "                               batch_size=32)\n",
    "    score_list.append(score[1])"
   ]
  },
  {
   "cell_type": "code",
   "execution_count": 42,
   "id": "7a7fbe16",
   "metadata": {},
   "outputs": [
    {
     "name": "stdout",
     "output_type": "stream",
     "text": [
      "accuracy:0.7105263054370881\n"
     ]
    }
   ],
   "source": [
    "print('accuracy:'+str(sum(score_list)/len(score_list)))"
   ]
  },
  {
   "cell_type": "code",
   "execution_count": 43,
   "id": "c717fe6f",
   "metadata": {},
   "outputs": [],
   "source": [
    "score_list.sort()"
   ]
  },
  {
   "cell_type": "code",
   "execution_count": 44,
   "id": "205e3cfa",
   "metadata": {},
   "outputs": [
    {
     "data": {
      "text/plain": [
       "[0.6608186960220337,\n",
       " 0.707602322101593,\n",
       " 0.707602322101593,\n",
       " 0.707602322101593,\n",
       " 0.707602322101593,\n",
       " 0.719298243522644,\n",
       " 0.719298243522644,\n",
       " 0.719298243522644,\n",
       " 0.719298243522644,\n",
       " 0.7368420958518982]"
      ]
     },
     "execution_count": 44,
     "metadata": {},
     "output_type": "execute_result"
    }
   ],
   "source": [
    "score_list"
   ]
  },
  {
   "cell_type": "code",
   "execution_count": 45,
   "id": "d22b7049",
   "metadata": {},
   "outputs": [
    {
     "data": {
      "text/plain": [
       "0.7160493731498718"
      ]
     },
     "execution_count": 45,
     "metadata": {},
     "output_type": "execute_result"
    }
   ],
   "source": [
    "sum(score_list[1:])/9"
   ]
  }
 ],
 "metadata": {
  "kernelspec": {
   "display_name": "Python 3.10.6 ('4222G18_backup')",
   "language": "python",
   "name": "python3"
  },
  "language_info": {
   "codemirror_mode": {
    "name": "ipython",
    "version": 3
   },
   "file_extension": ".py",
   "mimetype": "text/x-python",
   "name": "python",
   "nbconvert_exporter": "python",
   "pygments_lexer": "ipython3",
   "version": "3.10.6"
  },
  "vscode": {
   "interpreter": {
    "hash": "64fb50f4500008f9f404f170e716523d28225753a93c94be3d36e645dbfada09"
   }
  }
 },
 "nbformat": 4,
 "nbformat_minor": 5
}
