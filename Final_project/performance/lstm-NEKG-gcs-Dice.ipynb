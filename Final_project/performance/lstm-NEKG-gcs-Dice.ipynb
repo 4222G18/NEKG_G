{
 "cells": [
  {
   "cell_type": "code",
   "execution_count": 1,
   "id": "43d5eb91",
   "metadata": {},
   "outputs": [
    {
     "data": {
      "text/plain": [
       "'/home/egbert_jing/github/NEKG_G/Final_project'"
      ]
     },
     "execution_count": 1,
     "metadata": {},
     "output_type": "execute_result"
    }
   ],
   "source": [
    "import sys\n",
    "import os\n",
    "path_father = os.path.abspath(r'..')\n",
    "path_father\n",
    "# sys.path.append(path_father)"
   ]
  },
  {
   "cell_type": "code",
   "execution_count": 2,
   "id": "fce28d96",
   "metadata": {},
   "outputs": [
    {
     "name": "stderr",
     "output_type": "stream",
     "text": [
      "2022-11-27 17:04:58.956222: I tensorflow/core/platform/cpu_feature_guard.cc:193] This TensorFlow binary is optimized with oneAPI Deep Neural Network Library (oneDNN) to use the following CPU instructions in performance-critical operations:  AVX2 FMA\n",
      "To enable them in other operations, rebuild TensorFlow with the appropriate compiler flags.\n",
      "2022-11-27 17:04:59.493678: E tensorflow/stream_executor/cuda/cuda_blas.cc:2981] Unable to register cuBLAS factory: Attempting to register factory for plugin cuBLAS when one has already been registered\n",
      "2022-11-27 17:05:00.361839: W tensorflow/stream_executor/platform/default/dso_loader.cc:64] Could not load dynamic library 'libnvinfer.so.7'; dlerror: libnvinfer.so.7: cannot open shared object file: No such file or directory; LD_LIBRARY_PATH: :/usr/local/cuda-11.8/lib64\n",
      "2022-11-27 17:05:00.361997: W tensorflow/stream_executor/platform/default/dso_loader.cc:64] Could not load dynamic library 'libnvinfer_plugin.so.7'; dlerror: libnvinfer_plugin.so.7: cannot open shared object file: No such file or directory; LD_LIBRARY_PATH: :/usr/local/cuda-11.8/lib64\n",
      "2022-11-27 17:05:00.362006: W tensorflow/compiler/tf2tensorrt/utils/py_utils.cc:38] TF-TRT Warning: Cannot dlopen some TensorRT libraries. If you would like to use Nvidia GPU with TensorRT, please make sure the missing libraries mentioned above are installed properly.\n"
     ]
    }
   ],
   "source": [
    "import pandas as pd\n",
    "import numpy as np\n",
    "import matplotlib.pyplot as plt\n",
    "import seaborn as sns\n",
    "from sklearn import metrics\n",
    "from sklearn.preprocessing import LabelEncoder,OneHotEncoder\n",
    "from keras.models import Model\n",
    "from keras.layers import LSTM, Activation, Dense, Dropout, Input, Embedding\n",
    "from keras.optimizers import RMSprop\n",
    "from keras.preprocessing.text import Tokenizer\n",
    "from keras.preprocessing import sequence\n",
    "from keras.callbacks import EarlyStopping\n",
    "from keras_preprocessing.sequence import pad_sequences\n",
    "from keras.utils.np_utils import to_categorical\n",
    "from keras.models import Sequential\n",
    "from keras.callbacks import ReduceLROnPlateau\n",
    "from keras.models import load_model\n",
    "%matplotlib inline"
   ]
  },
  {
   "cell_type": "code",
   "execution_count": 3,
   "id": "c268b59b",
   "metadata": {},
   "outputs": [],
   "source": [
    "df = pd.read_csv(path_father + \"/df_with_gcs.txt\",sep=',',header=0)"
   ]
  },
  {
   "cell_type": "code",
   "execution_count": 4,
   "id": "e9e0ee5c",
   "metadata": {},
   "outputs": [],
   "source": [
    "#划分训练测试集\n",
    "from sklearn.model_selection import train_test_split\n",
    "\n",
    "train_set, test_set = train_test_split(df, test_size=0.1, random_state=42)"
   ]
  },
  {
   "cell_type": "markdown",
   "id": "59d7c98f",
   "metadata": {},
   "source": [
    "处理词向量"
   ]
  },
  {
   "cell_type": "code",
   "execution_count": 5,
   "id": "12c63f87",
   "metadata": {},
   "outputs": [],
   "source": [
    "from gensim.models import word2vec\n",
    "import logging\n",
    "logging.basicConfig(format='%(asctime)s : %(levelname)s : %(message)s', level=logging.INFO) "
   ]
  },
  {
   "cell_type": "code",
   "execution_count": 6,
   "id": "f13dfd1d",
   "metadata": {},
   "outputs": [],
   "source": [
    "# 切分词汇\n",
    "def cut(data):\n",
    "    cut= [s.split() for s in data['TriageNote'].astype(str)]\n",
    "    return cut"
   ]
  },
  {
   "cell_type": "code",
   "execution_count": 7,
   "id": "94dd810e",
   "metadata": {},
   "outputs": [],
   "source": [
    "train_text=cut(train_set)\n",
    "test_text=cut(test_set)\n",
    "sentences=train_text+test_text"
   ]
  },
  {
   "cell_type": "code",
   "execution_count": 8,
   "id": "2b4b566b",
   "metadata": {},
   "outputs": [
    {
     "data": {
      "text/plain": [
       "57"
      ]
     },
     "execution_count": 8,
     "metadata": {},
     "output_type": "execute_result"
    }
   ],
   "source": [
    "#得到最大句子长度\n",
    "num_list=[len(one) for one in sentences]\n",
    "max(num_list)"
   ]
  },
  {
   "cell_type": "code",
   "execution_count": 9,
   "id": "25aa3ce1",
   "metadata": {},
   "outputs": [],
   "source": [
    "maxLen=64"
   ]
  },
  {
   "cell_type": "code",
   "execution_count": 10,
   "id": "cad599c7",
   "metadata": {},
   "outputs": [],
   "source": [
    "#处理label->one_hot\n",
    "from sklearn.preprocessing import LabelEncoder\n",
    "\n",
    "def encodelabel(data):\n",
    "    le = LabelEncoder()\n",
    "    resultLable=le.fit_transform(data['DISPOSITION'])\n",
    "    return resultLable\n"
   ]
  },
  {
   "cell_type": "code",
   "execution_count": 11,
   "id": "b3dcf8dc",
   "metadata": {},
   "outputs": [],
   "source": [
    "train_lable=encodelabel(train_set)\n",
    "test_lable=encodelabel(test_set)"
   ]
  },
  {
   "cell_type": "code",
   "execution_count": 12,
   "id": "1f35b5d9",
   "metadata": {},
   "outputs": [
    {
     "name": "stderr",
     "output_type": "stream",
     "text": [
      "2022-11-27 17:05:01,593 : INFO : loading Word2Vec object from ./word2vec_all.model\n",
      "2022-11-27 17:05:01,615 : INFO : loading wv recursively from ./word2vec_all.model.wv.* with mmap=None\n",
      "2022-11-27 17:05:01,616 : INFO : setting ignored attribute cum_table to None\n",
      "2022-11-27 17:05:01,708 : INFO : Word2Vec lifecycle event {'fname': './word2vec_all.model', 'datetime': '2022-11-27T17:05:01.708059', 'gensim': '4.2.0', 'python': '3.10.6 (main, Oct 24 2022, 16:07:47) [GCC 11.2.0]', 'platform': 'Linux-5.15.74.2-microsoft-standard-WSL2-x86_64-with-glibc2.35', 'event': 'loaded'}\n"
     ]
    }
   ],
   "source": [
    "wvmodel = word2vec.Word2Vec.load(\"./word2vec_all.model\")"
   ]
  },
  {
   "cell_type": "code",
   "execution_count": 13,
   "id": "9cc89146",
   "metadata": {},
   "outputs": [
    {
     "data": {
      "text/plain": [
       "array([[-0.14902796, -0.02221548, -0.03134934, ..., -0.05469702,\n",
       "        -0.03638819,  0.068659  ],\n",
       "       [-0.14894372, -0.02251353, -0.0312968 , ..., -0.05460495,\n",
       "        -0.03619844,  0.06873002],\n",
       "       [-0.14885887, -0.02281223, -0.03124472, ..., -0.05451186,\n",
       "        -0.03600864,  0.0688014 ],\n",
       "       ...,\n",
       "       [ 0.08940038,  0.03641097,  0.02620881, ..., -0.0277483 ,\n",
       "        -0.11956674, -0.13479057],\n",
       "       [ 0.08861586,  0.03830581,  0.02822701, ..., -0.02900953,\n",
       "        -0.1183624 , -0.13451274],\n",
       "       [ 0.08780971,  0.04019018,  0.03023824, ..., -0.03026404,\n",
       "        -0.11712935, -0.13420191]])"
      ]
     },
     "execution_count": 13,
     "metadata": {},
     "output_type": "execute_result"
    }
   ],
   "source": [
    "# import json\n",
    "# f = open('./embedding/RESCAL_adagrad.json')\n",
    "# nekg = json.load(f)\n",
    "nekg=np.load(path_father + \"/embedding/dice.npy\",allow_pickle=True)\n",
    "nekg"
   ]
  },
  {
   "cell_type": "code",
   "execution_count": 14,
   "id": "26830919",
   "metadata": {},
   "outputs": [],
   "source": [
    "tokenizer=Tokenizer()\n",
    "tokenizer.fit_on_texts(sentences)\n",
    "vocab = tokenizer.word_index "
   ]
  },
  {
   "cell_type": "code",
   "execution_count": 15,
   "id": "d6b9da6f",
   "metadata": {},
   "outputs": [],
   "source": [
    "#特征数字编号，不足的话会在前面补充0\n",
    "trainID = tokenizer.texts_to_sequences(train_text)\n",
    "# print(trainID)\n",
    "testID = tokenizer.texts_to_sequences(test_text)\n",
    "trainSeq=pad_sequences(trainID,maxlen=maxLen)\n",
    "#print(trainSeq)\n",
    "testSeq=pad_sequences(testID,maxlen=maxLen)\n",
    "\n",
    "#标签的独热编码\n",
    "trainCate = to_categorical(train_lable, num_classes=2)  # 将标签转换为one-hot编码\n",
    "#print(trainCate)\n",
    "testCate= to_categorical(test_lable, num_classes=2)  # 将标签转换为one-hot编码"
   ]
  },
  {
   "cell_type": "code",
   "execution_count": 16,
   "id": "cc516388",
   "metadata": {},
   "outputs": [],
   "source": [
    "def nekg_embed(n0):\n",
    "    n1=int(n0)\n",
    "    n2=int(n0)+1\n",
    "    s1=(n2-n0)/(n2-n1)\n",
    "    s2=(n0-n1)/(n2-n1)\n",
    "    return s1*nekg[n1]+s2*nekg[n2]"
   ]
  },
  {
   "cell_type": "code",
   "execution_count": 17,
   "id": "88a8378f",
   "metadata": {},
   "outputs": [],
   "source": [
    "#利用训练后的word2vec自定义Embedding的训练矩阵，每行代表一个词（结合独热码和矩阵乘法理解）\n",
    "embedding_matrix = np.zeros((len(vocab) + 1, 100))\n",
    "for word, i in vocab.items():\n",
    "    try:\n",
    "        if(word.isdigit()==False):#对word用word2vec\n",
    "            embedding_vector = wvmodel.wv[str(word)]\n",
    "        else:#对number用nekg\n",
    "            if (int(float(word))<=998):\n",
    "                embedding_vector =  nekg_embed(float(word))\n",
    "            else:\n",
    "                embedding_vector = wvmodel.wv[str(word)]\n",
    "        embedding_matrix[i] = embedding_vector    \n",
    "    except KeyError:\n",
    "        continue"
   ]
  },
  {
   "cell_type": "code",
   "execution_count": 18,
   "id": "1fa9c8f0",
   "metadata": {},
   "outputs": [
    {
     "name": "stderr",
     "output_type": "stream",
     "text": [
      "2022-11-27 17:05:02.491994: I tensorflow/stream_executor/cuda/cuda_gpu_executor.cc:966] could not open file to read NUMA node: /sys/bus/pci/devices/0000:01:00.0/numa_node\n",
      "Your kernel may have been built without NUMA support.\n",
      "2022-11-27 17:05:02.593620: W tensorflow/stream_executor/platform/default/dso_loader.cc:64] Could not load dynamic library 'libcudnn.so.8'; dlerror: libcudnn.so.8: cannot open shared object file: No such file or directory; LD_LIBRARY_PATH: :/usr/local/cuda-11.8/lib64\n",
      "2022-11-27 17:05:02.593641: W tensorflow/core/common_runtime/gpu/gpu_device.cc:1934] Cannot dlopen some GPU libraries. Please make sure the missing libraries mentioned above are installed properly if you would like to use GPU. Follow the guide at https://www.tensorflow.org/install/gpu for how to download and setup the required libraries for your platform.\n",
      "Skipping registering GPU devices...\n",
      "2022-11-27 17:05:02.594422: I tensorflow/core/platform/cpu_feature_guard.cc:193] This TensorFlow binary is optimized with oneAPI Deep Neural Network Library (oneDNN) to use the following CPU instructions in performance-critical operations:  AVX2 FMA\n",
      "To enable them in other operations, rebuild TensorFlow with the appropriate compiler flags.\n"
     ]
    },
    {
     "name": "stdout",
     "output_type": "stream",
     "text": [
      "Model: \"sequential\"\n",
      "_________________________________________________________________\n",
      " Layer (type)                Output Shape              Param #   \n",
      "=================================================================\n",
      " embedding (Embedding)       (None, 64, 100)           806300    \n",
      "                                                                 \n",
      " lstm (LSTM)                 (None, 64)                42240     \n",
      "                                                                 \n",
      " FC1 (Dense)                 (None, 64)                4160      \n",
      "                                                                 \n",
      " dropout (Dropout)           (None, 64)                0         \n",
      "                                                                 \n",
      " FC2 (Dense)                 (None, 2)                 130       \n",
      "                                                                 \n",
      "=================================================================\n",
      "Total params: 852,830\n",
      "Trainable params: 852,830\n",
      "Non-trainable params: 0\n",
      "_________________________________________________________________\n",
      "Epoch 1/30\n",
      "5/5 [==============================] - 3s 202ms/step - loss: 0.7474 - accuracy: 0.4988 - val_loss: 0.6883 - val_accuracy: 0.5260\n",
      "Epoch 2/30\n",
      "5/5 [==============================] - 0s 95ms/step - loss: 0.7132 - accuracy: 0.5394 - val_loss: 0.6685 - val_accuracy: 0.5747\n",
      "Epoch 3/30\n",
      "5/5 [==============================] - 0s 89ms/step - loss: 0.7025 - accuracy: 0.5597 - val_loss: 0.6392 - val_accuracy: 0.6169\n",
      "Epoch 4/30\n",
      "5/5 [==============================] - 0s 96ms/step - loss: 0.6470 - accuracy: 0.6288 - val_loss: 0.5682 - val_accuracy: 0.7403\n",
      "Epoch 5/30\n",
      "5/5 [==============================] - 0s 97ms/step - loss: 0.6546 - accuracy: 0.6564 - val_loss: 0.5621 - val_accuracy: 0.7403\n",
      "Epoch 6/30\n",
      "5/5 [==============================] - 0s 89ms/step - loss: 0.5556 - accuracy: 0.7311 - val_loss: 0.6468 - val_accuracy: 0.6623\n",
      "Epoch 7/30\n",
      "5/5 [==============================] - 0s 87ms/step - loss: 0.5325 - accuracy: 0.7335 - val_loss: 0.5278 - val_accuracy: 0.7727\n",
      "Epoch 8/30\n",
      "5/5 [==============================] - 0s 87ms/step - loss: 0.5486 - accuracy: 0.7368 - val_loss: 0.5439 - val_accuracy: 0.7468\n",
      "Epoch 9/30\n",
      "5/5 [==============================] - 0s 89ms/step - loss: 0.4764 - accuracy: 0.7880 - val_loss: 0.5294 - val_accuracy: 0.7630\n",
      "Epoch 10/30\n",
      "5/5 [==============================] - 0s 85ms/step - loss: 0.4371 - accuracy: 0.8148 - val_loss: 0.5586 - val_accuracy: 0.7273\n",
      "Epoch 11/30\n",
      "5/5 [==============================] - 0s 85ms/step - loss: 0.4578 - accuracy: 0.7953 - val_loss: 0.5541 - val_accuracy: 0.7565\n",
      "Epoch 12/30\n",
      "5/5 [==============================] - 0s 86ms/step - loss: 0.3939 - accuracy: 0.8432 - val_loss: 0.5639 - val_accuracy: 0.7597\n"
     ]
    },
    {
     "name": "stderr",
     "output_type": "stream",
     "text": [
      "2022-11-27 17:05:12,788 : WARNING : Found untraced functions such as lstm_cell_layer_call_fn, lstm_cell_layer_call_and_return_conditional_losses while saving (showing 2 of 2). These functions will not be directly callable after loading.\n"
     ]
    },
    {
     "name": "stdout",
     "output_type": "stream",
     "text": [
      "INFO:tensorflow:Assets written to: LSTM/assets\n"
     ]
    },
    {
     "name": "stderr",
     "output_type": "stream",
     "text": [
      "2022-11-27 17:05:13,295 : INFO : Assets written to: LSTM/assets\n"
     ]
    }
   ],
   "source": [
    "## 定义LSTM模型\n",
    "batch_size=256\n",
    "inputs = Input(name='inputs',shape=[maxLen])\n",
    "embedder = Embedding(len(vocab) + 1, 100, input_length=maxLen, weights=[embedding_matrix], trainable=True)\n",
    "model=Sequential()\n",
    "model.add(embedder)\n",
    "model.add(LSTM(64))\n",
    "model.add(Dense(64,activation=\"sigmoid\",name=\"FC1\"))\n",
    "model.add(Dropout(0.4))\n",
    "model.add(Dense(2,activation=\"softmax\",name=\"FC2\"))\n",
    "model.summary()\n",
    "model.compile(loss=\"categorical_crossentropy\",optimizer=RMSprop(),metrics=[\"accuracy\"])\n",
    "#reduce_lr = ReduceLROnPlateau(monitor='val_loss',factor=0.1 ,patience=3, mode='auto')\n",
    "history=model.fit(trainSeq, trainCate, batch_size, epochs=30,validation_split=0.2, callbacks=[EarlyStopping(monitor='val_loss',patience=5)])\n",
    "model.save(\"LSTM\")"
   ]
  },
  {
   "cell_type": "code",
   "execution_count": 19,
   "id": "f6b394d2",
   "metadata": {},
   "outputs": [
    {
     "name": "stdout",
     "output_type": "stream",
     "text": [
      "6/6 [==============================] - 0s 9ms/step\n",
      "6/6 [==============================] - 0s 9ms/step - loss: 0.6631 - accuracy: 0.6842\n",
      "[0.6630799770355225, 0.6842105388641357]\n"
     ]
    }
   ],
   "source": [
    "#预测与评估\n",
    "mainModel = load_model('LSTM')\n",
    "result = mainModel.predict(testSeq)  # 预测样本属于每个类别的概率\n",
    "score = mainModel.evaluate(testSeq,\n",
    "                           testCate,\n",
    "                           batch_size=32)\n",
    "print(score)"
   ]
  },
  {
   "cell_type": "code",
   "execution_count": 20,
   "id": "5cd82ded",
   "metadata": {},
   "outputs": [
    {
     "data": {
      "image/png": "[encoded data removed]",
      "text/plain": [
       "<Figure size 640x480 with 1 Axes>"
      ]
     },
     "metadata": {},
     "output_type": "display_data"
    },
    {
     "data": {
      "image/png": "[encoded data removed]",
      "text/plain": [
       "<Figure size 640x480 with 1 Axes>"
      ]
     },
     "metadata": {},
     "output_type": "display_data"
    }
   ],
   "source": [
    "plt.plot(history.history['accuracy'])\n",
    "plt.plot(history.history['val_accuracy'])\n",
    "plt.title('Model accuracy')\n",
    "plt.ylabel('Accuracy')\n",
    "plt.xlabel('Epoch')\n",
    "plt.legend(['Train','Valid'],loc='upper left')\n",
    "plt.show()\n",
    "\n",
    "plt.plot(history.history['loss'])\n",
    "plt.plot(history.history['val_loss'])\n",
    "plt.title('Model loss')\n",
    "plt.ylabel('Loss')\n",
    "plt.xlabel('Epoch')\n",
    "plt.legend(['Train','Valid'],loc='upper left')\n",
    "plt.show()"
   ]
  },
  {
   "cell_type": "code",
   "execution_count": 21,
   "id": "5450d945",
   "metadata": {},
   "outputs": [
    {
     "name": "stdout",
     "output_type": "stream",
     "text": [
      "Model: \"sequential_1\"\n",
      "_________________________________________________________________\n",
      " Layer (type)                Output Shape              Param #   \n",
      "=================================================================\n",
      " embedding_1 (Embedding)     (None, 64, 100)           806300    \n",
      "                                                                 \n",
      " lstm_1 (LSTM)               (None, 64)                42240     \n",
      "                                                                 \n",
      " FC1 (Dense)                 (None, 64)                4160      \n",
      "                                                                 \n",
      " dropout_1 (Dropout)         (None, 64)                0         \n",
      "                                                                 \n",
      " FC2 (Dense)                 (None, 2)                 130       \n",
      "                                                                 \n",
      "=================================================================\n",
      "Total params: 852,830\n",
      "Trainable params: 852,830\n",
      "Non-trainable params: 0\n",
      "_________________________________________________________________\n",
      "Epoch 1/30\n",
      "154/154 [==============================] - 6s 30ms/step - loss: 0.7101 - accuracy: 0.5646 - val_loss: 0.5859 - val_accuracy: 0.7403\n",
      "Epoch 2/30\n",
      "154/154 [==============================] - 5s 34ms/step - loss: 0.6153 - accuracy: 0.6905 - val_loss: 0.5446 - val_accuracy: 0.7403\n",
      "Epoch 3/30\n",
      "154/154 [==============================] - 4s 25ms/step - loss: 0.5414 - accuracy: 0.7441 - val_loss: 0.5326 - val_accuracy: 0.7662\n",
      "Epoch 4/30\n",
      "154/154 [==============================] - 4s 25ms/step - loss: 0.4514 - accuracy: 0.7937 - val_loss: 0.5542 - val_accuracy: 0.7500\n",
      "Epoch 5/30\n",
      "154/154 [==============================] - 4s 26ms/step - loss: 0.4084 - accuracy: 0.8400 - val_loss: 0.5135 - val_accuracy: 0.7500\n",
      "Epoch 6/30\n",
      "154/154 [==============================] - 4s 25ms/step - loss: 0.3254 - accuracy: 0.8708 - val_loss: 0.6901 - val_accuracy: 0.7532\n",
      "Epoch 7/30\n",
      "154/154 [==============================] - 4s 26ms/step - loss: 0.2463 - accuracy: 0.9139 - val_loss: 0.6949 - val_accuracy: 0.7403\n",
      "Epoch 8/30\n",
      "154/154 [==============================] - 4s 26ms/step - loss: 0.1931 - accuracy: 0.9277 - val_loss: 0.6219 - val_accuracy: 0.7630\n",
      "Epoch 9/30\n",
      "154/154 [==============================] - 4s 26ms/step - loss: 0.1305 - accuracy: 0.9553 - val_loss: 0.8577 - val_accuracy: 0.7695\n",
      "Epoch 10/30\n",
      "154/154 [==============================] - 4s 25ms/step - loss: 0.0769 - accuracy: 0.9740 - val_loss: 0.8437 - val_accuracy: 0.7403\n",
      "6/6 [==============================] - 0s 9ms/step\n",
      "6/6 [==============================] - 0s 9ms/step - loss: 0.8825 - accuracy: 0.7251\n",
      "Model: \"sequential_2\"\n",
      "_________________________________________________________________\n",
      " Layer (type)                Output Shape              Param #   \n",
      "=================================================================\n",
      " embedding_2 (Embedding)     (None, 64, 100)           806300    \n",
      "                                                                 \n",
      " lstm_2 (LSTM)               (None, 64)                42240     \n",
      "                                                                 \n",
      " FC1 (Dense)                 (None, 64)                4160      \n",
      "                                                                 \n",
      " dropout_2 (Dropout)         (None, 64)                0         \n",
      "                                                                 \n",
      " FC2 (Dense)                 (None, 2)                 130       \n",
      "                                                                 \n",
      "=================================================================\n",
      "Total params: 852,830\n",
      "Trainable params: 852,830\n",
      "Non-trainable params: 0\n",
      "_________________________________________________________________\n",
      "Epoch 1/30\n",
      "154/154 [==============================] - 6s 29ms/step - loss: 0.6939 - accuracy: 0.6044 - val_loss: 0.5805 - val_accuracy: 0.7143\n",
      "Epoch 2/30\n",
      "154/154 [==============================] - 4s 27ms/step - loss: 0.6014 - accuracy: 0.7019 - val_loss: 0.6148 - val_accuracy: 0.7175\n",
      "Epoch 3/30\n",
      "154/154 [==============================] - 4s 28ms/step - loss: 0.5300 - accuracy: 0.7563 - val_loss: 0.6496 - val_accuracy: 0.7078\n",
      "Epoch 4/30\n",
      "154/154 [==============================] - 4s 27ms/step - loss: 0.4656 - accuracy: 0.8099 - val_loss: 0.5318 - val_accuracy: 0.7532\n",
      "Epoch 5/30\n",
      "154/154 [==============================] - 5s 32ms/step - loss: 0.3925 - accuracy: 0.8522 - val_loss: 0.5902 - val_accuracy: 0.7240\n",
      "Epoch 6/30\n",
      "154/154 [==============================] - 5s 31ms/step - loss: 0.3232 - accuracy: 0.8822 - val_loss: 0.6917 - val_accuracy: 0.7208\n",
      "Epoch 7/30\n",
      "154/154 [==============================] - 4s 27ms/step - loss: 0.2559 - accuracy: 0.9050 - val_loss: 0.5903 - val_accuracy: 0.7792\n",
      "Epoch 8/30\n",
      "154/154 [==============================] - 4s 29ms/step - loss: 0.1879 - accuracy: 0.9342 - val_loss: 0.6906 - val_accuracy: 0.7273\n",
      "Epoch 9/30\n",
      "154/154 [==============================] - 7s 44ms/step - loss: 0.1368 - accuracy: 0.9537 - val_loss: 0.8157 - val_accuracy: 0.7662\n",
      "6/6 [==============================] - 0s 14ms/step\n",
      "6/6 [==============================] - 0s 13ms/step - loss: 0.9727 - accuracy: 0.7076\n",
      "Model: \"sequential_3\"\n",
      "_________________________________________________________________\n",
      " Layer (type)                Output Shape              Param #   \n",
      "=================================================================\n",
      " embedding_3 (Embedding)     (None, 64, 100)           806300    \n",
      "                                                                 \n",
      " lstm_3 (LSTM)               (None, 64)                42240     \n",
      "                                                                 \n",
      " FC1 (Dense)                 (None, 64)                4160      \n",
      "                                                                 \n",
      " dropout_3 (Dropout)         (None, 64)                0         \n",
      "                                                                 \n",
      " FC2 (Dense)                 (None, 2)                 130       \n",
      "                                                                 \n",
      "=================================================================\n",
      "Total params: 852,830\n",
      "Trainable params: 852,830\n",
      "Non-trainable params: 0\n",
      "_________________________________________________________________\n",
      "Epoch 1/30\n",
      "154/154 [==============================] - 7s 34ms/step - loss: 0.7149 - accuracy: 0.5825 - val_loss: 0.5884 - val_accuracy: 0.6948\n",
      "Epoch 2/30\n",
      "154/154 [==============================] - 5s 32ms/step - loss: 0.6050 - accuracy: 0.7051 - val_loss: 0.5969 - val_accuracy: 0.7110\n",
      "Epoch 3/30\n",
      "154/154 [==============================] - 5s 31ms/step - loss: 0.5219 - accuracy: 0.7734 - val_loss: 0.5690 - val_accuracy: 0.7630\n",
      "Epoch 4/30\n",
      "154/154 [==============================] - 5s 30ms/step - loss: 0.4789 - accuracy: 0.7896 - val_loss: 0.5207 - val_accuracy: 0.7695\n",
      "Epoch 5/30\n",
      "154/154 [==============================] - 5s 31ms/step - loss: 0.3944 - accuracy: 0.8286 - val_loss: 0.7971 - val_accuracy: 0.6656\n",
      "Epoch 6/30\n",
      "154/154 [==============================] - 5s 30ms/step - loss: 0.3260 - accuracy: 0.8781 - val_loss: 0.5614 - val_accuracy: 0.7435\n",
      "Epoch 7/30\n",
      "154/154 [==============================] - 5s 34ms/step - loss: 0.2521 - accuracy: 0.9033 - val_loss: 0.6337 - val_accuracy: 0.7435\n",
      "Epoch 8/30\n",
      "154/154 [==============================] - 5s 32ms/step - loss: 0.1836 - accuracy: 0.9228 - val_loss: 0.8346 - val_accuracy: 0.7532\n",
      "Epoch 9/30\n",
      "154/154 [==============================] - 5s 34ms/step - loss: 0.1127 - accuracy: 0.9618 - val_loss: 0.9056 - val_accuracy: 0.7500\n",
      "6/6 [==============================] - 0s 9ms/step\n",
      "6/6 [==============================] - 0s 10ms/step - loss: 1.0814 - accuracy: 0.7135\n",
      "Model: \"sequential_4\"\n",
      "_________________________________________________________________\n",
      " Layer (type)                Output Shape              Param #   \n",
      "=================================================================\n",
      " embedding_4 (Embedding)     (None, 64, 100)           806300    \n",
      "                                                                 \n",
      " lstm_4 (LSTM)               (None, 64)                42240     \n",
      "                                                                 \n",
      " FC1 (Dense)                 (None, 64)                4160      \n",
      "                                                                 \n",
      " dropout_4 (Dropout)         (None, 64)                0         \n",
      "                                                                 \n",
      " FC2 (Dense)                 (None, 2)                 130       \n",
      "                                                                 \n",
      "=================================================================\n",
      "Total params: 852,830\n",
      "Trainable params: 852,830\n",
      "Non-trainable params: 0\n",
      "_________________________________________________________________\n",
      "Epoch 1/30\n",
      "154/154 [==============================] - 7s 34ms/step - loss: 0.7099 - accuracy: 0.5613 - val_loss: 0.6176 - val_accuracy: 0.7045\n",
      "Epoch 2/30\n",
      "154/154 [==============================] - 4s 29ms/step - loss: 0.6057 - accuracy: 0.6937 - val_loss: 0.5325 - val_accuracy: 0.7435\n",
      "Epoch 3/30\n",
      "154/154 [==============================] - 4s 29ms/step - loss: 0.5334 - accuracy: 0.7417 - val_loss: 0.5350 - val_accuracy: 0.7532\n",
      "Epoch 4/30\n",
      "154/154 [==============================] - 5s 30ms/step - loss: 0.4573 - accuracy: 0.8026 - val_loss: 0.5462 - val_accuracy: 0.7857\n",
      "Epoch 5/30\n",
      "154/154 [==============================] - 5s 32ms/step - loss: 0.4151 - accuracy: 0.8270 - val_loss: 0.5696 - val_accuracy: 0.7630\n",
      "Epoch 6/30\n",
      "154/154 [==============================] - 5s 29ms/step - loss: 0.3517 - accuracy: 0.8587 - val_loss: 0.6119 - val_accuracy: 0.7370\n",
      "Epoch 7/30\n",
      "154/154 [==============================] - 5s 29ms/step - loss: 0.2518 - accuracy: 0.9050 - val_loss: 0.6138 - val_accuracy: 0.7597\n",
      "6/6 [==============================] - 0s 10ms/step\n",
      "6/6 [==============================] - 0s 10ms/step - loss: 0.6454 - accuracy: 0.7193\n",
      "Model: \"sequential_5\"\n",
      "_________________________________________________________________\n",
      " Layer (type)                Output Shape              Param #   \n",
      "=================================================================\n",
      " embedding_5 (Embedding)     (None, 64, 100)           806300    \n",
      "                                                                 \n",
      " lstm_5 (LSTM)               (None, 64)                42240     \n",
      "                                                                 \n",
      " FC1 (Dense)                 (None, 64)                4160      \n",
      "                                                                 \n",
      " dropout_5 (Dropout)         (None, 64)                0         \n",
      "                                                                 \n",
      " FC2 (Dense)                 (None, 2)                 130       \n",
      "                                                                 \n",
      "=================================================================\n",
      "Total params: 852,830\n",
      "Trainable params: 852,830\n",
      "Non-trainable params: 0\n",
      "_________________________________________________________________\n",
      "Epoch 1/30\n",
      "154/154 [==============================] - 7s 36ms/step - loss: 0.6950 - accuracy: 0.5938 - val_loss: 0.5654 - val_accuracy: 0.7013\n",
      "Epoch 2/30\n",
      "154/154 [==============================] - 5s 31ms/step - loss: 0.6024 - accuracy: 0.7214 - val_loss: 0.5597 - val_accuracy: 0.7305\n",
      "Epoch 3/30\n",
      "154/154 [==============================] - 5s 33ms/step - loss: 0.5280 - accuracy: 0.7595 - val_loss: 0.5427 - val_accuracy: 0.7695\n",
      "Epoch 4/30\n",
      "154/154 [==============================] - 5s 32ms/step - loss: 0.4642 - accuracy: 0.7831 - val_loss: 0.5446 - val_accuracy: 0.7273\n",
      "Epoch 5/30\n",
      "154/154 [==============================] - 5s 30ms/step - loss: 0.3965 - accuracy: 0.8302 - val_loss: 0.5721 - val_accuracy: 0.7468\n",
      "Epoch 6/30\n",
      "154/154 [==============================] - 5s 32ms/step - loss: 0.3312 - accuracy: 0.8635 - val_loss: 0.6316 - val_accuracy: 0.7597\n",
      "Epoch 7/30\n",
      "154/154 [==============================] - 5s 31ms/step - loss: 0.2544 - accuracy: 0.8993 - val_loss: 0.6910 - val_accuracy: 0.7695\n",
      "Epoch 8/30\n",
      "154/154 [==============================] - 5s 33ms/step - loss: 0.2058 - accuracy: 0.9301 - val_loss: 0.7395 - val_accuracy: 0.7403\n",
      "6/6 [==============================] - 0s 9ms/step\n",
      "6/6 [==============================] - 0s 12ms/step - loss: 0.7877 - accuracy: 0.7251\n",
      "Model: \"sequential_6\"\n",
      "_________________________________________________________________\n",
      " Layer (type)                Output Shape              Param #   \n",
      "=================================================================\n",
      " embedding_6 (Embedding)     (None, 64, 100)           806300    \n",
      "                                                                 \n",
      " lstm_6 (LSTM)               (None, 64)                42240     \n",
      "                                                                 \n",
      " FC1 (Dense)                 (None, 64)                4160      \n",
      "                                                                 \n",
      " dropout_6 (Dropout)         (None, 64)                0         \n",
      "                                                                 \n",
      " FC2 (Dense)                 (None, 2)                 130       \n",
      "                                                                 \n",
      "=================================================================\n",
      "Total params: 852,830\n",
      "Trainable params: 852,830\n",
      "Non-trainable params: 0\n",
      "_________________________________________________________________\n",
      "Epoch 1/30\n",
      "154/154 [==============================] - 6s 29ms/step - loss: 0.7298 - accuracy: 0.5784 - val_loss: 0.5519 - val_accuracy: 0.7532\n",
      "Epoch 2/30\n",
      "154/154 [==============================] - 5s 30ms/step - loss: 0.6265 - accuracy: 0.6767 - val_loss: 0.5772 - val_accuracy: 0.7175\n",
      "Epoch 3/30\n",
      "154/154 [==============================] - 4s 28ms/step - loss: 0.5418 - accuracy: 0.7474 - val_loss: 0.5557 - val_accuracy: 0.7143\n",
      "Epoch 4/30\n",
      "154/154 [==============================] - 4s 28ms/step - loss: 0.4784 - accuracy: 0.7815 - val_loss: 0.5397 - val_accuracy: 0.7597\n",
      "Epoch 5/30\n",
      "154/154 [==============================] - 4s 28ms/step - loss: 0.4053 - accuracy: 0.8318 - val_loss: 0.5624 - val_accuracy: 0.7630\n",
      "Epoch 6/30\n",
      "154/154 [==============================] - 5s 30ms/step - loss: 0.3439 - accuracy: 0.8708 - val_loss: 0.5597 - val_accuracy: 0.7662\n",
      "Epoch 7/30\n",
      "154/154 [==============================] - 5s 33ms/step - loss: 0.2612 - accuracy: 0.9009 - val_loss: 0.5675 - val_accuracy: 0.7792\n",
      "Epoch 8/30\n",
      "154/154 [==============================] - 5s 32ms/step - loss: 0.2043 - accuracy: 0.9253 - val_loss: 0.7010 - val_accuracy: 0.7695\n",
      "Epoch 9/30\n",
      "154/154 [==============================] - 5s 31ms/step - loss: 0.1404 - accuracy: 0.9561 - val_loss: 0.6977 - val_accuracy: 0.7500\n",
      "6/6 [==============================] - 0s 10ms/step\n",
      "6/6 [==============================] - 0s 9ms/step - loss: 0.6860 - accuracy: 0.7251\n",
      "Model: \"sequential_7\"\n",
      "_________________________________________________________________\n",
      " Layer (type)                Output Shape              Param #   \n",
      "=================================================================\n",
      " embedding_7 (Embedding)     (None, 64, 100)           806300    \n",
      "                                                                 \n",
      " lstm_7 (LSTM)               (None, 64)                42240     \n",
      "                                                                 \n",
      " FC1 (Dense)                 (None, 64)                4160      \n",
      "                                                                 \n",
      " dropout_7 (Dropout)         (None, 64)                0         \n",
      "                                                                 \n",
      " FC2 (Dense)                 (None, 2)                 130       \n",
      "                                                                 \n",
      "=================================================================\n",
      "Total params: 852,830\n",
      "Trainable params: 852,830\n",
      "Non-trainable params: 0\n",
      "_________________________________________________________________\n",
      "Epoch 1/30\n",
      "154/154 [==============================] - 6s 31ms/step - loss: 0.7108 - accuracy: 0.5686 - val_loss: 0.6692 - val_accuracy: 0.5584\n",
      "Epoch 2/30\n",
      "154/154 [==============================] - 5s 35ms/step - loss: 0.5932 - accuracy: 0.6937 - val_loss: 0.5445 - val_accuracy: 0.7500\n",
      "Epoch 3/30\n",
      "154/154 [==============================] - 5s 32ms/step - loss: 0.5272 - accuracy: 0.7555 - val_loss: 0.5335 - val_accuracy: 0.7468\n",
      "Epoch 4/30\n",
      "154/154 [==============================] - 6s 38ms/step - loss: 0.4709 - accuracy: 0.7880 - val_loss: 0.5405 - val_accuracy: 0.7695\n",
      "Epoch 5/30\n",
      "154/154 [==============================] - 8s 50ms/step - loss: 0.4043 - accuracy: 0.8424 - val_loss: 0.5220 - val_accuracy: 0.7695\n",
      "Epoch 6/30\n",
      "154/154 [==============================] - 6s 39ms/step - loss: 0.3378 - accuracy: 0.8765 - val_loss: 0.5367 - val_accuracy: 0.7760\n",
      "Epoch 7/30\n",
      "154/154 [==============================] - 5s 32ms/step - loss: 0.2683 - accuracy: 0.9041 - val_loss: 0.5965 - val_accuracy: 0.7597\n",
      "Epoch 8/30\n",
      "154/154 [==============================] - 5s 35ms/step - loss: 0.2030 - accuracy: 0.9253 - val_loss: 0.6968 - val_accuracy: 0.7695\n",
      "Epoch 9/30\n",
      "154/154 [==============================] - 5s 33ms/step - loss: 0.1564 - accuracy: 0.9480 - val_loss: 0.7763 - val_accuracy: 0.7565\n",
      "Epoch 10/30\n",
      "154/154 [==============================] - 6s 36ms/step - loss: 0.1024 - accuracy: 0.9675 - val_loss: 0.8960 - val_accuracy: 0.7630\n",
      "6/6 [==============================] - 0s 10ms/step\n",
      "6/6 [==============================] - 0s 8ms/step - loss: 1.1858 - accuracy: 0.6608\n",
      "Model: \"sequential_8\"\n",
      "_________________________________________________________________\n",
      " Layer (type)                Output Shape              Param #   \n",
      "=================================================================\n",
      " embedding_8 (Embedding)     (None, 64, 100)           806300    \n",
      "                                                                 \n",
      " lstm_8 (LSTM)               (None, 64)                42240     \n",
      "                                                                 \n",
      " FC1 (Dense)                 (None, 64)                4160      \n",
      "                                                                 \n",
      " dropout_8 (Dropout)         (None, 64)                0         \n",
      "                                                                 \n",
      " FC2 (Dense)                 (None, 2)                 130       \n",
      "                                                                 \n",
      "=================================================================\n",
      "Total params: 852,830\n",
      "Trainable params: 852,830\n",
      "Non-trainable params: 0\n",
      "_________________________________________________________________\n",
      "Epoch 1/30\n",
      "154/154 [==============================] - 7s 32ms/step - loss: 0.7015 - accuracy: 0.5938 - val_loss: 0.5885 - val_accuracy: 0.7045\n",
      "Epoch 2/30\n",
      "154/154 [==============================] - 5s 30ms/step - loss: 0.6195 - accuracy: 0.6897 - val_loss: 0.5398 - val_accuracy: 0.7240\n",
      "Epoch 3/30\n",
      "154/154 [==============================] - 5s 32ms/step - loss: 0.5413 - accuracy: 0.7441 - val_loss: 0.5262 - val_accuracy: 0.7727\n",
      "Epoch 4/30\n",
      "154/154 [==============================] - 5s 33ms/step - loss: 0.4521 - accuracy: 0.8002 - val_loss: 0.5561 - val_accuracy: 0.7630\n",
      "Epoch 5/30\n",
      "154/154 [==============================] - 5s 34ms/step - loss: 0.4100 - accuracy: 0.8213 - val_loss: 0.5400 - val_accuracy: 0.7760\n",
      "Epoch 6/30\n",
      "154/154 [==============================] - 5s 31ms/step - loss: 0.3033 - accuracy: 0.8830 - val_loss: 0.6929 - val_accuracy: 0.7630\n",
      "Epoch 7/30\n",
      "154/154 [==============================] - 5s 32ms/step - loss: 0.2666 - accuracy: 0.8936 - val_loss: 0.6587 - val_accuracy: 0.7208\n",
      "Epoch 8/30\n",
      "154/154 [==============================] - 5s 32ms/step - loss: 0.1864 - accuracy: 0.9358 - val_loss: 0.7989 - val_accuracy: 0.7630\n",
      "6/6 [==============================] - 0s 16ms/step\n",
      "6/6 [==============================] - 0s 9ms/step - loss: 0.8757 - accuracy: 0.7485\n",
      "Model: \"sequential_9\"\n",
      "_________________________________________________________________\n",
      " Layer (type)                Output Shape              Param #   \n",
      "=================================================================\n",
      " embedding_9 (Embedding)     (None, 64, 100)           806300    \n",
      "                                                                 \n",
      " lstm_9 (LSTM)               (None, 64)                42240     \n",
      "                                                                 \n",
      " FC1 (Dense)                 (None, 64)                4160      \n",
      "                                                                 \n",
      " dropout_9 (Dropout)         (None, 64)                0         \n",
      "                                                                 \n",
      " FC2 (Dense)                 (None, 2)                 130       \n",
      "                                                                 \n",
      "=================================================================\n",
      "Total params: 852,830\n",
      "Trainable params: 852,830\n",
      "Non-trainable params: 0\n",
      "_________________________________________________________________\n",
      "Epoch 1/30\n",
      "154/154 [==============================] - 7s 32ms/step - loss: 0.7387 - accuracy: 0.5370 - val_loss: 0.5978 - val_accuracy: 0.6818\n",
      "Epoch 2/30\n",
      "154/154 [==============================] - 5s 30ms/step - loss: 0.6354 - accuracy: 0.6832 - val_loss: 0.6075 - val_accuracy: 0.6623\n",
      "Epoch 3/30\n",
      "154/154 [==============================] - 5s 32ms/step - loss: 0.5604 - accuracy: 0.7246 - val_loss: 0.5512 - val_accuracy: 0.7045\n",
      "Epoch 4/30\n",
      "154/154 [==============================] - 5s 31ms/step - loss: 0.4829 - accuracy: 0.7725 - val_loss: 0.5216 - val_accuracy: 0.7662\n",
      "Epoch 5/30\n",
      "154/154 [==============================] - 6s 37ms/step - loss: 0.4338 - accuracy: 0.8197 - val_loss: 0.5930 - val_accuracy: 0.7045\n",
      "Epoch 6/30\n",
      "154/154 [==============================] - 5s 35ms/step - loss: 0.3508 - accuracy: 0.8587 - val_loss: 0.6792 - val_accuracy: 0.7110\n",
      "Epoch 7/30\n",
      "154/154 [==============================] - 5s 32ms/step - loss: 0.2592 - accuracy: 0.9041 - val_loss: 0.6415 - val_accuracy: 0.7532\n",
      "Epoch 8/30\n",
      "154/154 [==============================] - 5s 31ms/step - loss: 0.2005 - accuracy: 0.9350 - val_loss: 0.7156 - val_accuracy: 0.7662\n",
      "Epoch 9/30\n",
      "154/154 [==============================] - 5s 32ms/step - loss: 0.1380 - accuracy: 0.9448 - val_loss: 0.7292 - val_accuracy: 0.7565\n",
      "6/6 [==============================] - 0s 10ms/step\n",
      "6/6 [==============================] - 0s 7ms/step - loss: 0.8765 - accuracy: 0.7076\n",
      "Model: \"sequential_10\"\n",
      "_________________________________________________________________\n",
      " Layer (type)                Output Shape              Param #   \n",
      "=================================================================\n",
      " embedding_10 (Embedding)    (None, 64, 100)           806300    \n",
      "                                                                 \n",
      " lstm_10 (LSTM)              (None, 64)                42240     \n",
      "                                                                 \n",
      " FC1 (Dense)                 (None, 64)                4160      \n",
      "                                                                 \n",
      " dropout_10 (Dropout)        (None, 64)                0         \n",
      "                                                                 \n",
      " FC2 (Dense)                 (None, 2)                 130       \n",
      "                                                                 \n",
      "=================================================================\n",
      "Total params: 852,830\n",
      "Trainable params: 852,830\n",
      "Non-trainable params: 0\n",
      "_________________________________________________________________\n",
      "Epoch 1/30\n",
      "154/154 [==============================] - 7s 33ms/step - loss: 0.7243 - accuracy: 0.5370 - val_loss: 0.6219 - val_accuracy: 0.6526\n",
      "Epoch 2/30\n",
      "154/154 [==============================] - 5s 32ms/step - loss: 0.6074 - accuracy: 0.6970 - val_loss: 0.6013 - val_accuracy: 0.6591\n",
      "Epoch 3/30\n",
      "154/154 [==============================] - 5s 34ms/step - loss: 0.5397 - accuracy: 0.7441 - val_loss: 0.5627 - val_accuracy: 0.7370\n",
      "Epoch 4/30\n",
      "154/154 [==============================] - 5s 30ms/step - loss: 0.4644 - accuracy: 0.7855 - val_loss: 0.5450 - val_accuracy: 0.7695\n",
      "Epoch 5/30\n",
      "154/154 [==============================] - 5s 29ms/step - loss: 0.4041 - accuracy: 0.8343 - val_loss: 0.5095 - val_accuracy: 0.7597\n",
      "Epoch 6/30\n",
      "154/154 [==============================] - 5s 34ms/step - loss: 0.3267 - accuracy: 0.8627 - val_loss: 0.7034 - val_accuracy: 0.7013\n",
      "Epoch 7/30\n",
      "154/154 [==============================] - 5s 31ms/step - loss: 0.2760 - accuracy: 0.8895 - val_loss: 0.5673 - val_accuracy: 0.7597\n",
      "Epoch 8/30\n",
      "154/154 [==============================] - 5s 32ms/step - loss: 0.1956 - accuracy: 0.9293 - val_loss: 0.7042 - val_accuracy: 0.7208\n",
      "Epoch 9/30\n",
      "154/154 [==============================] - 5s 33ms/step - loss: 0.1386 - accuracy: 0.9496 - val_loss: 0.7224 - val_accuracy: 0.7695\n",
      "Epoch 10/30\n",
      "154/154 [==============================] - 5s 30ms/step - loss: 0.0975 - accuracy: 0.9651 - val_loss: 0.7679 - val_accuracy: 0.7565\n",
      "6/6 [==============================] - 0s 11ms/step\n",
      "6/6 [==============================] - 0s 9ms/step - loss: 0.8767 - accuracy: 0.6842\n"
     ]
    }
   ],
   "source": [
    "score_list=[]\n",
    "for i in range(10):\n",
    "    ## 定义LSTM模型\n",
    "    batch_size=8\n",
    "    inputs = Input(name='inputs',shape=[maxLen])\n",
    "    embedder = Embedding(len(vocab) + 1, 100, input_length=maxLen, weights=[embedding_matrix], trainable=True)\n",
    "    model=Sequential()\n",
    "    model.add(embedder)\n",
    "    model.add(LSTM(64))\n",
    "    model.add(Dense(64,activation=\"sigmoid\",name=\"FC1\"))\n",
    "    model.add(Dropout(0.4,seed=12))\n",
    "    model.add(Dense(2,activation=\"softmax\",name=\"FC2\"))\n",
    "    model.summary()\n",
    "    model.compile(loss=\"categorical_crossentropy\",optimizer=RMSprop(),metrics=[\"accuracy\"])\n",
    "    #reduce_lr = ReduceLROnPlateau(monitor='val_loss',factor=0.1 ,patience=3, mode='auto')\n",
    "    history=model.fit(trainSeq, trainCate, batch_size, epochs=30,validation_split=0.2, callbacks=[EarlyStopping(monitor='val_loss',patience=5)])\n",
    "    result = model.predict(testSeq)  # 预测样本属于每个类别的概率\n",
    "    score = model.evaluate(testSeq,\n",
    "                               testCate,\n",
    "                               batch_size=32)\n",
    "    score_list.append(score[1])"
   ]
  },
  {
   "cell_type": "code",
   "execution_count": 22,
   "id": "7a7fbe16",
   "metadata": {},
   "outputs": [
    {
     "name": "stdout",
     "output_type": "stream",
     "text": [
      "accuracy:0.7116958975791932\n"
     ]
    }
   ],
   "source": [
    "print('accuracy:'+str(sum(score_list)/len(score_list)))"
   ]
  },
  {
   "cell_type": "code",
   "execution_count": 23,
   "id": "c717fe6f",
   "metadata": {},
   "outputs": [],
   "source": [
    "score_list.sort()"
   ]
  },
  {
   "cell_type": "code",
   "execution_count": 24,
   "id": "205e3cfa",
   "metadata": {},
   "outputs": [
    {
     "data": {
      "text/plain": [
       "[0.6608186960220337,\n",
       " 0.6842105388641357,\n",
       " 0.707602322101593,\n",
       " 0.707602322101593,\n",
       " 0.7134503126144409,\n",
       " 0.719298243522644,\n",
       " 0.7251461744308472,\n",
       " 0.7251461744308472,\n",
       " 0.7251461744308472,\n",
       " 0.7485380172729492]"
      ]
     },
     "execution_count": 24,
     "metadata": {},
     "output_type": "execute_result"
    }
   ],
   "source": [
    "score_list"
   ]
  },
  {
   "cell_type": "code",
   "execution_count": 25,
   "id": "6e34da9a",
   "metadata": {},
   "outputs": [
    {
     "data": {
      "text/plain": [
       "0.7173489199744331"
      ]
     },
     "execution_count": 25,
     "metadata": {},
     "output_type": "execute_result"
    }
   ],
   "source": [
    "sum(score_list[1:])/9"
   ]
  }
 ],
 "metadata": {
  "kernelspec": {
   "display_name": "Python 3.10.6 ('4222G18_backup')",
   "language": "python",
   "name": "python3"
  },
  "language_info": {
   "codemirror_mode": {
    "name": "ipython",
    "version": 3
   },
   "file_extension": ".py",
   "mimetype": "text/x-python",
   "name": "python",
   "nbconvert_exporter": "python",
   "pygments_lexer": "ipython3",
   "version": "3.10.6"
  },
  "vscode": {
   "interpreter": {
    "hash": "64fb50f4500008f9f404f170e716523d28225753a93c94be3d36e645dbfada09"
   }
  }
 },
 "nbformat": 4,
 "nbformat_minor": 5
}
