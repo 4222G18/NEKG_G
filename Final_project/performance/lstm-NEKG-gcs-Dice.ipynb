{
 "cells": [
  {
   "cell_type": "code",
   "execution_count": 1,
   "id": "43d5eb91",
   "metadata": {},
   "outputs": [
    {
     "data": {
      "text/plain": [
       "'/home/egbert_jing/github/NEKG_G/Final_project'"
      ]
     },
     "execution_count": 1,
     "metadata": {},
     "output_type": "execute_result"
    }
   ],
   "source": [
    "import sys\n",
    "import os\n",
    "path_father = os.path.abspath(r'..')\n",
    "path_father\n",
    "# sys.path.append(path_father)"
   ]
  },
  {
   "cell_type": "code",
   "execution_count": 2,
   "id": "fce28d96",
   "metadata": {},
   "outputs": [
    {
     "name": "stderr",
     "output_type": "stream",
     "text": [
      "2022-11-10 21:52:24.671731: I tensorflow/core/platform/cpu_feature_guard.cc:193] This TensorFlow binary is optimized with oneAPI Deep Neural Network Library (oneDNN) to use the following CPU instructions in performance-critical operations:  AVX2 FMA\n",
      "To enable them in other operations, rebuild TensorFlow with the appropriate compiler flags.\n",
      "2022-11-10 21:52:25.758145: E tensorflow/stream_executor/cuda/cuda_blas.cc:2981] Unable to register cuBLAS factory: Attempting to register factory for plugin cuBLAS when one has already been registered\n",
      "2022-11-10 21:52:29.618371: W tensorflow/stream_executor/platform/default/dso_loader.cc:64] Could not load dynamic library 'libnvinfer.so.7'; dlerror: libnvinfer.so.7: cannot open shared object file: No such file or directory; LD_LIBRARY_PATH: :/usr/local/cuda-11.8/lib64\n",
      "2022-11-10 21:52:29.638305: W tensorflow/stream_executor/platform/default/dso_loader.cc:64] Could not load dynamic library 'libnvinfer_plugin.so.7'; dlerror: libnvinfer_plugin.so.7: cannot open shared object file: No such file or directory; LD_LIBRARY_PATH: :/usr/local/cuda-11.8/lib64\n",
      "2022-11-10 21:52:29.638482: W tensorflow/compiler/tf2tensorrt/utils/py_utils.cc:38] TF-TRT Warning: Cannot dlopen some TensorRT libraries. If you would like to use Nvidia GPU with TensorRT, please make sure the missing libraries mentioned above are installed properly.\n"
     ]
    }
   ],
   "source": [
    "import pandas as pd\n",
    "import numpy as np\n",
    "import matplotlib.pyplot as plt\n",
    "import seaborn as sns\n",
    "from sklearn import metrics\n",
    "from sklearn.preprocessing import LabelEncoder,OneHotEncoder\n",
    "from keras.models import Model\n",
    "from keras.layers import LSTM, Activation, Dense, Dropout, Input, Embedding\n",
    "from keras.optimizers import RMSprop\n",
    "from keras.preprocessing.text import Tokenizer\n",
    "from keras.preprocessing import sequence\n",
    "from keras.callbacks import EarlyStopping\n",
    "from keras_preprocessing.sequence import pad_sequences\n",
    "from keras.utils.np_utils import to_categorical\n",
    "from keras.models import Sequential\n",
    "from keras.callbacks import ReduceLROnPlateau\n",
    "from keras.models import load_model\n",
    "%matplotlib inline"
   ]
  },
  {
   "cell_type": "code",
   "execution_count": 3,
   "id": "c268b59b",
   "metadata": {},
   "outputs": [],
   "source": [
    "df = pd.read_csv(path_father + \"/df_with_gcs.txt\",sep=',',header=0)"
   ]
  },
  {
   "cell_type": "code",
   "execution_count": 4,
   "id": "e9e0ee5c",
   "metadata": {},
   "outputs": [],
   "source": [
    "#划分训练测试集\n",
    "from sklearn.model_selection import train_test_split\n",
    "\n",
    "train_set, test_set = train_test_split(df, test_size=0.1, random_state=42)"
   ]
  },
  {
   "cell_type": "markdown",
   "id": "59d7c98f",
   "metadata": {},
   "source": [
    "处理词向量"
   ]
  },
  {
   "cell_type": "code",
   "execution_count": 5,
   "id": "12c63f87",
   "metadata": {},
   "outputs": [],
   "source": [
    "from gensim.models import word2vec\n",
    "import logging\n",
    "logging.basicConfig(format='%(asctime)s : %(levelname)s : %(message)s', level=logging.INFO) "
   ]
  },
  {
   "cell_type": "code",
   "execution_count": 6,
   "id": "f13dfd1d",
   "metadata": {},
   "outputs": [],
   "source": [
    "# 切分词汇\n",
    "def cut(data):\n",
    "    cut= [s.split() for s in data['TriageNote'].astype(str)]\n",
    "    return cut"
   ]
  },
  {
   "cell_type": "code",
   "execution_count": 7,
   "id": "94dd810e",
   "metadata": {},
   "outputs": [],
   "source": [
    "train_text=cut(train_set)\n",
    "test_text=cut(test_set)\n",
    "sentences=train_text+test_text"
   ]
  },
  {
   "cell_type": "code",
   "execution_count": 8,
   "id": "2b4b566b",
   "metadata": {},
   "outputs": [
    {
     "data": {
      "text/plain": [
       "57"
      ]
     },
     "execution_count": 8,
     "metadata": {},
     "output_type": "execute_result"
    }
   ],
   "source": [
    "#得到最大句子长度\n",
    "num_list=[len(one) for one in sentences]\n",
    "max(num_list)"
   ]
  },
  {
   "cell_type": "code",
   "execution_count": 9,
   "id": "25aa3ce1",
   "metadata": {},
   "outputs": [],
   "source": [
    "maxLen=64"
   ]
  },
  {
   "cell_type": "code",
   "execution_count": 10,
   "id": "cad599c7",
   "metadata": {},
   "outputs": [],
   "source": [
    "#处理label->one_hot\n",
    "from sklearn.preprocessing import LabelEncoder\n",
    "\n",
    "def encodelabel(data):\n",
    "    le = LabelEncoder()\n",
    "    resultLable=le.fit_transform(data['DISPOSITION'])\n",
    "    return resultLable\n"
   ]
  },
  {
   "cell_type": "code",
   "execution_count": 11,
   "id": "b3dcf8dc",
   "metadata": {},
   "outputs": [],
   "source": [
    "train_lable=encodelabel(train_set)\n",
    "test_lable=encodelabel(test_set)"
   ]
  },
  {
   "cell_type": "code",
   "execution_count": 12,
   "id": "1f35b5d9",
   "metadata": {},
   "outputs": [
    {
     "name": "stderr",
     "output_type": "stream",
     "text": [
      "2022-11-10 21:52:48,228 : INFO : loading Word2Vec object from ./word2vec_all.model\n",
      "2022-11-10 21:52:48,318 : INFO : loading wv recursively from ./word2vec_all.model.wv.* with mmap=None\n",
      "2022-11-10 21:52:48,319 : INFO : setting ignored attribute cum_table to None\n",
      "2022-11-10 21:52:48,572 : INFO : Word2Vec lifecycle event {'fname': './word2vec_all.model', 'datetime': '2022-11-10T21:52:48.572405', 'gensim': '4.2.0', 'python': '3.10.6 (main, Oct 24 2022, 16:07:47) [GCC 11.2.0]', 'platform': 'Linux-5.15.68.1-microsoft-standard-WSL2-x86_64-with-glibc2.35', 'event': 'loaded'}\n"
     ]
    }
   ],
   "source": [
    "wvmodel = word2vec.Word2Vec.load(\"./word2vec_all.model\")"
   ]
  },
  {
   "cell_type": "code",
   "execution_count": 13,
   "id": "9cc89146",
   "metadata": {},
   "outputs": [
    {
     "data": {
      "text/plain": [
       "array([[-0.14902796, -0.02221548, -0.03134934, ..., -0.05469702,\n",
       "        -0.03638819,  0.068659  ],\n",
       "       [-0.14894372, -0.02251353, -0.0312968 , ..., -0.05460495,\n",
       "        -0.03619844,  0.06873002],\n",
       "       [-0.14885887, -0.02281223, -0.03124472, ..., -0.05451186,\n",
       "        -0.03600864,  0.0688014 ],\n",
       "       ...,\n",
       "       [ 0.08940038,  0.03641097,  0.02620881, ..., -0.0277483 ,\n",
       "        -0.11956674, -0.13479057],\n",
       "       [ 0.08861586,  0.03830581,  0.02822701, ..., -0.02900953,\n",
       "        -0.1183624 , -0.13451274],\n",
       "       [ 0.08780971,  0.04019018,  0.03023824, ..., -0.03026404,\n",
       "        -0.11712935, -0.13420191]])"
      ]
     },
     "execution_count": 13,
     "metadata": {},
     "output_type": "execute_result"
    }
   ],
   "source": [
    "# import json\n",
    "# f = open('./embedding/RESCAL_adagrad.json')\n",
    "# nekg = json.load(f)\n",
    "nekg=np.load(path_father + \"/embedding/dice.npy\")\n",
    "nekg"
   ]
  },
  {
   "cell_type": "code",
   "execution_count": 14,
   "id": "26830919",
   "metadata": {},
   "outputs": [],
   "source": [
    "tokenizer=Tokenizer()\n",
    "tokenizer.fit_on_texts(sentences)\n",
    "vocab = tokenizer.word_index "
   ]
  },
  {
   "cell_type": "code",
   "execution_count": 15,
   "id": "d6b9da6f",
   "metadata": {},
   "outputs": [],
   "source": [
    "#特征数字编号，不足的话会在前面补充0\n",
    "trainID = tokenizer.texts_to_sequences(train_text)\n",
    "# print(trainID)\n",
    "testID = tokenizer.texts_to_sequences(test_text)\n",
    "trainSeq=pad_sequences(trainID,maxlen=maxLen)\n",
    "#print(trainSeq)\n",
    "testSeq=pad_sequences(testID,maxlen=maxLen)\n",
    "\n",
    "#标签的独热编码\n",
    "trainCate = to_categorical(train_lable, num_classes=2)  # 将标签转换为one-hot编码\n",
    "#print(trainCate)\n",
    "testCate= to_categorical(test_lable, num_classes=2)  # 将标签转换为one-hot编码"
   ]
  },
  {
   "cell_type": "code",
   "execution_count": 16,
   "id": "cc516388",
   "metadata": {},
   "outputs": [],
   "source": [
    "def nekg_embed(n0):\n",
    "    n1=int(n0)\n",
    "    n2=int(n0)+1\n",
    "    s1=(n2-n0)/(n2-n1)\n",
    "    s2=(n0-n1)/(n2-n1)\n",
    "    return s1*nekg[n1]+s2*nekg[n2]"
   ]
  },
  {
   "cell_type": "code",
   "execution_count": 17,
   "id": "88a8378f",
   "metadata": {},
   "outputs": [],
   "source": [
    "#利用训练后的word2vec自定义Embedding的训练矩阵，每行代表一个词（结合独热码和矩阵乘法理解）\n",
    "embedding_matrix = np.zeros((len(vocab) + 1, 100))\n",
    "for word, i in vocab.items():\n",
    "    try:\n",
    "        if(word.isdigit()==False):#对word用word2vec\n",
    "            embedding_vector = wvmodel.wv[str(word)]\n",
    "        else:#对number用nekg\n",
    "            if (int(float(word))<=998):\n",
    "                embedding_vector =  nekg_embed(float(word))\n",
    "            else:\n",
    "                embedding_vector = wvmodel.wv[str(word)]\n",
    "        embedding_matrix[i] = embedding_vector    \n",
    "    except KeyError:\n",
    "        continue"
   ]
  },
  {
   "cell_type": "code",
   "execution_count": 18,
   "id": "1fa9c8f0",
   "metadata": {},
   "outputs": [
    {
     "name": "stderr",
     "output_type": "stream",
     "text": [
      "2022-11-10 21:52:50.472459: I tensorflow/stream_executor/cuda/cuda_gpu_executor.cc:966] could not open file to read NUMA node: /sys/bus/pci/devices/0000:01:00.0/numa_node\n",
      "Your kernel may have been built without NUMA support.\n",
      "2022-11-10 21:52:50.936942: W tensorflow/stream_executor/platform/default/dso_loader.cc:64] Could not load dynamic library 'libcudnn.so.8'; dlerror: libcudnn.so.8: cannot open shared object file: No such file or directory; LD_LIBRARY_PATH: :/usr/local/cuda-11.8/lib64\n",
      "2022-11-10 21:52:50.936993: W tensorflow/core/common_runtime/gpu/gpu_device.cc:1934] Cannot dlopen some GPU libraries. Please make sure the missing libraries mentioned above are installed properly if you would like to use GPU. Follow the guide at https://www.tensorflow.org/install/gpu for how to download and setup the required libraries for your platform.\n",
      "Skipping registering GPU devices...\n",
      "2022-11-10 21:52:50.938734: I tensorflow/core/platform/cpu_feature_guard.cc:193] This TensorFlow binary is optimized with oneAPI Deep Neural Network Library (oneDNN) to use the following CPU instructions in performance-critical operations:  AVX2 FMA\n",
      "To enable them in other operations, rebuild TensorFlow with the appropriate compiler flags.\n"
     ]
    },
    {
     "name": "stdout",
     "output_type": "stream",
     "text": [
      "Model: \"sequential\"\n",
      "_________________________________________________________________\n",
      " Layer (type)                Output Shape              Param #   \n",
      "=================================================================\n",
      " embedding (Embedding)       (None, 64, 100)           806300    \n",
      "                                                                 \n",
      " lstm (LSTM)                 (None, 64)                42240     \n",
      "                                                                 \n",
      " FC1 (Dense)                 (None, 64)                4160      \n",
      "                                                                 \n",
      " dropout (Dropout)           (None, 64)                0         \n",
      "                                                                 \n",
      " FC2 (Dense)                 (None, 2)                 130       \n",
      "                                                                 \n",
      "=================================================================\n",
      "Total params: 852,830\n",
      "Trainable params: 852,830\n",
      "Non-trainable params: 0\n",
      "_________________________________________________________________\n",
      "Epoch 1/30\n",
      "154/154 [==============================] - 30s 80ms/step - loss: 0.6895 - accuracy: 0.5922 - val_loss: 0.5600 - val_accuracy: 0.7338\n",
      "Epoch 2/30\n",
      "154/154 [==============================] - 10s 66ms/step - loss: 0.6036 - accuracy: 0.6897 - val_loss: 0.5336 - val_accuracy: 0.7370\n",
      "Epoch 3/30\n",
      "154/154 [==============================] - 10s 63ms/step - loss: 0.5293 - accuracy: 0.7628 - val_loss: 0.5224 - val_accuracy: 0.7695\n",
      "Epoch 4/30\n",
      "154/154 [==============================] - 10s 62ms/step - loss: 0.4567 - accuracy: 0.8042 - val_loss: 0.5986 - val_accuracy: 0.6981\n",
      "Epoch 5/30\n",
      "154/154 [==============================] - 10s 62ms/step - loss: 0.3864 - accuracy: 0.8432 - val_loss: 0.5728 - val_accuracy: 0.7695\n",
      "Epoch 6/30\n",
      "154/154 [==============================] - 10s 62ms/step - loss: 0.2950 - accuracy: 0.8855 - val_loss: 0.6872 - val_accuracy: 0.7532\n",
      "Epoch 7/30\n",
      "154/154 [==============================] - 10s 68ms/step - loss: 0.2576 - accuracy: 0.9025 - val_loss: 0.6845 - val_accuracy: 0.7175\n",
      "Epoch 8/30\n",
      "154/154 [==============================] - 10s 68ms/step - loss: 0.1720 - accuracy: 0.9407 - val_loss: 0.9502 - val_accuracy: 0.6851\n"
     ]
    },
    {
     "name": "stderr",
     "output_type": "stream",
     "text": [
      "2022-11-10 21:55:37,815 : WARNING : Found untraced functions such as lstm_cell_layer_call_fn, lstm_cell_layer_call_and_return_conditional_losses while saving (showing 2 of 2). These functions will not be directly callable after loading.\n"
     ]
    },
    {
     "name": "stdout",
     "output_type": "stream",
     "text": [
      "INFO:tensorflow:Assets written to: LSTM/assets\n"
     ]
    },
    {
     "name": "stderr",
     "output_type": "stream",
     "text": [
      "2022-11-10 21:55:39,002 : INFO : Assets written to: LSTM/assets\n"
     ]
    }
   ],
   "source": [
    "## 定义LSTM模型\n",
    "batch_size = 8\n",
    "inputs = Input(name='inputs',shape=[maxLen])\n",
    "embedder = Embedding(len(vocab) + 1, 100, input_length=maxLen, weights=[embedding_matrix], trainable=True)\n",
    "model=Sequential()\n",
    "model.add(embedder)\n",
    "model.add(LSTM(64))\n",
    "model.add(Dense(64,activation=\"sigmoid\",name=\"FC1\"))\n",
    "model.add(Dropout(0.4))\n",
    "model.add(Dense(2,activation=\"softmax\",name=\"FC2\"))\n",
    "model.summary()\n",
    "model.compile(loss=\"categorical_crossentropy\",optimizer=RMSprop(),metrics=[\"accuracy\"])\n",
    "#reduce_lr = ReduceLROnPlateau(monitor='val_loss',factor=0.1 ,patience=3, mode='auto')\n",
    "history=model.fit(trainSeq, trainCate, batch_size, epochs=30,validation_split=0.2, callbacks=[EarlyStopping(monitor='val_loss',patience=5)])\n",
    "model.save(\"LSTM\")"
   ]
  },
  {
   "cell_type": "code",
   "execution_count": 19,
   "id": "f6b394d2",
   "metadata": {},
   "outputs": [
    {
     "name": "stdout",
     "output_type": "stream",
     "text": [
      "6/6 [==============================] - 1s 18ms/step\n",
      "6/6 [==============================] - 1s 20ms/step - loss: 0.9344 - accuracy: 0.6901\n",
      "[0.9344223737716675, 0.6900584697723389]\n"
     ]
    }
   ],
   "source": [
    "#预测与评估\n",
    "mainModel = load_model('LSTM')\n",
    "result = mainModel.predict(testSeq)  # 预测样本属于每个类别的概率\n",
    "score = mainModel.evaluate(testSeq,\n",
    "                           testCate,\n",
    "                           batch_size=32)\n",
    "print(score)"
   ]
  },
  {
   "cell_type": "code",
   "execution_count": 20,
   "id": "5cd82ded",
   "metadata": {},
   "outputs": [
    {
     "data": {
      "image/png": "[encoded data removed]",
      "text/plain": [
       "<Figure size 640x480 with 1 Axes>"
      ]
     },
     "metadata": {},
     "output_type": "display_data"
    },
    {
     "data": {
      "image/png": "[encoded data removed]",
      "text/plain": [
       "<Figure size 640x480 with 1 Axes>"
      ]
     },
     "metadata": {},
     "output_type": "display_data"
    }
   ],
   "source": [
    "plt.plot(history.history['accuracy'])\n",
    "plt.plot(history.history['val_accuracy'])\n",
    "plt.title('Model accuracy')\n",
    "plt.ylabel('Accuracy')\n",
    "plt.xlabel('Epoch')\n",
    "plt.legend(['Train','Valid'],loc='upper left')\n",
    "plt.show()\n",
    "\n",
    "plt.plot(history.history['loss'])\n",
    "plt.plot(history.history['val_loss'])\n",
    "plt.title('Model loss')\n",
    "plt.ylabel('Loss')\n",
    "plt.xlabel('Epoch')\n",
    "plt.legend(['Train','Valid'],loc='upper left')\n",
    "plt.show()"
   ]
  },
  {
   "cell_type": "code",
   "execution_count": 21,
   "id": "5450d945",
   "metadata": {},
   "outputs": [
    {
     "name": "stdout",
     "output_type": "stream",
     "text": [
      "Model: \"sequential_1\"\n",
      "_________________________________________________________________\n",
      " Layer (type)                Output Shape              Param #   \n",
      "=================================================================\n",
      " embedding_1 (Embedding)     (None, 64, 100)           806300    \n",
      "                                                                 \n",
      " lstm_1 (LSTM)               (None, 64)                42240     \n",
      "                                                                 \n",
      " FC1 (Dense)                 (None, 64)                4160      \n",
      "                                                                 \n",
      " dropout_1 (Dropout)         (None, 64)                0         \n",
      "                                                                 \n",
      " FC2 (Dense)                 (None, 2)                 130       \n",
      "                                                                 \n",
      "=================================================================\n",
      "Total params: 852,830\n",
      "Trainable params: 852,830\n",
      "Non-trainable params: 0\n",
      "_________________________________________________________________\n",
      "Epoch 1/30\n",
      "154/154 [==============================] - 13s 60ms/step - loss: 0.7157 - accuracy: 0.5686 - val_loss: 0.6935 - val_accuracy: 0.6071\n",
      "Epoch 2/30\n",
      "154/154 [==============================] - 8s 55ms/step - loss: 0.5970 - accuracy: 0.6986 - val_loss: 0.5299 - val_accuracy: 0.7468\n",
      "Epoch 3/30\n",
      "154/154 [==============================] - 8s 51ms/step - loss: 0.5413 - accuracy: 0.7457 - val_loss: 0.5921 - val_accuracy: 0.6916\n",
      "Epoch 4/30\n",
      "154/154 [==============================] - 9s 60ms/step - loss: 0.4628 - accuracy: 0.7929 - val_loss: 0.5879 - val_accuracy: 0.7435\n",
      "Epoch 5/30\n",
      "154/154 [==============================] - 9s 60ms/step - loss: 0.3890 - accuracy: 0.8383 - val_loss: 0.5750 - val_accuracy: 0.7662\n",
      "Epoch 6/30\n",
      "154/154 [==============================] - 10s 64ms/step - loss: 0.3088 - accuracy: 0.8716 - val_loss: 0.6065 - val_accuracy: 0.7403\n",
      "Epoch 7/30\n",
      "154/154 [==============================] - 11s 69ms/step - loss: 0.2416 - accuracy: 0.9098 - val_loss: 0.6124 - val_accuracy: 0.7727\n",
      "6/6 [==============================] - 1s 19ms/step\n",
      "6/6 [==============================] - 0s 14ms/step - loss: 0.7280 - accuracy: 0.7135\n",
      "Model: \"sequential_2\"\n",
      "_________________________________________________________________\n",
      " Layer (type)                Output Shape              Param #   \n",
      "=================================================================\n",
      " embedding_2 (Embedding)     (None, 64, 100)           806300    \n",
      "                                                                 \n",
      " lstm_2 (LSTM)               (None, 64)                42240     \n",
      "                                                                 \n",
      " FC1 (Dense)                 (None, 64)                4160      \n",
      "                                                                 \n",
      " dropout_2 (Dropout)         (None, 64)                0         \n",
      "                                                                 \n",
      " FC2 (Dense)                 (None, 2)                 130       \n",
      "                                                                 \n",
      "=================================================================\n",
      "Total params: 852,830\n",
      "Trainable params: 852,830\n",
      "Non-trainable params: 0\n",
      "_________________________________________________________________\n",
      "Epoch 1/30\n",
      "154/154 [==============================] - 17s 79ms/step - loss: 0.6907 - accuracy: 0.5963 - val_loss: 0.6056 - val_accuracy: 0.6883\n",
      "Epoch 2/30\n",
      "154/154 [==============================] - 11s 70ms/step - loss: 0.6012 - accuracy: 0.7092 - val_loss: 0.5426 - val_accuracy: 0.7338\n",
      "Epoch 3/30\n",
      "154/154 [==============================] - 11s 70ms/step - loss: 0.5253 - accuracy: 0.7498 - val_loss: 0.5327 - val_accuracy: 0.7370\n",
      "Epoch 4/30\n",
      "154/154 [==============================] - 11s 68ms/step - loss: 0.4479 - accuracy: 0.7985 - val_loss: 0.5412 - val_accuracy: 0.7727\n",
      "Epoch 5/30\n",
      "154/154 [==============================] - 10s 66ms/step - loss: 0.3789 - accuracy: 0.8375 - val_loss: 0.5233 - val_accuracy: 0.7727\n",
      "Epoch 6/30\n",
      "154/154 [==============================] - 10s 66ms/step - loss: 0.3012 - accuracy: 0.8895 - val_loss: 0.8428 - val_accuracy: 0.6851\n",
      "Epoch 7/30\n",
      "154/154 [==============================] - 10s 64ms/step - loss: 0.2420 - accuracy: 0.9123 - val_loss: 0.6017 - val_accuracy: 0.7403\n",
      "Epoch 8/30\n",
      "154/154 [==============================] - 10s 64ms/step - loss: 0.1823 - accuracy: 0.9350 - val_loss: 0.6379 - val_accuracy: 0.7403\n",
      "Epoch 9/30\n",
      "154/154 [==============================] - 10s 67ms/step - loss: 0.1142 - accuracy: 0.9602 - val_loss: 0.9034 - val_accuracy: 0.7273\n",
      "Epoch 10/30\n",
      "154/154 [==============================] - 11s 72ms/step - loss: 0.0705 - accuracy: 0.9748 - val_loss: 0.9304 - val_accuracy: 0.7370\n",
      "6/6 [==============================] - 2s 17ms/step\n",
      "6/6 [==============================] - 0s 18ms/step - loss: 1.1740 - accuracy: 0.7018\n",
      "Model: \"sequential_3\"\n",
      "_________________________________________________________________\n",
      " Layer (type)                Output Shape              Param #   \n",
      "=================================================================\n",
      " embedding_3 (Embedding)     (None, 64, 100)           806300    \n",
      "                                                                 \n",
      " lstm_3 (LSTM)               (None, 64)                42240     \n",
      "                                                                 \n",
      " FC1 (Dense)                 (None, 64)                4160      \n",
      "                                                                 \n",
      " dropout_3 (Dropout)         (None, 64)                0         \n",
      "                                                                 \n",
      " FC2 (Dense)                 (None, 2)                 130       \n",
      "                                                                 \n",
      "=================================================================\n",
      "Total params: 852,830\n",
      "Trainable params: 852,830\n",
      "Non-trainable params: 0\n",
      "_________________________________________________________________\n",
      "Epoch 1/30\n",
      "154/154 [==============================] - 22s 117ms/step - loss: 0.7088 - accuracy: 0.5605 - val_loss: 0.5857 - val_accuracy: 0.7013\n",
      "Epoch 2/30\n",
      "154/154 [==============================] - 13s 85ms/step - loss: 0.5999 - accuracy: 0.6905 - val_loss: 0.5465 - val_accuracy: 0.7338\n",
      "Epoch 3/30\n",
      "154/154 [==============================] - 10s 67ms/step - loss: 0.5467 - accuracy: 0.7571 - val_loss: 0.5449 - val_accuracy: 0.7468\n",
      "Epoch 4/30\n",
      "154/154 [==============================] - 18s 119ms/step - loss: 0.4775 - accuracy: 0.7847 - val_loss: 0.5875 - val_accuracy: 0.7435\n",
      "Epoch 5/30\n",
      "154/154 [==============================] - 21s 137ms/step - loss: 0.3938 - accuracy: 0.8359 - val_loss: 0.6052 - val_accuracy: 0.6981\n",
      "Epoch 6/30\n",
      "154/154 [==============================] - 22s 142ms/step - loss: 0.3170 - accuracy: 0.8790 - val_loss: 0.6308 - val_accuracy: 0.7273\n",
      "Epoch 7/30\n",
      "154/154 [==============================] - 20s 133ms/step - loss: 0.2476 - accuracy: 0.9066 - val_loss: 0.6622 - val_accuracy: 0.7695\n",
      "Epoch 8/30\n",
      "154/154 [==============================] - 14s 91ms/step - loss: 0.1651 - accuracy: 0.9391 - val_loss: 0.6800 - val_accuracy: 0.7825\n",
      "6/6 [==============================] - 3s 102ms/step\n",
      "6/6 [==============================] - 0s 20ms/step - loss: 0.7828 - accuracy: 0.7076\n",
      "Model: \"sequential_4\"\n",
      "_________________________________________________________________\n",
      " Layer (type)                Output Shape              Param #   \n",
      "=================================================================\n",
      " embedding_4 (Embedding)     (None, 64, 100)           806300    \n",
      "                                                                 \n",
      " lstm_4 (LSTM)               (None, 64)                42240     \n",
      "                                                                 \n",
      " FC1 (Dense)                 (None, 64)                4160      \n",
      "                                                                 \n",
      " dropout_4 (Dropout)         (None, 64)                0         \n",
      "                                                                 \n",
      " FC2 (Dense)                 (None, 2)                 130       \n",
      "                                                                 \n",
      "=================================================================\n",
      "Total params: 852,830\n",
      "Trainable params: 852,830\n",
      "Non-trainable params: 0\n",
      "_________________________________________________________________\n",
      "Epoch 1/30\n",
      "154/154 [==============================] - 116s 654ms/step - loss: 0.7113 - accuracy: 0.5435 - val_loss: 0.5960 - val_accuracy: 0.6948\n",
      "Epoch 2/30\n",
      "154/154 [==============================] - 10s 66ms/step - loss: 0.6319 - accuracy: 0.6759 - val_loss: 0.5571 - val_accuracy: 0.7305\n",
      "Epoch 3/30\n",
      "154/154 [==============================] - 10s 63ms/step - loss: 0.5321 - accuracy: 0.7400 - val_loss: 0.5319 - val_accuracy: 0.7500\n",
      "Epoch 4/30\n",
      "154/154 [==============================] - 10s 66ms/step - loss: 0.4773 - accuracy: 0.7847 - val_loss: 0.5491 - val_accuracy: 0.7565\n",
      "Epoch 5/30\n",
      "154/154 [==============================] - 10s 65ms/step - loss: 0.4152 - accuracy: 0.8099 - val_loss: 0.5574 - val_accuracy: 0.7662\n",
      "Epoch 6/30\n",
      "154/154 [==============================] - 10s 66ms/step - loss: 0.3384 - accuracy: 0.8708 - val_loss: 0.5861 - val_accuracy: 0.7468\n",
      "Epoch 7/30\n",
      "154/154 [==============================] - 9s 59ms/step - loss: 0.2749 - accuracy: 0.9001 - val_loss: 0.6363 - val_accuracy: 0.7435\n",
      "Epoch 8/30\n",
      "154/154 [==============================] - 9s 57ms/step - loss: 0.2011 - accuracy: 0.9293 - val_loss: 0.6451 - val_accuracy: 0.7468\n",
      "6/6 [==============================] - 1s 17ms/step\n",
      "6/6 [==============================] - 0s 19ms/step - loss: 0.6799 - accuracy: 0.7427\n",
      "Model: \"sequential_5\"\n",
      "_________________________________________________________________\n",
      " Layer (type)                Output Shape              Param #   \n",
      "=================================================================\n",
      " embedding_5 (Embedding)     (None, 64, 100)           806300    \n",
      "                                                                 \n",
      " lstm_5 (LSTM)               (None, 64)                42240     \n",
      "                                                                 \n",
      " FC1 (Dense)                 (None, 64)                4160      \n",
      "                                                                 \n",
      " dropout_5 (Dropout)         (None, 64)                0         \n",
      "                                                                 \n",
      " FC2 (Dense)                 (None, 2)                 130       \n",
      "                                                                 \n",
      "=================================================================\n",
      "Total params: 852,830\n",
      "Trainable params: 852,830\n",
      "Non-trainable params: 0\n",
      "_________________________________________________________________\n",
      "Epoch 1/30\n",
      "154/154 [==============================] - 12s 61ms/step - loss: 0.7064 - accuracy: 0.5825 - val_loss: 0.5944 - val_accuracy: 0.6818\n",
      "Epoch 2/30\n",
      "154/154 [==============================] - 9s 58ms/step - loss: 0.6032 - accuracy: 0.6978 - val_loss: 0.5533 - val_accuracy: 0.7435\n",
      "Epoch 3/30\n",
      "154/154 [==============================] - 10s 63ms/step - loss: 0.5477 - accuracy: 0.7392 - val_loss: 0.5800 - val_accuracy: 0.7208\n",
      "Epoch 4/30\n",
      "154/154 [==============================] - 9s 60ms/step - loss: 0.4356 - accuracy: 0.8099 - val_loss: 0.5612 - val_accuracy: 0.7565\n",
      "Epoch 5/30\n",
      "154/154 [==============================] - 9s 61ms/step - loss: 0.3761 - accuracy: 0.8505 - val_loss: 0.5326 - val_accuracy: 0.7987\n",
      "Epoch 6/30\n",
      "154/154 [==============================] - 9s 59ms/step - loss: 0.2986 - accuracy: 0.8903 - val_loss: 0.6365 - val_accuracy: 0.7403\n",
      "Epoch 7/30\n",
      "154/154 [==============================] - 9s 57ms/step - loss: 0.2396 - accuracy: 0.9204 - val_loss: 0.6193 - val_accuracy: 0.7597\n",
      "Epoch 8/30\n",
      "154/154 [==============================] - 9s 59ms/step - loss: 0.1576 - accuracy: 0.9464 - val_loss: 0.7126 - val_accuracy: 0.7532\n",
      "Epoch 9/30\n",
      "154/154 [==============================] - 9s 57ms/step - loss: 0.0819 - accuracy: 0.9699 - val_loss: 0.9101 - val_accuracy: 0.7338\n",
      "Epoch 10/30\n",
      "154/154 [==============================] - 9s 58ms/step - loss: 0.0610 - accuracy: 0.9854 - val_loss: 0.9679 - val_accuracy: 0.7500\n",
      "6/6 [==============================] - 1s 17ms/step\n",
      "6/6 [==============================] - 0s 16ms/step - loss: 0.9452 - accuracy: 0.7544\n",
      "Model: \"sequential_6\"\n",
      "_________________________________________________________________\n",
      " Layer (type)                Output Shape              Param #   \n",
      "=================================================================\n",
      " embedding_6 (Embedding)     (None, 64, 100)           806300    \n",
      "                                                                 \n",
      " lstm_6 (LSTM)               (None, 64)                42240     \n",
      "                                                                 \n",
      " FC1 (Dense)                 (None, 64)                4160      \n",
      "                                                                 \n",
      " dropout_6 (Dropout)         (None, 64)                0         \n",
      "                                                                 \n",
      " FC2 (Dense)                 (None, 2)                 130       \n",
      "                                                                 \n",
      "=================================================================\n",
      "Total params: 852,830\n",
      "Trainable params: 852,830\n",
      "Non-trainable params: 0\n",
      "_________________________________________________________________\n",
      "Epoch 1/30\n",
      "154/154 [==============================] - 13s 60ms/step - loss: 0.7087 - accuracy: 0.5776 - val_loss: 0.5822 - val_accuracy: 0.7240\n",
      "Epoch 2/30\n",
      "154/154 [==============================] - 9s 58ms/step - loss: 0.6222 - accuracy: 0.6783 - val_loss: 0.7152 - val_accuracy: 0.6396\n",
      "Epoch 3/30\n",
      "154/154 [==============================] - 10s 63ms/step - loss: 0.5605 - accuracy: 0.7344 - val_loss: 0.5507 - val_accuracy: 0.7565\n",
      "Epoch 4/30\n",
      "154/154 [==============================] - 10s 64ms/step - loss: 0.4644 - accuracy: 0.7937 - val_loss: 0.5481 - val_accuracy: 0.7532\n",
      "Epoch 5/30\n",
      "154/154 [==============================] - 10s 63ms/step - loss: 0.3984 - accuracy: 0.8432 - val_loss: 0.6196 - val_accuracy: 0.7403\n",
      "Epoch 6/30\n",
      "154/154 [==============================] - 10s 64ms/step - loss: 0.3176 - accuracy: 0.8879 - val_loss: 0.6136 - val_accuracy: 0.7662\n",
      "Epoch 7/30\n",
      "154/154 [==============================] - 10s 66ms/step - loss: 0.2232 - accuracy: 0.9196 - val_loss: 0.6701 - val_accuracy: 0.7500\n",
      "Epoch 8/30\n",
      "154/154 [==============================] - 10s 63ms/step - loss: 0.1604 - accuracy: 0.9472 - val_loss: 0.7184 - val_accuracy: 0.7500\n",
      "Epoch 9/30\n",
      "154/154 [==============================] - 10s 64ms/step - loss: 0.1126 - accuracy: 0.9602 - val_loss: 0.7733 - val_accuracy: 0.7435\n",
      "6/6 [==============================] - 1s 21ms/step\n",
      "6/6 [==============================] - 0s 21ms/step - loss: 0.8388 - accuracy: 0.7310\n",
      "Model: \"sequential_7\"\n",
      "_________________________________________________________________\n",
      " Layer (type)                Output Shape              Param #   \n",
      "=================================================================\n",
      " embedding_7 (Embedding)     (None, 64, 100)           806300    \n",
      "                                                                 \n",
      " lstm_7 (LSTM)               (None, 64)                42240     \n",
      "                                                                 \n",
      " FC1 (Dense)                 (None, 64)                4160      \n",
      "                                                                 \n",
      " dropout_7 (Dropout)         (None, 64)                0         \n",
      "                                                                 \n",
      " FC2 (Dense)                 (None, 2)                 130       \n",
      "                                                                 \n",
      "=================================================================\n",
      "Total params: 852,830\n",
      "Trainable params: 852,830\n",
      "Non-trainable params: 0\n",
      "_________________________________________________________________\n",
      "Epoch 1/30\n",
      "154/154 [==============================] - 14s 67ms/step - loss: 0.7017 - accuracy: 0.5906 - val_loss: 0.5719 - val_accuracy: 0.7175\n",
      "Epoch 2/30\n",
      "154/154 [==============================] - 10s 63ms/step - loss: 0.5896 - accuracy: 0.7059 - val_loss: 0.5896 - val_accuracy: 0.6981\n",
      "Epoch 3/30\n",
      "154/154 [==============================] - 10s 63ms/step - loss: 0.5380 - accuracy: 0.7449 - val_loss: 0.5260 - val_accuracy: 0.7532\n",
      "Epoch 4/30\n",
      "154/154 [==============================] - 10s 63ms/step - loss: 0.4656 - accuracy: 0.7929 - val_loss: 0.5340 - val_accuracy: 0.7695\n",
      "Epoch 5/30\n",
      "154/154 [==============================] - 10s 63ms/step - loss: 0.3817 - accuracy: 0.8481 - val_loss: 0.6386 - val_accuracy: 0.7695\n",
      "Epoch 6/30\n",
      "154/154 [==============================] - 10s 64ms/step - loss: 0.3170 - accuracy: 0.8822 - val_loss: 0.7250 - val_accuracy: 0.7403\n",
      "Epoch 7/30\n",
      "154/154 [==============================] - 10s 64ms/step - loss: 0.2608 - accuracy: 0.8968 - val_loss: 0.7113 - val_accuracy: 0.7370\n",
      "Epoch 8/30\n",
      "154/154 [==============================] - 10s 63ms/step - loss: 0.2010 - accuracy: 0.9253 - val_loss: 0.7346 - val_accuracy: 0.7468\n",
      "6/6 [==============================] - 1s 17ms/step\n",
      "6/6 [==============================] - 0s 16ms/step - loss: 0.7260 - accuracy: 0.7076\n",
      "Model: \"sequential_8\"\n",
      "_________________________________________________________________\n",
      " Layer (type)                Output Shape              Param #   \n",
      "=================================================================\n",
      " embedding_8 (Embedding)     (None, 64, 100)           806300    \n",
      "                                                                 \n",
      " lstm_8 (LSTM)               (None, 64)                42240     \n",
      "                                                                 \n",
      " FC1 (Dense)                 (None, 64)                4160      \n",
      "                                                                 \n",
      " dropout_8 (Dropout)         (None, 64)                0         \n",
      "                                                                 \n",
      " FC2 (Dense)                 (None, 2)                 130       \n",
      "                                                                 \n",
      "=================================================================\n",
      "Total params: 852,830\n",
      "Trainable params: 852,830\n",
      "Non-trainable params: 0\n",
      "_________________________________________________________________\n",
      "Epoch 1/30\n",
      "154/154 [==============================] - 14s 69ms/step - loss: 0.7143 - accuracy: 0.5865 - val_loss: 0.5575 - val_accuracy: 0.7468\n",
      "Epoch 2/30\n",
      "154/154 [==============================] - 10s 64ms/step - loss: 0.6037 - accuracy: 0.6799 - val_loss: 0.5580 - val_accuracy: 0.7273\n",
      "Epoch 3/30\n",
      "154/154 [==============================] - 9s 56ms/step - loss: 0.5455 - accuracy: 0.7522 - val_loss: 0.5514 - val_accuracy: 0.7597\n",
      "Epoch 4/30\n",
      "154/154 [==============================] - 9s 58ms/step - loss: 0.4640 - accuracy: 0.7880 - val_loss: 0.5512 - val_accuracy: 0.7727\n",
      "Epoch 5/30\n",
      "154/154 [==============================] - 9s 58ms/step - loss: 0.3721 - accuracy: 0.8448 - val_loss: 0.5760 - val_accuracy: 0.7825\n",
      "Epoch 6/30\n",
      "154/154 [==============================] - 10s 63ms/step - loss: 0.3055 - accuracy: 0.8814 - val_loss: 0.5746 - val_accuracy: 0.7695\n",
      "Epoch 7/30\n",
      "154/154 [==============================] - 10s 65ms/step - loss: 0.2477 - accuracy: 0.9131 - val_loss: 0.5999 - val_accuracy: 0.7760\n",
      "Epoch 8/30\n",
      "154/154 [==============================] - 10s 66ms/step - loss: 0.1975 - accuracy: 0.9326 - val_loss: 0.7710 - val_accuracy: 0.7532\n",
      "Epoch 9/30\n",
      "154/154 [==============================] - 10s 66ms/step - loss: 0.1367 - accuracy: 0.9513 - val_loss: 0.8711 - val_accuracy: 0.7435\n",
      "6/6 [==============================] - 1s 28ms/step\n",
      "6/6 [==============================] - 0s 20ms/step - loss: 0.8529 - accuracy: 0.7368\n",
      "Model: \"sequential_9\"\n",
      "_________________________________________________________________\n",
      " Layer (type)                Output Shape              Param #   \n",
      "=================================================================\n",
      " embedding_9 (Embedding)     (None, 64, 100)           806300    \n",
      "                                                                 \n",
      " lstm_9 (LSTM)               (None, 64)                42240     \n",
      "                                                                 \n",
      " FC1 (Dense)                 (None, 64)                4160      \n",
      "                                                                 \n",
      " dropout_9 (Dropout)         (None, 64)                0         \n",
      "                                                                 \n",
      " FC2 (Dense)                 (None, 2)                 130       \n",
      "                                                                 \n",
      "=================================================================\n",
      "Total params: 852,830\n",
      "Trainable params: 852,830\n",
      "Non-trainable params: 0\n",
      "_________________________________________________________________\n",
      "Epoch 1/30\n",
      "154/154 [==============================] - 15s 73ms/step - loss: 0.7070 - accuracy: 0.5808 - val_loss: 0.5919 - val_accuracy: 0.7403\n",
      "Epoch 2/30\n",
      "154/154 [==============================] - 10s 65ms/step - loss: 0.5813 - accuracy: 0.7206 - val_loss: 0.6369 - val_accuracy: 0.6201\n",
      "Epoch 3/30\n",
      "154/154 [==============================] - 10s 66ms/step - loss: 0.5478 - accuracy: 0.7482 - val_loss: 0.5325 - val_accuracy: 0.7662\n",
      "Epoch 4/30\n",
      "154/154 [==============================] - 10s 65ms/step - loss: 0.4590 - accuracy: 0.7953 - val_loss: 0.5412 - val_accuracy: 0.7760\n",
      "Epoch 5/30\n",
      "154/154 [==============================] - 10s 66ms/step - loss: 0.4194 - accuracy: 0.8392 - val_loss: 0.5913 - val_accuracy: 0.7208\n",
      "Epoch 6/30\n",
      "154/154 [==============================] - 10s 65ms/step - loss: 0.3474 - accuracy: 0.8587 - val_loss: 0.5631 - val_accuracy: 0.7403\n",
      "Epoch 7/30\n",
      "154/154 [==============================] - 10s 64ms/step - loss: 0.2631 - accuracy: 0.9033 - val_loss: 0.6232 - val_accuracy: 0.7630\n",
      "Epoch 8/30\n",
      "154/154 [==============================] - 10s 66ms/step - loss: 0.2046 - accuracy: 0.9285 - val_loss: 0.7296 - val_accuracy: 0.7370\n",
      "6/6 [==============================] - 1s 17ms/step\n",
      "6/6 [==============================] - 0s 16ms/step - loss: 0.7329 - accuracy: 0.7310\n",
      "Model: \"sequential_10\"\n",
      "_________________________________________________________________\n",
      " Layer (type)                Output Shape              Param #   \n",
      "=================================================================\n",
      " embedding_10 (Embedding)    (None, 64, 100)           806300    \n",
      "                                                                 \n",
      " lstm_10 (LSTM)              (None, 64)                42240     \n",
      "                                                                 \n",
      " FC1 (Dense)                 (None, 64)                4160      \n",
      "                                                                 \n",
      " dropout_10 (Dropout)        (None, 64)                0         \n",
      "                                                                 \n",
      " FC2 (Dense)                 (None, 2)                 130       \n",
      "                                                                 \n",
      "=================================================================\n",
      "Total params: 852,830\n",
      "Trainable params: 852,830\n",
      "Non-trainable params: 0\n",
      "_________________________________________________________________\n",
      "Epoch 1/30\n",
      "154/154 [==============================] - 13s 70ms/step - loss: 0.7112 - accuracy: 0.5784 - val_loss: 0.5516 - val_accuracy: 0.7597\n",
      "Epoch 2/30\n",
      "154/154 [==============================] - 10s 66ms/step - loss: 0.5881 - accuracy: 0.7100 - val_loss: 0.5589 - val_accuracy: 0.7403\n",
      "Epoch 3/30\n",
      "154/154 [==============================] - 10s 66ms/step - loss: 0.5230 - accuracy: 0.7506 - val_loss: 0.5643 - val_accuracy: 0.7630\n",
      "Epoch 4/30\n",
      "154/154 [==============================] - 10s 67ms/step - loss: 0.4502 - accuracy: 0.8140 - val_loss: 0.6092 - val_accuracy: 0.7565\n",
      "Epoch 5/30\n",
      "154/154 [==============================] - 10s 66ms/step - loss: 0.3754 - accuracy: 0.8448 - val_loss: 0.6111 - val_accuracy: 0.7760\n",
      "Epoch 6/30\n",
      "154/154 [==============================] - 10s 66ms/step - loss: 0.3316 - accuracy: 0.8708 - val_loss: 0.5975 - val_accuracy: 0.7532\n",
      "6/6 [==============================] - 1s 18ms/step\n",
      "6/6 [==============================] - 0s 24ms/step - loss: 0.5720 - accuracy: 0.7427\n"
     ]
    }
   ],
   "source": [
    "score_list=[]\n",
    "for i in range(10):\n",
    "    ## 定义LSTM模型\n",
    "    batch_size = 8\n",
    "    inputs = Input(name='inputs',shape=[maxLen])\n",
    "    embedder = Embedding(len(vocab) + 1, 100, input_length=maxLen, weights=[embedding_matrix], trainable=True)\n",
    "    model=Sequential()\n",
    "    model.add(embedder)\n",
    "    model.add(LSTM(64))\n",
    "    model.add(Dense(64,activation=\"sigmoid\",name=\"FC1\"))\n",
    "    model.add(Dropout(0.4,seed=12))\n",
    "    model.add(Dense(2,activation=\"softmax\",name=\"FC2\"))\n",
    "    model.summary()\n",
    "    model.compile(loss=\"categorical_crossentropy\",optimizer=RMSprop(),metrics=[\"accuracy\"])\n",
    "    #reduce_lr = ReduceLROnPlateau(monitor='val_loss',factor=0.1 ,patience=3, mode='auto')\n",
    "    history=model.fit(trainSeq, trainCate, batch_size, epochs=30,validation_split=0.2, callbacks=[EarlyStopping(monitor='val_loss',patience=5)])\n",
    "    result = model.predict(testSeq)  # 预测样本属于每个类别的概率\n",
    "    score = model.evaluate(testSeq,\n",
    "                               testCate,\n",
    "                               batch_size=32)\n",
    "    score_list.append(score[1])"
   ]
  },
  {
   "cell_type": "code",
   "execution_count": 22,
   "id": "7a7fbe16",
   "metadata": {},
   "outputs": [
    {
     "name": "stdout",
     "output_type": "stream",
     "text": [
      "accuracy:0.7269005894660949\n"
     ]
    }
   ],
   "source": [
    "print('accuracy:'+str(sum(score_list)/len(score_list)))"
   ]
  },
  {
   "cell_type": "code",
   "execution_count": 23,
   "id": "c717fe6f",
   "metadata": {},
   "outputs": [],
   "source": [
    "score_list.sort()"
   ]
  },
  {
   "cell_type": "code",
   "execution_count": 24,
   "id": "205e3cfa",
   "metadata": {},
   "outputs": [
    {
     "data": {
      "text/plain": [
       "[0.7017543911933899,\n",
       " 0.707602322101593,\n",
       " 0.707602322101593,\n",
       " 0.7134503126144409,\n",
       " 0.7309941649436951,\n",
       " 0.7309941649436951,\n",
       " 0.7368420958518982,\n",
       " 0.7426900863647461,\n",
       " 0.7426900863647461,\n",
       " 0.7543859481811523]"
      ]
     },
     "execution_count": 24,
     "metadata": {},
     "output_type": "execute_result"
    }
   ],
   "source": [
    "score_list"
   ]
  },
  {
   "cell_type": "code",
   "execution_count": 25,
   "id": "d38bfd5e",
   "metadata": {},
   "outputs": [
    {
     "data": {
      "text/plain": [
       "0.7296946114963956"
      ]
     },
     "execution_count": 25,
     "metadata": {},
     "output_type": "execute_result"
    }
   ],
   "source": [
    "sum(score_list[1:])/len(score_list[1:])"
   ]
  }
 ],
 "metadata": {
  "kernelspec": {
   "display_name": "Python 3.10.6 ('4222G18_backup')",
   "language": "python",
   "name": "python3"
  },
  "language_info": {
   "codemirror_mode": {
    "name": "ipython",
    "version": 3
   },
   "file_extension": ".py",
   "mimetype": "text/x-python",
   "name": "python",
   "nbconvert_exporter": "python",
   "pygments_lexer": "ipython3",
   "version": "3.10.6"
  },
  "vscode": {
   "interpreter": {
    "hash": "64fb50f4500008f9f404f170e716523d28225753a93c94be3d36e645dbfada09"
   }
  }
 },
 "nbformat": 4,
 "nbformat_minor": 5
}
