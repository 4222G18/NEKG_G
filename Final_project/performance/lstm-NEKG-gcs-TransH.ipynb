{
 "cells": [
  {
   "cell_type": "code",
   "execution_count": 26,
   "id": "d6419e41",
   "metadata": {},
   "outputs": [
    {
     "data": {
      "text/plain": [
       "'/home/egbert_jing/github/NEKG_G/Final_project'"
      ]
     },
     "execution_count": 26,
     "metadata": {},
     "output_type": "execute_result"
    }
   ],
   "source": [
    "import sys\n",
    "import os\n",
    "path_father = os.path.abspath(r'..')\n",
    "path_father\n",
    "# sys.path.append(path_father)"
   ]
  },
  {
   "cell_type": "code",
   "execution_count": 27,
   "id": "fce28d96",
   "metadata": {},
   "outputs": [],
   "source": [
    "import pandas as pd\n",
    "import numpy as np\n",
    "import matplotlib.pyplot as plt\n",
    "import seaborn as sns\n",
    "from sklearn import metrics\n",
    "from sklearn.preprocessing import LabelEncoder,OneHotEncoder\n",
    "from keras.models import Model\n",
    "from keras.layers import LSTM, Activation, Dense, Dropout, Input, Embedding\n",
    "from keras.optimizers import RMSprop\n",
    "from keras.preprocessing.text import Tokenizer\n",
    "from keras.preprocessing import sequence\n",
    "from keras.callbacks import EarlyStopping\n",
    "from keras_preprocessing.sequence import pad_sequences\n",
    "from keras.utils.np_utils import to_categorical\n",
    "from keras.models import Sequential\n",
    "from keras.callbacks import ReduceLROnPlateau\n",
    "from keras.models import load_model\n",
    "%matplotlib inline"
   ]
  },
  {
   "cell_type": "code",
   "execution_count": 28,
   "id": "c268b59b",
   "metadata": {},
   "outputs": [],
   "source": [
    "df = pd.read_csv(path_father + \"/df_with_gcs.txt\",sep=',',header=0)"
   ]
  },
  {
   "cell_type": "code",
   "execution_count": 29,
   "id": "e9e0ee5c",
   "metadata": {},
   "outputs": [],
   "source": [
    "#划分训练测试集\n",
    "from sklearn.model_selection import train_test_split\n",
    "\n",
    "train_set, test_set = train_test_split(df, test_size=0.1, random_state=42)"
   ]
  },
  {
   "cell_type": "markdown",
   "id": "59d7c98f",
   "metadata": {},
   "source": [
    "处理词向量"
   ]
  },
  {
   "cell_type": "code",
   "execution_count": 30,
   "id": "12c63f87",
   "metadata": {},
   "outputs": [],
   "source": [
    "from gensim.models import word2vec\n",
    "import logging\n",
    "logging.basicConfig(format='%(asctime)s : %(levelname)s : %(message)s', level=logging.INFO) "
   ]
  },
  {
   "cell_type": "code",
   "execution_count": 31,
   "id": "f13dfd1d",
   "metadata": {},
   "outputs": [],
   "source": [
    "# 切分词汇\n",
    "def cut(data):\n",
    "    cut= [s.split() for s in data['TriageNote'].astype(str)]\n",
    "    return cut"
   ]
  },
  {
   "cell_type": "code",
   "execution_count": 32,
   "id": "94dd810e",
   "metadata": {},
   "outputs": [],
   "source": [
    "train_text=cut(train_set)\n",
    "test_text=cut(test_set)\n",
    "sentences=train_text+test_text"
   ]
  },
  {
   "cell_type": "code",
   "execution_count": 33,
   "id": "2b4b566b",
   "metadata": {},
   "outputs": [
    {
     "data": {
      "text/plain": [
       "57"
      ]
     },
     "execution_count": 33,
     "metadata": {},
     "output_type": "execute_result"
    }
   ],
   "source": [
    "#得到最大句子长度\n",
    "num_list=[len(one) for one in sentences]\n",
    "max(num_list)"
   ]
  },
  {
   "cell_type": "code",
   "execution_count": 34,
   "id": "25aa3ce1",
   "metadata": {},
   "outputs": [],
   "source": [
    "maxLen=64"
   ]
  },
  {
   "cell_type": "code",
   "execution_count": 35,
   "id": "cad599c7",
   "metadata": {},
   "outputs": [],
   "source": [
    "#处理label->one_hot\n",
    "from sklearn.preprocessing import LabelEncoder\n",
    "\n",
    "def encodelabel(data):\n",
    "    le = LabelEncoder()\n",
    "    resultLable=le.fit_transform(data['DISPOSITION'])\n",
    "    return resultLable\n"
   ]
  },
  {
   "cell_type": "code",
   "execution_count": 36,
   "id": "b3dcf8dc",
   "metadata": {},
   "outputs": [],
   "source": [
    "train_lable=encodelabel(train_set)\n",
    "test_lable=encodelabel(test_set)"
   ]
  },
  {
   "cell_type": "code",
   "execution_count": 37,
   "id": "1f35b5d9",
   "metadata": {},
   "outputs": [
    {
     "name": "stderr",
     "output_type": "stream",
     "text": [
      "2022-11-10 23:22:24,751 : INFO : loading Word2Vec object from ./word2vec_all.model\n",
      "2022-11-10 23:22:24,772 : INFO : loading wv recursively from ./word2vec_all.model.wv.* with mmap=None\n",
      "2022-11-10 23:22:24,773 : INFO : setting ignored attribute cum_table to None\n",
      "2022-11-10 23:22:24,924 : INFO : Word2Vec lifecycle event {'fname': './word2vec_all.model', 'datetime': '2022-11-10T23:22:24.924014', 'gensim': '4.2.0', 'python': '3.10.6 (main, Oct 24 2022, 16:07:47) [GCC 11.2.0]', 'platform': 'Linux-5.15.68.1-microsoft-standard-WSL2-x86_64-with-glibc2.35', 'event': 'loaded'}\n"
     ]
    }
   ],
   "source": [
    "wvmodel = word2vec.Word2Vec.load(\"./word2vec_all.model\")"
   ]
  },
  {
   "cell_type": "code",
   "execution_count": 38,
   "id": "9cc89146",
   "metadata": {},
   "outputs": [],
   "source": [
    "import json\n",
    "f = open(path_father + \"/embedding/TransH_SGD.json\")\n",
    "nekg = json.load(f)"
   ]
  },
  {
   "cell_type": "code",
   "execution_count": 39,
   "id": "26830919",
   "metadata": {},
   "outputs": [],
   "source": [
    "tokenizer=Tokenizer()\n",
    "tokenizer.fit_on_texts(sentences)\n",
    "vocab = tokenizer.word_index "
   ]
  },
  {
   "cell_type": "code",
   "execution_count": 40,
   "id": "d6b9da6f",
   "metadata": {},
   "outputs": [],
   "source": [
    "#特征数字编号，不足的话会在前面补充0\n",
    "trainID = tokenizer.texts_to_sequences(train_text)\n",
    "# print(trainID)\n",
    "testID = tokenizer.texts_to_sequences(test_text)\n",
    "trainSeq=pad_sequences(trainID,maxlen=maxLen)\n",
    "#print(trainSeq)\n",
    "testSeq=pad_sequences(testID,maxlen=maxLen)\n",
    "\n",
    "#标签的独热编码\n",
    "trainCate = to_categorical(train_lable, num_classes=2)  # 将标签转换为one-hot编码\n",
    "#print(trainCate)\n",
    "testCate= to_categorical(test_lable, num_classes=2)  # 将标签转换为one-hot编码"
   ]
  },
  {
   "cell_type": "code",
   "execution_count": 41,
   "id": "cc516388",
   "metadata": {},
   "outputs": [],
   "source": [
    "def nekg_embed(n0):\n",
    "    n1=int(n0)\n",
    "    n2=int(n0)+1\n",
    "    s1=(n2-n0)/(n2-n1)\n",
    "    s2=(n0-n1)/(n2-n1)\n",
    "    return s1*nekg[n1]+s2*nekg[n2]"
   ]
  },
  {
   "cell_type": "code",
   "execution_count": 42,
   "id": "88a8378f",
   "metadata": {},
   "outputs": [],
   "source": [
    "#利用训练后的word2vec自定义Embedding的训练矩阵，每行代表一个词（结合独热码和矩阵乘法理解）\n",
    "embedding_matrix = np.zeros((len(vocab) + 1, 100))\n",
    "for word, i in vocab.items():\n",
    "    try:\n",
    "        if(word.isdigit()==False):#对word用word2vec\n",
    "            embedding_vector = wvmodel.wv[str(word)]\n",
    "        else:#对number用nekg\n",
    "            if (int(float(word))<=998):\n",
    "                embedding_vector =  nekg_embed(float(word))\n",
    "            else:\n",
    "                embedding_vector = wvmodel.wv[str(word)]\n",
    "        embedding_matrix[i] = embedding_vector    \n",
    "    except KeyError:\n",
    "        continue"
   ]
  },
  {
   "cell_type": "code",
   "execution_count": 43,
   "id": "1fa9c8f0",
   "metadata": {},
   "outputs": [
    {
     "name": "stdout",
     "output_type": "stream",
     "text": [
      "Model: \"sequential_11\"\n",
      "_________________________________________________________________\n",
      " Layer (type)                Output Shape              Param #   \n",
      "=================================================================\n",
      " embedding_11 (Embedding)    (None, 64, 100)           806300    \n",
      "                                                                 \n",
      " lstm_11 (LSTM)              (None, 64)                42240     \n",
      "                                                                 \n",
      " FC1 (Dense)                 (None, 64)                4160      \n",
      "                                                                 \n",
      " dropout_11 (Dropout)        (None, 64)                0         \n",
      "                                                                 \n",
      " FC2 (Dense)                 (None, 2)                 130       \n",
      "                                                                 \n",
      "=================================================================\n",
      "Total params: 852,830\n",
      "Trainable params: 852,830\n",
      "Non-trainable params: 0\n",
      "_________________________________________________________________\n",
      "Epoch 1/30\n",
      "154/154 [==============================] - 11s 57ms/step - loss: 0.7234 - accuracy: 0.5410 - val_loss: 0.5712 - val_accuracy: 0.7143\n",
      "Epoch 2/30\n",
      "154/154 [==============================] - 17s 110ms/step - loss: 0.6127 - accuracy: 0.6751 - val_loss: 0.5488 - val_accuracy: 0.7370\n",
      "Epoch 3/30\n",
      "154/154 [==============================] - 7s 47ms/step - loss: 0.5512 - accuracy: 0.7344 - val_loss: 0.5256 - val_accuracy: 0.7662\n",
      "Epoch 4/30\n",
      "154/154 [==============================] - 6s 36ms/step - loss: 0.4820 - accuracy: 0.7864 - val_loss: 0.5072 - val_accuracy: 0.7792\n",
      "Epoch 5/30\n",
      "154/154 [==============================] - 8s 49ms/step - loss: 0.4009 - accuracy: 0.8140 - val_loss: 0.5365 - val_accuracy: 0.7435\n",
      "Epoch 6/30\n",
      "154/154 [==============================] - 9s 57ms/step - loss: 0.3308 - accuracy: 0.8741 - val_loss: 0.5887 - val_accuracy: 0.7890\n",
      "Epoch 7/30\n",
      "154/154 [==============================] - 7s 46ms/step - loss: 0.2615 - accuracy: 0.8985 - val_loss: 0.6498 - val_accuracy: 0.7727\n",
      "Epoch 8/30\n",
      "154/154 [==============================] - 6s 41ms/step - loss: 0.1950 - accuracy: 0.9277 - val_loss: 0.7882 - val_accuracy: 0.7240\n",
      "Epoch 9/30\n",
      "154/154 [==============================] - 9s 56ms/step - loss: 0.1524 - accuracy: 0.9464 - val_loss: 0.7202 - val_accuracy: 0.7208\n"
     ]
    },
    {
     "name": "stderr",
     "output_type": "stream",
     "text": [
      "2022-11-10 23:23:51,114 : WARNING : Found untraced functions such as lstm_cell_12_layer_call_fn, lstm_cell_12_layer_call_and_return_conditional_losses while saving (showing 2 of 2). These functions will not be directly callable after loading.\n"
     ]
    },
    {
     "name": "stdout",
     "output_type": "stream",
     "text": [
      "INFO:tensorflow:Assets written to: LSTM/assets\n"
     ]
    },
    {
     "name": "stderr",
     "output_type": "stream",
     "text": [
      "2022-11-10 23:23:51,647 : INFO : Assets written to: LSTM/assets\n"
     ]
    }
   ],
   "source": [
    "## 定义LSTM模型\n",
    "batch_size = 8\n",
    "inputs = Input(name='inputs',shape=[maxLen])\n",
    "embedder = Embedding(len(vocab) + 1, 100, input_length=maxLen, weights=[embedding_matrix], trainable=True)\n",
    "model=Sequential()\n",
    "model.add(embedder)\n",
    "model.add(LSTM(64))\n",
    "model.add(Dense(64,activation=\"sigmoid\",name=\"FC1\"))\n",
    "model.add(Dropout(0.4))\n",
    "model.add(Dense(2,activation=\"softmax\",name=\"FC2\"))\n",
    "model.summary()\n",
    "model.compile(loss=\"categorical_crossentropy\",optimizer=RMSprop(),metrics=[\"accuracy\"])\n",
    "#reduce_lr = ReduceLROnPlateau(monitor='val_loss',factor=0.1 ,patience=3, mode='auto')\n",
    "history=model.fit(trainSeq, trainCate, batch_size, epochs=30,validation_split=0.2, callbacks=[EarlyStopping(monitor='val_loss',patience=5)])\n",
    "model.save(\"LSTM\")"
   ]
  },
  {
   "cell_type": "code",
   "execution_count": 44,
   "id": "f6b394d2",
   "metadata": {},
   "outputs": [
    {
     "name": "stdout",
     "output_type": "stream",
     "text": [
      "6/6 [==============================] - 1s 32ms/step\n",
      "6/6 [==============================] - 1s 19ms/step - loss: 0.7588 - accuracy: 0.6842\n",
      "[0.7588062882423401, 0.6842105388641357]\n"
     ]
    }
   ],
   "source": [
    "#预测与评估\n",
    "mainModel = load_model('LSTM')\n",
    "result = mainModel.predict(testSeq)  # 预测样本属于每个类别的概率\n",
    "score = mainModel.evaluate(testSeq,\n",
    "                           testCate,\n",
    "                           batch_size=32)\n",
    "print(score)"
   ]
  },
  {
   "cell_type": "code",
   "execution_count": 45,
   "id": "5cd82ded",
   "metadata": {},
   "outputs": [
    {
     "data": {
      "image/png": "[encoded data removed]",
      "text/plain": [
       "<Figure size 640x480 with 1 Axes>"
      ]
     },
     "metadata": {},
     "output_type": "display_data"
    },
    {
     "data": {
      "image/png": "[encoded data removed]",
      "text/plain": [
       "<Figure size 640x480 with 1 Axes>"
      ]
     },
     "metadata": {},
     "output_type": "display_data"
    }
   ],
   "source": [
    "plt.plot(history.history['accuracy'])\n",
    "plt.plot(history.history['val_accuracy'])\n",
    "plt.title('Model accuracy')\n",
    "plt.ylabel('Accuracy')\n",
    "plt.xlabel('Epoch')\n",
    "plt.legend(['Train','Valid'],loc='upper left')\n",
    "plt.show()\n",
    "\n",
    "plt.plot(history.history['loss'])\n",
    "plt.plot(history.history['val_loss'])\n",
    "plt.title('Model loss')\n",
    "plt.ylabel('Loss')\n",
    "plt.xlabel('Epoch')\n",
    "plt.legend(['Train','Valid'],loc='upper left')\n",
    "plt.show()"
   ]
  },
  {
   "cell_type": "code",
   "execution_count": 46,
   "id": "5450d945",
   "metadata": {},
   "outputs": [
    {
     "name": "stdout",
     "output_type": "stream",
     "text": [
      "Model: \"sequential_12\"\n",
      "_________________________________________________________________\n",
      " Layer (type)                Output Shape              Param #   \n",
      "=================================================================\n",
      " embedding_12 (Embedding)    (None, 64, 100)           806300    \n",
      "                                                                 \n",
      " lstm_12 (LSTM)              (None, 64)                42240     \n",
      "                                                                 \n",
      " FC1 (Dense)                 (None, 64)                4160      \n",
      "                                                                 \n",
      " dropout_12 (Dropout)        (None, 64)                0         \n",
      "                                                                 \n",
      " FC2 (Dense)                 (None, 2)                 130       \n",
      "                                                                 \n",
      "=================================================================\n",
      "Total params: 852,830\n",
      "Trainable params: 852,830\n",
      "Non-trainable params: 0\n",
      "_________________________________________________________________\n",
      "Epoch 1/30\n",
      "154/154 [==============================] - 13s 59ms/step - loss: 0.7113 - accuracy: 0.5841 - val_loss: 0.5513 - val_accuracy: 0.7500\n",
      "Epoch 2/30\n",
      "154/154 [==============================] - 10s 64ms/step - loss: 0.6122 - accuracy: 0.6840 - val_loss: 0.5690 - val_accuracy: 0.7208\n",
      "Epoch 3/30\n",
      "154/154 [==============================] - 10s 68ms/step - loss: 0.5436 - accuracy: 0.7506 - val_loss: 0.5545 - val_accuracy: 0.7500\n",
      "Epoch 4/30\n",
      "154/154 [==============================] - 11s 72ms/step - loss: 0.4858 - accuracy: 0.7831 - val_loss: 0.5387 - val_accuracy: 0.7468\n",
      "Epoch 5/30\n",
      "154/154 [==============================] - 10s 68ms/step - loss: 0.4036 - accuracy: 0.8278 - val_loss: 0.5815 - val_accuracy: 0.7857\n",
      "Epoch 6/30\n",
      "154/154 [==============================] - 10s 65ms/step - loss: 0.3341 - accuracy: 0.8741 - val_loss: 0.6065 - val_accuracy: 0.7857\n",
      "Epoch 7/30\n",
      "154/154 [==============================] - 11s 69ms/step - loss: 0.2719 - accuracy: 0.8968 - val_loss: 0.6161 - val_accuracy: 0.7760\n",
      "Epoch 8/30\n",
      "154/154 [==============================] - 10s 63ms/step - loss: 0.1945 - accuracy: 0.9269 - val_loss: 0.7657 - val_accuracy: 0.7338\n",
      "Epoch 9/30\n",
      "154/154 [==============================] - 10s 67ms/step - loss: 0.1354 - accuracy: 0.9488 - val_loss: 0.8063 - val_accuracy: 0.7045\n",
      "6/6 [==============================] - 1s 13ms/step\n",
      "6/6 [==============================] - 0s 12ms/step - loss: 0.7821 - accuracy: 0.7018\n",
      "Model: \"sequential_13\"\n",
      "_________________________________________________________________\n",
      " Layer (type)                Output Shape              Param #   \n",
      "=================================================================\n",
      " embedding_13 (Embedding)    (None, 64, 100)           806300    \n",
      "                                                                 \n",
      " lstm_13 (LSTM)              (None, 64)                42240     \n",
      "                                                                 \n",
      " FC1 (Dense)                 (None, 64)                4160      \n",
      "                                                                 \n",
      " dropout_13 (Dropout)        (None, 64)                0         \n",
      "                                                                 \n",
      " FC2 (Dense)                 (None, 2)                 130       \n",
      "                                                                 \n",
      "=================================================================\n",
      "Total params: 852,830\n",
      "Trainable params: 852,830\n",
      "Non-trainable params: 0\n",
      "_________________________________________________________________\n",
      "Epoch 1/30\n",
      "154/154 [==============================] - 16s 79ms/step - loss: 0.7230 - accuracy: 0.5508 - val_loss: 0.5900 - val_accuracy: 0.6981\n",
      "Epoch 2/30\n",
      "154/154 [==============================] - 8s 52ms/step - loss: 0.6239 - accuracy: 0.6759 - val_loss: 0.5373 - val_accuracy: 0.7597\n",
      "Epoch 3/30\n",
      "154/154 [==============================] - 6s 41ms/step - loss: 0.5601 - accuracy: 0.7206 - val_loss: 0.5469 - val_accuracy: 0.7305\n",
      "Epoch 4/30\n",
      "154/154 [==============================] - 5s 30ms/step - loss: 0.4864 - accuracy: 0.7839 - val_loss: 0.5571 - val_accuracy: 0.7143\n",
      "Epoch 5/30\n",
      "154/154 [==============================] - 5s 31ms/step - loss: 0.4099 - accuracy: 0.8156 - val_loss: 0.5500 - val_accuracy: 0.7825\n",
      "Epoch 6/30\n",
      "154/154 [==============================] - 5s 31ms/step - loss: 0.3450 - accuracy: 0.8619 - val_loss: 0.6104 - val_accuracy: 0.7792\n",
      "Epoch 7/30\n",
      "154/154 [==============================] - 5s 30ms/step - loss: 0.2811 - accuracy: 0.8887 - val_loss: 0.6384 - val_accuracy: 0.7630\n",
      "6/6 [==============================] - 0s 11ms/step\n",
      "6/6 [==============================] - 0s 9ms/step - loss: 0.7407 - accuracy: 0.7251\n",
      "Model: \"sequential_14\"\n",
      "_________________________________________________________________\n",
      " Layer (type)                Output Shape              Param #   \n",
      "=================================================================\n",
      " embedding_14 (Embedding)    (None, 64, 100)           806300    \n",
      "                                                                 \n",
      " lstm_14 (LSTM)              (None, 64)                42240     \n",
      "                                                                 \n",
      " FC1 (Dense)                 (None, 64)                4160      \n",
      "                                                                 \n",
      " dropout_14 (Dropout)        (None, 64)                0         \n",
      "                                                                 \n",
      " FC2 (Dense)                 (None, 2)                 130       \n",
      "                                                                 \n",
      "=================================================================\n",
      "Total params: 852,830\n",
      "Trainable params: 852,830\n",
      "Non-trainable params: 0\n",
      "_________________________________________________________________\n",
      "Epoch 1/30\n",
      "154/154 [==============================] - 8s 39ms/step - loss: 0.6984 - accuracy: 0.5727 - val_loss: 0.6384 - val_accuracy: 0.6136\n",
      "Epoch 2/30\n",
      "154/154 [==============================] - 6s 37ms/step - loss: 0.6372 - accuracy: 0.6621 - val_loss: 0.5380 - val_accuracy: 0.7597\n",
      "Epoch 3/30\n",
      "154/154 [==============================] - 7s 45ms/step - loss: 0.5497 - accuracy: 0.7498 - val_loss: 0.5846 - val_accuracy: 0.7078\n",
      "Epoch 4/30\n",
      "154/154 [==============================] - 8s 50ms/step - loss: 0.4766 - accuracy: 0.7839 - val_loss: 0.5471 - val_accuracy: 0.7630\n",
      "Epoch 5/30\n",
      "154/154 [==============================] - 9s 60ms/step - loss: 0.4048 - accuracy: 0.8351 - val_loss: 0.5397 - val_accuracy: 0.7662\n",
      "Epoch 6/30\n",
      "154/154 [==============================] - 9s 59ms/step - loss: 0.3313 - accuracy: 0.8692 - val_loss: 0.8949 - val_accuracy: 0.6786\n",
      "Epoch 7/30\n",
      "154/154 [==============================] - 10s 63ms/step - loss: 0.2617 - accuracy: 0.9009 - val_loss: 0.6590 - val_accuracy: 0.7597\n",
      "6/6 [==============================] - 1s 19ms/step\n",
      "6/6 [==============================] - 0s 19ms/step - loss: 0.7404 - accuracy: 0.6842\n",
      "Model: \"sequential_15\"\n",
      "_________________________________________________________________\n",
      " Layer (type)                Output Shape              Param #   \n",
      "=================================================================\n",
      " embedding_15 (Embedding)    (None, 64, 100)           806300    \n",
      "                                                                 \n",
      " lstm_15 (LSTM)              (None, 64)                42240     \n",
      "                                                                 \n",
      " FC1 (Dense)                 (None, 64)                4160      \n",
      "                                                                 \n",
      " dropout_15 (Dropout)        (None, 64)                0         \n",
      "                                                                 \n",
      " FC2 (Dense)                 (None, 2)                 130       \n",
      "                                                                 \n",
      "=================================================================\n",
      "Total params: 852,830\n",
      "Trainable params: 852,830\n",
      "Non-trainable params: 0\n",
      "_________________________________________________________________\n",
      "Epoch 1/30\n",
      "154/154 [==============================] - 13s 63ms/step - loss: 0.7024 - accuracy: 0.5768 - val_loss: 0.5484 - val_accuracy: 0.7370\n",
      "Epoch 2/30\n",
      "154/154 [==============================] - 9s 56ms/step - loss: 0.6035 - accuracy: 0.6816 - val_loss: 0.5551 - val_accuracy: 0.7468\n",
      "Epoch 3/30\n",
      "154/154 [==============================] - 9s 58ms/step - loss: 0.5234 - accuracy: 0.7539 - val_loss: 0.5646 - val_accuracy: 0.6721\n",
      "Epoch 4/30\n",
      "154/154 [==============================] - 9s 60ms/step - loss: 0.4716 - accuracy: 0.7920 - val_loss: 0.5641 - val_accuracy: 0.7630\n",
      "Epoch 5/30\n",
      "154/154 [==============================] - 10s 62ms/step - loss: 0.4013 - accuracy: 0.8318 - val_loss: 0.5730 - val_accuracy: 0.6916\n",
      "Epoch 6/30\n",
      "154/154 [==============================] - 10s 63ms/step - loss: 0.3077 - accuracy: 0.8757 - val_loss: 0.6075 - val_accuracy: 0.7727\n",
      "6/6 [==============================] - 1s 19ms/step\n",
      "6/6 [==============================] - 0s 22ms/step - loss: 0.6738 - accuracy: 0.6842\n",
      "Model: \"sequential_16\"\n",
      "_________________________________________________________________\n",
      " Layer (type)                Output Shape              Param #   \n",
      "=================================================================\n",
      " embedding_16 (Embedding)    (None, 64, 100)           806300    \n",
      "                                                                 \n",
      " lstm_16 (LSTM)              (None, 64)                42240     \n",
      "                                                                 \n",
      " FC1 (Dense)                 (None, 64)                4160      \n",
      "                                                                 \n",
      " dropout_16 (Dropout)        (None, 64)                0         \n",
      "                                                                 \n",
      " FC2 (Dense)                 (None, 2)                 130       \n",
      "                                                                 \n",
      "=================================================================\n",
      "Total params: 852,830\n",
      "Trainable params: 852,830\n",
      "Non-trainable params: 0\n",
      "_________________________________________________________________\n",
      "Epoch 1/30\n",
      "154/154 [==============================] - 14s 62ms/step - loss: 0.7158 - accuracy: 0.5662 - val_loss: 0.5546 - val_accuracy: 0.7403\n",
      "Epoch 2/30\n",
      "154/154 [==============================] - 9s 59ms/step - loss: 0.5950 - accuracy: 0.7035 - val_loss: 0.5971 - val_accuracy: 0.7110\n",
      "Epoch 3/30\n",
      "154/154 [==============================] - 10s 66ms/step - loss: 0.5540 - accuracy: 0.7230 - val_loss: 0.5486 - val_accuracy: 0.7273\n",
      "Epoch 4/30\n",
      "154/154 [==============================] - 10s 62ms/step - loss: 0.4971 - accuracy: 0.7693 - val_loss: 0.6180 - val_accuracy: 0.7273\n",
      "Epoch 5/30\n",
      "154/154 [==============================] - 9s 61ms/step - loss: 0.4288 - accuracy: 0.8180 - val_loss: 0.6297 - val_accuracy: 0.7565\n",
      "Epoch 6/30\n",
      "154/154 [==============================] - 10s 67ms/step - loss: 0.3609 - accuracy: 0.8570 - val_loss: 0.5980 - val_accuracy: 0.7695\n",
      "Epoch 7/30\n",
      "154/154 [==============================] - 10s 65ms/step - loss: 0.3063 - accuracy: 0.8814 - val_loss: 0.7068 - val_accuracy: 0.7143\n",
      "Epoch 8/30\n",
      "154/154 [==============================] - 10s 65ms/step - loss: 0.2041 - accuracy: 0.9196 - val_loss: 0.7150 - val_accuracy: 0.7532\n",
      "6/6 [==============================] - 1s 19ms/step\n",
      "6/6 [==============================] - 0s 21ms/step - loss: 0.8037 - accuracy: 0.7135\n",
      "Model: \"sequential_17\"\n",
      "_________________________________________________________________\n",
      " Layer (type)                Output Shape              Param #   \n",
      "=================================================================\n",
      " embedding_17 (Embedding)    (None, 64, 100)           806300    \n",
      "                                                                 \n",
      " lstm_17 (LSTM)              (None, 64)                42240     \n",
      "                                                                 \n",
      " FC1 (Dense)                 (None, 64)                4160      \n",
      "                                                                 \n",
      " dropout_17 (Dropout)        (None, 64)                0         \n",
      "                                                                 \n",
      " FC2 (Dense)                 (None, 2)                 130       \n",
      "                                                                 \n",
      "=================================================================\n",
      "Total params: 852,830\n",
      "Trainable params: 852,830\n",
      "Non-trainable params: 0\n",
      "_________________________________________________________________\n",
      "Epoch 1/30\n",
      "154/154 [==============================] - 14s 68ms/step - loss: 0.7144 - accuracy: 0.5565 - val_loss: 0.5635 - val_accuracy: 0.7435\n",
      "Epoch 2/30\n",
      "154/154 [==============================] - 10s 63ms/step - loss: 0.6178 - accuracy: 0.6604 - val_loss: 0.5442 - val_accuracy: 0.7370\n",
      "Epoch 3/30\n",
      "154/154 [==============================] - 9s 60ms/step - loss: 0.5396 - accuracy: 0.7474 - val_loss: 0.5520 - val_accuracy: 0.7305\n",
      "Epoch 4/30\n",
      "154/154 [==============================] - 10s 63ms/step - loss: 0.4931 - accuracy: 0.7782 - val_loss: 0.5461 - val_accuracy: 0.7338\n",
      "Epoch 5/30\n",
      "154/154 [==============================] - 9s 57ms/step - loss: 0.4110 - accuracy: 0.8310 - val_loss: 0.5925 - val_accuracy: 0.7110\n",
      "Epoch 6/30\n",
      "154/154 [==============================] - 9s 57ms/step - loss: 0.3439 - accuracy: 0.8578 - val_loss: 0.5359 - val_accuracy: 0.7630\n",
      "Epoch 7/30\n",
      "154/154 [==============================] - 8s 54ms/step - loss: 0.2696 - accuracy: 0.9001 - val_loss: 0.6242 - val_accuracy: 0.7273\n",
      "Epoch 8/30\n",
      "154/154 [==============================] - 9s 59ms/step - loss: 0.1984 - accuracy: 0.9236 - val_loss: 0.9076 - val_accuracy: 0.7175\n",
      "Epoch 9/30\n",
      "154/154 [==============================] - 10s 62ms/step - loss: 0.1618 - accuracy: 0.9448 - val_loss: 0.8090 - val_accuracy: 0.7305\n",
      "Epoch 10/30\n",
      "154/154 [==============================] - 9s 56ms/step - loss: 0.0895 - accuracy: 0.9724 - val_loss: 1.0483 - val_accuracy: 0.7175\n",
      "Epoch 11/30\n",
      "154/154 [==============================] - 9s 60ms/step - loss: 0.0682 - accuracy: 0.9740 - val_loss: 1.0964 - val_accuracy: 0.7403\n",
      "6/6 [==============================] - 1s 27ms/step\n",
      "6/6 [==============================] - 0s 15ms/step - loss: 1.0980 - accuracy: 0.7427\n",
      "Model: \"sequential_18\"\n",
      "_________________________________________________________________\n",
      " Layer (type)                Output Shape              Param #   \n",
      "=================================================================\n",
      " embedding_18 (Embedding)    (None, 64, 100)           806300    \n",
      "                                                                 \n",
      " lstm_18 (LSTM)              (None, 64)                42240     \n",
      "                                                                 \n",
      " FC1 (Dense)                 (None, 64)                4160      \n",
      "                                                                 \n",
      " dropout_18 (Dropout)        (None, 64)                0         \n",
      "                                                                 \n",
      " FC2 (Dense)                 (None, 2)                 130       \n",
      "                                                                 \n",
      "=================================================================\n",
      "Total params: 852,830\n",
      "Trainable params: 852,830\n",
      "Non-trainable params: 0\n",
      "_________________________________________________________________\n",
      "Epoch 1/30\n",
      "154/154 [==============================] - 14s 69ms/step - loss: 0.7267 - accuracy: 0.5467 - val_loss: 0.6039 - val_accuracy: 0.6883\n",
      "Epoch 2/30\n",
      "154/154 [==============================] - 10s 63ms/step - loss: 0.6023 - accuracy: 0.6929 - val_loss: 0.5377 - val_accuracy: 0.7468\n",
      "Epoch 3/30\n",
      "154/154 [==============================] - 9s 61ms/step - loss: 0.5315 - accuracy: 0.7482 - val_loss: 0.5449 - val_accuracy: 0.7370\n",
      "Epoch 4/30\n",
      "154/154 [==============================] - 10s 64ms/step - loss: 0.4670 - accuracy: 0.7896 - val_loss: 0.5380 - val_accuracy: 0.7695\n",
      "Epoch 5/30\n",
      "154/154 [==============================] - 10s 65ms/step - loss: 0.4115 - accuracy: 0.8245 - val_loss: 0.5903 - val_accuracy: 0.7370\n",
      "Epoch 6/30\n",
      "154/154 [==============================] - 10s 62ms/step - loss: 0.3363 - accuracy: 0.8660 - val_loss: 0.6128 - val_accuracy: 0.7695\n",
      "Epoch 7/30\n",
      "154/154 [==============================] - 9s 59ms/step - loss: 0.2645 - accuracy: 0.9033 - val_loss: 0.7245 - val_accuracy: 0.7630\n",
      "6/6 [==============================] - 1s 19ms/step\n",
      "6/6 [==============================] - 0s 20ms/step - loss: 0.6910 - accuracy: 0.7602\n",
      "Model: \"sequential_19\"\n",
      "_________________________________________________________________\n",
      " Layer (type)                Output Shape              Param #   \n",
      "=================================================================\n",
      " embedding_19 (Embedding)    (None, 64, 100)           806300    \n",
      "                                                                 \n",
      " lstm_19 (LSTM)              (None, 64)                42240     \n",
      "                                                                 \n",
      " FC1 (Dense)                 (None, 64)                4160      \n",
      "                                                                 \n",
      " dropout_19 (Dropout)        (None, 64)                0         \n",
      "                                                                 \n",
      " FC2 (Dense)                 (None, 2)                 130       \n",
      "                                                                 \n",
      "=================================================================\n",
      "Total params: 852,830\n",
      "Trainable params: 852,830\n",
      "Non-trainable params: 0\n",
      "_________________________________________________________________\n",
      "Epoch 1/30\n",
      "154/154 [==============================] - 15s 71ms/step - loss: 0.7167 - accuracy: 0.5605 - val_loss: 0.5521 - val_accuracy: 0.7240\n",
      "Epoch 2/30\n",
      "154/154 [==============================] - 9s 58ms/step - loss: 0.6103 - accuracy: 0.6816 - val_loss: 0.5465 - val_accuracy: 0.7435\n",
      "Epoch 3/30\n",
      "154/154 [==============================] - 8s 51ms/step - loss: 0.5557 - accuracy: 0.7482 - val_loss: 0.5320 - val_accuracy: 0.7500\n",
      "Epoch 4/30\n",
      "154/154 [==============================] - 6s 39ms/step - loss: 0.4964 - accuracy: 0.7807 - val_loss: 0.5214 - val_accuracy: 0.7695\n",
      "Epoch 5/30\n",
      "154/154 [==============================] - 6s 39ms/step - loss: 0.4325 - accuracy: 0.8245 - val_loss: 0.5713 - val_accuracy: 0.7240\n",
      "Epoch 6/30\n",
      "154/154 [==============================] - 6s 40ms/step - loss: 0.3516 - accuracy: 0.8668 - val_loss: 0.5396 - val_accuracy: 0.7987\n",
      "Epoch 7/30\n",
      "154/154 [==============================] - 6s 39ms/step - loss: 0.2758 - accuracy: 0.8936 - val_loss: 0.5822 - val_accuracy: 0.7890\n",
      "Epoch 8/30\n",
      "154/154 [==============================] - 6s 39ms/step - loss: 0.2143 - accuracy: 0.9261 - val_loss: 0.6814 - val_accuracy: 0.7532\n",
      "Epoch 9/30\n",
      "154/154 [==============================] - 7s 43ms/step - loss: 0.1698 - accuracy: 0.9464 - val_loss: 0.7352 - val_accuracy: 0.7500\n",
      "6/6 [==============================] - 1s 10ms/step\n",
      "6/6 [==============================] - 0s 10ms/step - loss: 0.8127 - accuracy: 0.7251\n",
      "Model: \"sequential_20\"\n",
      "_________________________________________________________________\n",
      " Layer (type)                Output Shape              Param #   \n",
      "=================================================================\n",
      " embedding_20 (Embedding)    (None, 64, 100)           806300    \n",
      "                                                                 \n",
      " lstm_20 (LSTM)              (None, 64)                42240     \n",
      "                                                                 \n",
      " FC1 (Dense)                 (None, 64)                4160      \n",
      "                                                                 \n",
      " dropout_20 (Dropout)        (None, 64)                0         \n",
      "                                                                 \n",
      " FC2 (Dense)                 (None, 2)                 130       \n",
      "                                                                 \n",
      "=================================================================\n",
      "Total params: 852,830\n",
      "Trainable params: 852,830\n",
      "Non-trainable params: 0\n",
      "_________________________________________________________________\n",
      "Epoch 1/30\n",
      "154/154 [==============================] - 9s 46ms/step - loss: 0.6802 - accuracy: 0.6101 - val_loss: 0.5767 - val_accuracy: 0.7305\n",
      "Epoch 2/30\n",
      "154/154 [==============================] - 6s 39ms/step - loss: 0.5760 - accuracy: 0.7100 - val_loss: 0.5410 - val_accuracy: 0.7662\n",
      "Epoch 3/30\n",
      "154/154 [==============================] - 6s 38ms/step - loss: 0.5307 - accuracy: 0.7628 - val_loss: 0.5282 - val_accuracy: 0.7597\n",
      "Epoch 4/30\n",
      "154/154 [==============================] - 6s 40ms/step - loss: 0.4471 - accuracy: 0.8026 - val_loss: 0.5279 - val_accuracy: 0.7630\n",
      "Epoch 5/30\n",
      "154/154 [==============================] - 6s 40ms/step - loss: 0.3827 - accuracy: 0.8497 - val_loss: 0.5516 - val_accuracy: 0.7695\n",
      "Epoch 6/30\n",
      "154/154 [==============================] - 6s 39ms/step - loss: 0.3090 - accuracy: 0.8798 - val_loss: 0.7288 - val_accuracy: 0.7662\n",
      "Epoch 7/30\n",
      "154/154 [==============================] - 5s 33ms/step - loss: 0.2368 - accuracy: 0.9123 - val_loss: 0.6230 - val_accuracy: 0.7240\n",
      "Epoch 8/30\n",
      "154/154 [==============================] - 5s 30ms/step - loss: 0.1788 - accuracy: 0.9439 - val_loss: 1.0450 - val_accuracy: 0.7370\n",
      "Epoch 9/30\n",
      "154/154 [==============================] - 5s 31ms/step - loss: 0.1379 - accuracy: 0.9561 - val_loss: 0.8739 - val_accuracy: 0.7240\n",
      "6/6 [==============================] - 0s 11ms/step\n",
      "6/6 [==============================] - 0s 9ms/step - loss: 0.8681 - accuracy: 0.7018\n",
      "Model: \"sequential_21\"\n",
      "_________________________________________________________________\n",
      " Layer (type)                Output Shape              Param #   \n",
      "=================================================================\n",
      " embedding_21 (Embedding)    (None, 64, 100)           806300    \n",
      "                                                                 \n",
      " lstm_21 (LSTM)              (None, 64)                42240     \n",
      "                                                                 \n",
      " FC1 (Dense)                 (None, 64)                4160      \n",
      "                                                                 \n",
      " dropout_21 (Dropout)        (None, 64)                0         \n",
      "                                                                 \n",
      " FC2 (Dense)                 (None, 2)                 130       \n",
      "                                                                 \n",
      "=================================================================\n",
      "Total params: 852,830\n",
      "Trainable params: 852,830\n",
      "Non-trainable params: 0\n",
      "_________________________________________________________________\n",
      "Epoch 1/30\n",
      "154/154 [==============================] - 8s 39ms/step - loss: 0.7383 - accuracy: 0.5337 - val_loss: 0.6427 - val_accuracy: 0.6461\n",
      "Epoch 2/30\n",
      "154/154 [==============================] - 5s 32ms/step - loss: 0.6179 - accuracy: 0.6734 - val_loss: 0.5371 - val_accuracy: 0.7468\n",
      "Epoch 3/30\n",
      "154/154 [==============================] - 5s 35ms/step - loss: 0.5345 - accuracy: 0.7457 - val_loss: 0.5562 - val_accuracy: 0.7273\n",
      "Epoch 4/30\n",
      "154/154 [==============================] - 6s 37ms/step - loss: 0.4611 - accuracy: 0.7945 - val_loss: 0.5324 - val_accuracy: 0.7403\n",
      "Epoch 5/30\n",
      "154/154 [==============================] - 6s 39ms/step - loss: 0.4068 - accuracy: 0.8424 - val_loss: 0.5999 - val_accuracy: 0.7403\n",
      "Epoch 6/30\n",
      "154/154 [==============================] - 5s 33ms/step - loss: 0.3197 - accuracy: 0.8790 - val_loss: 0.6700 - val_accuracy: 0.6786\n",
      "Epoch 7/30\n",
      "154/154 [==============================] - 5s 32ms/step - loss: 0.2642 - accuracy: 0.9009 - val_loss: 0.5801 - val_accuracy: 0.7695\n",
      "Epoch 8/30\n",
      "154/154 [==============================] - 5s 33ms/step - loss: 0.1707 - accuracy: 0.9391 - val_loss: 0.7800 - val_accuracy: 0.7435\n",
      "Epoch 9/30\n",
      "154/154 [==============================] - 5s 34ms/step - loss: 0.1335 - accuracy: 0.9529 - val_loss: 0.7574 - val_accuracy: 0.7532\n",
      "6/6 [==============================] - 0s 10ms/step\n",
      "6/6 [==============================] - 0s 10ms/step - loss: 0.9145 - accuracy: 0.7076\n"
     ]
    }
   ],
   "source": [
    "score_list=[]\n",
    "for i in range(10):\n",
    "    ## 定义LSTM模型\n",
    "    batch_size = 8  \n",
    "    inputs = Input(name='inputs',shape=[maxLen])\n",
    "    embedder = Embedding(len(vocab) + 1, 100, input_length=maxLen, weights=[embedding_matrix], trainable=True)\n",
    "    model=Sequential()\n",
    "    model.add(embedder)\n",
    "    model.add(LSTM(64))\n",
    "    model.add(Dense(64,activation=\"sigmoid\",name=\"FC1\"))\n",
    "    model.add(Dropout(0.4,seed=12))\n",
    "    model.add(Dense(2,activation=\"softmax\",name=\"FC2\"))\n",
    "    model.summary()\n",
    "    model.compile(loss=\"categorical_crossentropy\",optimizer=RMSprop(),metrics=[\"accuracy\"])\n",
    "    #reduce_lr = ReduceLROnPlateau(monitor='val_loss',factor=0.1 ,patience=3, mode='auto')\n",
    "    history=model.fit(trainSeq, trainCate, batch_size, epochs=30,validation_split=0.2, callbacks=[EarlyStopping(monitor='val_loss',patience=5)])\n",
    "    result = model.predict(testSeq)  # 预测样本属于每个类别的概率\n",
    "    score = model.evaluate(testSeq,\n",
    "                               testCate,\n",
    "                               batch_size=32)\n",
    "    score_list.append(score[1])"
   ]
  },
  {
   "cell_type": "code",
   "execution_count": 47,
   "id": "7a7fbe16",
   "metadata": {},
   "outputs": [
    {
     "name": "stdout",
     "output_type": "stream",
     "text": [
      "accuracy:0.7146198868751525\n"
     ]
    }
   ],
   "source": [
    "print('accuracy:'+str(sum(score_list)/len(score_list)))"
   ]
  },
  {
   "cell_type": "code",
   "execution_count": 48,
   "id": "c717fe6f",
   "metadata": {},
   "outputs": [],
   "source": [
    "score_list.sort()"
   ]
  },
  {
   "cell_type": "code",
   "execution_count": 49,
   "id": "205e3cfa",
   "metadata": {},
   "outputs": [
    {
     "data": {
      "text/plain": [
       "[0.6842105388641357,\n",
       " 0.6842105388641357,\n",
       " 0.7017543911933899,\n",
       " 0.7017543911933899,\n",
       " 0.707602322101593,\n",
       " 0.7134503126144409,\n",
       " 0.7251461744308472,\n",
       " 0.7251461744308472,\n",
       " 0.7426900863647461,\n",
       " 0.7602339386940002]"
      ]
     },
     "execution_count": 49,
     "metadata": {},
     "output_type": "execute_result"
    }
   ],
   "source": [
    "score_list"
   ]
  },
  {
   "cell_type": "code",
   "execution_count": 50,
   "id": "f895f68a",
   "metadata": {},
   "outputs": [
    {
     "data": {
      "text/plain": [
       "0.7179987033208212"
      ]
     },
     "execution_count": 50,
     "metadata": {},
     "output_type": "execute_result"
    }
   ],
   "source": [
    "sum(score_list[1:])/len(score_list[1:])"
   ]
  }
 ],
 "metadata": {
  "kernelspec": {
   "display_name": "Python 3.10.6 ('4222G18_backup')",
   "language": "python",
   "name": "python3"
  },
  "language_info": {
   "codemirror_mode": {
    "name": "ipython",
    "version": 3
   },
   "file_extension": ".py",
   "mimetype": "text/x-python",
   "name": "python",
   "nbconvert_exporter": "python",
   "pygments_lexer": "ipython3",
   "version": "3.10.6"
  },
  "vscode": {
   "interpreter": {
    "hash": "64fb50f4500008f9f404f170e716523d28225753a93c94be3d36e645dbfada09"
   }
  }
 },
 "nbformat": 4,
 "nbformat_minor": 5
}
