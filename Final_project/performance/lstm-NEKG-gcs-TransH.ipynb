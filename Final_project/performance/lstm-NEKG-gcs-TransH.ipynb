{
 "cells": [
  {
   "cell_type": "code",
   "execution_count": 14,
   "id": "d6419e41",
   "metadata": {},
   "outputs": [
    {
     "data": {
      "text/plain": [
       "'/home/egbert_jing/github/NEKG_G/Final_project'"
      ]
     },
     "execution_count": 14,
     "metadata": {},
     "output_type": "execute_result"
    }
   ],
   "source": [
    "import sys\n",
    "import os\n",
    "path_father = os.path.abspath(r'..')\n",
    "path_father\n",
    "# sys.path.append(path_father)"
   ]
  },
  {
   "cell_type": "code",
   "execution_count": 15,
   "id": "fce28d96",
   "metadata": {},
   "outputs": [],
   "source": [
    "import pandas as pd\n",
    "import numpy as np\n",
    "import matplotlib.pyplot as plt\n",
    "import seaborn as sns\n",
    "from sklearn import metrics\n",
    "from sklearn.preprocessing import LabelEncoder,OneHotEncoder\n",
    "from keras.models import Model\n",
    "from keras.layers import LSTM, Activation, Dense, Dropout, Input, Embedding\n",
    "from keras.optimizers import RMSprop\n",
    "from keras.preprocessing.text import Tokenizer\n",
    "from keras.preprocessing import sequence\n",
    "from keras.callbacks import EarlyStopping\n",
    "from keras_preprocessing.sequence import pad_sequences\n",
    "from keras.utils.np_utils import to_categorical\n",
    "from keras.models import Sequential\n",
    "from keras.callbacks import ReduceLROnPlateau\n",
    "from keras.models import load_model\n",
    "%matplotlib inline"
   ]
  },
  {
   "cell_type": "code",
   "execution_count": 16,
   "id": "c268b59b",
   "metadata": {},
   "outputs": [],
   "source": [
    "df = pd.read_csv(path_father + \"/df_with_gcs.txt\",sep=',',header=0)"
   ]
  },
  {
   "cell_type": "code",
   "execution_count": 17,
   "id": "e9e0ee5c",
   "metadata": {},
   "outputs": [],
   "source": [
    "#划分训练测试集\n",
    "from sklearn.model_selection import train_test_split\n",
    "\n",
    "train_set, test_set = train_test_split(df, test_size=0.1, random_state=42)"
   ]
  },
  {
   "cell_type": "markdown",
   "id": "59d7c98f",
   "metadata": {},
   "source": [
    "处理词向量"
   ]
  },
  {
   "cell_type": "code",
   "execution_count": 18,
   "id": "12c63f87",
   "metadata": {},
   "outputs": [],
   "source": [
    "from gensim.models import word2vec\n",
    "import logging\n",
    "logging.basicConfig(format='%(asctime)s : %(levelname)s : %(message)s', level=logging.INFO) "
   ]
  },
  {
   "cell_type": "code",
   "execution_count": 19,
   "id": "f13dfd1d",
   "metadata": {},
   "outputs": [],
   "source": [
    "# 切分词汇\n",
    "def cut(data):\n",
    "    cut= [s.split() for s in data['TriageNote'].astype(str)]\n",
    "    return cut"
   ]
  },
  {
   "cell_type": "code",
   "execution_count": 20,
   "id": "94dd810e",
   "metadata": {},
   "outputs": [],
   "source": [
    "train_text=cut(train_set)\n",
    "test_text=cut(test_set)\n",
    "sentences=train_text+test_text"
   ]
  },
  {
   "cell_type": "code",
   "execution_count": 21,
   "id": "2b4b566b",
   "metadata": {},
   "outputs": [
    {
     "data": {
      "text/plain": [
       "57"
      ]
     },
     "execution_count": 21,
     "metadata": {},
     "output_type": "execute_result"
    }
   ],
   "source": [
    "#得到最大句子长度\n",
    "num_list=[len(one) for one in sentences]\n",
    "max(num_list)"
   ]
  },
  {
   "cell_type": "code",
   "execution_count": 22,
   "id": "25aa3ce1",
   "metadata": {},
   "outputs": [],
   "source": [
    "maxLen=64"
   ]
  },
  {
   "cell_type": "code",
   "execution_count": 23,
   "id": "cad599c7",
   "metadata": {},
   "outputs": [],
   "source": [
    "#处理label->one_hot\n",
    "from sklearn.preprocessing import LabelEncoder\n",
    "\n",
    "def encodelabel(data):\n",
    "    le = LabelEncoder()\n",
    "    resultLable=le.fit_transform(data['DISPOSITION'])\n",
    "    return resultLable\n"
   ]
  },
  {
   "cell_type": "code",
   "execution_count": 24,
   "id": "b3dcf8dc",
   "metadata": {},
   "outputs": [],
   "source": [
    "train_lable=encodelabel(train_set)\n",
    "test_lable=encodelabel(test_set)"
   ]
  },
  {
   "cell_type": "code",
   "execution_count": 25,
   "id": "1f35b5d9",
   "metadata": {},
   "outputs": [
    {
     "name": "stderr",
     "output_type": "stream",
     "text": [
      "2022-11-27 18:30:02,888 : INFO : loading Word2Vec object from ./word2vec_all.model\n",
      "2022-11-27 18:30:02,920 : INFO : loading wv recursively from ./word2vec_all.model.wv.* with mmap=None\n",
      "2022-11-27 18:30:02,921 : INFO : setting ignored attribute cum_table to None\n",
      "2022-11-27 18:30:03,004 : INFO : Word2Vec lifecycle event {'fname': './word2vec_all.model', 'datetime': '2022-11-27T18:30:03.004266', 'gensim': '4.2.0', 'python': '3.10.6 (main, Oct 24 2022, 16:07:47) [GCC 11.2.0]', 'platform': 'Linux-5.15.74.2-microsoft-standard-WSL2-x86_64-with-glibc2.35', 'event': 'loaded'}\n"
     ]
    }
   ],
   "source": [
    "wvmodel = word2vec.Word2Vec.load(\"./word2vec_all.model\")"
   ]
  },
  {
   "cell_type": "code",
   "execution_count": 26,
   "id": "9cc89146",
   "metadata": {},
   "outputs": [
    {
     "data": {
      "text/plain": [
       "array([[ 0.02010893,  0.02715796,  0.02249395, ..., -0.09846709,\n",
       "        -0.05149414, -0.06634133],\n",
       "       [-0.12530783,  0.06209144, -0.15760776, ..., -0.13882971,\n",
       "        -0.09542618,  0.1134273 ],\n",
       "       [-0.10277808,  0.16648157,  0.01638913, ...,  0.07323747,\n",
       "        -0.04092245,  0.15788686],\n",
       "       ...,\n",
       "       [ 0.12981136,  0.13843985,  0.18554311, ...,  0.00819867,\n",
       "         0.11605459,  0.01335265],\n",
       "       [-0.06933299, -0.14946394,  0.13571917, ..., -0.1111702 ,\n",
       "        -0.03188507, -0.02692935],\n",
       "       [ 0.14917482,  0.058537  , -0.03947632, ...,  0.13426761,\n",
       "         0.17647322, -0.17216131]])"
      ]
     },
     "execution_count": 26,
     "metadata": {},
     "output_type": "execute_result"
    }
   ],
   "source": [
    "# import json\n",
    "# f = open(path_father + \"/embedding/TransH_99.json\")\n",
    "# nekg = json.load(f)\n",
    "nekg=np.load(path_father + '/embedding/TransH_99.npy')\n",
    "nekg"
   ]
  },
  {
   "cell_type": "code",
   "execution_count": 27,
   "id": "26830919",
   "metadata": {},
   "outputs": [],
   "source": [
    "tokenizer=Tokenizer()\n",
    "tokenizer.fit_on_texts(sentences)\n",
    "vocab = tokenizer.word_index "
   ]
  },
  {
   "cell_type": "code",
   "execution_count": 28,
   "id": "d6b9da6f",
   "metadata": {},
   "outputs": [],
   "source": [
    "#特征数字编号，不足的话会在前面补充0\n",
    "trainID = tokenizer.texts_to_sequences(train_text)\n",
    "# print(trainID)\n",
    "testID = tokenizer.texts_to_sequences(test_text)\n",
    "trainSeq=pad_sequences(trainID,maxlen=maxLen)\n",
    "#print(trainSeq)\n",
    "testSeq=pad_sequences(testID,maxlen=maxLen)\n",
    "\n",
    "#标签的独热编码\n",
    "trainCate = to_categorical(train_lable, num_classes=2)  # 将标签转换为one-hot编码\n",
    "#print(trainCate)\n",
    "testCate= to_categorical(test_lable, num_classes=2)  # 将标签转换为one-hot编码"
   ]
  },
  {
   "cell_type": "code",
   "execution_count": 29,
   "id": "cc516388",
   "metadata": {},
   "outputs": [],
   "source": [
    "def nekg_embed(n0):\n",
    "    n1=int(n0)\n",
    "    n2=int(n0)+1\n",
    "    s1=(n2-n0)/(n2-n1)\n",
    "    s2=(n0-n1)/(n2-n1)\n",
    "    return s1*nekg[n1]+s2*nekg[n2]"
   ]
  },
  {
   "cell_type": "code",
   "execution_count": 30,
   "id": "88a8378f",
   "metadata": {},
   "outputs": [],
   "source": [
    "#利用训练后的word2vec自定义Embedding的训练矩阵，每行代表一个词（结合独热码和矩阵乘法理解）\n",
    "embedding_matrix = np.zeros((len(vocab) + 1, 100))\n",
    "for word, i in vocab.items():\n",
    "    try:\n",
    "        if(word.isdigit()==False):#对word用word2vec\n",
    "            embedding_vector = wvmodel.wv[str(word)]\n",
    "        else:#对number用nekg\n",
    "            if (int(float(word))<=98):\n",
    "                embedding_vector =  nekg_embed(float(word))\n",
    "            else:\n",
    "                embedding_vector = wvmodel.wv[str(word)]\n",
    "        embedding_matrix[i] = embedding_vector    \n",
    "    except KeyError:\n",
    "        continue"
   ]
  },
  {
   "cell_type": "code",
   "execution_count": 31,
   "id": "1fa9c8f0",
   "metadata": {},
   "outputs": [
    {
     "name": "stderr",
     "output_type": "stream",
     "text": [
      "2022-11-27 18:30:03.805092: I tensorflow/stream_executor/cuda/cuda_gpu_executor.cc:966] could not open file to read NUMA node: /sys/bus/pci/devices/0000:01:00.0/numa_node\n",
      "Your kernel may have been built without NUMA support.\n",
      "2022-11-27 18:30:04.128756: W tensorflow/stream_executor/platform/default/dso_loader.cc:64] Could not load dynamic library 'libcudnn.so.8'; dlerror: libcudnn.so.8: cannot open shared object file: No such file or directory; LD_LIBRARY_PATH: :/usr/local/cuda-11.8/lib64\n",
      "2022-11-27 18:30:04.128836: W tensorflow/core/common_runtime/gpu/gpu_device.cc:1934] Cannot dlopen some GPU libraries. Please make sure the missing libraries mentioned above are installed properly if you would like to use GPU. Follow the guide at https://www.tensorflow.org/install/gpu for how to download and setup the required libraries for your platform.\n",
      "Skipping registering GPU devices...\n",
      "2022-11-27 18:30:04.134225: I tensorflow/core/platform/cpu_feature_guard.cc:193] This TensorFlow binary is optimized with oneAPI Deep Neural Network Library (oneDNN) to use the following CPU instructions in performance-critical operations:  AVX2 FMA\n",
      "To enable them in other operations, rebuild TensorFlow with the appropriate compiler flags.\n"
     ]
    },
    {
     "name": "stdout",
     "output_type": "stream",
     "text": [
      "Model: \"sequential\"\n",
      "_________________________________________________________________\n",
      " Layer (type)                Output Shape              Param #   \n",
      "=================================================================\n",
      " embedding (Embedding)       (None, 64, 100)           806300    \n",
      "                                                                 \n",
      " lstm (LSTM)                 (None, 64)                42240     \n",
      "                                                                 \n",
      " FC1 (Dense)                 (None, 64)                4160      \n",
      "                                                                 \n",
      " dropout (Dropout)           (None, 64)                0         \n",
      "                                                                 \n",
      " FC2 (Dense)                 (None, 2)                 130       \n",
      "                                                                 \n",
      "=================================================================\n",
      "Total params: 852,830\n",
      "Trainable params: 852,830\n",
      "Non-trainable params: 0\n",
      "_________________________________________________________________\n",
      "Epoch 1/30\n",
      "154/154 [==============================] - 7s 35ms/step - loss: 0.7172 - accuracy: 0.5378 - val_loss: 0.6658 - val_accuracy: 0.5974\n",
      "Epoch 2/30\n",
      "154/154 [==============================] - 4s 25ms/step - loss: 0.5981 - accuracy: 0.6816 - val_loss: 0.5437 - val_accuracy: 0.7338\n",
      "Epoch 3/30\n",
      "154/154 [==============================] - 4s 26ms/step - loss: 0.5509 - accuracy: 0.7400 - val_loss: 0.7055 - val_accuracy: 0.6136\n",
      "Epoch 4/30\n",
      "154/154 [==============================] - 4s 26ms/step - loss: 0.4711 - accuracy: 0.7969 - val_loss: 0.5359 - val_accuracy: 0.7662\n",
      "Epoch 5/30\n",
      "154/154 [==============================] - 4s 26ms/step - loss: 0.3972 - accuracy: 0.8327 - val_loss: 0.5479 - val_accuracy: 0.7597\n",
      "Epoch 6/30\n",
      "154/154 [==============================] - 4s 25ms/step - loss: 0.3408 - accuracy: 0.8627 - val_loss: 0.5223 - val_accuracy: 0.7792\n",
      "Epoch 7/30\n",
      "154/154 [==============================] - 4s 25ms/step - loss: 0.2561 - accuracy: 0.9098 - val_loss: 0.5719 - val_accuracy: 0.7695\n",
      "Epoch 8/30\n",
      "154/154 [==============================] - 4s 27ms/step - loss: 0.1995 - accuracy: 0.9245 - val_loss: 0.7872 - val_accuracy: 0.7143\n",
      "Epoch 9/30\n",
      "154/154 [==============================] - 4s 29ms/step - loss: 0.1429 - accuracy: 0.9472 - val_loss: 0.7373 - val_accuracy: 0.7532\n",
      "Epoch 10/30\n",
      "154/154 [==============================] - 5s 32ms/step - loss: 0.0944 - accuracy: 0.9626 - val_loss: 0.8648 - val_accuracy: 0.7532\n",
      "Epoch 11/30\n",
      "154/154 [==============================] - 4s 28ms/step - loss: 0.0627 - accuracy: 0.9781 - val_loss: 1.0498 - val_accuracy: 0.7240\n"
     ]
    },
    {
     "name": "stderr",
     "output_type": "stream",
     "text": [
      "2022-11-27 18:30:56,773 : WARNING : Found untraced functions such as lstm_cell_layer_call_fn, lstm_cell_layer_call_and_return_conditional_losses while saving (showing 2 of 2). These functions will not be directly callable after loading.\n"
     ]
    },
    {
     "name": "stdout",
     "output_type": "stream",
     "text": [
      "INFO:tensorflow:Assets written to: LSTM/assets\n"
     ]
    },
    {
     "name": "stderr",
     "output_type": "stream",
     "text": [
      "2022-11-27 18:30:57,672 : INFO : Assets written to: LSTM/assets\n"
     ]
    }
   ],
   "source": [
    "## 定义LSTM模型\n",
    "batch_size=8\n",
    "inputs = Input(name='inputs',shape=[maxLen])\n",
    "embedder = Embedding(len(vocab) + 1, 100, input_length=maxLen, weights=[embedding_matrix], trainable=True)\n",
    "model=Sequential()\n",
    "model.add(embedder)\n",
    "model.add(LSTM(64))\n",
    "model.add(Dense(64,activation=\"sigmoid\",name=\"FC1\"))\n",
    "model.add(Dropout(0.4))\n",
    "model.add(Dense(2,activation=\"softmax\",name=\"FC2\"))\n",
    "model.summary()\n",
    "model.compile(loss=\"categorical_crossentropy\",optimizer=RMSprop(),metrics=[\"accuracy\"])\n",
    "#reduce_lr = ReduceLROnPlateau(monitor='val_loss',factor=0.1 ,patience=3, mode='auto')\n",
    "history=model.fit(trainSeq, trainCate, batch_size, epochs=30,validation_split=0.2, callbacks=[EarlyStopping(monitor='val_loss',patience=5)])\n",
    "model.save(\"LSTM\")"
   ]
  },
  {
   "cell_type": "code",
   "execution_count": 32,
   "id": "f6b394d2",
   "metadata": {},
   "outputs": [
    {
     "name": "stdout",
     "output_type": "stream",
     "text": [
      "6/6 [==============================] - 1s 15ms/step\n",
      "6/6 [==============================] - 1s 12ms/step - loss: 1.2335 - accuracy: 0.6608\n",
      "[1.2334519624710083, 0.6608186960220337]\n"
     ]
    }
   ],
   "source": [
    "#预测与评估\n",
    "mainModel = load_model('LSTM')\n",
    "result = mainModel.predict(testSeq)  # 预测样本属于每个类别的概率\n",
    "score = mainModel.evaluate(testSeq,\n",
    "                           testCate,\n",
    "                           batch_size=32)\n",
    "print(score)"
   ]
  },
  {
   "cell_type": "code",
   "execution_count": 33,
   "id": "5cd82ded",
   "metadata": {},
   "outputs": [
    {
     "data": {
      "image/png": "[encoded data removed]",
      "text/plain": [
       "<Figure size 640x480 with 1 Axes>"
      ]
     },
     "metadata": {},
     "output_type": "display_data"
    },
    {
     "data": {
      "image/png": "[encoded data removed]",
      "text/plain": [
       "<Figure size 640x480 with 1 Axes>"
      ]
     },
     "metadata": {},
     "output_type": "display_data"
    }
   ],
   "source": [
    "plt.plot(history.history['accuracy'])\n",
    "plt.plot(history.history['val_accuracy'])\n",
    "plt.title('Model accuracy')\n",
    "plt.ylabel('Accuracy')\n",
    "plt.xlabel('Epoch')\n",
    "plt.legend(['Train','Valid'],loc='upper left')\n",
    "plt.show()\n",
    "\n",
    "plt.plot(history.history['loss'])\n",
    "plt.plot(history.history['val_loss'])\n",
    "plt.title('Model loss')\n",
    "plt.ylabel('Loss')\n",
    "plt.xlabel('Epoch')\n",
    "plt.legend(['Train','Valid'],loc='upper left')\n",
    "plt.show()"
   ]
  },
  {
   "cell_type": "code",
   "execution_count": 34,
   "id": "5450d945",
   "metadata": {},
   "outputs": [
    {
     "name": "stdout",
     "output_type": "stream",
     "text": [
      "Model: \"sequential_1\"\n",
      "_________________________________________________________________\n",
      " Layer (type)                Output Shape              Param #   \n",
      "=================================================================\n",
      " embedding_1 (Embedding)     (None, 64, 100)           806300    \n",
      "                                                                 \n",
      " lstm_1 (LSTM)               (None, 64)                42240     \n",
      "                                                                 \n",
      " FC1 (Dense)                 (None, 64)                4160      \n",
      "                                                                 \n",
      " dropout_1 (Dropout)         (None, 64)                0         \n",
      "                                                                 \n",
      " FC2 (Dense)                 (None, 2)                 130       \n",
      "                                                                 \n",
      "=================================================================\n",
      "Total params: 852,830\n",
      "Trainable params: 852,830\n",
      "Non-trainable params: 0\n",
      "_________________________________________________________________\n",
      "Epoch 1/30\n",
      "154/154 [==============================] - 7s 33ms/step - loss: 0.7081 - accuracy: 0.5711 - val_loss: 0.5888 - val_accuracy: 0.7143\n",
      "Epoch 2/30\n",
      "154/154 [==============================] - 5s 33ms/step - loss: 0.5936 - accuracy: 0.7002 - val_loss: 0.5833 - val_accuracy: 0.6818\n",
      "Epoch 3/30\n",
      "154/154 [==============================] - 5s 32ms/step - loss: 0.5377 - accuracy: 0.7465 - val_loss: 0.5845 - val_accuracy: 0.6916\n",
      "Epoch 4/30\n",
      "154/154 [==============================] - 4s 29ms/step - loss: 0.4813 - accuracy: 0.7823 - val_loss: 0.5147 - val_accuracy: 0.7500\n",
      "Epoch 5/30\n",
      "154/154 [==============================] - 5s 29ms/step - loss: 0.3846 - accuracy: 0.8497 - val_loss: 0.5818 - val_accuracy: 0.7630\n",
      "Epoch 6/30\n",
      "154/154 [==============================] - 5s 30ms/step - loss: 0.3184 - accuracy: 0.8725 - val_loss: 0.5825 - val_accuracy: 0.7760\n",
      "Epoch 7/30\n",
      "154/154 [==============================] - 5s 30ms/step - loss: 0.2440 - accuracy: 0.8993 - val_loss: 0.6035 - val_accuracy: 0.7565\n",
      "Epoch 8/30\n",
      "154/154 [==============================] - 5s 30ms/step - loss: 0.1830 - accuracy: 0.9358 - val_loss: 0.6774 - val_accuracy: 0.7532\n",
      "Epoch 9/30\n",
      "154/154 [==============================] - 5s 30ms/step - loss: 0.1146 - accuracy: 0.9586 - val_loss: 1.3225 - val_accuracy: 0.6201\n",
      "6/6 [==============================] - 0s 9ms/step\n",
      "6/6 [==============================] - 0s 9ms/step - loss: 1.0507 - accuracy: 0.6725\n",
      "Model: \"sequential_2\"\n",
      "_________________________________________________________________\n",
      " Layer (type)                Output Shape              Param #   \n",
      "=================================================================\n",
      " embedding_2 (Embedding)     (None, 64, 100)           806300    \n",
      "                                                                 \n",
      " lstm_2 (LSTM)               (None, 64)                42240     \n",
      "                                                                 \n",
      " FC1 (Dense)                 (None, 64)                4160      \n",
      "                                                                 \n",
      " dropout_2 (Dropout)         (None, 64)                0         \n",
      "                                                                 \n",
      " FC2 (Dense)                 (None, 2)                 130       \n",
      "                                                                 \n",
      "=================================================================\n",
      "Total params: 852,830\n",
      "Trainable params: 852,830\n",
      "Non-trainable params: 0\n",
      "_________________________________________________________________\n",
      "Epoch 1/30\n",
      "154/154 [==============================] - 7s 32ms/step - loss: 0.7291 - accuracy: 0.5605 - val_loss: 0.5544 - val_accuracy: 0.7338\n",
      "Epoch 2/30\n",
      "154/154 [==============================] - 5s 31ms/step - loss: 0.6171 - accuracy: 0.6767 - val_loss: 0.6066 - val_accuracy: 0.7143\n",
      "Epoch 3/30\n",
      "154/154 [==============================] - 5s 32ms/step - loss: 0.5477 - accuracy: 0.7465 - val_loss: 0.5393 - val_accuracy: 0.7305\n",
      "Epoch 4/30\n",
      "154/154 [==============================] - 5s 31ms/step - loss: 0.4771 - accuracy: 0.7912 - val_loss: 0.5212 - val_accuracy: 0.7565\n",
      "Epoch 5/30\n",
      "154/154 [==============================] - 5s 31ms/step - loss: 0.4084 - accuracy: 0.8367 - val_loss: 0.5342 - val_accuracy: 0.7532\n",
      "Epoch 6/30\n",
      "154/154 [==============================] - 5s 30ms/step - loss: 0.3472 - accuracy: 0.8595 - val_loss: 0.5945 - val_accuracy: 0.7695\n",
      "Epoch 7/30\n",
      "154/154 [==============================] - 5s 31ms/step - loss: 0.2670 - accuracy: 0.8928 - val_loss: 0.6289 - val_accuracy: 0.7662\n",
      "Epoch 8/30\n",
      "154/154 [==============================] - 5s 32ms/step - loss: 0.2008 - accuracy: 0.9285 - val_loss: 0.7908 - val_accuracy: 0.7208\n",
      "Epoch 9/30\n",
      "154/154 [==============================] - 5s 30ms/step - loss: 0.1429 - accuracy: 0.9513 - val_loss: 0.9541 - val_accuracy: 0.7110\n",
      "6/6 [==============================] - 0s 10ms/step\n",
      "6/6 [==============================] - 0s 8ms/step - loss: 0.8169 - accuracy: 0.7368\n",
      "Model: \"sequential_3\"\n",
      "_________________________________________________________________\n",
      " Layer (type)                Output Shape              Param #   \n",
      "=================================================================\n",
      " embedding_3 (Embedding)     (None, 64, 100)           806300    \n",
      "                                                                 \n",
      " lstm_3 (LSTM)               (None, 64)                42240     \n",
      "                                                                 \n",
      " FC1 (Dense)                 (None, 64)                4160      \n",
      "                                                                 \n",
      " dropout_3 (Dropout)         (None, 64)                0         \n",
      "                                                                 \n",
      " FC2 (Dense)                 (None, 2)                 130       \n",
      "                                                                 \n",
      "=================================================================\n",
      "Total params: 852,830\n",
      "Trainable params: 852,830\n",
      "Non-trainable params: 0\n",
      "_________________________________________________________________\n",
      "Epoch 1/30\n",
      "154/154 [==============================] - 7s 35ms/step - loss: 0.6952 - accuracy: 0.5914 - val_loss: 0.5527 - val_accuracy: 0.7435\n",
      "Epoch 2/30\n",
      "154/154 [==============================] - 5s 30ms/step - loss: 0.5876 - accuracy: 0.7076 - val_loss: 0.5366 - val_accuracy: 0.7565\n",
      "Epoch 3/30\n",
      "154/154 [==============================] - 5s 30ms/step - loss: 0.5325 - accuracy: 0.7579 - val_loss: 0.5408 - val_accuracy: 0.7500\n",
      "Epoch 4/30\n",
      "154/154 [==============================] - 5s 31ms/step - loss: 0.4734 - accuracy: 0.7969 - val_loss: 0.5250 - val_accuracy: 0.7662\n",
      "Epoch 5/30\n",
      "154/154 [==============================] - 4s 29ms/step - loss: 0.4050 - accuracy: 0.8383 - val_loss: 0.5386 - val_accuracy: 0.7760\n",
      "Epoch 6/30\n",
      "154/154 [==============================] - 5s 32ms/step - loss: 0.3067 - accuracy: 0.8773 - val_loss: 0.5931 - val_accuracy: 0.7857\n",
      "Epoch 7/30\n",
      "154/154 [==============================] - 5s 29ms/step - loss: 0.2468 - accuracy: 0.9098 - val_loss: 0.5654 - val_accuracy: 0.7435\n",
      "Epoch 8/30\n",
      "154/154 [==============================] - 4s 29ms/step - loss: 0.1836 - accuracy: 0.9415 - val_loss: 0.6713 - val_accuracy: 0.7370\n",
      "Epoch 9/30\n",
      "154/154 [==============================] - 5s 30ms/step - loss: 0.1401 - accuracy: 0.9504 - val_loss: 0.8885 - val_accuracy: 0.7468\n",
      "6/6 [==============================] - 0s 10ms/step\n",
      "6/6 [==============================] - 0s 10ms/step - loss: 0.8637 - accuracy: 0.7485\n",
      "Model: \"sequential_4\"\n",
      "_________________________________________________________________\n",
      " Layer (type)                Output Shape              Param #   \n",
      "=================================================================\n",
      " embedding_4 (Embedding)     (None, 64, 100)           806300    \n",
      "                                                                 \n",
      " lstm_4 (LSTM)               (None, 64)                42240     \n",
      "                                                                 \n",
      " FC1 (Dense)                 (None, 64)                4160      \n",
      "                                                                 \n",
      " dropout_4 (Dropout)         (None, 64)                0         \n",
      "                                                                 \n",
      " FC2 (Dense)                 (None, 2)                 130       \n",
      "                                                                 \n",
      "=================================================================\n",
      "Total params: 852,830\n",
      "Trainable params: 852,830\n",
      "Non-trainable params: 0\n",
      "_________________________________________________________________\n",
      "Epoch 1/30\n",
      "154/154 [==============================] - 7s 32ms/step - loss: 0.6913 - accuracy: 0.5987 - val_loss: 0.5489 - val_accuracy: 0.7370\n",
      "Epoch 2/30\n",
      "154/154 [==============================] - 5s 33ms/step - loss: 0.5866 - accuracy: 0.7197 - val_loss: 0.5865 - val_accuracy: 0.6948\n",
      "Epoch 3/30\n",
      "154/154 [==============================] - 5s 32ms/step - loss: 0.5178 - accuracy: 0.7539 - val_loss: 0.5567 - val_accuracy: 0.7630\n",
      "Epoch 4/30\n",
      "154/154 [==============================] - 4s 29ms/step - loss: 0.4494 - accuracy: 0.8002 - val_loss: 0.5542 - val_accuracy: 0.7630\n",
      "Epoch 5/30\n",
      "154/154 [==============================] - 5s 32ms/step - loss: 0.3804 - accuracy: 0.8375 - val_loss: 0.6407 - val_accuracy: 0.7435\n",
      "Epoch 6/30\n",
      "154/154 [==============================] - 5s 32ms/step - loss: 0.3110 - accuracy: 0.8838 - val_loss: 0.7238 - val_accuracy: 0.7565\n",
      "6/6 [==============================] - 0s 10ms/step\n",
      "6/6 [==============================] - 0s 9ms/step - loss: 0.9181 - accuracy: 0.6842\n",
      "Model: \"sequential_5\"\n",
      "_________________________________________________________________\n",
      " Layer (type)                Output Shape              Param #   \n",
      "=================================================================\n",
      " embedding_5 (Embedding)     (None, 64, 100)           806300    \n",
      "                                                                 \n",
      " lstm_5 (LSTM)               (None, 64)                42240     \n",
      "                                                                 \n",
      " FC1 (Dense)                 (None, 64)                4160      \n",
      "                                                                 \n",
      " dropout_5 (Dropout)         (None, 64)                0         \n",
      "                                                                 \n",
      " FC2 (Dense)                 (None, 2)                 130       \n",
      "                                                                 \n",
      "=================================================================\n",
      "Total params: 852,830\n",
      "Trainable params: 852,830\n",
      "Non-trainable params: 0\n",
      "_________________________________________________________________\n",
      "Epoch 1/30\n",
      "154/154 [==============================] - 7s 32ms/step - loss: 0.7029 - accuracy: 0.5792 - val_loss: 0.5832 - val_accuracy: 0.7045\n",
      "Epoch 2/30\n",
      "154/154 [==============================] - 5s 31ms/step - loss: 0.6039 - accuracy: 0.6937 - val_loss: 0.5772 - val_accuracy: 0.7208\n",
      "Epoch 3/30\n",
      "154/154 [==============================] - 5s 31ms/step - loss: 0.5306 - accuracy: 0.7587 - val_loss: 0.6881 - val_accuracy: 0.6786\n",
      "Epoch 4/30\n",
      "154/154 [==============================] - 5s 32ms/step - loss: 0.4537 - accuracy: 0.8042 - val_loss: 0.5241 - val_accuracy: 0.7695\n",
      "Epoch 5/30\n",
      "154/154 [==============================] - 5s 33ms/step - loss: 0.3934 - accuracy: 0.8408 - val_loss: 0.8747 - val_accuracy: 0.6721\n",
      "Epoch 6/30\n",
      "154/154 [==============================] - 5s 33ms/step - loss: 0.3163 - accuracy: 0.8757 - val_loss: 0.5819 - val_accuracy: 0.7792\n",
      "Epoch 7/30\n",
      "154/154 [==============================] - 5s 32ms/step - loss: 0.2450 - accuracy: 0.9058 - val_loss: 0.7755 - val_accuracy: 0.6851\n",
      "Epoch 8/30\n",
      "154/154 [==============================] - 5s 31ms/step - loss: 0.1876 - accuracy: 0.9350 - val_loss: 0.7051 - val_accuracy: 0.7565\n",
      "Epoch 9/30\n",
      "154/154 [==============================] - 5s 34ms/step - loss: 0.1289 - accuracy: 0.9561 - val_loss: 0.8086 - val_accuracy: 0.7565\n",
      "6/6 [==============================] - 0s 10ms/step\n",
      "6/6 [==============================] - 0s 10ms/step - loss: 0.9479 - accuracy: 0.6959\n",
      "Model: \"sequential_6\"\n",
      "_________________________________________________________________\n",
      " Layer (type)                Output Shape              Param #   \n",
      "=================================================================\n",
      " embedding_6 (Embedding)     (None, 64, 100)           806300    \n",
      "                                                                 \n",
      " lstm_6 (LSTM)               (None, 64)                42240     \n",
      "                                                                 \n",
      " FC1 (Dense)                 (None, 64)                4160      \n",
      "                                                                 \n",
      " dropout_6 (Dropout)         (None, 64)                0         \n",
      "                                                                 \n",
      " FC2 (Dense)                 (None, 2)                 130       \n",
      "                                                                 \n",
      "=================================================================\n",
      "Total params: 852,830\n",
      "Trainable params: 852,830\n",
      "Non-trainable params: 0\n",
      "_________________________________________________________________\n",
      "Epoch 1/30\n",
      "154/154 [==============================] - 6s 31ms/step - loss: 0.7056 - accuracy: 0.5792 - val_loss: 0.5541 - val_accuracy: 0.7468\n",
      "Epoch 2/30\n",
      "154/154 [==============================] - 5s 31ms/step - loss: 0.5841 - accuracy: 0.6962 - val_loss: 0.5378 - val_accuracy: 0.7662\n",
      "Epoch 3/30\n",
      "154/154 [==============================] - 5s 33ms/step - loss: 0.5387 - accuracy: 0.7587 - val_loss: 0.5835 - val_accuracy: 0.7240\n",
      "Epoch 4/30\n",
      "154/154 [==============================] - 5s 31ms/step - loss: 0.4740 - accuracy: 0.7912 - val_loss: 0.5363 - val_accuracy: 0.7630\n",
      "Epoch 5/30\n",
      "154/154 [==============================] - 5s 31ms/step - loss: 0.3852 - accuracy: 0.8424 - val_loss: 0.6483 - val_accuracy: 0.7500\n",
      "Epoch 6/30\n",
      "154/154 [==============================] - 5s 31ms/step - loss: 0.3145 - accuracy: 0.8846 - val_loss: 0.6280 - val_accuracy: 0.7403\n",
      "Epoch 7/30\n",
      "154/154 [==============================] - 5s 34ms/step - loss: 0.2641 - accuracy: 0.9058 - val_loss: 0.6439 - val_accuracy: 0.7597\n",
      "Epoch 8/30\n",
      "154/154 [==============================] - 5s 32ms/step - loss: 0.2027 - accuracy: 0.9285 - val_loss: 0.8200 - val_accuracy: 0.7403\n",
      "Epoch 9/30\n",
      "154/154 [==============================] - 5s 31ms/step - loss: 0.1399 - accuracy: 0.9496 - val_loss: 0.9561 - val_accuracy: 0.7435\n",
      "6/6 [==============================] - 0s 9ms/step\n",
      "6/6 [==============================] - 0s 10ms/step - loss: 0.8725 - accuracy: 0.7485\n",
      "Model: \"sequential_7\"\n",
      "_________________________________________________________________\n",
      " Layer (type)                Output Shape              Param #   \n",
      "=================================================================\n",
      " embedding_7 (Embedding)     (None, 64, 100)           806300    \n",
      "                                                                 \n",
      " lstm_7 (LSTM)               (None, 64)                42240     \n",
      "                                                                 \n",
      " FC1 (Dense)                 (None, 64)                4160      \n",
      "                                                                 \n",
      " dropout_7 (Dropout)         (None, 64)                0         \n",
      "                                                                 \n",
      " FC2 (Dense)                 (None, 2)                 130       \n",
      "                                                                 \n",
      "=================================================================\n",
      "Total params: 852,830\n",
      "Trainable params: 852,830\n",
      "Non-trainable params: 0\n",
      "_________________________________________________________________\n",
      "Epoch 1/30\n",
      "154/154 [==============================] - 6s 31ms/step - loss: 0.7392 - accuracy: 0.5467 - val_loss: 0.5885 - val_accuracy: 0.7045\n",
      "Epoch 2/30\n",
      "154/154 [==============================] - 4s 29ms/step - loss: 0.6382 - accuracy: 0.6686 - val_loss: 0.5558 - val_accuracy: 0.7500\n",
      "Epoch 3/30\n",
      "154/154 [==============================] - 5s 35ms/step - loss: 0.5335 - accuracy: 0.7555 - val_loss: 0.5417 - val_accuracy: 0.7565\n",
      "Epoch 4/30\n",
      "154/154 [==============================] - 6s 36ms/step - loss: 0.4752 - accuracy: 0.7994 - val_loss: 0.5539 - val_accuracy: 0.7630\n",
      "Epoch 5/30\n",
      "154/154 [==============================] - 5s 31ms/step - loss: 0.4135 - accuracy: 0.8294 - val_loss: 0.6108 - val_accuracy: 0.7403\n",
      "Epoch 6/30\n",
      "154/154 [==============================] - 4s 29ms/step - loss: 0.3396 - accuracy: 0.8595 - val_loss: 0.5830 - val_accuracy: 0.7500\n",
      "Epoch 7/30\n",
      "154/154 [==============================] - 5s 32ms/step - loss: 0.2676 - accuracy: 0.8968 - val_loss: 0.6664 - val_accuracy: 0.7597\n",
      "Epoch 8/30\n",
      "154/154 [==============================] - 5s 32ms/step - loss: 0.1924 - accuracy: 0.9285 - val_loss: 0.6967 - val_accuracy: 0.7338\n",
      "6/6 [==============================] - 0s 9ms/step\n",
      "6/6 [==============================] - 0s 10ms/step - loss: 0.7255 - accuracy: 0.7135\n",
      "Model: \"sequential_8\"\n",
      "_________________________________________________________________\n",
      " Layer (type)                Output Shape              Param #   \n",
      "=================================================================\n",
      " embedding_8 (Embedding)     (None, 64, 100)           806300    \n",
      "                                                                 \n",
      " lstm_8 (LSTM)               (None, 64)                42240     \n",
      "                                                                 \n",
      " FC1 (Dense)                 (None, 64)                4160      \n",
      "                                                                 \n",
      " dropout_8 (Dropout)         (None, 64)                0         \n",
      "                                                                 \n",
      " FC2 (Dense)                 (None, 2)                 130       \n",
      "                                                                 \n",
      "=================================================================\n",
      "Total params: 852,830\n",
      "Trainable params: 852,830\n",
      "Non-trainable params: 0\n",
      "_________________________________________________________________\n",
      "Epoch 1/30\n",
      "154/154 [==============================] - 7s 32ms/step - loss: 0.6985 - accuracy: 0.5841 - val_loss: 0.9627 - val_accuracy: 0.5260\n",
      "Epoch 2/30\n",
      "154/154 [==============================] - 5s 33ms/step - loss: 0.6132 - accuracy: 0.6807 - val_loss: 0.5638 - val_accuracy: 0.7240\n",
      "Epoch 3/30\n",
      "154/154 [==============================] - 7s 43ms/step - loss: 0.5442 - accuracy: 0.7433 - val_loss: 0.5417 - val_accuracy: 0.7370\n",
      "Epoch 4/30\n",
      "154/154 [==============================] - 7s 44ms/step - loss: 0.4717 - accuracy: 0.7945 - val_loss: 0.5408 - val_accuracy: 0.7370\n",
      "Epoch 5/30\n",
      "154/154 [==============================] - 7s 44ms/step - loss: 0.4054 - accuracy: 0.8270 - val_loss: 0.5735 - val_accuracy: 0.7532\n",
      "Epoch 6/30\n",
      "154/154 [==============================] - 6s 40ms/step - loss: 0.3199 - accuracy: 0.8806 - val_loss: 0.6467 - val_accuracy: 0.7597\n",
      "Epoch 7/30\n",
      "154/154 [==============================] - 6s 37ms/step - loss: 0.2599 - accuracy: 0.9074 - val_loss: 0.6694 - val_accuracy: 0.7597\n",
      "Epoch 8/30\n",
      "154/154 [==============================] - 6s 39ms/step - loss: 0.1783 - accuracy: 0.9399 - val_loss: 0.9242 - val_accuracy: 0.7435\n",
      "Epoch 9/30\n",
      "154/154 [==============================] - 6s 37ms/step - loss: 0.1277 - accuracy: 0.9545 - val_loss: 0.6939 - val_accuracy: 0.7468\n",
      "6/6 [==============================] - 0s 11ms/step\n",
      "6/6 [==============================] - 0s 9ms/step - loss: 0.7533 - accuracy: 0.7193\n",
      "Model: \"sequential_9\"\n",
      "_________________________________________________________________\n",
      " Layer (type)                Output Shape              Param #   \n",
      "=================================================================\n",
      " embedding_9 (Embedding)     (None, 64, 100)           806300    \n",
      "                                                                 \n",
      " lstm_9 (LSTM)               (None, 64)                42240     \n",
      "                                                                 \n",
      " FC1 (Dense)                 (None, 64)                4160      \n",
      "                                                                 \n",
      " dropout_9 (Dropout)         (None, 64)                0         \n",
      "                                                                 \n",
      " FC2 (Dense)                 (None, 2)                 130       \n",
      "                                                                 \n",
      "=================================================================\n",
      "Total params: 852,830\n",
      "Trainable params: 852,830\n",
      "Non-trainable params: 0\n",
      "_________________________________________________________________\n",
      "Epoch 1/30\n",
      "154/154 [==============================] - 8s 34ms/step - loss: 0.7155 - accuracy: 0.5589 - val_loss: 0.5913 - val_accuracy: 0.6981\n",
      "Epoch 2/30\n",
      "154/154 [==============================] - 5s 31ms/step - loss: 0.5957 - accuracy: 0.7002 - val_loss: 0.6019 - val_accuracy: 0.6948\n",
      "Epoch 3/30\n",
      "154/154 [==============================] - 5s 33ms/step - loss: 0.5382 - accuracy: 0.7392 - val_loss: 0.5286 - val_accuracy: 0.7338\n",
      "Epoch 4/30\n",
      "154/154 [==============================] - 5s 36ms/step - loss: 0.4629 - accuracy: 0.8083 - val_loss: 0.5238 - val_accuracy: 0.7727\n",
      "Epoch 5/30\n",
      "154/154 [==============================] - 5s 35ms/step - loss: 0.3908 - accuracy: 0.8473 - val_loss: 0.6178 - val_accuracy: 0.7500\n",
      "Epoch 6/30\n",
      "154/154 [==============================] - 5s 33ms/step - loss: 0.3143 - accuracy: 0.8822 - val_loss: 0.6026 - val_accuracy: 0.7370\n",
      "Epoch 7/30\n",
      "154/154 [==============================] - 5s 32ms/step - loss: 0.2635 - accuracy: 0.9041 - val_loss: 0.6088 - val_accuracy: 0.7760\n",
      "Epoch 8/30\n",
      "154/154 [==============================] - 5s 33ms/step - loss: 0.1878 - accuracy: 0.9285 - val_loss: 0.8747 - val_accuracy: 0.7110\n",
      "Epoch 9/30\n",
      "154/154 [==============================] - 6s 36ms/step - loss: 0.1268 - accuracy: 0.9602 - val_loss: 0.7324 - val_accuracy: 0.7565\n",
      "6/6 [==============================] - 0s 10ms/step\n",
      "6/6 [==============================] - 0s 10ms/step - loss: 0.8288 - accuracy: 0.7135\n",
      "Model: \"sequential_10\"\n",
      "_________________________________________________________________\n",
      " Layer (type)                Output Shape              Param #   \n",
      "=================================================================\n",
      " embedding_10 (Embedding)    (None, 64, 100)           806300    \n",
      "                                                                 \n",
      " lstm_10 (LSTM)              (None, 64)                42240     \n",
      "                                                                 \n",
      " FC1 (Dense)                 (None, 64)                4160      \n",
      "                                                                 \n",
      " dropout_10 (Dropout)        (None, 64)                0         \n",
      "                                                                 \n",
      " FC2 (Dense)                 (None, 2)                 130       \n",
      "                                                                 \n",
      "=================================================================\n",
      "Total params: 852,830\n",
      "Trainable params: 852,830\n",
      "Non-trainable params: 0\n",
      "_________________________________________________________________\n",
      "Epoch 1/30\n",
      "154/154 [==============================] - 7s 34ms/step - loss: 0.7136 - accuracy: 0.5589 - val_loss: 0.5954 - val_accuracy: 0.6883\n",
      "Epoch 2/30\n",
      "154/154 [==============================] - 6s 36ms/step - loss: 0.6156 - accuracy: 0.6840 - val_loss: 0.5753 - val_accuracy: 0.7013\n",
      "Epoch 3/30\n",
      "154/154 [==============================] - 6s 37ms/step - loss: 0.5449 - accuracy: 0.7433 - val_loss: 0.5297 - val_accuracy: 0.7597\n",
      "Epoch 4/30\n",
      "154/154 [==============================] - 6s 36ms/step - loss: 0.4442 - accuracy: 0.8075 - val_loss: 0.5372 - val_accuracy: 0.7565\n",
      "Epoch 5/30\n",
      "154/154 [==============================] - 6s 37ms/step - loss: 0.3761 - accuracy: 0.8457 - val_loss: 0.5606 - val_accuracy: 0.7500\n",
      "Epoch 6/30\n",
      "154/154 [==============================] - 6s 36ms/step - loss: 0.3204 - accuracy: 0.8781 - val_loss: 0.7252 - val_accuracy: 0.6948\n",
      "Epoch 7/30\n",
      "154/154 [==============================] - 6s 36ms/step - loss: 0.2303 - accuracy: 0.9106 - val_loss: 0.7092 - val_accuracy: 0.7532\n",
      "Epoch 8/30\n",
      "154/154 [==============================] - 6s 37ms/step - loss: 0.1685 - accuracy: 0.9431 - val_loss: 0.8865 - val_accuracy: 0.7662\n",
      "6/6 [==============================] - 0s 10ms/step\n",
      "6/6 [==============================] - 0s 9ms/step - loss: 1.0941 - accuracy: 0.7135\n"
     ]
    }
   ],
   "source": [
    "score_list=[]\n",
    "for i in range(10):\n",
    "    ## 定义LSTM模型\n",
    "    batch_size=8\n",
    "    inputs = Input(name='inputs',shape=[maxLen])\n",
    "    embedder = Embedding(len(vocab) + 1, 100, input_length=maxLen, weights=[embedding_matrix], trainable=True)\n",
    "    model=Sequential()\n",
    "    model.add(embedder)\n",
    "    model.add(LSTM(64))\n",
    "    model.add(Dense(64,activation=\"sigmoid\",name=\"FC1\"))\n",
    "    model.add(Dropout(0.4,seed=12))\n",
    "    model.add(Dense(2,activation=\"softmax\",name=\"FC2\"))\n",
    "    model.summary()\n",
    "    model.compile(loss=\"categorical_crossentropy\",optimizer=RMSprop(),metrics=[\"accuracy\"])\n",
    "    #reduce_lr = ReduceLROnPlateau(monitor='val_loss',factor=0.1 ,patience=3, mode='auto')\n",
    "    history=model.fit(trainSeq, trainCate, batch_size, epochs=30,validation_split=0.2, callbacks=[EarlyStopping(monitor='val_loss',patience=5)])\n",
    "    result = model.predict(testSeq)  # 预测样本属于每个类别的概率\n",
    "    score = model.evaluate(testSeq,\n",
    "                               testCate,\n",
    "                               batch_size=32)\n",
    "    score_list.append(score[1])"
   ]
  },
  {
   "cell_type": "code",
   "execution_count": 35,
   "id": "7a7fbe16",
   "metadata": {},
   "outputs": [
    {
     "name": "stdout",
     "output_type": "stream",
     "text": [
      "accuracy:0.7146198928356171\n"
     ]
    }
   ],
   "source": [
    "print('accuracy:'+str(sum(score_list)/len(score_list)))"
   ]
  },
  {
   "cell_type": "code",
   "execution_count": 36,
   "id": "c717fe6f",
   "metadata": {},
   "outputs": [],
   "source": [
    "score_list.sort()"
   ]
  },
  {
   "cell_type": "code",
   "execution_count": 37,
   "id": "205e3cfa",
   "metadata": {},
   "outputs": [
    {
     "data": {
      "text/plain": [
       "[0.6725146174430847,\n",
       " 0.6842105388641357,\n",
       " 0.6959064602851868,\n",
       " 0.7134503126144409,\n",
       " 0.7134503126144409,\n",
       " 0.7134503126144409,\n",
       " 0.719298243522644,\n",
       " 0.7368420958518982,\n",
       " 0.7485380172729492,\n",
       " 0.7485380172729492]"
      ]
     },
     "execution_count": 37,
     "metadata": {},
     "output_type": "execute_result"
    }
   ],
   "source": [
    "score_list"
   ]
  },
  {
   "cell_type": "code",
   "execution_count": 38,
   "id": "9a483718",
   "metadata": {},
   "outputs": [
    {
     "data": {
      "text/plain": [
       "0.7192982567681206"
      ]
     },
     "execution_count": 38,
     "metadata": {},
     "output_type": "execute_result"
    }
   ],
   "source": [
    "sum(score_list[1:])/9"
   ]
  }
 ],
 "metadata": {
  "kernelspec": {
   "display_name": "Python 3.10.6 ('4222G18_backup')",
   "language": "python",
   "name": "python3"
  },
  "language_info": {
   "codemirror_mode": {
    "name": "ipython",
    "version": 3
   },
   "file_extension": ".py",
   "mimetype": "text/x-python",
   "name": "python",
   "nbconvert_exporter": "python",
   "pygments_lexer": "ipython3",
   "version": "3.10.6"
  },
  "vscode": {
   "interpreter": {
    "hash": "64fb50f4500008f9f404f170e716523d28225753a93c94be3d36e645dbfada09"
   }
  }
 },
 "nbformat": 4,
 "nbformat_minor": 5
}
