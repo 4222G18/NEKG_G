{
 "cells": [
  {
   "cell_type": "code",
   "execution_count": 1,
   "id": "7a8df98f",
   "metadata": {},
   "outputs": [
    {
     "data": {
      "text/plain": [
       "'/home/egbert_jing/github/NEKG_G/Final_project'"
      ]
     },
     "execution_count": 1,
     "metadata": {},
     "output_type": "execute_result"
    }
   ],
   "source": [
    "import sys\n",
    "import os\n",
    "path_father = os.path.abspath(r'..')\n",
    "path_father\n",
    "# sys.path.append(path_father)"
   ]
  },
  {
   "cell_type": "code",
   "execution_count": 2,
   "id": "fce28d96",
   "metadata": {},
   "outputs": [
    {
     "name": "stderr",
     "output_type": "stream",
     "text": [
      "2022-11-27 20:31:18.578046: I tensorflow/core/platform/cpu_feature_guard.cc:193] This TensorFlow binary is optimized with oneAPI Deep Neural Network Library (oneDNN) to use the following CPU instructions in performance-critical operations:  AVX2 FMA\n",
      "To enable them in other operations, rebuild TensorFlow with the appropriate compiler flags.\n",
      "2022-11-27 20:31:18.768677: E tensorflow/stream_executor/cuda/cuda_blas.cc:2981] Unable to register cuBLAS factory: Attempting to register factory for plugin cuBLAS when one has already been registered\n",
      "2022-11-27 20:31:19.327042: W tensorflow/stream_executor/platform/default/dso_loader.cc:64] Could not load dynamic library 'libnvinfer.so.7'; dlerror: libnvinfer.so.7: cannot open shared object file: No such file or directory; LD_LIBRARY_PATH: :/usr/local/cuda-11.8/lib64\n",
      "2022-11-27 20:31:19.327159: W tensorflow/stream_executor/platform/default/dso_loader.cc:64] Could not load dynamic library 'libnvinfer_plugin.so.7'; dlerror: libnvinfer_plugin.so.7: cannot open shared object file: No such file or directory; LD_LIBRARY_PATH: :/usr/local/cuda-11.8/lib64\n",
      "2022-11-27 20:31:19.327168: W tensorflow/compiler/tf2tensorrt/utils/py_utils.cc:38] TF-TRT Warning: Cannot dlopen some TensorRT libraries. If you would like to use Nvidia GPU with TensorRT, please make sure the missing libraries mentioned above are installed properly.\n"
     ]
    }
   ],
   "source": [
    "import pandas as pd\n",
    "import numpy as np\n",
    "import matplotlib.pyplot as plt\n",
    "import seaborn as sns\n",
    "from sklearn import metrics\n",
    "from sklearn.preprocessing import LabelEncoder,OneHotEncoder\n",
    "from keras.models import Model\n",
    "from keras.layers import LSTM, Activation, Dense, Dropout, Input, Embedding\n",
    "from keras.optimizers import RMSprop\n",
    "from keras.preprocessing.text import Tokenizer\n",
    "from keras.preprocessing import sequence\n",
    "from keras.callbacks import EarlyStopping\n",
    "from keras_preprocessing.sequence import pad_sequences\n",
    "from keras.utils.np_utils import to_categorical\n",
    "from keras.models import Sequential\n",
    "from keras.callbacks import ReduceLROnPlateau\n",
    "from keras.models import load_model\n",
    "%matplotlib inline"
   ]
  },
  {
   "cell_type": "code",
   "execution_count": 3,
   "id": "c268b59b",
   "metadata": {},
   "outputs": [],
   "source": [
    "df = pd.read_csv(path_father + \"/df_with_gcs.txt\",sep=',',header=0)"
   ]
  },
  {
   "cell_type": "code",
   "execution_count": 4,
   "id": "e9e0ee5c",
   "metadata": {},
   "outputs": [],
   "source": [
    "#划分训练测试集\n",
    "from sklearn.model_selection import train_test_split\n",
    "\n",
    "train_set, test_set = train_test_split(df, test_size=0.1, random_state=42)"
   ]
  },
  {
   "cell_type": "markdown",
   "id": "59d7c98f",
   "metadata": {},
   "source": [
    "处理词向量"
   ]
  },
  {
   "cell_type": "code",
   "execution_count": 5,
   "id": "12c63f87",
   "metadata": {},
   "outputs": [],
   "source": [
    "from gensim.models import word2vec\n",
    "import logging\n",
    "logging.basicConfig(format='%(asctime)s : %(levelname)s : %(message)s', level=logging.INFO) "
   ]
  },
  {
   "cell_type": "code",
   "execution_count": 6,
   "id": "f13dfd1d",
   "metadata": {},
   "outputs": [],
   "source": [
    "# 切分词汇\n",
    "def cut(data):\n",
    "    cut= [s.split() for s in data['TriageNote'].astype(str)]\n",
    "    return cut"
   ]
  },
  {
   "cell_type": "code",
   "execution_count": 7,
   "id": "94dd810e",
   "metadata": {},
   "outputs": [],
   "source": [
    "train_text=cut(train_set)\n",
    "test_text=cut(test_set)\n",
    "sentences=train_text+test_text"
   ]
  },
  {
   "cell_type": "code",
   "execution_count": 8,
   "id": "2b4b566b",
   "metadata": {},
   "outputs": [
    {
     "data": {
      "text/plain": [
       "57"
      ]
     },
     "execution_count": 8,
     "metadata": {},
     "output_type": "execute_result"
    }
   ],
   "source": [
    "#得到最大句子长度\n",
    "num_list=[len(one) for one in sentences]\n",
    "max(num_list)"
   ]
  },
  {
   "cell_type": "code",
   "execution_count": 9,
   "id": "25aa3ce1",
   "metadata": {},
   "outputs": [],
   "source": [
    "maxLen=64"
   ]
  },
  {
   "cell_type": "code",
   "execution_count": 10,
   "id": "cad599c7",
   "metadata": {},
   "outputs": [],
   "source": [
    "#处理label->one_hot\n",
    "from sklearn.preprocessing import LabelEncoder\n",
    "\n",
    "def encodelabel(data):\n",
    "    le = LabelEncoder()\n",
    "    resultLable=le.fit_transform(data['DISPOSITION'])\n",
    "    return resultLable\n"
   ]
  },
  {
   "cell_type": "code",
   "execution_count": 11,
   "id": "b3dcf8dc",
   "metadata": {},
   "outputs": [],
   "source": [
    "train_lable=encodelabel(train_set)\n",
    "test_lable=encodelabel(test_set)"
   ]
  },
  {
   "cell_type": "code",
   "execution_count": 12,
   "id": "1f35b5d9",
   "metadata": {},
   "outputs": [
    {
     "name": "stderr",
     "output_type": "stream",
     "text": [
      "2022-11-27 20:31:20,257 : INFO : loading Word2Vec object from ./word2vec_all.model\n",
      "2022-11-27 20:31:20,270 : INFO : loading wv recursively from ./word2vec_all.model.wv.* with mmap=None\n",
      "2022-11-27 20:31:20,271 : INFO : setting ignored attribute cum_table to None\n",
      "2022-11-27 20:31:20,361 : INFO : Word2Vec lifecycle event {'fname': './word2vec_all.model', 'datetime': '2022-11-27T20:31:20.361005', 'gensim': '4.2.0', 'python': '3.10.6 (main, Oct 24 2022, 16:07:47) [GCC 11.2.0]', 'platform': 'Linux-5.15.74.2-microsoft-standard-WSL2-x86_64-with-glibc2.35', 'event': 'loaded'}\n"
     ]
    }
   ],
   "source": [
    "wvmodel = word2vec.Word2Vec.load(\"./word2vec_all.model\")"
   ]
  },
  {
   "cell_type": "code",
   "execution_count": 13,
   "id": "9cc89146",
   "metadata": {},
   "outputs": [],
   "source": [
    "# import json\n",
    "# f = open(path_father + \"/embedding/conve_99.json\")\n",
    "# nekg = json.load(f)\n",
    "nekg=np.load(path_father + '/embedding/hole_99.npy')\n",
    "nekg = nekg[:,0:100]"
   ]
  },
  {
   "cell_type": "code",
   "execution_count": 14,
   "id": "26830919",
   "metadata": {},
   "outputs": [],
   "source": [
    "tokenizer=Tokenizer()\n",
    "tokenizer.fit_on_texts(sentences)\n",
    "vocab = tokenizer.word_index "
   ]
  },
  {
   "cell_type": "code",
   "execution_count": 15,
   "id": "d6b9da6f",
   "metadata": {},
   "outputs": [],
   "source": [
    "#特征数字编号，不足的话会在前面补充0\n",
    "trainID = tokenizer.texts_to_sequences(train_text)\n",
    "# print(trainID)\n",
    "testID = tokenizer.texts_to_sequences(test_text)\n",
    "trainSeq=pad_sequences(trainID,maxlen=maxLen)\n",
    "#print(trainSeq)\n",
    "testSeq=pad_sequences(testID,maxlen=maxLen)\n",
    "\n",
    "#标签的独热编码\n",
    "trainCate = to_categorical(train_lable, num_classes=2)  # 将标签转换为one-hot编码\n",
    "#print(trainCate)\n",
    "testCate= to_categorical(test_lable, num_classes=2)  # 将标签转换为one-hot编码"
   ]
  },
  {
   "cell_type": "code",
   "execution_count": 16,
   "id": "cc516388",
   "metadata": {},
   "outputs": [],
   "source": [
    "def nekg_embed(n0):\n",
    "    n1=int(n0)\n",
    "    n2=int(n0)+1\n",
    "    s1=(n2-n0)/(n2-n1)\n",
    "    s2=(n0-n1)/(n2-n1)\n",
    "    return s1*nekg[n1]+s2*nekg[n2]"
   ]
  },
  {
   "cell_type": "code",
   "execution_count": 17,
   "id": "88a8378f",
   "metadata": {},
   "outputs": [],
   "source": [
    "#利用训练后的word2vec自定义Embedding的训练矩阵，每行代表一个词（结合独热码和矩阵乘法理解）\n",
    "embedding_matrix = np.zeros((len(vocab) + 1, 100))\n",
    "for word, i in vocab.items():\n",
    "    try:\n",
    "        if(word.isdigit()==False):#对word用word2vec\n",
    "            embedding_vector = wvmodel.wv[str(word)]\n",
    "        else:#对number用nekg\n",
    "            if (int(float(word))<=98):\n",
    "                embedding_vector =  nekg_embed(float(word))\n",
    "            else:\n",
    "                embedding_vector = wvmodel.wv[str(word)]\n",
    "        embedding_matrix[i] = embedding_vector    \n",
    "    except KeyError:\n",
    "        continue"
   ]
  },
  {
   "cell_type": "code",
   "execution_count": 18,
   "id": "1fa9c8f0",
   "metadata": {},
   "outputs": [
    {
     "name": "stderr",
     "output_type": "stream",
     "text": [
      "2022-11-27 20:31:20.743363: I tensorflow/stream_executor/cuda/cuda_gpu_executor.cc:966] could not open file to read NUMA node: /sys/bus/pci/devices/0000:01:00.0/numa_node\n",
      "Your kernel may have been built without NUMA support.\n",
      "2022-11-27 20:31:20.766980: W tensorflow/stream_executor/platform/default/dso_loader.cc:64] Could not load dynamic library 'libcudnn.so.8'; dlerror: libcudnn.so.8: cannot open shared object file: No such file or directory; LD_LIBRARY_PATH: :/usr/local/cuda-11.8/lib64\n",
      "2022-11-27 20:31:20.767005: W tensorflow/core/common_runtime/gpu/gpu_device.cc:1934] Cannot dlopen some GPU libraries. Please make sure the missing libraries mentioned above are installed properly if you would like to use GPU. Follow the guide at https://www.tensorflow.org/install/gpu for how to download and setup the required libraries for your platform.\n",
      "Skipping registering GPU devices...\n",
      "2022-11-27 20:31:20.767647: I tensorflow/core/platform/cpu_feature_guard.cc:193] This TensorFlow binary is optimized with oneAPI Deep Neural Network Library (oneDNN) to use the following CPU instructions in performance-critical operations:  AVX2 FMA\n",
      "To enable them in other operations, rebuild TensorFlow with the appropriate compiler flags.\n"
     ]
    },
    {
     "name": "stdout",
     "output_type": "stream",
     "text": [
      "Model: \"sequential\"\n",
      "_________________________________________________________________\n",
      " Layer (type)                Output Shape              Param #   \n",
      "=================================================================\n",
      " embedding (Embedding)       (None, 64, 100)           806300    \n",
      "                                                                 \n",
      " lstm (LSTM)                 (None, 64)                42240     \n",
      "                                                                 \n",
      " FC1 (Dense)                 (None, 64)                4160      \n",
      "                                                                 \n",
      " dropout (Dropout)           (None, 64)                0         \n",
      "                                                                 \n",
      " FC2 (Dense)                 (None, 2)                 130       \n",
      "                                                                 \n",
      "=================================================================\n",
      "Total params: 852,830\n",
      "Trainable params: 852,830\n",
      "Non-trainable params: 0\n",
      "_________________________________________________________________\n",
      "Epoch 1/30\n",
      "154/154 [==============================] - 6s 29ms/step - loss: 0.7220 - accuracy: 0.5532 - val_loss: 0.6005 - val_accuracy: 0.7110\n",
      "Epoch 2/30\n",
      "154/154 [==============================] - 4s 26ms/step - loss: 0.6188 - accuracy: 0.6816 - val_loss: 0.6249 - val_accuracy: 0.6558\n",
      "Epoch 3/30\n",
      "154/154 [==============================] - 4s 26ms/step - loss: 0.5472 - accuracy: 0.7384 - val_loss: 0.5920 - val_accuracy: 0.7240\n",
      "Epoch 4/30\n",
      "154/154 [==============================] - 4s 26ms/step - loss: 0.4869 - accuracy: 0.7725 - val_loss: 0.5940 - val_accuracy: 0.7435\n",
      "Epoch 5/30\n",
      "154/154 [==============================] - 4s 28ms/step - loss: 0.4060 - accuracy: 0.8408 - val_loss: 0.5446 - val_accuracy: 0.7565\n",
      "Epoch 6/30\n",
      "154/154 [==============================] - 4s 27ms/step - loss: 0.3440 - accuracy: 0.8603 - val_loss: 0.5747 - val_accuracy: 0.7597\n",
      "Epoch 7/30\n",
      "154/154 [==============================] - 4s 26ms/step - loss: 0.2655 - accuracy: 0.9009 - val_loss: 0.6664 - val_accuracy: 0.7338\n",
      "Epoch 8/30\n",
      "154/154 [==============================] - 4s 25ms/step - loss: 0.2000 - accuracy: 0.9269 - val_loss: 0.6958 - val_accuracy: 0.7435\n",
      "Epoch 9/30\n",
      "154/154 [==============================] - 4s 25ms/step - loss: 0.1357 - accuracy: 0.9513 - val_loss: 0.7870 - val_accuracy: 0.7143\n",
      "Epoch 10/30\n",
      "154/154 [==============================] - 4s 26ms/step - loss: 0.0953 - accuracy: 0.9675 - val_loss: 0.9732 - val_accuracy: 0.6916\n"
     ]
    },
    {
     "name": "stderr",
     "output_type": "stream",
     "text": [
      "2022-11-27 20:32:05,815 : WARNING : Found untraced functions such as lstm_cell_layer_call_fn, lstm_cell_layer_call_and_return_conditional_losses while saving (showing 2 of 2). These functions will not be directly callable after loading.\n"
     ]
    },
    {
     "name": "stdout",
     "output_type": "stream",
     "text": [
      "INFO:tensorflow:Assets written to: LSTM/assets\n"
     ]
    },
    {
     "name": "stderr",
     "output_type": "stream",
     "text": [
      "2022-11-27 20:32:06,304 : INFO : Assets written to: LSTM/assets\n"
     ]
    }
   ],
   "source": [
    "## 定义LSTM模型\n",
    "batch_size=8\n",
    "inputs = Input(name='inputs',shape=[maxLen])\n",
    "embedder = Embedding(len(vocab) + 1, 100, input_length=maxLen, weights=[embedding_matrix], trainable=True)\n",
    "model=Sequential()\n",
    "model.add(embedder)\n",
    "model.add(LSTM(64))\n",
    "model.add(Dense(64,activation=\"sigmoid\",name=\"FC1\"))\n",
    "model.add(Dropout(0.4))\n",
    "model.add(Dense(2,activation=\"softmax\",name=\"FC2\"))\n",
    "model.summary()\n",
    "model.compile(loss=\"categorical_crossentropy\",optimizer=RMSprop(),metrics=[\"accuracy\"])\n",
    "#reduce_lr = ReduceLROnPlateau(monitor='val_loss',factor=0.1 ,patience=3, mode='auto')\n",
    "history=model.fit(trainSeq, trainCate, batch_size, epochs=30,validation_split=0.2, callbacks=[EarlyStopping(monitor='val_loss',patience=5)])\n",
    "model.save(\"LSTM\")"
   ]
  },
  {
   "cell_type": "code",
   "execution_count": 19,
   "id": "f6b394d2",
   "metadata": {},
   "outputs": [
    {
     "name": "stdout",
     "output_type": "stream",
     "text": [
      "6/6 [==============================] - 0s 10ms/step\n",
      "6/6 [==============================] - 0s 10ms/step - loss: 1.0890 - accuracy: 0.6550\n",
      "[1.089032769203186, 0.6549707651138306]\n"
     ]
    }
   ],
   "source": [
    "#预测与评估\n",
    "mainModel = load_model('LSTM')\n",
    "result = mainModel.predict(testSeq)  # 预测样本属于每个类别的概率\n",
    "score = mainModel.evaluate(testSeq,\n",
    "                           testCate,\n",
    "                           batch_size=32)\n",
    "print(score)"
   ]
  },
  {
   "cell_type": "code",
   "execution_count": 20,
   "id": "5cd82ded",
   "metadata": {},
   "outputs": [
    {
     "data": {
      "image/png": "[encoded data removed]",
      "text/plain": [
       "<Figure size 640x480 with 1 Axes>"
      ]
     },
     "metadata": {},
     "output_type": "display_data"
    },
    {
     "data": {
      "image/png": "[encoded data removed]",
      "text/plain": [
       "<Figure size 640x480 with 1 Axes>"
      ]
     },
     "metadata": {},
     "output_type": "display_data"
    }
   ],
   "source": [
    "plt.plot(history.history['accuracy'])\n",
    "plt.plot(history.history['val_accuracy'])\n",
    "plt.title('Model accuracy')\n",
    "plt.ylabel('Accuracy')\n",
    "plt.xlabel('Epoch')\n",
    "plt.legend(['Train','Valid'],loc='upper left')\n",
    "plt.show()\n",
    "\n",
    "plt.plot(history.history['loss'])\n",
    "plt.plot(history.history['val_loss'])\n",
    "plt.title('Model loss')\n",
    "plt.ylabel('Loss')\n",
    "plt.xlabel('Epoch')\n",
    "plt.legend(['Train','Valid'],loc='upper left')\n",
    "plt.show()"
   ]
  },
  {
   "cell_type": "code",
   "execution_count": 21,
   "id": "5450d945",
   "metadata": {},
   "outputs": [
    {
     "name": "stdout",
     "output_type": "stream",
     "text": [
      "Model: \"sequential_1\"\n",
      "_________________________________________________________________\n",
      " Layer (type)                Output Shape              Param #   \n",
      "=================================================================\n",
      " embedding_1 (Embedding)     (None, 64, 100)           806300    \n",
      "                                                                 \n",
      " lstm_1 (LSTM)               (None, 64)                42240     \n",
      "                                                                 \n",
      " FC1 (Dense)                 (None, 64)                4160      \n",
      "                                                                 \n",
      " dropout_1 (Dropout)         (None, 64)                0         \n",
      "                                                                 \n",
      " FC2 (Dense)                 (None, 2)                 130       \n",
      "                                                                 \n",
      "=================================================================\n",
      "Total params: 852,830\n",
      "Trainable params: 852,830\n",
      "Non-trainable params: 0\n",
      "_________________________________________________________________\n",
      "Epoch 1/30\n",
      "154/154 [==============================] - 7s 33ms/step - loss: 0.7314 - accuracy: 0.5670 - val_loss: 0.5852 - val_accuracy: 0.7078\n",
      "Epoch 2/30\n",
      "154/154 [==============================] - 5s 30ms/step - loss: 0.5994 - accuracy: 0.6921 - val_loss: 0.6143 - val_accuracy: 0.6916\n",
      "Epoch 3/30\n",
      "154/154 [==============================] - 4s 28ms/step - loss: 0.5234 - accuracy: 0.7547 - val_loss: 0.5281 - val_accuracy: 0.7565\n",
      "Epoch 4/30\n",
      "154/154 [==============================] - 4s 27ms/step - loss: 0.4621 - accuracy: 0.8018 - val_loss: 0.6836 - val_accuracy: 0.6948\n",
      "Epoch 5/30\n",
      "154/154 [==============================] - 4s 26ms/step - loss: 0.3893 - accuracy: 0.8448 - val_loss: 0.5680 - val_accuracy: 0.7630\n",
      "Epoch 6/30\n",
      "154/154 [==============================] - 4s 28ms/step - loss: 0.3200 - accuracy: 0.8716 - val_loss: 0.5977 - val_accuracy: 0.7338\n",
      "Epoch 7/30\n",
      "154/154 [==============================] - 4s 27ms/step - loss: 0.2609 - accuracy: 0.9009 - val_loss: 0.6139 - val_accuracy: 0.7597\n",
      "Epoch 8/30\n",
      "154/154 [==============================] - 4s 26ms/step - loss: 0.1851 - accuracy: 0.9310 - val_loss: 0.7685 - val_accuracy: 0.7273\n",
      "6/6 [==============================] - 0s 10ms/step\n",
      "6/6 [==============================] - 0s 9ms/step - loss: 0.7891 - accuracy: 0.7135\n",
      "Model: \"sequential_2\"\n",
      "_________________________________________________________________\n",
      " Layer (type)                Output Shape              Param #   \n",
      "=================================================================\n",
      " embedding_2 (Embedding)     (None, 64, 100)           806300    \n",
      "                                                                 \n",
      " lstm_2 (LSTM)               (None, 64)                42240     \n",
      "                                                                 \n",
      " FC1 (Dense)                 (None, 64)                4160      \n",
      "                                                                 \n",
      " dropout_2 (Dropout)         (None, 64)                0         \n",
      "                                                                 \n",
      " FC2 (Dense)                 (None, 2)                 130       \n",
      "                                                                 \n",
      "=================================================================\n",
      "Total params: 852,830\n",
      "Trainable params: 852,830\n",
      "Non-trainable params: 0\n",
      "_________________________________________________________________\n",
      "Epoch 1/30\n",
      "154/154 [==============================] - 6s 30ms/step - loss: 0.6835 - accuracy: 0.5995 - val_loss: 0.5860 - val_accuracy: 0.6883\n",
      "Epoch 2/30\n",
      "154/154 [==============================] - 5s 31ms/step - loss: 0.5855 - accuracy: 0.7108 - val_loss: 0.5331 - val_accuracy: 0.7435\n",
      "Epoch 3/30\n",
      "154/154 [==============================] - 5s 35ms/step - loss: 0.5314 - accuracy: 0.7604 - val_loss: 0.5269 - val_accuracy: 0.7532\n",
      "Epoch 4/30\n",
      "154/154 [==============================] - 5s 30ms/step - loss: 0.4605 - accuracy: 0.8115 - val_loss: 0.5762 - val_accuracy: 0.7370\n",
      "Epoch 5/30\n",
      "154/154 [==============================] - 5s 29ms/step - loss: 0.3992 - accuracy: 0.8351 - val_loss: 0.6146 - val_accuracy: 0.7240\n",
      "Epoch 6/30\n",
      "154/154 [==============================] - 4s 29ms/step - loss: 0.3205 - accuracy: 0.8798 - val_loss: 0.5972 - val_accuracy: 0.7597\n",
      "Epoch 7/30\n",
      "154/154 [==============================] - 4s 28ms/step - loss: 0.2414 - accuracy: 0.9082 - val_loss: 0.6602 - val_accuracy: 0.7305\n",
      "Epoch 8/30\n",
      "154/154 [==============================] - 5s 29ms/step - loss: 0.1952 - accuracy: 0.9277 - val_loss: 0.7768 - val_accuracy: 0.7403\n",
      "6/6 [==============================] - 0s 10ms/step\n",
      "6/6 [==============================] - 0s 8ms/step - loss: 0.8176 - accuracy: 0.7018\n",
      "Model: \"sequential_3\"\n",
      "_________________________________________________________________\n",
      " Layer (type)                Output Shape              Param #   \n",
      "=================================================================\n",
      " embedding_3 (Embedding)     (None, 64, 100)           806300    \n",
      "                                                                 \n",
      " lstm_3 (LSTM)               (None, 64)                42240     \n",
      "                                                                 \n",
      " FC1 (Dense)                 (None, 64)                4160      \n",
      "                                                                 \n",
      " dropout_3 (Dropout)         (None, 64)                0         \n",
      "                                                                 \n",
      " FC2 (Dense)                 (None, 2)                 130       \n",
      "                                                                 \n",
      "=================================================================\n",
      "Total params: 852,830\n",
      "Trainable params: 852,830\n",
      "Non-trainable params: 0\n",
      "_________________________________________________________________\n",
      "Epoch 1/30\n",
      "154/154 [==============================] - 7s 33ms/step - loss: 0.7345 - accuracy: 0.5264 - val_loss: 0.6095 - val_accuracy: 0.6753\n",
      "Epoch 2/30\n",
      "154/154 [==============================] - 5s 30ms/step - loss: 0.5946 - accuracy: 0.6889 - val_loss: 0.5547 - val_accuracy: 0.7208\n",
      "Epoch 3/30\n",
      "154/154 [==============================] - 5s 30ms/step - loss: 0.5359 - accuracy: 0.7490 - val_loss: 0.5586 - val_accuracy: 0.7143\n",
      "Epoch 4/30\n",
      "154/154 [==============================] - 5s 31ms/step - loss: 0.4824 - accuracy: 0.7888 - val_loss: 0.5849 - val_accuracy: 0.7240\n",
      "Epoch 5/30\n",
      "154/154 [==============================] - 5s 30ms/step - loss: 0.4070 - accuracy: 0.8278 - val_loss: 0.5826 - val_accuracy: 0.7435\n",
      "Epoch 6/30\n",
      "154/154 [==============================] - 4s 29ms/step - loss: 0.3347 - accuracy: 0.8635 - val_loss: 0.5819 - val_accuracy: 0.7630\n",
      "Epoch 7/30\n",
      "154/154 [==============================] - 5s 30ms/step - loss: 0.2775 - accuracy: 0.8952 - val_loss: 0.8214 - val_accuracy: 0.6981\n",
      "6/6 [==============================] - 0s 9ms/step\n",
      "6/6 [==============================] - 0s 8ms/step - loss: 0.7012 - accuracy: 0.7251\n",
      "Model: \"sequential_4\"\n",
      "_________________________________________________________________\n",
      " Layer (type)                Output Shape              Param #   \n",
      "=================================================================\n",
      " embedding_4 (Embedding)     (None, 64, 100)           806300    \n",
      "                                                                 \n",
      " lstm_4 (LSTM)               (None, 64)                42240     \n",
      "                                                                 \n",
      " FC1 (Dense)                 (None, 64)                4160      \n",
      "                                                                 \n",
      " dropout_4 (Dropout)         (None, 64)                0         \n",
      "                                                                 \n",
      " FC2 (Dense)                 (None, 2)                 130       \n",
      "                                                                 \n",
      "=================================================================\n",
      "Total params: 852,830\n",
      "Trainable params: 852,830\n",
      "Non-trainable params: 0\n",
      "_________________________________________________________________\n",
      "Epoch 1/30\n",
      "154/154 [==============================] - 6s 31ms/step - loss: 0.7072 - accuracy: 0.5816 - val_loss: 0.5851 - val_accuracy: 0.7110\n",
      "Epoch 2/30\n",
      "154/154 [==============================] - 5s 30ms/step - loss: 0.6084 - accuracy: 0.6913 - val_loss: 0.5526 - val_accuracy: 0.7305\n",
      "Epoch 3/30\n",
      "154/154 [==============================] - 4s 29ms/step - loss: 0.5390 - accuracy: 0.7352 - val_loss: 0.6243 - val_accuracy: 0.7175\n",
      "Epoch 4/30\n",
      "154/154 [==============================] - 4s 29ms/step - loss: 0.4643 - accuracy: 0.7985 - val_loss: 0.6508 - val_accuracy: 0.7078\n",
      "Epoch 5/30\n",
      "154/154 [==============================] - 4s 27ms/step - loss: 0.4303 - accuracy: 0.8107 - val_loss: 0.5764 - val_accuracy: 0.7338\n",
      "Epoch 6/30\n",
      "154/154 [==============================] - 5s 30ms/step - loss: 0.3419 - accuracy: 0.8587 - val_loss: 0.5849 - val_accuracy: 0.7565\n",
      "Epoch 7/30\n",
      "154/154 [==============================] - 4s 29ms/step - loss: 0.2725 - accuracy: 0.8952 - val_loss: 0.6071 - val_accuracy: 0.7370\n",
      "6/6 [==============================] - 0s 9ms/step\n",
      "6/6 [==============================] - 0s 7ms/step - loss: 0.5933 - accuracy: 0.7368\n",
      "Model: \"sequential_5\"\n",
      "_________________________________________________________________\n",
      " Layer (type)                Output Shape              Param #   \n",
      "=================================================================\n",
      " embedding_5 (Embedding)     (None, 64, 100)           806300    \n",
      "                                                                 \n",
      " lstm_5 (LSTM)               (None, 64)                42240     \n",
      "                                                                 \n",
      " FC1 (Dense)                 (None, 64)                4160      \n",
      "                                                                 \n",
      " dropout_5 (Dropout)         (None, 64)                0         \n",
      "                                                                 \n",
      " FC2 (Dense)                 (None, 2)                 130       \n",
      "                                                                 \n",
      "=================================================================\n",
      "Total params: 852,830\n",
      "Trainable params: 852,830\n",
      "Non-trainable params: 0\n",
      "_________________________________________________________________\n",
      "Epoch 1/30\n",
      "154/154 [==============================] - 6s 31ms/step - loss: 0.7228 - accuracy: 0.5581 - val_loss: 0.6144 - val_accuracy: 0.6494\n",
      "Epoch 2/30\n",
      "154/154 [==============================] - 4s 28ms/step - loss: 0.5847 - accuracy: 0.7084 - val_loss: 0.5956 - val_accuracy: 0.7078\n",
      "Epoch 3/30\n",
      "154/154 [==============================] - 5s 30ms/step - loss: 0.5542 - accuracy: 0.7384 - val_loss: 0.5227 - val_accuracy: 0.7532\n",
      "Epoch 4/30\n",
      "154/154 [==============================] - 5s 32ms/step - loss: 0.4688 - accuracy: 0.8002 - val_loss: 0.6297 - val_accuracy: 0.6916\n",
      "Epoch 5/30\n",
      "154/154 [==============================] - 5s 31ms/step - loss: 0.3911 - accuracy: 0.8408 - val_loss: 0.5243 - val_accuracy: 0.7305\n",
      "Epoch 6/30\n",
      "154/154 [==============================] - 5s 30ms/step - loss: 0.3280 - accuracy: 0.8708 - val_loss: 0.5831 - val_accuracy: 0.7565\n",
      "Epoch 7/30\n",
      "154/154 [==============================] - 4s 28ms/step - loss: 0.2697 - accuracy: 0.9017 - val_loss: 0.6317 - val_accuracy: 0.7532\n",
      "Epoch 8/30\n",
      "154/154 [==============================] - 4s 28ms/step - loss: 0.1981 - accuracy: 0.9318 - val_loss: 0.6903 - val_accuracy: 0.7500\n",
      "6/6 [==============================] - 0s 9ms/step\n",
      "6/6 [==============================] - 0s 8ms/step - loss: 0.7726 - accuracy: 0.7310\n",
      "Model: \"sequential_6\"\n",
      "_________________________________________________________________\n",
      " Layer (type)                Output Shape              Param #   \n",
      "=================================================================\n",
      " embedding_6 (Embedding)     (None, 64, 100)           806300    \n",
      "                                                                 \n",
      " lstm_6 (LSTM)               (None, 64)                42240     \n",
      "                                                                 \n",
      " FC1 (Dense)                 (None, 64)                4160      \n",
      "                                                                 \n",
      " dropout_6 (Dropout)         (None, 64)                0         \n",
      "                                                                 \n",
      " FC2 (Dense)                 (None, 2)                 130       \n",
      "                                                                 \n",
      "=================================================================\n",
      "Total params: 852,830\n",
      "Trainable params: 852,830\n",
      "Non-trainable params: 0\n",
      "_________________________________________________________________\n",
      "Epoch 1/30\n",
      "154/154 [==============================] - 7s 32ms/step - loss: 0.7159 - accuracy: 0.5532 - val_loss: 0.6029 - val_accuracy: 0.7045\n",
      "Epoch 2/30\n",
      "154/154 [==============================] - 4s 29ms/step - loss: 0.6081 - accuracy: 0.6864 - val_loss: 0.5470 - val_accuracy: 0.7240\n",
      "Epoch 3/30\n",
      "154/154 [==============================] - 4s 29ms/step - loss: 0.5233 - accuracy: 0.7612 - val_loss: 0.5913 - val_accuracy: 0.6818\n",
      "Epoch 4/30\n",
      "154/154 [==============================] - 5s 29ms/step - loss: 0.4530 - accuracy: 0.8091 - val_loss: 0.5301 - val_accuracy: 0.7695\n",
      "Epoch 5/30\n",
      "154/154 [==============================] - 5s 30ms/step - loss: 0.4038 - accuracy: 0.8392 - val_loss: 0.5461 - val_accuracy: 0.7273\n",
      "Epoch 6/30\n",
      "154/154 [==============================] - 5s 31ms/step - loss: 0.3369 - accuracy: 0.8684 - val_loss: 0.5831 - val_accuracy: 0.7760\n",
      "Epoch 7/30\n",
      "154/154 [==============================] - 5s 31ms/step - loss: 0.2497 - accuracy: 0.9050 - val_loss: 0.8302 - val_accuracy: 0.6981\n",
      "Epoch 8/30\n",
      "154/154 [==============================] - 4s 29ms/step - loss: 0.1800 - accuracy: 0.9326 - val_loss: 0.8453 - val_accuracy: 0.7305\n",
      "Epoch 9/30\n",
      "154/154 [==============================] - 4s 29ms/step - loss: 0.1433 - accuracy: 0.9496 - val_loss: 0.7690 - val_accuracy: 0.7630\n",
      "6/6 [==============================] - 0s 9ms/step\n",
      "6/6 [==============================] - 0s 11ms/step - loss: 0.8617 - accuracy: 0.7427\n",
      "Model: \"sequential_7\"\n",
      "_________________________________________________________________\n",
      " Layer (type)                Output Shape              Param #   \n",
      "=================================================================\n",
      " embedding_7 (Embedding)     (None, 64, 100)           806300    \n",
      "                                                                 \n",
      " lstm_7 (LSTM)               (None, 64)                42240     \n",
      "                                                                 \n",
      " FC1 (Dense)                 (None, 64)                4160      \n",
      "                                                                 \n",
      " dropout_7 (Dropout)         (None, 64)                0         \n",
      "                                                                 \n",
      " FC2 (Dense)                 (None, 2)                 130       \n",
      "                                                                 \n",
      "=================================================================\n",
      "Total params: 852,830\n",
      "Trainable params: 852,830\n",
      "Non-trainable params: 0\n",
      "_________________________________________________________________\n",
      "Epoch 1/30\n",
      "154/154 [==============================] - 7s 38ms/step - loss: 0.7011 - accuracy: 0.5743 - val_loss: 0.6252 - val_accuracy: 0.6753\n",
      "Epoch 2/30\n",
      "154/154 [==============================] - 4s 29ms/step - loss: 0.6139 - accuracy: 0.6734 - val_loss: 0.5615 - val_accuracy: 0.7370\n",
      "Epoch 3/30\n",
      "154/154 [==============================] - 4s 29ms/step - loss: 0.5121 - accuracy: 0.7547 - val_loss: 0.5507 - val_accuracy: 0.7305\n",
      "Epoch 4/30\n",
      "154/154 [==============================] - 5s 30ms/step - loss: 0.4546 - accuracy: 0.8034 - val_loss: 0.5541 - val_accuracy: 0.7565\n",
      "Epoch 5/30\n",
      "154/154 [==============================] - 5s 30ms/step - loss: 0.3837 - accuracy: 0.8367 - val_loss: 0.5487 - val_accuracy: 0.7662\n",
      "Epoch 6/30\n",
      "154/154 [==============================] - 5s 30ms/step - loss: 0.2981 - accuracy: 0.8838 - val_loss: 0.6228 - val_accuracy: 0.7565\n",
      "Epoch 7/30\n",
      "154/154 [==============================] - 5s 32ms/step - loss: 0.2368 - accuracy: 0.9106 - val_loss: 0.5630 - val_accuracy: 0.7662\n",
      "Epoch 8/30\n",
      "154/154 [==============================] - 5s 31ms/step - loss: 0.1730 - accuracy: 0.9456 - val_loss: 0.6870 - val_accuracy: 0.7338\n",
      "Epoch 9/30\n",
      "154/154 [==============================] - 5s 29ms/step - loss: 0.1325 - accuracy: 0.9537 - val_loss: 0.8723 - val_accuracy: 0.7338\n",
      "Epoch 10/30\n",
      "154/154 [==============================] - 5s 30ms/step - loss: 0.0941 - accuracy: 0.9699 - val_loss: 0.9005 - val_accuracy: 0.7370\n",
      "6/6 [==============================] - 0s 10ms/step\n",
      "6/6 [==============================] - 0s 8ms/step - loss: 1.0166 - accuracy: 0.7251\n",
      "Model: \"sequential_8\"\n",
      "_________________________________________________________________\n",
      " Layer (type)                Output Shape              Param #   \n",
      "=================================================================\n",
      " embedding_8 (Embedding)     (None, 64, 100)           806300    \n",
      "                                                                 \n",
      " lstm_8 (LSTM)               (None, 64)                42240     \n",
      "                                                                 \n",
      " FC1 (Dense)                 (None, 64)                4160      \n",
      "                                                                 \n",
      " dropout_8 (Dropout)         (None, 64)                0         \n",
      "                                                                 \n",
      " FC2 (Dense)                 (None, 2)                 130       \n",
      "                                                                 \n",
      "=================================================================\n",
      "Total params: 852,830\n",
      "Trainable params: 852,830\n",
      "Non-trainable params: 0\n",
      "_________________________________________________________________\n",
      "Epoch 1/30\n",
      "154/154 [==============================] - 6s 30ms/step - loss: 0.7286 - accuracy: 0.5695 - val_loss: 0.6563 - val_accuracy: 0.5812\n",
      "Epoch 2/30\n",
      "154/154 [==============================] - 4s 29ms/step - loss: 0.5828 - accuracy: 0.7222 - val_loss: 0.5790 - val_accuracy: 0.7078\n",
      "Epoch 3/30\n",
      "154/154 [==============================] - 5s 30ms/step - loss: 0.5263 - accuracy: 0.7563 - val_loss: 0.5694 - val_accuracy: 0.7403\n",
      "Epoch 4/30\n",
      "154/154 [==============================] - 4s 29ms/step - loss: 0.4574 - accuracy: 0.7969 - val_loss: 0.5423 - val_accuracy: 0.7532\n",
      "Epoch 5/30\n",
      "154/154 [==============================] - 5s 31ms/step - loss: 0.3803 - accuracy: 0.8335 - val_loss: 0.5886 - val_accuracy: 0.7435\n",
      "Epoch 6/30\n",
      "154/154 [==============================] - 5s 30ms/step - loss: 0.3033 - accuracy: 0.8838 - val_loss: 0.6752 - val_accuracy: 0.7338\n",
      "Epoch 7/30\n",
      "154/154 [==============================] - 5s 30ms/step - loss: 0.2331 - accuracy: 0.9106 - val_loss: 0.6436 - val_accuracy: 0.7468\n",
      "Epoch 8/30\n",
      "154/154 [==============================] - 5s 29ms/step - loss: 0.1692 - accuracy: 0.9383 - val_loss: 0.8548 - val_accuracy: 0.7143\n",
      "Epoch 9/30\n",
      "154/154 [==============================] - 5s 31ms/step - loss: 0.1235 - accuracy: 0.9586 - val_loss: 0.8406 - val_accuracy: 0.7403\n",
      "6/6 [==============================] - 0s 10ms/step\n",
      "6/6 [==============================] - 0s 10ms/step - loss: 0.8886 - accuracy: 0.7018\n",
      "Model: \"sequential_9\"\n",
      "_________________________________________________________________\n",
      " Layer (type)                Output Shape              Param #   \n",
      "=================================================================\n",
      " embedding_9 (Embedding)     (None, 64, 100)           806300    \n",
      "                                                                 \n",
      " lstm_9 (LSTM)               (None, 64)                42240     \n",
      "                                                                 \n",
      " FC1 (Dense)                 (None, 64)                4160      \n",
      "                                                                 \n",
      " dropout_9 (Dropout)         (None, 64)                0         \n",
      "                                                                 \n",
      " FC2 (Dense)                 (None, 2)                 130       \n",
      "                                                                 \n",
      "=================================================================\n",
      "Total params: 852,830\n",
      "Trainable params: 852,830\n",
      "Non-trainable params: 0\n",
      "_________________________________________________________________\n",
      "Epoch 1/30\n",
      "154/154 [==============================] - 7s 34ms/step - loss: 0.7226 - accuracy: 0.5491 - val_loss: 0.5713 - val_accuracy: 0.7175\n",
      "Epoch 2/30\n",
      "154/154 [==============================] - 5s 31ms/step - loss: 0.6056 - accuracy: 0.6970 - val_loss: 0.5916 - val_accuracy: 0.7078\n",
      "Epoch 3/30\n",
      "154/154 [==============================] - 5s 31ms/step - loss: 0.5453 - accuracy: 0.7425 - val_loss: 0.5443 - val_accuracy: 0.7727\n",
      "Epoch 4/30\n",
      "154/154 [==============================] - 5s 30ms/step - loss: 0.4632 - accuracy: 0.7994 - val_loss: 0.5349 - val_accuracy: 0.7500\n",
      "Epoch 5/30\n",
      "154/154 [==============================] - 5s 31ms/step - loss: 0.4008 - accuracy: 0.8327 - val_loss: 0.5518 - val_accuracy: 0.7468\n",
      "Epoch 6/30\n",
      "154/154 [==============================] - 5s 30ms/step - loss: 0.3393 - accuracy: 0.8668 - val_loss: 0.6456 - val_accuracy: 0.7532\n",
      "Epoch 7/30\n",
      "154/154 [==============================] - 5s 30ms/step - loss: 0.2718 - accuracy: 0.8960 - val_loss: 0.7158 - val_accuracy: 0.7468\n",
      "Epoch 8/30\n",
      "154/154 [==============================] - 5s 30ms/step - loss: 0.2130 - accuracy: 0.9171 - val_loss: 0.6165 - val_accuracy: 0.7662\n",
      "Epoch 9/30\n",
      "154/154 [==============================] - 5s 31ms/step - loss: 0.1393 - accuracy: 0.9488 - val_loss: 0.8339 - val_accuracy: 0.7468\n",
      "6/6 [==============================] - 0s 9ms/step\n",
      "6/6 [==============================] - 0s 10ms/step - loss: 0.8284 - accuracy: 0.7193\n",
      "Model: \"sequential_10\"\n",
      "_________________________________________________________________\n",
      " Layer (type)                Output Shape              Param #   \n",
      "=================================================================\n",
      " embedding_10 (Embedding)    (None, 64, 100)           806300    \n",
      "                                                                 \n",
      " lstm_10 (LSTM)              (None, 64)                42240     \n",
      "                                                                 \n",
      " FC1 (Dense)                 (None, 64)                4160      \n",
      "                                                                 \n",
      " dropout_10 (Dropout)        (None, 64)                0         \n",
      "                                                                 \n",
      " FC2 (Dense)                 (None, 2)                 130       \n",
      "                                                                 \n",
      "=================================================================\n",
      "Total params: 852,830\n",
      "Trainable params: 852,830\n",
      "Non-trainable params: 0\n",
      "_________________________________________________________________\n",
      "Epoch 1/30\n",
      "154/154 [==============================] - 7s 34ms/step - loss: 0.7157 - accuracy: 0.5686 - val_loss: 0.5985 - val_accuracy: 0.6916\n",
      "Epoch 2/30\n",
      "154/154 [==============================] - 5s 31ms/step - loss: 0.6027 - accuracy: 0.6897 - val_loss: 0.7453 - val_accuracy: 0.5584\n",
      "Epoch 3/30\n",
      "154/154 [==============================] - 5s 31ms/step - loss: 0.5394 - accuracy: 0.7441 - val_loss: 0.5684 - val_accuracy: 0.7273\n",
      "Epoch 4/30\n",
      "154/154 [==============================] - 5s 32ms/step - loss: 0.4873 - accuracy: 0.7864 - val_loss: 0.5981 - val_accuracy: 0.7013\n",
      "Epoch 5/30\n",
      "154/154 [==============================] - 5s 33ms/step - loss: 0.4071 - accuracy: 0.8335 - val_loss: 0.5494 - val_accuracy: 0.7630\n",
      "Epoch 6/30\n",
      "154/154 [==============================] - 5s 32ms/step - loss: 0.3505 - accuracy: 0.8554 - val_loss: 0.5784 - val_accuracy: 0.7565\n",
      "Epoch 7/30\n",
      "154/154 [==============================] - 5s 31ms/step - loss: 0.2727 - accuracy: 0.9009 - val_loss: 0.5871 - val_accuracy: 0.7532\n",
      "Epoch 8/30\n",
      "154/154 [==============================] - 5s 32ms/step - loss: 0.2319 - accuracy: 0.9131 - val_loss: 0.6339 - val_accuracy: 0.7435\n",
      "Epoch 9/30\n",
      "154/154 [==============================] - 5s 31ms/step - loss: 0.1630 - accuracy: 0.9448 - val_loss: 0.7643 - val_accuracy: 0.7468\n",
      "Epoch 10/30\n",
      "154/154 [==============================] - 5s 30ms/step - loss: 0.1088 - accuracy: 0.9553 - val_loss: 0.8363 - val_accuracy: 0.7565\n",
      "6/6 [==============================] - 0s 10ms/step\n",
      "6/6 [==============================] - 0s 9ms/step - loss: 0.9245 - accuracy: 0.7076\n"
     ]
    }
   ],
   "source": [
    "score_list=[]\n",
    "for i in range(10):\n",
    "    ## 定义LSTM模型\n",
    "    batch_size=8\n",
    "    inputs = Input(name='inputs',shape=[maxLen])\n",
    "    embedder = Embedding(len(vocab) + 1, 100, input_length=maxLen, weights=[embedding_matrix], trainable=True)\n",
    "    model=Sequential()\n",
    "    model.add(embedder)\n",
    "    model.add(LSTM(64))\n",
    "    model.add(Dense(64,activation=\"sigmoid\",name=\"FC1\"))\n",
    "    model.add(Dropout(0.4,seed=12))\n",
    "    model.add(Dense(2,activation=\"softmax\",name=\"FC2\"))\n",
    "    model.summary()\n",
    "    model.compile(loss=\"categorical_crossentropy\",optimizer=RMSprop(),metrics=[\"accuracy\"])\n",
    "    #reduce_lr = ReduceLROnPlateau(monitor='val_loss',factor=0.1 ,patience=3, mode='auto')\n",
    "    history=model.fit(trainSeq, trainCate, batch_size, epochs=30,validation_split=0.2, callbacks=[EarlyStopping(monitor='val_loss',patience=5)])\n",
    "    result = model.predict(testSeq)  # 预测样本属于每个类别的概率\n",
    "    score = model.evaluate(testSeq,\n",
    "                               testCate,\n",
    "                               batch_size=32)\n",
    "    score_list.append(score[1])"
   ]
  },
  {
   "cell_type": "code",
   "execution_count": 22,
   "id": "7a7fbe16",
   "metadata": {},
   "outputs": [
    {
     "name": "stdout",
     "output_type": "stream",
     "text": [
      "accuracy:0.7204678356647491\n"
     ]
    }
   ],
   "source": [
    "print('accuracy:'+str(sum(score_list)/len(score_list)))"
   ]
  },
  {
   "cell_type": "code",
   "execution_count": 23,
   "id": "c717fe6f",
   "metadata": {},
   "outputs": [],
   "source": [
    "score_list.sort()"
   ]
  },
  {
   "cell_type": "code",
   "execution_count": 24,
   "id": "205e3cfa",
   "metadata": {},
   "outputs": [
    {
     "data": {
      "text/plain": [
       "[0.7017543911933899,\n",
       " 0.7017543911933899,\n",
       " 0.707602322101593,\n",
       " 0.7134503126144409,\n",
       " 0.719298243522644,\n",
       " 0.7251461744308472,\n",
       " 0.7251461744308472,\n",
       " 0.7309941649436951,\n",
       " 0.7368420958518982,\n",
       " 0.7426900863647461]"
      ]
     },
     "execution_count": 24,
     "metadata": {},
     "output_type": "execute_result"
    }
   ],
   "source": [
    "score_list"
   ]
  },
  {
   "cell_type": "code",
   "execution_count": 25,
   "id": "79f62c6c",
   "metadata": {},
   "outputs": [
    {
     "data": {
      "text/plain": [
       "0.7225471072726779"
      ]
     },
     "execution_count": 25,
     "metadata": {},
     "output_type": "execute_result"
    }
   ],
   "source": [
    "sum(score_list[1:])/9"
   ]
  }
 ],
 "metadata": {
  "kernelspec": {
   "display_name": "Python 3.10.6 ('4222G18_backup')",
   "language": "python",
   "name": "python3"
  },
  "language_info": {
   "codemirror_mode": {
    "name": "ipython",
    "version": 3
   },
   "file_extension": ".py",
   "mimetype": "text/x-python",
   "name": "python",
   "nbconvert_exporter": "python",
   "pygments_lexer": "ipython3",
   "version": "3.10.6"
  },
  "vscode": {
   "interpreter": {
    "hash": "64fb50f4500008f9f404f170e716523d28225753a93c94be3d36e645dbfada09"
   }
  }
 },
 "nbformat": 4,
 "nbformat_minor": 5
}
