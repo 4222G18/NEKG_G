{
 "cells": [
  {
   "cell_type": "code",
   "execution_count": 84,
   "id": "9b9da0ec",
   "metadata": {},
   "outputs": [
    {
     "data": {
      "text/plain": [
       "'/home/egbert_jing/github/NEKG_G/Final_project'"
      ]
     },
     "execution_count": 84,
     "metadata": {},
     "output_type": "execute_result"
    }
   ],
   "source": [
    "import sys\n",
    "import os\n",
    "path_father = os.path.abspath(r'..')\n",
    "path_father\n",
    "# sys.path.append(path_father)"
   ]
  },
  {
   "cell_type": "code",
   "execution_count": 85,
   "id": "fce28d96",
   "metadata": {},
   "outputs": [],
   "source": [
    "import pandas as pd\n",
    "import numpy as np\n",
    "import matplotlib.pyplot as plt\n",
    "import seaborn as sns\n",
    "from sklearn import metrics\n",
    "from sklearn.preprocessing import LabelEncoder,OneHotEncoder\n",
    "from keras.models import Model\n",
    "from keras.layers import LSTM, Activation, Dense, Dropout, Input, Embedding\n",
    "from keras.optimizers import RMSprop\n",
    "from keras.preprocessing.text import Tokenizer\n",
    "from keras.preprocessing import sequence\n",
    "from keras.callbacks import EarlyStopping\n",
    "from keras_preprocessing.sequence import pad_sequences\n",
    "from keras.utils.np_utils import to_categorical\n",
    "from keras.models import Sequential\n",
    "from keras.callbacks import ReduceLROnPlateau\n",
    "from keras.models import load_model\n",
    "%matplotlib inline"
   ]
  },
  {
   "cell_type": "code",
   "execution_count": 86,
   "id": "c268b59b",
   "metadata": {},
   "outputs": [],
   "source": [
    "df = pd.read_csv(path_father + \"/df_with_gcs.txt\",sep=',',header=0)"
   ]
  },
  {
   "cell_type": "code",
   "execution_count": 87,
   "id": "e9e0ee5c",
   "metadata": {},
   "outputs": [],
   "source": [
    "#划分训练测试集\n",
    "from sklearn.model_selection import train_test_split\n",
    "\n",
    "train_set, test_set = train_test_split(df, test_size=0.1, random_state=42)"
   ]
  },
  {
   "cell_type": "markdown",
   "id": "59d7c98f",
   "metadata": {},
   "source": [
    "处理词向量"
   ]
  },
  {
   "cell_type": "code",
   "execution_count": 88,
   "id": "12c63f87",
   "metadata": {},
   "outputs": [],
   "source": [
    "from gensim.models import word2vec\n",
    "import logging\n",
    "logging.basicConfig(format='%(asctime)s : %(levelname)s : %(message)s', level=logging.INFO) "
   ]
  },
  {
   "cell_type": "code",
   "execution_count": 89,
   "id": "f13dfd1d",
   "metadata": {},
   "outputs": [],
   "source": [
    "# 切分词汇\n",
    "def cut(data):\n",
    "    cut= [s.split() for s in data['TriageNote'].astype(str)]\n",
    "    return cut"
   ]
  },
  {
   "cell_type": "code",
   "execution_count": 90,
   "id": "94dd810e",
   "metadata": {},
   "outputs": [],
   "source": [
    "train_text=cut(train_set)\n",
    "test_text=cut(test_set)\n",
    "sentences=train_text+test_text"
   ]
  },
  {
   "cell_type": "code",
   "execution_count": 91,
   "id": "2b4b566b",
   "metadata": {},
   "outputs": [
    {
     "data": {
      "text/plain": [
       "57"
      ]
     },
     "execution_count": 91,
     "metadata": {},
     "output_type": "execute_result"
    }
   ],
   "source": [
    "#得到最大句子长度\n",
    "num_list=[len(one) for one in sentences]\n",
    "max(num_list)"
   ]
  },
  {
   "cell_type": "code",
   "execution_count": 92,
   "id": "25aa3ce1",
   "metadata": {},
   "outputs": [],
   "source": [
    "maxLen=64"
   ]
  },
  {
   "cell_type": "code",
   "execution_count": 93,
   "id": "cad599c7",
   "metadata": {},
   "outputs": [],
   "source": [
    "#处理label->one_hot\n",
    "from sklearn.preprocessing import LabelEncoder\n",
    "\n",
    "def encodelabel(data):\n",
    "    le = LabelEncoder()\n",
    "    resultLable=le.fit_transform(data['DISPOSITION'])\n",
    "    return resultLable\n"
   ]
  },
  {
   "cell_type": "code",
   "execution_count": 94,
   "id": "b3dcf8dc",
   "metadata": {},
   "outputs": [],
   "source": [
    "train_lable=encodelabel(train_set)\n",
    "test_lable=encodelabel(test_set)"
   ]
  },
  {
   "cell_type": "code",
   "execution_count": 95,
   "id": "1f35b5d9",
   "metadata": {},
   "outputs": [
    {
     "name": "stderr",
     "output_type": "stream",
     "text": [
      "2022-11-27 17:17:38,420 : INFO : loading Word2Vec object from ./word2vec_all.model\n",
      "2022-11-27 17:17:38,432 : INFO : loading wv recursively from ./word2vec_all.model.wv.* with mmap=None\n",
      "2022-11-27 17:17:38,433 : INFO : setting ignored attribute cum_table to None\n",
      "2022-11-27 17:17:38,563 : INFO : Word2Vec lifecycle event {'fname': './word2vec_all.model', 'datetime': '2022-11-27T17:17:38.563783', 'gensim': '4.2.0', 'python': '3.10.6 (main, Oct 24 2022, 16:07:47) [GCC 11.2.0]', 'platform': 'Linux-5.15.74.2-microsoft-standard-WSL2-x86_64-with-glibc2.35', 'event': 'loaded'}\n"
     ]
    }
   ],
   "source": [
    "wvmodel = word2vec.Word2Vec.load(\"./word2vec_all.model\")"
   ]
  },
  {
   "cell_type": "code",
   "execution_count": 96,
   "id": "9cc89146",
   "metadata": {},
   "outputs": [
    {
     "data": {
      "text/plain": [
       "array([[-0.12218557,  0.0108139 , -0.0540753 , ...,  0.19499654,\n",
       "        -0.17589162,  0.08166945],\n",
       "       [-0.09467608,  0.10512851, -0.0610561 , ...,  0.26695749,\n",
       "        -0.18704069,  0.22834064],\n",
       "       [ 0.24974522,  0.17918283, -0.09704385, ...,  0.2597529 ,\n",
       "        -0.13358602,  0.22380796],\n",
       "       ...,\n",
       "       [ 0.19219907,  0.01450577,  0.14555521, ...,  0.10738144,\n",
       "        -0.14023796, -0.1120103 ],\n",
       "       [ 0.19351502, -0.04881224,  0.15855327, ...,  0.12611151,\n",
       "        -0.11814287, -0.0752831 ],\n",
       "       [ 0.14019825,  0.03722169,  0.0517226 , ...,  0.10483958,\n",
       "        -0.09295914,  0.02852856]])"
      ]
     },
     "execution_count": 96,
     "metadata": {},
     "output_type": "execute_result"
    }
   ],
   "source": [
    "# import json\n",
    "# f = open(path_father + \"/embedding/TransD_99.json\")\n",
    "# nekg = json.load(f)\n",
    "nekg=np.load(path_father + '/embedding/TransD_99.npy')\n",
    "nekg"
   ]
  },
  {
   "cell_type": "code",
   "execution_count": 97,
   "id": "26830919",
   "metadata": {},
   "outputs": [],
   "source": [
    "tokenizer=Tokenizer()\n",
    "tokenizer.fit_on_texts(sentences)\n",
    "vocab = tokenizer.word_index "
   ]
  },
  {
   "cell_type": "code",
   "execution_count": 98,
   "id": "d6b9da6f",
   "metadata": {},
   "outputs": [],
   "source": [
    "#特征数字编号，不足的话会在前面补充0\n",
    "trainID = tokenizer.texts_to_sequences(train_text)\n",
    "# print(trainID)\n",
    "testID = tokenizer.texts_to_sequences(test_text)\n",
    "trainSeq=pad_sequences(trainID,maxlen=maxLen)\n",
    "#print(trainSeq)\n",
    "testSeq=pad_sequences(testID,maxlen=maxLen)\n",
    "\n",
    "#标签的独热编码\n",
    "trainCate = to_categorical(train_lable, num_classes=2)  # 将标签转换为one-hot编码\n",
    "#print(trainCate)\n",
    "testCate= to_categorical(test_lable, num_classes=2)  # 将标签转换为one-hot编码"
   ]
  },
  {
   "cell_type": "code",
   "execution_count": 99,
   "id": "cc516388",
   "metadata": {},
   "outputs": [],
   "source": [
    "def nekg_embed(n0):\n",
    "    n1=int(n0)\n",
    "    n2=int(n0)+1\n",
    "    s1=(n2-n0)/(n2-n1)\n",
    "    s2=(n0-n1)/(n2-n1)\n",
    "    return s1*nekg[n1]+s2*nekg[n2]"
   ]
  },
  {
   "cell_type": "code",
   "execution_count": 100,
   "id": "88a8378f",
   "metadata": {},
   "outputs": [],
   "source": [
    "#利用训练后的word2vec自定义Embedding的训练矩阵，每行代表一个词（结合独热码和矩阵乘法理解）\n",
    "embedding_matrix = np.zeros((len(vocab) + 1, 100))\n",
    "for word, i in vocab.items():\n",
    "    try:\n",
    "        if(word.isdigit()==False):#对word用word2vec\n",
    "            embedding_vector = wvmodel.wv[str(word)]\n",
    "        else:#对number用nekg\n",
    "            if (int(float(word))<=98):\n",
    "                embedding_vector =  nekg_embed(float(word))\n",
    "            else:\n",
    "                embedding_vector = wvmodel.wv[str(word)]\n",
    "        embedding_matrix[i] = embedding_vector    \n",
    "    except KeyError:\n",
    "        continue"
   ]
  },
  {
   "cell_type": "code",
   "execution_count": 101,
   "id": "1fa9c8f0",
   "metadata": {},
   "outputs": [
    {
     "name": "stdout",
     "output_type": "stream",
     "text": [
      "Model: \"sequential_2\"\n",
      "_________________________________________________________________\n",
      " Layer (type)                Output Shape              Param #   \n",
      "=================================================================\n",
      " embedding_2 (Embedding)     (None, 64, 100)           806300    \n",
      "                                                                 \n",
      " lstm_2 (LSTM)               (None, 64)                42240     \n",
      "                                                                 \n",
      " FC1 (Dense)                 (None, 64)                4160      \n",
      "                                                                 \n",
      " dropout_2 (Dropout)         (None, 64)                0         \n",
      "                                                                 \n",
      " FC2 (Dense)                 (None, 2)                 130       \n",
      "                                                                 \n",
      "=================================================================\n",
      "Total params: 852,830\n",
      "Trainable params: 852,830\n",
      "Non-trainable params: 0\n",
      "_________________________________________________________________\n",
      "Epoch 1/30\n",
      "154/154 [==============================] - 9s 41ms/step - loss: 0.7139 - accuracy: 0.5743 - val_loss: 0.6594 - val_accuracy: 0.6006\n",
      "Epoch 2/30\n",
      "154/154 [==============================] - 8s 54ms/step - loss: 0.6039 - accuracy: 0.6921 - val_loss: 0.6037 - val_accuracy: 0.7208\n",
      "Epoch 3/30\n",
      "154/154 [==============================] - 6s 42ms/step - loss: 0.5374 - accuracy: 0.7506 - val_loss: 0.5830 - val_accuracy: 0.7208\n",
      "Epoch 4/30\n",
      "154/154 [==============================] - 7s 45ms/step - loss: 0.4744 - accuracy: 0.7929 - val_loss: 0.5441 - val_accuracy: 0.7532\n",
      "Epoch 5/30\n",
      "154/154 [==============================] - 8s 51ms/step - loss: 0.3951 - accuracy: 0.8318 - val_loss: 0.5589 - val_accuracy: 0.7727\n",
      "Epoch 6/30\n",
      "154/154 [==============================] - 8s 52ms/step - loss: 0.3305 - accuracy: 0.8611 - val_loss: 0.6135 - val_accuracy: 0.7435\n",
      "Epoch 7/30\n",
      "154/154 [==============================] - 7s 46ms/step - loss: 0.2613 - accuracy: 0.8976 - val_loss: 0.6719 - val_accuracy: 0.7597\n",
      "Epoch 8/30\n",
      "154/154 [==============================] - 7s 46ms/step - loss: 0.1699 - accuracy: 0.9407 - val_loss: 0.7266 - val_accuracy: 0.7500\n",
      "Epoch 9/30\n",
      "154/154 [==============================] - 7s 48ms/step - loss: 0.1334 - accuracy: 0.9529 - val_loss: 1.2310 - val_accuracy: 0.6883\n"
     ]
    },
    {
     "name": "stderr",
     "output_type": "stream",
     "text": [
      "2022-11-27 17:18:51,294 : WARNING : Found untraced functions such as lstm_cell_2_layer_call_fn, lstm_cell_2_layer_call_and_return_conditional_losses while saving (showing 2 of 2). These functions will not be directly callable after loading.\n"
     ]
    },
    {
     "name": "stdout",
     "output_type": "stream",
     "text": [
      "INFO:tensorflow:Assets written to: LSTM/assets\n"
     ]
    },
    {
     "name": "stderr",
     "output_type": "stream",
     "text": [
      "2022-11-27 17:18:51,927 : INFO : Assets written to: LSTM/assets\n"
     ]
    }
   ],
   "source": [
    "## 定义LSTM模型\n",
    "batch_size=8\n",
    "inputs = Input(name='inputs',shape=[maxLen])\n",
    "embedder = Embedding(len(vocab) + 1, 100, input_length=maxLen, weights=[embedding_matrix], trainable=True)\n",
    "model=Sequential()\n",
    "model.add(embedder)\n",
    "model.add(LSTM(64))\n",
    "model.add(Dense(64,activation=\"sigmoid\",name=\"FC1\"))\n",
    "model.add(Dropout(0.4))\n",
    "model.add(Dense(2,activation=\"softmax\",name=\"FC2\"))\n",
    "model.summary()\n",
    "model.compile(loss=\"categorical_crossentropy\",optimizer=RMSprop(),metrics=[\"accuracy\"])\n",
    "#reduce_lr = ReduceLROnPlateau(monitor='val_loss',factor=0.1 ,patience=3, mode='auto')\n",
    "history=model.fit(trainSeq, trainCate, batch_size, epochs=30,validation_split=0.2, callbacks=[EarlyStopping(monitor='val_loss',patience=5)])\n",
    "model.save(\"LSTM\")"
   ]
  },
  {
   "cell_type": "code",
   "execution_count": 102,
   "id": "f6b394d2",
   "metadata": {},
   "outputs": [
    {
     "name": "stdout",
     "output_type": "stream",
     "text": [
      "6/6 [==============================] - 0s 13ms/step\n",
      "6/6 [==============================] - 1s 14ms/step - loss: 1.1917 - accuracy: 0.6667\n",
      "[1.19170343875885, 0.6666666865348816]\n"
     ]
    }
   ],
   "source": [
    "#预测与评估\n",
    "mainModel = load_model('LSTM')\n",
    "result = mainModel.predict(testSeq)  # 预测样本属于每个类别的概率\n",
    "score = mainModel.evaluate(testSeq,\n",
    "                           testCate,\n",
    "                           batch_size=32)\n",
    "print(score)"
   ]
  },
  {
   "cell_type": "code",
   "execution_count": 103,
   "id": "5cd82ded",
   "metadata": {},
   "outputs": [
    {
     "data": {
      "image/png": "[encoded data removed]",
      "text/plain": [
       "<Figure size 640x480 with 1 Axes>"
      ]
     },
     "metadata": {},
     "output_type": "display_data"
    },
    {
     "data": {
      "image/png": "[encoded data removed]",
      "text/plain": [
       "<Figure size 640x480 with 1 Axes>"
      ]
     },
     "metadata": {},
     "output_type": "display_data"
    }
   ],
   "source": [
    "plt.plot(history.history['accuracy'])\n",
    "plt.plot(history.history['val_accuracy'])\n",
    "plt.title('Model accuracy')\n",
    "plt.ylabel('Accuracy')\n",
    "plt.xlabel('Epoch')\n",
    "plt.legend(['Train','Valid'],loc='upper left')\n",
    "plt.show()\n",
    "\n",
    "plt.plot(history.history['loss'])\n",
    "plt.plot(history.history['val_loss'])\n",
    "plt.title('Model loss')\n",
    "plt.ylabel('Loss')\n",
    "plt.xlabel('Epoch')\n",
    "plt.legend(['Train','Valid'],loc='upper left')\n",
    "plt.show()"
   ]
  },
  {
   "cell_type": "code",
   "execution_count": 104,
   "id": "5450d945",
   "metadata": {},
   "outputs": [
    {
     "name": "stdout",
     "output_type": "stream",
     "text": [
      "Model: \"sequential_3\"\n",
      "_________________________________________________________________\n",
      " Layer (type)                Output Shape              Param #   \n",
      "=================================================================\n",
      " embedding_3 (Embedding)     (None, 64, 100)           806300    \n",
      "                                                                 \n",
      " lstm_3 (LSTM)               (None, 64)                42240     \n",
      "                                                                 \n",
      " FC1 (Dense)                 (None, 64)                4160      \n",
      "                                                                 \n",
      " dropout_3 (Dropout)         (None, 64)                0         \n",
      "                                                                 \n",
      " FC2 (Dense)                 (None, 2)                 130       \n",
      "                                                                 \n",
      "=================================================================\n",
      "Total params: 852,830\n",
      "Trainable params: 852,830\n",
      "Non-trainable params: 0\n",
      "_________________________________________________________________\n",
      "Epoch 1/30\n",
      "154/154 [==============================] - 12s 61ms/step - loss: 0.7164 - accuracy: 0.5711 - val_loss: 0.6345 - val_accuracy: 0.6136\n",
      "Epoch 2/30\n",
      "154/154 [==============================] - 6s 40ms/step - loss: 0.6115 - accuracy: 0.7011 - val_loss: 0.9031 - val_accuracy: 0.5942\n",
      "Epoch 3/30\n",
      "154/154 [==============================] - 6s 39ms/step - loss: 0.5441 - accuracy: 0.7498 - val_loss: 0.5634 - val_accuracy: 0.7370\n",
      "Epoch 4/30\n",
      "154/154 [==============================] - 7s 43ms/step - loss: 0.4762 - accuracy: 0.7912 - val_loss: 0.5336 - val_accuracy: 0.7760\n",
      "Epoch 5/30\n",
      "154/154 [==============================] - 7s 48ms/step - loss: 0.3960 - accuracy: 0.8481 - val_loss: 0.6022 - val_accuracy: 0.7110\n",
      "Epoch 6/30\n",
      "154/154 [==============================] - 8s 52ms/step - loss: 0.3163 - accuracy: 0.8830 - val_loss: 0.6023 - val_accuracy: 0.7565\n",
      "Epoch 7/30\n",
      "154/154 [==============================] - 7s 47ms/step - loss: 0.2653 - accuracy: 0.9009 - val_loss: 0.6723 - val_accuracy: 0.7240\n",
      "Epoch 8/30\n",
      "154/154 [==============================] - 7s 47ms/step - loss: 0.1903 - accuracy: 0.9350 - val_loss: 0.7132 - val_accuracy: 0.7532\n",
      "Epoch 9/30\n",
      "154/154 [==============================] - 7s 48ms/step - loss: 0.1226 - accuracy: 0.9521 - val_loss: 0.9049 - val_accuracy: 0.7175\n",
      "6/6 [==============================] - 1s 15ms/step\n",
      "6/6 [==============================] - 0s 14ms/step - loss: 1.1382 - accuracy: 0.6608\n",
      "Model: \"sequential_4\"\n",
      "_________________________________________________________________\n",
      " Layer (type)                Output Shape              Param #   \n",
      "=================================================================\n",
      " embedding_4 (Embedding)     (None, 64, 100)           806300    \n",
      "                                                                 \n",
      " lstm_4 (LSTM)               (None, 64)                42240     \n",
      "                                                                 \n",
      " FC1 (Dense)                 (None, 64)                4160      \n",
      "                                                                 \n",
      " dropout_4 (Dropout)         (None, 64)                0         \n",
      "                                                                 \n",
      " FC2 (Dense)                 (None, 2)                 130       \n",
      "                                                                 \n",
      "=================================================================\n",
      "Total params: 852,830\n",
      "Trainable params: 852,830\n",
      "Non-trainable params: 0\n",
      "_________________________________________________________________\n",
      "Epoch 1/30\n",
      "154/154 [==============================] - 11s 52ms/step - loss: 0.6958 - accuracy: 0.5963 - val_loss: 0.6130 - val_accuracy: 0.6753\n",
      "Epoch 2/30\n",
      "154/154 [==============================] - 7s 48ms/step - loss: 0.5843 - accuracy: 0.7116 - val_loss: 0.5270 - val_accuracy: 0.7565\n",
      "Epoch 3/30\n",
      "154/154 [==============================] - 8s 50ms/step - loss: 0.5202 - accuracy: 0.7750 - val_loss: 0.5346 - val_accuracy: 0.7727\n",
      "Epoch 4/30\n",
      "154/154 [==============================] - 8s 51ms/step - loss: 0.4643 - accuracy: 0.8042 - val_loss: 0.5336 - val_accuracy: 0.7727\n",
      "Epoch 5/30\n",
      "154/154 [==============================] - 7s 47ms/step - loss: 0.3927 - accuracy: 0.8457 - val_loss: 0.5632 - val_accuracy: 0.7825\n",
      "Epoch 6/30\n",
      "154/154 [==============================] - 7s 45ms/step - loss: 0.3201 - accuracy: 0.8773 - val_loss: 0.6021 - val_accuracy: 0.7565\n",
      "Epoch 7/30\n",
      "154/154 [==============================] - 7s 48ms/step - loss: 0.2393 - accuracy: 0.9082 - val_loss: 0.6602 - val_accuracy: 0.7435\n",
      "6/6 [==============================] - 0s 14ms/step\n",
      "6/6 [==============================] - 0s 13ms/step - loss: 0.6795 - accuracy: 0.7076\n",
      "Model: \"sequential_5\"\n",
      "_________________________________________________________________\n",
      " Layer (type)                Output Shape              Param #   \n",
      "=================================================================\n",
      " embedding_5 (Embedding)     (None, 64, 100)           806300    \n",
      "                                                                 \n",
      " lstm_5 (LSTM)               (None, 64)                42240     \n",
      "                                                                 \n",
      " FC1 (Dense)                 (None, 64)                4160      \n",
      "                                                                 \n",
      " dropout_5 (Dropout)         (None, 64)                0         \n",
      "                                                                 \n",
      " FC2 (Dense)                 (None, 2)                 130       \n",
      "                                                                 \n",
      "=================================================================\n",
      "Total params: 852,830\n",
      "Trainable params: 852,830\n",
      "Non-trainable params: 0\n",
      "_________________________________________________________________\n",
      "Epoch 1/30\n",
      "154/154 [==============================] - 10s 54ms/step - loss: 0.6995 - accuracy: 0.5849 - val_loss: 0.6071 - val_accuracy: 0.6851\n",
      "Epoch 2/30\n",
      "154/154 [==============================] - 7s 48ms/step - loss: 0.6012 - accuracy: 0.7076 - val_loss: 0.5610 - val_accuracy: 0.7305\n",
      "Epoch 3/30\n",
      "154/154 [==============================] - 9s 60ms/step - loss: 0.5377 - accuracy: 0.7522 - val_loss: 0.6623 - val_accuracy: 0.6526\n",
      "Epoch 4/30\n",
      "154/154 [==============================] - 9s 55ms/step - loss: 0.4566 - accuracy: 0.8034 - val_loss: 0.5972 - val_accuracy: 0.7370\n",
      "Epoch 5/30\n",
      "154/154 [==============================] - 7s 47ms/step - loss: 0.4102 - accuracy: 0.8327 - val_loss: 0.6122 - val_accuracy: 0.7468\n",
      "Epoch 6/30\n",
      "154/154 [==============================] - 7s 45ms/step - loss: 0.3306 - accuracy: 0.8635 - val_loss: 0.6323 - val_accuracy: 0.7435\n",
      "Epoch 7/30\n",
      "154/154 [==============================] - 7s 47ms/step - loss: 0.2691 - accuracy: 0.8976 - val_loss: 0.6726 - val_accuracy: 0.7532\n",
      "6/6 [==============================] - 1s 15ms/step\n",
      "6/6 [==============================] - 0s 15ms/step - loss: 0.7667 - accuracy: 0.6725\n",
      "Model: \"sequential_6\"\n",
      "_________________________________________________________________\n",
      " Layer (type)                Output Shape              Param #   \n",
      "=================================================================\n",
      " embedding_6 (Embedding)     (None, 64, 100)           806300    \n",
      "                                                                 \n",
      " lstm_6 (LSTM)               (None, 64)                42240     \n",
      "                                                                 \n",
      " FC1 (Dense)                 (None, 64)                4160      \n",
      "                                                                 \n",
      " dropout_6 (Dropout)         (None, 64)                0         \n",
      "                                                                 \n",
      " FC2 (Dense)                 (None, 2)                 130       \n",
      "                                                                 \n",
      "=================================================================\n",
      "Total params: 852,830\n",
      "Trainable params: 852,830\n",
      "Non-trainable params: 0\n",
      "_________________________________________________________________\n",
      "Epoch 1/30\n",
      "154/154 [==============================] - 10s 52ms/step - loss: 0.6797 - accuracy: 0.5946 - val_loss: 0.5429 - val_accuracy: 0.7468\n",
      "Epoch 2/30\n",
      "154/154 [==============================] - 7s 47ms/step - loss: 0.6075 - accuracy: 0.6897 - val_loss: 0.5426 - val_accuracy: 0.7468\n",
      "Epoch 3/30\n",
      "154/154 [==============================] - 7s 48ms/step - loss: 0.5266 - accuracy: 0.7539 - val_loss: 0.5911 - val_accuracy: 0.6981\n",
      "Epoch 4/30\n",
      "154/154 [==============================] - 7s 48ms/step - loss: 0.4524 - accuracy: 0.8026 - val_loss: 0.5672 - val_accuracy: 0.7045\n",
      "Epoch 5/30\n",
      "154/154 [==============================] - 7s 48ms/step - loss: 0.3929 - accuracy: 0.8302 - val_loss: 0.6169 - val_accuracy: 0.7273\n",
      "Epoch 6/30\n",
      "154/154 [==============================] - 7s 47ms/step - loss: 0.3082 - accuracy: 0.8822 - val_loss: 0.5766 - val_accuracy: 0.7695\n",
      "Epoch 7/30\n",
      "154/154 [==============================] - 7s 45ms/step - loss: 0.2301 - accuracy: 0.9171 - val_loss: 0.6110 - val_accuracy: 0.7468\n",
      "6/6 [==============================] - 0s 10ms/step\n",
      "6/6 [==============================] - 0s 9ms/step - loss: 0.7040 - accuracy: 0.6784\n",
      "Model: \"sequential_7\"\n",
      "_________________________________________________________________\n",
      " Layer (type)                Output Shape              Param #   \n",
      "=================================================================\n",
      " embedding_7 (Embedding)     (None, 64, 100)           806300    \n",
      "                                                                 \n",
      " lstm_7 (LSTM)               (None, 64)                42240     \n",
      "                                                                 \n",
      " FC1 (Dense)                 (None, 64)                4160      \n",
      "                                                                 \n",
      " dropout_7 (Dropout)         (None, 64)                0         \n",
      "                                                                 \n",
      " FC2 (Dense)                 (None, 2)                 130       \n",
      "                                                                 \n",
      "=================================================================\n",
      "Total params: 852,830\n",
      "Trainable params: 852,830\n",
      "Non-trainable params: 0\n",
      "_________________________________________________________________\n",
      "Epoch 1/30\n",
      "154/154 [==============================] - 9s 49ms/step - loss: 0.7061 - accuracy: 0.5719 - val_loss: 0.5716 - val_accuracy: 0.7305\n",
      "Epoch 2/30\n",
      "154/154 [==============================] - 7s 47ms/step - loss: 0.5901 - accuracy: 0.7051 - val_loss: 0.5908 - val_accuracy: 0.7045\n",
      "Epoch 3/30\n",
      "154/154 [==============================] - 8s 50ms/step - loss: 0.5170 - accuracy: 0.7620 - val_loss: 0.5271 - val_accuracy: 0.7727\n",
      "Epoch 4/30\n",
      "154/154 [==============================] - 8s 49ms/step - loss: 0.4555 - accuracy: 0.8058 - val_loss: 0.5617 - val_accuracy: 0.7273\n",
      "Epoch 5/30\n",
      "154/154 [==============================] - 7s 47ms/step - loss: 0.3862 - accuracy: 0.8440 - val_loss: 0.5432 - val_accuracy: 0.7857\n",
      "Epoch 6/30\n",
      "154/154 [==============================] - 8s 50ms/step - loss: 0.3075 - accuracy: 0.8814 - val_loss: 0.5964 - val_accuracy: 0.7175\n",
      "Epoch 7/30\n",
      "154/154 [==============================] - 8s 52ms/step - loss: 0.2364 - accuracy: 0.9155 - val_loss: 0.6163 - val_accuracy: 0.7305\n",
      "Epoch 8/30\n",
      "154/154 [==============================] - 8s 49ms/step - loss: 0.1836 - accuracy: 0.9350 - val_loss: 0.7596 - val_accuracy: 0.7435\n",
      "6/6 [==============================] - 0s 13ms/step\n",
      "6/6 [==============================] - 0s 10ms/step - loss: 0.7963 - accuracy: 0.7135\n",
      "Model: \"sequential_8\"\n",
      "_________________________________________________________________\n",
      " Layer (type)                Output Shape              Param #   \n",
      "=================================================================\n",
      " embedding_8 (Embedding)     (None, 64, 100)           806300    \n",
      "                                                                 \n",
      " lstm_8 (LSTM)               (None, 64)                42240     \n",
      "                                                                 \n",
      " FC1 (Dense)                 (None, 64)                4160      \n",
      "                                                                 \n",
      " dropout_8 (Dropout)         (None, 64)                0         \n",
      "                                                                 \n",
      " FC2 (Dense)                 (None, 2)                 130       \n",
      "                                                                 \n",
      "=================================================================\n",
      "Total params: 852,830\n",
      "Trainable params: 852,830\n",
      "Non-trainable params: 0\n",
      "_________________________________________________________________\n",
      "Epoch 1/30\n",
      "154/154 [==============================] - 10s 51ms/step - loss: 0.7169 - accuracy: 0.5589 - val_loss: 0.6076 - val_accuracy: 0.6591\n",
      "Epoch 2/30\n",
      "154/154 [==============================] - 8s 49ms/step - loss: 0.6321 - accuracy: 0.6799 - val_loss: 0.5743 - val_accuracy: 0.7110\n",
      "Epoch 3/30\n",
      "154/154 [==============================] - 8s 51ms/step - loss: 0.5285 - accuracy: 0.7547 - val_loss: 0.5822 - val_accuracy: 0.7305\n",
      "Epoch 4/30\n",
      "154/154 [==============================] - 7s 48ms/step - loss: 0.4774 - accuracy: 0.7945 - val_loss: 0.5264 - val_accuracy: 0.7468\n",
      "Epoch 5/30\n",
      "154/154 [==============================] - 8s 49ms/step - loss: 0.4107 - accuracy: 0.8148 - val_loss: 0.6077 - val_accuracy: 0.7240\n",
      "Epoch 6/30\n",
      "154/154 [==============================] - 8s 49ms/step - loss: 0.3307 - accuracy: 0.8627 - val_loss: 0.5474 - val_accuracy: 0.7792\n",
      "Epoch 7/30\n",
      "154/154 [==============================] - 7s 46ms/step - loss: 0.2713 - accuracy: 0.9017 - val_loss: 0.6912 - val_accuracy: 0.7403\n",
      "Epoch 8/30\n",
      "154/154 [==============================] - 5s 34ms/step - loss: 0.2060 - accuracy: 0.9293 - val_loss: 0.8238 - val_accuracy: 0.7597\n",
      "Epoch 9/30\n",
      "154/154 [==============================] - 5s 32ms/step - loss: 0.1411 - accuracy: 0.9504 - val_loss: 0.8178 - val_accuracy: 0.7305\n",
      "6/6 [==============================] - 0s 10ms/step\n",
      "6/6 [==============================] - 0s 9ms/step - loss: 0.8926 - accuracy: 0.6901\n",
      "Model: \"sequential_9\"\n",
      "_________________________________________________________________\n",
      " Layer (type)                Output Shape              Param #   \n",
      "=================================================================\n",
      " embedding_9 (Embedding)     (None, 64, 100)           806300    \n",
      "                                                                 \n",
      " lstm_9 (LSTM)               (None, 64)                42240     \n",
      "                                                                 \n",
      " FC1 (Dense)                 (None, 64)                4160      \n",
      "                                                                 \n",
      " dropout_9 (Dropout)         (None, 64)                0         \n",
      "                                                                 \n",
      " FC2 (Dense)                 (None, 2)                 130       \n",
      "                                                                 \n",
      "=================================================================\n",
      "Total params: 852,830\n",
      "Trainable params: 852,830\n",
      "Non-trainable params: 0\n",
      "_________________________________________________________________\n",
      "Epoch 1/30\n",
      "154/154 [==============================] - 7s 29ms/step - loss: 0.7223 - accuracy: 0.5500 - val_loss: 0.5571 - val_accuracy: 0.7208\n",
      "Epoch 2/30\n",
      "154/154 [==============================] - 4s 28ms/step - loss: 0.5953 - accuracy: 0.7165 - val_loss: 0.5833 - val_accuracy: 0.7013\n",
      "Epoch 3/30\n",
      "154/154 [==============================] - 4s 29ms/step - loss: 0.5485 - accuracy: 0.7392 - val_loss: 0.5525 - val_accuracy: 0.7273\n",
      "Epoch 4/30\n",
      "154/154 [==============================] - 5s 34ms/step - loss: 0.4744 - accuracy: 0.7994 - val_loss: 0.5409 - val_accuracy: 0.7630\n",
      "Epoch 5/30\n",
      "154/154 [==============================] - 7s 49ms/step - loss: 0.3895 - accuracy: 0.8497 - val_loss: 0.6059 - val_accuracy: 0.7890\n",
      "Epoch 6/30\n",
      "154/154 [==============================] - 7s 48ms/step - loss: 0.3135 - accuracy: 0.8692 - val_loss: 0.6609 - val_accuracy: 0.7695\n",
      "Epoch 7/30\n",
      "154/154 [==============================] - 8s 50ms/step - loss: 0.2685 - accuracy: 0.9001 - val_loss: 0.5949 - val_accuracy: 0.7597\n",
      "Epoch 8/30\n",
      "154/154 [==============================] - 8s 49ms/step - loss: 0.1909 - accuracy: 0.9269 - val_loss: 0.9711 - val_accuracy: 0.7435\n",
      "Epoch 9/30\n",
      "154/154 [==============================] - 8s 50ms/step - loss: 0.1523 - accuracy: 0.9504 - val_loss: 0.6902 - val_accuracy: 0.7500\n",
      "6/6 [==============================] - 0s 14ms/step\n",
      "6/6 [==============================] - 0s 14ms/step - loss: 0.6586 - accuracy: 0.7310\n",
      "Model: \"sequential_10\"\n",
      "_________________________________________________________________\n",
      " Layer (type)                Output Shape              Param #   \n",
      "=================================================================\n",
      " embedding_10 (Embedding)    (None, 64, 100)           806300    \n",
      "                                                                 \n",
      " lstm_10 (LSTM)              (None, 64)                42240     \n",
      "                                                                 \n",
      " FC1 (Dense)                 (None, 64)                4160      \n",
      "                                                                 \n",
      " dropout_10 (Dropout)        (None, 64)                0         \n",
      "                                                                 \n",
      " FC2 (Dense)                 (None, 2)                 130       \n",
      "                                                                 \n",
      "=================================================================\n",
      "Total params: 852,830\n",
      "Trainable params: 852,830\n",
      "Non-trainable params: 0\n",
      "_________________________________________________________________\n",
      "Epoch 1/30\n",
      "154/154 [==============================] - 10s 53ms/step - loss: 0.6991 - accuracy: 0.5979 - val_loss: 0.5639 - val_accuracy: 0.7240\n",
      "Epoch 2/30\n",
      "154/154 [==============================] - 7s 49ms/step - loss: 0.5976 - accuracy: 0.6856 - val_loss: 0.5698 - val_accuracy: 0.7500\n",
      "Epoch 3/30\n",
      "154/154 [==============================] - 7s 44ms/step - loss: 0.5308 - accuracy: 0.7579 - val_loss: 0.5834 - val_accuracy: 0.7305\n",
      "Epoch 4/30\n",
      "154/154 [==============================] - 7s 48ms/step - loss: 0.4591 - accuracy: 0.8018 - val_loss: 0.5764 - val_accuracy: 0.7662\n",
      "Epoch 5/30\n",
      "154/154 [==============================] - 7s 49ms/step - loss: 0.3913 - accuracy: 0.8392 - val_loss: 0.5973 - val_accuracy: 0.7630\n",
      "Epoch 6/30\n",
      "154/154 [==============================] - 8s 49ms/step - loss: 0.3283 - accuracy: 0.8684 - val_loss: 0.6495 - val_accuracy: 0.7532\n",
      "6/6 [==============================] - 1s 15ms/step\n",
      "6/6 [==============================] - 0s 15ms/step - loss: 0.6923 - accuracy: 0.7135\n",
      "Model: \"sequential_11\"\n",
      "_________________________________________________________________\n",
      " Layer (type)                Output Shape              Param #   \n",
      "=================================================================\n",
      " embedding_11 (Embedding)    (None, 64, 100)           806300    \n",
      "                                                                 \n",
      " lstm_11 (LSTM)              (None, 64)                42240     \n",
      "                                                                 \n",
      " FC1 (Dense)                 (None, 64)                4160      \n",
      "                                                                 \n",
      " dropout_11 (Dropout)        (None, 64)                0         \n",
      "                                                                 \n",
      " FC2 (Dense)                 (None, 2)                 130       \n",
      "                                                                 \n",
      "=================================================================\n",
      "Total params: 852,830\n",
      "Trainable params: 852,830\n",
      "Non-trainable params: 0\n",
      "_________________________________________________________________\n",
      "Epoch 1/30\n",
      "154/154 [==============================] - 10s 52ms/step - loss: 0.7177 - accuracy: 0.5776 - val_loss: 0.5494 - val_accuracy: 0.7370\n",
      "Epoch 2/30\n",
      "154/154 [==============================] - 8s 49ms/step - loss: 0.6000 - accuracy: 0.7011 - val_loss: 0.5623 - val_accuracy: 0.7695\n",
      "Epoch 3/30\n",
      "154/154 [==============================] - 7s 48ms/step - loss: 0.5448 - accuracy: 0.7482 - val_loss: 0.5289 - val_accuracy: 0.7597\n",
      "Epoch 4/30\n",
      "154/154 [==============================] - 7s 44ms/step - loss: 0.4693 - accuracy: 0.7945 - val_loss: 0.5443 - val_accuracy: 0.7532\n",
      "Epoch 5/30\n",
      "154/154 [==============================] - 7s 47ms/step - loss: 0.4140 - accuracy: 0.8237 - val_loss: 0.5234 - val_accuracy: 0.7792\n",
      "Epoch 6/30\n",
      "154/154 [==============================] - 8s 50ms/step - loss: 0.3269 - accuracy: 0.8627 - val_loss: 0.6825 - val_accuracy: 0.7370\n",
      "Epoch 7/30\n",
      "154/154 [==============================] - 7s 48ms/step - loss: 0.2627 - accuracy: 0.8968 - val_loss: 0.7071 - val_accuracy: 0.6948\n",
      "Epoch 8/30\n",
      "154/154 [==============================] - 7s 48ms/step - loss: 0.1881 - accuracy: 0.9253 - val_loss: 0.7087 - val_accuracy: 0.7630\n",
      "Epoch 9/30\n",
      "154/154 [==============================] - 7s 49ms/step - loss: 0.1356 - accuracy: 0.9561 - val_loss: 0.7828 - val_accuracy: 0.7273\n",
      "Epoch 10/30\n",
      "154/154 [==============================] - 7s 48ms/step - loss: 0.0951 - accuracy: 0.9699 - val_loss: 0.8782 - val_accuracy: 0.7338\n",
      "6/6 [==============================] - 0s 15ms/step\n",
      "6/6 [==============================] - 0s 15ms/step - loss: 1.0290 - accuracy: 0.6959\n",
      "Model: \"sequential_12\"\n",
      "_________________________________________________________________\n",
      " Layer (type)                Output Shape              Param #   \n",
      "=================================================================\n",
      " embedding_12 (Embedding)    (None, 64, 100)           806300    \n",
      "                                                                 \n",
      " lstm_12 (LSTM)              (None, 64)                42240     \n",
      "                                                                 \n",
      " FC1 (Dense)                 (None, 64)                4160      \n",
      "                                                                 \n",
      " dropout_12 (Dropout)        (None, 64)                0         \n",
      "                                                                 \n",
      " FC2 (Dense)                 (None, 2)                 130       \n",
      "                                                                 \n",
      "=================================================================\n",
      "Total params: 852,830\n",
      "Trainable params: 852,830\n",
      "Non-trainable params: 0\n",
      "_________________________________________________________________\n",
      "Epoch 1/30\n",
      "154/154 [==============================] - 10s 51ms/step - loss: 0.7078 - accuracy: 0.5898 - val_loss: 0.5672 - val_accuracy: 0.7338\n",
      "Epoch 2/30\n",
      "154/154 [==============================] - 8s 52ms/step - loss: 0.6060 - accuracy: 0.6832 - val_loss: 0.5837 - val_accuracy: 0.7305\n",
      "Epoch 3/30\n",
      "154/154 [==============================] - 8s 50ms/step - loss: 0.5263 - accuracy: 0.7547 - val_loss: 0.5130 - val_accuracy: 0.7662\n",
      "Epoch 4/30\n",
      "154/154 [==============================] - 7s 45ms/step - loss: 0.4609 - accuracy: 0.8123 - val_loss: 0.5372 - val_accuracy: 0.7565\n",
      "Epoch 5/30\n",
      "154/154 [==============================] - 8s 53ms/step - loss: 0.3865 - accuracy: 0.8375 - val_loss: 0.5339 - val_accuracy: 0.7468\n",
      "Epoch 6/30\n",
      "154/154 [==============================] - 10s 65ms/step - loss: 0.3023 - accuracy: 0.8879 - val_loss: 0.5984 - val_accuracy: 0.7792\n",
      "Epoch 7/30\n",
      "154/154 [==============================] - 8s 54ms/step - loss: 0.2411 - accuracy: 0.9171 - val_loss: 0.6120 - val_accuracy: 0.7597\n",
      "Epoch 8/30\n",
      "154/154 [==============================] - 8s 53ms/step - loss: 0.1498 - accuracy: 0.9415 - val_loss: 0.8645 - val_accuracy: 0.7435\n",
      "6/6 [==============================] - 1s 15ms/step\n",
      "6/6 [==============================] - 0s 14ms/step - loss: 1.1168 - accuracy: 0.6608\n"
     ]
    }
   ],
   "source": [
    "score_list=[]\n",
    "for i in range(10):\n",
    "    ## 定义LSTM模型\n",
    "    batch_size=8\n",
    "    inputs = Input(name='inputs',shape=[maxLen])\n",
    "    embedder = Embedding(len(vocab) + 1, 100, input_length=maxLen, weights=[embedding_matrix], trainable=True)\n",
    "    model=Sequential()\n",
    "    model.add(embedder)\n",
    "    model.add(LSTM(64))\n",
    "    model.add(Dense(64,activation=\"sigmoid\",name=\"FC1\"))\n",
    "    model.add(Dropout(0.4,seed=12))\n",
    "    model.add(Dense(2,activation=\"softmax\",name=\"FC2\"))\n",
    "    model.summary()\n",
    "    model.compile(loss=\"categorical_crossentropy\",optimizer=RMSprop(),metrics=[\"accuracy\"])\n",
    "    #reduce_lr = ReduceLROnPlateau(monitor='val_loss',factor=0.1 ,patience=3, mode='auto')\n",
    "    history=model.fit(trainSeq, trainCate, batch_size, epochs=30,validation_split=0.2, callbacks=[EarlyStopping(monitor='val_loss',patience=5)])\n",
    "    result = model.predict(testSeq)  # 预测样本属于每个类别的概率\n",
    "    score = model.evaluate(testSeq,\n",
    "                               testCate,\n",
    "                               batch_size=32)\n",
    "    score_list.append(score[1])"
   ]
  },
  {
   "cell_type": "code",
   "execution_count": 105,
   "id": "7a7fbe16",
   "metadata": {},
   "outputs": [
    {
     "name": "stdout",
     "output_type": "stream",
     "text": [
      "accuracy:0.6923976600170135\n"
     ]
    }
   ],
   "source": [
    "print('accuracy:'+str(sum(score_list)/len(score_list)))"
   ]
  },
  {
   "cell_type": "code",
   "execution_count": 106,
   "id": "c717fe6f",
   "metadata": {},
   "outputs": [],
   "source": [
    "score_list.sort()"
   ]
  },
  {
   "cell_type": "code",
   "execution_count": 107,
   "id": "205e3cfa",
   "metadata": {},
   "outputs": [
    {
     "data": {
      "text/plain": [
       "[0.6608186960220337,\n",
       " 0.6608186960220337,\n",
       " 0.6725146174430847,\n",
       " 0.6783625483512878,\n",
       " 0.6900584697723389,\n",
       " 0.6959064602851868,\n",
       " 0.707602322101593,\n",
       " 0.7134503126144409,\n",
       " 0.7134503126144409,\n",
       " 0.7309941649436951]"
      ]
     },
     "execution_count": 107,
     "metadata": {},
     "output_type": "execute_result"
    }
   ],
   "source": [
    "score_list"
   ]
  },
  {
   "cell_type": "code",
   "execution_count": 108,
   "id": "0bed5eeb",
   "metadata": {},
   "outputs": [
    {
     "data": {
      "text/plain": [
       "0.6959064337942336"
      ]
     },
     "execution_count": 108,
     "metadata": {},
     "output_type": "execute_result"
    },
    {
     "ename": "",
     "evalue": "",
     "output_type": "error",
     "traceback": [
      "\u001b[1;31mThe Kernel crashed while executing code in the the current cell or a previous cell. Please review the code in the cell(s) to identify a possible cause of the failure. Click <a href='https://aka.ms/vscodeJupyterKernelCrash'>here</a> for more info. View Jupyter <a href='command:jupyter.viewOutput'>log</a> for further details."
     ]
    }
   ],
   "source": [
    "sum(score_list[1:])/9"
   ]
  }
 ],
 "metadata": {
  "kernelspec": {
   "display_name": "Python 3.10.6 ('4222G18_backup')",
   "language": "python",
   "name": "python3"
  },
  "language_info": {
   "codemirror_mode": {
    "name": "ipython",
    "version": 3
   },
   "file_extension": ".py",
   "mimetype": "text/x-python",
   "name": "python",
   "nbconvert_exporter": "python",
   "pygments_lexer": "ipython3",
   "version": "3.10.6"
  },
  "vscode": {
   "interpreter": {
    "hash": "64fb50f4500008f9f404f170e716523d28225753a93c94be3d36e645dbfada09"
   }
  }
 },
 "nbformat": 4,
 "nbformat_minor": 5
}
