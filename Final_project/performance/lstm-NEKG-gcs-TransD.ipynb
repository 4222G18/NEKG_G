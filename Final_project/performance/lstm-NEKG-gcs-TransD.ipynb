{
 "cells": [
  {
   "cell_type": "code",
   "execution_count": 1,
   "id": "9b9da0ec",
   "metadata": {},
   "outputs": [
    {
     "data": {
      "text/plain": [
       "'/home/egbert_jing/github/NEKG_G/Final_project'"
      ]
     },
     "execution_count": 1,
     "metadata": {},
     "output_type": "execute_result"
    }
   ],
   "source": [
    "import sys\n",
    "import os\n",
    "path_father = os.path.abspath(r'..')\n",
    "path_father\n",
    "# sys.path.append(path_father)"
   ]
  },
  {
   "cell_type": "code",
   "execution_count": 2,
   "id": "fce28d96",
   "metadata": {},
   "outputs": [
    {
     "name": "stderr",
     "output_type": "stream",
     "text": [
      "2022-11-10 22:52:49.231685: I tensorflow/core/platform/cpu_feature_guard.cc:193] This TensorFlow binary is optimized with oneAPI Deep Neural Network Library (oneDNN) to use the following CPU instructions in performance-critical operations:  AVX2 FMA\n",
      "To enable them in other operations, rebuild TensorFlow with the appropriate compiler flags.\n",
      "2022-11-10 22:52:49.432872: E tensorflow/stream_executor/cuda/cuda_blas.cc:2981] Unable to register cuBLAS factory: Attempting to register factory for plugin cuBLAS when one has already been registered\n",
      "2022-11-10 22:52:49.978682: W tensorflow/stream_executor/platform/default/dso_loader.cc:64] Could not load dynamic library 'libnvinfer.so.7'; dlerror: libnvinfer.so.7: cannot open shared object file: No such file or directory; LD_LIBRARY_PATH: :/usr/local/cuda-11.8/lib64\n",
      "2022-11-10 22:52:49.978806: W tensorflow/stream_executor/platform/default/dso_loader.cc:64] Could not load dynamic library 'libnvinfer_plugin.so.7'; dlerror: libnvinfer_plugin.so.7: cannot open shared object file: No such file or directory; LD_LIBRARY_PATH: :/usr/local/cuda-11.8/lib64\n",
      "2022-11-10 22:52:49.978815: W tensorflow/compiler/tf2tensorrt/utils/py_utils.cc:38] TF-TRT Warning: Cannot dlopen some TensorRT libraries. If you would like to use Nvidia GPU with TensorRT, please make sure the missing libraries mentioned above are installed properly.\n"
     ]
    }
   ],
   "source": [
    "import pandas as pd\n",
    "import numpy as np\n",
    "import matplotlib.pyplot as plt\n",
    "import seaborn as sns\n",
    "from sklearn import metrics\n",
    "from sklearn.preprocessing import LabelEncoder,OneHotEncoder\n",
    "from keras.models import Model\n",
    "from keras.layers import LSTM, Activation, Dense, Dropout, Input, Embedding\n",
    "from keras.optimizers import RMSprop\n",
    "from keras.preprocessing.text import Tokenizer\n",
    "from keras.preprocessing import sequence\n",
    "from keras.callbacks import EarlyStopping\n",
    "from keras_preprocessing.sequence import pad_sequences\n",
    "from keras.utils.np_utils import to_categorical\n",
    "from keras.models import Sequential\n",
    "from keras.callbacks import ReduceLROnPlateau\n",
    "from keras.models import load_model\n",
    "%matplotlib inline"
   ]
  },
  {
   "cell_type": "code",
   "execution_count": 3,
   "id": "c268b59b",
   "metadata": {},
   "outputs": [],
   "source": [
    "df = pd.read_csv(path_father + \"/df_with_gcs.txt\",sep=',',header=0)"
   ]
  },
  {
   "cell_type": "code",
   "execution_count": 4,
   "id": "e9e0ee5c",
   "metadata": {},
   "outputs": [],
   "source": [
    "#划分训练测试集\n",
    "from sklearn.model_selection import train_test_split\n",
    "\n",
    "train_set, test_set = train_test_split(df, test_size=0.1, random_state=42)"
   ]
  },
  {
   "cell_type": "markdown",
   "id": "59d7c98f",
   "metadata": {},
   "source": [
    "处理词向量"
   ]
  },
  {
   "cell_type": "code",
   "execution_count": 5,
   "id": "12c63f87",
   "metadata": {},
   "outputs": [],
   "source": [
    "from gensim.models import word2vec\n",
    "import logging\n",
    "logging.basicConfig(format='%(asctime)s : %(levelname)s : %(message)s', level=logging.INFO) "
   ]
  },
  {
   "cell_type": "code",
   "execution_count": 6,
   "id": "f13dfd1d",
   "metadata": {},
   "outputs": [],
   "source": [
    "# 切分词汇\n",
    "def cut(data):\n",
    "    cut= [s.split() for s in data['TriageNote'].astype(str)]\n",
    "    return cut"
   ]
  },
  {
   "cell_type": "code",
   "execution_count": 7,
   "id": "94dd810e",
   "metadata": {},
   "outputs": [],
   "source": [
    "train_text=cut(train_set)\n",
    "test_text=cut(test_set)\n",
    "sentences=train_text+test_text"
   ]
  },
  {
   "cell_type": "code",
   "execution_count": 8,
   "id": "2b4b566b",
   "metadata": {},
   "outputs": [
    {
     "data": {
      "text/plain": [
       "57"
      ]
     },
     "execution_count": 8,
     "metadata": {},
     "output_type": "execute_result"
    }
   ],
   "source": [
    "#得到最大句子长度\n",
    "num_list=[len(one) for one in sentences]\n",
    "max(num_list)"
   ]
  },
  {
   "cell_type": "code",
   "execution_count": 9,
   "id": "25aa3ce1",
   "metadata": {},
   "outputs": [],
   "source": [
    "maxLen=64"
   ]
  },
  {
   "cell_type": "code",
   "execution_count": 10,
   "id": "cad599c7",
   "metadata": {},
   "outputs": [],
   "source": [
    "#处理label->one_hot\n",
    "from sklearn.preprocessing import LabelEncoder\n",
    "\n",
    "def encodelabel(data):\n",
    "    le = LabelEncoder()\n",
    "    resultLable=le.fit_transform(data['DISPOSITION'])\n",
    "    return resultLable\n"
   ]
  },
  {
   "cell_type": "code",
   "execution_count": 11,
   "id": "b3dcf8dc",
   "metadata": {},
   "outputs": [],
   "source": [
    "train_lable=encodelabel(train_set)\n",
    "test_lable=encodelabel(test_set)"
   ]
  },
  {
   "cell_type": "code",
   "execution_count": 12,
   "id": "1f35b5d9",
   "metadata": {},
   "outputs": [
    {
     "name": "stderr",
     "output_type": "stream",
     "text": [
      "2022-11-10 22:52:51,064 : INFO : loading Word2Vec object from ./word2vec_all.model\n",
      "2022-11-10 22:52:51,077 : INFO : loading wv recursively from ./word2vec_all.model.wv.* with mmap=None\n",
      "2022-11-10 22:52:51,078 : INFO : setting ignored attribute cum_table to None\n",
      "2022-11-10 22:52:51,185 : INFO : Word2Vec lifecycle event {'fname': './word2vec_all.model', 'datetime': '2022-11-10T22:52:51.185080', 'gensim': '4.2.0', 'python': '3.10.6 (main, Oct 24 2022, 16:07:47) [GCC 11.2.0]', 'platform': 'Linux-5.15.68.1-microsoft-standard-WSL2-x86_64-with-glibc2.35', 'event': 'loaded'}\n"
     ]
    }
   ],
   "source": [
    "wvmodel = word2vec.Word2Vec.load(\"./word2vec_all.model\")"
   ]
  },
  {
   "cell_type": "code",
   "execution_count": 13,
   "id": "9cc89146",
   "metadata": {},
   "outputs": [],
   "source": [
    "import json\n",
    "f = open(path_father + \"/embedding/TransD_SGD.json\")\n",
    "nekg = json.load(f)"
   ]
  },
  {
   "cell_type": "code",
   "execution_count": 14,
   "id": "26830919",
   "metadata": {},
   "outputs": [],
   "source": [
    "tokenizer=Tokenizer()\n",
    "tokenizer.fit_on_texts(sentences)\n",
    "vocab = tokenizer.word_index "
   ]
  },
  {
   "cell_type": "code",
   "execution_count": 15,
   "id": "d6b9da6f",
   "metadata": {},
   "outputs": [],
   "source": [
    "#特征数字编号，不足的话会在前面补充0\n",
    "trainID = tokenizer.texts_to_sequences(train_text)\n",
    "# print(trainID)\n",
    "testID = tokenizer.texts_to_sequences(test_text)\n",
    "trainSeq=pad_sequences(trainID,maxlen=maxLen)\n",
    "#print(trainSeq)\n",
    "testSeq=pad_sequences(testID,maxlen=maxLen)\n",
    "\n",
    "#标签的独热编码\n",
    "trainCate = to_categorical(train_lable, num_classes=2)  # 将标签转换为one-hot编码\n",
    "#print(trainCate)\n",
    "testCate= to_categorical(test_lable, num_classes=2)  # 将标签转换为one-hot编码"
   ]
  },
  {
   "cell_type": "code",
   "execution_count": 16,
   "id": "cc516388",
   "metadata": {},
   "outputs": [],
   "source": [
    "def nekg_embed(n0):\n",
    "    n1=int(n0)\n",
    "    n2=int(n0)+1\n",
    "    s1=(n2-n0)/(n2-n1)\n",
    "    s2=(n0-n1)/(n2-n1)\n",
    "    return s1*nekg[n1]+s2*nekg[n2]"
   ]
  },
  {
   "cell_type": "code",
   "execution_count": 17,
   "id": "88a8378f",
   "metadata": {},
   "outputs": [],
   "source": [
    "#利用训练后的word2vec自定义Embedding的训练矩阵，每行代表一个词（结合独热码和矩阵乘法理解）\n",
    "embedding_matrix = np.zeros((len(vocab) + 1, 100))\n",
    "for word, i in vocab.items():\n",
    "    try:\n",
    "        if(word.isdigit()==False):#对word用word2vec\n",
    "            embedding_vector = wvmodel.wv[str(word)]\n",
    "        else:#对number用nekg\n",
    "            if (int(float(word))<=998):\n",
    "                embedding_vector =  nekg_embed(float(word))\n",
    "            else:\n",
    "                embedding_vector = wvmodel.wv[str(word)]\n",
    "        embedding_matrix[i] = embedding_vector    \n",
    "    except KeyError:\n",
    "        continue"
   ]
  },
  {
   "cell_type": "code",
   "execution_count": 18,
   "id": "1fa9c8f0",
   "metadata": {},
   "outputs": [
    {
     "name": "stderr",
     "output_type": "stream",
     "text": [
      "2022-11-10 22:52:51.886036: I tensorflow/stream_executor/cuda/cuda_gpu_executor.cc:966] could not open file to read NUMA node: /sys/bus/pci/devices/0000:01:00.0/numa_node\n",
      "Your kernel may have been built without NUMA support.\n",
      "2022-11-10 22:52:51.936816: W tensorflow/stream_executor/platform/default/dso_loader.cc:64] Could not load dynamic library 'libcudnn.so.8'; dlerror: libcudnn.so.8: cannot open shared object file: No such file or directory; LD_LIBRARY_PATH: :/usr/local/cuda-11.8/lib64\n",
      "2022-11-10 22:52:51.936858: W tensorflow/core/common_runtime/gpu/gpu_device.cc:1934] Cannot dlopen some GPU libraries. Please make sure the missing libraries mentioned above are installed properly if you would like to use GPU. Follow the guide at https://www.tensorflow.org/install/gpu for how to download and setup the required libraries for your platform.\n",
      "Skipping registering GPU devices...\n",
      "2022-11-10 22:52:51.937331: I tensorflow/core/platform/cpu_feature_guard.cc:193] This TensorFlow binary is optimized with oneAPI Deep Neural Network Library (oneDNN) to use the following CPU instructions in performance-critical operations:  AVX2 FMA\n",
      "To enable them in other operations, rebuild TensorFlow with the appropriate compiler flags.\n"
     ]
    },
    {
     "name": "stdout",
     "output_type": "stream",
     "text": [
      "Model: \"sequential\"\n",
      "_________________________________________________________________\n",
      " Layer (type)                Output Shape              Param #   \n",
      "=================================================================\n",
      " embedding (Embedding)       (None, 64, 100)           806300    \n",
      "                                                                 \n",
      " lstm (LSTM)                 (None, 64)                42240     \n",
      "                                                                 \n",
      " FC1 (Dense)                 (None, 64)                4160      \n",
      "                                                                 \n",
      " dropout (Dropout)           (None, 64)                0         \n",
      "                                                                 \n",
      " FC2 (Dense)                 (None, 2)                 130       \n",
      "                                                                 \n",
      "=================================================================\n",
      "Total params: 852,830\n",
      "Trainable params: 852,830\n",
      "Non-trainable params: 0\n",
      "_________________________________________________________________\n",
      "Epoch 1/30\n",
      "154/154 [==============================] - 9s 47ms/step - loss: 0.7267 - accuracy: 0.5548 - val_loss: 0.6030 - val_accuracy: 0.7110\n",
      "Epoch 2/30\n",
      "154/154 [==============================] - 8s 52ms/step - loss: 0.6028 - accuracy: 0.7019 - val_loss: 0.5639 - val_accuracy: 0.7208\n",
      "Epoch 3/30\n",
      "154/154 [==============================] - 7s 47ms/step - loss: 0.5373 - accuracy: 0.7433 - val_loss: 0.5471 - val_accuracy: 0.7630\n",
      "Epoch 4/30\n",
      "154/154 [==============================] - 8s 49ms/step - loss: 0.4654 - accuracy: 0.7831 - val_loss: 0.5389 - val_accuracy: 0.7727\n",
      "Epoch 5/30\n",
      "154/154 [==============================] - 7s 48ms/step - loss: 0.3952 - accuracy: 0.8400 - val_loss: 0.5844 - val_accuracy: 0.7662\n",
      "Epoch 6/30\n",
      "154/154 [==============================] - 8s 49ms/step - loss: 0.3387 - accuracy: 0.8700 - val_loss: 0.6031 - val_accuracy: 0.7792\n",
      "Epoch 7/30\n",
      "154/154 [==============================] - 7s 47ms/step - loss: 0.2642 - accuracy: 0.9001 - val_loss: 0.6077 - val_accuracy: 0.7468\n",
      "Epoch 8/30\n",
      "154/154 [==============================] - 7s 47ms/step - loss: 0.2047 - accuracy: 0.9269 - val_loss: 1.0972 - val_accuracy: 0.6851\n",
      "Epoch 9/30\n",
      "154/154 [==============================] - 8s 49ms/step - loss: 0.1349 - accuracy: 0.9561 - val_loss: 1.0347 - val_accuracy: 0.7175\n"
     ]
    },
    {
     "name": "stderr",
     "output_type": "stream",
     "text": [
      "2022-11-10 22:54:05,172 : WARNING : Found untraced functions such as lstm_cell_layer_call_fn, lstm_cell_layer_call_and_return_conditional_losses while saving (showing 2 of 2). These functions will not be directly callable after loading.\n"
     ]
    },
    {
     "name": "stdout",
     "output_type": "stream",
     "text": [
      "INFO:tensorflow:Assets written to: LSTM/assets\n"
     ]
    },
    {
     "name": "stderr",
     "output_type": "stream",
     "text": [
      "2022-11-10 22:54:05,746 : INFO : Assets written to: LSTM/assets\n"
     ]
    }
   ],
   "source": [
    "## 定义LSTM模型\n",
    "batch_size = 8\n",
    "inputs = Input(name='inputs',shape=[maxLen])\n",
    "embedder = Embedding(len(vocab) + 1, 100, input_length=maxLen, weights=[embedding_matrix], trainable=True)\n",
    "model=Sequential()\n",
    "model.add(embedder)\n",
    "model.add(LSTM(64))\n",
    "model.add(Dense(64,activation=\"sigmoid\",name=\"FC1\"))\n",
    "model.add(Dropout(0.4))\n",
    "model.add(Dense(2,activation=\"softmax\",name=\"FC2\"))\n",
    "model.summary()\n",
    "model.compile(loss=\"categorical_crossentropy\",optimizer=RMSprop(),metrics=[\"accuracy\"])\n",
    "#reduce_lr = ReduceLROnPlateau(monitor='val_loss',factor=0.1 ,patience=3, mode='auto')\n",
    "history=model.fit(trainSeq, trainCate, batch_size, epochs=30,validation_split=0.2, callbacks=[EarlyStopping(monitor='val_loss',patience=5)])\n",
    "model.save(\"LSTM\")"
   ]
  },
  {
   "cell_type": "code",
   "execution_count": 19,
   "id": "f6b394d2",
   "metadata": {},
   "outputs": [
    {
     "name": "stdout",
     "output_type": "stream",
     "text": [
      "6/6 [==============================] - 0s 11ms/step\n",
      "6/6 [==============================] - 0s 10ms/step - loss: 1.3078 - accuracy: 0.6257\n",
      "[1.3078175783157349, 0.6257309913635254]\n"
     ]
    }
   ],
   "source": [
    "#预测与评估\n",
    "mainModel = load_model('LSTM')\n",
    "result = mainModel.predict(testSeq)  # 预测样本属于每个类别的概率\n",
    "score = mainModel.evaluate(testSeq,\n",
    "                           testCate,\n",
    "                           batch_size=32)\n",
    "print(score)"
   ]
  },
  {
   "cell_type": "code",
   "execution_count": 20,
   "id": "5cd82ded",
   "metadata": {},
   "outputs": [
    {
     "data": {
      "image/png": "[encoded data removed]",
      "text/plain": [
       "<Figure size 640x480 with 1 Axes>"
      ]
     },
     "metadata": {},
     "output_type": "display_data"
    },
    {
     "data": {
      "image/png": "[encoded data removed]",
      "text/plain": [
       "<Figure size 640x480 with 1 Axes>"
      ]
     },
     "metadata": {},
     "output_type": "display_data"
    }
   ],
   "source": [
    "plt.plot(history.history['accuracy'])\n",
    "plt.plot(history.history['val_accuracy'])\n",
    "plt.title('Model accuracy')\n",
    "plt.ylabel('Accuracy')\n",
    "plt.xlabel('Epoch')\n",
    "plt.legend(['Train','Valid'],loc='upper left')\n",
    "plt.show()\n",
    "\n",
    "plt.plot(history.history['loss'])\n",
    "plt.plot(history.history['val_loss'])\n",
    "plt.title('Model loss')\n",
    "plt.ylabel('Loss')\n",
    "plt.xlabel('Epoch')\n",
    "plt.legend(['Train','Valid'],loc='upper left')\n",
    "plt.show()"
   ]
  },
  {
   "cell_type": "code",
   "execution_count": 21,
   "id": "5450d945",
   "metadata": {},
   "outputs": [
    {
     "name": "stdout",
     "output_type": "stream",
     "text": [
      "Model: \"sequential_1\"\n",
      "_________________________________________________________________\n",
      " Layer (type)                Output Shape              Param #   \n",
      "=================================================================\n",
      " embedding_1 (Embedding)     (None, 64, 100)           806300    \n",
      "                                                                 \n",
      " lstm_1 (LSTM)               (None, 64)                42240     \n",
      "                                                                 \n",
      " FC1 (Dense)                 (None, 64)                4160      \n",
      "                                                                 \n",
      " dropout_1 (Dropout)         (None, 64)                0         \n",
      "                                                                 \n",
      " FC2 (Dense)                 (None, 2)                 130       \n",
      "                                                                 \n",
      "=================================================================\n",
      "Total params: 852,830\n",
      "Trainable params: 852,830\n",
      "Non-trainable params: 0\n",
      "_________________________________________________________________\n",
      "Epoch 1/30\n",
      "154/154 [==============================] - 9s 45ms/step - loss: 0.7187 - accuracy: 0.5638 - val_loss: 0.6330 - val_accuracy: 0.6461\n",
      "Epoch 2/30\n",
      "154/154 [==============================] - 7s 47ms/step - loss: 0.6026 - accuracy: 0.7076 - val_loss: 0.5582 - val_accuracy: 0.7338\n",
      "Epoch 3/30\n",
      "154/154 [==============================] - 8s 54ms/step - loss: 0.5513 - accuracy: 0.7409 - val_loss: 0.5280 - val_accuracy: 0.7597\n",
      "Epoch 4/30\n",
      "154/154 [==============================] - 8s 49ms/step - loss: 0.4792 - accuracy: 0.7815 - val_loss: 0.5351 - val_accuracy: 0.7435\n",
      "Epoch 5/30\n",
      "154/154 [==============================] - 7s 47ms/step - loss: 0.3783 - accuracy: 0.8440 - val_loss: 0.6379 - val_accuracy: 0.6818\n",
      "Epoch 6/30\n",
      "154/154 [==============================] - 7s 48ms/step - loss: 0.3343 - accuracy: 0.8741 - val_loss: 0.5553 - val_accuracy: 0.7630\n",
      "Epoch 7/30\n",
      "154/154 [==============================] - 7s 47ms/step - loss: 0.2587 - accuracy: 0.9115 - val_loss: 0.7084 - val_accuracy: 0.7532\n",
      "Epoch 8/30\n",
      "154/154 [==============================] - 7s 48ms/step - loss: 0.1992 - accuracy: 0.9326 - val_loss: 0.8387 - val_accuracy: 0.7468\n",
      "6/6 [==============================] - 1s 15ms/step\n",
      "6/6 [==============================] - 0s 16ms/step - loss: 0.8400 - accuracy: 0.7018\n",
      "Model: \"sequential_2\"\n",
      "_________________________________________________________________\n",
      " Layer (type)                Output Shape              Param #   \n",
      "=================================================================\n",
      " embedding_2 (Embedding)     (None, 64, 100)           806300    \n",
      "                                                                 \n",
      " lstm_2 (LSTM)               (None, 64)                42240     \n",
      "                                                                 \n",
      " FC1 (Dense)                 (None, 64)                4160      \n",
      "                                                                 \n",
      " dropout_2 (Dropout)         (None, 64)                0         \n",
      "                                                                 \n",
      " FC2 (Dense)                 (None, 2)                 130       \n",
      "                                                                 \n",
      "=================================================================\n",
      "Total params: 852,830\n",
      "Trainable params: 852,830\n",
      "Non-trainable params: 0\n",
      "_________________________________________________________________\n",
      "Epoch 1/30\n",
      "154/154 [==============================] - 12s 56ms/step - loss: 0.7353 - accuracy: 0.5435 - val_loss: 0.5741 - val_accuracy: 0.7370\n",
      "Epoch 2/30\n",
      "154/154 [==============================] - 8s 55ms/step - loss: 0.6135 - accuracy: 0.6791 - val_loss: 0.5680 - val_accuracy: 0.7240\n",
      "Epoch 3/30\n",
      "154/154 [==============================] - 12s 77ms/step - loss: 0.5513 - accuracy: 0.7400 - val_loss: 0.5281 - val_accuracy: 0.7532\n",
      "Epoch 4/30\n",
      "154/154 [==============================] - 8s 54ms/step - loss: 0.4692 - accuracy: 0.7855 - val_loss: 0.5247 - val_accuracy: 0.7727\n",
      "Epoch 5/30\n",
      "154/154 [==============================] - 8s 50ms/step - loss: 0.4076 - accuracy: 0.8253 - val_loss: 0.5630 - val_accuracy: 0.7597\n",
      "Epoch 6/30\n",
      "154/154 [==============================] - 7s 49ms/step - loss: 0.3439 - accuracy: 0.8660 - val_loss: 0.8851 - val_accuracy: 0.6883\n",
      "Epoch 7/30\n",
      "154/154 [==============================] - 8s 50ms/step - loss: 0.2736 - accuracy: 0.8993 - val_loss: 0.6342 - val_accuracy: 0.7630\n",
      "Epoch 8/30\n",
      "154/154 [==============================] - 8s 51ms/step - loss: 0.2114 - accuracy: 0.9277 - val_loss: 0.6542 - val_accuracy: 0.7662\n",
      "Epoch 9/30\n",
      "154/154 [==============================] - 7s 46ms/step - loss: 0.1439 - accuracy: 0.9488 - val_loss: 0.8148 - val_accuracy: 0.7630\n",
      "6/6 [==============================] - 1s 15ms/step\n",
      "6/6 [==============================] - 0s 15ms/step - loss: 0.9081 - accuracy: 0.7076\n",
      "Model: \"sequential_3\"\n",
      "_________________________________________________________________\n",
      " Layer (type)                Output Shape              Param #   \n",
      "=================================================================\n",
      " embedding_3 (Embedding)     (None, 64, 100)           806300    \n",
      "                                                                 \n",
      " lstm_3 (LSTM)               (None, 64)                42240     \n",
      "                                                                 \n",
      " FC1 (Dense)                 (None, 64)                4160      \n",
      "                                                                 \n",
      " dropout_3 (Dropout)         (None, 64)                0         \n",
      "                                                                 \n",
      " FC2 (Dense)                 (None, 2)                 130       \n",
      "                                                                 \n",
      "=================================================================\n",
      "Total params: 852,830\n",
      "Trainable params: 852,830\n",
      "Non-trainable params: 0\n",
      "_________________________________________________________________\n",
      "Epoch 1/30\n",
      "154/154 [==============================] - 11s 60ms/step - loss: 0.6922 - accuracy: 0.5963 - val_loss: 0.5580 - val_accuracy: 0.7500\n",
      "Epoch 2/30\n",
      "154/154 [==============================] - 8s 51ms/step - loss: 0.5893 - accuracy: 0.6994 - val_loss: 0.5569 - val_accuracy: 0.7532\n",
      "Epoch 3/30\n",
      "154/154 [==============================] - 8s 53ms/step - loss: 0.5334 - accuracy: 0.7587 - val_loss: 0.5228 - val_accuracy: 0.7695\n",
      "Epoch 4/30\n",
      "154/154 [==============================] - 8s 49ms/step - loss: 0.4554 - accuracy: 0.8026 - val_loss: 0.5129 - val_accuracy: 0.7403\n",
      "Epoch 5/30\n",
      "154/154 [==============================] - 8s 49ms/step - loss: 0.3990 - accuracy: 0.8351 - val_loss: 0.5342 - val_accuracy: 0.7727\n",
      "Epoch 6/30\n",
      "154/154 [==============================] - 7s 48ms/step - loss: 0.3313 - accuracy: 0.8757 - val_loss: 0.5839 - val_accuracy: 0.8019\n",
      "Epoch 7/30\n",
      "154/154 [==============================] - 8s 49ms/step - loss: 0.2513 - accuracy: 0.9066 - val_loss: 0.6410 - val_accuracy: 0.7727\n",
      "Epoch 8/30\n",
      "154/154 [==============================] - 7s 48ms/step - loss: 0.2012 - accuracy: 0.9212 - val_loss: 0.6879 - val_accuracy: 0.7760\n",
      "Epoch 9/30\n",
      "154/154 [==============================] - 7s 45ms/step - loss: 0.1375 - accuracy: 0.9488 - val_loss: 1.0025 - val_accuracy: 0.7727\n",
      "6/6 [==============================] - 1s 16ms/step\n",
      "6/6 [==============================] - 0s 14ms/step - loss: 1.1676 - accuracy: 0.6842\n",
      "Model: \"sequential_4\"\n",
      "_________________________________________________________________\n",
      " Layer (type)                Output Shape              Param #   \n",
      "=================================================================\n",
      " embedding_4 (Embedding)     (None, 64, 100)           806300    \n",
      "                                                                 \n",
      " lstm_4 (LSTM)               (None, 64)                42240     \n",
      "                                                                 \n",
      " FC1 (Dense)                 (None, 64)                4160      \n",
      "                                                                 \n",
      " dropout_4 (Dropout)         (None, 64)                0         \n",
      "                                                                 \n",
      " FC2 (Dense)                 (None, 2)                 130       \n",
      "                                                                 \n",
      "=================================================================\n",
      "Total params: 852,830\n",
      "Trainable params: 852,830\n",
      "Non-trainable params: 0\n",
      "_________________________________________________________________\n",
      "Epoch 1/30\n",
      "154/154 [==============================] - 10s 52ms/step - loss: 0.7139 - accuracy: 0.5768 - val_loss: 0.7374 - val_accuracy: 0.5292\n",
      "Epoch 2/30\n",
      "154/154 [==============================] - 8s 49ms/step - loss: 0.6078 - accuracy: 0.6946 - val_loss: 0.5933 - val_accuracy: 0.7013\n",
      "Epoch 3/30\n",
      "154/154 [==============================] - 8s 49ms/step - loss: 0.5429 - accuracy: 0.7514 - val_loss: 0.5400 - val_accuracy: 0.7630\n",
      "Epoch 4/30\n",
      "154/154 [==============================] - 8s 50ms/step - loss: 0.4605 - accuracy: 0.7969 - val_loss: 0.5690 - val_accuracy: 0.7890\n",
      "Epoch 5/30\n",
      "154/154 [==============================] - 8s 49ms/step - loss: 0.3772 - accuracy: 0.8424 - val_loss: 0.5512 - val_accuracy: 0.7760\n",
      "Epoch 6/30\n",
      "154/154 [==============================] - 8s 49ms/step - loss: 0.3165 - accuracy: 0.8806 - val_loss: 0.5916 - val_accuracy: 0.7565\n",
      "Epoch 7/30\n",
      "154/154 [==============================] - 8s 49ms/step - loss: 0.2588 - accuracy: 0.9074 - val_loss: 0.6722 - val_accuracy: 0.7532\n",
      "Epoch 8/30\n",
      "154/154 [==============================] - 8s 50ms/step - loss: 0.1961 - accuracy: 0.9301 - val_loss: 0.6429 - val_accuracy: 0.7403\n",
      "6/6 [==============================] - 1s 15ms/step\n",
      "6/6 [==============================] - 0s 15ms/step - loss: 0.6604 - accuracy: 0.7485\n",
      "Model: \"sequential_5\"\n",
      "_________________________________________________________________\n",
      " Layer (type)                Output Shape              Param #   \n",
      "=================================================================\n",
      " embedding_5 (Embedding)     (None, 64, 100)           806300    \n",
      "                                                                 \n",
      " lstm_5 (LSTM)               (None, 64)                42240     \n",
      "                                                                 \n",
      " FC1 (Dense)                 (None, 64)                4160      \n",
      "                                                                 \n",
      " dropout_5 (Dropout)         (None, 64)                0         \n",
      "                                                                 \n",
      " FC2 (Dense)                 (None, 2)                 130       \n",
      "                                                                 \n",
      "=================================================================\n",
      "Total params: 852,830\n",
      "Trainable params: 852,830\n",
      "Non-trainable params: 0\n",
      "_________________________________________________________________\n",
      "Epoch 1/30\n",
      "154/154 [==============================] - 10s 48ms/step - loss: 0.7072 - accuracy: 0.5695 - val_loss: 0.6208 - val_accuracy: 0.6461\n",
      "Epoch 2/30\n",
      "154/154 [==============================] - 7s 48ms/step - loss: 0.6102 - accuracy: 0.6799 - val_loss: 0.5395 - val_accuracy: 0.7532\n",
      "Epoch 3/30\n",
      "154/154 [==============================] - 8s 51ms/step - loss: 0.5364 - accuracy: 0.7376 - val_loss: 0.5480 - val_accuracy: 0.7370\n",
      "Epoch 4/30\n",
      "154/154 [==============================] - 8s 49ms/step - loss: 0.4635 - accuracy: 0.7864 - val_loss: 0.5178 - val_accuracy: 0.7955\n",
      "Epoch 5/30\n",
      "154/154 [==============================] - 8s 50ms/step - loss: 0.3928 - accuracy: 0.8375 - val_loss: 0.5586 - val_accuracy: 0.7435\n",
      "Epoch 6/30\n",
      "154/154 [==============================] - 8s 50ms/step - loss: 0.2957 - accuracy: 0.8863 - val_loss: 0.6394 - val_accuracy: 0.7922\n",
      "Epoch 7/30\n",
      "154/154 [==============================] - 8s 50ms/step - loss: 0.2179 - accuracy: 0.9123 - val_loss: 0.6232 - val_accuracy: 0.7695\n",
      "Epoch 8/30\n",
      "154/154 [==============================] - 8s 50ms/step - loss: 0.1610 - accuracy: 0.9366 - val_loss: 0.7308 - val_accuracy: 0.7630\n",
      "Epoch 9/30\n",
      "154/154 [==============================] - 9s 60ms/step - loss: 0.1150 - accuracy: 0.9618 - val_loss: 0.9413 - val_accuracy: 0.7208\n",
      "6/6 [==============================] - 1s 15ms/step\n",
      "6/6 [==============================] - 0s 15ms/step - loss: 1.0833 - accuracy: 0.6550\n",
      "Model: \"sequential_6\"\n",
      "_________________________________________________________________\n",
      " Layer (type)                Output Shape              Param #   \n",
      "=================================================================\n",
      " embedding_6 (Embedding)     (None, 64, 100)           806300    \n",
      "                                                                 \n",
      " lstm_6 (LSTM)               (None, 64)                42240     \n",
      "                                                                 \n",
      " FC1 (Dense)                 (None, 64)                4160      \n",
      "                                                                 \n",
      " dropout_6 (Dropout)         (None, 64)                0         \n",
      "                                                                 \n",
      " FC2 (Dense)                 (None, 2)                 130       \n",
      "                                                                 \n",
      "=================================================================\n",
      "Total params: 852,830\n",
      "Trainable params: 852,830\n",
      "Non-trainable params: 0\n",
      "_________________________________________________________________\n",
      "Epoch 1/30\n",
      "154/154 [==============================] - 12s 54ms/step - loss: 0.7135 - accuracy: 0.5719 - val_loss: 0.6060 - val_accuracy: 0.6786\n",
      "Epoch 2/30\n",
      "154/154 [==============================] - 8s 53ms/step - loss: 0.6021 - accuracy: 0.6921 - val_loss: 0.6800 - val_accuracy: 0.6948\n",
      "Epoch 3/30\n",
      "154/154 [==============================] - 9s 58ms/step - loss: 0.5423 - accuracy: 0.7457 - val_loss: 0.5381 - val_accuracy: 0.7630\n",
      "Epoch 4/30\n",
      "154/154 [==============================] - 9s 57ms/step - loss: 0.4614 - accuracy: 0.8026 - val_loss: 0.6935 - val_accuracy: 0.7013\n",
      "Epoch 5/30\n",
      "154/154 [==============================] - 9s 57ms/step - loss: 0.3956 - accuracy: 0.8375 - val_loss: 0.5624 - val_accuracy: 0.7435\n",
      "Epoch 6/30\n",
      "154/154 [==============================] - 8s 54ms/step - loss: 0.3134 - accuracy: 0.8749 - val_loss: 0.5552 - val_accuracy: 0.7630\n",
      "Epoch 7/30\n",
      "154/154 [==============================] - 8s 54ms/step - loss: 0.2362 - accuracy: 0.9155 - val_loss: 0.6953 - val_accuracy: 0.7500\n",
      "Epoch 8/30\n",
      "154/154 [==============================] - 9s 58ms/step - loss: 0.1681 - accuracy: 0.9350 - val_loss: 0.8119 - val_accuracy: 0.7078\n",
      "6/6 [==============================] - 0s 15ms/step\n",
      "6/6 [==============================] - 0s 15ms/step - loss: 0.7688 - accuracy: 0.7193\n",
      "Model: \"sequential_7\"\n",
      "_________________________________________________________________\n",
      " Layer (type)                Output Shape              Param #   \n",
      "=================================================================\n",
      " embedding_7 (Embedding)     (None, 64, 100)           806300    \n",
      "                                                                 \n",
      " lstm_7 (LSTM)               (None, 64)                42240     \n",
      "                                                                 \n",
      " FC1 (Dense)                 (None, 64)                4160      \n",
      "                                                                 \n",
      " dropout_7 (Dropout)         (None, 64)                0         \n",
      "                                                                 \n",
      " FC2 (Dense)                 (None, 2)                 130       \n",
      "                                                                 \n",
      "=================================================================\n",
      "Total params: 852,830\n",
      "Trainable params: 852,830\n",
      "Non-trainable params: 0\n",
      "_________________________________________________________________\n",
      "Epoch 1/30\n",
      "154/154 [==============================] - 10s 53ms/step - loss: 0.7194 - accuracy: 0.5459 - val_loss: 0.7024 - val_accuracy: 0.5682\n",
      "Epoch 2/30\n",
      "154/154 [==============================] - 8s 54ms/step - loss: 0.6003 - accuracy: 0.6986 - val_loss: 0.5922 - val_accuracy: 0.7045\n",
      "Epoch 3/30\n",
      "154/154 [==============================] - 8s 54ms/step - loss: 0.5545 - accuracy: 0.7352 - val_loss: 0.5278 - val_accuracy: 0.7532\n",
      "Epoch 4/30\n",
      "154/154 [==============================] - 9s 60ms/step - loss: 0.4816 - accuracy: 0.7929 - val_loss: 0.5327 - val_accuracy: 0.7597\n",
      "Epoch 5/30\n",
      "154/154 [==============================] - 8s 55ms/step - loss: 0.4158 - accuracy: 0.8294 - val_loss: 0.6116 - val_accuracy: 0.7565\n",
      "Epoch 6/30\n",
      "154/154 [==============================] - 8s 53ms/step - loss: 0.3291 - accuracy: 0.8530 - val_loss: 0.5939 - val_accuracy: 0.7597\n",
      "Epoch 7/30\n",
      "154/154 [==============================] - 8s 52ms/step - loss: 0.2742 - accuracy: 0.8976 - val_loss: 0.6646 - val_accuracy: 0.7532\n",
      "Epoch 8/30\n",
      "154/154 [==============================] - 8s 52ms/step - loss: 0.1823 - accuracy: 0.9334 - val_loss: 0.6786 - val_accuracy: 0.7630\n",
      "6/6 [==============================] - 1s 16ms/step\n",
      "6/6 [==============================] - 0s 15ms/step - loss: 0.8359 - accuracy: 0.7018\n",
      "Model: \"sequential_8\"\n",
      "_________________________________________________________________\n",
      " Layer (type)                Output Shape              Param #   \n",
      "=================================================================\n",
      " embedding_8 (Embedding)     (None, 64, 100)           806300    \n",
      "                                                                 \n",
      " lstm_8 (LSTM)               (None, 64)                42240     \n",
      "                                                                 \n",
      " FC1 (Dense)                 (None, 64)                4160      \n",
      "                                                                 \n",
      " dropout_8 (Dropout)         (None, 64)                0         \n",
      "                                                                 \n",
      " FC2 (Dense)                 (None, 2)                 130       \n",
      "                                                                 \n",
      "=================================================================\n",
      "Total params: 852,830\n",
      "Trainable params: 852,830\n",
      "Non-trainable params: 0\n",
      "_________________________________________________________________\n",
      "Epoch 1/30\n",
      "154/154 [==============================] - 10s 52ms/step - loss: 0.6884 - accuracy: 0.5946 - val_loss: 0.5688 - val_accuracy: 0.7078\n",
      "Epoch 2/30\n",
      "154/154 [==============================] - 8s 49ms/step - loss: 0.5932 - accuracy: 0.7019 - val_loss: 0.5471 - val_accuracy: 0.7468\n",
      "Epoch 3/30\n",
      "154/154 [==============================] - 8s 53ms/step - loss: 0.5338 - accuracy: 0.7579 - val_loss: 0.5700 - val_accuracy: 0.7110\n",
      "Epoch 4/30\n",
      "154/154 [==============================] - 8s 53ms/step - loss: 0.4517 - accuracy: 0.8058 - val_loss: 0.5383 - val_accuracy: 0.7565\n",
      "Epoch 5/30\n",
      "154/154 [==============================] - 8s 55ms/step - loss: 0.3809 - accuracy: 0.8432 - val_loss: 0.6443 - val_accuracy: 0.7208\n",
      "Epoch 6/30\n",
      "154/154 [==============================] - 8s 53ms/step - loss: 0.3158 - accuracy: 0.8790 - val_loss: 0.5929 - val_accuracy: 0.7370\n",
      "Epoch 7/30\n",
      "154/154 [==============================] - 8s 51ms/step - loss: 0.2443 - accuracy: 0.9180 - val_loss: 0.7123 - val_accuracy: 0.7597\n",
      "Epoch 8/30\n",
      "154/154 [==============================] - 8s 51ms/step - loss: 0.1750 - accuracy: 0.9399 - val_loss: 0.8309 - val_accuracy: 0.7565\n",
      "Epoch 9/30\n",
      "154/154 [==============================] - 8s 51ms/step - loss: 0.1334 - accuracy: 0.9513 - val_loss: 0.8557 - val_accuracy: 0.7403\n",
      "6/6 [==============================] - 1s 17ms/step\n",
      "6/6 [==============================] - 0s 16ms/step - loss: 0.8943 - accuracy: 0.7427\n",
      "Model: \"sequential_9\"\n",
      "_________________________________________________________________\n",
      " Layer (type)                Output Shape              Param #   \n",
      "=================================================================\n",
      " embedding_9 (Embedding)     (None, 64, 100)           806300    \n",
      "                                                                 \n",
      " lstm_9 (LSTM)               (None, 64)                42240     \n",
      "                                                                 \n",
      " FC1 (Dense)                 (None, 64)                4160      \n",
      "                                                                 \n",
      " dropout_9 (Dropout)         (None, 64)                0         \n",
      "                                                                 \n",
      " FC2 (Dense)                 (None, 2)                 130       \n",
      "                                                                 \n",
      "=================================================================\n",
      "Total params: 852,830\n",
      "Trainable params: 852,830\n",
      "Non-trainable params: 0\n",
      "_________________________________________________________________\n",
      "Epoch 1/30\n",
      "154/154 [==============================] - 11s 54ms/step - loss: 0.6989 - accuracy: 0.5808 - val_loss: 0.6270 - val_accuracy: 0.6461\n",
      "Epoch 2/30\n",
      "154/154 [==============================] - 7s 47ms/step - loss: 0.6043 - accuracy: 0.6913 - val_loss: 0.6437 - val_accuracy: 0.6883\n",
      "Epoch 3/30\n",
      "154/154 [==============================] - 8s 54ms/step - loss: 0.5453 - accuracy: 0.7457 - val_loss: 0.7027 - val_accuracy: 0.6526\n",
      "Epoch 4/30\n",
      "154/154 [==============================] - 8s 55ms/step - loss: 0.4630 - accuracy: 0.8156 - val_loss: 0.5686 - val_accuracy: 0.7468\n",
      "Epoch 5/30\n",
      "154/154 [==============================] - 8s 55ms/step - loss: 0.3915 - accuracy: 0.8270 - val_loss: 0.5360 - val_accuracy: 0.7468\n",
      "Epoch 6/30\n",
      "154/154 [==============================] - 8s 53ms/step - loss: 0.3100 - accuracy: 0.8708 - val_loss: 0.7510 - val_accuracy: 0.7500\n",
      "Epoch 7/30\n",
      "154/154 [==============================] - 8s 52ms/step - loss: 0.2607 - accuracy: 0.9106 - val_loss: 0.6040 - val_accuracy: 0.7825\n",
      "Epoch 8/30\n",
      "154/154 [==============================] - 8s 52ms/step - loss: 0.1973 - accuracy: 0.9326 - val_loss: 0.7657 - val_accuracy: 0.7500\n",
      "Epoch 9/30\n",
      "154/154 [==============================] - 8s 52ms/step - loss: 0.1202 - accuracy: 0.9569 - val_loss: 0.8164 - val_accuracy: 0.7662\n",
      "Epoch 10/30\n",
      "154/154 [==============================] - 8s 49ms/step - loss: 0.0862 - accuracy: 0.9699 - val_loss: 0.8740 - val_accuracy: 0.7630\n",
      "6/6 [==============================] - 0s 11ms/step\n",
      "6/6 [==============================] - 0s 10ms/step - loss: 1.0196 - accuracy: 0.7018\n",
      "Model: \"sequential_10\"\n",
      "_________________________________________________________________\n",
      " Layer (type)                Output Shape              Param #   \n",
      "=================================================================\n",
      " embedding_10 (Embedding)    (None, 64, 100)           806300    \n",
      "                                                                 \n",
      " lstm_10 (LSTM)              (None, 64)                42240     \n",
      "                                                                 \n",
      " FC1 (Dense)                 (None, 64)                4160      \n",
      "                                                                 \n",
      " dropout_10 (Dropout)        (None, 64)                0         \n",
      "                                                                 \n",
      " FC2 (Dense)                 (None, 2)                 130       \n",
      "                                                                 \n",
      "=================================================================\n",
      "Total params: 852,830\n",
      "Trainable params: 852,830\n",
      "Non-trainable params: 0\n",
      "_________________________________________________________________\n",
      "Epoch 1/30\n",
      "154/154 [==============================] - 11s 55ms/step - loss: 0.6878 - accuracy: 0.6060 - val_loss: 0.5471 - val_accuracy: 0.7468\n",
      "Epoch 2/30\n",
      "154/154 [==============================] - 8s 52ms/step - loss: 0.5986 - accuracy: 0.6962 - val_loss: 0.5499 - val_accuracy: 0.7403\n",
      "Epoch 3/30\n",
      "154/154 [==============================] - 12s 75ms/step - loss: 0.5187 - accuracy: 0.7604 - val_loss: 0.5969 - val_accuracy: 0.7403\n",
      "Epoch 4/30\n",
      "154/154 [==============================] - 9s 57ms/step - loss: 0.4548 - accuracy: 0.8075 - val_loss: 0.5400 - val_accuracy: 0.7630\n",
      "Epoch 5/30\n",
      "154/154 [==============================] - 9s 59ms/step - loss: 0.3883 - accuracy: 0.8351 - val_loss: 0.5854 - val_accuracy: 0.7890\n",
      "Epoch 6/30\n",
      "154/154 [==============================] - 9s 61ms/step - loss: 0.3190 - accuracy: 0.8733 - val_loss: 0.5905 - val_accuracy: 0.7468\n",
      "Epoch 7/30\n",
      "154/154 [==============================] - 8s 55ms/step - loss: 0.2468 - accuracy: 0.9050 - val_loss: 0.6446 - val_accuracy: 0.7532\n",
      "Epoch 8/30\n",
      "154/154 [==============================] - 9s 56ms/step - loss: 0.1741 - accuracy: 0.9374 - val_loss: 0.7444 - val_accuracy: 0.7500\n",
      "Epoch 9/30\n",
      "154/154 [==============================] - 9s 56ms/step - loss: 0.1220 - accuracy: 0.9586 - val_loss: 0.8846 - val_accuracy: 0.7565\n",
      "6/6 [==============================] - 1s 16ms/step\n",
      "6/6 [==============================] - 0s 15ms/step - loss: 0.9524 - accuracy: 0.7076\n"
     ]
    }
   ],
   "source": [
    "score_list=[]\n",
    "for i in range(10):\n",
    "    ## 定义LSTM模型\n",
    "    batch_size = 8\n",
    "    inputs = Input(name='inputs',shape=[maxLen])\n",
    "    embedder = Embedding(len(vocab) + 1, 100, input_length=maxLen, weights=[embedding_matrix], trainable=True)\n",
    "    model=Sequential()\n",
    "    model.add(embedder)\n",
    "    model.add(LSTM(64))\n",
    "    model.add(Dense(64,activation=\"sigmoid\",name=\"FC1\"))\n",
    "    model.add(Dropout(0.4,seed=12))\n",
    "    model.add(Dense(2,activation=\"softmax\",name=\"FC2\"))\n",
    "    model.summary()\n",
    "    model.compile(loss=\"categorical_crossentropy\",optimizer=RMSprop(),metrics=[\"accuracy\"])\n",
    "    #reduce_lr = ReduceLROnPlateau(monitor='val_loss',factor=0.1 ,patience=3, mode='auto')\n",
    "    history=model.fit(trainSeq, trainCate, batch_size, epochs=30,validation_split=0.2, callbacks=[EarlyStopping(monitor='val_loss',patience=5)])\n",
    "    result = model.predict(testSeq)  # 预测样本属于每个类别的概率\n",
    "    score = model.evaluate(testSeq,\n",
    "                               testCate,\n",
    "                               batch_size=32)\n",
    "    score_list.append(score[1])"
   ]
  },
  {
   "cell_type": "code",
   "execution_count": 22,
   "id": "7a7fbe16",
   "metadata": {},
   "outputs": [
    {
     "name": "stdout",
     "output_type": "stream",
     "text": [
      "accuracy:0.7070175468921661\n"
     ]
    }
   ],
   "source": [
    "print('accuracy:'+str(sum(score_list)/len(score_list)))"
   ]
  },
  {
   "cell_type": "code",
   "execution_count": 23,
   "id": "c717fe6f",
   "metadata": {},
   "outputs": [],
   "source": [
    "score_list.sort()"
   ]
  },
  {
   "cell_type": "code",
   "execution_count": 24,
   "id": "205e3cfa",
   "metadata": {},
   "outputs": [
    {
     "data": {
      "text/plain": [
       "[0.6549707651138306,\n",
       " 0.6842105388641357,\n",
       " 0.7017543911933899,\n",
       " 0.7017543911933899,\n",
       " 0.7017543911933899,\n",
       " 0.707602322101593,\n",
       " 0.707602322101593,\n",
       " 0.719298243522644,\n",
       " 0.7426900863647461,\n",
       " 0.7485380172729492]"
      ]
     },
     "execution_count": 24,
     "metadata": {},
     "output_type": "execute_result"
    }
   ],
   "source": [
    "score_list"
   ]
  },
  {
   "cell_type": "code",
   "execution_count": 25,
   "id": "4a41920d",
   "metadata": {},
   "outputs": [
    {
     "data": {
      "text/plain": [
       "0.7128005226453146"
      ]
     },
     "execution_count": 25,
     "metadata": {},
     "output_type": "execute_result"
    }
   ],
   "source": [
    "sum(score_list[1:])/len(score_list[1:])"
   ]
  }
 ],
 "metadata": {
  "kernelspec": {
   "display_name": "Python 3.10.6 ('4222G18_backup')",
   "language": "python",
   "name": "python3"
  },
  "language_info": {
   "codemirror_mode": {
    "name": "ipython",
    "version": 3
   },
   "file_extension": ".py",
   "mimetype": "text/x-python",
   "name": "python",
   "nbconvert_exporter": "python",
   "pygments_lexer": "ipython3",
   "version": "3.10.6"
  },
  "vscode": {
   "interpreter": {
    "hash": "64fb50f4500008f9f404f170e716523d28225753a93c94be3d36e645dbfada09"
   }
  }
 },
 "nbformat": 4,
 "nbformat_minor": 5
}
