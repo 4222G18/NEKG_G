{
 "cells": [
  {
   "cell_type": "code",
   "execution_count": 90,
   "id": "7a8df98f",
   "metadata": {},
   "outputs": [
    {
     "data": {
      "text/plain": [
       "'/home/egbert_jing/github/NEKG_G/Final_project'"
      ]
     },
     "execution_count": 90,
     "metadata": {},
     "output_type": "execute_result"
    }
   ],
   "source": [
    "import sys\n",
    "import os\n",
    "path_father = os.path.abspath(r'..')\n",
    "path_father\n",
    "# sys.path.append(path_father)"
   ]
  },
  {
   "cell_type": "code",
   "execution_count": 91,
   "id": "fce28d96",
   "metadata": {},
   "outputs": [],
   "source": [
    "import pandas as pd\n",
    "import numpy as np\n",
    "import matplotlib.pyplot as plt\n",
    "import seaborn as sns\n",
    "from sklearn import metrics\n",
    "from sklearn.preprocessing import LabelEncoder,OneHotEncoder\n",
    "from keras.models import Model\n",
    "from keras.layers import LSTM, Activation, Dense, Dropout, Input, Embedding\n",
    "from keras.optimizers import RMSprop\n",
    "from keras.preprocessing.text import Tokenizer\n",
    "from keras.preprocessing import sequence\n",
    "from keras.callbacks import EarlyStopping\n",
    "from keras_preprocessing.sequence import pad_sequences\n",
    "from keras.utils.np_utils import to_categorical\n",
    "from keras.models import Sequential\n",
    "from keras.callbacks import ReduceLROnPlateau\n",
    "from keras.models import load_model\n",
    "%matplotlib inline"
   ]
  },
  {
   "cell_type": "code",
   "execution_count": 92,
   "id": "c268b59b",
   "metadata": {},
   "outputs": [],
   "source": [
    "df = pd.read_csv(path_father + \"/df_with_gcs.txt\",sep=',',header=0)"
   ]
  },
  {
   "cell_type": "code",
   "execution_count": 93,
   "id": "e9e0ee5c",
   "metadata": {},
   "outputs": [],
   "source": [
    "#划分训练测试集\n",
    "from sklearn.model_selection import train_test_split\n",
    "\n",
    "train_set, test_set = train_test_split(df, test_size=0.1, random_state=42)"
   ]
  },
  {
   "cell_type": "markdown",
   "id": "59d7c98f",
   "metadata": {},
   "source": [
    "处理词向量"
   ]
  },
  {
   "cell_type": "code",
   "execution_count": 94,
   "id": "12c63f87",
   "metadata": {},
   "outputs": [],
   "source": [
    "from gensim.models import word2vec\n",
    "import logging\n",
    "logging.basicConfig(format='%(asctime)s : %(levelname)s : %(message)s', level=logging.INFO) "
   ]
  },
  {
   "cell_type": "code",
   "execution_count": 95,
   "id": "f13dfd1d",
   "metadata": {},
   "outputs": [],
   "source": [
    "# 切分词汇\n",
    "def cut(data):\n",
    "    cut= [s.split() for s in data['TriageNote'].astype(str)]\n",
    "    return cut"
   ]
  },
  {
   "cell_type": "code",
   "execution_count": 96,
   "id": "94dd810e",
   "metadata": {},
   "outputs": [],
   "source": [
    "train_text=cut(train_set)\n",
    "test_text=cut(test_set)\n",
    "sentences=train_text+test_text"
   ]
  },
  {
   "cell_type": "code",
   "execution_count": 97,
   "id": "2b4b566b",
   "metadata": {},
   "outputs": [
    {
     "data": {
      "text/plain": [
       "57"
      ]
     },
     "execution_count": 97,
     "metadata": {},
     "output_type": "execute_result"
    }
   ],
   "source": [
    "#得到最大句子长度\n",
    "num_list=[len(one) for one in sentences]\n",
    "max(num_list)"
   ]
  },
  {
   "cell_type": "code",
   "execution_count": 98,
   "id": "25aa3ce1",
   "metadata": {},
   "outputs": [],
   "source": [
    "maxLen=64"
   ]
  },
  {
   "cell_type": "code",
   "execution_count": 99,
   "id": "cad599c7",
   "metadata": {},
   "outputs": [],
   "source": [
    "#处理label->one_hot\n",
    "from sklearn.preprocessing import LabelEncoder\n",
    "\n",
    "def encodelabel(data):\n",
    "    le = LabelEncoder()\n",
    "    resultLable=le.fit_transform(data['DISPOSITION'])\n",
    "    return resultLable\n"
   ]
  },
  {
   "cell_type": "code",
   "execution_count": 100,
   "id": "b3dcf8dc",
   "metadata": {},
   "outputs": [],
   "source": [
    "train_lable=encodelabel(train_set)\n",
    "test_lable=encodelabel(test_set)"
   ]
  },
  {
   "cell_type": "code",
   "execution_count": 101,
   "id": "1f35b5d9",
   "metadata": {},
   "outputs": [
    {
     "name": "stderr",
     "output_type": "stream",
     "text": [
      "2022-11-27 20:20:49,727 : INFO : loading Word2Vec object from ./word2vec_all.model\n",
      "2022-11-27 20:20:49,735 : INFO : loading wv recursively from ./word2vec_all.model.wv.* with mmap=None\n",
      "2022-11-27 20:20:49,736 : INFO : setting ignored attribute cum_table to None\n",
      "2022-11-27 20:20:49,823 : INFO : Word2Vec lifecycle event {'fname': './word2vec_all.model', 'datetime': '2022-11-27T20:20:49.823142', 'gensim': '4.2.0', 'python': '3.10.6 (main, Oct 24 2022, 16:07:47) [GCC 11.2.0]', 'platform': 'Linux-5.15.74.2-microsoft-standard-WSL2-x86_64-with-glibc2.35', 'event': 'loaded'}\n"
     ]
    }
   ],
   "source": [
    "wvmodel = word2vec.Word2Vec.load(\"./word2vec_all.model\")"
   ]
  },
  {
   "cell_type": "code",
   "execution_count": 102,
   "id": "9cc89146",
   "metadata": {},
   "outputs": [
    {
     "data": {
      "text/plain": [
       "(99, 100)"
      ]
     },
     "execution_count": 102,
     "metadata": {},
     "output_type": "execute_result"
    }
   ],
   "source": [
    "nekg=np.load(path_father + \"/embedding/complex_99.npy\",allow_pickle=True)[:,0:100]\n",
    "nekg.shape"
   ]
  },
  {
   "cell_type": "code",
   "execution_count": 103,
   "id": "26830919",
   "metadata": {},
   "outputs": [],
   "source": [
    "tokenizer=Tokenizer()\n",
    "tokenizer.fit_on_texts(sentences)\n",
    "vocab = tokenizer.word_index "
   ]
  },
  {
   "cell_type": "code",
   "execution_count": 104,
   "id": "d6b9da6f",
   "metadata": {},
   "outputs": [],
   "source": [
    "#特征数字编号，不足的话会在前面补充0\n",
    "trainID = tokenizer.texts_to_sequences(train_text)\n",
    "# print(trainID)\n",
    "testID = tokenizer.texts_to_sequences(test_text)\n",
    "trainSeq=pad_sequences(trainID,maxlen=maxLen)\n",
    "#print(trainSeq)\n",
    "testSeq=pad_sequences(testID,maxlen=maxLen)\n",
    "\n",
    "#标签的独热编码\n",
    "trainCate = to_categorical(train_lable, num_classes=2)  # 将标签转换为one-hot编码\n",
    "#print(trainCate)\n",
    "testCate= to_categorical(test_lable, num_classes=2)  # 将标签转换为one-hot编码"
   ]
  },
  {
   "cell_type": "code",
   "execution_count": 105,
   "id": "cc516388",
   "metadata": {},
   "outputs": [],
   "source": [
    "def nekg_embed(n0):\n",
    "    n1=int(n0)\n",
    "    n2=int(n0)+1\n",
    "    s1=(n2-n0)/(n2-n1)\n",
    "    s2=(n0-n1)/(n2-n1)\n",
    "    return s1*nekg[n1]+s2*nekg[n2]"
   ]
  },
  {
   "cell_type": "code",
   "execution_count": 106,
   "id": "88a8378f",
   "metadata": {},
   "outputs": [],
   "source": [
    "#利用训练后的word2vec自定义Embedding的训练矩阵，每行代表一个词（结合独热码和矩阵乘法理解）\n",
    "embedding_matrix = np.zeros((len(vocab) + 1, 100))\n",
    "for word, i in vocab.items():\n",
    "    try:\n",
    "        if(word.isdigit()==False):#对word用word2vec\n",
    "            embedding_vector = wvmodel.wv[str(word)]\n",
    "        else:#对number用nekg\n",
    "            if (int(float(word))<=98):\n",
    "                embedding_vector =  nekg_embed(float(word))\n",
    "            else:\n",
    "                embedding_vector = wvmodel.wv[str(word)]\n",
    "        embedding_matrix[i] = embedding_vector    \n",
    "    except KeyError:\n",
    "        continue"
   ]
  },
  {
   "cell_type": "code",
   "execution_count": 107,
   "id": "1fa9c8f0",
   "metadata": {},
   "outputs": [
    {
     "name": "stderr",
     "output_type": "stream",
     "text": [
      "2022-11-27 20:20:50.287720: I tensorflow/stream_executor/cuda/cuda_gpu_executor.cc:966] could not open file to read NUMA node: /sys/bus/pci/devices/0000:01:00.0/numa_node\n",
      "Your kernel may have been built without NUMA support.\n",
      "2022-11-27 20:20:50.543949: W tensorflow/stream_executor/platform/default/dso_loader.cc:64] Could not load dynamic library 'libcudnn.so.8'; dlerror: libcudnn.so.8: cannot open shared object file: No such file or directory; LD_LIBRARY_PATH: :/usr/local/cuda-11.8/lib64\n",
      "2022-11-27 20:20:50.543973: W tensorflow/core/common_runtime/gpu/gpu_device.cc:1934] Cannot dlopen some GPU libraries. Please make sure the missing libraries mentioned above are installed properly if you would like to use GPU. Follow the guide at https://www.tensorflow.org/install/gpu for how to download and setup the required libraries for your platform.\n",
      "Skipping registering GPU devices...\n",
      "2022-11-27 20:20:50.545669: I tensorflow/core/platform/cpu_feature_guard.cc:193] This TensorFlow binary is optimized with oneAPI Deep Neural Network Library (oneDNN) to use the following CPU instructions in performance-critical operations:  AVX2 FMA\n",
      "To enable them in other operations, rebuild TensorFlow with the appropriate compiler flags.\n"
     ]
    },
    {
     "name": "stdout",
     "output_type": "stream",
     "text": [
      "Model: \"sequential\"\n",
      "_________________________________________________________________\n",
      " Layer (type)                Output Shape              Param #   \n",
      "=================================================================\n",
      " embedding (Embedding)       (None, 64, 100)           806300    \n",
      "                                                                 \n",
      " lstm (LSTM)                 (None, 64)                42240     \n",
      "                                                                 \n",
      " FC1 (Dense)                 (None, 64)                4160      \n",
      "                                                                 \n",
      " dropout (Dropout)           (None, 64)                0         \n",
      "                                                                 \n",
      " FC2 (Dense)                 (None, 2)                 130       \n",
      "                                                                 \n",
      "=================================================================\n",
      "Total params: 852,830\n",
      "Trainable params: 852,830\n",
      "Non-trainable params: 0\n",
      "_________________________________________________________________\n",
      "Epoch 1/30\n",
      "154/154 [==============================] - 6s 29ms/step - loss: 0.6878 - accuracy: 0.5963 - val_loss: 0.8208 - val_accuracy: 0.5844\n",
      "Epoch 2/30\n",
      "154/154 [==============================] - 4s 27ms/step - loss: 0.5945 - accuracy: 0.7035 - val_loss: 0.5718 - val_accuracy: 0.6981\n",
      "Epoch 3/30\n",
      "154/154 [==============================] - 4s 26ms/step - loss: 0.5334 - accuracy: 0.7555 - val_loss: 0.5246 - val_accuracy: 0.7597\n",
      "Epoch 4/30\n",
      "154/154 [==============================] - 4s 25ms/step - loss: 0.4493 - accuracy: 0.8083 - val_loss: 0.5223 - val_accuracy: 0.7662\n",
      "Epoch 5/30\n",
      "154/154 [==============================] - 4s 29ms/step - loss: 0.3804 - accuracy: 0.8530 - val_loss: 0.5691 - val_accuracy: 0.7435\n",
      "Epoch 6/30\n",
      "154/154 [==============================] - 4s 27ms/step - loss: 0.3112 - accuracy: 0.8798 - val_loss: 0.6688 - val_accuracy: 0.7013\n",
      "Epoch 7/30\n",
      "154/154 [==============================] - 4s 25ms/step - loss: 0.2022 - accuracy: 0.9196 - val_loss: 0.6731 - val_accuracy: 0.7727\n",
      "Epoch 8/30\n",
      "154/154 [==============================] - 4s 25ms/step - loss: 0.1605 - accuracy: 0.9464 - val_loss: 0.7959 - val_accuracy: 0.7500\n",
      "Epoch 9/30\n",
      "154/154 [==============================] - 4s 25ms/step - loss: 0.1163 - accuracy: 0.9610 - val_loss: 0.8735 - val_accuracy: 0.7630\n"
     ]
    },
    {
     "name": "stderr",
     "output_type": "stream",
     "text": [
      "2022-11-27 20:21:32,060 : WARNING : Found untraced functions such as lstm_cell_layer_call_fn, lstm_cell_layer_call_and_return_conditional_losses while saving (showing 2 of 2). These functions will not be directly callable after loading.\n"
     ]
    },
    {
     "name": "stdout",
     "output_type": "stream",
     "text": [
      "INFO:tensorflow:Assets written to: LSTM/assets\n"
     ]
    },
    {
     "name": "stderr",
     "output_type": "stream",
     "text": [
      "2022-11-27 20:21:32,558 : INFO : Assets written to: LSTM/assets\n"
     ]
    }
   ],
   "source": [
    "## 定义LSTM模型\n",
    "batch_size=8\n",
    "inputs = Input(name='inputs',shape=[maxLen])\n",
    "embedder = Embedding(len(vocab) + 1, 100, input_length=maxLen, weights=[embedding_matrix], trainable=True)\n",
    "model=Sequential()\n",
    "model.add(embedder)\n",
    "model.add(LSTM(64))\n",
    "model.add(Dense(64,activation=\"sigmoid\",name=\"FC1\"))\n",
    "model.add(Dropout(0.4))\n",
    "model.add(Dense(2,activation=\"softmax\",name=\"FC2\"))\n",
    "model.summary()\n",
    "model.compile(loss=\"categorical_crossentropy\",optimizer=RMSprop(),metrics=[\"accuracy\"])\n",
    "#reduce_lr = ReduceLROnPlateau(monitor='val_loss',factor=0.1 ,patience=3, mode='auto')\n",
    "history=model.fit(trainSeq, trainCate, batch_size, epochs=30,validation_split=0.2, callbacks=[EarlyStopping(monitor='val_loss',patience=5)])\n",
    "model.save(\"LSTM\")"
   ]
  },
  {
   "cell_type": "code",
   "execution_count": 108,
   "id": "f6b394d2",
   "metadata": {},
   "outputs": [
    {
     "name": "stdout",
     "output_type": "stream",
     "text": [
      "6/6 [==============================] - 0s 10ms/step\n",
      "6/6 [==============================] - 0s 9ms/step - loss: 0.9545 - accuracy: 0.7076\n",
      "[0.9544675946235657, 0.707602322101593]\n"
     ]
    }
   ],
   "source": [
    "#预测与评估\n",
    "mainModel = load_model('LSTM')\n",
    "result = mainModel.predict(testSeq)  # 预测样本属于每个类别的概率\n",
    "score = mainModel.evaluate(testSeq,\n",
    "                           testCate,\n",
    "                           batch_size=32)\n",
    "print(score)"
   ]
  },
  {
   "cell_type": "code",
   "execution_count": 109,
   "id": "5cd82ded",
   "metadata": {},
   "outputs": [
    {
     "data": {
      "image/png": "[encoded data removed]",
      "text/plain": [
       "<Figure size 640x480 with 1 Axes>"
      ]
     },
     "metadata": {},
     "output_type": "display_data"
    },
    {
     "data": {
      "image/png": "[encoded data removed]",
      "text/plain": [
       "<Figure size 640x480 with 1 Axes>"
      ]
     },
     "metadata": {},
     "output_type": "display_data"
    }
   ],
   "source": [
    "plt.plot(history.history['accuracy'])\n",
    "plt.plot(history.history['val_accuracy'])\n",
    "plt.title('Model accuracy')\n",
    "plt.ylabel('Accuracy')\n",
    "plt.xlabel('Epoch')\n",
    "plt.legend(['Train','Valid'],loc='upper left')\n",
    "plt.show()\n",
    "\n",
    "plt.plot(history.history['loss'])\n",
    "plt.plot(history.history['val_loss'])\n",
    "plt.title('Model loss')\n",
    "plt.ylabel('Loss')\n",
    "plt.xlabel('Epoch')\n",
    "plt.legend(['Train','Valid'],loc='upper left')\n",
    "plt.show()"
   ]
  },
  {
   "cell_type": "code",
   "execution_count": 110,
   "id": "5450d945",
   "metadata": {},
   "outputs": [
    {
     "name": "stdout",
     "output_type": "stream",
     "text": [
      "Model: \"sequential_1\"\n",
      "_________________________________________________________________\n",
      " Layer (type)                Output Shape              Param #   \n",
      "=================================================================\n",
      " embedding_1 (Embedding)     (None, 64, 100)           806300    \n",
      "                                                                 \n",
      " lstm_1 (LSTM)               (None, 64)                42240     \n",
      "                                                                 \n",
      " FC1 (Dense)                 (None, 64)                4160      \n",
      "                                                                 \n",
      " dropout_1 (Dropout)         (None, 64)                0         \n",
      "                                                                 \n",
      " FC2 (Dense)                 (None, 2)                 130       \n",
      "                                                                 \n",
      "=================================================================\n",
      "Total params: 852,830\n",
      "Trainable params: 852,830\n",
      "Non-trainable params: 0\n",
      "_________________________________________________________________\n",
      "Epoch 1/30\n",
      "154/154 [==============================] - 6s 29ms/step - loss: 0.7298 - accuracy: 0.5540 - val_loss: 0.5849 - val_accuracy: 0.7143\n",
      "Epoch 2/30\n",
      "154/154 [==============================] - 4s 26ms/step - loss: 0.6222 - accuracy: 0.6637 - val_loss: 0.5839 - val_accuracy: 0.6851\n",
      "Epoch 3/30\n",
      "154/154 [==============================] - 4s 25ms/step - loss: 0.5586 - accuracy: 0.7197 - val_loss: 0.5587 - val_accuracy: 0.7727\n",
      "Epoch 4/30\n",
      "154/154 [==============================] - 4s 25ms/step - loss: 0.4799 - accuracy: 0.7888 - val_loss: 0.6138 - val_accuracy: 0.7240\n",
      "Epoch 5/30\n",
      "154/154 [==============================] - 4s 25ms/step - loss: 0.4065 - accuracy: 0.8302 - val_loss: 0.5503 - val_accuracy: 0.7630\n",
      "Epoch 6/30\n",
      "154/154 [==============================] - 4s 25ms/step - loss: 0.3477 - accuracy: 0.8546 - val_loss: 0.6066 - val_accuracy: 0.7565\n",
      "Epoch 7/30\n",
      "154/154 [==============================] - 4s 25ms/step - loss: 0.2783 - accuracy: 0.8952 - val_loss: 0.5935 - val_accuracy: 0.7727\n",
      "Epoch 8/30\n",
      "154/154 [==============================] - 4s 26ms/step - loss: 0.2036 - accuracy: 0.9277 - val_loss: 0.6133 - val_accuracy: 0.7468\n",
      "Epoch 9/30\n",
      "154/154 [==============================] - 4s 26ms/step - loss: 0.1335 - accuracy: 0.9586 - val_loss: 0.7401 - val_accuracy: 0.7403\n",
      "Epoch 10/30\n",
      "154/154 [==============================] - 4s 25ms/step - loss: 0.1167 - accuracy: 0.9610 - val_loss: 0.8257 - val_accuracy: 0.7305\n",
      "6/6 [==============================] - 0s 9ms/step\n",
      "6/6 [==============================] - 0s 9ms/step - loss: 0.9988 - accuracy: 0.6550\n",
      "Model: \"sequential_2\"\n",
      "_________________________________________________________________\n",
      " Layer (type)                Output Shape              Param #   \n",
      "=================================================================\n",
      " embedding_2 (Embedding)     (None, 64, 100)           806300    \n",
      "                                                                 \n",
      " lstm_2 (LSTM)               (None, 64)                42240     \n",
      "                                                                 \n",
      " FC1 (Dense)                 (None, 64)                4160      \n",
      "                                                                 \n",
      " dropout_2 (Dropout)         (None, 64)                0         \n",
      "                                                                 \n",
      " FC2 (Dense)                 (None, 2)                 130       \n",
      "                                                                 \n",
      "=================================================================\n",
      "Total params: 852,830\n",
      "Trainable params: 852,830\n",
      "Non-trainable params: 0\n",
      "_________________________________________________________________\n",
      "Epoch 1/30\n",
      "154/154 [==============================] - 6s 28ms/step - loss: 0.7482 - accuracy: 0.4988 - val_loss: 0.6489 - val_accuracy: 0.5877\n",
      "Epoch 2/30\n",
      "154/154 [==============================] - 4s 25ms/step - loss: 0.6399 - accuracy: 0.6426 - val_loss: 0.5598 - val_accuracy: 0.7435\n",
      "Epoch 3/30\n",
      "154/154 [==============================] - 4s 27ms/step - loss: 0.5703 - accuracy: 0.7246 - val_loss: 0.5556 - val_accuracy: 0.7273\n",
      "Epoch 4/30\n",
      "154/154 [==============================] - 5s 34ms/step - loss: 0.5012 - accuracy: 0.7604 - val_loss: 0.5590 - val_accuracy: 0.7175\n",
      "Epoch 5/30\n",
      "154/154 [==============================] - 5s 32ms/step - loss: 0.4524 - accuracy: 0.8050 - val_loss: 0.5562 - val_accuracy: 0.7727\n",
      "Epoch 6/30\n",
      "154/154 [==============================] - 4s 28ms/step - loss: 0.3870 - accuracy: 0.8351 - val_loss: 0.7646 - val_accuracy: 0.7273\n",
      "Epoch 7/30\n",
      "154/154 [==============================] - 4s 29ms/step - loss: 0.3089 - accuracy: 0.8773 - val_loss: 0.6059 - val_accuracy: 0.7760\n",
      "Epoch 8/30\n",
      "154/154 [==============================] - 4s 28ms/step - loss: 0.2501 - accuracy: 0.9090 - val_loss: 0.6661 - val_accuracy: 0.7500\n",
      "6/6 [==============================] - 0s 9ms/step\n",
      "6/6 [==============================] - 0s 9ms/step - loss: 0.7099 - accuracy: 0.7076\n",
      "Model: \"sequential_3\"\n",
      "_________________________________________________________________\n",
      " Layer (type)                Output Shape              Param #   \n",
      "=================================================================\n",
      " embedding_3 (Embedding)     (None, 64, 100)           806300    \n",
      "                                                                 \n",
      " lstm_3 (LSTM)               (None, 64)                42240     \n",
      "                                                                 \n",
      " FC1 (Dense)                 (None, 64)                4160      \n",
      "                                                                 \n",
      " dropout_3 (Dropout)         (None, 64)                0         \n",
      "                                                                 \n",
      " FC2 (Dense)                 (None, 2)                 130       \n",
      "                                                                 \n",
      "=================================================================\n",
      "Total params: 852,830\n",
      "Trainable params: 852,830\n",
      "Non-trainable params: 0\n",
      "_________________________________________________________________\n",
      "Epoch 1/30\n",
      "154/154 [==============================] - 6s 30ms/step - loss: 0.7440 - accuracy: 0.5386 - val_loss: 0.6038 - val_accuracy: 0.6948\n",
      "Epoch 2/30\n",
      "154/154 [==============================] - 4s 28ms/step - loss: 0.6168 - accuracy: 0.6921 - val_loss: 0.6093 - val_accuracy: 0.6558\n",
      "Epoch 3/30\n",
      "154/154 [==============================] - 4s 28ms/step - loss: 0.5668 - accuracy: 0.7262 - val_loss: 0.5494 - val_accuracy: 0.7500\n",
      "Epoch 4/30\n",
      "154/154 [==============================] - 4s 28ms/step - loss: 0.4816 - accuracy: 0.7872 - val_loss: 0.5589 - val_accuracy: 0.7175\n",
      "Epoch 5/30\n",
      "154/154 [==============================] - 5s 30ms/step - loss: 0.3896 - accuracy: 0.8497 - val_loss: 0.5684 - val_accuracy: 0.7597\n",
      "Epoch 6/30\n",
      "154/154 [==============================] - 4s 28ms/step - loss: 0.3351 - accuracy: 0.8668 - val_loss: 0.5910 - val_accuracy: 0.7922\n",
      "Epoch 7/30\n",
      "154/154 [==============================] - 4s 29ms/step - loss: 0.2675 - accuracy: 0.8993 - val_loss: 0.6704 - val_accuracy: 0.7727\n",
      "Epoch 8/30\n",
      "154/154 [==============================] - 5s 30ms/step - loss: 0.2115 - accuracy: 0.9245 - val_loss: 0.7754 - val_accuracy: 0.7695\n",
      "6/6 [==============================] - 0s 9ms/step\n",
      "6/6 [==============================] - 0s 8ms/step - loss: 0.8699 - accuracy: 0.7310\n",
      "Model: \"sequential_4\"\n",
      "_________________________________________________________________\n",
      " Layer (type)                Output Shape              Param #   \n",
      "=================================================================\n",
      " embedding_4 (Embedding)     (None, 64, 100)           806300    \n",
      "                                                                 \n",
      " lstm_4 (LSTM)               (None, 64)                42240     \n",
      "                                                                 \n",
      " FC1 (Dense)                 (None, 64)                4160      \n",
      "                                                                 \n",
      " dropout_4 (Dropout)         (None, 64)                0         \n",
      "                                                                 \n",
      " FC2 (Dense)                 (None, 2)                 130       \n",
      "                                                                 \n",
      "=================================================================\n",
      "Total params: 852,830\n",
      "Trainable params: 852,830\n",
      "Non-trainable params: 0\n",
      "_________________________________________________________________\n",
      "Epoch 1/30\n",
      "154/154 [==============================] - 6s 33ms/step - loss: 0.7240 - accuracy: 0.5760 - val_loss: 0.6544 - val_accuracy: 0.5779\n",
      "Epoch 2/30\n",
      "154/154 [==============================] - 5s 33ms/step - loss: 0.6145 - accuracy: 0.6889 - val_loss: 0.5697 - val_accuracy: 0.7273\n",
      "Epoch 3/30\n",
      "154/154 [==============================] - 5s 32ms/step - loss: 0.5602 - accuracy: 0.7173 - val_loss: 0.5434 - val_accuracy: 0.7403\n",
      "Epoch 4/30\n",
      "154/154 [==============================] - 5s 31ms/step - loss: 0.4751 - accuracy: 0.7815 - val_loss: 0.6510 - val_accuracy: 0.7045\n",
      "Epoch 5/30\n",
      "154/154 [==============================] - 5s 31ms/step - loss: 0.4080 - accuracy: 0.8375 - val_loss: 0.5877 - val_accuracy: 0.7597\n",
      "Epoch 6/30\n",
      "154/154 [==============================] - 5s 30ms/step - loss: 0.3279 - accuracy: 0.8749 - val_loss: 0.6320 - val_accuracy: 0.7727\n",
      "Epoch 7/30\n",
      "154/154 [==============================] - 5s 31ms/step - loss: 0.2479 - accuracy: 0.9001 - val_loss: 0.8737 - val_accuracy: 0.7013\n",
      "Epoch 8/30\n",
      "154/154 [==============================] - 5s 32ms/step - loss: 0.1949 - accuracy: 0.9269 - val_loss: 0.7338 - val_accuracy: 0.7370\n",
      "6/6 [==============================] - 0s 9ms/step\n",
      "6/6 [==============================] - 0s 10ms/step - loss: 0.7008 - accuracy: 0.7251\n",
      "Model: \"sequential_5\"\n",
      "_________________________________________________________________\n",
      " Layer (type)                Output Shape              Param #   \n",
      "=================================================================\n",
      " embedding_5 (Embedding)     (None, 64, 100)           806300    \n",
      "                                                                 \n",
      " lstm_5 (LSTM)               (None, 64)                42240     \n",
      "                                                                 \n",
      " FC1 (Dense)                 (None, 64)                4160      \n",
      "                                                                 \n",
      " dropout_5 (Dropout)         (None, 64)                0         \n",
      "                                                                 \n",
      " FC2 (Dense)                 (None, 2)                 130       \n",
      "                                                                 \n",
      "=================================================================\n",
      "Total params: 852,830\n",
      "Trainable params: 852,830\n",
      "Non-trainable params: 0\n",
      "_________________________________________________________________\n",
      "Epoch 1/30\n",
      "154/154 [==============================] - 7s 31ms/step - loss: 0.6989 - accuracy: 0.5963 - val_loss: 0.5645 - val_accuracy: 0.7110\n",
      "Epoch 2/30\n",
      "154/154 [==============================] - 4s 29ms/step - loss: 0.6081 - accuracy: 0.7149 - val_loss: 0.5499 - val_accuracy: 0.7468\n",
      "Epoch 3/30\n",
      "154/154 [==============================] - 4s 28ms/step - loss: 0.5400 - accuracy: 0.7522 - val_loss: 0.5501 - val_accuracy: 0.7468\n",
      "Epoch 4/30\n",
      "154/154 [==============================] - 5s 30ms/step - loss: 0.4755 - accuracy: 0.7961 - val_loss: 0.5331 - val_accuracy: 0.7565\n",
      "Epoch 5/30\n",
      "154/154 [==============================] - 4s 29ms/step - loss: 0.3829 - accuracy: 0.8335 - val_loss: 0.5975 - val_accuracy: 0.7662\n",
      "Epoch 6/30\n",
      "154/154 [==============================] - 5s 31ms/step - loss: 0.3102 - accuracy: 0.8781 - val_loss: 0.6215 - val_accuracy: 0.7727\n",
      "Epoch 7/30\n",
      "154/154 [==============================] - 5s 31ms/step - loss: 0.2482 - accuracy: 0.9074 - val_loss: 0.6306 - val_accuracy: 0.7468\n",
      "Epoch 8/30\n",
      "154/154 [==============================] - 4s 29ms/step - loss: 0.1840 - accuracy: 0.9293 - val_loss: 0.8482 - val_accuracy: 0.7435\n",
      "Epoch 9/30\n",
      "154/154 [==============================] - 4s 29ms/step - loss: 0.1198 - accuracy: 0.9569 - val_loss: 0.8571 - val_accuracy: 0.7338\n",
      "6/6 [==============================] - 0s 9ms/step\n",
      "6/6 [==============================] - 0s 9ms/step - loss: 0.7596 - accuracy: 0.7602\n",
      "Model: \"sequential_6\"\n",
      "_________________________________________________________________\n",
      " Layer (type)                Output Shape              Param #   \n",
      "=================================================================\n",
      " embedding_6 (Embedding)     (None, 64, 100)           806300    \n",
      "                                                                 \n",
      " lstm_6 (LSTM)               (None, 64)                42240     \n",
      "                                                                 \n",
      " FC1 (Dense)                 (None, 64)                4160      \n",
      "                                                                 \n",
      " dropout_6 (Dropout)         (None, 64)                0         \n",
      "                                                                 \n",
      " FC2 (Dense)                 (None, 2)                 130       \n",
      "                                                                 \n",
      "=================================================================\n",
      "Total params: 852,830\n",
      "Trainable params: 852,830\n",
      "Non-trainable params: 0\n",
      "_________________________________________________________________\n",
      "Epoch 1/30\n",
      "154/154 [==============================] - 6s 31ms/step - loss: 0.7132 - accuracy: 0.5792 - val_loss: 0.6178 - val_accuracy: 0.6688\n",
      "Epoch 2/30\n",
      "154/154 [==============================] - 4s 29ms/step - loss: 0.6073 - accuracy: 0.6872 - val_loss: 0.5381 - val_accuracy: 0.7500\n",
      "Epoch 3/30\n",
      "154/154 [==============================] - 5s 30ms/step - loss: 0.5423 - accuracy: 0.7287 - val_loss: 0.5489 - val_accuracy: 0.7500\n",
      "Epoch 4/30\n",
      "154/154 [==============================] - 4s 28ms/step - loss: 0.4819 - accuracy: 0.7912 - val_loss: 0.5441 - val_accuracy: 0.7435\n",
      "Epoch 5/30\n",
      "154/154 [==============================] - 4s 28ms/step - loss: 0.4174 - accuracy: 0.8229 - val_loss: 0.5744 - val_accuracy: 0.7078\n",
      "Epoch 6/30\n",
      "154/154 [==============================] - 4s 28ms/step - loss: 0.3378 - accuracy: 0.8692 - val_loss: 0.7067 - val_accuracy: 0.7565\n",
      "Epoch 7/30\n",
      "154/154 [==============================] - 5s 31ms/step - loss: 0.2571 - accuracy: 0.9001 - val_loss: 0.6677 - val_accuracy: 0.7338\n",
      "6/6 [==============================] - 0s 11ms/step\n",
      "6/6 [==============================] - 0s 9ms/step - loss: 0.7255 - accuracy: 0.7310\n",
      "Model: \"sequential_7\"\n",
      "_________________________________________________________________\n",
      " Layer (type)                Output Shape              Param #   \n",
      "=================================================================\n",
      " embedding_7 (Embedding)     (None, 64, 100)           806300    \n",
      "                                                                 \n",
      " lstm_7 (LSTM)               (None, 64)                42240     \n",
      "                                                                 \n",
      " FC1 (Dense)                 (None, 64)                4160      \n",
      "                                                                 \n",
      " dropout_7 (Dropout)         (None, 64)                0         \n",
      "                                                                 \n",
      " FC2 (Dense)                 (None, 2)                 130       \n",
      "                                                                 \n",
      "=================================================================\n",
      "Total params: 852,830\n",
      "Trainable params: 852,830\n",
      "Non-trainable params: 0\n",
      "_________________________________________________________________\n",
      "Epoch 1/30\n",
      "154/154 [==============================] - 6s 30ms/step - loss: 0.6869 - accuracy: 0.5938 - val_loss: 0.5733 - val_accuracy: 0.7208\n",
      "Epoch 2/30\n",
      "154/154 [==============================] - 4s 27ms/step - loss: 0.5937 - accuracy: 0.7059 - val_loss: 0.5697 - val_accuracy: 0.7240\n",
      "Epoch 3/30\n",
      "154/154 [==============================] - 4s 28ms/step - loss: 0.5335 - accuracy: 0.7563 - val_loss: 0.5379 - val_accuracy: 0.7662\n",
      "Epoch 4/30\n",
      "154/154 [==============================] - 4s 28ms/step - loss: 0.4542 - accuracy: 0.8058 - val_loss: 0.5881 - val_accuracy: 0.7468\n",
      "Epoch 5/30\n",
      "154/154 [==============================] - 4s 28ms/step - loss: 0.3689 - accuracy: 0.8473 - val_loss: 0.5439 - val_accuracy: 0.7760\n",
      "Epoch 6/30\n",
      "154/154 [==============================] - 4s 27ms/step - loss: 0.3017 - accuracy: 0.8920 - val_loss: 0.5571 - val_accuracy: 0.7435\n",
      "Epoch 7/30\n",
      "154/154 [==============================] - 5s 31ms/step - loss: 0.2462 - accuracy: 0.9025 - val_loss: 0.6161 - val_accuracy: 0.7695\n",
      "Epoch 8/30\n",
      "154/154 [==============================] - 4s 29ms/step - loss: 0.1937 - accuracy: 0.9310 - val_loss: 0.6362 - val_accuracy: 0.7468\n",
      "6/6 [==============================] - 0s 10ms/step\n",
      "6/6 [==============================] - 0s 9ms/step - loss: 0.6643 - accuracy: 0.7368\n",
      "Model: \"sequential_8\"\n",
      "_________________________________________________________________\n",
      " Layer (type)                Output Shape              Param #   \n",
      "=================================================================\n",
      " embedding_8 (Embedding)     (None, 64, 100)           806300    \n",
      "                                                                 \n",
      " lstm_8 (LSTM)               (None, 64)                42240     \n",
      "                                                                 \n",
      " FC1 (Dense)                 (None, 64)                4160      \n",
      "                                                                 \n",
      " dropout_8 (Dropout)         (None, 64)                0         \n",
      "                                                                 \n",
      " FC2 (Dense)                 (None, 2)                 130       \n",
      "                                                                 \n",
      "=================================================================\n",
      "Total params: 852,830\n",
      "Trainable params: 852,830\n",
      "Non-trainable params: 0\n",
      "_________________________________________________________________\n",
      "Epoch 1/30\n",
      "154/154 [==============================] - 6s 31ms/step - loss: 0.7098 - accuracy: 0.5719 - val_loss: 0.6432 - val_accuracy: 0.6234\n",
      "Epoch 2/30\n",
      "154/154 [==============================] - 5s 29ms/step - loss: 0.6188 - accuracy: 0.6710 - val_loss: 0.6479 - val_accuracy: 0.6688\n",
      "Epoch 3/30\n",
      "154/154 [==============================] - 5s 29ms/step - loss: 0.5447 - accuracy: 0.7409 - val_loss: 0.5763 - val_accuracy: 0.7403\n",
      "Epoch 4/30\n",
      "154/154 [==============================] - 5s 30ms/step - loss: 0.4594 - accuracy: 0.7937 - val_loss: 0.6276 - val_accuracy: 0.7110\n",
      "Epoch 5/30\n",
      "154/154 [==============================] - 5s 30ms/step - loss: 0.3912 - accuracy: 0.8367 - val_loss: 0.5477 - val_accuracy: 0.7792\n",
      "Epoch 6/30\n",
      "154/154 [==============================] - 4s 28ms/step - loss: 0.3339 - accuracy: 0.8643 - val_loss: 0.6175 - val_accuracy: 0.7597\n",
      "Epoch 7/30\n",
      "154/154 [==============================] - 5s 30ms/step - loss: 0.2572 - accuracy: 0.9050 - val_loss: 0.6114 - val_accuracy: 0.7532\n",
      "Epoch 8/30\n",
      "154/154 [==============================] - 4s 29ms/step - loss: 0.2098 - accuracy: 0.9245 - val_loss: 0.7001 - val_accuracy: 0.7565\n",
      "Epoch 9/30\n",
      "154/154 [==============================] - 5s 29ms/step - loss: 0.1346 - accuracy: 0.9553 - val_loss: 0.7540 - val_accuracy: 0.7435\n",
      "Epoch 10/30\n",
      "154/154 [==============================] - 4s 28ms/step - loss: 0.0940 - accuracy: 0.9683 - val_loss: 1.0245 - val_accuracy: 0.7370\n",
      "6/6 [==============================] - 0s 9ms/step\n",
      "6/6 [==============================] - 0s 9ms/step - loss: 1.0007 - accuracy: 0.7485\n",
      "Model: \"sequential_9\"\n",
      "_________________________________________________________________\n",
      " Layer (type)                Output Shape              Param #   \n",
      "=================================================================\n",
      " embedding_9 (Embedding)     (None, 64, 100)           806300    \n",
      "                                                                 \n",
      " lstm_9 (LSTM)               (None, 64)                42240     \n",
      "                                                                 \n",
      " FC1 (Dense)                 (None, 64)                4160      \n",
      "                                                                 \n",
      " dropout_9 (Dropout)         (None, 64)                0         \n",
      "                                                                 \n",
      " FC2 (Dense)                 (None, 2)                 130       \n",
      "                                                                 \n",
      "=================================================================\n",
      "Total params: 852,830\n",
      "Trainable params: 852,830\n",
      "Non-trainable params: 0\n",
      "_________________________________________________________________\n",
      "Epoch 1/30\n",
      "154/154 [==============================] - 6s 32ms/step - loss: 0.6860 - accuracy: 0.6028 - val_loss: 0.5747 - val_accuracy: 0.7208\n",
      "Epoch 2/30\n",
      "154/154 [==============================] - 4s 29ms/step - loss: 0.6004 - accuracy: 0.6872 - val_loss: 0.5307 - val_accuracy: 0.7468\n",
      "Epoch 3/30\n",
      "154/154 [==============================] - 5s 32ms/step - loss: 0.5238 - accuracy: 0.7571 - val_loss: 0.5492 - val_accuracy: 0.7597\n",
      "Epoch 4/30\n",
      "154/154 [==============================] - 5s 35ms/step - loss: 0.4444 - accuracy: 0.8132 - val_loss: 0.5843 - val_accuracy: 0.7110\n",
      "Epoch 5/30\n",
      "154/154 [==============================] - 5s 30ms/step - loss: 0.3789 - accuracy: 0.8408 - val_loss: 0.5916 - val_accuracy: 0.7240\n",
      "Epoch 6/30\n",
      "154/154 [==============================] - 5s 30ms/step - loss: 0.2956 - accuracy: 0.8855 - val_loss: 0.6250 - val_accuracy: 0.7435\n",
      "Epoch 7/30\n",
      "154/154 [==============================] - 5s 32ms/step - loss: 0.2441 - accuracy: 0.9090 - val_loss: 0.6856 - val_accuracy: 0.7597\n",
      "6/6 [==============================] - 0s 10ms/step\n",
      "6/6 [==============================] - 0s 9ms/step - loss: 0.8307 - accuracy: 0.6842\n",
      "Model: \"sequential_10\"\n",
      "_________________________________________________________________\n",
      " Layer (type)                Output Shape              Param #   \n",
      "=================================================================\n",
      " embedding_10 (Embedding)    (None, 64, 100)           806300    \n",
      "                                                                 \n",
      " lstm_10 (LSTM)              (None, 64)                42240     \n",
      "                                                                 \n",
      " FC1 (Dense)                 (None, 64)                4160      \n",
      "                                                                 \n",
      " dropout_10 (Dropout)        (None, 64)                0         \n",
      "                                                                 \n",
      " FC2 (Dense)                 (None, 2)                 130       \n",
      "                                                                 \n",
      "=================================================================\n",
      "Total params: 852,830\n",
      "Trainable params: 852,830\n",
      "Non-trainable params: 0\n",
      "_________________________________________________________________\n",
      "Epoch 1/30\n",
      "154/154 [==============================] - 7s 33ms/step - loss: 0.6974 - accuracy: 0.6003 - val_loss: 0.6470 - val_accuracy: 0.6461\n",
      "Epoch 2/30\n",
      "154/154 [==============================] - 5s 34ms/step - loss: 0.5989 - accuracy: 0.6994 - val_loss: 0.5935 - val_accuracy: 0.7240\n",
      "Epoch 3/30\n",
      "154/154 [==============================] - 5s 34ms/step - loss: 0.5333 - accuracy: 0.7563 - val_loss: 0.5812 - val_accuracy: 0.7175\n",
      "Epoch 4/30\n",
      "154/154 [==============================] - 6s 36ms/step - loss: 0.4610 - accuracy: 0.8050 - val_loss: 0.5611 - val_accuracy: 0.7727\n",
      "Epoch 5/30\n",
      "154/154 [==============================] - 5s 34ms/step - loss: 0.3940 - accuracy: 0.8351 - val_loss: 0.6083 - val_accuracy: 0.7403\n",
      "Epoch 6/30\n",
      "154/154 [==============================] - 5s 31ms/step - loss: 0.3174 - accuracy: 0.8749 - val_loss: 0.5711 - val_accuracy: 0.7760\n",
      "Epoch 7/30\n",
      "154/154 [==============================] - 5s 31ms/step - loss: 0.2483 - accuracy: 0.9033 - val_loss: 0.6091 - val_accuracy: 0.7597\n",
      "Epoch 8/30\n",
      "154/154 [==============================] - 5s 30ms/step - loss: 0.1881 - accuracy: 0.9350 - val_loss: 0.8211 - val_accuracy: 0.6948\n",
      "Epoch 9/30\n",
      "154/154 [==============================] - 4s 28ms/step - loss: 0.1372 - accuracy: 0.9513 - val_loss: 0.7897 - val_accuracy: 0.7370\n",
      "6/6 [==============================] - 0s 10ms/step\n",
      "6/6 [==============================] - 0s 10ms/step - loss: 0.8372 - accuracy: 0.7251\n"
     ]
    }
   ],
   "source": [
    "score_list=[]\n",
    "for i in range(10):\n",
    "    ## 定义LSTM模型\n",
    "    batch_size=8\n",
    "    inputs = Input(name='inputs',shape=[maxLen])\n",
    "    embedder = Embedding(len(vocab) + 1, 100, input_length=maxLen, weights=[embedding_matrix], trainable=True)\n",
    "    model=Sequential()\n",
    "    model.add(embedder)\n",
    "    model.add(LSTM(64))\n",
    "    model.add(Dense(64,activation=\"sigmoid\",name=\"FC1\"))\n",
    "    model.add(Dropout(0.4,seed=12))\n",
    "    model.add(Dense(2,activation=\"softmax\",name=\"FC2\"))\n",
    "    model.summary()\n",
    "    model.compile(loss=\"categorical_crossentropy\",optimizer=RMSprop(),metrics=[\"accuracy\"])\n",
    "    #reduce_lr = ReduceLROnPlateau(monitor='val_loss',factor=0.1 ,patience=3, mode='auto')\n",
    "    history=model.fit(trainSeq, trainCate, batch_size, epochs=30,validation_split=0.2, callbacks=[EarlyStopping(monitor='val_loss',patience=5)])\n",
    "    result = model.predict(testSeq)  # 预测样本属于每个类别的概率\n",
    "    score = model.evaluate(testSeq,\n",
    "                               testCate,\n",
    "                               batch_size=32)\n",
    "    score_list.append(score[1])"
   ]
  },
  {
   "cell_type": "code",
   "execution_count": 111,
   "id": "7a7fbe16",
   "metadata": {},
   "outputs": [
    {
     "name": "stdout",
     "output_type": "stream",
     "text": [
      "accuracy:0.7204678356647491\n"
     ]
    }
   ],
   "source": [
    "print('accuracy:'+str(sum(score_list)/len(score_list)))"
   ]
  },
  {
   "cell_type": "code",
   "execution_count": 112,
   "id": "c717fe6f",
   "metadata": {},
   "outputs": [],
   "source": [
    "score_list.sort()"
   ]
  },
  {
   "cell_type": "code",
   "execution_count": 113,
   "id": "205e3cfa",
   "metadata": {},
   "outputs": [
    {
     "data": {
      "text/plain": [
       "[0.6549707651138306,\n",
       " 0.6842105388641357,\n",
       " 0.707602322101593,\n",
       " 0.7251461744308472,\n",
       " 0.7251461744308472,\n",
       " 0.7309941649436951,\n",
       " 0.7309941649436951,\n",
       " 0.7368420958518982,\n",
       " 0.7485380172729492,\n",
       " 0.7602339386940002]"
      ]
     },
     "execution_count": 113,
     "metadata": {},
     "output_type": "execute_result"
    }
   ],
   "source": [
    "score_list"
   ]
  },
  {
   "cell_type": "code",
   "execution_count": 114,
   "id": "d22b7049",
   "metadata": {},
   "outputs": [
    {
     "data": {
      "text/plain": [
       "0.7277452879481845"
      ]
     },
     "execution_count": 114,
     "metadata": {},
     "output_type": "execute_result"
    }
   ],
   "source": [
    "sum(score_list[1:])/9"
   ]
  }
 ],
 "metadata": {
  "kernelspec": {
   "display_name": "Python 3.10.6 ('4222G18_backup')",
   "language": "python",
   "name": "python3"
  },
  "language_info": {
   "codemirror_mode": {
    "name": "ipython",
    "version": 3
   },
   "file_extension": ".py",
   "mimetype": "text/x-python",
   "name": "python",
   "nbconvert_exporter": "python",
   "pygments_lexer": "ipython3",
   "version": "3.10.6"
  },
  "vscode": {
   "interpreter": {
    "hash": "64fb50f4500008f9f404f170e716523d28225753a93c94be3d36e645dbfada09"
   }
  }
 },
 "nbformat": 4,
 "nbformat_minor": 5
}
