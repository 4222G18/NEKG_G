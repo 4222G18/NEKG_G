{
 "cells": [
  {
   "cell_type": "code",
   "execution_count": 26,
   "id": "43d5eb91",
   "metadata": {},
   "outputs": [
    {
     "data": {
      "text/plain": [
       "'/home/egbert_jing/github/NEKG_G/Final_project'"
      ]
     },
     "execution_count": 26,
     "metadata": {},
     "output_type": "execute_result"
    }
   ],
   "source": [
    "import sys\n",
    "import os\n",
    "path_father = os.path.abspath(r'..')\n",
    "path_father\n",
    "# sys.path.append(path_father)"
   ]
  },
  {
   "cell_type": "code",
   "execution_count": 27,
   "id": "fce28d96",
   "metadata": {},
   "outputs": [],
   "source": [
    "import pandas as pd\n",
    "import numpy as np\n",
    "import matplotlib.pyplot as plt\n",
    "import seaborn as sns\n",
    "from sklearn import metrics\n",
    "from sklearn.preprocessing import LabelEncoder,OneHotEncoder\n",
    "from keras.models import Model\n",
    "from keras.layers import LSTM, Activation, Dense, Dropout, Input, Embedding\n",
    "from keras.optimizers import RMSprop\n",
    "from keras.preprocessing.text import Tokenizer\n",
    "from keras.preprocessing import sequence\n",
    "from keras.callbacks import EarlyStopping\n",
    "from keras_preprocessing.sequence import pad_sequences\n",
    "from keras.utils.np_utils import to_categorical\n",
    "from keras.models import Sequential\n",
    "from keras.callbacks import ReduceLROnPlateau\n",
    "from keras.models import load_model\n",
    "%matplotlib inline"
   ]
  },
  {
   "cell_type": "code",
   "execution_count": 28,
   "id": "c268b59b",
   "metadata": {},
   "outputs": [],
   "source": [
    "df = pd.read_csv(path_father + \"/df_with_gcs.txt\",sep=',',header=0)"
   ]
  },
  {
   "cell_type": "code",
   "execution_count": 29,
   "id": "e9e0ee5c",
   "metadata": {},
   "outputs": [],
   "source": [
    "#划分训练测试集\n",
    "from sklearn.model_selection import train_test_split\n",
    "\n",
    "train_set, test_set = train_test_split(df, test_size=0.1, random_state=42)"
   ]
  },
  {
   "cell_type": "markdown",
   "id": "59d7c98f",
   "metadata": {},
   "source": [
    "处理词向量"
   ]
  },
  {
   "cell_type": "code",
   "execution_count": 30,
   "id": "12c63f87",
   "metadata": {},
   "outputs": [],
   "source": [
    "from gensim.models import word2vec\n",
    "import logging\n",
    "logging.basicConfig(format='%(asctime)s : %(levelname)s : %(message)s', level=logging.INFO) "
   ]
  },
  {
   "cell_type": "code",
   "execution_count": 31,
   "id": "f13dfd1d",
   "metadata": {},
   "outputs": [],
   "source": [
    "# 切分词汇\n",
    "def cut(data):\n",
    "    cut= [s.split() for s in data['TriageNote'].astype(str)]\n",
    "    return cut"
   ]
  },
  {
   "cell_type": "code",
   "execution_count": 32,
   "id": "94dd810e",
   "metadata": {},
   "outputs": [],
   "source": [
    "train_text=cut(train_set)\n",
    "test_text=cut(test_set)\n",
    "sentences=train_text+test_text"
   ]
  },
  {
   "cell_type": "code",
   "execution_count": 33,
   "id": "2b4b566b",
   "metadata": {},
   "outputs": [
    {
     "data": {
      "text/plain": [
       "57"
      ]
     },
     "execution_count": 33,
     "metadata": {},
     "output_type": "execute_result"
    }
   ],
   "source": [
    "#得到最大句子长度\n",
    "num_list=[len(one) for one in sentences]\n",
    "max(num_list)"
   ]
  },
  {
   "cell_type": "code",
   "execution_count": 34,
   "id": "25aa3ce1",
   "metadata": {},
   "outputs": [],
   "source": [
    "maxLen=64"
   ]
  },
  {
   "cell_type": "code",
   "execution_count": 35,
   "id": "cad599c7",
   "metadata": {},
   "outputs": [],
   "source": [
    "#处理label->one_hot\n",
    "from sklearn.preprocessing import LabelEncoder\n",
    "\n",
    "def encodelabel(data):\n",
    "    le = LabelEncoder()\n",
    "    resultLable=le.fit_transform(data['DISPOSITION'])\n",
    "    return resultLable\n"
   ]
  },
  {
   "cell_type": "code",
   "execution_count": 36,
   "id": "b3dcf8dc",
   "metadata": {},
   "outputs": [],
   "source": [
    "train_lable=encodelabel(train_set)\n",
    "test_lable=encodelabel(test_set)"
   ]
  },
  {
   "cell_type": "code",
   "execution_count": 37,
   "id": "1f35b5d9",
   "metadata": {},
   "outputs": [
    {
     "name": "stderr",
     "output_type": "stream",
     "text": [
      "2022-11-10 23:27:59,324 : INFO : loading Word2Vec object from ./word2vec_all.model\n",
      "2022-11-10 23:27:59,341 : INFO : loading wv recursively from ./word2vec_all.model.wv.* with mmap=None\n",
      "2022-11-10 23:27:59,343 : INFO : setting ignored attribute cum_table to None\n",
      "2022-11-10 23:27:59,513 : INFO : Word2Vec lifecycle event {'fname': './word2vec_all.model', 'datetime': '2022-11-10T23:27:59.513043', 'gensim': '4.2.0', 'python': '3.10.6 (main, Oct 24 2022, 16:07:47) [GCC 11.2.0]', 'platform': 'Linux-5.15.68.1-microsoft-standard-WSL2-x86_64-with-glibc2.35', 'event': 'loaded'}\n"
     ]
    }
   ],
   "source": [
    "wvmodel = word2vec.Word2Vec.load(\"./word2vec_all.model\")"
   ]
  },
  {
   "cell_type": "code",
   "execution_count": 38,
   "id": "9cc89146",
   "metadata": {},
   "outputs": [
    {
     "data": {
      "text/plain": [
       "array([[ 0.29711841,  0.27413251, -0.35730858, ...,  0.05089224,\n",
       "         0.93462405, -0.12650368],\n",
       "       [-0.75535134, -0.73600882,  0.17998657, ...,  0.16355494,\n",
       "        -0.63062939,  0.54375415],\n",
       "       [-0.36034961, -0.77011188, -0.54448113, ...,  0.28366931,\n",
       "        -0.47143449,  0.38299598],\n",
       "       ...,\n",
       "       [-0.61550167,  0.92051485,  0.50692087, ...,  0.52917218,\n",
       "         0.44885229, -0.62038646],\n",
       "       [ 0.92584645, -0.8583721 , -0.98693935, ..., -0.25457935,\n",
       "        -0.7431174 , -0.04987183],\n",
       "       [-0.00649053, -0.4951124 ,  0.76590084, ...,  0.42894894,\n",
       "         0.92919298,  0.38526575]])"
      ]
     },
     "execution_count": 38,
     "metadata": {},
     "output_type": "execute_result"
    }
   ],
   "source": [
    "# import json\n",
    "# f = open('./embedding/RESCAL_adagrad.json')\n",
    "# nekg = json.load(f)\n",
    "nekg=np.load(path_father + \"/embedding/random 0-999 100d.npy\")\n",
    "nekg"
   ]
  },
  {
   "cell_type": "code",
   "execution_count": 39,
   "id": "26830919",
   "metadata": {},
   "outputs": [],
   "source": [
    "tokenizer=Tokenizer()\n",
    "tokenizer.fit_on_texts(sentences)\n",
    "vocab = tokenizer.word_index "
   ]
  },
  {
   "cell_type": "code",
   "execution_count": 40,
   "id": "d6b9da6f",
   "metadata": {},
   "outputs": [],
   "source": [
    "#特征数字编号，不足的话会在前面补充0\n",
    "trainID = tokenizer.texts_to_sequences(train_text)\n",
    "# print(trainID)\n",
    "testID = tokenizer.texts_to_sequences(test_text)\n",
    "trainSeq=pad_sequences(trainID,maxlen=maxLen)\n",
    "#print(trainSeq)\n",
    "testSeq=pad_sequences(testID,maxlen=maxLen)\n",
    "\n",
    "#标签的独热编码\n",
    "trainCate = to_categorical(train_lable, num_classes=2)  # 将标签转换为one-hot编码\n",
    "#print(trainCate)\n",
    "testCate= to_categorical(test_lable, num_classes=2)  # 将标签转换为one-hot编码"
   ]
  },
  {
   "cell_type": "code",
   "execution_count": 41,
   "id": "cc516388",
   "metadata": {},
   "outputs": [],
   "source": [
    "def nekg_embed(n0):\n",
    "    n1=int(n0)\n",
    "    n2=int(n0)+1\n",
    "    s1=(n2-n0)/(n2-n1)\n",
    "    s2=(n0-n1)/(n2-n1)\n",
    "    return s1*nekg[n1]+s2*nekg[n2]"
   ]
  },
  {
   "cell_type": "code",
   "execution_count": 42,
   "id": "88a8378f",
   "metadata": {},
   "outputs": [],
   "source": [
    "#利用训练后的word2vec自定义Embedding的训练矩阵，每行代表一个词（结合独热码和矩阵乘法理解）\n",
    "embedding_matrix = np.zeros((len(vocab) + 1, 100))\n",
    "for word, i in vocab.items():\n",
    "    try:\n",
    "        if(word.isdigit()==False):#对word用word2vec\n",
    "            embedding_vector = wvmodel.wv[str(word)]\n",
    "        else:#对number用nekg\n",
    "            if (int(float(word))<=998):\n",
    "                embedding_vector =  nekg_embed(float(word))\n",
    "            else:\n",
    "                embedding_vector = wvmodel.wv[str(word)]\n",
    "        embedding_matrix[i] = embedding_vector    \n",
    "    except KeyError:\n",
    "        continue"
   ]
  },
  {
   "cell_type": "code",
   "execution_count": 43,
   "id": "1fa9c8f0",
   "metadata": {},
   "outputs": [
    {
     "name": "stdout",
     "output_type": "stream",
     "text": [
      "Model: \"sequential_11\"\n",
      "_________________________________________________________________\n",
      " Layer (type)                Output Shape              Param #   \n",
      "=================================================================\n",
      " embedding_11 (Embedding)    (None, 64, 100)           806300    \n",
      "                                                                 \n",
      " lstm_11 (LSTM)              (None, 64)                42240     \n",
      "                                                                 \n",
      " FC1 (Dense)                 (None, 64)                4160      \n",
      "                                                                 \n",
      " dropout_11 (Dropout)        (None, 64)                0         \n",
      "                                                                 \n",
      " FC2 (Dense)                 (None, 2)                 130       \n",
      "                                                                 \n",
      "=================================================================\n",
      "Total params: 852,830\n",
      "Trainable params: 852,830\n",
      "Non-trainable params: 0\n",
      "_________________________________________________________________\n",
      "Epoch 1/30\n",
      "39/39 [==============================] - 8s 98ms/step - loss: 0.7265 - accuracy: 0.5751 - val_loss: 0.5839 - val_accuracy: 0.7143\n",
      "Epoch 2/30\n",
      "39/39 [==============================] - 3s 76ms/step - loss: 0.6275 - accuracy: 0.6669 - val_loss: 0.5327 - val_accuracy: 0.7597\n",
      "Epoch 3/30\n",
      "39/39 [==============================] - 3s 66ms/step - loss: 0.5467 - accuracy: 0.7409 - val_loss: 0.5618 - val_accuracy: 0.7403\n",
      "Epoch 4/30\n",
      "39/39 [==============================] - 2s 59ms/step - loss: 0.4962 - accuracy: 0.7953 - val_loss: 0.6161 - val_accuracy: 0.7078\n",
      "Epoch 5/30\n",
      "39/39 [==============================] - 3s 69ms/step - loss: 0.4543 - accuracy: 0.8050 - val_loss: 0.5277 - val_accuracy: 0.7532\n",
      "Epoch 6/30\n",
      "39/39 [==============================] - 2s 64ms/step - loss: 0.3808 - accuracy: 0.8400 - val_loss: 0.6528 - val_accuracy: 0.7662\n",
      "Epoch 7/30\n",
      "39/39 [==============================] - 3s 67ms/step - loss: 0.3209 - accuracy: 0.8790 - val_loss: 0.5889 - val_accuracy: 0.7890\n",
      "Epoch 8/30\n",
      "39/39 [==============================] - 2s 60ms/step - loss: 0.2741 - accuracy: 0.9009 - val_loss: 0.5982 - val_accuracy: 0.7662\n",
      "Epoch 9/30\n",
      "39/39 [==============================] - 3s 67ms/step - loss: 0.1987 - accuracy: 0.9253 - val_loss: 0.6531 - val_accuracy: 0.7760\n",
      "Epoch 10/30\n",
      "39/39 [==============================] - 3s 67ms/step - loss: 0.1651 - accuracy: 0.9407 - val_loss: 0.6627 - val_accuracy: 0.7403\n"
     ]
    },
    {
     "name": "stderr",
     "output_type": "stream",
     "text": [
      "2022-11-10 23:28:37,189 : WARNING : Found untraced functions such as lstm_cell_12_layer_call_fn, lstm_cell_12_layer_call_and_return_conditional_losses while saving (showing 2 of 2). These functions will not be directly callable after loading.\n"
     ]
    },
    {
     "name": "stdout",
     "output_type": "stream",
     "text": [
      "INFO:tensorflow:Assets written to: LSTM/assets\n"
     ]
    },
    {
     "name": "stderr",
     "output_type": "stream",
     "text": [
      "2022-11-10 23:28:38,240 : INFO : Assets written to: LSTM/assets\n"
     ]
    }
   ],
   "source": [
    "## 定义LSTM模型\n",
    "batch_size = 8\n",
    "inputs = Input(name='inputs',shape=[maxLen])\n",
    "embedder = Embedding(len(vocab) + 1, 100, input_length=maxLen, weights=[embedding_matrix], trainable=True)\n",
    "model=Sequential()\n",
    "model.add(embedder)\n",
    "model.add(LSTM(64))\n",
    "model.add(Dense(64,activation=\"sigmoid\",name=\"FC1\"))\n",
    "model.add(Dropout(0.4))\n",
    "model.add(Dense(2,activation=\"softmax\",name=\"FC2\"))\n",
    "model.summary()\n",
    "model.compile(loss=\"categorical_crossentropy\",optimizer=RMSprop(),metrics=[\"accuracy\"])\n",
    "#reduce_lr = ReduceLROnPlateau(monitor='val_loss',factor=0.1 ,patience=3, mode='auto')\n",
    "history=model.fit(trainSeq, trainCate, batch_size, epochs=30,validation_split=0.2, callbacks=[EarlyStopping(monitor='val_loss',patience=5)])\n",
    "model.save(\"LSTM\")"
   ]
  },
  {
   "cell_type": "code",
   "execution_count": 44,
   "id": "f6b394d2",
   "metadata": {},
   "outputs": [
    {
     "name": "stdout",
     "output_type": "stream",
     "text": [
      "6/6 [==============================] - 1s 19ms/step\n",
      "6/6 [==============================] - 1s 17ms/step - loss: 0.6744 - accuracy: 0.6959\n",
      "[0.6743526458740234, 0.6959064602851868]\n"
     ]
    }
   ],
   "source": [
    "#预测与评估\n",
    "mainModel = load_model('LSTM')\n",
    "result = mainModel.predict(testSeq)  # 预测样本属于每个类别的概率\n",
    "score = mainModel.evaluate(testSeq,\n",
    "                           testCate,\n",
    "                           batch_size=32)\n",
    "print(score)"
   ]
  },
  {
   "cell_type": "code",
   "execution_count": 45,
   "id": "5cd82ded",
   "metadata": {},
   "outputs": [
    {
     "data": {
      "image/png": "[encoded data removed]",
      "text/plain": [
       "<Figure size 640x480 with 1 Axes>"
      ]
     },
     "metadata": {},
     "output_type": "display_data"
    },
    {
     "data": {
      "image/png": "[encoded data removed]",
      "text/plain": [
       "<Figure size 640x480 with 1 Axes>"
      ]
     },
     "metadata": {},
     "output_type": "display_data"
    }
   ],
   "source": [
    "plt.plot(history.history['accuracy'])\n",
    "plt.plot(history.history['val_accuracy'])\n",
    "plt.title('Model accuracy')\n",
    "plt.ylabel('Accuracy')\n",
    "plt.xlabel('Epoch')\n",
    "plt.legend(['Train','Valid'],loc='upper left')\n",
    "plt.show()\n",
    "\n",
    "plt.plot(history.history['loss'])\n",
    "plt.plot(history.history['val_loss'])\n",
    "plt.title('Model loss')\n",
    "plt.ylabel('Loss')\n",
    "plt.xlabel('Epoch')\n",
    "plt.legend(['Train','Valid'],loc='upper left')\n",
    "plt.show()"
   ]
  },
  {
   "cell_type": "code",
   "execution_count": 46,
   "id": "5450d945",
   "metadata": {},
   "outputs": [
    {
     "name": "stdout",
     "output_type": "stream",
     "text": [
      "Model: \"sequential_12\"\n",
      "_________________________________________________________________\n",
      " Layer (type)                Output Shape              Param #   \n",
      "=================================================================\n",
      " embedding_12 (Embedding)    (None, 64, 100)           806300    \n",
      "                                                                 \n",
      " lstm_12 (LSTM)              (None, 64)                42240     \n",
      "                                                                 \n",
      " FC1 (Dense)                 (None, 64)                4160      \n",
      "                                                                 \n",
      " dropout_12 (Dropout)        (None, 64)                0         \n",
      "                                                                 \n",
      " FC2 (Dense)                 (None, 2)                 130       \n",
      "                                                                 \n",
      "=================================================================\n",
      "Total params: 852,830\n",
      "Trainable params: 852,830\n",
      "Non-trainable params: 0\n",
      "_________________________________________________________________\n",
      "Epoch 1/30\n",
      "39/39 [==============================] - 7s 93ms/step - loss: 0.7322 - accuracy: 0.5491 - val_loss: 0.6348 - val_accuracy: 0.6623\n",
      "Epoch 2/30\n",
      "39/39 [==============================] - 3s 70ms/step - loss: 0.6401 - accuracy: 0.6694 - val_loss: 0.5514 - val_accuracy: 0.7240\n",
      "Epoch 3/30\n",
      "39/39 [==============================] - 3s 71ms/step - loss: 0.5754 - accuracy: 0.7262 - val_loss: 0.6049 - val_accuracy: 0.7110\n",
      "Epoch 4/30\n",
      "39/39 [==============================] - 3s 70ms/step - loss: 0.5196 - accuracy: 0.7604 - val_loss: 0.7951 - val_accuracy: 0.6169\n",
      "Epoch 5/30\n",
      "39/39 [==============================] - 3s 71ms/step - loss: 0.4514 - accuracy: 0.8018 - val_loss: 0.5619 - val_accuracy: 0.7500\n",
      "Epoch 6/30\n",
      "39/39 [==============================] - 3s 75ms/step - loss: 0.3989 - accuracy: 0.8335 - val_loss: 0.6726 - val_accuracy: 0.7175\n",
      "Epoch 7/30\n",
      "39/39 [==============================] - 3s 70ms/step - loss: 0.3589 - accuracy: 0.8619 - val_loss: 0.5502 - val_accuracy: 0.7630\n",
      "Epoch 8/30\n",
      "39/39 [==============================] - 3s 69ms/step - loss: 0.2753 - accuracy: 0.8985 - val_loss: 0.5992 - val_accuracy: 0.7240\n",
      "Epoch 9/30\n",
      "39/39 [==============================] - 2s 56ms/step - loss: 0.2272 - accuracy: 0.9155 - val_loss: 0.6005 - val_accuracy: 0.7500\n",
      "Epoch 10/30\n",
      "39/39 [==============================] - 3s 65ms/step - loss: 0.1559 - accuracy: 0.9504 - val_loss: 0.6891 - val_accuracy: 0.7305\n",
      "Epoch 11/30\n",
      "39/39 [==============================] - 3s 66ms/step - loss: 0.1402 - accuracy: 0.9553 - val_loss: 0.7128 - val_accuracy: 0.7695\n",
      "Epoch 12/30\n",
      "39/39 [==============================] - 3s 66ms/step - loss: 0.0911 - accuracy: 0.9716 - val_loss: 0.7878 - val_accuracy: 0.7597\n",
      "6/6 [==============================] - 1s 17ms/step\n",
      "6/6 [==============================] - 0s 16ms/step - loss: 1.0381 - accuracy: 0.6959\n",
      "Model: \"sequential_13\"\n",
      "_________________________________________________________________\n",
      " Layer (type)                Output Shape              Param #   \n",
      "=================================================================\n",
      " embedding_13 (Embedding)    (None, 64, 100)           806300    \n",
      "                                                                 \n",
      " lstm_13 (LSTM)              (None, 64)                42240     \n",
      "                                                                 \n",
      " FC1 (Dense)                 (None, 64)                4160      \n",
      "                                                                 \n",
      " dropout_13 (Dropout)        (None, 64)                0         \n",
      "                                                                 \n",
      " FC2 (Dense)                 (None, 2)                 130       \n",
      "                                                                 \n",
      "=================================================================\n",
      "Total params: 852,830\n",
      "Trainable params: 852,830\n",
      "Non-trainable params: 0\n",
      "_________________________________________________________________\n",
      "Epoch 1/30\n",
      "39/39 [==============================] - 9s 105ms/step - loss: 0.7416 - accuracy: 0.5280 - val_loss: 0.6677 - val_accuracy: 0.5519\n",
      "Epoch 2/30\n",
      "39/39 [==============================] - 3s 67ms/step - loss: 0.6311 - accuracy: 0.6677 - val_loss: 0.5798 - val_accuracy: 0.7273\n",
      "Epoch 3/30\n",
      "39/39 [==============================] - 3s 69ms/step - loss: 0.5752 - accuracy: 0.7230 - val_loss: 0.5428 - val_accuracy: 0.7305\n",
      "Epoch 4/30\n",
      "39/39 [==============================] - 3s 70ms/step - loss: 0.5151 - accuracy: 0.7595 - val_loss: 0.5510 - val_accuracy: 0.7500\n",
      "Epoch 5/30\n",
      "39/39 [==============================] - 3s 66ms/step - loss: 0.4568 - accuracy: 0.8042 - val_loss: 0.5633 - val_accuracy: 0.7435\n",
      "Epoch 6/30\n",
      "39/39 [==============================] - 3s 71ms/step - loss: 0.4179 - accuracy: 0.8253 - val_loss: 0.5252 - val_accuracy: 0.7630\n",
      "Epoch 7/30\n",
      "39/39 [==============================] - 3s 65ms/step - loss: 0.3473 - accuracy: 0.8660 - val_loss: 0.5376 - val_accuracy: 0.7727\n",
      "Epoch 8/30\n",
      "39/39 [==============================] - 2s 64ms/step - loss: 0.2875 - accuracy: 0.8928 - val_loss: 0.6154 - val_accuracy: 0.7110\n",
      "Epoch 9/30\n",
      "39/39 [==============================] - 3s 64ms/step - loss: 0.2227 - accuracy: 0.9228 - val_loss: 0.6754 - val_accuracy: 0.7143\n",
      "Epoch 10/30\n",
      "39/39 [==============================] - 2s 59ms/step - loss: 0.1664 - accuracy: 0.9366 - val_loss: 0.6608 - val_accuracy: 0.7987\n",
      "Epoch 11/30\n",
      "39/39 [==============================] - 3s 69ms/step - loss: 0.1318 - accuracy: 0.9521 - val_loss: 0.6836 - val_accuracy: 0.7403\n",
      "6/6 [==============================] - 1s 17ms/step\n",
      "6/6 [==============================] - 0s 17ms/step - loss: 0.8463 - accuracy: 0.6667\n",
      "Model: \"sequential_14\"\n",
      "_________________________________________________________________\n",
      " Layer (type)                Output Shape              Param #   \n",
      "=================================================================\n",
      " embedding_14 (Embedding)    (None, 64, 100)           806300    \n",
      "                                                                 \n",
      " lstm_14 (LSTM)              (None, 64)                42240     \n",
      "                                                                 \n",
      " FC1 (Dense)                 (None, 64)                4160      \n",
      "                                                                 \n",
      " dropout_14 (Dropout)        (None, 64)                0         \n",
      "                                                                 \n",
      " FC2 (Dense)                 (None, 2)                 130       \n",
      "                                                                 \n",
      "=================================================================\n",
      "Total params: 852,830\n",
      "Trainable params: 852,830\n",
      "Non-trainable params: 0\n",
      "_________________________________________________________________\n",
      "Epoch 1/30\n",
      "39/39 [==============================] - 7s 96ms/step - loss: 0.7460 - accuracy: 0.5353 - val_loss: 0.6066 - val_accuracy: 0.7045\n",
      "Epoch 2/30\n",
      "39/39 [==============================] - 3s 78ms/step - loss: 0.6578 - accuracy: 0.6507 - val_loss: 0.5500 - val_accuracy: 0.7435\n",
      "Epoch 3/30\n",
      "39/39 [==============================] - 3s 73ms/step - loss: 0.5628 - accuracy: 0.7262 - val_loss: 0.6779 - val_accuracy: 0.6818\n",
      "Epoch 4/30\n",
      "39/39 [==============================] - 3s 75ms/step - loss: 0.5140 - accuracy: 0.7660 - val_loss: 0.5992 - val_accuracy: 0.7273\n",
      "Epoch 5/30\n",
      "39/39 [==============================] - 3s 69ms/step - loss: 0.4665 - accuracy: 0.8140 - val_loss: 0.5567 - val_accuracy: 0.7175\n",
      "Epoch 6/30\n",
      "39/39 [==============================] - 3s 69ms/step - loss: 0.4130 - accuracy: 0.8400 - val_loss: 0.6025 - val_accuracy: 0.7662\n",
      "Epoch 7/30\n",
      "39/39 [==============================] - 3s 67ms/step - loss: 0.3315 - accuracy: 0.8684 - val_loss: 0.6570 - val_accuracy: 0.7597\n",
      "6/6 [==============================] - 1s 20ms/step\n",
      "6/6 [==============================] - 0s 20ms/step - loss: 0.8458 - accuracy: 0.6667\n",
      "Model: \"sequential_15\"\n",
      "_________________________________________________________________\n",
      " Layer (type)                Output Shape              Param #   \n",
      "=================================================================\n",
      " embedding_15 (Embedding)    (None, 64, 100)           806300    \n",
      "                                                                 \n",
      " lstm_15 (LSTM)              (None, 64)                42240     \n",
      "                                                                 \n",
      " FC1 (Dense)                 (None, 64)                4160      \n",
      "                                                                 \n",
      " dropout_15 (Dropout)        (None, 64)                0         \n",
      "                                                                 \n",
      " FC2 (Dense)                 (None, 2)                 130       \n",
      "                                                                 \n",
      "=================================================================\n",
      "Total params: 852,830\n",
      "Trainable params: 852,830\n",
      "Non-trainable params: 0\n",
      "_________________________________________________________________\n",
      "Epoch 1/30\n",
      "39/39 [==============================] - 7s 96ms/step - loss: 0.7569 - accuracy: 0.5175 - val_loss: 0.7690 - val_accuracy: 0.4935\n",
      "Epoch 2/30\n",
      "39/39 [==============================] - 3s 75ms/step - loss: 0.6442 - accuracy: 0.6458 - val_loss: 0.5498 - val_accuracy: 0.7305\n",
      "Epoch 3/30\n",
      "39/39 [==============================] - 3s 72ms/step - loss: 0.5586 - accuracy: 0.7352 - val_loss: 0.7140 - val_accuracy: 0.6299\n",
      "Epoch 4/30\n",
      "39/39 [==============================] - 3s 78ms/step - loss: 0.5299 - accuracy: 0.7563 - val_loss: 0.5483 - val_accuracy: 0.7403\n",
      "Epoch 5/30\n",
      "39/39 [==============================] - 3s 72ms/step - loss: 0.4515 - accuracy: 0.8034 - val_loss: 0.5251 - val_accuracy: 0.7500\n",
      "Epoch 6/30\n",
      "39/39 [==============================] - 3s 71ms/step - loss: 0.4133 - accuracy: 0.8270 - val_loss: 0.5344 - val_accuracy: 0.7597\n",
      "Epoch 7/30\n",
      "39/39 [==============================] - 3s 70ms/step - loss: 0.3338 - accuracy: 0.8684 - val_loss: 0.5735 - val_accuracy: 0.7825\n",
      "Epoch 8/30\n",
      "39/39 [==============================] - 3s 73ms/step - loss: 0.3057 - accuracy: 0.8887 - val_loss: 0.7051 - val_accuracy: 0.7110\n",
      "Epoch 9/30\n",
      "39/39 [==============================] - 3s 72ms/step - loss: 0.2232 - accuracy: 0.9212 - val_loss: 0.7248 - val_accuracy: 0.7403\n",
      "Epoch 10/30\n",
      "39/39 [==============================] - 3s 77ms/step - loss: 0.1877 - accuracy: 0.9318 - val_loss: 0.8637 - val_accuracy: 0.7273\n",
      "6/6 [==============================] - 1s 20ms/step\n",
      "6/6 [==============================] - 0s 19ms/step - loss: 1.0286 - accuracy: 0.6842\n",
      "Model: \"sequential_16\"\n",
      "_________________________________________________________________\n",
      " Layer (type)                Output Shape              Param #   \n",
      "=================================================================\n",
      " embedding_16 (Embedding)    (None, 64, 100)           806300    \n",
      "                                                                 \n",
      " lstm_16 (LSTM)              (None, 64)                42240     \n",
      "                                                                 \n",
      " FC1 (Dense)                 (None, 64)                4160      \n",
      "                                                                 \n",
      " dropout_16 (Dropout)        (None, 64)                0         \n",
      "                                                                 \n",
      " FC2 (Dense)                 (None, 2)                 130       \n",
      "                                                                 \n",
      "=================================================================\n",
      "Total params: 852,830\n",
      "Trainable params: 852,830\n",
      "Non-trainable params: 0\n",
      "_________________________________________________________________\n",
      "Epoch 1/30\n",
      "39/39 [==============================] - 7s 80ms/step - loss: 0.7330 - accuracy: 0.5256 - val_loss: 0.5949 - val_accuracy: 0.6948\n",
      "Epoch 2/30\n",
      "39/39 [==============================] - 3s 68ms/step - loss: 0.6175 - accuracy: 0.6686 - val_loss: 0.5542 - val_accuracy: 0.7403\n",
      "Epoch 3/30\n",
      "39/39 [==============================] - 2s 63ms/step - loss: 0.5788 - accuracy: 0.7165 - val_loss: 0.5521 - val_accuracy: 0.7565\n",
      "Epoch 4/30\n",
      "39/39 [==============================] - 3s 68ms/step - loss: 0.4886 - accuracy: 0.7742 - val_loss: 0.5530 - val_accuracy: 0.7630\n",
      "Epoch 5/30\n",
      "39/39 [==============================] - 3s 70ms/step - loss: 0.4580 - accuracy: 0.8115 - val_loss: 0.5306 - val_accuracy: 0.7370\n",
      "Epoch 6/30\n",
      "39/39 [==============================] - 3s 72ms/step - loss: 0.3923 - accuracy: 0.8546 - val_loss: 0.5358 - val_accuracy: 0.7727\n",
      "Epoch 7/30\n",
      "39/39 [==============================] - 3s 70ms/step - loss: 0.3113 - accuracy: 0.8700 - val_loss: 0.5907 - val_accuracy: 0.7792\n",
      "Epoch 8/30\n",
      "39/39 [==============================] - 3s 72ms/step - loss: 0.2613 - accuracy: 0.9041 - val_loss: 0.5894 - val_accuracy: 0.7662\n",
      "Epoch 9/30\n",
      "39/39 [==============================] - 3s 73ms/step - loss: 0.2201 - accuracy: 0.9253 - val_loss: 0.5986 - val_accuracy: 0.7565\n",
      "Epoch 10/30\n",
      "39/39 [==============================] - 3s 73ms/step - loss: 0.1628 - accuracy: 0.9423 - val_loss: 0.7050 - val_accuracy: 0.7760\n",
      "6/6 [==============================] - 2s 19ms/step\n",
      "6/6 [==============================] - 0s 20ms/step - loss: 0.8003 - accuracy: 0.7076\n",
      "Model: \"sequential_17\"\n",
      "_________________________________________________________________\n",
      " Layer (type)                Output Shape              Param #   \n",
      "=================================================================\n",
      " embedding_17 (Embedding)    (None, 64, 100)           806300    \n",
      "                                                                 \n",
      " lstm_17 (LSTM)              (None, 64)                42240     \n",
      "                                                                 \n",
      " FC1 (Dense)                 (None, 64)                4160      \n",
      "                                                                 \n",
      " dropout_17 (Dropout)        (None, 64)                0         \n",
      "                                                                 \n",
      " FC2 (Dense)                 (None, 2)                 130       \n",
      "                                                                 \n",
      "=================================================================\n",
      "Total params: 852,830\n",
      "Trainable params: 852,830\n",
      "Non-trainable params: 0\n",
      "_________________________________________________________________\n",
      "Epoch 1/30\n",
      "39/39 [==============================] - 7s 96ms/step - loss: 0.7140 - accuracy: 0.5443 - val_loss: 0.5992 - val_accuracy: 0.7143\n",
      "Epoch 2/30\n",
      "39/39 [==============================] - 3s 73ms/step - loss: 0.6193 - accuracy: 0.6718 - val_loss: 0.6024 - val_accuracy: 0.6916\n",
      "Epoch 3/30\n",
      "39/39 [==============================] - 3s 71ms/step - loss: 0.5493 - accuracy: 0.7441 - val_loss: 0.5294 - val_accuracy: 0.7500\n",
      "Epoch 4/30\n",
      "39/39 [==============================] - 3s 72ms/step - loss: 0.5035 - accuracy: 0.7701 - val_loss: 0.5536 - val_accuracy: 0.7403\n",
      "Epoch 5/30\n",
      "39/39 [==============================] - 3s 64ms/step - loss: 0.4511 - accuracy: 0.8099 - val_loss: 0.5227 - val_accuracy: 0.7760\n",
      "Epoch 6/30\n",
      "39/39 [==============================] - 2s 64ms/step - loss: 0.4187 - accuracy: 0.8310 - val_loss: 0.5481 - val_accuracy: 0.7597\n",
      "Epoch 7/30\n",
      "39/39 [==============================] - 2s 64ms/step - loss: 0.3434 - accuracy: 0.8708 - val_loss: 0.6077 - val_accuracy: 0.7143\n",
      "Epoch 8/30\n",
      "39/39 [==============================] - 3s 67ms/step - loss: 0.2825 - accuracy: 0.9009 - val_loss: 0.5786 - val_accuracy: 0.7825\n",
      "Epoch 9/30\n",
      "39/39 [==============================] - 3s 67ms/step - loss: 0.2164 - accuracy: 0.9285 - val_loss: 0.8631 - val_accuracy: 0.7078\n",
      "Epoch 10/30\n",
      "39/39 [==============================] - 3s 72ms/step - loss: 0.1826 - accuracy: 0.9342 - val_loss: 0.7196 - val_accuracy: 0.7890\n",
      "6/6 [==============================] - 1s 19ms/step\n",
      "6/6 [==============================] - 0s 20ms/step - loss: 0.9393 - accuracy: 0.6725\n",
      "Model: \"sequential_18\"\n",
      "_________________________________________________________________\n",
      " Layer (type)                Output Shape              Param #   \n",
      "=================================================================\n",
      " embedding_18 (Embedding)    (None, 64, 100)           806300    \n",
      "                                                                 \n",
      " lstm_18 (LSTM)              (None, 64)                42240     \n",
      "                                                                 \n",
      " FC1 (Dense)                 (None, 64)                4160      \n",
      "                                                                 \n",
      " dropout_18 (Dropout)        (None, 64)                0         \n",
      "                                                                 \n",
      " FC2 (Dense)                 (None, 2)                 130       \n",
      "                                                                 \n",
      "=================================================================\n",
      "Total params: 852,830\n",
      "Trainable params: 852,830\n",
      "Non-trainable params: 0\n",
      "_________________________________________________________________\n",
      "Epoch 1/30\n",
      "39/39 [==============================] - 7s 96ms/step - loss: 0.7606 - accuracy: 0.5329 - val_loss: 0.6090 - val_accuracy: 0.6981\n",
      "Epoch 2/30\n",
      "39/39 [==============================] - 3s 74ms/step - loss: 0.6338 - accuracy: 0.6718 - val_loss: 0.5951 - val_accuracy: 0.6948\n",
      "Epoch 3/30\n",
      "39/39 [==============================] - 3s 74ms/step - loss: 0.5665 - accuracy: 0.7254 - val_loss: 0.6534 - val_accuracy: 0.6981\n",
      "Epoch 4/30\n",
      "39/39 [==============================] - 3s 68ms/step - loss: 0.5245 - accuracy: 0.7522 - val_loss: 0.6221 - val_accuracy: 0.7110\n",
      "Epoch 5/30\n",
      "39/39 [==============================] - 3s 66ms/step - loss: 0.4786 - accuracy: 0.7904 - val_loss: 0.5491 - val_accuracy: 0.7695\n",
      "Epoch 6/30\n",
      "39/39 [==============================] - 2s 63ms/step - loss: 0.3916 - accuracy: 0.8440 - val_loss: 0.5728 - val_accuracy: 0.7175\n",
      "Epoch 7/30\n",
      "39/39 [==============================] - 2s 64ms/step - loss: 0.3237 - accuracy: 0.8790 - val_loss: 0.6907 - val_accuracy: 0.7208\n",
      "Epoch 8/30\n",
      "39/39 [==============================] - 3s 67ms/step - loss: 0.2748 - accuracy: 0.8993 - val_loss: 0.6378 - val_accuracy: 0.7630\n",
      "Epoch 9/30\n",
      "39/39 [==============================] - 3s 69ms/step - loss: 0.2028 - accuracy: 0.9277 - val_loss: 0.8357 - val_accuracy: 0.7045\n",
      "Epoch 10/30\n",
      "39/39 [==============================] - 3s 72ms/step - loss: 0.1743 - accuracy: 0.9358 - val_loss: 1.2333 - val_accuracy: 0.7208\n",
      "6/6 [==============================] - 1s 18ms/step\n",
      "6/6 [==============================] - 0s 20ms/step - loss: 1.4470 - accuracy: 0.6901\n",
      "Model: \"sequential_19\"\n",
      "_________________________________________________________________\n",
      " Layer (type)                Output Shape              Param #   \n",
      "=================================================================\n",
      " embedding_19 (Embedding)    (None, 64, 100)           806300    \n",
      "                                                                 \n",
      " lstm_19 (LSTM)              (None, 64)                42240     \n",
      "                                                                 \n",
      " FC1 (Dense)                 (None, 64)                4160      \n",
      "                                                                 \n",
      " dropout_19 (Dropout)        (None, 64)                0         \n",
      "                                                                 \n",
      " FC2 (Dense)                 (None, 2)                 130       \n",
      "                                                                 \n",
      "=================================================================\n",
      "Total params: 852,830\n",
      "Trainable params: 852,830\n",
      "Non-trainable params: 0\n",
      "_________________________________________________________________\n",
      "Epoch 1/30\n",
      "39/39 [==============================] - 7s 90ms/step - loss: 0.7309 - accuracy: 0.5524 - val_loss: 0.8099 - val_accuracy: 0.5357\n",
      "Epoch 2/30\n",
      "39/39 [==============================] - 3s 76ms/step - loss: 0.6508 - accuracy: 0.6515 - val_loss: 0.5736 - val_accuracy: 0.7143\n",
      "Epoch 3/30\n",
      "39/39 [==============================] - 3s 74ms/step - loss: 0.5808 - accuracy: 0.7197 - val_loss: 0.6108 - val_accuracy: 0.6851\n",
      "Epoch 4/30\n",
      "39/39 [==============================] - 3s 72ms/step - loss: 0.5235 - accuracy: 0.7685 - val_loss: 0.5357 - val_accuracy: 0.7500\n",
      "Epoch 5/30\n",
      "39/39 [==============================] - 3s 75ms/step - loss: 0.4754 - accuracy: 0.7904 - val_loss: 0.7374 - val_accuracy: 0.6688\n",
      "Epoch 6/30\n",
      "39/39 [==============================] - 3s 72ms/step - loss: 0.4208 - accuracy: 0.8286 - val_loss: 0.5890 - val_accuracy: 0.7468\n",
      "Epoch 7/30\n",
      "39/39 [==============================] - 3s 70ms/step - loss: 0.3509 - accuracy: 0.8643 - val_loss: 0.5844 - val_accuracy: 0.7338\n",
      "Epoch 8/30\n",
      "39/39 [==============================] - 3s 72ms/step - loss: 0.2970 - accuracy: 0.8863 - val_loss: 0.6263 - val_accuracy: 0.7305\n",
      "Epoch 9/30\n",
      "39/39 [==============================] - 3s 73ms/step - loss: 0.2381 - accuracy: 0.9090 - val_loss: 0.7801 - val_accuracy: 0.7273\n",
      "6/6 [==============================] - 1s 19ms/step\n",
      "6/6 [==============================] - 0s 20ms/step - loss: 0.9500 - accuracy: 0.6784\n",
      "Model: \"sequential_20\"\n",
      "_________________________________________________________________\n",
      " Layer (type)                Output Shape              Param #   \n",
      "=================================================================\n",
      " embedding_20 (Embedding)    (None, 64, 100)           806300    \n",
      "                                                                 \n",
      " lstm_20 (LSTM)              (None, 64)                42240     \n",
      "                                                                 \n",
      " FC1 (Dense)                 (None, 64)                4160      \n",
      "                                                                 \n",
      " dropout_20 (Dropout)        (None, 64)                0         \n",
      "                                                                 \n",
      " FC2 (Dense)                 (None, 2)                 130       \n",
      "                                                                 \n",
      "=================================================================\n",
      "Total params: 852,830\n",
      "Trainable params: 852,830\n",
      "Non-trainable params: 0\n",
      "_________________________________________________________________\n",
      "Epoch 1/30\n",
      "39/39 [==============================] - 8s 99ms/step - loss: 0.7144 - accuracy: 0.5459 - val_loss: 0.6504 - val_accuracy: 0.6266\n",
      "Epoch 2/30\n",
      "39/39 [==============================] - 3s 75ms/step - loss: 0.6186 - accuracy: 0.6702 - val_loss: 0.5755 - val_accuracy: 0.7013\n",
      "Epoch 3/30\n",
      "39/39 [==============================] - 3s 75ms/step - loss: 0.5780 - accuracy: 0.7189 - val_loss: 0.5392 - val_accuracy: 0.7662\n",
      "Epoch 4/30\n",
      "39/39 [==============================] - 3s 73ms/step - loss: 0.5223 - accuracy: 0.7612 - val_loss: 0.5650 - val_accuracy: 0.7468\n",
      "Epoch 5/30\n",
      "39/39 [==============================] - 3s 72ms/step - loss: 0.4466 - accuracy: 0.8042 - val_loss: 0.5159 - val_accuracy: 0.7565\n",
      "Epoch 6/30\n",
      "39/39 [==============================] - 3s 76ms/step - loss: 0.3897 - accuracy: 0.8546 - val_loss: 0.5239 - val_accuracy: 0.7662\n",
      "Epoch 7/30\n",
      "39/39 [==============================] - 3s 73ms/step - loss: 0.3397 - accuracy: 0.8652 - val_loss: 0.5773 - val_accuracy: 0.7792\n",
      "Epoch 8/30\n",
      "39/39 [==============================] - 3s 75ms/step - loss: 0.2691 - accuracy: 0.8952 - val_loss: 0.6639 - val_accuracy: 0.7110\n",
      "Epoch 9/30\n",
      "39/39 [==============================] - 3s 68ms/step - loss: 0.2241 - accuracy: 0.9220 - val_loss: 0.6857 - val_accuracy: 0.6721\n",
      "Epoch 10/30\n",
      "39/39 [==============================] - 3s 67ms/step - loss: 0.1802 - accuracy: 0.9301 - val_loss: 0.6750 - val_accuracy: 0.7727\n",
      "6/6 [==============================] - 1s 18ms/step\n",
      "6/6 [==============================] - 0s 20ms/step - loss: 0.8774 - accuracy: 0.6842\n",
      "Model: \"sequential_21\"\n",
      "_________________________________________________________________\n",
      " Layer (type)                Output Shape              Param #   \n",
      "=================================================================\n",
      " embedding_21 (Embedding)    (None, 64, 100)           806300    \n",
      "                                                                 \n",
      " lstm_21 (LSTM)              (None, 64)                42240     \n",
      "                                                                 \n",
      " FC1 (Dense)                 (None, 64)                4160      \n",
      "                                                                 \n",
      " dropout_21 (Dropout)        (None, 64)                0         \n",
      "                                                                 \n",
      " FC2 (Dense)                 (None, 2)                 130       \n",
      "                                                                 \n",
      "=================================================================\n",
      "Total params: 852,830\n",
      "Trainable params: 852,830\n",
      "Non-trainable params: 0\n",
      "_________________________________________________________________\n",
      "Epoch 1/30\n",
      "39/39 [==============================] - 7s 94ms/step - loss: 0.7286 - accuracy: 0.5313 - val_loss: 0.6671 - val_accuracy: 0.5844\n",
      "Epoch 2/30\n",
      "39/39 [==============================] - 3s 69ms/step - loss: 0.5994 - accuracy: 0.6946 - val_loss: 0.6040 - val_accuracy: 0.6688\n",
      "Epoch 3/30\n",
      "39/39 [==============================] - 3s 68ms/step - loss: 0.5548 - accuracy: 0.7287 - val_loss: 0.5459 - val_accuracy: 0.7435\n",
      "Epoch 4/30\n",
      "39/39 [==============================] - 3s 74ms/step - loss: 0.5069 - accuracy: 0.7685 - val_loss: 0.5472 - val_accuracy: 0.7338\n",
      "Epoch 5/30\n",
      "39/39 [==============================] - 3s 76ms/step - loss: 0.4489 - accuracy: 0.8010 - val_loss: 0.6568 - val_accuracy: 0.6916\n",
      "Epoch 6/30\n",
      "39/39 [==============================] - 3s 73ms/step - loss: 0.3709 - accuracy: 0.8538 - val_loss: 0.5722 - val_accuracy: 0.7435\n",
      "Epoch 7/30\n",
      "39/39 [==============================] - 3s 72ms/step - loss: 0.3148 - accuracy: 0.8830 - val_loss: 0.6038 - val_accuracy: 0.7403\n",
      "Epoch 8/30\n",
      "39/39 [==============================] - 3s 77ms/step - loss: 0.2512 - accuracy: 0.9058 - val_loss: 0.6313 - val_accuracy: 0.7532\n",
      "6/6 [==============================] - 1s 16ms/step\n",
      "6/6 [==============================] - 0s 16ms/step - loss: 0.7133 - accuracy: 0.7251\n"
     ]
    }
   ],
   "source": [
    "score_list=[]\n",
    "for i in range(10):\n",
    "    ## 定义LSTM模型\n",
    "    batch_size = 8\n",
    "    inputs = Input(name='inputs',shape=[maxLen])\n",
    "    embedder = Embedding(len(vocab) + 1, 100, input_length=maxLen, weights=[embedding_matrix], trainable=True)\n",
    "    model=Sequential()\n",
    "    model.add(embedder)\n",
    "    model.add(LSTM(64))\n",
    "    model.add(Dense(64,activation=\"sigmoid\",name=\"FC1\"))\n",
    "    model.add(Dropout(0.4,seed=12))\n",
    "    model.add(Dense(2,activation=\"softmax\",name=\"FC2\"))\n",
    "    model.summary()\n",
    "    model.compile(loss=\"categorical_crossentropy\",optimizer=RMSprop(),metrics=[\"accuracy\"])\n",
    "    #reduce_lr = ReduceLROnPlateau(monitor='val_loss',factor=0.1 ,patience=3, mode='auto')\n",
    "    history=model.fit(trainSeq, trainCate, batch_size, epochs=30,validation_split=0.2, callbacks=[EarlyStopping(monitor='val_loss',patience=5)])\n",
    "    result = model.predict(testSeq)  # 预测样本属于每个类别的概率\n",
    "    score = model.evaluate(testSeq,\n",
    "                               testCate,\n",
    "                               batch_size=32)\n",
    "    score_list.append(score[1])"
   ]
  },
  {
   "cell_type": "code",
   "execution_count": 47,
   "id": "7a7fbe16",
   "metadata": {},
   "outputs": [
    {
     "name": "stdout",
     "output_type": "stream",
     "text": [
      "accuracy:0.6871345043182373\n"
     ]
    }
   ],
   "source": [
    "print('accuracy:'+str(sum(score_list)/len(score_list)))"
   ]
  },
  {
   "cell_type": "code",
   "execution_count": 48,
   "id": "c717fe6f",
   "metadata": {},
   "outputs": [],
   "source": [
    "score_list.sort()"
   ]
  },
  {
   "cell_type": "code",
   "execution_count": 49,
   "id": "205e3cfa",
   "metadata": {},
   "outputs": [
    {
     "data": {
      "text/plain": [
       "[0.6666666865348816,\n",
       " 0.6666666865348816,\n",
       " 0.6725146174430847,\n",
       " 0.6783625483512878,\n",
       " 0.6842105388641357,\n",
       " 0.6842105388641357,\n",
       " 0.6900584697723389,\n",
       " 0.6959064602851868,\n",
       " 0.707602322101593,\n",
       " 0.7251461744308472]"
      ]
     },
     "execution_count": 49,
     "metadata": {},
     "output_type": "execute_result"
    }
   ],
   "source": [
    "score_list"
   ]
  },
  {
   "cell_type": "code",
   "execution_count": 50,
   "id": "d38bfd5e",
   "metadata": {},
   "outputs": [
    {
     "data": {
      "text/plain": [
       "0.6894087062941657"
      ]
     },
     "execution_count": 50,
     "metadata": {},
     "output_type": "execute_result"
    }
   ],
   "source": [
    "sum(score_list[1:])/len(score_list[1:])"
   ]
  }
 ],
 "metadata": {
  "kernelspec": {
   "display_name": "Python 3.10.6 ('4222G18_backup')",
   "language": "python",
   "name": "python3"
  },
  "language_info": {
   "codemirror_mode": {
    "name": "ipython",
    "version": 3
   },
   "file_extension": ".py",
   "mimetype": "text/x-python",
   "name": "python",
   "nbconvert_exporter": "python",
   "pygments_lexer": "ipython3",
   "version": "3.10.6"
  },
  "vscode": {
   "interpreter": {
    "hash": "64fb50f4500008f9f404f170e716523d28225753a93c94be3d36e645dbfada09"
   }
  }
 },
 "nbformat": 4,
 "nbformat_minor": 5
}
