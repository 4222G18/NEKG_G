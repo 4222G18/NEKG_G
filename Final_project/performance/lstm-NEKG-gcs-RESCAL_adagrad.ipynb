{
 "cells": [
  {
   "cell_type": "code",
   "execution_count": 1,
   "id": "51e47243",
   "metadata": {},
   "outputs": [
    {
     "data": {
      "text/plain": [
       "'/home/egbert_jing/github/NEKG_G/Final_project'"
      ]
     },
     "execution_count": 1,
     "metadata": {},
     "output_type": "execute_result"
    }
   ],
   "source": [
    "import sys\n",
    "import os\n",
    "path_father = os.path.abspath(r'..')\n",
    "path_father\n",
    "# sys.path.append(path_father)"
   ]
  },
  {
   "cell_type": "code",
   "execution_count": null,
   "id": "f818700b",
   "metadata": {},
   "outputs": [],
   "source": []
  },
  {
   "cell_type": "code",
   "execution_count": 2,
   "id": "fce28d96",
   "metadata": {},
   "outputs": [
    {
     "name": "stderr",
     "output_type": "stream",
     "text": [
      "2022-11-10 22:21:44.580905: I tensorflow/core/platform/cpu_feature_guard.cc:193] This TensorFlow binary is optimized with oneAPI Deep Neural Network Library (oneDNN) to use the following CPU instructions in performance-critical operations:  AVX2 FMA\n",
      "To enable them in other operations, rebuild TensorFlow with the appropriate compiler flags.\n",
      "2022-11-10 22:21:45.465723: E tensorflow/stream_executor/cuda/cuda_blas.cc:2981] Unable to register cuBLAS factory: Attempting to register factory for plugin cuBLAS when one has already been registered\n",
      "2022-11-10 22:21:46.971029: W tensorflow/stream_executor/platform/default/dso_loader.cc:64] Could not load dynamic library 'libnvinfer.so.7'; dlerror: libnvinfer.so.7: cannot open shared object file: No such file or directory; LD_LIBRARY_PATH: :/usr/local/cuda-11.8/lib64\n",
      "2022-11-10 22:21:46.971570: W tensorflow/stream_executor/platform/default/dso_loader.cc:64] Could not load dynamic library 'libnvinfer_plugin.so.7'; dlerror: libnvinfer_plugin.so.7: cannot open shared object file: No such file or directory; LD_LIBRARY_PATH: :/usr/local/cuda-11.8/lib64\n",
      "2022-11-10 22:21:46.971593: W tensorflow/compiler/tf2tensorrt/utils/py_utils.cc:38] TF-TRT Warning: Cannot dlopen some TensorRT libraries. If you would like to use Nvidia GPU with TensorRT, please make sure the missing libraries mentioned above are installed properly.\n"
     ]
    }
   ],
   "source": [
    "import pandas as pd\n",
    "import numpy as np\n",
    "import matplotlib.pyplot as plt\n",
    "import seaborn as sns\n",
    "from sklearn import metrics\n",
    "from sklearn.preprocessing import LabelEncoder,OneHotEncoder\n",
    "from keras.models import Model\n",
    "from keras.layers import LSTM, Activation, Dense, Dropout, Input, Embedding\n",
    "from keras.optimizers import RMSprop\n",
    "from keras.preprocessing.text import Tokenizer\n",
    "from keras.preprocessing import sequence\n",
    "from keras.callbacks import EarlyStopping\n",
    "from keras_preprocessing.sequence import pad_sequences\n",
    "from keras.utils.np_utils import to_categorical\n",
    "from keras.models import Sequential\n",
    "from keras.callbacks import ReduceLROnPlateau\n",
    "from keras.models import load_model\n",
    "%matplotlib inline"
   ]
  },
  {
   "cell_type": "code",
   "execution_count": 3,
   "id": "c268b59b",
   "metadata": {},
   "outputs": [],
   "source": [
    "df = pd.read_csv(path_father + \"/df_with_gcs.txt\",sep=',',header=0)"
   ]
  },
  {
   "cell_type": "code",
   "execution_count": 4,
   "id": "e9e0ee5c",
   "metadata": {},
   "outputs": [],
   "source": [
    "#划分训练测试集\n",
    "from sklearn.model_selection import train_test_split\n",
    "\n",
    "train_set, test_set = train_test_split(df, test_size=0.1, random_state=42)"
   ]
  },
  {
   "cell_type": "markdown",
   "id": "59d7c98f",
   "metadata": {},
   "source": [
    "处理词向量"
   ]
  },
  {
   "cell_type": "code",
   "execution_count": 5,
   "id": "12c63f87",
   "metadata": {},
   "outputs": [],
   "source": [
    "from gensim.models import word2vec\n",
    "import logging\n",
    "logging.basicConfig(format='%(asctime)s : %(levelname)s : %(message)s', level=logging.INFO) "
   ]
  },
  {
   "cell_type": "code",
   "execution_count": 6,
   "id": "f13dfd1d",
   "metadata": {},
   "outputs": [],
   "source": [
    "# 切分词汇\n",
    "def cut(data):\n",
    "    cut= [s.split() for s in data['TriageNote'].astype(str)]\n",
    "    return cut"
   ]
  },
  {
   "cell_type": "code",
   "execution_count": 7,
   "id": "94dd810e",
   "metadata": {},
   "outputs": [],
   "source": [
    "train_text=cut(train_set)\n",
    "test_text=cut(test_set)\n",
    "sentences=train_text+test_text"
   ]
  },
  {
   "cell_type": "code",
   "execution_count": 8,
   "id": "2b4b566b",
   "metadata": {},
   "outputs": [
    {
     "data": {
      "text/plain": [
       "57"
      ]
     },
     "execution_count": 8,
     "metadata": {},
     "output_type": "execute_result"
    }
   ],
   "source": [
    "#得到最大句子长度\n",
    "num_list=[len(one) for one in sentences]\n",
    "max(num_list)"
   ]
  },
  {
   "cell_type": "code",
   "execution_count": 9,
   "id": "25aa3ce1",
   "metadata": {},
   "outputs": [],
   "source": [
    "maxLen=64"
   ]
  },
  {
   "cell_type": "code",
   "execution_count": 10,
   "id": "cad599c7",
   "metadata": {},
   "outputs": [],
   "source": [
    "#处理label->one_hot\n",
    "from sklearn.preprocessing import LabelEncoder\n",
    "\n",
    "def encodelabel(data):\n",
    "    le = LabelEncoder()\n",
    "    resultLable=le.fit_transform(data['DISPOSITION'])\n",
    "    return resultLable\n"
   ]
  },
  {
   "cell_type": "code",
   "execution_count": 11,
   "id": "b3dcf8dc",
   "metadata": {},
   "outputs": [],
   "source": [
    "train_lable=encodelabel(train_set)\n",
    "test_lable=encodelabel(test_set)"
   ]
  },
  {
   "cell_type": "code",
   "execution_count": 12,
   "id": "1f35b5d9",
   "metadata": {},
   "outputs": [
    {
     "name": "stderr",
     "output_type": "stream",
     "text": [
      "2022-11-10 22:21:50,044 : INFO : loading Word2Vec object from ./word2vec_all.model\n",
      "2022-11-10 22:21:50,061 : INFO : loading wv recursively from ./word2vec_all.model.wv.* with mmap=None\n",
      "2022-11-10 22:21:50,062 : INFO : setting ignored attribute cum_table to None\n",
      "2022-11-10 22:21:50,211 : INFO : Word2Vec lifecycle event {'fname': './word2vec_all.model', 'datetime': '2022-11-10T22:21:50.210971', 'gensim': '4.2.0', 'python': '3.10.6 (main, Oct 24 2022, 16:07:47) [GCC 11.2.0]', 'platform': 'Linux-5.15.68.1-microsoft-standard-WSL2-x86_64-with-glibc2.35', 'event': 'loaded'}\n"
     ]
    }
   ],
   "source": [
    "wvmodel = word2vec.Word2Vec.load(\"./word2vec_all.model\")"
   ]
  },
  {
   "cell_type": "code",
   "execution_count": 13,
   "id": "9cc89146",
   "metadata": {},
   "outputs": [],
   "source": [
    "import json\n",
    "f = open(path_father + \"/embedding/RESCAL_adagrad.json\")\n",
    "nekg = json.load(f)\n",
    "# nekg=np.load('./embedding/transe 0-999 100d.npy')\n",
    "# nekg"
   ]
  },
  {
   "cell_type": "code",
   "execution_count": 14,
   "id": "26830919",
   "metadata": {},
   "outputs": [],
   "source": [
    "tokenizer=Tokenizer()\n",
    "tokenizer.fit_on_texts(sentences)\n",
    "vocab = tokenizer.word_index "
   ]
  },
  {
   "cell_type": "code",
   "execution_count": 15,
   "id": "d6b9da6f",
   "metadata": {},
   "outputs": [],
   "source": [
    "#特征数字编号，不足的话会在前面补充0\n",
    "trainID = tokenizer.texts_to_sequences(train_text)\n",
    "# print(trainID)\n",
    "testID = tokenizer.texts_to_sequences(test_text)\n",
    "trainSeq=pad_sequences(trainID,maxlen=maxLen)\n",
    "#print(trainSeq)\n",
    "testSeq=pad_sequences(testID,maxlen=maxLen)\n",
    "\n",
    "#标签的独热编码\n",
    "trainCate = to_categorical(train_lable, num_classes=2)  # 将标签转换为one-hot编码\n",
    "#print(trainCate)\n",
    "testCate= to_categorical(test_lable, num_classes=2)  # 将标签转换为one-hot编码"
   ]
  },
  {
   "cell_type": "code",
   "execution_count": 16,
   "id": "cc516388",
   "metadata": {},
   "outputs": [],
   "source": [
    "def nekg_embed(n0):\n",
    "    n1=int(n0)\n",
    "    n2=int(n0)+1\n",
    "    s1=(n2-n0)/(n2-n1)\n",
    "    s2=(n0-n1)/(n2-n1)\n",
    "    return s1*nekg[n1]+s2*nekg[n2]"
   ]
  },
  {
   "cell_type": "code",
   "execution_count": 17,
   "id": "88a8378f",
   "metadata": {},
   "outputs": [],
   "source": [
    "#利用训练后的word2vec自定义Embedding的训练矩阵，每行代表一个词（结合独热码和矩阵乘法理解）\n",
    "embedding_matrix = np.zeros((len(vocab) + 1, 100))\n",
    "for word, i in vocab.items():\n",
    "    try:\n",
    "        if(word.isdigit()==False):#对word用word2vec\n",
    "            embedding_vector = wvmodel.wv[str(word)]\n",
    "        else:#对number用nekg\n",
    "            if (int(float(word))<=998):\n",
    "                embedding_vector =  nekg_embed(float(word))\n",
    "            else:\n",
    "                embedding_vector = wvmodel.wv[str(word)]\n",
    "        embedding_matrix[i] = embedding_vector    \n",
    "    except KeyError:\n",
    "        continue"
   ]
  },
  {
   "cell_type": "code",
   "execution_count": 18,
   "id": "1fa9c8f0",
   "metadata": {},
   "outputs": [
    {
     "name": "stderr",
     "output_type": "stream",
     "text": [
      "2022-11-10 22:21:51.189656: I tensorflow/stream_executor/cuda/cuda_gpu_executor.cc:966] could not open file to read NUMA node: /sys/bus/pci/devices/0000:01:00.0/numa_node\n",
      "Your kernel may have been built without NUMA support.\n",
      "2022-11-10 22:21:51.454326: W tensorflow/stream_executor/platform/default/dso_loader.cc:64] Could not load dynamic library 'libcudnn.so.8'; dlerror: libcudnn.so.8: cannot open shared object file: No such file or directory; LD_LIBRARY_PATH: :/usr/local/cuda-11.8/lib64\n",
      "2022-11-10 22:21:51.454395: W tensorflow/core/common_runtime/gpu/gpu_device.cc:1934] Cannot dlopen some GPU libraries. Please make sure the missing libraries mentioned above are installed properly if you would like to use GPU. Follow the guide at https://www.tensorflow.org/install/gpu for how to download and setup the required libraries for your platform.\n",
      "Skipping registering GPU devices...\n",
      "2022-11-10 22:21:51.455227: I tensorflow/core/platform/cpu_feature_guard.cc:193] This TensorFlow binary is optimized with oneAPI Deep Neural Network Library (oneDNN) to use the following CPU instructions in performance-critical operations:  AVX2 FMA\n",
      "To enable them in other operations, rebuild TensorFlow with the appropriate compiler flags.\n"
     ]
    },
    {
     "name": "stdout",
     "output_type": "stream",
     "text": [
      "Model: \"sequential\"\n",
      "_________________________________________________________________\n",
      " Layer (type)                Output Shape              Param #   \n",
      "=================================================================\n",
      " embedding (Embedding)       (None, 64, 100)           806300    \n",
      "                                                                 \n",
      " lstm (LSTM)                 (None, 64)                42240     \n",
      "                                                                 \n",
      " FC1 (Dense)                 (None, 64)                4160      \n",
      "                                                                 \n",
      " dropout (Dropout)           (None, 64)                0         \n",
      "                                                                 \n",
      " FC2 (Dense)                 (None, 2)                 130       \n",
      "                                                                 \n",
      "=================================================================\n",
      "Total params: 852,830\n",
      "Trainable params: 852,830\n",
      "Non-trainable params: 0\n",
      "_________________________________________________________________\n",
      "Epoch 1/30\n",
      "154/154 [==============================] - 11s 56ms/step - loss: 0.7104 - accuracy: 0.5695 - val_loss: 0.6049 - val_accuracy: 0.6623\n",
      "Epoch 2/30\n",
      "154/154 [==============================] - 8s 50ms/step - loss: 0.6020 - accuracy: 0.6962 - val_loss: 0.5562 - val_accuracy: 0.7403\n",
      "Epoch 3/30\n",
      "154/154 [==============================] - 8s 52ms/step - loss: 0.5460 - accuracy: 0.7352 - val_loss: 0.5264 - val_accuracy: 0.7435\n",
      "Epoch 4/30\n",
      "154/154 [==============================] - 8s 49ms/step - loss: 0.4648 - accuracy: 0.8050 - val_loss: 0.5700 - val_accuracy: 0.7630\n",
      "Epoch 5/30\n",
      "154/154 [==============================] - 9s 58ms/step - loss: 0.4033 - accuracy: 0.8327 - val_loss: 0.6086 - val_accuracy: 0.7597\n",
      "Epoch 6/30\n",
      "154/154 [==============================] - 8s 53ms/step - loss: 0.3308 - accuracy: 0.8700 - val_loss: 0.5368 - val_accuracy: 0.7695\n",
      "Epoch 7/30\n",
      "154/154 [==============================] - 8s 52ms/step - loss: 0.2592 - accuracy: 0.9050 - val_loss: 0.5924 - val_accuracy: 0.7175\n",
      "Epoch 8/30\n",
      "154/154 [==============================] - 7s 46ms/step - loss: 0.2158 - accuracy: 0.9269 - val_loss: 0.7971 - val_accuracy: 0.7403\n"
     ]
    },
    {
     "name": "stderr",
     "output_type": "stream",
     "text": [
      "2022-11-10 22:23:02,311 : WARNING : Found untraced functions such as lstm_cell_layer_call_fn, lstm_cell_layer_call_and_return_conditional_losses while saving (showing 2 of 2). These functions will not be directly callable after loading.\n"
     ]
    },
    {
     "name": "stdout",
     "output_type": "stream",
     "text": [
      "INFO:tensorflow:Assets written to: LSTM/assets\n"
     ]
    },
    {
     "name": "stderr",
     "output_type": "stream",
     "text": [
      "2022-11-10 22:23:03,123 : INFO : Assets written to: LSTM/assets\n"
     ]
    }
   ],
   "source": [
    "## 定义LSTM模型\n",
    "batch_size = 8\n",
    "inputs = Input(name='inputs',shape=[maxLen])\n",
    "embedder = Embedding(len(vocab) + 1, 100, input_length=maxLen, weights=[embedding_matrix], trainable=True)\n",
    "model=Sequential()\n",
    "model.add(embedder)\n",
    "model.add(LSTM(64))\n",
    "model.add(Dense(64,activation=\"sigmoid\",name=\"FC1\"))\n",
    "model.add(Dropout(0.4))\n",
    "model.add(Dense(2,activation=\"softmax\",name=\"FC2\"))\n",
    "model.summary()\n",
    "model.compile(loss=\"categorical_crossentropy\",optimizer=RMSprop(),metrics=[\"accuracy\"])\n",
    "#reduce_lr = ReduceLROnPlateau(monitor='val_loss',factor=0.1 ,patience=3, mode='auto')\n",
    "history=model.fit(trainSeq, trainCate, batch_size, epochs=30,validation_split=0.2, callbacks=[EarlyStopping(monitor='val_loss',patience=5)])\n",
    "model.save(\"LSTM\")"
   ]
  },
  {
   "cell_type": "code",
   "execution_count": 19,
   "id": "f6b394d2",
   "metadata": {},
   "outputs": [
    {
     "name": "stdout",
     "output_type": "stream",
     "text": [
      "6/6 [==============================] - 1s 14ms/step\n",
      "6/6 [==============================] - 1s 15ms/step - loss: 0.7962 - accuracy: 0.7251\n",
      "[0.7962195873260498, 0.7251461744308472]\n"
     ]
    }
   ],
   "source": [
    "#预测与评估\n",
    "mainModel = load_model('LSTM')\n",
    "result = mainModel.predict(testSeq)  # 预测样本属于每个类别的概率\n",
    "score = mainModel.evaluate(testSeq,\n",
    "                           testCate,\n",
    "                           batch_size=32)\n",
    "print(score)"
   ]
  },
  {
   "cell_type": "code",
   "execution_count": 20,
   "id": "5cd82ded",
   "metadata": {},
   "outputs": [
    {
     "data": {
      "image/png": "[encoded data removed]",
      "text/plain": [
       "<Figure size 640x480 with 1 Axes>"
      ]
     },
     "metadata": {},
     "output_type": "display_data"
    },
    {
     "data": {
      "image/png": "[encoded data removed]",
      "text/plain": [
       "<Figure size 640x480 with 1 Axes>"
      ]
     },
     "metadata": {},
     "output_type": "display_data"
    }
   ],
   "source": [
    "plt.plot(history.history['accuracy'])\n",
    "plt.plot(history.history['val_accuracy'])\n",
    "plt.title('Model accuracy')\n",
    "plt.ylabel('Accuracy')\n",
    "plt.xlabel('Epoch')\n",
    "plt.legend(['Train','Valid'],loc='upper left')\n",
    "plt.show()\n",
    "\n",
    "plt.plot(history.history['loss'])\n",
    "plt.plot(history.history['val_loss'])\n",
    "plt.title('Model loss')\n",
    "plt.ylabel('Loss')\n",
    "plt.xlabel('Epoch')\n",
    "plt.legend(['Train','Valid'],loc='upper left')\n",
    "plt.show()"
   ]
  },
  {
   "cell_type": "code",
   "execution_count": 21,
   "id": "5450d945",
   "metadata": {},
   "outputs": [
    {
     "name": "stdout",
     "output_type": "stream",
     "text": [
      "Model: \"sequential_1\"\n",
      "_________________________________________________________________\n",
      " Layer (type)                Output Shape              Param #   \n",
      "=================================================================\n",
      " embedding_1 (Embedding)     (None, 64, 100)           806300    \n",
      "                                                                 \n",
      " lstm_1 (LSTM)               (None, 64)                42240     \n",
      "                                                                 \n",
      " FC1 (Dense)                 (None, 64)                4160      \n",
      "                                                                 \n",
      " dropout_1 (Dropout)         (None, 64)                0         \n",
      "                                                                 \n",
      " FC2 (Dense)                 (None, 2)                 130       \n",
      "                                                                 \n",
      "=================================================================\n",
      "Total params: 852,830\n",
      "Trainable params: 852,830\n",
      "Non-trainable params: 0\n",
      "_________________________________________________________________\n",
      "Epoch 1/30\n",
      "154/154 [==============================] - 11s 53ms/step - loss: 0.7028 - accuracy: 0.5743 - val_loss: 0.5570 - val_accuracy: 0.7208\n",
      "Epoch 2/30\n",
      "154/154 [==============================] - 8s 49ms/step - loss: 0.5984 - accuracy: 0.7027 - val_loss: 0.6049 - val_accuracy: 0.6981\n",
      "Epoch 3/30\n",
      "154/154 [==============================] - 7s 48ms/step - loss: 0.5388 - accuracy: 0.7482 - val_loss: 0.5681 - val_accuracy: 0.7208\n",
      "Epoch 4/30\n",
      "154/154 [==============================] - 8s 51ms/step - loss: 0.4535 - accuracy: 0.8075 - val_loss: 0.5813 - val_accuracy: 0.7013\n",
      "Epoch 5/30\n",
      "154/154 [==============================] - 8s 54ms/step - loss: 0.3686 - accuracy: 0.8448 - val_loss: 0.6418 - val_accuracy: 0.7500\n",
      "Epoch 6/30\n",
      "154/154 [==============================] - 8s 53ms/step - loss: 0.3254 - accuracy: 0.8757 - val_loss: 0.5621 - val_accuracy: 0.7597\n",
      "6/6 [==============================] - 1s 16ms/step\n",
      "6/6 [==============================] - 0s 14ms/step - loss: 0.6615 - accuracy: 0.6901\n",
      "Model: \"sequential_2\"\n",
      "_________________________________________________________________\n",
      " Layer (type)                Output Shape              Param #   \n",
      "=================================================================\n",
      " embedding_2 (Embedding)     (None, 64, 100)           806300    \n",
      "                                                                 \n",
      " lstm_2 (LSTM)               (None, 64)                42240     \n",
      "                                                                 \n",
      " FC1 (Dense)                 (None, 64)                4160      \n",
      "                                                                 \n",
      " dropout_2 (Dropout)         (None, 64)                0         \n",
      "                                                                 \n",
      " FC2 (Dense)                 (None, 2)                 130       \n",
      "                                                                 \n",
      "=================================================================\n",
      "Total params: 852,830\n",
      "Trainable params: 852,830\n",
      "Non-trainable params: 0\n",
      "_________________________________________________________________\n",
      "Epoch 1/30\n",
      "154/154 [==============================] - 11s 56ms/step - loss: 0.7066 - accuracy: 0.5946 - val_loss: 0.6249 - val_accuracy: 0.6721\n",
      "Epoch 2/30\n",
      "154/154 [==============================] - 9s 56ms/step - loss: 0.6191 - accuracy: 0.6816 - val_loss: 0.5425 - val_accuracy: 0.7500\n",
      "Epoch 3/30\n",
      "154/154 [==============================] - 8s 52ms/step - loss: 0.5568 - accuracy: 0.7530 - val_loss: 0.5356 - val_accuracy: 0.7597\n",
      "Epoch 4/30\n",
      "154/154 [==============================] - 7s 46ms/step - loss: 0.4695 - accuracy: 0.7945 - val_loss: 0.5290 - val_accuracy: 0.7792\n",
      "Epoch 5/30\n",
      "154/154 [==============================] - 8s 49ms/step - loss: 0.4061 - accuracy: 0.8310 - val_loss: 0.5373 - val_accuracy: 0.7695\n",
      "Epoch 6/30\n",
      "154/154 [==============================] - 8s 55ms/step - loss: 0.3471 - accuracy: 0.8619 - val_loss: 0.5662 - val_accuracy: 0.7468\n",
      "Epoch 7/30\n",
      "154/154 [==============================] - 8s 54ms/step - loss: 0.2456 - accuracy: 0.8993 - val_loss: 0.7894 - val_accuracy: 0.7078\n",
      "Epoch 8/30\n",
      "154/154 [==============================] - 8s 54ms/step - loss: 0.1795 - accuracy: 0.9399 - val_loss: 0.7901 - val_accuracy: 0.7630\n",
      "Epoch 9/30\n",
      "154/154 [==============================] - 9s 57ms/step - loss: 0.1264 - accuracy: 0.9488 - val_loss: 0.8765 - val_accuracy: 0.7240\n",
      "6/6 [==============================] - 1s 15ms/step\n",
      "6/6 [==============================] - 0s 15ms/step - loss: 0.8928 - accuracy: 0.7135\n",
      "Model: \"sequential_3\"\n",
      "_________________________________________________________________\n",
      " Layer (type)                Output Shape              Param #   \n",
      "=================================================================\n",
      " embedding_3 (Embedding)     (None, 64, 100)           806300    \n",
      "                                                                 \n",
      " lstm_3 (LSTM)               (None, 64)                42240     \n",
      "                                                                 \n",
      " FC1 (Dense)                 (None, 64)                4160      \n",
      "                                                                 \n",
      " dropout_3 (Dropout)         (None, 64)                0         \n",
      "                                                                 \n",
      " FC2 (Dense)                 (None, 2)                 130       \n",
      "                                                                 \n",
      "=================================================================\n",
      "Total params: 852,830\n",
      "Trainable params: 852,830\n",
      "Non-trainable params: 0\n",
      "_________________________________________________________________\n",
      "Epoch 1/30\n",
      "154/154 [==============================] - 11s 54ms/step - loss: 0.6861 - accuracy: 0.5995 - val_loss: 0.5817 - val_accuracy: 0.7045\n",
      "Epoch 2/30\n",
      "154/154 [==============================] - 8s 53ms/step - loss: 0.6162 - accuracy: 0.6791 - val_loss: 0.5483 - val_accuracy: 0.7305\n",
      "Epoch 3/30\n",
      "154/154 [==============================] - 8s 52ms/step - loss: 0.5404 - accuracy: 0.7474 - val_loss: 0.5178 - val_accuracy: 0.7662\n",
      "Epoch 4/30\n",
      "154/154 [==============================] - 8s 51ms/step - loss: 0.4634 - accuracy: 0.8075 - val_loss: 0.6151 - val_accuracy: 0.6948\n",
      "Epoch 5/30\n",
      "154/154 [==============================] - 8s 52ms/step - loss: 0.3952 - accuracy: 0.8457 - val_loss: 0.5858 - val_accuracy: 0.7500\n",
      "Epoch 6/30\n",
      "154/154 [==============================] - 8s 51ms/step - loss: 0.3162 - accuracy: 0.8765 - val_loss: 0.9011 - val_accuracy: 0.6656\n",
      "Epoch 7/30\n",
      "154/154 [==============================] - 8s 54ms/step - loss: 0.2355 - accuracy: 0.9163 - val_loss: 0.7524 - val_accuracy: 0.7468\n",
      "Epoch 8/30\n",
      "154/154 [==============================] - 7s 44ms/step - loss: 0.1764 - accuracy: 0.9350 - val_loss: 0.7731 - val_accuracy: 0.7370\n",
      "6/6 [==============================] - 0s 15ms/step\n",
      "6/6 [==============================] - 0s 14ms/step - loss: 0.9803 - accuracy: 0.6550\n",
      "Model: \"sequential_4\"\n",
      "_________________________________________________________________\n",
      " Layer (type)                Output Shape              Param #   \n",
      "=================================================================\n",
      " embedding_4 (Embedding)     (None, 64, 100)           806300    \n",
      "                                                                 \n",
      " lstm_4 (LSTM)               (None, 64)                42240     \n",
      "                                                                 \n",
      " FC1 (Dense)                 (None, 64)                4160      \n",
      "                                                                 \n",
      " dropout_4 (Dropout)         (None, 64)                0         \n",
      "                                                                 \n",
      " FC2 (Dense)                 (None, 2)                 130       \n",
      "                                                                 \n",
      "=================================================================\n",
      "Total params: 852,830\n",
      "Trainable params: 852,830\n",
      "Non-trainable params: 0\n",
      "_________________________________________________________________\n",
      "Epoch 1/30\n",
      "154/154 [==============================] - 11s 55ms/step - loss: 0.7090 - accuracy: 0.5768 - val_loss: 0.5988 - val_accuracy: 0.6753\n",
      "Epoch 2/30\n",
      "154/154 [==============================] - 8s 52ms/step - loss: 0.6250 - accuracy: 0.6962 - val_loss: 0.6007 - val_accuracy: 0.6981\n",
      "Epoch 3/30\n",
      "154/154 [==============================] - 8s 54ms/step - loss: 0.5481 - accuracy: 0.7433 - val_loss: 0.5326 - val_accuracy: 0.7500\n",
      "Epoch 4/30\n",
      "154/154 [==============================] - 8s 52ms/step - loss: 0.4669 - accuracy: 0.7888 - val_loss: 0.5453 - val_accuracy: 0.7662\n",
      "Epoch 5/30\n",
      "154/154 [==============================] - 7s 47ms/step - loss: 0.4112 - accuracy: 0.8392 - val_loss: 0.6874 - val_accuracy: 0.7240\n",
      "Epoch 6/30\n",
      "154/154 [==============================] - 8s 53ms/step - loss: 0.3385 - accuracy: 0.8733 - val_loss: 0.5575 - val_accuracy: 0.7727\n",
      "Epoch 7/30\n",
      "154/154 [==============================] - 9s 55ms/step - loss: 0.2501 - accuracy: 0.9041 - val_loss: 0.6338 - val_accuracy: 0.7403\n",
      "Epoch 8/30\n",
      "154/154 [==============================] - 8s 54ms/step - loss: 0.2004 - accuracy: 0.9253 - val_loss: 0.7801 - val_accuracy: 0.7403\n",
      "6/6 [==============================] - 1s 18ms/step\n",
      "6/6 [==============================] - 0s 15ms/step - loss: 0.7995 - accuracy: 0.7368\n",
      "Model: \"sequential_5\"\n",
      "_________________________________________________________________\n",
      " Layer (type)                Output Shape              Param #   \n",
      "=================================================================\n",
      " embedding_5 (Embedding)     (None, 64, 100)           806300    \n",
      "                                                                 \n",
      " lstm_5 (LSTM)               (None, 64)                42240     \n",
      "                                                                 \n",
      " FC1 (Dense)                 (None, 64)                4160      \n",
      "                                                                 \n",
      " dropout_5 (Dropout)         (None, 64)                0         \n",
      "                                                                 \n",
      " FC2 (Dense)                 (None, 2)                 130       \n",
      "                                                                 \n",
      "=================================================================\n",
      "Total params: 852,830\n",
      "Trainable params: 852,830\n",
      "Non-trainable params: 0\n",
      "_________________________________________________________________\n",
      "Epoch 1/30\n",
      "154/154 [==============================] - 11s 57ms/step - loss: 0.7410 - accuracy: 0.5540 - val_loss: 0.5807 - val_accuracy: 0.6948\n",
      "Epoch 2/30\n",
      "154/154 [==============================] - 8s 53ms/step - loss: 0.6244 - accuracy: 0.6734 - val_loss: 0.5304 - val_accuracy: 0.7597\n",
      "Epoch 3/30\n",
      "154/154 [==============================] - 8s 52ms/step - loss: 0.5354 - accuracy: 0.7392 - val_loss: 0.5282 - val_accuracy: 0.7630\n",
      "Epoch 4/30\n",
      "154/154 [==============================] - 8s 55ms/step - loss: 0.4647 - accuracy: 0.7969 - val_loss: 0.5379 - val_accuracy: 0.7565\n",
      "Epoch 5/30\n",
      "154/154 [==============================] - 7s 48ms/step - loss: 0.3969 - accuracy: 0.8367 - val_loss: 0.5635 - val_accuracy: 0.7630\n",
      "Epoch 6/30\n",
      "154/154 [==============================] - 8s 51ms/step - loss: 0.3291 - accuracy: 0.8676 - val_loss: 0.6427 - val_accuracy: 0.7857\n",
      "Epoch 7/30\n",
      "154/154 [==============================] - 8s 53ms/step - loss: 0.2568 - accuracy: 0.9066 - val_loss: 0.6533 - val_accuracy: 0.7597\n",
      "Epoch 8/30\n",
      "154/154 [==============================] - 8s 53ms/step - loss: 0.1883 - accuracy: 0.9383 - val_loss: 0.7367 - val_accuracy: 0.7370\n",
      "6/6 [==============================] - 1s 15ms/step\n",
      "6/6 [==============================] - 0s 15ms/step - loss: 0.8261 - accuracy: 0.6901\n",
      "Model: \"sequential_6\"\n",
      "_________________________________________________________________\n",
      " Layer (type)                Output Shape              Param #   \n",
      "=================================================================\n",
      " embedding_6 (Embedding)     (None, 64, 100)           806300    \n",
      "                                                                 \n",
      " lstm_6 (LSTM)               (None, 64)                42240     \n",
      "                                                                 \n",
      " FC1 (Dense)                 (None, 64)                4160      \n",
      "                                                                 \n",
      " dropout_6 (Dropout)         (None, 64)                0         \n",
      "                                                                 \n",
      " FC2 (Dense)                 (None, 2)                 130       \n",
      "                                                                 \n",
      "=================================================================\n",
      "Total params: 852,830\n",
      "Trainable params: 852,830\n",
      "Non-trainable params: 0\n",
      "_________________________________________________________________\n",
      "Epoch 1/30\n",
      "154/154 [==============================] - 12s 59ms/step - loss: 0.6938 - accuracy: 0.5890 - val_loss: 0.6314 - val_accuracy: 0.6591\n",
      "Epoch 2/30\n",
      "154/154 [==============================] - 9s 58ms/step - loss: 0.5974 - accuracy: 0.7019 - val_loss: 0.5595 - val_accuracy: 0.7143\n",
      "Epoch 3/30\n",
      "154/154 [==============================] - 9s 56ms/step - loss: 0.5344 - accuracy: 0.7530 - val_loss: 0.5375 - val_accuracy: 0.7695\n",
      "Epoch 4/30\n",
      "154/154 [==============================] - 9s 55ms/step - loss: 0.4526 - accuracy: 0.8026 - val_loss: 0.5509 - val_accuracy: 0.7662\n",
      "Epoch 5/30\n",
      "154/154 [==============================] - 10s 64ms/step - loss: 0.3772 - accuracy: 0.8481 - val_loss: 0.5511 - val_accuracy: 0.7403\n",
      "Epoch 6/30\n",
      "154/154 [==============================] - 8s 52ms/step - loss: 0.3258 - accuracy: 0.8733 - val_loss: 0.5700 - val_accuracy: 0.7305\n",
      "Epoch 7/30\n",
      "154/154 [==============================] - 5s 33ms/step - loss: 0.2501 - accuracy: 0.9058 - val_loss: 0.6041 - val_accuracy: 0.7532\n",
      "Epoch 8/30\n",
      "154/154 [==============================] - 5s 29ms/step - loss: 0.1783 - accuracy: 0.9391 - val_loss: 0.7377 - val_accuracy: 0.7143\n",
      "6/6 [==============================] - 0s 10ms/step\n",
      "6/6 [==============================] - 0s 8ms/step - loss: 0.8687 - accuracy: 0.6959\n",
      "Model: \"sequential_7\"\n",
      "_________________________________________________________________\n",
      " Layer (type)                Output Shape              Param #   \n",
      "=================================================================\n",
      " embedding_7 (Embedding)     (None, 64, 100)           806300    \n",
      "                                                                 \n",
      " lstm_7 (LSTM)               (None, 64)                42240     \n",
      "                                                                 \n",
      " FC1 (Dense)                 (None, 64)                4160      \n",
      "                                                                 \n",
      " dropout_7 (Dropout)         (None, 64)                0         \n",
      "                                                                 \n",
      " FC2 (Dense)                 (None, 2)                 130       \n",
      "                                                                 \n",
      "=================================================================\n",
      "Total params: 852,830\n",
      "Trainable params: 852,830\n",
      "Non-trainable params: 0\n",
      "_________________________________________________________________\n",
      "Epoch 1/30\n",
      "154/154 [==============================] - 7s 38ms/step - loss: 0.7154 - accuracy: 0.5678 - val_loss: 0.5637 - val_accuracy: 0.7565\n",
      "Epoch 2/30\n",
      "154/154 [==============================] - 6s 37ms/step - loss: 0.5930 - accuracy: 0.6962 - val_loss: 0.5712 - val_accuracy: 0.7143\n",
      "Epoch 3/30\n",
      "154/154 [==============================] - 6s 37ms/step - loss: 0.5253 - accuracy: 0.7530 - val_loss: 0.5461 - val_accuracy: 0.7338\n",
      "Epoch 4/30\n",
      "154/154 [==============================] - 6s 36ms/step - loss: 0.4740 - accuracy: 0.7937 - val_loss: 0.5193 - val_accuracy: 0.7792\n",
      "Epoch 5/30\n",
      "154/154 [==============================] - 5s 34ms/step - loss: 0.3881 - accuracy: 0.8359 - val_loss: 0.6345 - val_accuracy: 0.7403\n",
      "Epoch 6/30\n",
      "154/154 [==============================] - 5s 32ms/step - loss: 0.3322 - accuracy: 0.8700 - val_loss: 0.5976 - val_accuracy: 0.7370\n",
      "Epoch 7/30\n",
      "154/154 [==============================] - 5s 32ms/step - loss: 0.2392 - accuracy: 0.9082 - val_loss: 0.6740 - val_accuracy: 0.7695\n",
      "Epoch 8/30\n",
      "154/154 [==============================] - 5s 34ms/step - loss: 0.1940 - accuracy: 0.9366 - val_loss: 0.7019 - val_accuracy: 0.7468\n",
      "Epoch 9/30\n",
      "154/154 [==============================] - 6s 36ms/step - loss: 0.1347 - accuracy: 0.9561 - val_loss: 0.7669 - val_accuracy: 0.7435\n",
      "6/6 [==============================] - 0s 10ms/step\n",
      "6/6 [==============================] - 0s 8ms/step - loss: 0.9021 - accuracy: 0.7135\n",
      "Model: \"sequential_8\"\n",
      "_________________________________________________________________\n",
      " Layer (type)                Output Shape              Param #   \n",
      "=================================================================\n",
      " embedding_8 (Embedding)     (None, 64, 100)           806300    \n",
      "                                                                 \n",
      " lstm_8 (LSTM)               (None, 64)                42240     \n",
      "                                                                 \n",
      " FC1 (Dense)                 (None, 64)                4160      \n",
      "                                                                 \n",
      " dropout_8 (Dropout)         (None, 64)                0         \n",
      "                                                                 \n",
      " FC2 (Dense)                 (None, 2)                 130       \n",
      "                                                                 \n",
      "=================================================================\n",
      "Total params: 852,830\n",
      "Trainable params: 852,830\n",
      "Non-trainable params: 0\n",
      "_________________________________________________________________\n",
      "Epoch 1/30\n",
      "154/154 [==============================] - 7s 36ms/step - loss: 0.6793 - accuracy: 0.5955 - val_loss: 0.6647 - val_accuracy: 0.5942\n",
      "Epoch 2/30\n",
      "154/154 [==============================] - 5s 33ms/step - loss: 0.6066 - accuracy: 0.6816 - val_loss: 0.5491 - val_accuracy: 0.7338\n",
      "Epoch 3/30\n",
      "154/154 [==============================] - 6s 38ms/step - loss: 0.5465 - accuracy: 0.7392 - val_loss: 0.5474 - val_accuracy: 0.7338\n",
      "Epoch 4/30\n",
      "154/154 [==============================] - 6s 41ms/step - loss: 0.4771 - accuracy: 0.8034 - val_loss: 0.6701 - val_accuracy: 0.7078\n",
      "Epoch 5/30\n",
      "154/154 [==============================] - 6s 40ms/step - loss: 0.4064 - accuracy: 0.8335 - val_loss: 0.5217 - val_accuracy: 0.7792\n",
      "Epoch 6/30\n",
      "154/154 [==============================] - 5s 35ms/step - loss: 0.3365 - accuracy: 0.8700 - val_loss: 0.6143 - val_accuracy: 0.7565\n",
      "Epoch 7/30\n",
      "154/154 [==============================] - 7s 43ms/step - loss: 0.2742 - accuracy: 0.8993 - val_loss: 0.6909 - val_accuracy: 0.7597\n",
      "Epoch 8/30\n",
      "154/154 [==============================] - 8s 49ms/step - loss: 0.2101 - accuracy: 0.9261 - val_loss: 0.7736 - val_accuracy: 0.7500\n",
      "Epoch 9/30\n",
      "154/154 [==============================] - 8s 53ms/step - loss: 0.1455 - accuracy: 0.9472 - val_loss: 1.0374 - val_accuracy: 0.6883\n",
      "Epoch 10/30\n",
      "154/154 [==============================] - 8s 55ms/step - loss: 0.1120 - accuracy: 0.9634 - val_loss: 0.8790 - val_accuracy: 0.7597\n",
      "6/6 [==============================] - 1s 18ms/step\n",
      "6/6 [==============================] - 0s 15ms/step - loss: 1.0771 - accuracy: 0.6784\n",
      "Model: \"sequential_9\"\n",
      "_________________________________________________________________\n",
      " Layer (type)                Output Shape              Param #   \n",
      "=================================================================\n",
      " embedding_9 (Embedding)     (None, 64, 100)           806300    \n",
      "                                                                 \n",
      " lstm_9 (LSTM)               (None, 64)                42240     \n",
      "                                                                 \n",
      " FC1 (Dense)                 (None, 64)                4160      \n",
      "                                                                 \n",
      " dropout_9 (Dropout)         (None, 64)                0         \n",
      "                                                                 \n",
      " FC2 (Dense)                 (None, 2)                 130       \n",
      "                                                                 \n",
      "=================================================================\n",
      "Total params: 852,830\n",
      "Trainable params: 852,830\n",
      "Non-trainable params: 0\n",
      "_________________________________________________________________\n",
      "Epoch 1/30\n",
      "154/154 [==============================] - 12s 64ms/step - loss: 0.7282 - accuracy: 0.5654 - val_loss: 0.5608 - val_accuracy: 0.7370\n",
      "Epoch 2/30\n",
      "154/154 [==============================] - 9s 56ms/step - loss: 0.5862 - accuracy: 0.7173 - val_loss: 0.5824 - val_accuracy: 0.7045\n",
      "Epoch 3/30\n",
      "154/154 [==============================] - 9s 56ms/step - loss: 0.5413 - accuracy: 0.7522 - val_loss: 0.5303 - val_accuracy: 0.7597\n",
      "Epoch 4/30\n",
      "154/154 [==============================] - 8s 51ms/step - loss: 0.4485 - accuracy: 0.7977 - val_loss: 0.6085 - val_accuracy: 0.7370\n",
      "Epoch 5/30\n",
      "154/154 [==============================] - 7s 45ms/step - loss: 0.3845 - accuracy: 0.8383 - val_loss: 0.5364 - val_accuracy: 0.7403\n",
      "Epoch 6/30\n",
      "154/154 [==============================] - 8s 53ms/step - loss: 0.3020 - accuracy: 0.8814 - val_loss: 0.7006 - val_accuracy: 0.7662\n",
      "Epoch 7/30\n",
      "154/154 [==============================] - 8s 54ms/step - loss: 0.2227 - accuracy: 0.9131 - val_loss: 0.7413 - val_accuracy: 0.7532\n",
      "Epoch 8/30\n",
      "154/154 [==============================] - 9s 58ms/step - loss: 0.1623 - accuracy: 0.9423 - val_loss: 0.7299 - val_accuracy: 0.7240\n",
      "6/6 [==============================] - 1s 18ms/step\n",
      "6/6 [==============================] - 0s 16ms/step - loss: 0.6541 - accuracy: 0.7485\n",
      "Model: \"sequential_10\"\n",
      "_________________________________________________________________\n",
      " Layer (type)                Output Shape              Param #   \n",
      "=================================================================\n",
      " embedding_10 (Embedding)    (None, 64, 100)           806300    \n",
      "                                                                 \n",
      " lstm_10 (LSTM)              (None, 64)                42240     \n",
      "                                                                 \n",
      " FC1 (Dense)                 (None, 64)                4160      \n",
      "                                                                 \n",
      " dropout_10 (Dropout)        (None, 64)                0         \n",
      "                                                                 \n",
      " FC2 (Dense)                 (None, 2)                 130       \n",
      "                                                                 \n",
      "=================================================================\n",
      "Total params: 852,830\n",
      "Trainable params: 852,830\n",
      "Non-trainable params: 0\n",
      "_________________________________________________________________\n",
      "Epoch 1/30\n",
      "154/154 [==============================] - 11s 58ms/step - loss: 0.6881 - accuracy: 0.5922 - val_loss: 0.5788 - val_accuracy: 0.7143\n",
      "Epoch 2/30\n",
      "154/154 [==============================] - 8s 53ms/step - loss: 0.5974 - accuracy: 0.7011 - val_loss: 0.5309 - val_accuracy: 0.7468\n",
      "Epoch 3/30\n",
      "154/154 [==============================] - 8s 53ms/step - loss: 0.5280 - accuracy: 0.7620 - val_loss: 0.5323 - val_accuracy: 0.7500\n",
      "Epoch 4/30\n",
      "154/154 [==============================] - 9s 60ms/step - loss: 0.4636 - accuracy: 0.8034 - val_loss: 0.5390 - val_accuracy: 0.7662\n",
      "Epoch 5/30\n",
      "154/154 [==============================] - 8s 53ms/step - loss: 0.3874 - accuracy: 0.8408 - val_loss: 0.5713 - val_accuracy: 0.7597\n",
      "Epoch 6/30\n",
      "154/154 [==============================] - 8s 53ms/step - loss: 0.3230 - accuracy: 0.8830 - val_loss: 0.6189 - val_accuracy: 0.7695\n",
      "Epoch 7/30\n",
      "154/154 [==============================] - 9s 56ms/step - loss: 0.2717 - accuracy: 0.8960 - val_loss: 0.5935 - val_accuracy: 0.7695\n",
      "6/6 [==============================] - 0s 15ms/step\n",
      "6/6 [==============================] - 0s 14ms/step - loss: 0.6807 - accuracy: 0.6901\n"
     ]
    }
   ],
   "source": [
    "score_list=[]\n",
    "for i in range(10):\n",
    "    ## 定义LSTM模型\n",
    "    batch_size = 8\n",
    "    inputs = Input(name='inputs',shape=[maxLen])\n",
    "    embedder = Embedding(len(vocab) + 1, 100, input_length=maxLen, weights=[embedding_matrix], trainable=True)\n",
    "    model=Sequential()\n",
    "    model.add(embedder)\n",
    "    model.add(LSTM(64))\n",
    "    model.add(Dense(64,activation=\"sigmoid\",name=\"FC1\"))\n",
    "    model.add(Dropout(0.4,seed=12))\n",
    "    model.add(Dense(2,activation=\"softmax\",name=\"FC2\"))\n",
    "    model.summary()\n",
    "    model.compile(loss=\"categorical_crossentropy\",optimizer=RMSprop(),metrics=[\"accuracy\"])\n",
    "    #reduce_lr = ReduceLROnPlateau(monitor='val_loss',factor=0.1 ,patience=3, mode='auto')\n",
    "    history=model.fit(trainSeq, trainCate, batch_size, epochs=30,validation_split=0.2, callbacks=[EarlyStopping(monitor='val_loss',patience=5)])\n",
    "    result = model.predict(testSeq)  # 预测样本属于每个类别的概率\n",
    "    score = model.evaluate(testSeq,\n",
    "                               testCate,\n",
    "                               batch_size=32)\n",
    "    score_list.append(score[1])"
   ]
  },
  {
   "cell_type": "code",
   "execution_count": 22,
   "id": "7a7fbe16",
   "metadata": {},
   "outputs": [
    {
     "name": "stdout",
     "output_type": "stream",
     "text": [
      "accuracy:0.7011695921421051\n"
     ]
    }
   ],
   "source": [
    "print('accuracy:'+str(sum(score_list)/len(score_list)))"
   ]
  },
  {
   "cell_type": "code",
   "execution_count": 23,
   "id": "c717fe6f",
   "metadata": {},
   "outputs": [],
   "source": [
    "score_list.sort()"
   ]
  },
  {
   "cell_type": "code",
   "execution_count": 24,
   "id": "205e3cfa",
   "metadata": {},
   "outputs": [
    {
     "data": {
      "text/plain": [
       "[0.6549707651138306,\n",
       " 0.6783625483512878,\n",
       " 0.6900584697723389,\n",
       " 0.6900584697723389,\n",
       " 0.6900584697723389,\n",
       " 0.6959064602851868,\n",
       " 0.7134503126144409,\n",
       " 0.7134503126144409,\n",
       " 0.7368420958518982,\n",
       " 0.7485380172729492]"
      ]
     },
     "execution_count": 24,
     "metadata": {},
     "output_type": "execute_result"
    }
   ],
   "source": [
    "score_list"
   ]
  },
  {
   "cell_type": "code",
   "execution_count": 25,
   "id": "9e00a087",
   "metadata": {},
   "outputs": [
    {
     "data": {
      "text/plain": [
       "0.7063027951452467"
      ]
     },
     "execution_count": 25,
     "metadata": {},
     "output_type": "execute_result"
    }
   ],
   "source": [
    "sum(score_list[1:])/len(score_list[1:])"
   ]
  }
 ],
 "metadata": {
  "kernelspec": {
   "display_name": "Python 3.10.6 ('4222G18_backup')",
   "language": "python",
   "name": "python3"
  },
  "language_info": {
   "codemirror_mode": {
    "name": "ipython",
    "version": 3
   },
   "file_extension": ".py",
   "mimetype": "text/x-python",
   "name": "python",
   "nbconvert_exporter": "python",
   "pygments_lexer": "ipython3",
   "version": "3.10.6"
  },
  "vscode": {
   "interpreter": {
    "hash": "64fb50f4500008f9f404f170e716523d28225753a93c94be3d36e645dbfada09"
   }
  }
 },
 "nbformat": 4,
 "nbformat_minor": 5
}
