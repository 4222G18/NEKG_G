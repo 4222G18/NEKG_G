{
 "cells": [
  {
   "cell_type": "code",
   "execution_count": 43,
   "id": "6f57fdbb",
   "metadata": {},
   "outputs": [
    {
     "data": {
      "text/plain": [
       "'/home/egbert_jing/github/NEKG_G/Final_project'"
      ]
     },
     "execution_count": 43,
     "metadata": {},
     "output_type": "execute_result"
    }
   ],
   "source": [
    "import sys\n",
    "import os\n",
    "path_father = os.path.abspath(r'..')\n",
    "path_father\n",
    "# sys.path.append(path_father)"
   ]
  },
  {
   "cell_type": "markdown",
   "id": "d0d39990",
   "metadata": {},
   "source": [
    "this program only uses word2vec embedding method, which serves as a baseline"
   ]
  },
  {
   "cell_type": "code",
   "execution_count": 44,
   "id": "fce28d96",
   "metadata": {},
   "outputs": [],
   "source": [
    "import pandas as pd\n",
    "import numpy as np\n",
    "import matplotlib.pyplot as plt\n",
    "import seaborn as sns\n",
    "from sklearn import metrics\n",
    "from sklearn.preprocessing import LabelEncoder,OneHotEncoder\n",
    "from keras.models import Model\n",
    "from keras.layers import LSTM, Activation, Dense, Dropout, Input, Embedding\n",
    "from keras.optimizers import RMSprop\n",
    "from keras.preprocessing.text import Tokenizer\n",
    "from keras.preprocessing import sequence\n",
    "from keras.callbacks import EarlyStopping\n",
    "from keras_preprocessing.sequence import pad_sequences\n",
    "from keras.utils.np_utils import to_categorical\n",
    "from keras.models import Sequential\n",
    "from keras.callbacks import ReduceLROnPlateau\n",
    "from keras.models import load_model\n",
    "%matplotlib inline"
   ]
  },
  {
   "cell_type": "code",
   "execution_count": 45,
   "id": "c268b59b",
   "metadata": {},
   "outputs": [],
   "source": [
    "df = pd.read_csv(path_father + \"/df_with_gcs.txt\",sep=',',header=0)"
   ]
  },
  {
   "cell_type": "code",
   "execution_count": 46,
   "id": "e9e0ee5c",
   "metadata": {},
   "outputs": [],
   "source": [
    "#划分训练测试集\n",
    "from sklearn.model_selection import train_test_split\n",
    "\n",
    "train_set, test_set = train_test_split(df, test_size=0.1, random_state=42)"
   ]
  },
  {
   "cell_type": "markdown",
   "id": "59d7c98f",
   "metadata": {},
   "source": [
    "处理词向量"
   ]
  },
  {
   "cell_type": "code",
   "execution_count": 47,
   "id": "12c63f87",
   "metadata": {},
   "outputs": [],
   "source": [
    "from gensim.models import word2vec\n",
    "import logging\n",
    "logging.basicConfig(format='%(asctime)s : %(levelname)s : %(message)s', level=logging.INFO) "
   ]
  },
  {
   "cell_type": "code",
   "execution_count": 48,
   "id": "f13dfd1d",
   "metadata": {},
   "outputs": [],
   "source": [
    "# 切分词汇\n",
    "def cut(data):\n",
    "    cut= [s.split() for s in data['TriageNote'].astype(str)]\n",
    "    return cut"
   ]
  },
  {
   "cell_type": "code",
   "execution_count": 49,
   "id": "94dd810e",
   "metadata": {},
   "outputs": [],
   "source": [
    "train_text=cut(train_set)\n",
    "test_text=cut(test_set)\n",
    "sentences=train_text+test_text"
   ]
  },
  {
   "cell_type": "code",
   "execution_count": 50,
   "id": "2b4b566b",
   "metadata": {},
   "outputs": [
    {
     "data": {
      "text/plain": [
       "57"
      ]
     },
     "execution_count": 50,
     "metadata": {},
     "output_type": "execute_result"
    }
   ],
   "source": [
    "#得到最大句子长度\n",
    "num_list=[len(one) for one in sentences]\n",
    "max(num_list)"
   ]
  },
  {
   "cell_type": "code",
   "execution_count": 51,
   "id": "25aa3ce1",
   "metadata": {},
   "outputs": [],
   "source": [
    "maxLen=64"
   ]
  },
  {
   "cell_type": "code",
   "execution_count": 52,
   "id": "cad599c7",
   "metadata": {},
   "outputs": [],
   "source": [
    "#处理label->one_hot\n",
    "from sklearn.preprocessing import LabelEncoder\n",
    "\n",
    "def encodelabel(data):\n",
    "    le = LabelEncoder()\n",
    "    resultLable=le.fit_transform(data['DISPOSITION'])\n",
    "    return resultLable\n"
   ]
  },
  {
   "cell_type": "code",
   "execution_count": 53,
   "id": "b3dcf8dc",
   "metadata": {},
   "outputs": [],
   "source": [
    "train_lable=encodelabel(train_set)\n",
    "test_lable=encodelabel(test_set)"
   ]
  },
  {
   "cell_type": "code",
   "execution_count": 54,
   "id": "1f35b5d9",
   "metadata": {},
   "outputs": [
    {
     "name": "stderr",
     "output_type": "stream",
     "text": [
      "2022-11-10 23:27:34,181 : INFO : loading Word2Vec object from ./word2vec_all.model\n",
      "2022-11-10 23:27:34,211 : INFO : loading wv recursively from ./word2vec_all.model.wv.* with mmap=None\n",
      "2022-11-10 23:27:34,212 : INFO : setting ignored attribute cum_table to None\n",
      "2022-11-10 23:27:34,420 : INFO : Word2Vec lifecycle event {'fname': './word2vec_all.model', 'datetime': '2022-11-10T23:27:34.420175', 'gensim': '4.2.0', 'python': '3.10.6 (main, Oct 24 2022, 16:07:47) [GCC 11.2.0]', 'platform': 'Linux-5.15.68.1-microsoft-standard-WSL2-x86_64-with-glibc2.35', 'event': 'loaded'}\n"
     ]
    }
   ],
   "source": [
    "wvmodel = word2vec.Word2Vec.load(\"./word2vec_all.model\")"
   ]
  },
  {
   "cell_type": "code",
   "execution_count": 55,
   "id": "26830919",
   "metadata": {},
   "outputs": [],
   "source": [
    "tokenizer=Tokenizer()\n",
    "tokenizer.fit_on_texts(sentences)\n",
    "vocab = tokenizer.word_index "
   ]
  },
  {
   "cell_type": "code",
   "execution_count": 56,
   "id": "d6b9da6f",
   "metadata": {},
   "outputs": [],
   "source": [
    "#特征数字编号，不足的话会在前面补充0\n",
    "trainID = tokenizer.texts_to_sequences(train_text)\n",
    "# print(trainID)\n",
    "testID = tokenizer.texts_to_sequences(test_text)\n",
    "trainSeq=pad_sequences(trainID,maxlen=maxLen)\n",
    "#print(trainSeq)\n",
    "testSeq=pad_sequences(testID,maxlen=maxLen)\n",
    "\n",
    "#标签的独热编码\n",
    "trainCate = to_categorical(train_lable, num_classes=2)  # 将标签转换为one-hot编码\n",
    "#print(trainCate)\n",
    "testCate= to_categorical(test_lable, num_classes=2)  # 将标签转换为one-hot编码"
   ]
  },
  {
   "cell_type": "markdown",
   "id": "a404252e",
   "metadata": {},
   "source": [
    "embedding_matrix = np.zeros((len(vocab) + 1, 100))\n",
    "for word, i in vocab.items():\n",
    "    try:\n",
    "        embedding_vector = wvmodel.wv[str(word)]\n",
    "        embedding_matrix[i] = embedding_vector    \n",
    "    except KeyError:\n",
    "        continue"
   ]
  },
  {
   "cell_type": "code",
   "execution_count": 57,
   "id": "88a8378f",
   "metadata": {},
   "outputs": [],
   "source": [
    "#利用训练后的word2vec自定义Embedding的训练矩阵，每行代表一个词（结合独热码和矩阵乘法理解）\n",
    "embedding_matrix = np.zeros((len(vocab) + 1, 100))\n",
    "for word, i in vocab.items():\n",
    "    try:\n",
    "        if(word.isdigit()==False):#对word用word2vec\n",
    "            embedding_vector = wvmodel.wv[str(word)]\n",
    "        embedding_matrix[i] = embedding_vector    \n",
    "    except KeyError:\n",
    "        continue"
   ]
  },
  {
   "cell_type": "code",
   "execution_count": 58,
   "id": "1fa9c8f0",
   "metadata": {},
   "outputs": [
    {
     "name": "stdout",
     "output_type": "stream",
     "text": [
      "Model: \"sequential_15\"\n",
      "_________________________________________________________________\n",
      " Layer (type)                Output Shape              Param #   \n",
      "=================================================================\n",
      " embedding_15 (Embedding)    (None, 64, 100)           806300    \n",
      "                                                                 \n",
      " lstm_15 (LSTM)              (None, 64)                42240     \n",
      "                                                                 \n",
      " dropout_30 (Dropout)        (None, 64)                0         \n",
      "                                                                 \n",
      " FC1 (Dense)                 (None, 64)                4160      \n",
      "                                                                 \n",
      " dropout_31 (Dropout)        (None, 64)                0         \n",
      "                                                                 \n",
      " FC2 (Dense)                 (None, 2)                 130       \n",
      "                                                                 \n",
      "=================================================================\n",
      "Total params: 852,830\n",
      "Trainable params: 852,830\n",
      "Non-trainable params: 0\n",
      "_________________________________________________________________\n",
      "Epoch 1/15\n",
      "39/39 [==============================] - 5s 79ms/step - loss: 0.6893 - accuracy: 0.5532 - val_loss: 0.6731 - val_accuracy: 0.6494\n",
      "Epoch 2/15\n",
      "39/39 [==============================] - 2s 61ms/step - loss: 0.6673 - accuracy: 0.6288 - val_loss: 0.6554 - val_accuracy: 0.6591\n",
      "Epoch 3/15\n",
      "39/39 [==============================] - 3s 66ms/step - loss: 0.6332 - accuracy: 0.6791 - val_loss: 0.6215 - val_accuracy: 0.7078\n",
      "Epoch 4/15\n",
      "39/39 [==============================] - 3s 65ms/step - loss: 0.6243 - accuracy: 0.6645 - val_loss: 0.6194 - val_accuracy: 0.7143\n",
      "Epoch 5/15\n",
      "39/39 [==============================] - 3s 69ms/step - loss: 0.5959 - accuracy: 0.6921 - val_loss: 0.6357 - val_accuracy: 0.6591\n",
      "Epoch 6/15\n",
      "39/39 [==============================] - 2s 61ms/step - loss: 0.5815 - accuracy: 0.7043 - val_loss: 0.5740 - val_accuracy: 0.7500\n",
      "Epoch 7/15\n",
      "39/39 [==============================] - 2s 62ms/step - loss: 0.5534 - accuracy: 0.7474 - val_loss: 0.5624 - val_accuracy: 0.7532\n",
      "Epoch 8/15\n",
      "39/39 [==============================] - 2s 63ms/step - loss: 0.5460 - accuracy: 0.7920 - val_loss: 0.5594 - val_accuracy: 0.7630\n",
      "Epoch 9/15\n",
      "39/39 [==============================] - 3s 71ms/step - loss: 0.5190 - accuracy: 0.8318 - val_loss: 0.5862 - val_accuracy: 0.7143\n",
      "Epoch 10/15\n",
      "39/39 [==============================] - 3s 65ms/step - loss: 0.4803 - accuracy: 0.8603 - val_loss: 0.5491 - val_accuracy: 0.7468\n",
      "Epoch 11/15\n",
      "39/39 [==============================] - 3s 71ms/step - loss: 0.4634 - accuracy: 0.8652 - val_loss: 0.5573 - val_accuracy: 0.7565\n",
      "Epoch 12/15\n",
      "39/39 [==============================] - 3s 73ms/step - loss: 0.4421 - accuracy: 0.8846 - val_loss: 0.5335 - val_accuracy: 0.7695\n",
      "Epoch 13/15\n",
      "39/39 [==============================] - 3s 67ms/step - loss: 0.4164 - accuracy: 0.8960 - val_loss: 0.5770 - val_accuracy: 0.7175\n",
      "Epoch 14/15\n",
      "39/39 [==============================] - 2s 63ms/step - loss: 0.4015 - accuracy: 0.9123 - val_loss: 0.5511 - val_accuracy: 0.7532\n"
     ]
    },
    {
     "name": "stderr",
     "output_type": "stream",
     "text": [
      "2022-11-10 23:28:20,813 : WARNING : Found untraced functions such as lstm_cell_17_layer_call_fn, lstm_cell_17_layer_call_and_return_conditional_losses while saving (showing 2 of 2). These functions will not be directly callable after loading.\n"
     ]
    },
    {
     "name": "stdout",
     "output_type": "stream",
     "text": [
      "INFO:tensorflow:Assets written to: LSTM/assets\n"
     ]
    },
    {
     "name": "stderr",
     "output_type": "stream",
     "text": [
      "2022-11-10 23:28:21,874 : INFO : Assets written to: LSTM/assets\n"
     ]
    }
   ],
   "source": [
    "## 定义LSTM模型\n",
    "batch_size = 32\n",
    "inputs = Input(name='inputs',shape=[maxLen])\n",
    "embedder = Embedding(len(vocab) + 1, 100, input_length=maxLen, weights=[embedding_matrix], trainable=True)\n",
    "model=Sequential()\n",
    "model.add(embedder)\n",
    "model.add(LSTM(64))\n",
    "model.add(Dropout(0.4))\n",
    "model.add(Dense(64,activation=\"softmax\",name=\"FC1\"))\n",
    "model.add(Dropout(0.4))\n",
    "model.add(Dense(2,activation=\"softmax\",name=\"FC2\"))\n",
    "model.summary()\n",
    "model.compile(loss=\"categorical_crossentropy\",optimizer=RMSprop(),metrics=[\"accuracy\"])\n",
    "#reduce_lr = ReduceLROnPlateau(monitor='val_loss',factor=0.1 ,patience=3, mode='auto')\n",
    "history=model.fit(trainSeq, trainCate, batch_size, epochs=15,validation_split=0.2, callbacks=[EarlyStopping(monitor='val_loss',patience=2)])\n",
    "model.save(\"LSTM\")"
   ]
  },
  {
   "cell_type": "code",
   "execution_count": 59,
   "id": "f6b394d2",
   "metadata": {},
   "outputs": [
    {
     "name": "stdout",
     "output_type": "stream",
     "text": [
      "6/6 [==============================] - 1s 18ms/step\n",
      "6/6 [==============================] - 1s 18ms/step - loss: 0.6327 - accuracy: 0.6725\n",
      "[0.6326813697814941, 0.6725146174430847]\n"
     ]
    }
   ],
   "source": [
    "#预测与评估\n",
    "mainModel = load_model('LSTM')\n",
    "result = mainModel.predict(testSeq)  # 预测样本属于每个类别的概率\n",
    "score = mainModel.evaluate(testSeq,\n",
    "                           testCate,\n",
    "                           batch_size=32)\n",
    "print(score)"
   ]
  },
  {
   "cell_type": "code",
   "execution_count": 60,
   "id": "5cd82ded",
   "metadata": {},
   "outputs": [
    {
     "data": {
      "image/png": "[encoded data removed]",
      "text/plain": [
       "<Figure size 640x480 with 1 Axes>"
      ]
     },
     "metadata": {},
     "output_type": "display_data"
    },
    {
     "data": {
      "image/png": "[encoded data removed]",
      "text/plain": [
       "<Figure size 640x480 with 1 Axes>"
      ]
     },
     "metadata": {},
     "output_type": "display_data"
    }
   ],
   "source": [
    "plt.plot(history.history['accuracy'])\n",
    "plt.plot(history.history['val_accuracy'])\n",
    "plt.title('Model accuracy')\n",
    "plt.ylabel('Accuracy')\n",
    "plt.xlabel('Epoch')\n",
    "plt.legend(['Train','Valid'],loc='upper left')\n",
    "plt.show()\n",
    "\n",
    "plt.plot(history.history['loss'])\n",
    "plt.plot(history.history['val_loss'])\n",
    "plt.title('Model loss')\n",
    "plt.ylabel('Loss')\n",
    "plt.xlabel('Epoch')\n",
    "plt.legend(['Train','Valid'],loc='upper left')\n",
    "plt.show()"
   ]
  },
  {
   "cell_type": "code",
   "execution_count": 61,
   "id": "5450d945",
   "metadata": {},
   "outputs": [
    {
     "name": "stdout",
     "output_type": "stream",
     "text": [
      "Model: \"sequential_16\"\n",
      "_________________________________________________________________\n",
      " Layer (type)                Output Shape              Param #   \n",
      "=================================================================\n",
      " embedding_16 (Embedding)    (None, 64, 100)           806300    \n",
      "                                                                 \n",
      " lstm_16 (LSTM)              (None, 64)                42240     \n",
      "                                                                 \n",
      " dropout_32 (Dropout)        (None, 64)                0         \n",
      "                                                                 \n",
      " FC1 (Dense)                 (None, 64)                4160      \n",
      "                                                                 \n",
      " dropout_33 (Dropout)        (None, 64)                0         \n",
      "                                                                 \n",
      " FC2 (Dense)                 (None, 2)                 130       \n",
      "                                                                 \n",
      "=================================================================\n",
      "Total params: 852,830\n",
      "Trainable params: 852,830\n",
      "Non-trainable params: 0\n",
      "_________________________________________________________________\n",
      "Epoch 1/15\n",
      "39/39 [==============================] - 6s 76ms/step - loss: 0.6894 - accuracy: 0.5500 - val_loss: 0.6729 - val_accuracy: 0.7338\n",
      "Epoch 2/15\n",
      "39/39 [==============================] - 3s 65ms/step - loss: 0.6633 - accuracy: 0.6840 - val_loss: 0.6420 - val_accuracy: 0.7338\n",
      "Epoch 3/15\n",
      "39/39 [==============================] - 2s 64ms/step - loss: 0.6288 - accuracy: 0.7173 - val_loss: 0.6332 - val_accuracy: 0.7273\n",
      "Epoch 4/15\n",
      "39/39 [==============================] - 2s 63ms/step - loss: 0.5938 - accuracy: 0.7620 - val_loss: 0.6020 - val_accuracy: 0.7208\n",
      "Epoch 5/15\n",
      "39/39 [==============================] - 3s 66ms/step - loss: 0.5819 - accuracy: 0.7709 - val_loss: 0.5890 - val_accuracy: 0.7435\n",
      "Epoch 6/15\n",
      "39/39 [==============================] - 2s 64ms/step - loss: 0.5489 - accuracy: 0.8050 - val_loss: 0.6476 - val_accuracy: 0.6234\n",
      "Epoch 7/15\n",
      "39/39 [==============================] - 3s 66ms/step - loss: 0.5279 - accuracy: 0.8180 - val_loss: 0.5680 - val_accuracy: 0.7662\n",
      "Epoch 8/15\n",
      "39/39 [==============================] - 3s 66ms/step - loss: 0.5072 - accuracy: 0.8262 - val_loss: 0.5668 - val_accuracy: 0.7435\n",
      "Epoch 9/15\n",
      "39/39 [==============================] - 3s 69ms/step - loss: 0.4870 - accuracy: 0.8343 - val_loss: 0.5926 - val_accuracy: 0.6948\n",
      "Epoch 10/15\n",
      "39/39 [==============================] - 3s 69ms/step - loss: 0.4576 - accuracy: 0.8570 - val_loss: 0.5545 - val_accuracy: 0.7468\n",
      "Epoch 11/15\n",
      "39/39 [==============================] - 3s 69ms/step - loss: 0.4362 - accuracy: 0.8781 - val_loss: 0.5487 - val_accuracy: 0.7468\n",
      "Epoch 12/15\n",
      "39/39 [==============================] - 3s 74ms/step - loss: 0.4101 - accuracy: 0.8863 - val_loss: 0.5442 - val_accuracy: 0.7662\n",
      "Epoch 13/15\n",
      "39/39 [==============================] - 3s 69ms/step - loss: 0.3658 - accuracy: 0.9090 - val_loss: 0.6113 - val_accuracy: 0.7078\n",
      "Epoch 14/15\n",
      "39/39 [==============================] - 3s 70ms/step - loss: 0.3576 - accuracy: 0.9147 - val_loss: 0.5633 - val_accuracy: 0.7338\n",
      "6/6 [==============================] - 1s 19ms/step\n",
      "6/6 [==============================] - 0s 17ms/step - loss: 0.5687 - accuracy: 0.7135\n",
      "Model: \"sequential_17\"\n",
      "_________________________________________________________________\n",
      " Layer (type)                Output Shape              Param #   \n",
      "=================================================================\n",
      " embedding_17 (Embedding)    (None, 64, 100)           806300    \n",
      "                                                                 \n",
      " lstm_17 (LSTM)              (None, 64)                42240     \n",
      "                                                                 \n",
      " dropout_34 (Dropout)        (None, 64)                0         \n",
      "                                                                 \n",
      " FC1 (Dense)                 (None, 64)                4160      \n",
      "                                                                 \n",
      " dropout_35 (Dropout)        (None, 64)                0         \n",
      "                                                                 \n",
      " FC2 (Dense)                 (None, 2)                 130       \n",
      "                                                                 \n",
      "=================================================================\n",
      "Total params: 852,830\n",
      "Trainable params: 852,830\n",
      "Non-trainable params: 0\n",
      "_________________________________________________________________\n",
      "Epoch 1/15\n",
      "39/39 [==============================] - 6s 78ms/step - loss: 0.6892 - accuracy: 0.5313 - val_loss: 0.6812 - val_accuracy: 0.5649\n",
      "Epoch 2/15\n",
      "39/39 [==============================] - 3s 65ms/step - loss: 0.6616 - accuracy: 0.6783 - val_loss: 0.6360 - val_accuracy: 0.7338\n",
      "Epoch 3/15\n",
      "39/39 [==============================] - 2s 61ms/step - loss: 0.6400 - accuracy: 0.6986 - val_loss: 0.6502 - val_accuracy: 0.6688\n",
      "Epoch 4/15\n",
      "39/39 [==============================] - 2s 56ms/step - loss: 0.6395 - accuracy: 0.6799 - val_loss: 0.6172 - val_accuracy: 0.7305\n",
      "Epoch 5/15\n",
      "39/39 [==============================] - 3s 71ms/step - loss: 0.6040 - accuracy: 0.7392 - val_loss: 0.5973 - val_accuracy: 0.7403\n",
      "Epoch 6/15\n",
      "39/39 [==============================] - 3s 71ms/step - loss: 0.6033 - accuracy: 0.7344 - val_loss: 0.6696 - val_accuracy: 0.6104\n",
      "Epoch 7/15\n",
      "39/39 [==============================] - 3s 71ms/step - loss: 0.5685 - accuracy: 0.7782 - val_loss: 0.5814 - val_accuracy: 0.7532\n",
      "Epoch 8/15\n",
      "39/39 [==============================] - 3s 65ms/step - loss: 0.5510 - accuracy: 0.7994 - val_loss: 0.5712 - val_accuracy: 0.7695\n",
      "Epoch 9/15\n",
      "39/39 [==============================] - 3s 67ms/step - loss: 0.5225 - accuracy: 0.8253 - val_loss: 0.5577 - val_accuracy: 0.7792\n",
      "Epoch 10/15\n",
      "39/39 [==============================] - 3s 67ms/step - loss: 0.4886 - accuracy: 0.8546 - val_loss: 0.5371 - val_accuracy: 0.7857\n",
      "Epoch 11/15\n",
      "39/39 [==============================] - 3s 66ms/step - loss: 0.4652 - accuracy: 0.8676 - val_loss: 0.5516 - val_accuracy: 0.7532\n",
      "Epoch 12/15\n",
      "39/39 [==============================] - 3s 70ms/step - loss: 0.4356 - accuracy: 0.8887 - val_loss: 0.5539 - val_accuracy: 0.7500\n",
      "6/6 [==============================] - 1s 19ms/step\n",
      "6/6 [==============================] - 0s 20ms/step - loss: 0.5989 - accuracy: 0.6901\n",
      "Model: \"sequential_18\"\n",
      "_________________________________________________________________\n",
      " Layer (type)                Output Shape              Param #   \n",
      "=================================================================\n",
      " embedding_18 (Embedding)    (None, 64, 100)           806300    \n",
      "                                                                 \n",
      " lstm_18 (LSTM)              (None, 64)                42240     \n",
      "                                                                 \n",
      " dropout_36 (Dropout)        (None, 64)                0         \n",
      "                                                                 \n",
      " FC1 (Dense)                 (None, 64)                4160      \n",
      "                                                                 \n",
      " dropout_37 (Dropout)        (None, 64)                0         \n",
      "                                                                 \n",
      " FC2 (Dense)                 (None, 2)                 130       \n",
      "                                                                 \n",
      "=================================================================\n",
      "Total params: 852,830\n",
      "Trainable params: 852,830\n",
      "Non-trainable params: 0\n",
      "_________________________________________________________________\n",
      "Epoch 1/15\n",
      "39/39 [==============================] - 7s 88ms/step - loss: 0.6899 - accuracy: 0.5199 - val_loss: 0.6688 - val_accuracy: 0.7500\n",
      "Epoch 2/15\n",
      "39/39 [==============================] - 3s 72ms/step - loss: 0.6666 - accuracy: 0.6523 - val_loss: 0.6549 - val_accuracy: 0.6299\n",
      "Epoch 3/15\n",
      "39/39 [==============================] - 3s 76ms/step - loss: 0.6418 - accuracy: 0.6881 - val_loss: 0.6607 - val_accuracy: 0.6136\n",
      "Epoch 4/15\n",
      "39/39 [==============================] - 3s 72ms/step - loss: 0.6182 - accuracy: 0.7254 - val_loss: 0.6111 - val_accuracy: 0.7045\n",
      "Epoch 5/15\n",
      "39/39 [==============================] - 3s 72ms/step - loss: 0.5913 - accuracy: 0.7620 - val_loss: 0.6400 - val_accuracy: 0.6526\n",
      "Epoch 6/15\n",
      "39/39 [==============================] - 3s 72ms/step - loss: 0.5818 - accuracy: 0.7660 - val_loss: 0.6471 - val_accuracy: 0.6234\n",
      "6/6 [==============================] - 1s 19ms/step\n",
      "6/6 [==============================] - 0s 23ms/step - loss: 0.6634 - accuracy: 0.6199\n",
      "Model: \"sequential_19\"\n",
      "_________________________________________________________________\n",
      " Layer (type)                Output Shape              Param #   \n",
      "=================================================================\n",
      " embedding_19 (Embedding)    (None, 64, 100)           806300    \n",
      "                                                                 \n",
      " lstm_19 (LSTM)              (None, 64)                42240     \n",
      "                                                                 \n",
      " dropout_38 (Dropout)        (None, 64)                0         \n",
      "                                                                 \n",
      " FC1 (Dense)                 (None, 64)                4160      \n",
      "                                                                 \n",
      " dropout_39 (Dropout)        (None, 64)                0         \n",
      "                                                                 \n",
      " FC2 (Dense)                 (None, 2)                 130       \n",
      "                                                                 \n",
      "=================================================================\n",
      "Total params: 852,830\n",
      "Trainable params: 852,830\n",
      "Non-trainable params: 0\n",
      "_________________________________________________________________\n",
      "Epoch 1/15\n",
      "39/39 [==============================] - 7s 84ms/step - loss: 0.6888 - accuracy: 0.5573 - val_loss: 0.6881 - val_accuracy: 0.5422\n",
      "Epoch 2/15\n",
      "39/39 [==============================] - 3s 65ms/step - loss: 0.6596 - accuracy: 0.6872 - val_loss: 0.6553 - val_accuracy: 0.6623\n",
      "Epoch 3/15\n",
      "39/39 [==============================] - 3s 72ms/step - loss: 0.6383 - accuracy: 0.7043 - val_loss: 0.6525 - val_accuracy: 0.6429\n",
      "Epoch 4/15\n",
      "39/39 [==============================] - 3s 69ms/step - loss: 0.6193 - accuracy: 0.7230 - val_loss: 0.6172 - val_accuracy: 0.7240\n",
      "Epoch 5/15\n",
      "39/39 [==============================] - 3s 72ms/step - loss: 0.5855 - accuracy: 0.7709 - val_loss: 0.6465 - val_accuracy: 0.6623\n",
      "Epoch 6/15\n",
      "39/39 [==============================] - 3s 73ms/step - loss: 0.5690 - accuracy: 0.7888 - val_loss: 0.5908 - val_accuracy: 0.7370\n",
      "Epoch 7/15\n",
      "39/39 [==============================] - 3s 74ms/step - loss: 0.5468 - accuracy: 0.7953 - val_loss: 0.5941 - val_accuracy: 0.7273\n",
      "Epoch 8/15\n",
      "39/39 [==============================] - 3s 74ms/step - loss: 0.5132 - accuracy: 0.8294 - val_loss: 0.6707 - val_accuracy: 0.6201\n",
      "6/6 [==============================] - 1s 19ms/step\n",
      "6/6 [==============================] - 0s 20ms/step - loss: 0.6872 - accuracy: 0.6082\n",
      "Model: \"sequential_20\"\n",
      "_________________________________________________________________\n",
      " Layer (type)                Output Shape              Param #   \n",
      "=================================================================\n",
      " embedding_20 (Embedding)    (None, 64, 100)           806300    \n",
      "                                                                 \n",
      " lstm_20 (LSTM)              (None, 64)                42240     \n",
      "                                                                 \n",
      " dropout_40 (Dropout)        (None, 64)                0         \n",
      "                                                                 \n",
      " FC1 (Dense)                 (None, 64)                4160      \n",
      "                                                                 \n",
      " dropout_41 (Dropout)        (None, 64)                0         \n",
      "                                                                 \n",
      " FC2 (Dense)                 (None, 2)                 130       \n",
      "                                                                 \n",
      "=================================================================\n",
      "Total params: 852,830\n",
      "Trainable params: 852,830\n",
      "Non-trainable params: 0\n",
      "_________________________________________________________________\n",
      "Epoch 1/15\n",
      "39/39 [==============================] - 8s 99ms/step - loss: 0.6898 - accuracy: 0.5508 - val_loss: 0.6746 - val_accuracy: 0.7175\n",
      "Epoch 2/15\n",
      "39/39 [==============================] - 3s 77ms/step - loss: 0.6656 - accuracy: 0.6669 - val_loss: 0.6960 - val_accuracy: 0.5292\n",
      "Epoch 3/15\n",
      "39/39 [==============================] - 3s 68ms/step - loss: 0.6442 - accuracy: 0.6913 - val_loss: 0.6387 - val_accuracy: 0.6981\n",
      "Epoch 4/15\n",
      "39/39 [==============================] - 2s 63ms/step - loss: 0.6317 - accuracy: 0.7011 - val_loss: 0.6330 - val_accuracy: 0.7013\n",
      "Epoch 5/15\n",
      "39/39 [==============================] - 2s 64ms/step - loss: 0.6055 - accuracy: 0.7474 - val_loss: 0.6055 - val_accuracy: 0.7208\n",
      "Epoch 6/15\n",
      "39/39 [==============================] - 2s 61ms/step - loss: 0.5730 - accuracy: 0.7815 - val_loss: 0.6767 - val_accuracy: 0.6039\n",
      "Epoch 7/15\n",
      "39/39 [==============================] - 3s 67ms/step - loss: 0.5540 - accuracy: 0.7864 - val_loss: 0.6678 - val_accuracy: 0.6169\n",
      "6/6 [==============================] - 1s 17ms/step\n",
      "6/6 [==============================] - 0s 20ms/step - loss: 0.6786 - accuracy: 0.6199\n",
      "Model: \"sequential_21\"\n",
      "_________________________________________________________________\n",
      " Layer (type)                Output Shape              Param #   \n",
      "=================================================================\n",
      " embedding_21 (Embedding)    (None, 64, 100)           806300    \n",
      "                                                                 \n",
      " lstm_21 (LSTM)              (None, 64)                42240     \n",
      "                                                                 \n",
      " dropout_42 (Dropout)        (None, 64)                0         \n",
      "                                                                 \n",
      " FC1 (Dense)                 (None, 64)                4160      \n",
      "                                                                 \n",
      " dropout_43 (Dropout)        (None, 64)                0         \n",
      "                                                                 \n",
      " FC2 (Dense)                 (None, 2)                 130       \n",
      "                                                                 \n",
      "=================================================================\n",
      "Total params: 852,830\n",
      "Trainable params: 852,830\n",
      "Non-trainable params: 0\n",
      "_________________________________________________________________\n",
      "Epoch 1/15\n",
      "39/39 [==============================] - 7s 95ms/step - loss: 0.6891 - accuracy: 0.5361 - val_loss: 0.6653 - val_accuracy: 0.7403\n",
      "Epoch 2/15\n",
      "39/39 [==============================] - 3s 71ms/step - loss: 0.6690 - accuracy: 0.6499 - val_loss: 0.6471 - val_accuracy: 0.7078\n",
      "Epoch 3/15\n",
      "39/39 [==============================] - 3s 71ms/step - loss: 0.6472 - accuracy: 0.6856 - val_loss: 0.6549 - val_accuracy: 0.6429\n",
      "Epoch 4/15\n",
      "39/39 [==============================] - 3s 73ms/step - loss: 0.6443 - accuracy: 0.6824 - val_loss: 0.6227 - val_accuracy: 0.7208\n",
      "Epoch 5/15\n",
      "39/39 [==============================] - 3s 70ms/step - loss: 0.6024 - accuracy: 0.7498 - val_loss: 0.6109 - val_accuracy: 0.7045\n",
      "Epoch 6/15\n",
      "39/39 [==============================] - 3s 64ms/step - loss: 0.5890 - accuracy: 0.7587 - val_loss: 0.6400 - val_accuracy: 0.6656\n",
      "Epoch 7/15\n",
      "39/39 [==============================] - 3s 66ms/step - loss: 0.5975 - accuracy: 0.7400 - val_loss: 0.5768 - val_accuracy: 0.7403\n",
      "Epoch 8/15\n",
      "39/39 [==============================] - 3s 65ms/step - loss: 0.5518 - accuracy: 0.7985 - val_loss: 0.5946 - val_accuracy: 0.7208\n",
      "Epoch 9/15\n",
      "39/39 [==============================] - 3s 71ms/step - loss: 0.5245 - accuracy: 0.8205 - val_loss: 0.5755 - val_accuracy: 0.7370\n",
      "Epoch 10/15\n",
      "39/39 [==============================] - 3s 72ms/step - loss: 0.5049 - accuracy: 0.8392 - val_loss: 0.5607 - val_accuracy: 0.7565\n",
      "Epoch 11/15\n",
      "39/39 [==============================] - 3s 72ms/step - loss: 0.4675 - accuracy: 0.8635 - val_loss: 0.5886 - val_accuracy: 0.7305\n",
      "Epoch 12/15\n",
      "39/39 [==============================] - 3s 75ms/step - loss: 0.4460 - accuracy: 0.8798 - val_loss: 0.6307 - val_accuracy: 0.6753\n",
      "6/6 [==============================] - 1s 18ms/step\n",
      "6/6 [==============================] - 0s 19ms/step - loss: 0.6584 - accuracy: 0.6491\n",
      "Model: \"sequential_22\"\n",
      "_________________________________________________________________\n",
      " Layer (type)                Output Shape              Param #   \n",
      "=================================================================\n",
      " embedding_22 (Embedding)    (None, 64, 100)           806300    \n",
      "                                                                 \n",
      " lstm_22 (LSTM)              (None, 64)                42240     \n",
      "                                                                 \n",
      " dropout_44 (Dropout)        (None, 64)                0         \n",
      "                                                                 \n",
      " FC1 (Dense)                 (None, 64)                4160      \n",
      "                                                                 \n",
      " dropout_45 (Dropout)        (None, 64)                0         \n",
      "                                                                 \n",
      " FC2 (Dense)                 (None, 2)                 130       \n",
      "                                                                 \n",
      "=================================================================\n",
      "Total params: 852,830\n",
      "Trainable params: 852,830\n",
      "Non-trainable params: 0\n",
      "_________________________________________________________________\n",
      "Epoch 1/15\n",
      "39/39 [==============================] - 8s 83ms/step - loss: 0.6886 - accuracy: 0.5402 - val_loss: 0.6772 - val_accuracy: 0.6136\n",
      "Epoch 2/15\n",
      "39/39 [==============================] - 2s 62ms/step - loss: 0.6780 - accuracy: 0.6304 - val_loss: 0.6665 - val_accuracy: 0.6461\n",
      "Epoch 3/15\n",
      "39/39 [==============================] - 2s 61ms/step - loss: 0.6487 - accuracy: 0.6921 - val_loss: 0.6351 - val_accuracy: 0.6981\n",
      "Epoch 4/15\n",
      "39/39 [==============================] - 2s 60ms/step - loss: 0.6229 - accuracy: 0.7295 - val_loss: 0.6221 - val_accuracy: 0.6883\n",
      "Epoch 5/15\n",
      "39/39 [==============================] - 2s 62ms/step - loss: 0.5985 - accuracy: 0.7571 - val_loss: 0.5982 - val_accuracy: 0.7273\n",
      "Epoch 6/15\n",
      "39/39 [==============================] - 2s 59ms/step - loss: 0.6003 - accuracy: 0.7335 - val_loss: 0.6317 - val_accuracy: 0.6688\n",
      "Epoch 7/15\n",
      "39/39 [==============================] - 3s 66ms/step - loss: 0.5782 - accuracy: 0.7628 - val_loss: 0.5813 - val_accuracy: 0.7370\n",
      "Epoch 8/15\n",
      "39/39 [==============================] - 3s 67ms/step - loss: 0.5469 - accuracy: 0.7896 - val_loss: 0.5761 - val_accuracy: 0.7143\n",
      "Epoch 9/15\n",
      "39/39 [==============================] - 3s 72ms/step - loss: 0.5255 - accuracy: 0.8123 - val_loss: 0.6208 - val_accuracy: 0.6786\n",
      "Epoch 10/15\n",
      "39/39 [==============================] - 3s 71ms/step - loss: 0.4977 - accuracy: 0.8286 - val_loss: 0.5487 - val_accuracy: 0.7565\n",
      "Epoch 11/15\n",
      "39/39 [==============================] - 3s 72ms/step - loss: 0.4692 - accuracy: 0.8570 - val_loss: 0.5764 - val_accuracy: 0.7370\n",
      "Epoch 12/15\n",
      "39/39 [==============================] - 3s 71ms/step - loss: 0.4593 - accuracy: 0.8554 - val_loss: 0.5668 - val_accuracy: 0.7143\n",
      "6/6 [==============================] - 1s 18ms/step\n",
      "6/6 [==============================] - 0s 19ms/step - loss: 0.5838 - accuracy: 0.7251\n",
      "Model: \"sequential_23\"\n",
      "_________________________________________________________________\n",
      " Layer (type)                Output Shape              Param #   \n",
      "=================================================================\n",
      " embedding_23 (Embedding)    (None, 64, 100)           806300    \n",
      "                                                                 \n",
      " lstm_23 (LSTM)              (None, 64)                42240     \n",
      "                                                                 \n",
      " dropout_46 (Dropout)        (None, 64)                0         \n",
      "                                                                 \n",
      " FC1 (Dense)                 (None, 64)                4160      \n",
      "                                                                 \n",
      " dropout_47 (Dropout)        (None, 64)                0         \n",
      "                                                                 \n",
      " FC2 (Dense)                 (None, 2)                 130       \n",
      "                                                                 \n",
      "=================================================================\n",
      "Total params: 852,830\n",
      "Trainable params: 852,830\n",
      "Non-trainable params: 0\n",
      "_________________________________________________________________\n",
      "Epoch 1/15\n",
      "39/39 [==============================] - 7s 88ms/step - loss: 0.6912 - accuracy: 0.5305 - val_loss: 0.6887 - val_accuracy: 0.5260\n",
      "Epoch 2/15\n",
      "39/39 [==============================] - 2s 61ms/step - loss: 0.6787 - accuracy: 0.6320 - val_loss: 0.6738 - val_accuracy: 0.6299\n",
      "Epoch 3/15\n",
      "39/39 [==============================] - 2s 61ms/step - loss: 0.6544 - accuracy: 0.6791 - val_loss: 0.6452 - val_accuracy: 0.7013\n",
      "Epoch 4/15\n",
      "39/39 [==============================] - 3s 67ms/step - loss: 0.6220 - accuracy: 0.7262 - val_loss: 0.6593 - val_accuracy: 0.6201\n",
      "Epoch 5/15\n",
      "39/39 [==============================] - 3s 73ms/step - loss: 0.6131 - accuracy: 0.7376 - val_loss: 0.6290 - val_accuracy: 0.6623\n",
      "Epoch 6/15\n",
      "39/39 [==============================] - 3s 72ms/step - loss: 0.5775 - accuracy: 0.7815 - val_loss: 0.5870 - val_accuracy: 0.7500\n",
      "Epoch 7/15\n",
      "39/39 [==============================] - 3s 70ms/step - loss: 0.5570 - accuracy: 0.7839 - val_loss: 0.5796 - val_accuracy: 0.7468\n",
      "Epoch 8/15\n",
      "39/39 [==============================] - 3s 73ms/step - loss: 0.5311 - accuracy: 0.8075 - val_loss: 0.5813 - val_accuracy: 0.7338\n",
      "Epoch 9/15\n",
      "39/39 [==============================] - 3s 71ms/step - loss: 0.5141 - accuracy: 0.8180 - val_loss: 0.5811 - val_accuracy: 0.7175\n",
      "6/6 [==============================] - 1s 19ms/step\n",
      "6/6 [==============================] - 0s 18ms/step - loss: 0.6262 - accuracy: 0.6550\n",
      "Model: \"sequential_24\"\n",
      "_________________________________________________________________\n",
      " Layer (type)                Output Shape              Param #   \n",
      "=================================================================\n",
      " embedding_24 (Embedding)    (None, 64, 100)           806300    \n",
      "                                                                 \n",
      " lstm_24 (LSTM)              (None, 64)                42240     \n",
      "                                                                 \n",
      " dropout_48 (Dropout)        (None, 64)                0         \n",
      "                                                                 \n",
      " FC1 (Dense)                 (None, 64)                4160      \n",
      "                                                                 \n",
      " dropout_49 (Dropout)        (None, 64)                0         \n",
      "                                                                 \n",
      " FC2 (Dense)                 (None, 2)                 130       \n",
      "                                                                 \n",
      "=================================================================\n",
      "Total params: 852,830\n",
      "Trainable params: 852,830\n",
      "Non-trainable params: 0\n",
      "_________________________________________________________________\n",
      "Epoch 1/15\n",
      "39/39 [==============================] - 7s 95ms/step - loss: 0.6897 - accuracy: 0.5459 - val_loss: 0.6859 - val_accuracy: 0.5812\n",
      "Epoch 2/15\n",
      "39/39 [==============================] - 3s 66ms/step - loss: 0.6606 - accuracy: 0.6848 - val_loss: 0.6385 - val_accuracy: 0.7305\n",
      "Epoch 3/15\n",
      "39/39 [==============================] - 2s 62ms/step - loss: 0.6389 - accuracy: 0.7076 - val_loss: 0.6219 - val_accuracy: 0.7305\n",
      "Epoch 4/15\n",
      "39/39 [==============================] - 3s 69ms/step - loss: 0.6062 - accuracy: 0.7539 - val_loss: 0.6007 - val_accuracy: 0.7532\n",
      "Epoch 5/15\n",
      "39/39 [==============================] - 3s 70ms/step - loss: 0.5730 - accuracy: 0.7945 - val_loss: 0.5805 - val_accuracy: 0.7565\n",
      "Epoch 6/15\n",
      "39/39 [==============================] - 3s 71ms/step - loss: 0.5451 - accuracy: 0.7985 - val_loss: 0.5753 - val_accuracy: 0.7565\n",
      "Epoch 7/15\n",
      "39/39 [==============================] - 3s 71ms/step - loss: 0.5195 - accuracy: 0.8286 - val_loss: 0.5525 - val_accuracy: 0.7760\n",
      "Epoch 8/15\n",
      "39/39 [==============================] - 3s 74ms/step - loss: 0.4954 - accuracy: 0.8343 - val_loss: 0.5448 - val_accuracy: 0.7727\n",
      "Epoch 9/15\n",
      "39/39 [==============================] - 3s 70ms/step - loss: 0.4751 - accuracy: 0.8530 - val_loss: 0.5602 - val_accuracy: 0.7532\n",
      "Epoch 10/15\n",
      "39/39 [==============================] - 3s 72ms/step - loss: 0.4507 - accuracy: 0.8627 - val_loss: 0.5229 - val_accuracy: 0.8019\n",
      "Epoch 11/15\n",
      "39/39 [==============================] - 3s 71ms/step - loss: 0.4205 - accuracy: 0.8838 - val_loss: 0.5235 - val_accuracy: 0.7727\n",
      "Epoch 12/15\n",
      "39/39 [==============================] - 3s 73ms/step - loss: 0.3941 - accuracy: 0.8928 - val_loss: 0.5305 - val_accuracy: 0.7760\n",
      "6/6 [==============================] - 1s 19ms/step\n",
      "6/6 [==============================] - 0s 19ms/step - loss: 0.5893 - accuracy: 0.7310\n",
      "Model: \"sequential_25\"\n",
      "_________________________________________________________________\n",
      " Layer (type)                Output Shape              Param #   \n",
      "=================================================================\n",
      " embedding_25 (Embedding)    (None, 64, 100)           806300    \n",
      "                                                                 \n",
      " lstm_25 (LSTM)              (None, 64)                42240     \n",
      "                                                                 \n",
      " dropout_50 (Dropout)        (None, 64)                0         \n",
      "                                                                 \n",
      " FC1 (Dense)                 (None, 64)                4160      \n",
      "                                                                 \n",
      " dropout_51 (Dropout)        (None, 64)                0         \n",
      "                                                                 \n",
      " FC2 (Dense)                 (None, 2)                 130       \n",
      "                                                                 \n",
      "=================================================================\n",
      "Total params: 852,830\n",
      "Trainable params: 852,830\n",
      "Non-trainable params: 0\n",
      "_________________________________________________________________\n",
      "Epoch 1/15\n",
      "39/39 [==============================] - 7s 83ms/step - loss: 0.6870 - accuracy: 0.5646 - val_loss: 0.6636 - val_accuracy: 0.7208\n",
      "Epoch 2/15\n",
      "39/39 [==============================] - 3s 68ms/step - loss: 0.6864 - accuracy: 0.5711 - val_loss: 0.6562 - val_accuracy: 0.7175\n",
      "Epoch 3/15\n",
      "39/39 [==============================] - 3s 68ms/step - loss: 0.6521 - accuracy: 0.6889 - val_loss: 0.6345 - val_accuracy: 0.7045\n",
      "Epoch 4/15\n",
      "39/39 [==============================] - 3s 68ms/step - loss: 0.6303 - accuracy: 0.7214 - val_loss: 0.6222 - val_accuracy: 0.7175\n",
      "Epoch 5/15\n",
      "39/39 [==============================] - 3s 67ms/step - loss: 0.6034 - accuracy: 0.7506 - val_loss: 0.6590 - val_accuracy: 0.6331\n",
      "Epoch 6/15\n",
      "39/39 [==============================] - 3s 73ms/step - loss: 0.5928 - accuracy: 0.7669 - val_loss: 0.6001 - val_accuracy: 0.7240\n",
      "Epoch 7/15\n",
      "39/39 [==============================] - 3s 72ms/step - loss: 0.5565 - accuracy: 0.7985 - val_loss: 0.5796 - val_accuracy: 0.7500\n",
      "Epoch 8/15\n",
      "39/39 [==============================] - 3s 73ms/step - loss: 0.5412 - accuracy: 0.8091 - val_loss: 0.5683 - val_accuracy: 0.7532\n",
      "Epoch 9/15\n",
      "39/39 [==============================] - 3s 70ms/step - loss: 0.5138 - accuracy: 0.8335 - val_loss: 0.5627 - val_accuracy: 0.7532\n",
      "Epoch 10/15\n",
      "39/39 [==============================] - 3s 74ms/step - loss: 0.4932 - accuracy: 0.8448 - val_loss: 0.5624 - val_accuracy: 0.7468\n",
      "Epoch 11/15\n",
      "39/39 [==============================] - 3s 68ms/step - loss: 0.4624 - accuracy: 0.8700 - val_loss: 0.5366 - val_accuracy: 0.7825\n",
      "Epoch 12/15\n",
      "39/39 [==============================] - 2s 63ms/step - loss: 0.4313 - accuracy: 0.8863 - val_loss: 0.5484 - val_accuracy: 0.7662\n",
      "Epoch 13/15\n",
      "39/39 [==============================] - 2s 60ms/step - loss: 0.4060 - accuracy: 0.8985 - val_loss: 0.5312 - val_accuracy: 0.7597\n",
      "Epoch 14/15\n",
      "39/39 [==============================] - 2s 61ms/step - loss: 0.3796 - accuracy: 0.9090 - val_loss: 0.5333 - val_accuracy: 0.7695\n",
      "Epoch 15/15\n",
      "39/39 [==============================] - 2s 60ms/step - loss: 0.3510 - accuracy: 0.9277 - val_loss: 0.6100 - val_accuracy: 0.7013\n",
      "6/6 [==============================] - 1s 15ms/step\n",
      "6/6 [==============================] - 0s 16ms/step - loss: 0.6469 - accuracy: 0.6784\n"
     ]
    }
   ],
   "source": [
    "score_list=[]\n",
    "for i in range(10):\n",
    "    ## 定义LSTM模型\n",
    "    batch_size = 32\n",
    "    inputs = Input(name='inputs',shape=[maxLen])\n",
    "    embedder = Embedding(len(vocab) + 1, 100, input_length=maxLen, weights=[embedding_matrix], trainable=True)\n",
    "    model=Sequential()\n",
    "    model.add(embedder)\n",
    "    model.add(LSTM(64))\n",
    "    model.add(Dropout(0.4,seed=12))\n",
    "    model.add(Dense(64,activation=\"softmax\",name=\"FC1\"))\n",
    "    model.add(Dropout(0.4,seed=12))\n",
    "    model.add(Dense(2,activation=\"softmax\",name=\"FC2\"))\n",
    "    model.summary()\n",
    "    model.compile(loss=\"categorical_crossentropy\",optimizer=RMSprop(),metrics=[\"accuracy\"])\n",
    "    #reduce_lr = ReduceLROnPlateau(monitor='val_loss',factor=0.1 ,patience=3, mode='auto')\n",
    "    history=model.fit(trainSeq, trainCate, batch_size, epochs=15,validation_split=0.2, callbacks=[EarlyStopping(monitor='val_loss',patience=2)])\n",
    "    result = model.predict(testSeq)  # 预测样本属于每个类别的概率\n",
    "    score = model.evaluate(testSeq,\n",
    "                               testCate,\n",
    "                               batch_size=32)\n",
    "    score_list.append(score[1])"
   ]
  },
  {
   "cell_type": "code",
   "execution_count": 62,
   "id": "7a7fbe16",
   "metadata": {},
   "outputs": [
    {
     "name": "stdout",
     "output_type": "stream",
     "text": [
      "accuracy:0.6690058529376983\n"
     ]
    }
   ],
   "source": [
    "print('accuracy:'+str(sum(score_list)/len(score_list)))"
   ]
  },
  {
   "cell_type": "code",
   "execution_count": 63,
   "id": "c717fe6f",
   "metadata": {},
   "outputs": [],
   "source": [
    "score_list.sort()"
   ]
  },
  {
   "cell_type": "code",
   "execution_count": 64,
   "id": "205e3cfa",
   "metadata": {},
   "outputs": [
    {
     "data": {
      "text/plain": [
       "[0.6081871390342712,\n",
       " 0.6198830604553223,\n",
       " 0.6198830604553223,\n",
       " 0.6491228342056274,\n",
       " 0.6549707651138306,\n",
       " 0.6783625483512878,\n",
       " 0.6900584697723389,\n",
       " 0.7134503126144409,\n",
       " 0.7251461744308472,\n",
       " 0.7309941649436951]"
      ]
     },
     "execution_count": 64,
     "metadata": {},
     "output_type": "execute_result"
    }
   ],
   "source": [
    "score_list"
   ]
  },
  {
   "cell_type": "code",
   "execution_count": 65,
   "id": "8163c552",
   "metadata": {},
   "outputs": [
    {
     "data": {
      "text/plain": [
       "0.6757634878158569"
      ]
     },
     "execution_count": 65,
     "metadata": {},
     "output_type": "execute_result"
    }
   ],
   "source": [
    "sum(score_list[1:])/len(score_list[1:])"
   ]
  },
  {
   "cell_type": "code",
   "execution_count": null,
   "id": "983e9a74",
   "metadata": {},
   "outputs": [],
   "source": []
  }
 ],
 "metadata": {
  "kernelspec": {
   "display_name": "Python 3.10.6 ('4222G18_backup')",
   "language": "python",
   "name": "python3"
  },
  "language_info": {
   "codemirror_mode": {
    "name": "ipython",
    "version": 3
   },
   "file_extension": ".py",
   "mimetype": "text/x-python",
   "name": "python",
   "nbconvert_exporter": "python",
   "pygments_lexer": "ipython3",
   "version": "3.10.6"
  },
  "vscode": {
   "interpreter": {
    "hash": "64fb50f4500008f9f404f170e716523d28225753a93c94be3d36e645dbfada09"
   }
  }
 },
 "nbformat": 4,
 "nbformat_minor": 5
}
