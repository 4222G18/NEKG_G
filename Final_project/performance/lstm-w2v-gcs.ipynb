{
 "cells": [
  {
   "cell_type": "code",
   "execution_count": null,
   "id": "6f57fdbb",
   "metadata": {},
   "outputs": [],
   "source": [
    "import sys\n",
    "import os\n",
    "path_father = os.path.abspath(r'..')\n",
    "path_father\n",
    "# sys.path.append(path_father)"
   ]
  },
  {
   "cell_type": "markdown",
   "id": "d0d39990",
   "metadata": {},
   "source": [
    "this program only uses word2vec embedding method, which serves as a baseline"
   ]
  },
  {
   "cell_type": "code",
   "execution_count": 1,
   "id": "fce28d96",
   "metadata": {},
   "outputs": [
    {
     "name": "stderr",
     "output_type": "stream",
     "text": [
      "2022-11-10 16:40:20.971774: I tensorflow/core/platform/cpu_feature_guard.cc:193] This TensorFlow binary is optimized with oneAPI Deep Neural Network Library (oneDNN) to use the following CPU instructions in performance-critical operations:  AVX2 FMA\n",
      "To enable them in other operations, rebuild TensorFlow with the appropriate compiler flags.\n",
      "2022-11-10 16:40:21.192841: E tensorflow/stream_executor/cuda/cuda_blas.cc:2981] Unable to register cuBLAS factory: Attempting to register factory for plugin cuBLAS when one has already been registered\n",
      "2022-11-10 16:40:21.908890: W tensorflow/stream_executor/platform/default/dso_loader.cc:64] Could not load dynamic library 'libnvinfer.so.7'; dlerror: libnvinfer.so.7: cannot open shared object file: No such file or directory; LD_LIBRARY_PATH: :/usr/local/cuda-11.8/lib64\n",
      "2022-11-10 16:40:21.909074: W tensorflow/stream_executor/platform/default/dso_loader.cc:64] Could not load dynamic library 'libnvinfer_plugin.so.7'; dlerror: libnvinfer_plugin.so.7: cannot open shared object file: No such file or directory; LD_LIBRARY_PATH: :/usr/local/cuda-11.8/lib64\n",
      "2022-11-10 16:40:21.909083: W tensorflow/compiler/tf2tensorrt/utils/py_utils.cc:38] TF-TRT Warning: Cannot dlopen some TensorRT libraries. If you would like to use Nvidia GPU with TensorRT, please make sure the missing libraries mentioned above are installed properly.\n"
     ]
    }
   ],
   "source": [
    "import pandas as pd\n",
    "import numpy as np\n",
    "import matplotlib.pyplot as plt\n",
    "import seaborn as sns\n",
    "from sklearn import metrics\n",
    "from sklearn.preprocessing import LabelEncoder,OneHotEncoder\n",
    "from keras.models import Model\n",
    "from keras.layers import LSTM, Activation, Dense, Dropout, Input, Embedding\n",
    "from keras.optimizers import RMSprop\n",
    "from keras.preprocessing.text import Tokenizer\n",
    "from keras.preprocessing import sequence\n",
    "from keras.callbacks import EarlyStopping\n",
    "from keras_preprocessing.sequence import pad_sequences\n",
    "from keras.utils.np_utils import to_categorical\n",
    "from keras.models import Sequential\n",
    "from keras.callbacks import ReduceLROnPlateau\n",
    "from keras.models import load_model\n",
    "%matplotlib inline"
   ]
  },
  {
   "cell_type": "code",
   "execution_count": 2,
   "id": "c268b59b",
   "metadata": {},
   "outputs": [],
   "source": [
    "df = pd.read_csv(path_father + \"/df_with_gcs.txt\",sep=',',header=0)"
   ]
  },
  {
   "cell_type": "code",
   "execution_count": 3,
   "id": "e9e0ee5c",
   "metadata": {},
   "outputs": [],
   "source": [
    "#划分训练测试集\n",
    "from sklearn.model_selection import train_test_split\n",
    "\n",
    "train_set, test_set = train_test_split(df, test_size=0.1, random_state=42)"
   ]
  },
  {
   "cell_type": "markdown",
   "id": "59d7c98f",
   "metadata": {},
   "source": [
    "处理词向量"
   ]
  },
  {
   "cell_type": "code",
   "execution_count": 4,
   "id": "12c63f87",
   "metadata": {},
   "outputs": [],
   "source": [
    "from gensim.models import word2vec\n",
    "import logging\n",
    "logging.basicConfig(format='%(asctime)s : %(levelname)s : %(message)s', level=logging.INFO) "
   ]
  },
  {
   "cell_type": "code",
   "execution_count": 5,
   "id": "f13dfd1d",
   "metadata": {},
   "outputs": [],
   "source": [
    "# 切分词汇\n",
    "def cut(data):\n",
    "    cut= [s.split() for s in data['TriageNote'].astype(str)]\n",
    "    return cut"
   ]
  },
  {
   "cell_type": "code",
   "execution_count": 6,
   "id": "94dd810e",
   "metadata": {},
   "outputs": [],
   "source": [
    "train_text=cut(train_set)\n",
    "test_text=cut(test_set)\n",
    "sentences=train_text+test_text"
   ]
  },
  {
   "cell_type": "code",
   "execution_count": 7,
   "id": "2b4b566b",
   "metadata": {},
   "outputs": [
    {
     "data": {
      "text/plain": [
       "57"
      ]
     },
     "execution_count": 7,
     "metadata": {},
     "output_type": "execute_result"
    }
   ],
   "source": [
    "#得到最大句子长度\n",
    "num_list=[len(one) for one in sentences]\n",
    "max(num_list)"
   ]
  },
  {
   "cell_type": "code",
   "execution_count": 8,
   "id": "25aa3ce1",
   "metadata": {},
   "outputs": [],
   "source": [
    "maxLen=64"
   ]
  },
  {
   "cell_type": "code",
   "execution_count": 9,
   "id": "cad599c7",
   "metadata": {},
   "outputs": [],
   "source": [
    "#处理label->one_hot\n",
    "from sklearn.preprocessing import LabelEncoder\n",
    "\n",
    "def encodelabel(data):\n",
    "    le = LabelEncoder()\n",
    "    resultLable=le.fit_transform(data['DISPOSITION'])\n",
    "    return resultLable\n"
   ]
  },
  {
   "cell_type": "code",
   "execution_count": 10,
   "id": "b3dcf8dc",
   "metadata": {},
   "outputs": [],
   "source": [
    "train_lable=encodelabel(train_set)\n",
    "test_lable=encodelabel(test_set)"
   ]
  },
  {
   "cell_type": "code",
   "execution_count": 11,
   "id": "1f35b5d9",
   "metadata": {},
   "outputs": [
    {
     "name": "stderr",
     "output_type": "stream",
     "text": [
      "2022-11-10 16:40:23,471 : INFO : loading Word2Vec object from ./word2vec_all.model\n",
      "2022-11-10 16:40:23,486 : INFO : loading wv recursively from ./word2vec_all.model.wv.* with mmap=None\n",
      "2022-11-10 16:40:23,489 : INFO : setting ignored attribute cum_table to None\n",
      "2022-11-10 16:40:23,605 : INFO : Word2Vec lifecycle event {'fname': './word2vec_all.model', 'datetime': '2022-11-10T16:40:23.605882', 'gensim': '4.2.0', 'python': '3.10.6 (main, Oct 24 2022, 16:07:47) [GCC 11.2.0]', 'platform': 'Linux-5.15.68.1-microsoft-standard-WSL2-x86_64-with-glibc2.35', 'event': 'loaded'}\n"
     ]
    }
   ],
   "source": [
    "wvmodel = word2vec.Word2Vec.load(\"./word2vec_all.model\")"
   ]
  },
  {
   "cell_type": "code",
   "execution_count": 12,
   "id": "26830919",
   "metadata": {},
   "outputs": [],
   "source": [
    "tokenizer=Tokenizer()\n",
    "tokenizer.fit_on_texts(sentences)\n",
    "vocab = tokenizer.word_index "
   ]
  },
  {
   "cell_type": "code",
   "execution_count": 13,
   "id": "d6b9da6f",
   "metadata": {},
   "outputs": [],
   "source": [
    "#特征数字编号，不足的话会在前面补充0\n",
    "trainID = tokenizer.texts_to_sequences(train_text)\n",
    "# print(trainID)\n",
    "testID = tokenizer.texts_to_sequences(test_text)\n",
    "trainSeq=pad_sequences(trainID,maxlen=maxLen)\n",
    "#print(trainSeq)\n",
    "testSeq=pad_sequences(testID,maxlen=maxLen)\n",
    "\n",
    "#标签的独热编码\n",
    "trainCate = to_categorical(train_lable, num_classes=2)  # 将标签转换为one-hot编码\n",
    "#print(trainCate)\n",
    "testCate= to_categorical(test_lable, num_classes=2)  # 将标签转换为one-hot编码"
   ]
  },
  {
   "cell_type": "markdown",
   "id": "a404252e",
   "metadata": {},
   "source": [
    "embedding_matrix = np.zeros((len(vocab) + 1, 100))\n",
    "for word, i in vocab.items():\n",
    "    try:\n",
    "        embedding_vector = wvmodel.wv[str(word)]\n",
    "        embedding_matrix[i] = embedding_vector    \n",
    "    except KeyError:\n",
    "        continue"
   ]
  },
  {
   "cell_type": "code",
   "execution_count": 14,
   "id": "88a8378f",
   "metadata": {},
   "outputs": [],
   "source": [
    "#利用训练后的word2vec自定义Embedding的训练矩阵，每行代表一个词（结合独热码和矩阵乘法理解）\n",
    "embedding_matrix = np.zeros((len(vocab) + 1, 100))\n",
    "for word, i in vocab.items():\n",
    "    try:\n",
    "        if(word.isdigit()==False):#对word用word2vec\n",
    "            embedding_vector = wvmodel.wv[str(word)]\n",
    "        embedding_matrix[i] = embedding_vector    \n",
    "    except KeyError:\n",
    "        continue"
   ]
  },
  {
   "cell_type": "code",
   "execution_count": 15,
   "id": "1fa9c8f0",
   "metadata": {},
   "outputs": [
    {
     "name": "stderr",
     "output_type": "stream",
     "text": [
      "2022-11-10 16:40:23.948106: I tensorflow/stream_executor/cuda/cuda_gpu_executor.cc:966] could not open file to read NUMA node: /sys/bus/pci/devices/0000:01:00.0/numa_node\n",
      "Your kernel may have been built without NUMA support.\n",
      "2022-11-10 16:40:23.977639: W tensorflow/stream_executor/platform/default/dso_loader.cc:64] Could not load dynamic library 'libcudnn.so.8'; dlerror: libcudnn.so.8: cannot open shared object file: No such file or directory; LD_LIBRARY_PATH: :/usr/local/cuda-11.8/lib64\n",
      "2022-11-10 16:40:23.977664: W tensorflow/core/common_runtime/gpu/gpu_device.cc:1934] Cannot dlopen some GPU libraries. Please make sure the missing libraries mentioned above are installed properly if you would like to use GPU. Follow the guide at https://www.tensorflow.org/install/gpu for how to download and setup the required libraries for your platform.\n",
      "Skipping registering GPU devices...\n",
      "2022-11-10 16:40:23.978478: I tensorflow/core/platform/cpu_feature_guard.cc:193] This TensorFlow binary is optimized with oneAPI Deep Neural Network Library (oneDNN) to use the following CPU instructions in performance-critical operations:  AVX2 FMA\n",
      "To enable them in other operations, rebuild TensorFlow with the appropriate compiler flags.\n"
     ]
    },
    {
     "name": "stdout",
     "output_type": "stream",
     "text": [
      "Model: \"sequential\"\n",
      "_________________________________________________________________\n",
      " Layer (type)                Output Shape              Param #   \n",
      "=================================================================\n",
      " embedding (Embedding)       (None, 64, 100)           806300    \n",
      "                                                                 \n",
      " lstm (LSTM)                 (None, 64)                42240     \n",
      "                                                                 \n",
      " dropout (Dropout)           (None, 64)                0         \n",
      "                                                                 \n",
      " FC1 (Dense)                 (None, 64)                4160      \n",
      "                                                                 \n",
      " dropout_1 (Dropout)         (None, 64)                0         \n",
      "                                                                 \n",
      " FC2 (Dense)                 (None, 2)                 130       \n",
      "                                                                 \n",
      "=================================================================\n",
      "Total params: 852,830\n",
      "Trainable params: 852,830\n",
      "Non-trainable params: 0\n",
      "_________________________________________________________________\n",
      "Epoch 1/15\n",
      "154/154 [==============================] - 9s 41ms/step - loss: 0.6837 - accuracy: 0.5678 - val_loss: 0.6518 - val_accuracy: 0.6526\n",
      "Epoch 2/15\n",
      "154/154 [==============================] - 8s 54ms/step - loss: 0.6552 - accuracy: 0.6604 - val_loss: 0.6449 - val_accuracy: 0.6558\n",
      "Epoch 3/15\n",
      "154/154 [==============================] - 6s 41ms/step - loss: 0.6223 - accuracy: 0.7051 - val_loss: 0.6108 - val_accuracy: 0.6948\n",
      "Epoch 4/15\n",
      "154/154 [==============================] - 10s 62ms/step - loss: 0.6006 - accuracy: 0.7360 - val_loss: 0.5821 - val_accuracy: 0.7500\n",
      "Epoch 5/15\n",
      "154/154 [==============================] - 7s 48ms/step - loss: 0.5616 - accuracy: 0.7717 - val_loss: 0.5791 - val_accuracy: 0.6948\n",
      "Epoch 6/15\n",
      "154/154 [==============================] - 7s 43ms/step - loss: 0.5394 - accuracy: 0.7985 - val_loss: 0.5570 - val_accuracy: 0.7403\n",
      "Epoch 7/15\n",
      "154/154 [==============================] - 7s 45ms/step - loss: 0.5091 - accuracy: 0.8140 - val_loss: 0.5447 - val_accuracy: 0.7532\n",
      "Epoch 8/15\n",
      "154/154 [==============================] - 7s 42ms/step - loss: 0.4767 - accuracy: 0.8318 - val_loss: 0.6245 - val_accuracy: 0.6851\n",
      "Epoch 9/15\n",
      "154/154 [==============================] - 7s 45ms/step - loss: 0.4500 - accuracy: 0.8513 - val_loss: 0.5211 - val_accuracy: 0.7662\n",
      "Epoch 10/15\n",
      "154/154 [==============================] - 5s 32ms/step - loss: 0.4043 - accuracy: 0.8887 - val_loss: 0.5333 - val_accuracy: 0.7532\n",
      "Epoch 11/15\n",
      "154/154 [==============================] - 5s 30ms/step - loss: 0.3790 - accuracy: 0.8936 - val_loss: 0.5170 - val_accuracy: 0.7727\n",
      "Epoch 12/15\n",
      "154/154 [==============================] - 4s 27ms/step - loss: 0.3493 - accuracy: 0.9171 - val_loss: 0.5479 - val_accuracy: 0.7695\n",
      "Epoch 13/15\n",
      "154/154 [==============================] - 5s 30ms/step - loss: 0.3024 - accuracy: 0.9245 - val_loss: 0.5283 - val_accuracy: 0.7695\n"
     ]
    },
    {
     "name": "stderr",
     "output_type": "stream",
     "text": [
      "2022-11-10 16:41:56,307 : WARNING : Found untraced functions such as lstm_cell_layer_call_fn, lstm_cell_layer_call_and_return_conditional_losses while saving (showing 2 of 2). These functions will not be directly callable after loading.\n"
     ]
    },
    {
     "name": "stdout",
     "output_type": "stream",
     "text": [
      "INFO:tensorflow:Assets written to: LSTM/assets\n"
     ]
    },
    {
     "name": "stderr",
     "output_type": "stream",
     "text": [
      "2022-11-10 16:42:03,210 : INFO : Assets written to: LSTM/assets\n"
     ]
    }
   ],
   "source": [
    "## 定义LSTM模型\n",
    "batch_size=8\n",
    "inputs = Input(name='inputs',shape=[maxLen])\n",
    "embedder = Embedding(len(vocab) + 1, 100, input_length=maxLen, weights=[embedding_matrix], trainable=True)\n",
    "model=Sequential()\n",
    "model.add(embedder)\n",
    "model.add(LSTM(64))\n",
    "model.add(Dropout(0.4))\n",
    "model.add(Dense(64,activation=\"softmax\",name=\"FC1\"))\n",
    "model.add(Dropout(0.4))\n",
    "model.add(Dense(2,activation=\"softmax\",name=\"FC2\"))\n",
    "model.summary()\n",
    "model.compile(loss=\"categorical_crossentropy\",optimizer=RMSprop(),metrics=[\"accuracy\"])\n",
    "#reduce_lr = ReduceLROnPlateau(monitor='val_loss',factor=0.1 ,patience=3, mode='auto')\n",
    "history=model.fit(trainSeq, trainCate, batch_size, epochs=15,validation_split=0.2, callbacks=[EarlyStopping(monitor='val_loss',patience=2)])\n",
    "model.save(\"LSTM\")"
   ]
  },
  {
   "cell_type": "code",
   "execution_count": 16,
   "id": "f6b394d2",
   "metadata": {},
   "outputs": [
    {
     "name": "stdout",
     "output_type": "stream",
     "text": [
      "6/6 [==============================] - 1s 10ms/step\n",
      "6/6 [==============================] - 0s 9ms/step - loss: 0.6054 - accuracy: 0.7076\n",
      "[0.605400025844574, 0.707602322101593]\n"
     ]
    }
   ],
   "source": [
    "#预测与评估\n",
    "mainModel = load_model('LSTM')\n",
    "result = mainModel.predict(testSeq)  # 预测样本属于每个类别的概率\n",
    "score = mainModel.evaluate(testSeq,\n",
    "                           testCate,\n",
    "                           batch_size=32)\n",
    "print(score)"
   ]
  },
  {
   "cell_type": "code",
   "execution_count": 17,
   "id": "5cd82ded",
   "metadata": {},
   "outputs": [
    {
     "data": {
      "image/png": "[encoded data removed]",
      "text/plain": [
       "<Figure size 640x480 with 1 Axes>"
      ]
     },
     "metadata": {},
     "output_type": "display_data"
    },
    {
     "data": {
      "image/png": "[encoded data removed]",
      "text/plain": [
       "<Figure size 640x480 with 1 Axes>"
      ]
     },
     "metadata": {},
     "output_type": "display_data"
    }
   ],
   "source": [
    "plt.plot(history.history['accuracy'])\n",
    "plt.plot(history.history['val_accuracy'])\n",
    "plt.title('Model accuracy')\n",
    "plt.ylabel('Accuracy')\n",
    "plt.xlabel('Epoch')\n",
    "plt.legend(['Train','Valid'],loc='upper left')\n",
    "plt.show()\n",
    "\n",
    "plt.plot(history.history['loss'])\n",
    "plt.plot(history.history['val_loss'])\n",
    "plt.title('Model loss')\n",
    "plt.ylabel('Loss')\n",
    "plt.xlabel('Epoch')\n",
    "plt.legend(['Train','Valid'],loc='upper left')\n",
    "plt.show()"
   ]
  },
  {
   "cell_type": "code",
   "execution_count": 18,
   "id": "5450d945",
   "metadata": {},
   "outputs": [
    {
     "name": "stdout",
     "output_type": "stream",
     "text": [
      "Model: \"sequential_1\"\n",
      "_________________________________________________________________\n",
      " Layer (type)                Output Shape              Param #   \n",
      "=================================================================\n",
      " embedding_1 (Embedding)     (None, 64, 100)           806300    \n",
      "                                                                 \n",
      " lstm_1 (LSTM)               (None, 64)                42240     \n",
      "                                                                 \n",
      " dropout_2 (Dropout)         (None, 64)                0         \n",
      "                                                                 \n",
      " FC1 (Dense)                 (None, 64)                4160      \n",
      "                                                                 \n",
      " dropout_3 (Dropout)         (None, 64)                0         \n",
      "                                                                 \n",
      " FC2 (Dense)                 (None, 2)                 130       \n",
      "                                                                 \n",
      "=================================================================\n",
      "Total params: 852,830\n",
      "Trainable params: 852,830\n",
      "Non-trainable params: 0\n",
      "_________________________________________________________________\n",
      "Epoch 1/15\n",
      "154/154 [==============================] - 6s 32ms/step - loss: 0.6896 - accuracy: 0.5467 - val_loss: 0.6697 - val_accuracy: 0.7013\n",
      "Epoch 2/15\n",
      "154/154 [==============================] - 4s 27ms/step - loss: 0.6556 - accuracy: 0.6775 - val_loss: 0.6352 - val_accuracy: 0.7110\n",
      "Epoch 3/15\n",
      "154/154 [==============================] - 5s 32ms/step - loss: 0.6193 - accuracy: 0.7230 - val_loss: 0.6137 - val_accuracy: 0.6916\n",
      "Epoch 4/15\n",
      "154/154 [==============================] - 4s 28ms/step - loss: 0.5902 - accuracy: 0.7392 - val_loss: 0.5818 - val_accuracy: 0.7338\n",
      "Epoch 5/15\n",
      "154/154 [==============================] - 4s 28ms/step - loss: 0.5421 - accuracy: 0.7774 - val_loss: 0.5640 - val_accuracy: 0.7597\n",
      "Epoch 6/15\n",
      "154/154 [==============================] - 4s 27ms/step - loss: 0.4986 - accuracy: 0.8156 - val_loss: 0.5490 - val_accuracy: 0.7500\n",
      "Epoch 7/15\n",
      "154/154 [==============================] - 4s 25ms/step - loss: 0.4502 - accuracy: 0.8375 - val_loss: 0.5684 - val_accuracy: 0.7110\n",
      "Epoch 8/15\n",
      "154/154 [==============================] - 4s 26ms/step - loss: 0.3934 - accuracy: 0.8700 - val_loss: 0.5193 - val_accuracy: 0.7727\n",
      "Epoch 9/15\n",
      "154/154 [==============================] - 4s 28ms/step - loss: 0.3479 - accuracy: 0.8920 - val_loss: 0.5137 - val_accuracy: 0.7695\n",
      "Epoch 10/15\n",
      "154/154 [==============================] - 4s 27ms/step - loss: 0.3338 - accuracy: 0.8993 - val_loss: 0.5592 - val_accuracy: 0.7338\n",
      "Epoch 11/15\n",
      "154/154 [==============================] - 4s 27ms/step - loss: 0.2698 - accuracy: 0.9228 - val_loss: 0.5547 - val_accuracy: 0.7532\n",
      "6/6 [==============================] - 0s 9ms/step\n",
      "6/6 [==============================] - 0s 9ms/step - loss: 0.6466 - accuracy: 0.6667\n",
      "Model: \"sequential_2\"\n",
      "_________________________________________________________________\n",
      " Layer (type)                Output Shape              Param #   \n",
      "=================================================================\n",
      " embedding_2 (Embedding)     (None, 64, 100)           806300    \n",
      "                                                                 \n",
      " lstm_2 (LSTM)               (None, 64)                42240     \n",
      "                                                                 \n",
      " dropout_4 (Dropout)         (None, 64)                0         \n",
      "                                                                 \n",
      " FC1 (Dense)                 (None, 64)                4160      \n",
      "                                                                 \n",
      " dropout_5 (Dropout)         (None, 64)                0         \n",
      "                                                                 \n",
      " FC2 (Dense)                 (None, 2)                 130       \n",
      "                                                                 \n",
      "=================================================================\n",
      "Total params: 852,830\n",
      "Trainable params: 852,830\n",
      "Non-trainable params: 0\n",
      "_________________________________________________________________\n",
      "Epoch 1/15\n",
      "154/154 [==============================] - 7s 33ms/step - loss: 0.6826 - accuracy: 0.5581 - val_loss: 0.6460 - val_accuracy: 0.7078\n",
      "Epoch 2/15\n",
      "154/154 [==============================] - 5s 32ms/step - loss: 0.6385 - accuracy: 0.6905 - val_loss: 0.6257 - val_accuracy: 0.7045\n",
      "Epoch 3/15\n",
      "154/154 [==============================] - 5s 34ms/step - loss: 0.6005 - accuracy: 0.7295 - val_loss: 0.5699 - val_accuracy: 0.7500\n",
      "Epoch 4/15\n",
      "154/154 [==============================] - 5s 32ms/step - loss: 0.5740 - accuracy: 0.7474 - val_loss: 0.5515 - val_accuracy: 0.7727\n",
      "Epoch 5/15\n",
      "154/154 [==============================] - 4s 28ms/step - loss: 0.5391 - accuracy: 0.7823 - val_loss: 0.5420 - val_accuracy: 0.7695\n",
      "Epoch 6/15\n",
      "154/154 [==============================] - 4s 27ms/step - loss: 0.4878 - accuracy: 0.8115 - val_loss: 0.5267 - val_accuracy: 0.7727\n",
      "Epoch 7/15\n",
      "154/154 [==============================] - 5s 29ms/step - loss: 0.4557 - accuracy: 0.8367 - val_loss: 0.5270 - val_accuracy: 0.7630\n",
      "Epoch 8/15\n",
      "154/154 [==============================] - 4s 28ms/step - loss: 0.4023 - accuracy: 0.8660 - val_loss: 0.5335 - val_accuracy: 0.7565\n",
      "6/6 [==============================] - 1s 10ms/step\n",
      "6/6 [==============================] - 0s 10ms/step - loss: 0.5733 - accuracy: 0.7193\n",
      "Model: \"sequential_3\"\n",
      "_________________________________________________________________\n",
      " Layer (type)                Output Shape              Param #   \n",
      "=================================================================\n",
      " embedding_3 (Embedding)     (None, 64, 100)           806300    \n",
      "                                                                 \n",
      " lstm_3 (LSTM)               (None, 64)                42240     \n",
      "                                                                 \n",
      " dropout_6 (Dropout)         (None, 64)                0         \n",
      "                                                                 \n",
      " FC1 (Dense)                 (None, 64)                4160      \n",
      "                                                                 \n",
      " dropout_7 (Dropout)         (None, 64)                0         \n",
      "                                                                 \n",
      " FC2 (Dense)                 (None, 2)                 130       \n",
      "                                                                 \n",
      "=================================================================\n",
      "Total params: 852,830\n",
      "Trainable params: 852,830\n",
      "Non-trainable params: 0\n",
      "_________________________________________________________________\n",
      "Epoch 1/15\n",
      "154/154 [==============================] - 7s 33ms/step - loss: 0.6903 - accuracy: 0.5329 - val_loss: 0.6818 - val_accuracy: 0.6688\n",
      "Epoch 2/15\n",
      "154/154 [==============================] - 4s 27ms/step - loss: 0.6547 - accuracy: 0.6686 - val_loss: 0.6441 - val_accuracy: 0.6623\n",
      "Epoch 3/15\n",
      "154/154 [==============================] - 4s 28ms/step - loss: 0.6176 - accuracy: 0.7124 - val_loss: 0.6238 - val_accuracy: 0.6818\n",
      "Epoch 4/15\n",
      "154/154 [==============================] - 5s 34ms/step - loss: 0.5929 - accuracy: 0.7319 - val_loss: 0.5848 - val_accuracy: 0.7468\n",
      "Epoch 5/15\n",
      "154/154 [==============================] - 6s 36ms/step - loss: 0.5583 - accuracy: 0.7685 - val_loss: 0.5638 - val_accuracy: 0.7435\n",
      "Epoch 6/15\n",
      "154/154 [==============================] - 6s 41ms/step - loss: 0.5203 - accuracy: 0.7945 - val_loss: 0.5524 - val_accuracy: 0.7630\n",
      "Epoch 7/15\n",
      "154/154 [==============================] - 8s 49ms/step - loss: 0.4746 - accuracy: 0.8172 - val_loss: 0.5575 - val_accuracy: 0.7468\n",
      "Epoch 8/15\n",
      "154/154 [==============================] - 6s 42ms/step - loss: 0.4431 - accuracy: 0.8497 - val_loss: 0.5291 - val_accuracy: 0.7565\n",
      "Epoch 9/15\n",
      "154/154 [==============================] - 5s 36ms/step - loss: 0.3862 - accuracy: 0.8716 - val_loss: 0.5205 - val_accuracy: 0.7662\n",
      "Epoch 10/15\n",
      "154/154 [==============================] - 7s 47ms/step - loss: 0.3453 - accuracy: 0.8879 - val_loss: 0.5064 - val_accuracy: 0.7857\n",
      "Epoch 11/15\n",
      "154/154 [==============================] - 7s 43ms/step - loss: 0.3107 - accuracy: 0.9058 - val_loss: 0.5279 - val_accuracy: 0.7630\n",
      "Epoch 12/15\n",
      "154/154 [==============================] - 7s 45ms/step - loss: 0.2638 - accuracy: 0.9196 - val_loss: 0.6049 - val_accuracy: 0.7045\n",
      "6/6 [==============================] - 1s 17ms/step\n",
      "6/6 [==============================] - 0s 15ms/step - loss: 0.7322 - accuracy: 0.6257\n",
      "Model: \"sequential_4\"\n",
      "_________________________________________________________________\n",
      " Layer (type)                Output Shape              Param #   \n",
      "=================================================================\n",
      " embedding_4 (Embedding)     (None, 64, 100)           806300    \n",
      "                                                                 \n",
      " lstm_4 (LSTM)               (None, 64)                42240     \n",
      "                                                                 \n",
      " dropout_8 (Dropout)         (None, 64)                0         \n",
      "                                                                 \n",
      " FC1 (Dense)                 (None, 64)                4160      \n",
      "                                                                 \n",
      " dropout_9 (Dropout)         (None, 64)                0         \n",
      "                                                                 \n",
      " FC2 (Dense)                 (None, 2)                 130       \n",
      "                                                                 \n",
      "=================================================================\n",
      "Total params: 852,830\n",
      "Trainable params: 852,830\n",
      "Non-trainable params: 0\n",
      "_________________________________________________________________\n",
      "Epoch 1/15\n",
      "154/154 [==============================] - 9s 45ms/step - loss: 0.6866 - accuracy: 0.5605 - val_loss: 0.6690 - val_accuracy: 0.6558\n",
      "Epoch 2/15\n",
      "154/154 [==============================] - 6s 42ms/step - loss: 0.6521 - accuracy: 0.6669 - val_loss: 0.6239 - val_accuracy: 0.7110\n",
      "Epoch 3/15\n",
      "154/154 [==============================] - 7s 43ms/step - loss: 0.6308 - accuracy: 0.6986 - val_loss: 0.6147 - val_accuracy: 0.7208\n",
      "Epoch 4/15\n",
      "154/154 [==============================] - 7s 45ms/step - loss: 0.5964 - accuracy: 0.7384 - val_loss: 0.6112 - val_accuracy: 0.6883\n",
      "Epoch 5/15\n",
      "154/154 [==============================] - 6s 39ms/step - loss: 0.5767 - accuracy: 0.7417 - val_loss: 0.5836 - val_accuracy: 0.7273\n",
      "Epoch 6/15\n",
      "154/154 [==============================] - 16s 103ms/step - loss: 0.5428 - accuracy: 0.7669 - val_loss: 0.5635 - val_accuracy: 0.7532\n",
      "Epoch 7/15\n",
      "154/154 [==============================] - 6s 41ms/step - loss: 0.5092 - accuracy: 0.7945 - val_loss: 0.5360 - val_accuracy: 0.7662\n",
      "Epoch 8/15\n",
      "154/154 [==============================] - 7s 45ms/step - loss: 0.4815 - accuracy: 0.8099 - val_loss: 0.5324 - val_accuracy: 0.7760\n",
      "Epoch 9/15\n",
      "154/154 [==============================] - 6s 41ms/step - loss: 0.4350 - accuracy: 0.8457 - val_loss: 0.5356 - val_accuracy: 0.7760\n",
      "Epoch 10/15\n",
      "154/154 [==============================] - 6s 40ms/step - loss: 0.3904 - accuracy: 0.8741 - val_loss: 0.6295 - val_accuracy: 0.6688\n",
      "6/6 [==============================] - 1s 13ms/step\n",
      "6/6 [==============================] - 0s 9ms/step - loss: 0.6356 - accuracy: 0.6667\n",
      "Model: \"sequential_5\"\n",
      "_________________________________________________________________\n",
      " Layer (type)                Output Shape              Param #   \n",
      "=================================================================\n",
      " embedding_5 (Embedding)     (None, 64, 100)           806300    \n",
      "                                                                 \n",
      " lstm_5 (LSTM)               (None, 64)                42240     \n",
      "                                                                 \n",
      " dropout_10 (Dropout)        (None, 64)                0         \n",
      "                                                                 \n",
      " FC1 (Dense)                 (None, 64)                4160      \n",
      "                                                                 \n",
      " dropout_11 (Dropout)        (None, 64)                0         \n",
      "                                                                 \n",
      " FC2 (Dense)                 (None, 2)                 130       \n",
      "                                                                 \n",
      "=================================================================\n",
      "Total params: 852,830\n",
      "Trainable params: 852,830\n",
      "Non-trainable params: 0\n",
      "_________________________________________________________________\n",
      "Epoch 1/15\n",
      "154/154 [==============================] - 10s 49ms/step - loss: 0.6852 - accuracy: 0.5719 - val_loss: 0.6582 - val_accuracy: 0.6688\n",
      "Epoch 2/15\n",
      "154/154 [==============================] - 6s 42ms/step - loss: 0.6660 - accuracy: 0.6377 - val_loss: 0.6368 - val_accuracy: 0.7013\n",
      "Epoch 3/15\n",
      "154/154 [==============================] - 6s 42ms/step - loss: 0.6271 - accuracy: 0.7043 - val_loss: 0.6372 - val_accuracy: 0.6558\n",
      "Epoch 4/15\n",
      "154/154 [==============================] - 6s 42ms/step - loss: 0.5972 - accuracy: 0.7449 - val_loss: 0.6030 - val_accuracy: 0.7273\n",
      "Epoch 5/15\n",
      "154/154 [==============================] - 6s 40ms/step - loss: 0.5650 - accuracy: 0.7636 - val_loss: 0.5636 - val_accuracy: 0.7630\n",
      "Epoch 6/15\n",
      "154/154 [==============================] - 4s 28ms/step - loss: 0.5308 - accuracy: 0.7961 - val_loss: 0.5574 - val_accuracy: 0.7532\n",
      "Epoch 7/15\n",
      "154/154 [==============================] - 4s 28ms/step - loss: 0.4817 - accuracy: 0.8237 - val_loss: 0.5506 - val_accuracy: 0.7500\n",
      "Epoch 8/15\n",
      "154/154 [==============================] - 4s 27ms/step - loss: 0.4480 - accuracy: 0.8489 - val_loss: 0.5452 - val_accuracy: 0.7532\n",
      "Epoch 9/15\n",
      "154/154 [==============================] - 4s 28ms/step - loss: 0.4128 - accuracy: 0.8611 - val_loss: 0.5587 - val_accuracy: 0.7240\n",
      "Epoch 10/15\n",
      "154/154 [==============================] - 4s 27ms/step - loss: 0.3705 - accuracy: 0.8830 - val_loss: 0.5159 - val_accuracy: 0.7695\n",
      "Epoch 11/15\n",
      "154/154 [==============================] - 4s 28ms/step - loss: 0.3228 - accuracy: 0.9001 - val_loss: 0.5347 - val_accuracy: 0.7532\n",
      "Epoch 12/15\n",
      "154/154 [==============================] - 4s 27ms/step - loss: 0.2906 - accuracy: 0.9139 - val_loss: 0.5114 - val_accuracy: 0.7662\n",
      "Epoch 13/15\n",
      "154/154 [==============================] - 4s 28ms/step - loss: 0.2586 - accuracy: 0.9277 - val_loss: 0.5717 - val_accuracy: 0.7435\n",
      "Epoch 14/15\n",
      "154/154 [==============================] - 4s 27ms/step - loss: 0.2321 - accuracy: 0.9366 - val_loss: 0.5808 - val_accuracy: 0.7403\n",
      "6/6 [==============================] - 0s 9ms/step\n",
      "6/6 [==============================] - 0s 10ms/step - loss: 0.5758 - accuracy: 0.7251\n",
      "Model: \"sequential_6\"\n",
      "_________________________________________________________________\n",
      " Layer (type)                Output Shape              Param #   \n",
      "=================================================================\n",
      " embedding_6 (Embedding)     (None, 64, 100)           806300    \n",
      "                                                                 \n",
      " lstm_6 (LSTM)               (None, 64)                42240     \n",
      "                                                                 \n",
      " dropout_12 (Dropout)        (None, 64)                0         \n",
      "                                                                 \n",
      " FC1 (Dense)                 (None, 64)                4160      \n",
      "                                                                 \n",
      " dropout_13 (Dropout)        (None, 64)                0         \n",
      "                                                                 \n",
      " FC2 (Dense)                 (None, 2)                 130       \n",
      "                                                                 \n",
      "=================================================================\n",
      "Total params: 852,830\n",
      "Trainable params: 852,830\n",
      "Non-trainable params: 0\n",
      "_________________________________________________________________\n",
      "Epoch 1/15\n",
      "154/154 [==============================] - 7s 31ms/step - loss: 0.6867 - accuracy: 0.5662 - val_loss: 0.6711 - val_accuracy: 0.6331\n",
      "Epoch 2/15\n",
      "154/154 [==============================] - 4s 27ms/step - loss: 0.6579 - accuracy: 0.6629 - val_loss: 0.6232 - val_accuracy: 0.7045\n",
      "Epoch 3/15\n",
      "154/154 [==============================] - 4s 27ms/step - loss: 0.6076 - accuracy: 0.7376 - val_loss: 0.6352 - val_accuracy: 0.6688\n",
      "Epoch 4/15\n",
      "154/154 [==============================] - 4s 29ms/step - loss: 0.6021 - accuracy: 0.7181 - val_loss: 0.6210 - val_accuracy: 0.6883\n",
      "Epoch 5/15\n",
      "154/154 [==============================] - 4s 28ms/step - loss: 0.5767 - accuracy: 0.7506 - val_loss: 0.6010 - val_accuracy: 0.7110\n",
      "Epoch 6/15\n",
      "154/154 [==============================] - 4s 29ms/step - loss: 0.5236 - accuracy: 0.7945 - val_loss: 0.5478 - val_accuracy: 0.7532\n",
      "Epoch 7/15\n",
      "154/154 [==============================] - 4s 28ms/step - loss: 0.4770 - accuracy: 0.8375 - val_loss: 0.5353 - val_accuracy: 0.7760\n",
      "Epoch 8/15\n",
      "154/154 [==============================] - 4s 29ms/step - loss: 0.4276 - accuracy: 0.8538 - val_loss: 0.5167 - val_accuracy: 0.7792\n",
      "Epoch 9/15\n",
      "154/154 [==============================] - 5s 34ms/step - loss: 0.3845 - accuracy: 0.8757 - val_loss: 0.5119 - val_accuracy: 0.7792\n",
      "Epoch 10/15\n",
      "154/154 [==============================] - 4s 29ms/step - loss: 0.3588 - accuracy: 0.8911 - val_loss: 0.5111 - val_accuracy: 0.7565\n",
      "Epoch 11/15\n",
      "154/154 [==============================] - 4s 29ms/step - loss: 0.3245 - accuracy: 0.8993 - val_loss: 0.5123 - val_accuracy: 0.7792\n",
      "Epoch 12/15\n",
      "154/154 [==============================] - 4s 28ms/step - loss: 0.2766 - accuracy: 0.9220 - val_loss: 0.5113 - val_accuracy: 0.7792\n",
      "6/6 [==============================] - 0s 10ms/step\n",
      "6/6 [==============================] - 0s 8ms/step - loss: 0.5995 - accuracy: 0.7193\n",
      "Model: \"sequential_7\"\n",
      "_________________________________________________________________\n",
      " Layer (type)                Output Shape              Param #   \n",
      "=================================================================\n",
      " embedding_7 (Embedding)     (None, 64, 100)           806300    \n",
      "                                                                 \n",
      " lstm_7 (LSTM)               (None, 64)                42240     \n",
      "                                                                 \n",
      " dropout_14 (Dropout)        (None, 64)                0         \n",
      "                                                                 \n",
      " FC1 (Dense)                 (None, 64)                4160      \n",
      "                                                                 \n",
      " dropout_15 (Dropout)        (None, 64)                0         \n",
      "                                                                 \n",
      " FC2 (Dense)                 (None, 2)                 130       \n",
      "                                                                 \n",
      "=================================================================\n",
      "Total params: 852,830\n",
      "Trainable params: 852,830\n",
      "Non-trainable params: 0\n",
      "_________________________________________________________________\n",
      "Epoch 1/15\n",
      "154/154 [==============================] - 6s 31ms/step - loss: 0.6858 - accuracy: 0.5646 - val_loss: 0.6762 - val_accuracy: 0.5909\n",
      "Epoch 2/15\n",
      "154/154 [==============================] - 4s 27ms/step - loss: 0.6475 - accuracy: 0.6621 - val_loss: 0.6753 - val_accuracy: 0.5779\n",
      "Epoch 3/15\n",
      "154/154 [==============================] - 4s 28ms/step - loss: 0.6354 - accuracy: 0.6799 - val_loss: 0.6075 - val_accuracy: 0.7403\n",
      "Epoch 4/15\n",
      "154/154 [==============================] - 4s 28ms/step - loss: 0.6032 - accuracy: 0.7295 - val_loss: 0.5860 - val_accuracy: 0.7240\n",
      "Epoch 5/15\n",
      "154/154 [==============================] - 4s 27ms/step - loss: 0.5698 - accuracy: 0.7530 - val_loss: 0.5672 - val_accuracy: 0.7500\n",
      "Epoch 6/15\n",
      "154/154 [==============================] - 4s 29ms/step - loss: 0.5321 - accuracy: 0.7945 - val_loss: 0.5700 - val_accuracy: 0.7273\n",
      "Epoch 7/15\n",
      "154/154 [==============================] - 4s 28ms/step - loss: 0.4838 - accuracy: 0.8091 - val_loss: 0.5431 - val_accuracy: 0.7468\n",
      "Epoch 8/15\n",
      "154/154 [==============================] - 4s 27ms/step - loss: 0.4622 - accuracy: 0.8262 - val_loss: 0.5538 - val_accuracy: 0.7532\n",
      "Epoch 9/15\n",
      "154/154 [==============================] - 4s 28ms/step - loss: 0.4000 - accuracy: 0.8733 - val_loss: 0.5234 - val_accuracy: 0.7630\n",
      "Epoch 10/15\n",
      "154/154 [==============================] - 4s 28ms/step - loss: 0.3789 - accuracy: 0.8692 - val_loss: 0.5128 - val_accuracy: 0.7792\n",
      "Epoch 11/15\n",
      "154/154 [==============================] - 4s 27ms/step - loss: 0.3247 - accuracy: 0.8976 - val_loss: 0.5297 - val_accuracy: 0.7565\n",
      "Epoch 12/15\n",
      "154/154 [==============================] - 4s 27ms/step - loss: 0.3020 - accuracy: 0.9131 - val_loss: 0.5204 - val_accuracy: 0.7760\n",
      "6/6 [==============================] - 0s 10ms/step\n",
      "6/6 [==============================] - 0s 9ms/step - loss: 0.6071 - accuracy: 0.7251\n",
      "Model: \"sequential_8\"\n",
      "_________________________________________________________________\n",
      " Layer (type)                Output Shape              Param #   \n",
      "=================================================================\n",
      " embedding_8 (Embedding)     (None, 64, 100)           806300    \n",
      "                                                                 \n",
      " lstm_8 (LSTM)               (None, 64)                42240     \n",
      "                                                                 \n",
      " dropout_16 (Dropout)        (None, 64)                0         \n",
      "                                                                 \n",
      " FC1 (Dense)                 (None, 64)                4160      \n",
      "                                                                 \n",
      " dropout_17 (Dropout)        (None, 64)                0         \n",
      "                                                                 \n",
      " FC2 (Dense)                 (None, 2)                 130       \n",
      "                                                                 \n",
      "=================================================================\n",
      "Total params: 852,830\n",
      "Trainable params: 852,830\n",
      "Non-trainable params: 0\n",
      "_________________________________________________________________\n",
      "Epoch 1/15\n",
      "154/154 [==============================] - 6s 32ms/step - loss: 0.6865 - accuracy: 0.5508 - val_loss: 0.6581 - val_accuracy: 0.7208\n",
      "Epoch 2/15\n",
      "154/154 [==============================] - 4s 27ms/step - loss: 0.6414 - accuracy: 0.6889 - val_loss: 0.6920 - val_accuracy: 0.5714\n",
      "Epoch 3/15\n",
      "154/154 [==============================] - 4s 27ms/step - loss: 0.6127 - accuracy: 0.7279 - val_loss: 0.6583 - val_accuracy: 0.6331\n",
      "6/6 [==============================] - 0s 10ms/step\n",
      "6/6 [==============================] - 0s 10ms/step - loss: 0.6790 - accuracy: 0.5965\n",
      "Model: \"sequential_9\"\n",
      "_________________________________________________________________\n",
      " Layer (type)                Output Shape              Param #   \n",
      "=================================================================\n",
      " embedding_9 (Embedding)     (None, 64, 100)           806300    \n",
      "                                                                 \n",
      " lstm_9 (LSTM)               (None, 64)                42240     \n",
      "                                                                 \n",
      " dropout_18 (Dropout)        (None, 64)                0         \n",
      "                                                                 \n",
      " FC1 (Dense)                 (None, 64)                4160      \n",
      "                                                                 \n",
      " dropout_19 (Dropout)        (None, 64)                0         \n",
      "                                                                 \n",
      " FC2 (Dense)                 (None, 2)                 130       \n",
      "                                                                 \n",
      "=================================================================\n",
      "Total params: 852,830\n",
      "Trainable params: 852,830\n",
      "Non-trainable params: 0\n",
      "_________________________________________________________________\n",
      "Epoch 1/15\n",
      "154/154 [==============================] - 7s 33ms/step - loss: 0.6874 - accuracy: 0.5613 - val_loss: 0.6927 - val_accuracy: 0.5292\n",
      "Epoch 2/15\n",
      "154/154 [==============================] - 4s 28ms/step - loss: 0.6650 - accuracy: 0.6288 - val_loss: 0.6578 - val_accuracy: 0.6266\n",
      "Epoch 3/15\n",
      "154/154 [==============================] - 4s 28ms/step - loss: 0.6327 - accuracy: 0.7027 - val_loss: 0.6178 - val_accuracy: 0.6981\n",
      "Epoch 4/15\n",
      "154/154 [==============================] - 4s 27ms/step - loss: 0.6061 - accuracy: 0.7311 - val_loss: 0.6010 - val_accuracy: 0.7110\n",
      "Epoch 5/15\n",
      "154/154 [==============================] - 4s 28ms/step - loss: 0.5802 - accuracy: 0.7482 - val_loss: 0.6328 - val_accuracy: 0.6786\n",
      "Epoch 6/15\n",
      "154/154 [==============================] - 4s 29ms/step - loss: 0.5319 - accuracy: 0.7977 - val_loss: 0.5701 - val_accuracy: 0.7370\n",
      "Epoch 7/15\n",
      "154/154 [==============================] - 4s 28ms/step - loss: 0.4981 - accuracy: 0.8091 - val_loss: 0.5569 - val_accuracy: 0.7435\n",
      "Epoch 8/15\n",
      "154/154 [==============================] - 4s 27ms/step - loss: 0.4686 - accuracy: 0.8270 - val_loss: 0.5932 - val_accuracy: 0.7143\n",
      "Epoch 9/15\n",
      "154/154 [==============================] - 4s 28ms/step - loss: 0.4359 - accuracy: 0.8513 - val_loss: 0.5303 - val_accuracy: 0.7597\n",
      "Epoch 10/15\n",
      "154/154 [==============================] - 4s 28ms/step - loss: 0.3930 - accuracy: 0.8781 - val_loss: 0.5095 - val_accuracy: 0.7727\n",
      "Epoch 11/15\n",
      "154/154 [==============================] - 4s 28ms/step - loss: 0.3454 - accuracy: 0.8911 - val_loss: 0.5009 - val_accuracy: 0.7792\n",
      "Epoch 12/15\n",
      "154/154 [==============================] - 4s 28ms/step - loss: 0.2929 - accuracy: 0.9147 - val_loss: 0.5063 - val_accuracy: 0.7857\n",
      "Epoch 13/15\n",
      "154/154 [==============================] - 4s 28ms/step - loss: 0.2816 - accuracy: 0.9236 - val_loss: 0.5176 - val_accuracy: 0.7435\n",
      "6/6 [==============================] - 0s 10ms/step\n",
      "6/6 [==============================] - 0s 11ms/step - loss: 0.5733 - accuracy: 0.7310\n",
      "Model: \"sequential_10\"\n",
      "_________________________________________________________________\n",
      " Layer (type)                Output Shape              Param #   \n",
      "=================================================================\n",
      " embedding_10 (Embedding)    (None, 64, 100)           806300    \n",
      "                                                                 \n",
      " lstm_10 (LSTM)              (None, 64)                42240     \n",
      "                                                                 \n",
      " dropout_20 (Dropout)        (None, 64)                0         \n",
      "                                                                 \n",
      " FC1 (Dense)                 (None, 64)                4160      \n",
      "                                                                 \n",
      " dropout_21 (Dropout)        (None, 64)                0         \n",
      "                                                                 \n",
      " FC2 (Dense)                 (None, 2)                 130       \n",
      "                                                                 \n",
      "=================================================================\n",
      "Total params: 852,830\n",
      "Trainable params: 852,830\n",
      "Non-trainable params: 0\n",
      "_________________________________________________________________\n",
      "Epoch 1/15\n",
      "154/154 [==============================] - 6s 31ms/step - loss: 0.6780 - accuracy: 0.6141 - val_loss: 0.6962 - val_accuracy: 0.5357\n",
      "Epoch 2/15\n",
      "154/154 [==============================] - 4s 29ms/step - loss: 0.6506 - accuracy: 0.6596 - val_loss: 0.6340 - val_accuracy: 0.6721\n",
      "Epoch 3/15\n",
      "154/154 [==============================] - 4s 28ms/step - loss: 0.6223 - accuracy: 0.7019 - val_loss: 0.6160 - val_accuracy: 0.6948\n",
      "Epoch 4/15\n",
      "154/154 [==============================] - 4s 27ms/step - loss: 0.6055 - accuracy: 0.7254 - val_loss: 0.6326 - val_accuracy: 0.6656\n",
      "Epoch 5/15\n",
      "154/154 [==============================] - 4s 29ms/step - loss: 0.5867 - accuracy: 0.7465 - val_loss: 0.7129 - val_accuracy: 0.5714\n",
      "6/6 [==============================] - 0s 10ms/step\n",
      "6/6 [==============================] - 0s 9ms/step - loss: 0.7479 - accuracy: 0.5263\n"
     ]
    }
   ],
   "source": [
    "score_list=[]\n",
    "for i in range(10):\n",
    "    ## 定义LSTM模型\n",
    "    batch_size=8\n",
    "    inputs = Input(name='inputs',shape=[maxLen])\n",
    "    embedder = Embedding(len(vocab) + 1, 100, input_length=maxLen, weights=[embedding_matrix], trainable=True)\n",
    "    model=Sequential()\n",
    "    model.add(embedder)\n",
    "    model.add(LSTM(64))\n",
    "    model.add(Dropout(0.4,seed=12))\n",
    "    model.add(Dense(64,activation=\"softmax\",name=\"FC1\"))\n",
    "    model.add(Dropout(0.4,seed=12))\n",
    "    model.add(Dense(2,activation=\"softmax\",name=\"FC2\"))\n",
    "    model.summary()\n",
    "    model.compile(loss=\"categorical_crossentropy\",optimizer=RMSprop(),metrics=[\"accuracy\"])\n",
    "    #reduce_lr = ReduceLROnPlateau(monitor='val_loss',factor=0.1 ,patience=3, mode='auto')\n",
    "    history=model.fit(trainSeq, trainCate, batch_size, epochs=15,validation_split=0.2, callbacks=[EarlyStopping(monitor='val_loss',patience=2)])\n",
    "    result = model.predict(testSeq)  # 预测样本属于每个类别的概率\n",
    "    score = model.evaluate(testSeq,\n",
    "                               testCate,\n",
    "                               batch_size=32)\n",
    "    score_list.append(score[1])"
   ]
  },
  {
   "cell_type": "code",
   "execution_count": 19,
   "id": "7a7fbe16",
   "metadata": {},
   "outputs": [
    {
     "name": "stdout",
     "output_type": "stream",
     "text": [
      "accuracy:0.670175439119339\n"
     ]
    }
   ],
   "source": [
    "print('accuracy:'+str(sum(score_list)/len(score_list)))"
   ]
  },
  {
   "cell_type": "code",
   "execution_count": 20,
   "id": "c717fe6f",
   "metadata": {},
   "outputs": [],
   "source": [
    "score_list.sort()"
   ]
  },
  {
   "cell_type": "code",
   "execution_count": 21,
   "id": "205e3cfa",
   "metadata": {},
   "outputs": [
    {
     "data": {
      "text/plain": [
       "[0.5263158082962036,\n",
       " 0.5964912176132202,\n",
       " 0.6257309913635254,\n",
       " 0.6666666865348816,\n",
       " 0.6666666865348816,\n",
       " 0.719298243522644,\n",
       " 0.719298243522644,\n",
       " 0.7251461744308472,\n",
       " 0.7251461744308472,\n",
       " 0.7309941649436951]"
      ]
     },
     "execution_count": 21,
     "metadata": {},
     "output_type": "execute_result"
    }
   ],
   "source": [
    "score_list"
   ]
  },
  {
   "cell_type": "code",
   "execution_count": 22,
   "id": "8163c552",
   "metadata": {},
   "outputs": [
    {
     "data": {
      "text/plain": [
       "0.7719298228621483"
      ]
     },
     "execution_count": 22,
     "metadata": {},
     "output_type": "execute_result"
    }
   ],
   "source": [
    "sum(score_list[1:])/8"
   ]
  },
  {
   "cell_type": "code",
   "execution_count": null,
   "id": "983e9a74",
   "metadata": {},
   "outputs": [],
   "source": []
  }
 ],
 "metadata": {
  "kernelspec": {
   "display_name": "Python 3.10.6 ('4222G18_backup')",
   "language": "python",
   "name": "python3"
  },
  "language_info": {
   "codemirror_mode": {
    "name": "ipython",
    "version": 3
   },
   "file_extension": ".py",
   "mimetype": "text/x-python",
   "name": "python",
   "nbconvert_exporter": "python",
   "pygments_lexer": "ipython3",
   "version": "3.10.6"
  },
  "vscode": {
   "interpreter": {
    "hash": "64fb50f4500008f9f404f170e716523d28225753a93c94be3d36e645dbfada09"
   }
  }
 },
 "nbformat": 4,
 "nbformat_minor": 5
}
