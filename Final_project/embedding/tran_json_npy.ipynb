{
 "cells": [
  {
   "cell_type": "code",
   "execution_count": 9,
   "metadata": {},
   "outputs": [],
   "source": [
    "import json\n",
    "import numpy as np\n",
    "file_name = 'RESCAL_adagrad'\n",
    "# print(\"./embedding/\" + file_name + \".json\")\n",
    "f = open(\"./\" + file_name + \".json\")\n",
    "tmp = json.load(f)\n",
    "np.save(\"./\" + file_name, tmp)"
   ]
  }
 ],
 "metadata": {
  "kernelspec": {
   "display_name": "Python 3.7.3 ('4222G18')",
   "language": "python",
   "name": "python3"
  },
  "language_info": {
   "codemirror_mode": {
    "name": "ipython",
    "version": 3
   },
   "file_extension": ".py",
   "mimetype": "text/x-python",
   "name": "python",
   "nbconvert_exporter": "python",
   "pygments_lexer": "ipython3",
   "version": "3.7.3"
  },
  "orig_nbformat": 4,
  "vscode": {
   "interpreter": {
    "hash": "7e1fb3ba83006f1cb45b39d6187e98516fc498271af873551d97b45d9cc23f87"
   }
  }
 },
 "nbformat": 4,
 "nbformat_minor": 2
}
