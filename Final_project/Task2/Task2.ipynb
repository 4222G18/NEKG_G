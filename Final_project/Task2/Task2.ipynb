{
 "cells": [
  {
   "cell_type": "code",
   "execution_count": 1,
   "id": "6e208f31",
   "metadata": {},
   "outputs": [],
   "source": [
    "import random\n",
    "import numpy as np\n",
    "from keras.models import Sequential\n",
    "from keras.layers import LSTM, Activation, Dense, Dropout, Input, Embedding,Bidirectional\n",
    "from keras.optimizers import SGD,RMSprop\n",
    "from keras.utils.np_utils import to_categorical\n",
    "from keras.callbacks import EarlyStopping\n",
    "import matplotlib.pyplot as plt"
   ]
  },
  {
   "cell_type": "code",
   "execution_count": 2,
   "id": "aaf854e0",
   "metadata": {},
   "outputs": [],
   "source": [
    "def generate_addition_data(dataset, size):\n",
    "    all_tuples = []\n",
    "    for i in range(size):\n",
    "        first_number = random.choice(dataset)\n",
    "        second_number = random.choice(dataset)\n",
    "        second_number = random.choice(dataset)\n",
    "        second_number = random.choice(dataset)\n",
    "        second_number = random.choice(dataset)\n",
    "        while second_number == first_number:\n",
    "            second_number = random.choice(dataset)\n",
    "        all_tuples.append((first_number,second_number))\n",
    "\n",
    "    random.shuffle(all_tuples)\n",
    "    return all_tuples"
   ]
  },
  {
   "cell_type": "code",
   "execution_count": 3,
   "id": "b2e47874",
   "metadata": {},
   "outputs": [],
   "source": [
    "def generate_max_data(all_numbers, length, num_samples):\n",
    "    def gaussian_sample(max_index):\n",
    "        if max_index <= 500: # sample from a small Gaussian\n",
    "            random_gaussian = np.random.normal(scale=5)\n",
    "        else: # sample from a big Gaussian\n",
    "            random_gaussian = np.random.normal(scale=max_index * 0.01)\n",
    "        new_index = max_index - int(random_gaussian)\n",
    "        if new_index >= max_index: # if out of bounds\n",
    "            new_index = max_index - 1\n",
    "        elif new_index < 0: # if out of bounds\n",
    "            new_index = 0\n",
    "        return new_index\n",
    "\n",
    "    all_numbers = sorted(all_numbers)\n",
    "    all_lists = []\n",
    "    minimum = 0; maximum = len(all_numbers) - 1\n",
    "    for i in range(num_samples):\n",
    "        max_index = np.random.randint(low=10, high=maximum, size=1)[0] # sample a random number\n",
    "        temp_list = [all_numbers[max_index]]\n",
    "        if np.random.uniform() > 0.5: # for half the values, we just randomly sample\n",
    "            for j in range(length - 1):\n",
    "                new_int = all_numbers[np.random.randint(low=minimum, high=max_index-1, size=1)[0]]\n",
    "                while new_int in temp_list: # resample if its already in there\n",
    "                    new_int = all_numbers[np.random.randint(low=minimum, high=max_index-1, size=1)[0]]\n",
    "                temp_list.append(new_int)\n",
    "        else: # for the other half, we sample from a Gaussian to keep the numbers nearby\n",
    "            for j in range(length - 1):                \n",
    "                new_int = all_numbers[gaussian_sample(max_index)]\n",
    "                while new_int in temp_list: # if already oresent, resample                    \n",
    "                    new_int = all_numbers[gaussian_sample(max_index)]\n",
    "                temp_list.append(new_int)\n",
    "\n",
    "        random.shuffle(temp_list) # shuffle inside the examples\n",
    "        all_lists.append(temp_list)\n",
    "    random.shuffle(all_lists)\n",
    "    return all_lists"
   ]
  },
  {
   "cell_type": "code",
   "execution_count": 4,
   "id": "073e85f4",
   "metadata": {},
   "outputs": [],
   "source": [
    "all_numbers = list(range(0, 1000))\n",
    "random.shuffle(all_numbers)\n",
    "#train_numbers = all_numbers[:int(0.8 * len(all_numbers))]\n",
    "#test_numbers = all_numbers[int(0.8 * len(all_numbers)):]\n",
    "trainset=generate_max_data(all_numbers,5,100000)\n",
    "\n",
    "testset=generate_max_data(all_numbers,5,10000)"
   ]
  },
  {
   "cell_type": "code",
   "execution_count": 5,
   "id": "683e82df",
   "metadata": {},
   "outputs": [],
   "source": [
    "train_label=[]\n",
    "test_label=[]\n",
    "for i in range(0,len(trainset)):\n",
    "    train_label.append(trainset[i].index(max(trainset[i])))\n",
    "for i in range(0,len(testset)):\n",
    "    test_label.append(testset[i].index(max(testset[i])))"
   ]
  },
  {
   "cell_type": "code",
   "execution_count": 6,
   "id": "613941d7",
   "metadata": {},
   "outputs": [],
   "source": [
    "trainCate = to_categorical(train_label, num_classes=5)\n",
    "testCate= to_categorical(test_label, num_classes=5) "
   ]
  },
  {
   "cell_type": "code",
   "execution_count": 7,
   "id": "af6580af",
   "metadata": {},
   "outputs": [],
   "source": [
    "nekg=np.load('./1-999 100d step 1/transe 0-999 100d.npy')"
   ]
  },
  {
   "cell_type": "code",
   "execution_count": 8,
   "id": "6e10c030",
   "metadata": {},
   "outputs": [],
   "source": [
    "embedding_matrix = np.zeros((1000, 100))\n",
    "for i in range(1000):\n",
    "    embedding_matrix[i]=nekg[i]"
   ]
  },
  {
   "cell_type": "code",
   "execution_count": 12,
   "id": "be692a52",
   "metadata": {},
   "outputs": [
    {
     "name": "stdout",
     "output_type": "stream",
     "text": [
      "Model: \"sequential_2\"\n",
      "_________________________________________________________________\n",
      " Layer (type)                Output Shape              Param #   \n",
      "=================================================================\n",
      " embedding_2 (Embedding)     (None, 5, 100)            100000    \n",
      "                                                                 \n",
      " bidirectional_2 (Bidirectio  (None, 128)              84480     \n",
      " nal)                                                            \n",
      "                                                                 \n",
      " FC2 (Dense)                 (None, 5)                 645       \n",
      "                                                                 \n",
      "=================================================================\n",
      "Total params: 185,125\n",
      "Trainable params: 185,125\n",
      "Non-trainable params: 0\n",
      "_________________________________________________________________\n"
     ]
    }
   ],
   "source": [
    "#max\n",
    "batch_size=8\n",
    "#inputs = Input(name='inputs',shape=[5])\n",
    "embedder = Embedding(1000, 100, input_length=5, weights=[embedding_matrix], trainable=True)\n",
    "model=Sequential()\n",
    "model.add(embedder)\n",
    "model.add(Bidirectional(LSTM(64)))\n",
    "model.add(Dense(5,activation=\"softmax\",name=\"FC2\"))\n",
    "model.summary()\n",
    "model.compile(loss=\"categorical_crossentropy\",optimizer=RMSprop(),metrics=[\"accuracy\"])\n"
   ]
  },
  {
   "cell_type": "code",
   "execution_count": null,
   "id": "1c471df4",
   "metadata": {},
   "outputs": [
    {
     "name": "stdout",
     "output_type": "stream",
     "text": [
      "Epoch 1/50\n",
      "10000/10000 [==============================] - 19s 2ms/step - loss: 1.2088 - accuracy: 0.4535 - val_loss: 1.0326 - val_accuracy: 0.5356\n",
      "Epoch 2/50\n",
      "10000/10000 [==============================] - 18s 2ms/step - loss: 0.9436 - accuracy: 0.5827 - val_loss: 0.8675 - val_accuracy: 0.6155\n",
      "Epoch 3/50\n",
      "10000/10000 [==============================] - 18s 2ms/step - loss: 0.8062 - accuracy: 0.6513 - val_loss: 0.7702 - val_accuracy: 0.6633\n",
      "Epoch 4/50\n",
      "10000/10000 [==============================] - 19s 2ms/step - loss: 0.6640 - accuracy: 0.7198 - val_loss: 0.6386 - val_accuracy: 0.7276\n",
      "Epoch 5/50\n",
      "10000/10000 [==============================] - 19s 2ms/step - loss: 0.5585 - accuracy: 0.7685 - val_loss: 0.5575 - val_accuracy: 0.7655\n",
      "Epoch 6/50\n",
      "10000/10000 [==============================] - 19s 2ms/step - loss: 0.4801 - accuracy: 0.8046 - val_loss: 0.5210 - val_accuracy: 0.7837\n",
      "Epoch 7/50\n",
      "10000/10000 [==============================] - 18s 2ms/step - loss: 0.4106 - accuracy: 0.8343 - val_loss: 0.4475 - val_accuracy: 0.8242\n",
      "Epoch 8/50\n",
      " 9254/10000 [==========================>...] - ETA: 1s - loss: 0.3546 - accuracy: 0.8607"
     ]
    }
   ],
   "source": [
    "history=model.fit(np.array(trainset), trainCate, batch_size, epochs=50,validation_split=0.2)"
   ]
  },
  {
   "cell_type": "code",
   "execution_count": null,
   "id": "1a9f504f",
   "metadata": {},
   "outputs": [],
   "source": [
    "plt.plot(history.history['accuracy'])\n",
    "plt.plot(history.history['val_accuracy'])\n",
    "plt.title('Model accuracy')\n",
    "plt.ylabel('Accuracy')\n",
    "plt.xlabel('Epoch')\n",
    "plt.legend(['Train','Valid'],loc='upper left')\n",
    "plt.show()\n",
    "\n",
    "plt.plot(history.history['loss'])\n",
    "plt.plot(history.history['val_loss'])\n",
    "plt.title('Model loss')\n",
    "plt.ylabel('Loss')\n",
    "plt.xlabel('Epoch')\n",
    "plt.legend(['Train','Valid'],loc='upper left')\n",
    "plt.show()"
   ]
  },
  {
   "cell_type": "code",
   "execution_count": null,
   "id": "601cd5c3",
   "metadata": {},
   "outputs": [],
   "source": [
    "score = model.evaluate(np.array(testset), testCate,batch_size=16)\n",
    "print(score)"
   ]
  },
  {
   "cell_type": "code",
   "execution_count": null,
   "id": "22dec4db",
   "metadata": {},
   "outputs": [],
   "source": []
  },
  {
   "cell_type": "code",
   "execution_count": null,
   "id": "caa5a856",
   "metadata": {},
   "outputs": [],
   "source": []
  },
  {
   "cell_type": "code",
   "execution_count": null,
   "id": "137e1ffc",
   "metadata": {},
   "outputs": [],
   "source": []
  },
  {
   "cell_type": "code",
   "execution_count": 64,
   "id": "35024338",
   "metadata": {},
   "outputs": [
    {
     "name": "stdout",
     "output_type": "stream",
     "text": [
      "Model: \"sequential_19\"\n",
      "_________________________________________________________________\n",
      " Layer (type)                Output Shape              Param #   \n",
      "=================================================================\n",
      " FC1 (Dense)                 (100, 100)                10100     \n",
      "                                                                 \n",
      " FC2 (Dense)                 (100, 32)                 3232      \n",
      "                                                                 \n",
      " FC3 (Dense)                 (100, 16)                 528       \n",
      "                                                                 \n",
      " FC4 (Dense)                 (100, 8)                  136       \n",
      "                                                                 \n",
      " FC5 (Dense)                 (100, 1)                  9         \n",
      "                                                                 \n",
      "=================================================================\n",
      "Total params: 14,005\n",
      "Trainable params: 14,005\n",
      "Non-trainable params: 0\n",
      "_________________________________________________________________\n"
     ]
    }
   ],
   "source": [
    "#decode\n",
    "batch_size=4\n",
    "input_shape = (100,100)\n",
    "model=Sequential()\n",
    "model.add(Dense(100,activation=\"ReLU\",name=\"FC1\"))\n",
    "model.add(Dense(32,activation=\"ReLU\",name=\"FC2\"))\n",
    "model.add(Dense(16,activation=\"ReLU\",name=\"FC3\"))\n",
    "model.add(Dense(8,activation=\"ReLU\",name=\"FC4\"))\n",
    "model.add(Dense(1,activation=\"ReLU\",name=\"FC5\"))\n",
    "model.build(input_shape)\n",
    "model.summary()\n",
    "model.compile(loss=\"mean_squared_error\",optimizer=SGD())\n"
   ]
  },
  {
   "cell_type": "code",
   "execution_count": null,
   "id": "8cf23615",
   "metadata": {},
   "outputs": [],
   "source": []
  }
 ],
 "metadata": {
  "kernelspec": {
   "display_name": "Python 3 (ipykernel)",
   "language": "python",
   "name": "python3"
  },
  "language_info": {
   "codemirror_mode": {
    "name": "ipython",
    "version": 3
   },
   "file_extension": ".py",
   "mimetype": "text/x-python",
   "name": "python",
   "nbconvert_exporter": "python",
   "pygments_lexer": "ipython3",
   "version": "3.10.6"
  }
 },
 "nbformat": 4,
 "nbformat_minor": 5
}
