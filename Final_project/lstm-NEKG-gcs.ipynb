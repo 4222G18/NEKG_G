{
 "cells": [
  {
   "cell_type": "code",
   "execution_count": 1,
   "id": "fce28d96",
   "metadata": {},
   "outputs": [],
   "source": [
    "import pandas as pd\n",
    "import numpy as np\n",
    "import matplotlib.pyplot as plt\n",
    "import seaborn as sns\n",
    "from sklearn import metrics\n",
    "from sklearn.preprocessing import LabelEncoder,OneHotEncoder\n",
    "from keras.models import Model\n",
    "from keras.layers import LSTM, Activation, Dense, Dropout, Input, Embedding\n",
    "from keras.optimizers import RMSprop\n",
    "from keras.preprocessing.text import Tokenizer\n",
    "from keras.preprocessing import sequence\n",
    "from keras.callbacks import EarlyStopping\n",
    "from keras_preprocessing.sequence import pad_sequences\n",
    "from keras.utils.np_utils import to_categorical\n",
    "from keras.models import Sequential\n",
    "from keras.callbacks import ReduceLROnPlateau\n",
    "from keras.models import load_model\n",
    "%matplotlib inline"
   ]
  },
  {
   "cell_type": "code",
   "execution_count": 2,
   "id": "c268b59b",
   "metadata": {},
   "outputs": [],
   "source": [
    "df = pd.read_csv(\"df_with_gcs.txt\",sep=',',header=0)"
   ]
  },
  {
   "cell_type": "code",
   "execution_count": 3,
   "id": "e9e0ee5c",
   "metadata": {},
   "outputs": [],
   "source": [
    "#划分训练测试集\n",
    "from sklearn.model_selection import train_test_split\n",
    "\n",
    "train_set, test_set = train_test_split(df, test_size=0.1, random_state=42)"
   ]
  },
  {
   "cell_type": "markdown",
   "id": "59d7c98f",
   "metadata": {},
   "source": [
    "处理词向量"
   ]
  },
  {
   "cell_type": "code",
   "execution_count": 4,
   "id": "12c63f87",
   "metadata": {},
   "outputs": [],
   "source": [
    "from gensim.models import word2vec\n",
    "import logging\n",
    "logging.basicConfig(format='%(asctime)s : %(levelname)s : %(message)s', level=logging.INFO) "
   ]
  },
  {
   "cell_type": "code",
   "execution_count": 5,
   "id": "f13dfd1d",
   "metadata": {},
   "outputs": [],
   "source": [
    "# 切分词汇\n",
    "def cut(data):\n",
    "    cut= [s.split() for s in data['TriageNote'].astype(str)]\n",
    "    return cut"
   ]
  },
  {
   "cell_type": "code",
   "execution_count": 6,
   "id": "94dd810e",
   "metadata": {},
   "outputs": [],
   "source": [
    "train_text=cut(train_set)\n",
    "test_text=cut(test_set)\n",
    "sentences=train_text+test_text"
   ]
  },
  {
   "cell_type": "code",
   "execution_count": 7,
   "id": "2b4b566b",
   "metadata": {},
   "outputs": [
    {
     "data": {
      "text/plain": [
       "57"
      ]
     },
     "execution_count": 7,
     "metadata": {},
     "output_type": "execute_result"
    }
   ],
   "source": [
    "#得到最大句子长度\n",
    "num_list=[len(one) for one in sentences]\n",
    "max(num_list)"
   ]
  },
  {
   "cell_type": "code",
   "execution_count": 8,
   "id": "25aa3ce1",
   "metadata": {},
   "outputs": [],
   "source": [
    "maxLen=64"
   ]
  },
  {
   "cell_type": "code",
   "execution_count": 9,
   "id": "cad599c7",
   "metadata": {},
   "outputs": [],
   "source": [
    "#处理label->one_hot\n",
    "from sklearn.preprocessing import LabelEncoder\n",
    "\n",
    "def encodelabel(data):\n",
    "    le = LabelEncoder()\n",
    "    resultLable=le.fit_transform(data['DISPOSITION'])\n",
    "    return resultLable\n"
   ]
  },
  {
   "cell_type": "code",
   "execution_count": 10,
   "id": "b3dcf8dc",
   "metadata": {},
   "outputs": [],
   "source": [
    "train_lable=encodelabel(train_set)\n",
    "test_lable=encodelabel(test_set)"
   ]
  },
  {
   "cell_type": "code",
   "execution_count": 11,
   "id": "1f35b5d9",
   "metadata": {},
   "outputs": [
    {
     "name": "stderr",
     "output_type": "stream",
     "text": [
      "2022-11-09 17:25:25,280 : INFO : loading Word2Vec object from ./word2vec_all.model\n",
      "2022-11-09 17:25:25,289 : INFO : loading wv recursively from ./word2vec_all.model.wv.* with mmap=None\n",
      "2022-11-09 17:25:25,289 : INFO : setting ignored attribute cum_table to None\n",
      "2022-11-09 17:25:25,357 : INFO : Word2Vec lifecycle event {'fname': './word2vec_all.model', 'datetime': '2022-11-09T17:25:25.357025', 'gensim': '4.2.0', 'python': '3.10.6 | packaged by conda-forge | (main, Oct 24 2022, 16:02:16) [MSC v.1916 64 bit (AMD64)]', 'platform': 'Windows-10-10.0.22000-SP0', 'event': 'loaded'}\n"
     ]
    }
   ],
   "source": [
    "wvmodel = word2vec.Word2Vec.load(\"./word2vec_all.model\")"
   ]
  },
  {
   "cell_type": "code",
   "execution_count": 13,
   "id": "9cc89146",
   "metadata": {},
   "outputs": [],
   "source": [
    "nekg=np.load('./1-999 100d step 1/conkb 0-999 100d.npy')"
   ]
  },
  {
   "cell_type": "code",
   "execution_count": 14,
   "id": "26830919",
   "metadata": {},
   "outputs": [],
   "source": [
    "tokenizer=Tokenizer()\n",
    "tokenizer.fit_on_texts(sentences)\n",
    "vocab = tokenizer.word_index "
   ]
  },
  {
   "cell_type": "code",
   "execution_count": 15,
   "id": "d6b9da6f",
   "metadata": {},
   "outputs": [],
   "source": [
    "#特征数字编号，不足的话会在前面补充0\n",
    "trainID = tokenizer.texts_to_sequences(train_text)\n",
    "# print(trainID)\n",
    "testID = tokenizer.texts_to_sequences(test_text)\n",
    "trainSeq=pad_sequences(trainID,maxlen=maxLen)\n",
    "#print(trainSeq)\n",
    "testSeq=pad_sequences(testID,maxlen=maxLen)\n",
    "\n",
    "#标签的独热编码\n",
    "trainCate = to_categorical(train_lable, num_classes=2)  # 将标签转换为one-hot编码\n",
    "#print(trainCate)\n",
    "testCate= to_categorical(test_lable, num_classes=2)  # 将标签转换为one-hot编码"
   ]
  },
  {
   "cell_type": "code",
   "execution_count": 16,
   "id": "cc516388",
   "metadata": {},
   "outputs": [],
   "source": [
    "def nekg_embed(n0):\n",
    "    n1=int(n0)\n",
    "    n2=int(n0)+1\n",
    "    s1=(n2-n0)/(n2-n1)\n",
    "    s2=(n0-n1)/(n2-n1)\n",
    "    return s1*nekg[n1]+s2*nekg[n2]"
   ]
  },
  {
   "cell_type": "markdown",
   "id": "a404252e",
   "metadata": {},
   "source": [
    "embedding_matrix = np.zeros((len(vocab) + 1, 100))\n",
    "for word, i in vocab.items():\n",
    "    try:\n",
    "        embedding_vector = wvmodel.wv[str(word)]\n",
    "        embedding_matrix[i] = embedding_vector    \n",
    "    except KeyError:\n",
    "        continue"
   ]
  },
  {
   "cell_type": "code",
   "execution_count": 17,
   "id": "88a8378f",
   "metadata": {},
   "outputs": [],
   "source": [
    "#利用训练后的word2vec自定义Embedding的训练矩阵，每行代表一个词（结合独热码和矩阵乘法理解）\n",
    "embedding_matrix = np.zeros((len(vocab) + 1, 100))\n",
    "for word, i in vocab.items():\n",
    "    try:\n",
    "        if(word.isdigit()==False):#对word用word2vec\n",
    "            embedding_vector = wvmodel.wv[str(word)]\n",
    "        else:#对number用nekg\n",
    "            if (int(float(word))<=999):\n",
    "                embedding_vector =  nekg_embed(float(word))\n",
    "            else:\n",
    "                embedding_vector = wvmodel.wv[str(word)]\n",
    "        embedding_matrix[i] = embedding_vector    \n",
    "    except KeyError:\n",
    "        continue"
   ]
  },
  {
   "cell_type": "code",
   "execution_count": 18,
   "id": "1fa9c8f0",
   "metadata": {},
   "outputs": [
    {
     "name": "stdout",
     "output_type": "stream",
     "text": [
      "Model: \"sequential\"\n",
      "_________________________________________________________________\n",
      " Layer (type)                Output Shape              Param #   \n",
      "=================================================================\n",
      " embedding (Embedding)       (None, 64, 100)           806300    \n",
      "                                                                 \n",
      " lstm (LSTM)                 (None, 64)                42240     \n",
      "                                                                 \n",
      " dropout (Dropout)           (None, 64)                0         \n",
      "                                                                 \n",
      " FC1 (Dense)                 (None, 64)                4160      \n",
      "                                                                 \n",
      " dropout_1 (Dropout)         (None, 64)                0         \n",
      "                                                                 \n",
      " FC2 (Dense)                 (None, 2)                 130       \n",
      "                                                                 \n",
      "=================================================================\n",
      "Total params: 852,830\n",
      "Trainable params: 852,830\n",
      "Non-trainable params: 0\n",
      "_________________________________________________________________\n",
      "Epoch 1/15\n",
      "154/154 [==============================] - 3s 12ms/step - loss: 0.6824 - accuracy: 0.5865 - val_loss: 0.6409 - val_accuracy: 0.7305\n",
      "Epoch 2/15\n",
      "154/154 [==============================] - 2s 11ms/step - loss: 0.6479 - accuracy: 0.6775 - val_loss: 0.6717 - val_accuracy: 0.6071\n",
      "Epoch 3/15\n",
      "154/154 [==============================] - 2s 11ms/step - loss: 0.6254 - accuracy: 0.6905 - val_loss: 0.6165 - val_accuracy: 0.6851\n",
      "Epoch 4/15\n",
      "154/154 [==============================] - 2s 10ms/step - loss: 0.6070 - accuracy: 0.7222 - val_loss: 0.6087 - val_accuracy: 0.7110\n",
      "Epoch 5/15\n",
      "154/154 [==============================] - 2s 10ms/step - loss: 0.5683 - accuracy: 0.7555 - val_loss: 0.5589 - val_accuracy: 0.7630\n",
      "Epoch 6/15\n",
      "154/154 [==============================] - 2s 10ms/step - loss: 0.5318 - accuracy: 0.7872 - val_loss: 0.5559 - val_accuracy: 0.7565\n",
      "Epoch 7/15\n",
      "154/154 [==============================] - 2s 10ms/step - loss: 0.5220 - accuracy: 0.7937 - val_loss: 0.5518 - val_accuracy: 0.7630\n",
      "Epoch 8/15\n",
      "154/154 [==============================] - 2s 10ms/step - loss: 0.4900 - accuracy: 0.8237 - val_loss: 0.5361 - val_accuracy: 0.7662\n",
      "Epoch 9/15\n",
      "154/154 [==============================] - 2s 10ms/step - loss: 0.4449 - accuracy: 0.8603 - val_loss: 0.5207 - val_accuracy: 0.7825\n",
      "Epoch 10/15\n",
      "154/154 [==============================] - 2s 10ms/step - loss: 0.4047 - accuracy: 0.8830 - val_loss: 0.5528 - val_accuracy: 0.7630\n",
      "Epoch 11/15\n",
      "154/154 [==============================] - 2s 10ms/step - loss: 0.3886 - accuracy: 0.8855 - val_loss: 0.5049 - val_accuracy: 0.7792\n",
      "Epoch 12/15\n",
      "154/154 [==============================] - 2s 10ms/step - loss: 0.3415 - accuracy: 0.9090 - val_loss: 0.5867 - val_accuracy: 0.7240\n",
      "Epoch 13/15\n",
      "154/154 [==============================] - 2s 10ms/step - loss: 0.3318 - accuracy: 0.9131 - val_loss: 0.5441 - val_accuracy: 0.7435\n"
     ]
    },
    {
     "name": "stderr",
     "output_type": "stream",
     "text": [
      "2022-11-09 17:25:59,332 : WARNING : Found untraced functions such as lstm_cell_layer_call_fn, lstm_cell_layer_call_and_return_conditional_losses while saving (showing 2 of 2). These functions will not be directly callable after loading.\n"
     ]
    },
    {
     "name": "stdout",
     "output_type": "stream",
     "text": [
      "INFO:tensorflow:Assets written to: LSTM\\assets\n"
     ]
    },
    {
     "name": "stderr",
     "output_type": "stream",
     "text": [
      "2022-11-09 17:25:59,698 : INFO : Assets written to: LSTM\\assets\n"
     ]
    }
   ],
   "source": [
    "## 定义LSTM模型\n",
    "batch_size=8\n",
    "inputs = Input(name='inputs',shape=[maxLen])\n",
    "embedder = Embedding(len(vocab) + 1, 100, input_length=maxLen, weights=[embedding_matrix], trainable=True)\n",
    "model=Sequential()\n",
    "model.add(embedder)\n",
    "model.add(LSTM(64))\n",
    "model.add(Dropout(0.4))\n",
    "model.add(Dense(64,activation=\"softmax\",name=\"FC1\"))\n",
    "model.add(Dropout(0.4))\n",
    "model.add(Dense(2,activation=\"softmax\",name=\"FC2\"))\n",
    "model.summary()\n",
    "model.compile(loss=\"categorical_crossentropy\",optimizer=RMSprop(),metrics=[\"accuracy\"])\n",
    "#reduce_lr = ReduceLROnPlateau(monitor='val_loss',factor=0.1 ,patience=3, mode='auto')\n",
    "history=model.fit(trainSeq, trainCate, batch_size, epochs=15,validation_split=0.2, callbacks=[EarlyStopping(monitor='val_loss',patience=2)])\n",
    "model.save(\"LSTM\")"
   ]
  },
  {
   "cell_type": "code",
   "execution_count": 19,
   "id": "f6b394d2",
   "metadata": {},
   "outputs": [
    {
     "name": "stdout",
     "output_type": "stream",
     "text": [
      "6/6 [==============================] - 0s 3ms/step\n",
      "6/6 [==============================] - 0s 6ms/step - loss: 0.5762 - accuracy: 0.7076\n",
      "[0.576190173625946, 0.707602322101593]\n"
     ]
    }
   ],
   "source": [
    "#预测与评估\n",
    "mainModel = load_model('LSTM')\n",
    "result = mainModel.predict(testSeq)  # 预测样本属于每个类别的概率\n",
    "score = mainModel.evaluate(testSeq,\n",
    "                           testCate,\n",
    "                           batch_size=32)\n",
    "print(score)"
   ]
  },
  {
   "cell_type": "code",
   "execution_count": 20,
   "id": "5cd82ded",
   "metadata": {},
   "outputs": [
    {
     "data": {
      "image/png": "[encoded data removed]",
      "text/plain": [
       "<Figure size 640x480 with 1 Axes>"
      ]
     },
     "metadata": {},
     "output_type": "display_data"
    },
    {
     "data": {
      "image/png": "[encoded data removed]",
      "text/plain": [
       "<Figure size 640x480 with 1 Axes>"
      ]
     },
     "metadata": {},
     "output_type": "display_data"
    }
   ],
   "source": [
    "plt.plot(history.history['accuracy'])\n",
    "plt.plot(history.history['val_accuracy'])\n",
    "plt.title('Model accuracy')\n",
    "plt.ylabel('Accuracy')\n",
    "plt.xlabel('Epoch')\n",
    "plt.legend(['Train','Valid'],loc='upper left')\n",
    "plt.show()\n",
    "\n",
    "plt.plot(history.history['loss'])\n",
    "plt.plot(history.history['val_loss'])\n",
    "plt.title('Model loss')\n",
    "plt.ylabel('Loss')\n",
    "plt.xlabel('Epoch')\n",
    "plt.legend(['Train','Valid'],loc='upper left')\n",
    "plt.show()"
   ]
  },
  {
   "cell_type": "code",
   "execution_count": 21,
   "id": "5450d945",
   "metadata": {},
   "outputs": [
    {
     "name": "stdout",
     "output_type": "stream",
     "text": [
      "Model: \"sequential_1\"\n",
      "_________________________________________________________________\n",
      " Layer (type)                Output Shape              Param #   \n",
      "=================================================================\n",
      " embedding_1 (Embedding)     (None, 64, 100)           806300    \n",
      "                                                                 \n",
      " lstm_1 (LSTM)               (None, 64)                42240     \n",
      "                                                                 \n",
      " dropout_2 (Dropout)         (None, 64)                0         \n",
      "                                                                 \n",
      " FC1 (Dense)                 (None, 64)                4160      \n",
      "                                                                 \n",
      " dropout_3 (Dropout)         (None, 64)                0         \n",
      "                                                                 \n",
      " FC2 (Dense)                 (None, 2)                 130       \n",
      "                                                                 \n",
      "=================================================================\n",
      "Total params: 852,830\n",
      "Trainable params: 852,830\n",
      "Non-trainable params: 0\n",
      "_________________________________________________________________\n",
      "Epoch 1/15\n",
      "154/154 [==============================] - 3s 12ms/step - loss: 0.6896 - accuracy: 0.5288 - val_loss: 0.6694 - val_accuracy: 0.6461\n",
      "Epoch 2/15\n",
      "154/154 [==============================] - 2s 10ms/step - loss: 0.6471 - accuracy: 0.6807 - val_loss: 0.6325 - val_accuracy: 0.6818\n",
      "Epoch 3/15\n",
      "154/154 [==============================] - 2s 10ms/step - loss: 0.6130 - accuracy: 0.7287 - val_loss: 0.6027 - val_accuracy: 0.7143\n",
      "Epoch 4/15\n",
      "154/154 [==============================] - 2s 10ms/step - loss: 0.5916 - accuracy: 0.7384 - val_loss: 0.5825 - val_accuracy: 0.7240\n",
      "Epoch 5/15\n",
      "154/154 [==============================] - 2s 10ms/step - loss: 0.5652 - accuracy: 0.7693 - val_loss: 0.6451 - val_accuracy: 0.6429\n",
      "Epoch 6/15\n",
      "154/154 [==============================] - 2s 10ms/step - loss: 0.5326 - accuracy: 0.7855 - val_loss: 0.5599 - val_accuracy: 0.7468\n",
      "Epoch 7/15\n",
      "154/154 [==============================] - 2s 10ms/step - loss: 0.4934 - accuracy: 0.8229 - val_loss: 0.5425 - val_accuracy: 0.7565\n",
      "Epoch 8/15\n",
      "154/154 [==============================] - 2s 10ms/step - loss: 0.4429 - accuracy: 0.8481 - val_loss: 0.5291 - val_accuracy: 0.7630\n",
      "Epoch 9/15\n",
      "154/154 [==============================] - 2s 10ms/step - loss: 0.3898 - accuracy: 0.8798 - val_loss: 0.5176 - val_accuracy: 0.7662\n",
      "Epoch 10/15\n",
      "154/154 [==============================] - 2s 10ms/step - loss: 0.3514 - accuracy: 0.8936 - val_loss: 0.5155 - val_accuracy: 0.7630\n",
      "Epoch 11/15\n",
      "154/154 [==============================] - 2s 10ms/step - loss: 0.2996 - accuracy: 0.9106 - val_loss: 0.5231 - val_accuracy: 0.7662\n",
      "Epoch 12/15\n",
      "154/154 [==============================] - 2s 10ms/step - loss: 0.2697 - accuracy: 0.9253 - val_loss: 0.4963 - val_accuracy: 0.7760\n",
      "Epoch 13/15\n",
      "154/154 [==============================] - 2s 10ms/step - loss: 0.2361 - accuracy: 0.9423 - val_loss: 0.5585 - val_accuracy: 0.7305\n",
      "Epoch 14/15\n",
      "154/154 [==============================] - 2s 10ms/step - loss: 0.1993 - accuracy: 0.9496 - val_loss: 0.5714 - val_accuracy: 0.7532\n",
      "6/6 [==============================] - 0s 6ms/step\n",
      "6/6 [==============================] - 0s 6ms/step - loss: 0.6307 - accuracy: 0.7251\n",
      "Model: \"sequential_2\"\n",
      "_________________________________________________________________\n",
      " Layer (type)                Output Shape              Param #   \n",
      "=================================================================\n",
      " embedding_2 (Embedding)     (None, 64, 100)           806300    \n",
      "                                                                 \n",
      " lstm_2 (LSTM)               (None, 64)                42240     \n",
      "                                                                 \n",
      " dropout_4 (Dropout)         (None, 64)                0         \n",
      "                                                                 \n",
      " FC1 (Dense)                 (None, 64)                4160      \n",
      "                                                                 \n",
      " dropout_5 (Dropout)         (None, 64)                0         \n",
      "                                                                 \n",
      " FC2 (Dense)                 (None, 2)                 130       \n",
      "                                                                 \n",
      "=================================================================\n",
      "Total params: 852,830\n",
      "Trainable params: 852,830\n",
      "Non-trainable params: 0\n",
      "_________________________________________________________________\n",
      "Epoch 1/15\n",
      "154/154 [==============================] - 3s 12ms/step - loss: 0.6828 - accuracy: 0.5955 - val_loss: 0.6544 - val_accuracy: 0.7565\n",
      "Epoch 2/15\n",
      "154/154 [==============================] - 2s 10ms/step - loss: 0.6440 - accuracy: 0.6970 - val_loss: 0.6492 - val_accuracy: 0.6494\n",
      "Epoch 3/15\n",
      "154/154 [==============================] - 2s 10ms/step - loss: 0.6103 - accuracy: 0.7262 - val_loss: 0.6204 - val_accuracy: 0.6916\n",
      "Epoch 4/15\n",
      "154/154 [==============================] - 2s 10ms/step - loss: 0.5755 - accuracy: 0.7660 - val_loss: 0.5762 - val_accuracy: 0.7468\n",
      "Epoch 5/15\n",
      "154/154 [==============================] - 2s 10ms/step - loss: 0.5520 - accuracy: 0.7725 - val_loss: 0.5992 - val_accuracy: 0.7208\n",
      "Epoch 6/15\n",
      "154/154 [==============================] - 2s 10ms/step - loss: 0.5033 - accuracy: 0.8091 - val_loss: 0.5559 - val_accuracy: 0.7500\n",
      "Epoch 7/15\n",
      "154/154 [==============================] - 2s 10ms/step - loss: 0.4781 - accuracy: 0.8262 - val_loss: 0.5350 - val_accuracy: 0.7597\n",
      "Epoch 8/15\n",
      "154/154 [==============================] - 2s 10ms/step - loss: 0.4439 - accuracy: 0.8408 - val_loss: 0.5596 - val_accuracy: 0.7338\n",
      "Epoch 9/15\n",
      "154/154 [==============================] - 2s 10ms/step - loss: 0.4026 - accuracy: 0.8635 - val_loss: 0.5173 - val_accuracy: 0.7890\n",
      "Epoch 10/15\n",
      "154/154 [==============================] - 2s 10ms/step - loss: 0.3772 - accuracy: 0.8781 - val_loss: 0.5843 - val_accuracy: 0.7045\n",
      "Epoch 11/15\n",
      "154/154 [==============================] - 2s 10ms/step - loss: 0.3402 - accuracy: 0.8952 - val_loss: 0.5354 - val_accuracy: 0.7630\n",
      "6/6 [==============================] - 0s 6ms/step\n",
      "6/6 [==============================] - 0s 6ms/step - loss: 0.5809 - accuracy: 0.7193\n",
      "Model: \"sequential_3\"\n",
      "_________________________________________________________________\n",
      " Layer (type)                Output Shape              Param #   \n",
      "=================================================================\n",
      " embedding_3 (Embedding)     (None, 64, 100)           806300    \n",
      "                                                                 \n",
      " lstm_3 (LSTM)               (None, 64)                42240     \n",
      "                                                                 \n",
      " dropout_6 (Dropout)         (None, 64)                0         \n",
      "                                                                 \n",
      " FC1 (Dense)                 (None, 64)                4160      \n",
      "                                                                 \n",
      " dropout_7 (Dropout)         (None, 64)                0         \n",
      "                                                                 \n",
      " FC2 (Dense)                 (None, 2)                 130       \n",
      "                                                                 \n",
      "=================================================================\n",
      "Total params: 852,830\n",
      "Trainable params: 852,830\n",
      "Non-trainable params: 0\n",
      "_________________________________________________________________\n",
      "Epoch 1/15\n",
      "154/154 [==============================] - 3s 12ms/step - loss: 0.6877 - accuracy: 0.5670 - val_loss: 0.6575 - val_accuracy: 0.7338\n",
      "Epoch 2/15\n",
      "154/154 [==============================] - 2s 10ms/step - loss: 0.6641 - accuracy: 0.6418 - val_loss: 0.6281 - val_accuracy: 0.7013\n",
      "Epoch 3/15\n",
      "154/154 [==============================] - 2s 10ms/step - loss: 0.6185 - accuracy: 0.7108 - val_loss: 0.6264 - val_accuracy: 0.6656\n",
      "Epoch 4/15\n",
      "154/154 [==============================] - 2s 10ms/step - loss: 0.5912 - accuracy: 0.7409 - val_loss: 0.5805 - val_accuracy: 0.7500\n",
      "Epoch 5/15\n",
      "154/154 [==============================] - 2s 10ms/step - loss: 0.5588 - accuracy: 0.7620 - val_loss: 0.5560 - val_accuracy: 0.7662\n"
     ]
    },
    {
     "name": "stdout",
     "output_type": "stream",
     "text": [
      "Epoch 6/15\n",
      "154/154 [==============================] - 2s 10ms/step - loss: 0.5297 - accuracy: 0.7904 - val_loss: 0.5767 - val_accuracy: 0.7208\n",
      "Epoch 7/15\n",
      "154/154 [==============================] - 2s 10ms/step - loss: 0.5271 - accuracy: 0.7896 - val_loss: 0.5916 - val_accuracy: 0.7208\n",
      "6/6 [==============================] - 0s 3ms/step\n",
      "6/6 [==============================] - 0s 3ms/step - loss: 0.6457 - accuracy: 0.6608\n",
      "Model: \"sequential_4\"\n",
      "_________________________________________________________________\n",
      " Layer (type)                Output Shape              Param #   \n",
      "=================================================================\n",
      " embedding_4 (Embedding)     (None, 64, 100)           806300    \n",
      "                                                                 \n",
      " lstm_4 (LSTM)               (None, 64)                42240     \n",
      "                                                                 \n",
      " dropout_8 (Dropout)         (None, 64)                0         \n",
      "                                                                 \n",
      " FC1 (Dense)                 (None, 64)                4160      \n",
      "                                                                 \n",
      " dropout_9 (Dropout)         (None, 64)                0         \n",
      "                                                                 \n",
      " FC2 (Dense)                 (None, 2)                 130       \n",
      "                                                                 \n",
      "=================================================================\n",
      "Total params: 852,830\n",
      "Trainable params: 852,830\n",
      "Non-trainable params: 0\n",
      "_________________________________________________________________\n",
      "Epoch 1/15\n",
      "154/154 [==============================] - 3s 12ms/step - loss: 0.6839 - accuracy: 0.5719 - val_loss: 0.6879 - val_accuracy: 0.5552\n",
      "Epoch 2/15\n",
      "154/154 [==============================] - 2s 10ms/step - loss: 0.6555 - accuracy: 0.6613 - val_loss: 0.6903 - val_accuracy: 0.5649\n",
      "Epoch 3/15\n",
      "154/154 [==============================] - 2s 10ms/step - loss: 0.6516 - accuracy: 0.6564 - val_loss: 0.6317 - val_accuracy: 0.6916\n",
      "Epoch 4/15\n",
      "154/154 [==============================] - 2s 10ms/step - loss: 0.6005 - accuracy: 0.7352 - val_loss: 0.5841 - val_accuracy: 0.7435\n",
      "Epoch 5/15\n",
      "154/154 [==============================] - 2s 10ms/step - loss: 0.5932 - accuracy: 0.7295 - val_loss: 0.5738 - val_accuracy: 0.7435\n",
      "Epoch 6/15\n",
      "154/154 [==============================] - 2s 10ms/step - loss: 0.5512 - accuracy: 0.7677 - val_loss: 0.5665 - val_accuracy: 0.7597\n",
      "Epoch 7/15\n",
      "154/154 [==============================] - 2s 10ms/step - loss: 0.5092 - accuracy: 0.8010 - val_loss: 0.5719 - val_accuracy: 0.7370\n",
      "Epoch 8/15\n",
      "154/154 [==============================] - 2s 10ms/step - loss: 0.4717 - accuracy: 0.8343 - val_loss: 0.5181 - val_accuracy: 0.7760\n",
      "Epoch 9/15\n",
      "154/154 [==============================] - 2s 10ms/step - loss: 0.4354 - accuracy: 0.8562 - val_loss: 0.5557 - val_accuracy: 0.7403\n",
      "Epoch 10/15\n",
      "154/154 [==============================] - 2s 10ms/step - loss: 0.3858 - accuracy: 0.8790 - val_loss: 0.5002 - val_accuracy: 0.7987\n",
      "Epoch 11/15\n",
      "154/154 [==============================] - 2s 10ms/step - loss: 0.3538 - accuracy: 0.9001 - val_loss: 0.4956 - val_accuracy: 0.7857\n",
      "Epoch 12/15\n",
      "154/154 [==============================] - 2s 10ms/step - loss: 0.3103 - accuracy: 0.9115 - val_loss: 0.5149 - val_accuracy: 0.7727\n",
      "Epoch 13/15\n",
      "154/154 [==============================] - 2s 10ms/step - loss: 0.2731 - accuracy: 0.9228 - val_loss: 0.4990 - val_accuracy: 0.7825\n",
      "6/6 [==============================] - 0s 6ms/step\n",
      "6/6 [==============================] - 0s 6ms/step - loss: 0.5896 - accuracy: 0.7135\n",
      "Model: \"sequential_5\"\n",
      "_________________________________________________________________\n",
      " Layer (type)                Output Shape              Param #   \n",
      "=================================================================\n",
      " embedding_5 (Embedding)     (None, 64, 100)           806300    \n",
      "                                                                 \n",
      " lstm_5 (LSTM)               (None, 64)                42240     \n",
      "                                                                 \n",
      " dropout_10 (Dropout)        (None, 64)                0         \n",
      "                                                                 \n",
      " FC1 (Dense)                 (None, 64)                4160      \n",
      "                                                                 \n",
      " dropout_11 (Dropout)        (None, 64)                0         \n",
      "                                                                 \n",
      " FC2 (Dense)                 (None, 2)                 130       \n",
      "                                                                 \n",
      "=================================================================\n",
      "Total params: 852,830\n",
      "Trainable params: 852,830\n",
      "Non-trainable params: 0\n",
      "_________________________________________________________________\n",
      "Epoch 1/15\n",
      "154/154 [==============================] - 3s 12ms/step - loss: 0.6828 - accuracy: 0.5784 - val_loss: 0.6462 - val_accuracy: 0.7240\n",
      "Epoch 2/15\n",
      "154/154 [==============================] - 2s 10ms/step - loss: 0.6460 - accuracy: 0.6897 - val_loss: 0.6304 - val_accuracy: 0.6948\n",
      "Epoch 3/15\n",
      "154/154 [==============================] - 2s 10ms/step - loss: 0.6117 - accuracy: 0.7084 - val_loss: 0.5954 - val_accuracy: 0.7370\n",
      "Epoch 4/15\n",
      "154/154 [==============================] - 2s 10ms/step - loss: 0.5751 - accuracy: 0.7465 - val_loss: 0.5729 - val_accuracy: 0.7370\n",
      "Epoch 5/15\n",
      "154/154 [==============================] - 2s 10ms/step - loss: 0.5295 - accuracy: 0.7847 - val_loss: 0.5680 - val_accuracy: 0.7662\n",
      "Epoch 6/15\n",
      "154/154 [==============================] - 2s 10ms/step - loss: 0.5041 - accuracy: 0.7994 - val_loss: 0.5344 - val_accuracy: 0.7597\n",
      "Epoch 7/15\n",
      "154/154 [==============================] - 2s 10ms/step - loss: 0.4814 - accuracy: 0.8091 - val_loss: 0.5385 - val_accuracy: 0.7662\n",
      "Epoch 8/15\n",
      "154/154 [==============================] - 2s 10ms/step - loss: 0.4296 - accuracy: 0.8457 - val_loss: 0.5288 - val_accuracy: 0.7760\n",
      "Epoch 9/15\n",
      "154/154 [==============================] - 2s 10ms/step - loss: 0.3923 - accuracy: 0.8708 - val_loss: 0.5719 - val_accuracy: 0.7338\n",
      "Epoch 10/15\n",
      "154/154 [==============================] - 2s 10ms/step - loss: 0.3497 - accuracy: 0.8968 - val_loss: 0.5128 - val_accuracy: 0.7695\n",
      "Epoch 11/15\n",
      "154/154 [==============================] - 2s 10ms/step - loss: 0.3128 - accuracy: 0.9115 - val_loss: 0.5196 - val_accuracy: 0.7565\n",
      "Epoch 12/15\n",
      "154/154 [==============================] - 2s 10ms/step - loss: 0.2617 - accuracy: 0.9342 - val_loss: 0.5098 - val_accuracy: 0.7792\n",
      "Epoch 13/15\n",
      "154/154 [==============================] - 2s 10ms/step - loss: 0.2267 - accuracy: 0.9366 - val_loss: 0.5133 - val_accuracy: 0.7727\n",
      "Epoch 14/15\n",
      "154/154 [==============================] - 2s 10ms/step - loss: 0.1981 - accuracy: 0.9529 - val_loss: 0.5460 - val_accuracy: 0.7630\n",
      "6/6 [==============================] - 0s 6ms/step\n",
      "6/6 [==============================] - 0s 4ms/step - loss: 0.6463 - accuracy: 0.7018\n",
      "Model: \"sequential_6\"\n",
      "_________________________________________________________________\n",
      " Layer (type)                Output Shape              Param #   \n",
      "=================================================================\n",
      " embedding_6 (Embedding)     (None, 64, 100)           806300    \n",
      "                                                                 \n",
      " lstm_6 (LSTM)               (None, 64)                42240     \n",
      "                                                                 \n",
      " dropout_12 (Dropout)        (None, 64)                0         \n",
      "                                                                 \n",
      " FC1 (Dense)                 (None, 64)                4160      \n",
      "                                                                 \n",
      " dropout_13 (Dropout)        (None, 64)                0         \n",
      "                                                                 \n",
      " FC2 (Dense)                 (None, 2)                 130       \n",
      "                                                                 \n",
      "=================================================================\n",
      "Total params: 852,830\n",
      "Trainable params: 852,830\n",
      "Non-trainable params: 0\n",
      "_________________________________________________________________\n"
     ]
    },
    {
     "name": "stdout",
     "output_type": "stream",
     "text": [
      "Epoch 1/15\n",
      "154/154 [==============================] - 3s 12ms/step - loss: 0.6836 - accuracy: 0.5776 - val_loss: 0.6907 - val_accuracy: 0.5292\n",
      "Epoch 2/15\n",
      "154/154 [==============================] - 2s 10ms/step - loss: 0.6358 - accuracy: 0.6946 - val_loss: 0.6386 - val_accuracy: 0.6721\n",
      "Epoch 3/15\n",
      "154/154 [==============================] - 2s 10ms/step - loss: 0.6294 - accuracy: 0.6832 - val_loss: 0.6202 - val_accuracy: 0.6948\n",
      "Epoch 4/15\n",
      "154/154 [==============================] - 2s 10ms/step - loss: 0.6103 - accuracy: 0.7157 - val_loss: 0.5893 - val_accuracy: 0.7240\n",
      "Epoch 5/15\n",
      "154/154 [==============================] - 2s 10ms/step - loss: 0.5824 - accuracy: 0.7392 - val_loss: 0.5792 - val_accuracy: 0.7468\n",
      "Epoch 6/15\n",
      "154/154 [==============================] - 2s 10ms/step - loss: 0.5742 - accuracy: 0.7474 - val_loss: 0.5903 - val_accuracy: 0.7208\n",
      "Epoch 7/15\n",
      "154/154 [==============================] - 2s 10ms/step - loss: 0.5213 - accuracy: 0.7855 - val_loss: 0.5620 - val_accuracy: 0.7403\n",
      "Epoch 8/15\n",
      "154/154 [==============================] - 2s 10ms/step - loss: 0.5063 - accuracy: 0.7961 - val_loss: 0.5359 - val_accuracy: 0.7597\n",
      "Epoch 9/15\n",
      "154/154 [==============================] - 2s 10ms/step - loss: 0.4532 - accuracy: 0.8432 - val_loss: 0.5220 - val_accuracy: 0.7825\n",
      "Epoch 10/15\n",
      "154/154 [==============================] - 2s 10ms/step - loss: 0.4014 - accuracy: 0.8627 - val_loss: 0.5357 - val_accuracy: 0.7565\n",
      "Epoch 11/15\n",
      "154/154 [==============================] - 2s 10ms/step - loss: 0.3681 - accuracy: 0.8830 - val_loss: 0.5221 - val_accuracy: 0.7565\n",
      "6/6 [==============================] - 1s 6ms/step\n",
      "6/6 [==============================] - 0s 6ms/step - loss: 0.6125 - accuracy: 0.7018\n",
      "Model: \"sequential_7\"\n",
      "_________________________________________________________________\n",
      " Layer (type)                Output Shape              Param #   \n",
      "=================================================================\n",
      " embedding_7 (Embedding)     (None, 64, 100)           806300    \n",
      "                                                                 \n",
      " lstm_7 (LSTM)               (None, 64)                42240     \n",
      "                                                                 \n",
      " dropout_14 (Dropout)        (None, 64)                0         \n",
      "                                                                 \n",
      " FC1 (Dense)                 (None, 64)                4160      \n",
      "                                                                 \n",
      " dropout_15 (Dropout)        (None, 64)                0         \n",
      "                                                                 \n",
      " FC2 (Dense)                 (None, 2)                 130       \n",
      "                                                                 \n",
      "=================================================================\n",
      "Total params: 852,830\n",
      "Trainable params: 852,830\n",
      "Non-trainable params: 0\n",
      "_________________________________________________________________\n",
      "Epoch 1/15\n",
      "154/154 [==============================] - 3s 13ms/step - loss: 0.6809 - accuracy: 0.5865 - val_loss: 0.6463 - val_accuracy: 0.7273\n",
      "Epoch 2/15\n",
      "154/154 [==============================] - 2s 11ms/step - loss: 0.6533 - accuracy: 0.6637 - val_loss: 0.6544 - val_accuracy: 0.6396\n",
      "Epoch 3/15\n",
      "154/154 [==============================] - 2s 11ms/step - loss: 0.6123 - accuracy: 0.7222 - val_loss: 0.6170 - val_accuracy: 0.6981\n",
      "Epoch 4/15\n",
      "154/154 [==============================] - 2s 11ms/step - loss: 0.5991 - accuracy: 0.7181 - val_loss: 0.5864 - val_accuracy: 0.7240\n",
      "Epoch 5/15\n",
      "154/154 [==============================] - 2s 11ms/step - loss: 0.5696 - accuracy: 0.7693 - val_loss: 0.6557 - val_accuracy: 0.6266\n",
      "Epoch 6/15\n",
      "154/154 [==============================] - 2s 11ms/step - loss: 0.5358 - accuracy: 0.7888 - val_loss: 0.5745 - val_accuracy: 0.7305\n",
      "Epoch 7/15\n",
      "154/154 [==============================] - 2s 12ms/step - loss: 0.5373 - accuracy: 0.7742 - val_loss: 0.5495 - val_accuracy: 0.7565\n",
      "Epoch 8/15\n",
      "154/154 [==============================] - 2s 11ms/step - loss: 0.4486 - accuracy: 0.8505 - val_loss: 0.5743 - val_accuracy: 0.7305\n",
      "Epoch 9/15\n",
      "154/154 [==============================] - 2s 11ms/step - loss: 0.4056 - accuracy: 0.8587 - val_loss: 0.5513 - val_accuracy: 0.7630\n",
      "6/6 [==============================] - 0s 6ms/step\n",
      "6/6 [==============================] - 0s 6ms/step - loss: 0.6035 - accuracy: 0.6959\n",
      "Model: \"sequential_8\"\n",
      "_________________________________________________________________\n",
      " Layer (type)                Output Shape              Param #   \n",
      "=================================================================\n",
      " embedding_8 (Embedding)     (None, 64, 100)           806300    \n",
      "                                                                 \n",
      " lstm_8 (LSTM)               (None, 64)                42240     \n",
      "                                                                 \n",
      " dropout_16 (Dropout)        (None, 64)                0         \n",
      "                                                                 \n",
      " FC1 (Dense)                 (None, 64)                4160      \n",
      "                                                                 \n",
      " dropout_17 (Dropout)        (None, 64)                0         \n",
      "                                                                 \n",
      " FC2 (Dense)                 (None, 2)                 130       \n",
      "                                                                 \n",
      "=================================================================\n",
      "Total params: 852,830\n",
      "Trainable params: 852,830\n",
      "Non-trainable params: 0\n",
      "_________________________________________________________________\n",
      "Epoch 1/15\n",
      "154/154 [==============================] - 3s 12ms/step - loss: 0.6799 - accuracy: 0.5792 - val_loss: 0.6937 - val_accuracy: 0.5260\n",
      "Epoch 2/15\n",
      "154/154 [==============================] - 2s 11ms/step - loss: 0.6516 - accuracy: 0.6580 - val_loss: 0.6492 - val_accuracy: 0.6461\n",
      "Epoch 3/15\n",
      "154/154 [==============================] - 2s 11ms/step - loss: 0.6237 - accuracy: 0.6921 - val_loss: 0.6096 - val_accuracy: 0.7370\n",
      "Epoch 4/15\n",
      "154/154 [==============================] - 2s 11ms/step - loss: 0.5823 - accuracy: 0.7327 - val_loss: 0.6294 - val_accuracy: 0.6558\n",
      "Epoch 5/15\n",
      "154/154 [==============================] - 2s 11ms/step - loss: 0.5400 - accuracy: 0.7815 - val_loss: 0.6228 - val_accuracy: 0.6558\n",
      "6/6 [==============================] - 0s 3ms/step\n",
      "6/6 [==============================] - 0s 6ms/step - loss: 0.6145 - accuracy: 0.6667\n",
      "Model: \"sequential_9\"\n",
      "_________________________________________________________________\n",
      " Layer (type)                Output Shape              Param #   \n",
      "=================================================================\n",
      " embedding_9 (Embedding)     (None, 64, 100)           806300    \n",
      "                                                                 \n",
      " lstm_9 (LSTM)               (None, 64)                42240     \n",
      "                                                                 \n",
      " dropout_18 (Dropout)        (None, 64)                0         \n",
      "                                                                 \n",
      " FC1 (Dense)                 (None, 64)                4160      \n",
      "                                                                 \n",
      " dropout_19 (Dropout)        (None, 64)                0         \n",
      "                                                                 \n",
      " FC2 (Dense)                 (None, 2)                 130       \n",
      "                                                                 \n",
      "=================================================================\n",
      "Total params: 852,830\n",
      "Trainable params: 852,830\n",
      "Non-trainable params: 0\n",
      "_________________________________________________________________\n",
      "Epoch 1/15\n",
      "154/154 [==============================] - 3s 13ms/step - loss: 0.6800 - accuracy: 0.5857 - val_loss: 0.6470 - val_accuracy: 0.7143\n",
      "Epoch 2/15\n",
      "154/154 [==============================] - 2s 11ms/step - loss: 0.6442 - accuracy: 0.6962 - val_loss: 0.6227 - val_accuracy: 0.7078\n",
      "Epoch 3/15\n",
      "154/154 [==============================] - 2s 11ms/step - loss: 0.6107 - accuracy: 0.7141 - val_loss: 0.5971 - val_accuracy: 0.7338\n",
      "Epoch 4/15\n",
      "154/154 [==============================] - 2s 11ms/step - loss: 0.5782 - accuracy: 0.7490 - val_loss: 0.5982 - val_accuracy: 0.7240\n"
     ]
    },
    {
     "name": "stdout",
     "output_type": "stream",
     "text": [
      "Epoch 5/15\n",
      "154/154 [==============================] - 2s 11ms/step - loss: 0.5421 - accuracy: 0.7799 - val_loss: 0.5788 - val_accuracy: 0.7273\n",
      "Epoch 6/15\n",
      "154/154 [==============================] - 2s 11ms/step - loss: 0.5136 - accuracy: 0.8115 - val_loss: 0.5584 - val_accuracy: 0.7565\n",
      "Epoch 7/15\n",
      "154/154 [==============================] - 2s 11ms/step - loss: 0.4743 - accuracy: 0.8245 - val_loss: 0.5310 - val_accuracy: 0.7760\n",
      "Epoch 8/15\n",
      "154/154 [==============================] - 2s 11ms/step - loss: 0.4227 - accuracy: 0.8595 - val_loss: 0.5524 - val_accuracy: 0.7435\n",
      "Epoch 9/15\n",
      "154/154 [==============================] - 2s 11ms/step - loss: 0.3877 - accuracy: 0.8765 - val_loss: 0.5418 - val_accuracy: 0.7727\n",
      "6/6 [==============================] - 0s 5ms/step\n",
      "6/6 [==============================] - 0s 9ms/step - loss: 0.5697 - accuracy: 0.7310\n",
      "Model: \"sequential_10\"\n",
      "_________________________________________________________________\n",
      " Layer (type)                Output Shape              Param #   \n",
      "=================================================================\n",
      " embedding_10 (Embedding)    (None, 64, 100)           806300    \n",
      "                                                                 \n",
      " lstm_10 (LSTM)              (None, 64)                42240     \n",
      "                                                                 \n",
      " dropout_20 (Dropout)        (None, 64)                0         \n",
      "                                                                 \n",
      " FC1 (Dense)                 (None, 64)                4160      \n",
      "                                                                 \n",
      " dropout_21 (Dropout)        (None, 64)                0         \n",
      "                                                                 \n",
      " FC2 (Dense)                 (None, 2)                 130       \n",
      "                                                                 \n",
      "=================================================================\n",
      "Total params: 852,830\n",
      "Trainable params: 852,830\n",
      "Non-trainable params: 0\n",
      "_________________________________________________________________\n",
      "Epoch 1/15\n",
      "154/154 [==============================] - 3s 13ms/step - loss: 0.6843 - accuracy: 0.5743 - val_loss: 0.6540 - val_accuracy: 0.7110\n",
      "Epoch 2/15\n",
      "154/154 [==============================] - 2s 11ms/step - loss: 0.6438 - accuracy: 0.6897 - val_loss: 0.6350 - val_accuracy: 0.6656\n",
      "Epoch 3/15\n",
      "154/154 [==============================] - 2s 11ms/step - loss: 0.6224 - accuracy: 0.7002 - val_loss: 0.6423 - val_accuracy: 0.6591\n",
      "Epoch 4/15\n",
      "154/154 [==============================] - 2s 11ms/step - loss: 0.5952 - accuracy: 0.7335 - val_loss: 0.5815 - val_accuracy: 0.7370\n",
      "Epoch 5/15\n",
      "154/154 [==============================] - 2s 11ms/step - loss: 0.5523 - accuracy: 0.7766 - val_loss: 0.6122 - val_accuracy: 0.6916\n",
      "Epoch 6/15\n",
      "154/154 [==============================] - 2s 11ms/step - loss: 0.5188 - accuracy: 0.8042 - val_loss: 0.5875 - val_accuracy: 0.7143\n",
      "6/6 [==============================] - 0s 6ms/step\n",
      "6/6 [==============================] - 0s 6ms/step - loss: 0.6205 - accuracy: 0.6901\n"
     ]
    }
   ],
   "source": [
    "score_list=[]\n",
    "for i in range(10):\n",
    "    ## 定义LSTM模型\n",
    "    batch_size=8\n",
    "    inputs = Input(name='inputs',shape=[maxLen])\n",
    "    embedder = Embedding(len(vocab) + 1, 100, input_length=maxLen, weights=[embedding_matrix], trainable=True)\n",
    "    model=Sequential()\n",
    "    model.add(embedder)\n",
    "    model.add(LSTM(64))\n",
    "    model.add(Dropout(0.4,seed=12))\n",
    "    model.add(Dense(64,activation=\"softmax\",name=\"FC1\"))\n",
    "    model.add(Dropout(0.4,seed=12))\n",
    "    model.add(Dense(2,activation=\"softmax\",name=\"FC2\"))\n",
    "    model.summary()\n",
    "    model.compile(loss=\"categorical_crossentropy\",optimizer=RMSprop(),metrics=[\"accuracy\"])\n",
    "    #reduce_lr = ReduceLROnPlateau(monitor='val_loss',factor=0.1 ,patience=3, mode='auto')\n",
    "    history=model.fit(trainSeq, trainCate, batch_size, epochs=15,validation_split=0.2, callbacks=[EarlyStopping(monitor='val_loss',patience=2)])\n",
    "    result = model.predict(testSeq)  # 预测样本属于每个类别的概率\n",
    "    score = model.evaluate(testSeq,\n",
    "                               testCate,\n",
    "                               batch_size=32)\n",
    "    score_list.append(score[1])"
   ]
  },
  {
   "cell_type": "code",
   "execution_count": 22,
   "id": "7a7fbe16",
   "metadata": {},
   "outputs": [
    {
     "name": "stdout",
     "output_type": "stream",
     "text": [
      "accuracy:0.7005847990512848\n"
     ]
    }
   ],
   "source": [
    "print('accuracy:'+str(sum(score_list)/len(score_list)))"
   ]
  },
  {
   "cell_type": "code",
   "execution_count": 23,
   "id": "c717fe6f",
   "metadata": {},
   "outputs": [],
   "source": [
    "score_list.sort()"
   ]
  },
  {
   "cell_type": "code",
   "execution_count": 24,
   "id": "205e3cfa",
   "metadata": {},
   "outputs": [
    {
     "data": {
      "text/plain": [
       "[0.6608186960220337,\n",
       " 0.6666666865348816,\n",
       " 0.6900584697723389,\n",
       " 0.6959064602851868,\n",
       " 0.7017543911933899,\n",
       " 0.7017543911933899,\n",
       " 0.7134503126144409,\n",
       " 0.719298243522644,\n",
       " 0.7251461744308472,\n",
       " 0.7309941649436951]"
      ]
     },
     "execution_count": 24,
     "metadata": {},
     "output_type": "execute_result"
    }
   ],
   "source": [
    "score_list"
   ]
  },
  {
   "cell_type": "code",
   "execution_count": 125,
   "id": "8163c552",
   "metadata": {},
   "outputs": [
    {
     "data": {
      "text/plain": [
       "0.7141812890768051"
      ]
     },
     "execution_count": 125,
     "metadata": {},
     "output_type": "execute_result"
    }
   ],
   "source": [
    "sum(score_list[2:])/8"
   ]
  },
  {
   "cell_type": "code",
   "execution_count": null,
   "id": "983e9a74",
   "metadata": {},
   "outputs": [],
   "source": []
  }
 ],
 "metadata": {
  "kernelspec": {
   "display_name": "Python 3 (ipykernel)",
   "language": "python",
   "name": "python3"
  },
  "language_info": {
   "codemirror_mode": {
    "name": "ipython",
    "version": 3
   },
   "file_extension": ".py",
   "mimetype": "text/x-python",
   "name": "python",
   "nbconvert_exporter": "python",
   "pygments_lexer": "ipython3",
   "version": "3.10.6"
  }
 },
 "nbformat": 4,
 "nbformat_minor": 5
}
