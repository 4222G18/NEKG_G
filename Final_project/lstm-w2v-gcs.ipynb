{
 "cells": [
  {
   "cell_type": "markdown",
   "id": "d0d39990",
   "metadata": {},
   "source": [
    "this program only uses word2vec embedding method, which serves as a baseline"
   ]
  },
  {
   "cell_type": "code",
   "execution_count": 1,
   "id": "fce28d96",
   "metadata": {},
   "outputs": [],
   "source": [
    "import pandas as pd\n",
    "import numpy as np\n",
    "import matplotlib.pyplot as plt\n",
    "import seaborn as sns\n",
    "from sklearn import metrics\n",
    "from sklearn.preprocessing import LabelEncoder,OneHotEncoder\n",
    "from keras.models import Model\n",
    "from keras.layers import LSTM, Activation, Dense, Dropout, Input, Embedding\n",
    "from keras.optimizers import RMSprop\n",
    "from keras.preprocessing.text import Tokenizer\n",
    "from keras.preprocessing import sequence\n",
    "from keras.callbacks import EarlyStopping\n",
    "from keras_preprocessing.sequence import pad_sequences\n",
    "from keras.utils.np_utils import to_categorical\n",
    "from keras.models import Sequential\n",
    "from keras.callbacks import ReduceLROnPlateau\n",
    "from keras.models import load_model\n",
    "%matplotlib inline"
   ]
  },
  {
   "cell_type": "code",
   "execution_count": 2,
   "id": "c268b59b",
   "metadata": {},
   "outputs": [],
   "source": [
    "df = pd.read_csv(\"df_with_gcs.txt\",sep=',',header=0)"
   ]
  },
  {
   "cell_type": "code",
   "execution_count": 3,
   "id": "e9e0ee5c",
   "metadata": {},
   "outputs": [],
   "source": [
    "#划分训练测试集\n",
    "from sklearn.model_selection import train_test_split\n",
    "\n",
    "train_set, test_set = train_test_split(df, test_size=0.1, random_state=42)"
   ]
  },
  {
   "cell_type": "markdown",
   "id": "59d7c98f",
   "metadata": {},
   "source": [
    "处理词向量"
   ]
  },
  {
   "cell_type": "code",
   "execution_count": 4,
   "id": "12c63f87",
   "metadata": {},
   "outputs": [],
   "source": [
    "from gensim.models import word2vec\n",
    "import logging\n",
    "logging.basicConfig(format='%(asctime)s : %(levelname)s : %(message)s', level=logging.INFO) "
   ]
  },
  {
   "cell_type": "code",
   "execution_count": 5,
   "id": "f13dfd1d",
   "metadata": {},
   "outputs": [],
   "source": [
    "# 切分词汇\n",
    "def cut(data):\n",
    "    cut= [s.split() for s in data['TriageNote'].astype(str)]\n",
    "    return cut"
   ]
  },
  {
   "cell_type": "code",
   "execution_count": 6,
   "id": "94dd810e",
   "metadata": {},
   "outputs": [],
   "source": [
    "train_text=cut(train_set)\n",
    "test_text=cut(test_set)\n",
    "sentences=train_text+test_text"
   ]
  },
  {
   "cell_type": "code",
   "execution_count": 7,
   "id": "2b4b566b",
   "metadata": {},
   "outputs": [
    {
     "data": {
      "text/plain": [
       "57"
      ]
     },
     "execution_count": 7,
     "metadata": {},
     "output_type": "execute_result"
    }
   ],
   "source": [
    "#得到最大句子长度\n",
    "num_list=[len(one) for one in sentences]\n",
    "max(num_list)"
   ]
  },
  {
   "cell_type": "code",
   "execution_count": 8,
   "id": "25aa3ce1",
   "metadata": {},
   "outputs": [],
   "source": [
    "maxLen=64"
   ]
  },
  {
   "cell_type": "code",
   "execution_count": 9,
   "id": "cad599c7",
   "metadata": {},
   "outputs": [],
   "source": [
    "#处理label->one_hot\n",
    "from sklearn.preprocessing import LabelEncoder\n",
    "\n",
    "def encodelabel(data):\n",
    "    le = LabelEncoder()\n",
    "    resultLable=le.fit_transform(data['DISPOSITION'])\n",
    "    return resultLable\n"
   ]
  },
  {
   "cell_type": "code",
   "execution_count": 10,
   "id": "b3dcf8dc",
   "metadata": {},
   "outputs": [],
   "source": [
    "train_lable=encodelabel(train_set)\n",
    "test_lable=encodelabel(test_set)"
   ]
  },
  {
   "cell_type": "code",
   "execution_count": 11,
   "id": "1f35b5d9",
   "metadata": {},
   "outputs": [
    {
     "name": "stderr",
     "output_type": "stream",
     "text": [
      "2022-11-09 17:12:13,880 : INFO : loading Word2Vec object from ./word2vec_all.model\n",
      "2022-11-09 17:12:13,889 : INFO : loading wv recursively from ./word2vec_all.model.wv.* with mmap=None\n",
      "2022-11-09 17:12:13,889 : INFO : setting ignored attribute cum_table to None\n",
      "2022-11-09 17:12:13,961 : INFO : Word2Vec lifecycle event {'fname': './word2vec_all.model', 'datetime': '2022-11-09T17:12:13.961794', 'gensim': '4.2.0', 'python': '3.10.6 | packaged by conda-forge | (main, Oct 24 2022, 16:02:16) [MSC v.1916 64 bit (AMD64)]', 'platform': 'Windows-10-10.0.22000-SP0', 'event': 'loaded'}\n"
     ]
    }
   ],
   "source": [
    "wvmodel = word2vec.Word2Vec.load(\"./word2vec_all.model\")"
   ]
  },
  {
   "cell_type": "code",
   "execution_count": 12,
   "id": "26830919",
   "metadata": {},
   "outputs": [],
   "source": [
    "tokenizer=Tokenizer()\n",
    "tokenizer.fit_on_texts(sentences)\n",
    "vocab = tokenizer.word_index "
   ]
  },
  {
   "cell_type": "code",
   "execution_count": 13,
   "id": "d6b9da6f",
   "metadata": {},
   "outputs": [],
   "source": [
    "#特征数字编号，不足的话会在前面补充0\n",
    "trainID = tokenizer.texts_to_sequences(train_text)\n",
    "# print(trainID)\n",
    "testID = tokenizer.texts_to_sequences(test_text)\n",
    "trainSeq=pad_sequences(trainID,maxlen=maxLen)\n",
    "#print(trainSeq)\n",
    "testSeq=pad_sequences(testID,maxlen=maxLen)\n",
    "\n",
    "#标签的独热编码\n",
    "trainCate = to_categorical(train_lable, num_classes=2)  # 将标签转换为one-hot编码\n",
    "#print(trainCate)\n",
    "testCate= to_categorical(test_lable, num_classes=2)  # 将标签转换为one-hot编码"
   ]
  },
  {
   "cell_type": "markdown",
   "id": "a404252e",
   "metadata": {},
   "source": [
    "embedding_matrix = np.zeros((len(vocab) + 1, 100))\n",
    "for word, i in vocab.items():\n",
    "    try:\n",
    "        embedding_vector = wvmodel.wv[str(word)]\n",
    "        embedding_matrix[i] = embedding_vector    \n",
    "    except KeyError:\n",
    "        continue"
   ]
  },
  {
   "cell_type": "code",
   "execution_count": 16,
   "id": "88a8378f",
   "metadata": {},
   "outputs": [],
   "source": [
    "#利用训练后的word2vec自定义Embedding的训练矩阵，每行代表一个词（结合独热码和矩阵乘法理解）\n",
    "embedding_matrix = np.zeros((len(vocab) + 1, 100))\n",
    "for word, i in vocab.items():\n",
    "    try:\n",
    "        if(word.isdigit()==False):#对word用word2vec\n",
    "            embedding_vector = wvmodel.wv[str(word)]\n",
    "        embedding_matrix[i] = embedding_vector    \n",
    "    except KeyError:\n",
    "        continue"
   ]
  },
  {
   "cell_type": "code",
   "execution_count": 17,
   "id": "1fa9c8f0",
   "metadata": {},
   "outputs": [
    {
     "name": "stdout",
     "output_type": "stream",
     "text": [
      "Model: \"sequential\"\n",
      "_________________________________________________________________\n",
      " Layer (type)                Output Shape              Param #   \n",
      "=================================================================\n",
      " embedding (Embedding)       (None, 64, 100)           806300    \n",
      "                                                                 \n",
      " lstm (LSTM)                 (None, 64)                42240     \n",
      "                                                                 \n",
      " dropout (Dropout)           (None, 64)                0         \n",
      "                                                                 \n",
      " FC1 (Dense)                 (None, 64)                4160      \n",
      "                                                                 \n",
      " dropout_1 (Dropout)         (None, 64)                0         \n",
      "                                                                 \n",
      " FC2 (Dense)                 (None, 2)                 130       \n",
      "                                                                 \n",
      "=================================================================\n",
      "Total params: 852,830\n",
      "Trainable params: 852,830\n",
      "Non-trainable params: 0\n",
      "_________________________________________________________________\n",
      "Epoch 1/15\n",
      "154/154 [==============================] - 3s 12ms/step - loss: 0.6798 - accuracy: 0.5946 - val_loss: 0.6750 - val_accuracy: 0.5844\n",
      "Epoch 2/15\n",
      "154/154 [==============================] - 2s 10ms/step - loss: 0.6428 - accuracy: 0.6824 - val_loss: 0.6132 - val_accuracy: 0.7208\n",
      "Epoch 3/15\n",
      "154/154 [==============================] - 2s 10ms/step - loss: 0.6063 - accuracy: 0.7230 - val_loss: 0.6011 - val_accuracy: 0.6981\n",
      "Epoch 4/15\n",
      "154/154 [==============================] - 2s 10ms/step - loss: 0.5826 - accuracy: 0.7539 - val_loss: 0.5881 - val_accuracy: 0.7338\n",
      "Epoch 5/15\n",
      "154/154 [==============================] - 2s 10ms/step - loss: 0.5579 - accuracy: 0.7839 - val_loss: 0.5488 - val_accuracy: 0.7662\n",
      "Epoch 6/15\n",
      "154/154 [==============================] - 2s 10ms/step - loss: 0.5201 - accuracy: 0.8099 - val_loss: 0.5469 - val_accuracy: 0.7597\n",
      "Epoch 7/15\n",
      "154/154 [==============================] - 2s 10ms/step - loss: 0.4914 - accuracy: 0.8310 - val_loss: 0.5279 - val_accuracy: 0.7727\n",
      "Epoch 8/15\n",
      "154/154 [==============================] - 2s 10ms/step - loss: 0.4437 - accuracy: 0.8603 - val_loss: 0.5313 - val_accuracy: 0.7662\n",
      "Epoch 9/15\n",
      "154/154 [==============================] - 2s 10ms/step - loss: 0.4319 - accuracy: 0.8660 - val_loss: 0.5149 - val_accuracy: 0.7825\n",
      "Epoch 10/15\n",
      "154/154 [==============================] - 2s 10ms/step - loss: 0.3741 - accuracy: 0.8960 - val_loss: 0.5084 - val_accuracy: 0.7760\n",
      "Epoch 11/15\n",
      "154/154 [==============================] - 2s 10ms/step - loss: 0.3378 - accuracy: 0.9123 - val_loss: 0.5491 - val_accuracy: 0.7435\n",
      "Epoch 12/15\n",
      "154/154 [==============================] - 2s 10ms/step - loss: 0.3139 - accuracy: 0.9196 - val_loss: 0.5063 - val_accuracy: 0.7890\n",
      "Epoch 13/15\n",
      "154/154 [==============================] - 2s 10ms/step - loss: 0.2892 - accuracy: 0.9342 - val_loss: 0.5639 - val_accuracy: 0.7597\n",
      "Epoch 14/15\n",
      "154/154 [==============================] - 2s 10ms/step - loss: 0.2639 - accuracy: 0.9383 - val_loss: 0.5452 - val_accuracy: 0.7760\n"
     ]
    },
    {
     "name": "stderr",
     "output_type": "stream",
     "text": [
      "2022-11-09 17:13:22,836 : WARNING : Found untraced functions such as lstm_cell_layer_call_fn, lstm_cell_layer_call_and_return_conditional_losses while saving (showing 2 of 2). These functions will not be directly callable after loading.\n"
     ]
    },
    {
     "name": "stdout",
     "output_type": "stream",
     "text": [
      "INFO:tensorflow:Assets written to: LSTM\\assets\n"
     ]
    },
    {
     "name": "stderr",
     "output_type": "stream",
     "text": [
      "2022-11-09 17:13:23,193 : INFO : Assets written to: LSTM\\assets\n"
     ]
    }
   ],
   "source": [
    "## 定义LSTM模型\n",
    "batch_size=8\n",
    "inputs = Input(name='inputs',shape=[maxLen])\n",
    "embedder = Embedding(len(vocab) + 1, 100, input_length=maxLen, weights=[embedding_matrix], trainable=True)\n",
    "model=Sequential()\n",
    "model.add(embedder)\n",
    "model.add(LSTM(64))\n",
    "model.add(Dropout(0.4))\n",
    "model.add(Dense(64,activation=\"softmax\",name=\"FC1\"))\n",
    "model.add(Dropout(0.4))\n",
    "model.add(Dense(2,activation=\"softmax\",name=\"FC2\"))\n",
    "model.summary()\n",
    "model.compile(loss=\"categorical_crossentropy\",optimizer=RMSprop(),metrics=[\"accuracy\"])\n",
    "#reduce_lr = ReduceLROnPlateau(monitor='val_loss',factor=0.1 ,patience=3, mode='auto')\n",
    "history=model.fit(trainSeq, trainCate, batch_size, epochs=15,validation_split=0.2, callbacks=[EarlyStopping(monitor='val_loss',patience=2)])\n",
    "model.save(\"LSTM\")"
   ]
  },
  {
   "cell_type": "code",
   "execution_count": 18,
   "id": "f6b394d2",
   "metadata": {},
   "outputs": [
    {
     "name": "stdout",
     "output_type": "stream",
     "text": [
      "6/6 [==============================] - 0s 5ms/step\n",
      "6/6 [==============================] - 0s 5ms/step - loss: 0.6471 - accuracy: 0.7135\n",
      "[0.647078812122345, 0.7134503126144409]\n"
     ]
    }
   ],
   "source": [
    "#预测与评估\n",
    "mainModel = load_model('LSTM')\n",
    "result = mainModel.predict(testSeq)  # 预测样本属于每个类别的概率\n",
    "score = mainModel.evaluate(testSeq,\n",
    "                           testCate,\n",
    "                           batch_size=32)\n",
    "print(score)"
   ]
  },
  {
   "cell_type": "code",
   "execution_count": 19,
   "id": "5cd82ded",
   "metadata": {},
   "outputs": [
    {
     "data": {
      "image/png": "[encoded data removed]",
      "text/plain": [
       "<Figure size 640x480 with 1 Axes>"
      ]
     },
     "metadata": {},
     "output_type": "display_data"
    },
    {
     "data": {
      "image/png": "[encoded data removed]",
      "text/plain": [
       "<Figure size 640x480 with 1 Axes>"
      ]
     },
     "metadata": {},
     "output_type": "display_data"
    }
   ],
   "source": [
    "plt.plot(history.history['accuracy'])\n",
    "plt.plot(history.history['val_accuracy'])\n",
    "plt.title('Model accuracy')\n",
    "plt.ylabel('Accuracy')\n",
    "plt.xlabel('Epoch')\n",
    "plt.legend(['Train','Valid'],loc='upper left')\n",
    "plt.show()\n",
    "\n",
    "plt.plot(history.history['loss'])\n",
    "plt.plot(history.history['val_loss'])\n",
    "plt.title('Model loss')\n",
    "plt.ylabel('Loss')\n",
    "plt.xlabel('Epoch')\n",
    "plt.legend(['Train','Valid'],loc='upper left')\n",
    "plt.show()"
   ]
  },
  {
   "cell_type": "code",
   "execution_count": 26,
   "id": "5450d945",
   "metadata": {},
   "outputs": [
    {
     "name": "stdout",
     "output_type": "stream",
     "text": [
      "Model: \"sequential_11\"\n",
      "_________________________________________________________________\n",
      " Layer (type)                Output Shape              Param #   \n",
      "=================================================================\n",
      " embedding_11 (Embedding)    (None, 64, 100)           806300    \n",
      "                                                                 \n",
      " lstm_11 (LSTM)              (None, 64)                42240     \n",
      "                                                                 \n",
      " dropout_22 (Dropout)        (None, 64)                0         \n",
      "                                                                 \n",
      " FC1 (Dense)                 (None, 64)                4160      \n",
      "                                                                 \n",
      " dropout_23 (Dropout)        (None, 64)                0         \n",
      "                                                                 \n",
      " FC2 (Dense)                 (None, 2)                 130       \n",
      "                                                                 \n",
      "=================================================================\n",
      "Total params: 852,830\n",
      "Trainable params: 852,830\n",
      "Non-trainable params: 0\n",
      "_________________________________________________________________\n",
      "Epoch 1/15\n",
      "154/154 [==============================] - 3s 13ms/step - loss: 0.6812 - accuracy: 0.5760 - val_loss: 0.6787 - val_accuracy: 0.6006\n",
      "Epoch 2/15\n",
      "154/154 [==============================] - 2s 11ms/step - loss: 0.6526 - accuracy: 0.6596 - val_loss: 0.6217 - val_accuracy: 0.7305\n",
      "Epoch 3/15\n",
      "154/154 [==============================] - 2s 11ms/step - loss: 0.6191 - accuracy: 0.7124 - val_loss: 0.5916 - val_accuracy: 0.7532\n",
      "Epoch 4/15\n",
      "154/154 [==============================] - 2s 11ms/step - loss: 0.5925 - accuracy: 0.7555 - val_loss: 0.5976 - val_accuracy: 0.7110\n",
      "Epoch 5/15\n",
      "154/154 [==============================] - 2s 11ms/step - loss: 0.5651 - accuracy: 0.7604 - val_loss: 0.5716 - val_accuracy: 0.7500\n",
      "Epoch 6/15\n",
      "154/154 [==============================] - 2s 11ms/step - loss: 0.5382 - accuracy: 0.7839 - val_loss: 0.5683 - val_accuracy: 0.7435\n",
      "Epoch 7/15\n",
      "154/154 [==============================] - 2s 11ms/step - loss: 0.5056 - accuracy: 0.8075 - val_loss: 0.5526 - val_accuracy: 0.7435\n",
      "Epoch 8/15\n",
      "154/154 [==============================] - 2s 11ms/step - loss: 0.4686 - accuracy: 0.8253 - val_loss: 0.5489 - val_accuracy: 0.7468\n",
      "Epoch 9/15\n",
      "154/154 [==============================] - 2s 10ms/step - loss: 0.4341 - accuracy: 0.8448 - val_loss: 0.5393 - val_accuracy: 0.7695\n",
      "Epoch 10/15\n",
      "154/154 [==============================] - 2s 10ms/step - loss: 0.3713 - accuracy: 0.8863 - val_loss: 0.5108 - val_accuracy: 0.7825\n",
      "Epoch 11/15\n",
      "154/154 [==============================] - 2s 11ms/step - loss: 0.3444 - accuracy: 0.8985 - val_loss: 0.5512 - val_accuracy: 0.7532\n",
      "Epoch 12/15\n",
      "154/154 [==============================] - 2s 11ms/step - loss: 0.3184 - accuracy: 0.9139 - val_loss: 0.5565 - val_accuracy: 0.7403\n",
      "6/6 [==============================] - 0s 6ms/step\n",
      "6/6 [==============================] - 0s 6ms/step - loss: 0.6076 - accuracy: 0.7076\n",
      "Model: \"sequential_12\"\n",
      "_________________________________________________________________\n",
      " Layer (type)                Output Shape              Param #   \n",
      "=================================================================\n",
      " embedding_12 (Embedding)    (None, 64, 100)           806300    \n",
      "                                                                 \n",
      " lstm_12 (LSTM)              (None, 64)                42240     \n",
      "                                                                 \n",
      " dropout_24 (Dropout)        (None, 64)                0         \n",
      "                                                                 \n",
      " FC1 (Dense)                 (None, 64)                4160      \n",
      "                                                                 \n",
      " dropout_25 (Dropout)        (None, 64)                0         \n",
      "                                                                 \n",
      " FC2 (Dense)                 (None, 2)                 130       \n",
      "                                                                 \n",
      "=================================================================\n",
      "Total params: 852,830\n",
      "Trainable params: 852,830\n",
      "Non-trainable params: 0\n",
      "_________________________________________________________________\n",
      "Epoch 1/15\n",
      "154/154 [==============================] - 3s 13ms/step - loss: 0.6866 - accuracy: 0.5646 - val_loss: 0.6859 - val_accuracy: 0.5487\n",
      "Epoch 2/15\n",
      "154/154 [==============================] - 2s 11ms/step - loss: 0.6477 - accuracy: 0.6864 - val_loss: 0.6189 - val_accuracy: 0.7305\n",
      "Epoch 3/15\n",
      "154/154 [==============================] - 2s 10ms/step - loss: 0.6170 - accuracy: 0.7149 - val_loss: 0.5966 - val_accuracy: 0.7403\n",
      "Epoch 4/15\n",
      "154/154 [==============================] - 2s 11ms/step - loss: 0.5847 - accuracy: 0.7498 - val_loss: 0.5772 - val_accuracy: 0.7403\n",
      "Epoch 5/15\n",
      "154/154 [==============================] - 2s 11ms/step - loss: 0.5441 - accuracy: 0.7847 - val_loss: 0.5594 - val_accuracy: 0.7500\n",
      "Epoch 6/15\n",
      "154/154 [==============================] - 2s 11ms/step - loss: 0.5158 - accuracy: 0.8050 - val_loss: 0.5794 - val_accuracy: 0.7240\n",
      "Epoch 7/15\n",
      "154/154 [==============================] - 2s 10ms/step - loss: 0.4703 - accuracy: 0.8335 - val_loss: 0.5496 - val_accuracy: 0.7435\n",
      "Epoch 8/15\n",
      "154/154 [==============================] - 2s 10ms/step - loss: 0.4257 - accuracy: 0.8652 - val_loss: 0.6136 - val_accuracy: 0.6688\n",
      "Epoch 9/15\n",
      "154/154 [==============================] - 2s 11ms/step - loss: 0.3834 - accuracy: 0.8814 - val_loss: 0.5165 - val_accuracy: 0.7792\n",
      "Epoch 10/15\n",
      "154/154 [==============================] - 2s 10ms/step - loss: 0.3339 - accuracy: 0.9025 - val_loss: 0.5378 - val_accuracy: 0.7468\n",
      "Epoch 11/15\n",
      "154/154 [==============================] - 2s 11ms/step - loss: 0.3009 - accuracy: 0.9163 - val_loss: 0.5249 - val_accuracy: 0.7500\n",
      "6/6 [==============================] - 0s 3ms/step\n",
      "6/6 [==============================] - 0s 4ms/step - loss: 0.5895 - accuracy: 0.7135\n",
      "Model: \"sequential_13\"\n",
      "_________________________________________________________________\n",
      " Layer (type)                Output Shape              Param #   \n",
      "=================================================================\n",
      " embedding_13 (Embedding)    (None, 64, 100)           806300    \n",
      "                                                                 \n",
      " lstm_13 (LSTM)              (None, 64)                42240     \n",
      "                                                                 \n",
      " dropout_26 (Dropout)        (None, 64)                0         \n",
      "                                                                 \n",
      " FC1 (Dense)                 (None, 64)                4160      \n",
      "                                                                 \n",
      " dropout_27 (Dropout)        (None, 64)                0         \n",
      "                                                                 \n",
      " FC2 (Dense)                 (None, 2)                 130       \n",
      "                                                                 \n",
      "=================================================================\n",
      "Total params: 852,830\n",
      "Trainable params: 852,830\n",
      "Non-trainable params: 0\n",
      "_________________________________________________________________\n",
      "Epoch 1/15\n",
      "154/154 [==============================] - 3s 12ms/step - loss: 0.6853 - accuracy: 0.5556 - val_loss: 0.6625 - val_accuracy: 0.6786\n",
      "Epoch 2/15\n",
      "154/154 [==============================] - 2s 11ms/step - loss: 0.6534 - accuracy: 0.6661 - val_loss: 0.6708 - val_accuracy: 0.6136\n",
      "Epoch 3/15\n",
      "154/154 [==============================] - 2s 10ms/step - loss: 0.6182 - accuracy: 0.6994 - val_loss: 0.6214 - val_accuracy: 0.6883\n",
      "Epoch 4/15\n",
      "154/154 [==============================] - 2s 10ms/step - loss: 0.6073 - accuracy: 0.7206 - val_loss: 0.5866 - val_accuracy: 0.7175\n",
      "Epoch 5/15\n",
      "154/154 [==============================] - 2s 10ms/step - loss: 0.5618 - accuracy: 0.7604 - val_loss: 0.6171 - val_accuracy: 0.6656\n",
      "Epoch 6/15\n",
      "154/154 [==============================] - 2s 11ms/step - loss: 0.5289 - accuracy: 0.7888 - val_loss: 0.5813 - val_accuracy: 0.7305\n",
      "Epoch 7/15\n",
      "154/154 [==============================] - 2s 10ms/step - loss: 0.4916 - accuracy: 0.8075 - val_loss: 0.5415 - val_accuracy: 0.7500\n"
     ]
    },
    {
     "name": "stdout",
     "output_type": "stream",
     "text": [
      "Epoch 8/15\n",
      "154/154 [==============================] - 2s 10ms/step - loss: 0.4407 - accuracy: 0.8457 - val_loss: 0.5720 - val_accuracy: 0.7013\n",
      "Epoch 9/15\n",
      "154/154 [==============================] - 2s 10ms/step - loss: 0.4135 - accuracy: 0.8611 - val_loss: 0.5561 - val_accuracy: 0.7208\n",
      "6/6 [==============================] - 0s 5ms/step\n",
      "6/6 [==============================] - 0s 5ms/step - loss: 0.5861 - accuracy: 0.7076\n",
      "Model: \"sequential_14\"\n",
      "_________________________________________________________________\n",
      " Layer (type)                Output Shape              Param #   \n",
      "=================================================================\n",
      " embedding_14 (Embedding)    (None, 64, 100)           806300    \n",
      "                                                                 \n",
      " lstm_14 (LSTM)              (None, 64)                42240     \n",
      "                                                                 \n",
      " dropout_28 (Dropout)        (None, 64)                0         \n",
      "                                                                 \n",
      " FC1 (Dense)                 (None, 64)                4160      \n",
      "                                                                 \n",
      " dropout_29 (Dropout)        (None, 64)                0         \n",
      "                                                                 \n",
      " FC2 (Dense)                 (None, 2)                 130       \n",
      "                                                                 \n",
      "=================================================================\n",
      "Total params: 852,830\n",
      "Trainable params: 852,830\n",
      "Non-trainable params: 0\n",
      "_________________________________________________________________\n",
      "Epoch 1/15\n",
      "154/154 [==============================] - 3s 13ms/step - loss: 0.6864 - accuracy: 0.5678 - val_loss: 0.6812 - val_accuracy: 0.5649\n",
      "Epoch 2/15\n",
      "154/154 [==============================] - 2s 12ms/step - loss: 0.6501 - accuracy: 0.6905 - val_loss: 0.6153 - val_accuracy: 0.7403\n",
      "Epoch 3/15\n",
      "154/154 [==============================] - 2s 12ms/step - loss: 0.6196 - accuracy: 0.7011 - val_loss: 0.5924 - val_accuracy: 0.7370\n",
      "Epoch 4/15\n",
      "154/154 [==============================] - 2s 12ms/step - loss: 0.5942 - accuracy: 0.7522 - val_loss: 0.6380 - val_accuracy: 0.6494\n",
      "Epoch 5/15\n",
      "154/154 [==============================] - 2s 12ms/step - loss: 0.5690 - accuracy: 0.7612 - val_loss: 0.5660 - val_accuracy: 0.7532\n",
      "Epoch 6/15\n",
      "154/154 [==============================] - 2s 12ms/step - loss: 0.5194 - accuracy: 0.8026 - val_loss: 0.5576 - val_accuracy: 0.7468\n",
      "Epoch 7/15\n",
      "154/154 [==============================] - 2s 12ms/step - loss: 0.4857 - accuracy: 0.8270 - val_loss: 0.5370 - val_accuracy: 0.7662\n",
      "Epoch 8/15\n",
      "154/154 [==============================] - 2s 12ms/step - loss: 0.4421 - accuracy: 0.8489 - val_loss: 0.5424 - val_accuracy: 0.7435\n",
      "Epoch 9/15\n",
      "154/154 [==============================] - 2s 12ms/step - loss: 0.4104 - accuracy: 0.8587 - val_loss: 0.5402 - val_accuracy: 0.7468\n",
      "6/6 [==============================] - 0s 4ms/step\n",
      "6/6 [==============================] - 0s 7ms/step - loss: 0.5670 - accuracy: 0.7251\n",
      "Model: \"sequential_15\"\n",
      "_________________________________________________________________\n",
      " Layer (type)                Output Shape              Param #   \n",
      "=================================================================\n",
      " embedding_15 (Embedding)    (None, 64, 100)           806300    \n",
      "                                                                 \n",
      " lstm_15 (LSTM)              (None, 64)                42240     \n",
      "                                                                 \n",
      " dropout_30 (Dropout)        (None, 64)                0         \n",
      "                                                                 \n",
      " FC1 (Dense)                 (None, 64)                4160      \n",
      "                                                                 \n",
      " dropout_31 (Dropout)        (None, 64)                0         \n",
      "                                                                 \n",
      " FC2 (Dense)                 (None, 2)                 130       \n",
      "                                                                 \n",
      "=================================================================\n",
      "Total params: 852,830\n",
      "Trainable params: 852,830\n",
      "Non-trainable params: 0\n",
      "_________________________________________________________________\n",
      "Epoch 1/15\n",
      "154/154 [==============================] - 3s 15ms/step - loss: 0.6854 - accuracy: 0.5630 - val_loss: 0.6555 - val_accuracy: 0.7208\n",
      "Epoch 2/15\n",
      "154/154 [==============================] - 2s 12ms/step - loss: 0.6473 - accuracy: 0.6783 - val_loss: 0.6148 - val_accuracy: 0.7565\n",
      "Epoch 3/15\n",
      "154/154 [==============================] - 2s 12ms/step - loss: 0.6112 - accuracy: 0.7124 - val_loss: 0.6181 - val_accuracy: 0.7013\n",
      "Epoch 4/15\n",
      "154/154 [==============================] - 2s 12ms/step - loss: 0.5654 - accuracy: 0.7579 - val_loss: 0.5685 - val_accuracy: 0.7435\n",
      "Epoch 5/15\n",
      "154/154 [==============================] - 2s 12ms/step - loss: 0.5354 - accuracy: 0.7855 - val_loss: 0.5597 - val_accuracy: 0.7500\n",
      "Epoch 6/15\n",
      "154/154 [==============================] - 2s 12ms/step - loss: 0.4972 - accuracy: 0.8172 - val_loss: 0.5351 - val_accuracy: 0.7727\n",
      "Epoch 7/15\n",
      "154/154 [==============================] - 2s 12ms/step - loss: 0.4692 - accuracy: 0.8205 - val_loss: 0.5468 - val_accuracy: 0.7500\n",
      "Epoch 8/15\n",
      "154/154 [==============================] - 2s 11ms/step - loss: 0.4113 - accuracy: 0.8635 - val_loss: 0.5411 - val_accuracy: 0.7500\n",
      "6/6 [==============================] - 0s 7ms/step\n",
      "6/6 [==============================] - 0s 6ms/step - loss: 0.5980 - accuracy: 0.6901\n",
      "Model: \"sequential_16\"\n",
      "_________________________________________________________________\n",
      " Layer (type)                Output Shape              Param #   \n",
      "=================================================================\n",
      " embedding_16 (Embedding)    (None, 64, 100)           806300    \n",
      "                                                                 \n",
      " lstm_16 (LSTM)              (None, 64)                42240     \n",
      "                                                                 \n",
      " dropout_32 (Dropout)        (None, 64)                0         \n",
      "                                                                 \n",
      " FC1 (Dense)                 (None, 64)                4160      \n",
      "                                                                 \n",
      " dropout_33 (Dropout)        (None, 64)                0         \n",
      "                                                                 \n",
      " FC2 (Dense)                 (None, 2)                 130       \n",
      "                                                                 \n",
      "=================================================================\n",
      "Total params: 852,830\n",
      "Trainable params: 852,830\n",
      "Non-trainable params: 0\n",
      "_________________________________________________________________\n",
      "Epoch 1/15\n",
      "154/154 [==============================] - 3s 13ms/step - loss: 0.6842 - accuracy: 0.5686 - val_loss: 0.6987 - val_accuracy: 0.5260\n",
      "Epoch 2/15\n",
      "154/154 [==============================] - 2s 12ms/step - loss: 0.6456 - accuracy: 0.6832 - val_loss: 0.6492 - val_accuracy: 0.6364\n",
      "Epoch 3/15\n",
      "154/154 [==============================] - 2s 12ms/step - loss: 0.6108 - accuracy: 0.7189 - val_loss: 0.5954 - val_accuracy: 0.7143\n",
      "Epoch 4/15\n",
      "154/154 [==============================] - 2s 11ms/step - loss: 0.5832 - accuracy: 0.7457 - val_loss: 0.5978 - val_accuracy: 0.7078\n",
      "Epoch 5/15\n",
      "154/154 [==============================] - 2s 13ms/step - loss: 0.5524 - accuracy: 0.7807 - val_loss: 0.5838 - val_accuracy: 0.7273\n",
      "Epoch 6/15\n",
      "154/154 [==============================] - 2s 12ms/step - loss: 0.5186 - accuracy: 0.7920 - val_loss: 0.6766 - val_accuracy: 0.6299\n",
      "Epoch 7/15\n",
      "154/154 [==============================] - 2s 11ms/step - loss: 0.4769 - accuracy: 0.8286 - val_loss: 0.5472 - val_accuracy: 0.7565\n",
      "Epoch 8/15\n",
      "154/154 [==============================] - 2s 12ms/step - loss: 0.4311 - accuracy: 0.8473 - val_loss: 0.5217 - val_accuracy: 0.7727\n",
      "Epoch 9/15\n",
      "154/154 [==============================] - 2s 12ms/step - loss: 0.3964 - accuracy: 0.8668 - val_loss: 0.5409 - val_accuracy: 0.7435\n",
      "Epoch 10/15\n",
      "154/154 [==============================] - 2s 12ms/step - loss: 0.3569 - accuracy: 0.8830 - val_loss: 0.5325 - val_accuracy: 0.7435\n"
     ]
    },
    {
     "name": "stdout",
     "output_type": "stream",
     "text": [
      "6/6 [==============================] - 0s 6ms/step\n",
      "6/6 [==============================] - 0s 5ms/step - loss: 0.5895 - accuracy: 0.6959\n",
      "Model: \"sequential_17\"\n",
      "_________________________________________________________________\n",
      " Layer (type)                Output Shape              Param #   \n",
      "=================================================================\n",
      " embedding_17 (Embedding)    (None, 64, 100)           806300    \n",
      "                                                                 \n",
      " lstm_17 (LSTM)              (None, 64)                42240     \n",
      "                                                                 \n",
      " dropout_34 (Dropout)        (None, 64)                0         \n",
      "                                                                 \n",
      " FC1 (Dense)                 (None, 64)                4160      \n",
      "                                                                 \n",
      " dropout_35 (Dropout)        (None, 64)                0         \n",
      "                                                                 \n",
      " FC2 (Dense)                 (None, 2)                 130       \n",
      "                                                                 \n",
      "=================================================================\n",
      "Total params: 852,830\n",
      "Trainable params: 852,830\n",
      "Non-trainable params: 0\n",
      "_________________________________________________________________\n",
      "Epoch 1/15\n",
      "154/154 [==============================] - 3s 14ms/step - loss: 0.6845 - accuracy: 0.5776 - val_loss: 0.6566 - val_accuracy: 0.7175\n",
      "Epoch 2/15\n",
      "154/154 [==============================] - 2s 12ms/step - loss: 0.6536 - accuracy: 0.6588 - val_loss: 0.6284 - val_accuracy: 0.7175\n",
      "Epoch 3/15\n",
      "154/154 [==============================] - 2s 12ms/step - loss: 0.6137 - accuracy: 0.7189 - val_loss: 0.6027 - val_accuracy: 0.7078\n",
      "Epoch 4/15\n",
      "154/154 [==============================] - 2s 13ms/step - loss: 0.5693 - accuracy: 0.7628 - val_loss: 0.5735 - val_accuracy: 0.7403\n",
      "Epoch 5/15\n",
      "154/154 [==============================] - 2s 14ms/step - loss: 0.5325 - accuracy: 0.7920 - val_loss: 0.5610 - val_accuracy: 0.7532\n",
      "Epoch 6/15\n",
      "154/154 [==============================] - 2s 13ms/step - loss: 0.4810 - accuracy: 0.8237 - val_loss: 0.6185 - val_accuracy: 0.6786\n",
      "Epoch 7/15\n",
      "154/154 [==============================] - 2s 13ms/step - loss: 0.4541 - accuracy: 0.8432 - val_loss: 0.5508 - val_accuracy: 0.7500\n",
      "Epoch 8/15\n",
      "154/154 [==============================] - 2s 15ms/step - loss: 0.4062 - accuracy: 0.8749 - val_loss: 0.5131 - val_accuracy: 0.7727\n",
      "Epoch 9/15\n",
      "154/154 [==============================] - 2s 13ms/step - loss: 0.3644 - accuracy: 0.8846 - val_loss: 0.5216 - val_accuracy: 0.7760\n",
      "Epoch 10/15\n",
      "154/154 [==============================] - 2s 12ms/step - loss: 0.3348 - accuracy: 0.8976 - val_loss: 0.5423 - val_accuracy: 0.7565\n",
      "6/6 [==============================] - 0s 6ms/step\n",
      "6/6 [==============================] - 0s 7ms/step - loss: 0.6018 - accuracy: 0.7076\n",
      "Model: \"sequential_18\"\n",
      "_________________________________________________________________\n",
      " Layer (type)                Output Shape              Param #   \n",
      "=================================================================\n",
      " embedding_18 (Embedding)    (None, 64, 100)           806300    \n",
      "                                                                 \n",
      " lstm_18 (LSTM)              (None, 64)                42240     \n",
      "                                                                 \n",
      " dropout_36 (Dropout)        (None, 64)                0         \n",
      "                                                                 \n",
      " FC1 (Dense)                 (None, 64)                4160      \n",
      "                                                                 \n",
      " dropout_37 (Dropout)        (None, 64)                0         \n",
      "                                                                 \n",
      " FC2 (Dense)                 (None, 2)                 130       \n",
      "                                                                 \n",
      "=================================================================\n",
      "Total params: 852,830\n",
      "Trainable params: 852,830\n",
      "Non-trainable params: 0\n",
      "_________________________________________________________________\n",
      "Epoch 1/15\n",
      "154/154 [==============================] - 3s 14ms/step - loss: 0.6863 - accuracy: 0.5670 - val_loss: 0.6726 - val_accuracy: 0.6331\n",
      "Epoch 2/15\n",
      "154/154 [==============================] - 2s 13ms/step - loss: 0.6504 - accuracy: 0.6775 - val_loss: 0.6488 - val_accuracy: 0.6364\n",
      "Epoch 3/15\n",
      "154/154 [==============================] - 2s 13ms/step - loss: 0.6544 - accuracy: 0.6556 - val_loss: 0.6039 - val_accuracy: 0.7500\n",
      "Epoch 4/15\n",
      "154/154 [==============================] - 2s 13ms/step - loss: 0.5968 - accuracy: 0.7319 - val_loss: 0.5838 - val_accuracy: 0.7240\n",
      "Epoch 5/15\n",
      "154/154 [==============================] - 2s 12ms/step - loss: 0.5673 - accuracy: 0.7669 - val_loss: 0.5790 - val_accuracy: 0.7143\n",
      "Epoch 6/15\n",
      "154/154 [==============================] - 2s 11ms/step - loss: 0.5151 - accuracy: 0.8058 - val_loss: 0.6304 - val_accuracy: 0.6656\n",
      "Epoch 7/15\n",
      "154/154 [==============================] - 2s 11ms/step - loss: 0.4787 - accuracy: 0.8229 - val_loss: 0.5372 - val_accuracy: 0.7597\n",
      "Epoch 8/15\n",
      "154/154 [==============================] - 2s 12ms/step - loss: 0.4417 - accuracy: 0.8562 - val_loss: 0.6261 - val_accuracy: 0.6623\n",
      "Epoch 9/15\n",
      "154/154 [==============================] - 2s 13ms/step - loss: 0.4104 - accuracy: 0.8700 - val_loss: 0.5380 - val_accuracy: 0.7565\n",
      "6/6 [==============================] - 0s 6ms/step\n",
      "6/6 [==============================] - 0s 6ms/step - loss: 0.5944 - accuracy: 0.7135\n",
      "Model: \"sequential_19\"\n",
      "_________________________________________________________________\n",
      " Layer (type)                Output Shape              Param #   \n",
      "=================================================================\n",
      " embedding_19 (Embedding)    (None, 64, 100)           806300    \n",
      "                                                                 \n",
      " lstm_19 (LSTM)              (None, 64)                42240     \n",
      "                                                                 \n",
      " dropout_38 (Dropout)        (None, 64)                0         \n",
      "                                                                 \n",
      " FC1 (Dense)                 (None, 64)                4160      \n",
      "                                                                 \n",
      " dropout_39 (Dropout)        (None, 64)                0         \n",
      "                                                                 \n",
      " FC2 (Dense)                 (None, 2)                 130       \n",
      "                                                                 \n",
      "=================================================================\n",
      "Total params: 852,830\n",
      "Trainable params: 852,830\n",
      "Non-trainable params: 0\n",
      "_________________________________________________________________\n",
      "Epoch 1/15\n",
      "154/154 [==============================] - 3s 13ms/step - loss: 0.6865 - accuracy: 0.5524 - val_loss: 0.6505 - val_accuracy: 0.7532\n",
      "Epoch 2/15\n",
      "154/154 [==============================] - 2s 12ms/step - loss: 0.6485 - accuracy: 0.6621 - val_loss: 0.6621 - val_accuracy: 0.6071\n",
      "Epoch 3/15\n",
      "154/154 [==============================] - 2s 12ms/step - loss: 0.6116 - accuracy: 0.7051 - val_loss: 0.6493 - val_accuracy: 0.6429\n",
      "Epoch 4/15\n",
      "154/154 [==============================] - 2s 12ms/step - loss: 0.5802 - accuracy: 0.7571 - val_loss: 0.5763 - val_accuracy: 0.7468\n",
      "Epoch 5/15\n",
      "154/154 [==============================] - 2s 12ms/step - loss: 0.5427 - accuracy: 0.7847 - val_loss: 0.5938 - val_accuracy: 0.7110\n",
      "Epoch 6/15\n",
      "154/154 [==============================] - 2s 12ms/step - loss: 0.5022 - accuracy: 0.8140 - val_loss: 0.5792 - val_accuracy: 0.7338\n",
      "6/6 [==============================] - 0s 6ms/step\n",
      "6/6 [==============================] - 0s 6ms/step - loss: 0.6377 - accuracy: 0.6784\n",
      "Model: \"sequential_20\"\n",
      "_________________________________________________________________\n",
      " Layer (type)                Output Shape              Param #   \n",
      "=================================================================\n",
      " embedding_20 (Embedding)    (None, 64, 100)           806300    \n",
      "                                                                 \n",
      " lstm_20 (LSTM)              (None, 64)                42240     \n",
      "                                                                 \n"
     ]
    },
    {
     "name": "stdout",
     "output_type": "stream",
     "text": [
      " dropout_40 (Dropout)        (None, 64)                0         \n",
      "                                                                 \n",
      " FC1 (Dense)                 (None, 64)                4160      \n",
      "                                                                 \n",
      " dropout_41 (Dropout)        (None, 64)                0         \n",
      "                                                                 \n",
      " FC2 (Dense)                 (None, 2)                 130       \n",
      "                                                                 \n",
      "=================================================================\n",
      "Total params: 852,830\n",
      "Trainable params: 852,830\n",
      "Non-trainable params: 0\n",
      "_________________________________________________________________\n",
      "Epoch 1/15\n",
      "154/154 [==============================] - 3s 15ms/step - loss: 0.6892 - accuracy: 0.5475 - val_loss: 0.6847 - val_accuracy: 0.5357\n",
      "Epoch 2/15\n",
      "154/154 [==============================] - 2s 12ms/step - loss: 0.6579 - accuracy: 0.6596 - val_loss: 0.6220 - val_accuracy: 0.7435\n",
      "Epoch 3/15\n",
      "154/154 [==============================] - 2s 12ms/step - loss: 0.6320 - accuracy: 0.6881 - val_loss: 0.6533 - val_accuracy: 0.6136\n",
      "Epoch 4/15\n",
      "154/154 [==============================] - 2s 12ms/step - loss: 0.5883 - accuracy: 0.7433 - val_loss: 0.5874 - val_accuracy: 0.7370\n",
      "Epoch 5/15\n",
      "154/154 [==============================] - 2s 12ms/step - loss: 0.5490 - accuracy: 0.7799 - val_loss: 0.6109 - val_accuracy: 0.6786\n",
      "Epoch 6/15\n",
      "154/154 [==============================] - 2s 12ms/step - loss: 0.5159 - accuracy: 0.7945 - val_loss: 0.5630 - val_accuracy: 0.7565\n",
      "Epoch 7/15\n",
      "154/154 [==============================] - 2s 12ms/step - loss: 0.4672 - accuracy: 0.8367 - val_loss: 0.5452 - val_accuracy: 0.7565\n",
      "Epoch 8/15\n",
      "154/154 [==============================] - 2s 12ms/step - loss: 0.4206 - accuracy: 0.8513 - val_loss: 0.5470 - val_accuracy: 0.7468\n",
      "Epoch 9/15\n",
      "154/154 [==============================] - 2s 12ms/step - loss: 0.3791 - accuracy: 0.8806 - val_loss: 0.5253 - val_accuracy: 0.7662\n",
      "Epoch 10/15\n",
      "154/154 [==============================] - 2s 11ms/step - loss: 0.3342 - accuracy: 0.9001 - val_loss: 0.5858 - val_accuracy: 0.7013\n",
      "Epoch 11/15\n",
      "154/154 [==============================] - 2s 12ms/step - loss: 0.3058 - accuracy: 0.9155 - val_loss: 0.5303 - val_accuracy: 0.7630\n",
      "6/6 [==============================] - 0s 5ms/step\n",
      "6/6 [==============================] - 0s 6ms/step - loss: 0.5791 - accuracy: 0.7251\n"
     ]
    }
   ],
   "source": [
    "score_list=[]\n",
    "for i in range(10):\n",
    "    ## 定义LSTM模型\n",
    "    batch_size=8\n",
    "    inputs = Input(name='inputs',shape=[maxLen])\n",
    "    embedder = Embedding(len(vocab) + 1, 100, input_length=maxLen, weights=[embedding_matrix], trainable=True)\n",
    "    model=Sequential()\n",
    "    model.add(embedder)\n",
    "    model.add(LSTM(64))\n",
    "    model.add(Dropout(0.4,seed=12))\n",
    "    model.add(Dense(64,activation=\"softmax\",name=\"FC1\"))\n",
    "    model.add(Dropout(0.4,seed=12))\n",
    "    model.add(Dense(2,activation=\"softmax\",name=\"FC2\"))\n",
    "    model.summary()\n",
    "    model.compile(loss=\"categorical_crossentropy\",optimizer=RMSprop(),metrics=[\"accuracy\"])\n",
    "    #reduce_lr = ReduceLROnPlateau(monitor='val_loss',factor=0.1 ,patience=3, mode='auto')\n",
    "    history=model.fit(trainSeq, trainCate, batch_size, epochs=15,validation_split=0.2, callbacks=[EarlyStopping(monitor='val_loss',patience=2)])\n",
    "    result = model.predict(testSeq)  # 预测样本属于每个类别的概率\n",
    "    score = model.evaluate(testSeq,\n",
    "                               testCate,\n",
    "                               batch_size=32)\n",
    "    score_list.append(score[1])"
   ]
  },
  {
   "cell_type": "code",
   "execution_count": 27,
   "id": "7a7fbe16",
   "metadata": {},
   "outputs": [
    {
     "name": "stdout",
     "output_type": "stream",
     "text": [
      "accuracy:0.7064327418804168\n"
     ]
    }
   ],
   "source": [
    "print('accuracy:'+str(sum(score_list)/len(score_list)))"
   ]
  },
  {
   "cell_type": "code",
   "execution_count": 28,
   "id": "c717fe6f",
   "metadata": {},
   "outputs": [],
   "source": [
    "score_list.sort()"
   ]
  },
  {
   "cell_type": "code",
   "execution_count": 29,
   "id": "205e3cfa",
   "metadata": {},
   "outputs": [
    {
     "data": {
      "text/plain": [
       "[0.6783625483512878,\n",
       " 0.6900584697723389,\n",
       " 0.6959064602851868,\n",
       " 0.707602322101593,\n",
       " 0.707602322101593,\n",
       " 0.707602322101593,\n",
       " 0.7134503126144409,\n",
       " 0.7134503126144409,\n",
       " 0.7251461744308472,\n",
       " 0.7251461744308472]"
      ]
     },
     "execution_count": 29,
     "metadata": {},
     "output_type": "execute_result"
    }
   ],
   "source": [
    "score_list"
   ]
  },
  {
   "cell_type": "code",
   "execution_count": 32,
   "id": "8163c552",
   "metadata": {},
   "outputs": [
    {
     "data": {
      "text/plain": [
       "0.7982456088066101"
      ]
     },
     "execution_count": 32,
     "metadata": {},
     "output_type": "execute_result"
    }
   ],
   "source": [
    "sum(score_list[1:])/8"
   ]
  },
  {
   "cell_type": "code",
   "execution_count": null,
   "id": "983e9a74",
   "metadata": {},
   "outputs": [],
   "source": []
  }
 ],
 "metadata": {
  "kernelspec": {
   "display_name": "Python 3 (ipykernel)",
   "language": "python",
   "name": "python3"
  },
  "language_info": {
   "codemirror_mode": {
    "name": "ipython",
    "version": 3
   },
   "file_extension": ".py",
   "mimetype": "text/x-python",
   "name": "python",
   "nbconvert_exporter": "python",
   "pygments_lexer": "ipython3",
   "version": "3.10.6"
  }
 },
 "nbformat": 4,
 "nbformat_minor": 5
}
